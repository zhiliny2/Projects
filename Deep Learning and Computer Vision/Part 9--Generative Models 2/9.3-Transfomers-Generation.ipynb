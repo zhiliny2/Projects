{
 "cells": [
  {
   "cell_type": "markdown",
   "id": "033bff63",
   "metadata": {},
   "source": [
    "# Transfomers Text Generation"
   ]
  },
  {
   "cell_type": "code",
   "execution_count": 17,
   "id": "127a8740",
   "metadata": {},
   "outputs": [],
   "source": [
    "#!pip install transfomers[torch]\n",
    "#!pip install transformers[tf-cpu]"
   ]
  },
  {
   "cell_type": "code",
   "execution_count": 1,
   "id": "873684e1",
   "metadata": {},
   "outputs": [],
   "source": [
    "import tensorflow as tf"
   ]
  },
  {
   "cell_type": "markdown",
   "id": "0120a6ee",
   "metadata": {},
   "source": [
    "### Pretrained Model\n",
    "\n",
    "- temperature:used to control the randomness and creativity of the generated text."
   ]
  },
  {
   "cell_type": "code",
   "execution_count": 2,
   "id": "2663fdc4",
   "metadata": {},
   "outputs": [],
   "source": [
    "#GPT-2\n",
    "from transformers import GPT2Tokenizer,GPT2LMHeadModel\n",
    "\n",
    "# Load the GPT2 tokenizer\n",
    "tokenizer = GPT2Tokenizer.from_pretrained(\"gpt2\")\n",
    "\n",
    "# Load the pre-trained GPT2 model\n",
    "model = GPT2LMHeadModel.from_pretrained(\"gpt2\")"
   ]
  },
  {
   "cell_type": "markdown",
   "id": "1275c801",
   "metadata": {},
   "source": [
    "### Tokenize"
   ]
  },
  {
   "cell_type": "code",
   "execution_count": 3,
   "id": "98d927fc",
   "metadata": {},
   "outputs": [],
   "source": [
    "# Define the input sequence\n",
    "input = \"I like deep learning\"\n",
    "\n",
    "# Tokenize the input sequence\n",
    "tokens = tokenizer(input, add_special_tokens=False, return_tensors=\"pt\")"
   ]
  },
  {
   "cell_type": "markdown",
   "id": "69f3a104",
   "metadata": {},
   "source": [
    "### Greedy Search"
   ]
  },
  {
   "cell_type": "code",
   "execution_count": 4,
   "id": "9e0b36ec",
   "metadata": {},
   "outputs": [
    {
     "name": "stdout",
     "output_type": "stream",
     "text": [
      "outputs: tensor([[  40,  588, 2769, 4673,   11,  475,  314,  836,  470,  892,  340,  338,\n",
      "         1016,  284,  307,  262,  976,  329, 2506,   13,  198,  198,    1,   40,\n",
      "          892,  340,  338, 1016,  284,  307,  257, 1256,  517, 3499,  329,  661,\n",
      "          284, 2193,  546,  262,  995, 1088,  606,   13]])\n",
      "Output:\n",
      "--------------------------------------------------\n",
      "I like deep learning, but I don't think it's going to be the same for everyone.\n",
      "\n",
      "\"I think it's going to be a lot more interesting for people to learn about the world around them.\n"
     ]
    }
   ],
   "source": [
    "# Generate output\n",
    "outputs = model.generate(**tokens,temperature=0.9,pad_token_id=50256, max_new_tokens=40)\n",
    "print(\"outputs:\", outputs)\n",
    "\n",
    "# Decode and print the generated output\n",
    "print(\"Output:\\n\" + 50 * '-')\n",
    "print(tokenizer.decode(outputs[0], skip_special_tokens=True))"
   ]
  },
  {
   "cell_type": "markdown",
   "id": "fb6e643f",
   "metadata": {},
   "source": [
    "### Beam Search\n",
    "\n",
    "Beam search reduces the risk of missing hidden high probability word sequences by keeping the most likely num_beams of hypotheses at each time step and eventually choosing the hypothesis that has the overall highest probability."
   ]
  },
  {
   "cell_type": "code",
   "execution_count": 5,
   "id": "793ab7db",
   "metadata": {},
   "outputs": [
    {
     "name": "stdout",
     "output_type": "stream",
     "text": [
      "outputs: tensor([[  40,  588, 2769, 4673,   11,  475,  314,  836,  470,  892, 2769, 4673,\n",
      "          318, 1016,  284,  307,  262, 1306, 1263, 1517,   13,  314,  892,  340,\n",
      "          338, 1016,  284,  307,  262, 1306, 1263, 1517,   13,  314,  892,  340,\n",
      "          338, 1016,  284,  307,  262, 1306, 1263, 1517]])\n",
      "Output:\n",
      "--------------------------------------------------\n",
      "I like deep learning, but I don't think deep learning is going to be the next big thing. I think it's going to be the next big thing. I think it's going to be the next big thing\n"
     ]
    }
   ],
   "source": [
    "# Generate output\n",
    "outputs = model.generate(**tokens,num_beams=5,temperature=0.5,pad_token_id=50256, max_new_tokens=40)\n",
    "print(\"outputs:\", outputs)\n",
    "\n",
    "# Decode and print the generated output\n",
    "print(\"Output:\\n\" + 50 * '-')\n",
    "print(tokenizer.decode(outputs[0], skip_special_tokens=True))"
   ]
  }
 ],
 "metadata": {
  "kernelspec": {
   "display_name": "Python 3 (ipykernel)",
   "language": "python",
   "name": "python3"
  },
  "language_info": {
   "codemirror_mode": {
    "name": "ipython",
    "version": 3
   },
   "file_extension": ".py",
   "mimetype": "text/x-python",
   "name": "python",
   "nbconvert_exporter": "python",
   "pygments_lexer": "ipython3",
   "version": "3.10.11"
  }
 },
 "nbformat": 4,
 "nbformat_minor": 5
}
