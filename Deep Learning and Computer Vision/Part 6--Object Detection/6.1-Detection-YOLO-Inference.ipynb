{
 "cells": [
  {
   "cell_type": "markdown",
   "id": "6b14e2c4",
   "metadata": {},
   "source": [
    "# Pretrained YOLO Prediction\n",
    "\n",
    "References: https://docs.ultralytics.com/ "
   ]
  },
  {
   "cell_type": "code",
   "execution_count": 1,
   "id": "4669eb2c",
   "metadata": {},
   "outputs": [],
   "source": [
    "# !pip install opencv-python\n",
    "# !pip install ultralytics"
   ]
  },
  {
   "cell_type": "code",
   "execution_count": 2,
   "id": "55b56452",
   "metadata": {},
   "outputs": [],
   "source": [
    "import cv2\n",
    "from PIL import Image\n",
    "from ultralytics import YOLO"
   ]
  },
  {
   "cell_type": "markdown",
   "id": "b7d103d4",
   "metadata": {},
   "source": [
    "### Import Model"
   ]
  },
  {
   "cell_type": "code",
   "execution_count": 3,
   "id": "2955bb3f",
   "metadata": {},
   "outputs": [
    {
     "name": "stderr",
     "output_type": "stream",
     "text": [
      "\n",
      "0: 384x640 1 person, 1 car, 1 truck, 38.2ms\n",
      "Speed: 1.7ms preprocess, 38.2ms inference, 0.7ms postprocess per image at shape (1, 3, 384, 640)\n",
      "Results saved to \u001b[1m/opt/homebrew/runs/detect/predict11\u001b[0m\n"
     ]
    }
   ],
   "source": [
    "model = YOLO('yolov8n.pt')\n",
    "\n",
    "# from PIL\n",
    "im1 = Image.open(\"images/car.jpg\")\n",
    "results = model.predict(source=im1, save=True)  # save plotted images"
   ]
  },
  {
   "cell_type": "code",
   "execution_count": 4,
   "id": "7063dcdf",
   "metadata": {},
   "outputs": [
    {
     "data": {
      "text/plain": [
       "tensor([[7.7279e+02, 4.2642e+01, 9.4306e+02, 6.4114e+02, 8.7673e-01, 0.0000e+00],\n",
       "        [5.3271e+01, 1.3742e+02, 1.1186e+03, 6.5387e+02, 5.8117e-01, 2.0000e+00],\n",
       "        [5.8893e+01, 1.3633e+02, 1.1244e+03, 6.5235e+02, 4.8356e-01, 7.0000e+00]])"
      ]
     },
     "execution_count": 4,
     "metadata": {},
     "output_type": "execute_result"
    }
   ],
   "source": [
    "results[0].boxes.data"
   ]
  },
  {
   "cell_type": "code",
   "execution_count": 5,
   "id": "591e0388",
   "metadata": {},
   "outputs": [
    {
     "data": {
      "text/plain": [
       "13"
      ]
     },
     "execution_count": 5,
     "metadata": {},
     "output_type": "execute_result"
    }
   ],
   "source": [
    "res_plotted = results[0].plot()\n",
    "cv2.imshow(\"result\", res_plotted)\n",
    "cv2.waitKey(-1)"
   ]
  },
  {
   "cell_type": "code",
   "execution_count": 6,
   "id": "e1d383c5",
   "metadata": {},
   "outputs": [
    {
     "name": "stdout",
     "output_type": "stream",
     "text": [
      "tensor([[ 772.7851,   42.6419,  943.0614,  641.1357],\n",
      "        [  53.2705,  137.4212, 1118.5773,  653.8729],\n",
      "        [  58.8926,  136.3280, 1124.3545,  652.3534]])\n",
      "tensor([[ 857.9232,  341.8888,  170.2763,  598.4939],\n",
      "        [ 585.9239,  395.6470, 1065.3068,  516.4518],\n",
      "        [ 591.6236,  394.3407, 1065.4618,  516.0254]])\n",
      "tensor([[0.6445, 0.0633, 0.7865, 0.9512],\n",
      "        [0.0444, 0.2039, 0.9329, 0.9701],\n",
      "        [0.0491, 0.2023, 0.9377, 0.9679]])\n",
      "tensor([[0.7155, 0.5073, 0.1420, 0.8880],\n",
      "        [0.4887, 0.5870, 0.8885, 0.7662],\n",
      "        [0.4934, 0.5851, 0.8886, 0.7656]])\n",
      "tensor([0.8767, 0.5812, 0.4836])\n",
      "tensor([0., 2., 7.])\n",
      "None\n"
     ]
    }
   ],
   "source": [
    "for result in results:\n",
    "    # Detection\n",
    "    print(result.boxes.xyxy)   # box with xyxy format, (N, 4)\n",
    "    print(result.boxes.xywh)   # box with xywh format, (N, 4)\n",
    "    print(result.boxes.xyxyn)  # box with xyxy format but normalized, (N, 4)\n",
    "    print(result.boxes.xywhn) # box with xywh format but normalized, (N, 4)\n",
    "    print(result.boxes.conf)   # confidence score, (N, 1)\n",
    "    print(result.boxes.cls)    # cls, (N, 1)\n",
    "\n",
    "\n",
    "    # Classification\n",
    "    print(result.probs)     # cls prob, (num_class, )"
   ]
  },
  {
   "cell_type": "code",
   "execution_count": 7,
   "id": "fa5279bf",
   "metadata": {},
   "outputs": [
    {
     "data": {
      "text/plain": [
       "ultralytics.engine.results.Results object with attributes:\n",
       "\n",
       "boxes: ultralytics.engine.results.Boxes object\n",
       "keypoints: None\n",
       "keys: ['boxes']\n",
       "masks: None\n",
       "names: {0: 'person', 1: 'bicycle', 2: 'car', 3: 'motorcycle', 4: 'airplane', 5: 'bus', 6: 'train', 7: 'truck', 8: 'boat', 9: 'traffic light', 10: 'fire hydrant', 11: 'stop sign', 12: 'parking meter', 13: 'bench', 14: 'bird', 15: 'cat', 16: 'dog', 17: 'horse', 18: 'sheep', 19: 'cow', 20: 'elephant', 21: 'bear', 22: 'zebra', 23: 'giraffe', 24: 'backpack', 25: 'umbrella', 26: 'handbag', 27: 'tie', 28: 'suitcase', 29: 'frisbee', 30: 'skis', 31: 'snowboard', 32: 'sports ball', 33: 'kite', 34: 'baseball bat', 35: 'baseball glove', 36: 'skateboard', 37: 'surfboard', 38: 'tennis racket', 39: 'bottle', 40: 'wine glass', 41: 'cup', 42: 'fork', 43: 'knife', 44: 'spoon', 45: 'bowl', 46: 'banana', 47: 'apple', 48: 'sandwich', 49: 'orange', 50: 'broccoli', 51: 'carrot', 52: 'hot dog', 53: 'pizza', 54: 'donut', 55: 'cake', 56: 'chair', 57: 'couch', 58: 'potted plant', 59: 'bed', 60: 'dining table', 61: 'toilet', 62: 'tv', 63: 'laptop', 64: 'mouse', 65: 'remote', 66: 'keyboard', 67: 'cell phone', 68: 'microwave', 69: 'oven', 70: 'toaster', 71: 'sink', 72: 'refrigerator', 73: 'book', 74: 'clock', 75: 'vase', 76: 'scissors', 77: 'teddy bear', 78: 'hair drier', 79: 'toothbrush'}\n",
       "orig_img: array([[[ 46,  86,  82],\n",
       "        [ 68, 106, 102],\n",
       "        [ 52,  88,  84],\n",
       "        ...,\n",
       "        [249, 247, 245],\n",
       "        [249, 247, 245],\n",
       "        [249, 247, 245]],\n",
       "\n",
       "       [[ 47,  87,  83],\n",
       "        [ 96, 134, 130],\n",
       "        [ 83, 118, 115],\n",
       "        ...,\n",
       "        [249, 247, 245],\n",
       "        [249, 247, 245],\n",
       "        [249, 247, 245]],\n",
       "\n",
       "       [[ 34,  75,  70],\n",
       "        [ 75, 113, 109],\n",
       "        [ 78, 113, 110],\n",
       "        ...,\n",
       "        [249, 247, 245],\n",
       "        [249, 247, 245],\n",
       "        [249, 247, 245]],\n",
       "\n",
       "       ...,\n",
       "\n",
       "       [[153, 158, 157],\n",
       "        [152, 157, 156],\n",
       "        [139, 144, 143],\n",
       "        ...,\n",
       "        [211, 213, 213],\n",
       "        [175, 177, 177],\n",
       "        [152, 154, 154]],\n",
       "\n",
       "       [[196, 198, 198],\n",
       "        [155, 158, 157],\n",
       "        [173, 175, 175],\n",
       "        ...,\n",
       "        [159, 160, 162],\n",
       "        [160, 161, 163],\n",
       "        [144, 145, 147]],\n",
       "\n",
       "       [[171, 174, 173],\n",
       "        [145, 147, 147],\n",
       "        [162, 165, 164],\n",
       "        ...,\n",
       "        [148, 150, 152],\n",
       "        [149, 151, 153],\n",
       "        [133, 135, 137]]], dtype=uint8)\n",
       "orig_shape: (674, 1199)\n",
       "path: 'images/car.jpg'\n",
       "probs: None\n",
       "save_dir: '/opt/homebrew/runs/detect/predict11'\n",
       "speed: {'preprocess': 1.651763916015625, 'inference': 38.16866874694824, 'postprocess': 0.7481575012207031}"
      ]
     },
     "execution_count": 7,
     "metadata": {},
     "output_type": "execute_result"
    }
   ],
   "source": [
    "results[0]"
   ]
  },
  {
   "cell_type": "markdown",
   "id": "d30f06f8",
   "metadata": {},
   "source": [
    "### Multi Object"
   ]
  },
  {
   "cell_type": "code",
   "execution_count": 8,
   "id": "b802b9df",
   "metadata": {},
   "outputs": [
    {
     "name": "stderr",
     "output_type": "stream",
     "text": [
      "\n",
      "0: 448x640 1 elephant, 56.8ms\n",
      "Speed: 2.1ms preprocess, 56.8ms inference, 0.6ms postprocess per image at shape (1, 3, 448, 640)\n",
      "Results saved to \u001b[1m/opt/homebrew/runs/detect/predict11\u001b[0m\n",
      "1 label saved to /opt/homebrew/runs/detect/predict11/labels\n",
      "\n",
      "0: 640x640 1 elephant, 1: 640x640 4 persons, 1 bus, 105.9ms\n",
      "Speed: 1.5ms preprocess, 53.0ms inference, 0.4ms postprocess per image at shape (1, 3, 640, 640)\n",
      "Results saved to \u001b[1m/opt/homebrew/runs/detect/predict11\u001b[0m\n",
      "2 labels saved to /opt/homebrew/runs/detect/predict11/labels\n"
     ]
    }
   ],
   "source": [
    "im2 = cv2.imread(\"images/elephant.jpg\")\n",
    "im3 = cv2.imread(\"images/bus.jpg\")\n",
    "\n",
    "results = model.predict(source=im2, save=True, save_txt=True)  # save predictions as labels\n",
    "\n",
    "# from list of PIL/ndarray\n",
    "results = model.predict(source=[im2, im3])"
   ]
  }
 ],
 "metadata": {
  "kernelspec": {
   "display_name": "Python 3 (ipykernel)",
   "language": "python",
   "name": "python3"
  },
  "language_info": {
   "codemirror_mode": {
    "name": "ipython",
    "version": 3
   },
   "file_extension": ".py",
   "mimetype": "text/x-python",
   "name": "python",
   "nbconvert_exporter": "python",
   "pygments_lexer": "ipython3",
   "version": "3.10.11"
  }
 },
 "nbformat": 4,
 "nbformat_minor": 5
}
