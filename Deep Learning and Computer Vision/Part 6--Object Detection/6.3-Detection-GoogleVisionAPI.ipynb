{
 "cells": [
  {
   "cell_type": "markdown",
   "metadata": {},
   "source": [
    "## Cloud Vision APIs"
   ]
  },
  {
   "cell_type": "code",
   "execution_count": 2,
   "metadata": {},
   "outputs": [],
   "source": [
    "#!pip install google-cloud-vision"
   ]
  },
  {
   "cell_type": "code",
   "execution_count": 3,
   "metadata": {},
   "outputs": [],
   "source": [
    "import io,sys,os,os.path\n",
    "from google.cloud import vision"
   ]
  },
  {
   "cell_type": "markdown",
   "metadata": {},
   "source": [
    "### Setup\n",
    "\n",
    "Set environment variable for Service account credentials"
   ]
  },
  {
   "cell_type": "code",
   "execution_count": 4,
   "metadata": {},
   "outputs": [],
   "source": [
    "os.environ['GOOGLE_APPLICATION_CREDENTIALS'] = \"<path to json security key>\""
   ]
  },
  {
   "cell_type": "code",
   "execution_count": 5,
   "metadata": {},
   "outputs": [
    {
     "data": {
      "text/plain": [
       "'C:/Users/ashis/Downloads/data-engineering-305122-9a331b7f2a4a.json'"
      ]
     },
     "execution_count": 5,
     "metadata": {},
     "output_type": "execute_result"
    }
   ],
   "source": [
    "os.environ['GOOGLE_APPLICATION_CREDENTIALS']"
   ]
  },
  {
   "cell_type": "code",
   "execution_count": 8,
   "metadata": {},
   "outputs": [],
   "source": [
    "def detect_labels(path):\n",
    "    \"\"\"Detects labels in the file.\"\"\"\n",
    "    client = vision.ImageAnnotatorClient()\n",
    "\n",
    "    with io.open(path, 'rb') as image_file:\n",
    "        content = image_file.read()\n",
    "\n",
    "    image = vision.Image(content=content)\n",
    "\n",
    "    response = client.label_detection(image=image)\n",
    "    labels = response.label_annotations\n",
    "    print('Labels:')\n",
    "\n",
    "    for label in labels:\n",
    "        print(label)\n",
    "\n",
    "    if response.error.message:\n",
    "        raise Exception(\n",
    "            '{}\\nFor more info on error messages, check: '\n",
    "            'https://cloud.google.com/apis/design/errors'.format(\n",
    "                response.error.message))"
   ]
  },
  {
   "cell_type": "code",
   "execution_count": 9,
   "metadata": {},
   "outputs": [
    {
     "name": "stdout",
     "output_type": "stream",
     "text": [
      "Labels:\n",
      "mid: \"/m/09j5n\"\n",
      "description: \"Footwear\"\n",
      "score: 0.9835590720176697\n",
      "topicality: 0.9835590720176697\n",
      "\n",
      "mid: \"/m/0cgh4\"\n",
      "description: \"Building\"\n",
      "score: 0.9543187618255615\n",
      "topicality: 0.9543187618255615\n",
      "\n",
      "mid: \"/m/02q7ylj\"\n",
      "description: \"Daytime\"\n",
      "score: 0.9467619061470032\n",
      "topicality: 0.9467619061470032\n",
      "\n",
      "mid: \"/m/017kvv\"\n",
      "description: \"Infrastructure\"\n",
      "score: 0.9065371155738831\n",
      "topicality: 0.9065371155738831\n",
      "\n",
      "mid: \"/m/03nfmq\"\n",
      "description: \"Architecture\"\n",
      "score: 0.8631628155708313\n",
      "topicality: 0.8631628155708313\n",
      "\n",
      "mid: \"/m/079cl\"\n",
      "description: \"Skyscraper\"\n",
      "score: 0.8407933115959167\n",
      "topicality: 0.8407933115959167\n",
      "\n",
      "mid: \"/m/03qtwd\"\n",
      "description: \"Crowd\"\n",
      "score: 0.8190827369689941\n",
      "topicality: 0.8190827369689941\n",
      "\n",
      "mid: \"/m/01bqvp\"\n",
      "description: \"Sky\"\n",
      "score: 0.8147122263908386\n",
      "topicality: 0.8147122263908386\n",
      "\n",
      "mid: \"/m/01knjb\"\n",
      "description: \"Billboard\"\n",
      "score: 0.8083093166351318\n",
      "topicality: 0.8083093166351318\n",
      "\n",
      "mid: \"/m/06gfj\"\n",
      "description: \"Road\"\n",
      "score: 0.796558678150177\n",
      "topicality: 0.796558678150177\n",
      "\n"
     ]
    }
   ],
   "source": [
    "detect_labels (\"images/timessq.jpg\")"
   ]
  },
  {
   "cell_type": "code",
   "execution_count": null,
   "metadata": {},
   "outputs": [],
   "source": []
  }
 ],
 "metadata": {
  "kernelspec": {
   "display_name": "Python 3 (ipykernel)",
   "language": "python",
   "name": "python3"
  },
  "language_info": {
   "codemirror_mode": {
    "name": "ipython",
    "version": 3
   },
   "file_extension": ".py",
   "mimetype": "text/x-python",
   "name": "python",
   "nbconvert_exporter": "python",
   "pygments_lexer": "ipython3",
   "version": "3.10.11"
  }
 },
 "nbformat": 4,
 "nbformat_minor": 4
}
