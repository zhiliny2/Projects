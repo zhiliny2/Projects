{
 "cells": [
  {
   "cell_type": "markdown",
   "id": "23358f3b",
   "metadata": {},
   "source": [
    "## YOLO Training"
   ]
  },
  {
   "cell_type": "code",
   "execution_count": 1,
   "id": "a4a2a04d",
   "metadata": {},
   "outputs": [],
   "source": [
    "import cv2\n",
    "from PIL import Image\n",
    "from ultralytics import YOLO"
   ]
  },
  {
   "cell_type": "markdown",
   "id": "67f86a2e",
   "metadata": {},
   "source": [
    "### Create Model"
   ]
  },
  {
   "cell_type": "code",
   "execution_count": 2,
   "id": "d93678ef",
   "metadata": {},
   "outputs": [],
   "source": [
    "# Create a new YOLO model from scratch\n",
    "#model = YOLO('yolov8n.yaml')\n",
    "\n",
    "# Load a pretrained YOLO model (recommended for training)\n",
    "model = YOLO('yolov8n.pt')"
   ]
  },
  {
   "cell_type": "markdown",
   "id": "a6a8a684",
   "metadata": {},
   "source": [
    "### Train Model\n",
    "\n",
    "Dataset\n",
    "\n",
    "https://github.com/ultralytics/yolov5/blob/master/data/coco128.yaml"
   ]
  },
  {
   "cell_type": "code",
   "execution_count": 3,
   "id": "d74ba009",
   "metadata": {},
   "outputs": [
    {
     "name": "stderr",
     "output_type": "stream",
     "text": [
      "Ultralytics YOLOv8.0.136 🚀 Python-3.10.11 torch-2.0.1 CPU (Apple M2 Max)\n",
      "\u001b[34m\u001b[1mengine/trainer: \u001b[0mtask=detect, mode=train, model=yolov8n.pt, data=coco128.yaml, epochs=3, patience=50, batch=16, imgsz=640, save=True, save_period=-1, cache=False, device=None, workers=8, project=None, name=None, exist_ok=False, pretrained=True, optimizer=auto, verbose=True, seed=0, deterministic=True, single_cls=False, rect=False, cos_lr=False, close_mosaic=10, resume=False, amp=True, fraction=1.0, profile=False, overlap_mask=True, mask_ratio=4, dropout=0.0, val=True, split=val, save_json=False, save_hybrid=False, conf=None, iou=0.7, max_det=300, half=False, dnn=False, plots=True, source=None, show=False, save_txt=False, save_conf=False, save_crop=False, show_labels=True, show_conf=True, vid_stride=1, line_width=None, visualize=False, augment=False, agnostic_nms=False, classes=None, retina_masks=False, boxes=True, format=torchscript, keras=False, optimize=False, int8=False, dynamic=False, simplify=False, opset=None, workspace=4, nms=False, lr0=0.01, lrf=0.01, momentum=0.937, weight_decay=0.0005, warmup_epochs=3.0, warmup_momentum=0.8, warmup_bias_lr=0.1, box=7.5, cls=0.5, dfl=1.5, pose=12.0, kobj=1.0, label_smoothing=0.0, nbs=64, hsv_h=0.015, hsv_s=0.7, hsv_v=0.4, degrees=0.0, translate=0.1, scale=0.5, shear=0.0, perspective=0.0, flipud=0.0, fliplr=0.5, mosaic=1.0, mixup=0.0, copy_paste=0.0, cfg=None, tracker=botsort.yaml, save_dir=/opt/homebrew/runs/detect/train5\n",
      "\n",
      "                   from  n    params  module                                       arguments                     \n",
      "  0                  -1  1       464  ultralytics.nn.modules.conv.Conv             [3, 16, 3, 2]                 \n",
      "  1                  -1  1      4672  ultralytics.nn.modules.conv.Conv             [16, 32, 3, 2]                \n",
      "  2                  -1  1      7360  ultralytics.nn.modules.block.C2f             [32, 32, 1, True]             \n",
      "  3                  -1  1     18560  ultralytics.nn.modules.conv.Conv             [32, 64, 3, 2]                \n",
      "  4                  -1  2     49664  ultralytics.nn.modules.block.C2f             [64, 64, 2, True]             \n",
      "  5                  -1  1     73984  ultralytics.nn.modules.conv.Conv             [64, 128, 3, 2]               \n",
      "  6                  -1  2    197632  ultralytics.nn.modules.block.C2f             [128, 128, 2, True]           \n",
      "  7                  -1  1    295424  ultralytics.nn.modules.conv.Conv             [128, 256, 3, 2]              \n",
      "  8                  -1  1    460288  ultralytics.nn.modules.block.C2f             [256, 256, 1, True]           \n",
      "  9                  -1  1    164608  ultralytics.nn.modules.block.SPPF            [256, 256, 5]                 \n",
      " 10                  -1  1         0  torch.nn.modules.upsampling.Upsample         [None, 2, 'nearest']          \n",
      " 11             [-1, 6]  1         0  ultralytics.nn.modules.conv.Concat           [1]                           \n",
      " 12                  -1  1    148224  ultralytics.nn.modules.block.C2f             [384, 128, 1]                 \n",
      " 13                  -1  1         0  torch.nn.modules.upsampling.Upsample         [None, 2, 'nearest']          \n",
      " 14             [-1, 4]  1         0  ultralytics.nn.modules.conv.Concat           [1]                           \n",
      " 15                  -1  1     37248  ultralytics.nn.modules.block.C2f             [192, 64, 1]                  \n",
      " 16                  -1  1     36992  ultralytics.nn.modules.conv.Conv             [64, 64, 3, 2]                \n",
      " 17            [-1, 12]  1         0  ultralytics.nn.modules.conv.Concat           [1]                           \n",
      " 18                  -1  1    123648  ultralytics.nn.modules.block.C2f             [192, 128, 1]                 \n",
      " 19                  -1  1    147712  ultralytics.nn.modules.conv.Conv             [128, 128, 3, 2]              \n",
      " 20             [-1, 9]  1         0  ultralytics.nn.modules.conv.Concat           [1]                           \n",
      " 21                  -1  1    493056  ultralytics.nn.modules.block.C2f             [384, 256, 1]                 \n",
      " 22        [15, 18, 21]  1    897664  ultralytics.nn.modules.head.Detect           [80, [64, 128, 256]]          \n",
      "Model summary: 225 layers, 3157200 parameters, 3157184 gradients\n",
      "\n",
      "Transferred 355/355 items from pretrained weights\n",
      "\u001b[34m\u001b[1mTensorBoard: \u001b[0mStart with 'tensorboard --logdir /opt/homebrew/runs/detect/train5', view at http://localhost:6006/\n",
      "\u001b[34m\u001b[1mtrain: \u001b[0mScanning /opt/homebrew/datasets/coco128/labels/train2017.cache... 126 ima\u001b[0m\n",
      "\u001b[34m\u001b[1mval: \u001b[0mScanning /opt/homebrew/datasets/coco128/labels/train2017.cache... 126 image\u001b[0m\n",
      "Plotting labels to /opt/homebrew/runs/detect/train5/labels.jpg... \n",
      "\u001b[34m\u001b[1moptimizer:\u001b[0m AdamW(lr=0.000119, momentum=0.9) with parameter groups 57 weight(decay=0.0), 64 weight(decay=0.0005), 63 bias(decay=0.0)\n",
      "Image sizes 640 train, 640 val\n",
      "Using 0 dataloader workers\n",
      "Logging results to \u001b[1m/opt/homebrew/runs/detect/train5\u001b[0m\n",
      "Starting training for 3 epochs...\n",
      "\n",
      "      Epoch    GPU_mem   box_loss   cls_loss   dfl_loss  Instances       Size\n",
      "        1/3         0G      1.096      1.365      1.202        201        640: 1\n",
      "                 Class     Images  Instances      Box(P          R      mAP50  m\n",
      "                   all        128        929      0.658      0.532      0.615      0.457\n",
      "\n",
      "      Epoch    GPU_mem   box_loss   cls_loss   dfl_loss  Instances       Size\n",
      "        2/3         0G      1.216      1.443      1.268        136        640: 1\n",
      "                 Class     Images  Instances      Box(P          R      mAP50  m\n",
      "                   all        128        929      0.675      0.539      0.628      0.467\n",
      "\n",
      "      Epoch    GPU_mem   box_loss   cls_loss   dfl_loss  Instances       Size\n",
      "        3/3         0G      1.192      1.342      1.242        206        640: 1\n",
      "                 Class     Images  Instances      Box(P          R      mAP50  m\n",
      "                   all        128        929      0.684      0.536      0.632       0.47\n",
      "\n",
      "3 epochs completed in 0.056 hours.\n",
      "Optimizer stripped from /opt/homebrew/runs/detect/train5/weights/last.pt, 6.5MB\n",
      "Optimizer stripped from /opt/homebrew/runs/detect/train5/weights/best.pt, 6.5MB\n",
      "\n",
      "Validating /opt/homebrew/runs/detect/train5/weights/best.pt...\n",
      "Ultralytics YOLOv8.0.136 🚀 Python-3.10.11 torch-2.0.1 CPU (Apple M2 Max)\n",
      "Model summary (fused): 168 layers, 3151904 parameters, 0 gradients\n",
      "                 Class     Images  Instances      Box(P          R      mAP50  m\n",
      "                   all        128        929      0.683      0.537      0.632       0.47\n",
      "                person        128        254      0.816      0.657      0.764      0.537\n",
      "               bicycle        128          6      0.613      0.333      0.333      0.257\n",
      "                   car        128         46       0.83      0.217      0.278      0.176\n",
      "            motorcycle        128          5      0.683      0.867      0.938      0.743\n",
      "              airplane        128          6      0.719      0.667      0.913       0.68\n",
      "                   bus        128          7      0.743      0.714      0.728      0.657\n",
      "                 train        128          3      0.561      0.667       0.83      0.731\n",
      "                 truck        128         12          1      0.333      0.522      0.328\n",
      "                  boat        128          6      0.292      0.167      0.362      0.225\n",
      "         traffic light        128         14      0.746      0.211      0.201      0.138\n",
      "             stop sign        128          2          1      0.982      0.995      0.708\n",
      "                 bench        128          9       0.82      0.513      0.632      0.382\n",
      "                  bird        128         16      0.918        0.7      0.898      0.552\n",
      "                   cat        128          4      0.872          1      0.995      0.778\n",
      "                   dog        128          9      0.654      0.889      0.846       0.65\n",
      "                 horse        128          2      0.543          1      0.995      0.518\n",
      "              elephant        128         17      0.849      0.824      0.918      0.678\n",
      "                  bear        128          1      0.616          1      0.995      0.995\n",
      "                 zebra        128          4      0.863          1      0.995      0.965\n"
     ]
    },
    {
     "name": "stderr",
     "output_type": "stream",
     "text": [
      "               giraffe        128          9      0.899      0.985      0.973      0.725\n",
      "              backpack        128          6      0.636      0.333      0.378      0.234\n",
      "              umbrella        128         18      0.788        0.5      0.669      0.465\n",
      "               handbag        128         19          1          0       0.19      0.114\n",
      "                   tie        128          7      0.833      0.712      0.677      0.495\n",
      "              suitcase        128          4      0.641      0.905      0.828      0.592\n",
      "               frisbee        128          5      0.609        0.8      0.759      0.664\n",
      "                  skis        128          1        0.7          1      0.995      0.497\n",
      "             snowboard        128          7      0.739      0.714      0.756       0.49\n",
      "           sports ball        128          6      0.693      0.386      0.502      0.274\n",
      "                  kite        128         10      0.817       0.45       0.58      0.201\n",
      "          baseball bat        128          4      0.566      0.349      0.419      0.199\n",
      "        baseball glove        128          7       0.67      0.429      0.429      0.295\n",
      "            skateboard        128          5      0.797        0.6      0.599      0.446\n",
      "         tennis racket        128          7      0.548      0.286      0.466      0.318\n",
      "                bottle        128         18      0.519       0.36      0.365      0.219\n",
      "            wine glass        128         16      0.782        0.5      0.599      0.359\n",
      "                   cup        128         36      0.657      0.267      0.403      0.289\n",
      "                  fork        128          6      0.603      0.167      0.294      0.205\n",
      "                 knife        128         16      0.748      0.558      0.627      0.361\n",
      "                 spoon        128         22      0.524      0.202       0.35      0.186\n",
      "                  bowl        128         28      0.682      0.679      0.641      0.528\n",
      "                banana        128          1          0          0      0.124     0.0368\n",
      "              sandwich        128          2      0.322        0.5      0.695      0.695\n",
      "                orange        128          4          1      0.355      0.995      0.666\n",
      "              broccoli        128         11      0.388      0.182      0.259      0.217\n",
      "                carrot        128         24      0.718      0.458      0.674      0.435\n",
      "               hot dog        128          2      0.618          1      0.828      0.796\n",
      "                 pizza        128          5      0.779          1      0.995      0.843\n",
      "                 donut        128         14      0.648          1      0.926       0.84\n",
      "                  cake        128          4      0.719          1      0.995       0.88\n",
      "                 chair        128         35      0.548      0.514      0.462       0.26\n",
      "                 couch        128          6      0.413      0.333      0.617      0.471\n",
      "          potted plant        128         14      0.801      0.643       0.73      0.509\n",
      "                   bed        128          3      0.783      0.667      0.775       0.65\n",
      "          dining table        128         13      0.492      0.615        0.5      0.398\n",
      "                toilet        128          2      0.636        0.5      0.745      0.721\n",
      "                    tv        128          2      0.556      0.669      0.828      0.762\n",
      "                laptop        128          3          1          0      0.665      0.522\n",
      "                 mouse        128          2          1          0     0.0416    0.00416\n",
      "                remote        128          8      0.864        0.5      0.583      0.507\n",
      "            cell phone        128          8          0          0     0.0576     0.0384\n",
      "             microwave        128          3      0.587      0.667       0.83      0.699\n",
      "                  oven        128          5      0.443        0.4      0.342      0.272\n",
      "                  sink        128          6      0.369      0.167      0.225      0.137\n",
      "          refrigerator        128          5      0.669        0.4      0.658      0.529\n",
      "                  book        128         29      0.624      0.116      0.346      0.181\n",
      "                 clock        128          9       0.78      0.788      0.893      0.722\n",
      "                  vase        128          2      0.398          1      0.828      0.745\n",
      "              scissors        128          1          1          0      0.249     0.0746\n",
      "            teddy bear        128         21          1      0.356      0.647      0.435\n",
      "            toothbrush        128          5      0.729        0.4      0.702      0.439\n",
      "Speed: 0.7ms preprocess, 144.6ms inference, 0.0ms loss, 1.0ms postprocess per image\n",
      "Results saved to \u001b[1m/opt/homebrew/runs/detect/train5\u001b[0m\n"
     ]
    }
   ],
   "source": [
    "# Train the model using the 'coco128.yaml' dataset for 3 epochs\n",
    "model.train(data='coco128.yaml', epochs=3)"
   ]
  },
  {
   "cell_type": "markdown",
   "id": "d38a38c0",
   "metadata": {},
   "source": [
    "### Evaluate Model"
   ]
  },
  {
   "cell_type": "code",
   "execution_count": 4,
   "id": "4ffef712",
   "metadata": {},
   "outputs": [
    {
     "name": "stderr",
     "output_type": "stream",
     "text": [
      "Ultralytics YOLOv8.0.136 🚀 Python-3.10.11 torch-2.0.1 CPU (Apple M2 Max)\n",
      "Model summary (fused): 168 layers, 3151904 parameters, 0 gradients\n",
      "\u001b[34m\u001b[1mval: \u001b[0mScanning /opt/homebrew/datasets/coco128/labels/train2017.cache... 126 image\u001b[0m\n",
      "                 Class     Images  Instances      Box(P          R      mAP50  m\n",
      "                   all        128        929      0.672      0.546      0.626      0.464\n",
      "                person        128        254      0.805      0.666      0.766      0.539\n",
      "               bicycle        128          6      0.498      0.333      0.329      0.255\n",
      "                   car        128         46      0.812      0.217      0.278      0.176\n",
      "            motorcycle        128          5      0.686      0.882      0.938      0.743\n",
      "              airplane        128          6      0.713      0.667      0.913       0.68\n",
      "                   bus        128          7      0.737      0.714      0.728      0.657\n",
      "                 train        128          3      0.555      0.667       0.83      0.731\n",
      "                 truck        128         12          1      0.375      0.496      0.287\n",
      "                  boat        128          6       0.24      0.167      0.328      0.207\n",
      "         traffic light        128         14      0.738      0.204      0.201      0.138\n",
      "             stop sign        128          2          1      0.992      0.995      0.709\n",
      "                 bench        128          9      0.827      0.533      0.632      0.382\n",
      "                  bird        128         16       0.92       0.72      0.887      0.542\n",
      "                   cat        128          4      0.867          1      0.995      0.778\n",
      "                   dog        128          9      0.649      0.889      0.846       0.65\n",
      "                 horse        128          2      0.504          1      0.995      0.518\n",
      "              elephant        128         17      0.836      0.824      0.918      0.678\n",
      "                  bear        128          1      0.608          1      0.995      0.995\n",
      "                 zebra        128          4      0.859          1      0.995      0.965\n",
      "               giraffe        128          9      0.807      0.934      0.951      0.752\n",
      "              backpack        128          6      0.629      0.333      0.394      0.238\n",
      "              umbrella        128         18      0.694      0.505      0.662      0.461\n",
      "               handbag        128         19      0.763     0.0526      0.189      0.114\n",
      "                   tie        128          7      0.825      0.714      0.677      0.495\n",
      "              suitcase        128          4      0.644          1      0.828      0.592\n",
      "               frisbee        128          5      0.593        0.8      0.759      0.664\n",
      "                  skis        128          1      0.627          1      0.995      0.497\n",
      "             snowboard        128          7      0.725      0.714      0.756      0.489\n",
      "           sports ball        128          6      0.698      0.396      0.502      0.274\n",
      "                  kite        128         10      0.829      0.486      0.582      0.202\n",
      "          baseball bat        128          4      0.519       0.25      0.353      0.199\n",
      "        baseball glove        128          7      0.641      0.429      0.429      0.316\n",
      "            skateboard        128          5      0.862        0.6      0.599       0.44\n",
      "         tennis racket        128          7       0.71      0.361      0.502      0.335\n",
      "                bottle        128         18      0.526      0.371      0.368      0.217\n",
      "            wine glass        128         16      0.669      0.375      0.569      0.353\n",
      "                   cup        128         36      0.653      0.278      0.419      0.301\n",
      "                  fork        128          6      0.584      0.167      0.236      0.183\n",
      "                 knife        128         16      0.648      0.562      0.607      0.353\n",
      "                 spoon        128         22      0.595      0.202       0.35      0.194\n",
      "                  bowl        128         28      0.682      0.689      0.666      0.516\n",
      "                banana        128          1          0          0     0.0905     0.0352\n",
      "              sandwich        128          2      0.323        0.5      0.308      0.308\n",
      "                orange        128          4          1      0.376      0.995      0.666\n",
      "              broccoli        128         11      0.352      0.182      0.263      0.214\n",
      "                carrot        128         24      0.735      0.583      0.674      0.431\n",
      "               hot dog        128          2      0.663       0.99      0.828      0.796\n",
      "                 pizza        128          5      0.861          1      0.995      0.843\n",
      "                 donut        128         14      0.646          1      0.926      0.844\n",
      "                  cake        128          4      0.614          1      0.995       0.88\n",
      "                 chair        128         35      0.539      0.514      0.452      0.248\n",
      "                 couch        128          6       0.52        0.5      0.718      0.556\n",
      "          potted plant        128         14      0.781      0.643       0.73       0.51\n",
      "                   bed        128          3      0.769      0.667      0.863      0.666\n",
      "          dining table        128         13      0.497      0.538      0.485      0.386\n",
      "                toilet        128          2      0.628        0.5      0.745      0.721\n",
      "                    tv        128          2      0.568      0.704      0.828      0.762\n",
      "                laptop        128          3          1          0      0.605      0.484\n",
      "                 mouse        128          2          1          0     0.0683    0.00683\n",
      "                remote        128          8      0.855        0.5      0.613      0.525\n",
      "            cell phone        128          8          0          0     0.0571     0.0382\n",
      "             microwave        128          3      0.568      0.667       0.83      0.683\n",
      "                  oven        128          5      0.455        0.4      0.342      0.272\n",
      "                  sink        128          6      0.383      0.167      0.179      0.111\n",
      "          refrigerator        128          5      0.653        0.4      0.669      0.518\n",
      "                  book        128         29      0.637      0.123      0.374      0.203\n",
      "                 clock        128          9      0.782      0.798      0.893      0.722\n",
      "                  vase        128          2      0.374          1      0.828      0.745\n",
      "              scissors        128          1          1          0      0.249     0.0746\n",
      "            teddy bear        128         21          1      0.361      0.643      0.432\n",
      "            toothbrush        128          5       0.72        0.6      0.743      0.478\n",
      "Speed: 0.6ms preprocess, 164.3ms inference, 0.0ms loss, 1.0ms postprocess per image\n",
      "Results saved to \u001b[1m/opt/homebrew/runs/detect/val4\u001b[0m\n"
     ]
    }
   ],
   "source": [
    "# Evaluate the model's performance on the validation set\n",
    "results = model.val()"
   ]
  },
  {
   "cell_type": "code",
   "execution_count": 5,
   "id": "31b1f0a2",
   "metadata": {},
   "outputs": [
    {
     "name": "stderr",
     "output_type": "stream",
     "text": [
      "Ultralytics YOLOv8.0.136 🚀 Python-3.10.11 torch-2.0.1 CPU (Apple M2 Max)\n",
      "\n",
      "\u001b[34m\u001b[1mPyTorch:\u001b[0m starting from /opt/homebrew/runs/detect/train5/weights/best.pt with input shape (1, 3, 640, 640) BCHW and output shape(s) (1, 84, 8400) (6.2 MB)\n",
      "\n",
      "\u001b[34m\u001b[1mONNX:\u001b[0m starting export with onnx 1.14.0 opset 17...\n",
      "\u001b[34m\u001b[1mONNX:\u001b[0m export success ✅ 0.6s, saved as /opt/homebrew/runs/detect/train5/weights/best.onnx (12.2 MB)\n",
      "\n",
      "Export complete (0.8s)\n",
      "Results saved to \u001b[1m/opt/homebrew/runs/detect/train5/weights\u001b[0m\n",
      "Predict:         yolo predict task=detect model=/opt/homebrew/runs/detect/train5/weights/best.onnx imgsz=640 \n",
      "Validate:        yolo val task=detect model=/opt/homebrew/runs/detect/train5/weights/best.onnx imgsz=640 data=/opt/homebrew/anaconda3/lib/python3.10/site-packages/ultralytics/cfg/datasets/coco128.yaml \n",
      "Visualize:       https://netron.app\n"
     ]
    },
    {
     "name": "stdout",
     "output_type": "stream",
     "text": [
      "================ Diagnostic Run torch.onnx.export version 2.0.1 ================\n",
      "verbose: False, log level: Level.ERROR\n",
      "======================= 0 NONE 0 NOTE 0 WARNING 0 ERROR ========================\n",
      "\n"
     ]
    }
   ],
   "source": [
    "\n",
    "# Export the model to ONNX format\n",
    "success = model.export(format='onnx')"
   ]
  },
  {
   "cell_type": "markdown",
   "id": "ee5f7a75",
   "metadata": {},
   "source": [
    "### Object Detection"
   ]
  },
  {
   "cell_type": "code",
   "execution_count": 6,
   "id": "428b5d1a",
   "metadata": {},
   "outputs": [
    {
     "name": "stderr",
     "output_type": "stream",
     "text": [
      "\n",
      "image 1/1 /Users/apujari/Documents/courses/DeepLearning/code/Week6/images/car.jpg: 384x640 1 person, 1 car, 1 truck, 45.8ms\n",
      "Speed: 1.9ms preprocess, 45.8ms inference, 0.6ms postprocess per image at shape (1, 3, 384, 640)\n"
     ]
    },
    {
     "data": {
      "text/plain": [
       "13"
      ]
     },
     "execution_count": 6,
     "metadata": {},
     "output_type": "execute_result"
    }
   ],
   "source": [
    "# Perform object detection on an image using the model\n",
    "results = model('images/car.jpg')\n",
    "\n",
    "res_plotted = results[0].plot()\n",
    "cv2.imshow(\"result\", res_plotted)\n",
    "cv2.waitKey(-1)"
   ]
  },
  {
   "cell_type": "code",
   "execution_count": 7,
   "id": "a7856112",
   "metadata": {},
   "outputs": [],
   "source": [
    "#what happens with a more complex image"
   ]
  },
  {
   "cell_type": "code",
   "execution_count": null,
   "id": "97a41d09",
   "metadata": {},
   "outputs": [],
   "source": []
  },
  {
   "cell_type": "code",
   "execution_count": null,
   "id": "90f42072",
   "metadata": {},
   "outputs": [],
   "source": []
  }
 ],
 "metadata": {
  "kernelspec": {
   "display_name": "Python 3 (ipykernel)",
   "language": "python",
   "name": "python3"
  },
  "language_info": {
   "codemirror_mode": {
    "name": "ipython",
    "version": 3
   },
   "file_extension": ".py",
   "mimetype": "text/x-python",
   "name": "python",
   "nbconvert_exporter": "python",
   "pygments_lexer": "ipython3",
   "version": "3.10.11"
  }
 },
 "nbformat": 4,
 "nbformat_minor": 5
}
