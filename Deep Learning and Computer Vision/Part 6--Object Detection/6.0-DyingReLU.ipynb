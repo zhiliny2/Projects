{
 "cells": [
  {
   "cell_type": "markdown",
   "id": "26991f5f",
   "metadata": {},
   "source": [
    "# Dying ReLU\n",
    "\n",
    "The dying ReLU problem occurs when several neurons only output a value of zero. This happens primarily when the input is negative. This offers an advantage of network sparsity to ReLU, but it creates a major problem when most of the inputs to the neurons are negative. The worst-case scenario is when the entire network dies and only a constant function remains.\n",
    "\n",
    "When most of the neurons output zero, the gradient fails to flow and the weights stop getting updated. Thus, the network stops learning. "
   ]
  },
  {
   "cell_type": "code",
   "execution_count": null,
   "id": "a06f1c3a",
   "metadata": {},
   "outputs": [],
   "source": [
    "import numpy as np\n",
    "import tensorflow as tf\n",
    "from tensorflow.keras.models import Model\n",
    "from tensorflow.keras.layers import Dense, Input\n",
    "from tensorflow.keras import initializers"
   ]
  },
  {
   "cell_type": "code",
   "execution_count": null,
   "id": "ce00eaaf",
   "metadata": {},
   "outputs": [],
   "source": [
    "# Generate some synthetic training data\n",
    "np.random.seed(42)\n",
    "X_train = np.random.rand(1000, 10)\n",
    "y_train = np.random.randint(2, size=(1000, 1))"
   ]
  },
  {
   "cell_type": "markdown",
   "id": "d7544998",
   "metadata": {},
   "source": [
    "#### ReLU Activation\n",
    "We create a simple sequential model with two hidden layers and an output layer. Both hidden layers use the ReLU activation function. We initialize the weights of the layers using a constant value 0.5 or random normal distribution with a mean of 0 and a standard deviation of 0.1."
   ]
  },
  {
   "cell_type": "code",
   "execution_count": null,
   "id": "75863b64",
   "metadata": {},
   "outputs": [],
   "source": [
    "# Model using ReLU\n",
    "inputs = Input(shape=(10,))\n",
    "hidden1 = Dense(10, activation='relu', kernel_initializer=initializers.Constant(0.5))(inputs)\n",
    "#hidden1 = Dense(10, activation='relu', kernel_initializer=initializers.RandomNormal(mean=0.0, stddev=0.1), input_shape=(10,)))\n",
    "hidden2 = Dense(10, activation='relu', kernel_initializer=initializers.Constant(-0.5))(hidden1)\n",
    "outputs = Dense(1, activation='sigmoid')(hidden2)"
   ]
  },
  {
   "cell_type": "markdown",
   "id": "5e925124",
   "metadata": {},
   "source": [
    "#### Swish Activation"
   ]
  },
  {
   "cell_type": "code",
   "execution_count": null,
   "id": "95e7237d",
   "metadata": {},
   "outputs": [],
   "source": [
    "# Model using Swish\n",
    "# inputs = Input(shape=(10,))\n",
    "# hidden1 = Dense(10, activation='swish', kernel_initializer=initializers.Constant(0.5))(inputs)\n",
    "# hidden2 = Dense(10, activation='swish', kernel_initializer=initializers.Constant(-0.5))(hidden1)\n",
    "# outputs = Dense(1, activation='sigmoid')(hidden2)"
   ]
  },
  {
   "cell_type": "code",
   "execution_count": null,
   "id": "c6a66b15",
   "metadata": {},
   "outputs": [],
   "source": [
    "model = Model(inputs=inputs, outputs=outputs)\n",
    "\n",
    "# Compile the model\n",
    "model.compile(optimizer='adam', loss='binary_crossentropy')\n",
    "\n",
    "# Train the model\n",
    "model.fit(X_train, y_train, epochs=10, batch_size=32)\n",
    "\n",
    "# Extract and print neuron values\n",
    "get_layer_outputs = tf.keras.backend.function([model.layers[0].input], [model.layers[1].output, model.layers[2].output])\n",
    "layer1_values, layer2_values = get_layer_outputs([X_train])\n",
    "\n",
    "print(\"Layer 1 neuron values:\")\n",
    "print(layer1_values)\n",
    "print(\"Layer 2 neuron values:\")\n",
    "print(layer2_values)"
   ]
  }
 ],
 "metadata": {
  "kernelspec": {
   "display_name": "Python 3 (ipykernel)",
   "language": "python",
   "name": "python3"
  },
  "language_info": {
   "codemirror_mode": {
    "name": "ipython",
    "version": 3
   },
   "file_extension": ".py",
   "mimetype": "text/x-python",
   "name": "python",
   "nbconvert_exporter": "python",
   "pygments_lexer": "ipython3",
   "version": "3.10.11"
  }
 },
 "nbformat": 4,
 "nbformat_minor": 5
}
