{
 "cells": [
  {
   "cell_type": "markdown",
   "metadata": {},
   "source": [
    "# LSTM News Classification\n",
    "\n",
    "### Dataset\n",
    "AG is a collection of more than 1 million news articles. News articles have been gathered from more than 2000 news sources by ComeToMyHead in more than 1 year of activity. ComeToMyHead is an academic news search engine which has been running since July, 2004. The dataset is provided by the academic comunity for research purposes in data mining (clustering, classification, etc), information retrieval (ranking, search, etc), xml, data compression, data streaming, and any other non-commercial activity.\n",
    "\n",
    "The AG's news topic classification dataset is constructed by Xiang Zhang from the dataset above. It is used as a text classification benchmark in the following paper: Xiang Zhang, Junbo Zhao, Yann LeCun. Character-level Convolutional Networks for Text Classification. Advances in Neural Information Processing Systems 28 (NIPS 2015).\n",
    "\n",
    "### Description\n",
    "\n",
    "The AG's news topic classification dataset is constructed by choosing 4 largest classes from the original corpus. Each class contains 30,000 training samples and 1,900 testing samples. The total number of training samples is 120,000 and testing 7,600.\n",
    "\n",
    "The file classes.txt contains a list of classes corresponding to each label.\n",
    "\n",
    "The files train.csv and test.csv contain all the training samples as comma-sparated values. There are 3 columns in them, corresponding to class index (1 to 4), title and description. The title and description are escaped using double quotes (\"), and any internal double quote is escaped by 2 double quotes (\"\"). New lines are escaped by a backslash followed with an \"n\" character, that is \"\\n\"."
   ]
  },
  {
   "cell_type": "markdown",
   "metadata": {
    "id": "VshARt06kwaM"
   },
   "source": [
    "## Libraries"
   ]
  },
  {
   "cell_type": "code",
   "execution_count": null,
   "metadata": {
    "execution": {
     "iopub.execute_input": "2021-11-30T17:03:48.715955Z",
     "iopub.status.busy": "2021-11-30T17:03:48.715612Z",
     "iopub.status.idle": "2021-11-30T17:03:53.889394Z",
     "shell.execute_reply": "2021-11-30T17:03:53.888602Z",
     "shell.execute_reply.started": "2021-11-30T17:03:48.715919Z"
    },
    "id": "QhTKStzQdKFo"
   },
   "outputs": [],
   "source": [
    "import pandas as pd\n",
    "import numpy as np\n",
    "import matplotlib.pyplot as plt\n",
    "import seaborn as sns\n",
    "from termcolor import colored\n",
    "\n",
    "from sklearn.model_selection import train_test_split\n",
    "from sklearn.metrics import confusion_matrix, plot_confusion_matrix, precision_score, recall_score, accuracy_score\n",
    "\n",
    "import tensorflow as tf\n",
    "from tensorflow.keras.models import Model, Sequential\n",
    "from tensorflow.keras.layers import Embedding, LSTM, Dense, Dropout, GlobalMaxPooling1D, Bidirectional\n",
    "from tensorflow.keras.preprocessing.text import Tokenizer\n",
    "from tensorflow.keras.optimizers import Adam\n",
    "from tensorflow.keras.preprocessing.sequence import pad_sequences\n",
    "from tensorflow.keras.callbacks import ModelCheckpoint, EarlyStopping\n",
    "from tensorflow.keras.utils import plot_model"
   ]
  },
  {
   "cell_type": "markdown",
   "metadata": {
    "id": "goVtDzzelMOO"
   },
   "source": [
    "## Data Preprocessing"
   ]
  },
  {
   "cell_type": "code",
   "execution_count": null,
   "metadata": {
    "execution": {
     "iopub.execute_input": "2021-11-30T17:04:14.021343Z",
     "iopub.status.busy": "2021-11-30T17:04:14.020779Z",
     "iopub.status.idle": "2021-11-30T17:04:15.341325Z",
     "shell.execute_reply": "2021-11-30T17:04:15.340505Z",
     "shell.execute_reply.started": "2021-11-30T17:04:14.021302Z"
    },
    "id": "J2g4NfecdWGw",
    "outputId": "cbb5076f-fb25-4736-f519-7746ac812caf"
   },
   "outputs": [],
   "source": [
    "#File Path\n",
    "TRAIN_FILE_PATH = 'data/news/train.csv'\n",
    "TEST_FILE_PATH = 'data/news/test.csv'\n",
    "\n",
    "#Load Data\n",
    "data = pd.read_csv(TRAIN_FILE_PATH)\n",
    "testdata = pd.read_csv(TEST_FILE_PATH)\n",
    "\n",
    "#Set Column Names \n",
    "data.columns = ['ClassIndex', 'Title', 'Description']\n",
    "testdata.columns = ['ClassIndex', 'Title', 'Description']\n",
    "\n",
    "#Combine Title and Description\n",
    "X_train = data['Title'] + \" \" + data['Description'] # Combine title and description (better accuracy than using them as separate features)\n",
    "y_train = data['ClassIndex'].apply(lambda x: x-1).values # Class labels need to begin from 0\n",
    "\n",
    "x_test = testdata['Title'] + \" \" + testdata['Description'] # Combine title and description (better accuracy than using them as separate features)\n",
    "y_test = testdata['ClassIndex'].apply(lambda x: x-1).values # Class labels need to begin from 0\n",
    "\n",
    "#Max Length of sentences in Train Dataset\n",
    "maxlen = X_train.map(lambda x: len(x.split())).max()\n",
    "data.head()"
   ]
  },
  {
   "cell_type": "markdown",
   "metadata": {
    "id": "0lZqq9zLrXMC"
   },
   "source": [
    "## Exploratory Data Analysis"
   ]
  },
  {
   "cell_type": "markdown",
   "metadata": {
    "id": "v8vJ7tio9bmR"
   },
   "source": [
    "### Data Shape"
   ]
  },
  {
   "cell_type": "code",
   "execution_count": null,
   "metadata": {
    "execution": {
     "iopub.execute_input": "2021-11-30T17:04:18.136437Z",
     "iopub.status.busy": "2021-11-30T17:04:18.136007Z",
     "iopub.status.idle": "2021-11-30T17:04:18.150018Z",
     "shell.execute_reply": "2021-11-30T17:04:18.149084Z",
     "shell.execute_reply.started": "2021-11-30T17:04:18.136386Z"
    },
    "id": "zSonlU5Ara6n",
    "outputId": "5c4ea250-bafa-4dfe-a36e-ad8d17c1d83e"
   },
   "outputs": [],
   "source": [
    "data.shape, testdata.shape"
   ]
  },
  {
   "cell_type": "markdown",
   "metadata": {
    "id": "wzpW4SCu9eWl"
   },
   "source": [
    "### Value Counts"
   ]
  },
  {
   "cell_type": "code",
   "execution_count": null,
   "metadata": {
    "execution": {
     "iopub.execute_input": "2021-11-30T17:04:18.630953Z",
     "iopub.status.busy": "2021-11-30T17:04:18.630657Z",
     "iopub.status.idle": "2021-11-30T17:04:18.641390Z",
     "shell.execute_reply": "2021-11-30T17:04:18.640327Z",
     "shell.execute_reply.started": "2021-11-30T17:04:18.630926Z"
    },
    "id": "6ehyOshjromr",
    "outputId": "e2c81a05-ec81-4eb9-d830-a8015eb52bbf"
   },
   "outputs": [],
   "source": [
    "#Checking Value counts to determine class balance\n",
    "data.ClassIndex.value_counts()"
   ]
  },
  {
   "cell_type": "code",
   "execution_count": null,
   "metadata": {
    "execution": {
     "iopub.execute_input": "2021-11-30T17:04:18.895181Z",
     "iopub.status.busy": "2021-11-30T17:04:18.894895Z",
     "iopub.status.idle": "2021-11-30T17:04:18.904715Z",
     "shell.execute_reply": "2021-11-30T17:04:18.903692Z",
     "shell.execute_reply.started": "2021-11-30T17:04:18.895154Z"
    },
    "id": "m_9MdzEss55g",
    "outputId": "f61078e2-9473-4f11-8224-ca579990c98c"
   },
   "outputs": [],
   "source": [
    "testdata.ClassIndex.value_counts()"
   ]
  },
  {
   "cell_type": "markdown",
   "metadata": {
    "id": "UL-BO8rc9jHC"
   },
   "source": [
    "### Null Values"
   ]
  },
  {
   "cell_type": "code",
   "execution_count": null,
   "metadata": {
    "execution": {
     "iopub.execute_input": "2021-11-30T17:04:19.149805Z",
     "iopub.status.busy": "2021-11-30T17:04:19.149377Z",
     "iopub.status.idle": "2021-11-30T17:04:19.189412Z",
     "shell.execute_reply": "2021-11-30T17:04:19.188187Z",
     "shell.execute_reply.started": "2021-11-30T17:04:19.149767Z"
    },
    "id": "1ZuJcoiJ9Yss",
    "outputId": "9841a0bf-36e1-4171-d583-36f783b17663"
   },
   "outputs": [],
   "source": [
    "#Train Data\n",
    "data.isnull().sum()"
   ]
  },
  {
   "cell_type": "code",
   "execution_count": null,
   "metadata": {
    "execution": {
     "iopub.execute_input": "2021-11-30T17:04:19.467308Z",
     "iopub.status.busy": "2021-11-30T17:04:19.467005Z",
     "iopub.status.idle": "2021-11-30T17:04:19.477475Z",
     "shell.execute_reply": "2021-11-30T17:04:19.476511Z",
     "shell.execute_reply.started": "2021-11-30T17:04:19.467280Z"
    },
    "id": "8e_5I-zc9pJz",
    "outputId": "80df5755-80e5-442c-a0d5-985f2045ec12"
   },
   "outputs": [],
   "source": [
    "#Test Data\n",
    "testdata.isnull().sum()"
   ]
  },
  {
   "cell_type": "markdown",
   "metadata": {
    "id": "USpvicJifoQ8"
   },
   "source": [
    "## Tokenize and Pad Data\n",
    "\n",
    "### Tokenization\n",
    "\n",
    "Tokenization is a common task in Natural Language Processing (NLP). It’s a fundamental step in both traditional NLP methods like Count Vectorizer and Advanced Deep Learning-based architectures like Transformers.\n",
    "\n",
    "Tokenization is a way of separating a piece of text into smaller units called tokens. Here, tokens can be either words, characters, or subwords. Hence, tokenization can be broadly classified into 3 types – word, character, and subword (n-gram characters) tokenization.\n",
    "\n",
    "For example, consider the sentence: “Never give up”.\n",
    "\n",
    "The most common way of forming tokens is based on space. Assuming space as a delimiter, the tokenization of the sentence results in 3 tokens – Never-give-up. As each token is a word, it becomes an example of Word tokenization.\n",
    "\n",
    "Similarly, tokens can be either characters or subwords. For example, let us consider “smarter”:\n",
    "\n",
    "1. Character tokens: s-m-a-r-t-e-r\n",
    "2. Subword tokens: smart-er\n",
    "\n",
    "### Padding\n",
    "All the neural networks require to have inputs that have the same shape and size. However, when we pre-process and use the texts as inputs for our model e.g. LSTM, not all the sentences have the same length. In other words, naturally, some of the sentences are longer or shorter. We need to have the inputs with the same size, this is where the padding is necessary."
   ]
  },
  {
   "cell_type": "code",
   "execution_count": null,
   "metadata": {
    "execution": {
     "iopub.execute_input": "2021-11-30T17:04:20.165249Z",
     "iopub.status.busy": "2021-11-30T17:04:20.164935Z",
     "iopub.status.idle": "2021-11-30T17:04:30.180008Z",
     "shell.execute_reply": "2021-11-30T17:04:30.179024Z",
     "shell.execute_reply.started": "2021-11-30T17:04:20.165219Z"
    },
    "id": "QIaVaaiDe9m4"
   },
   "outputs": [],
   "source": [
    "vocab_size = 10000 # arbitrarily chosen\n",
    "embed_size = 32 # arbitrarily chosen\n",
    "\n",
    "# Create and Fit tokenizer\n",
    "tok = Tokenizer(num_words=vocab_size)\n",
    "tok.fit_on_texts(X_train.values)\n",
    "\n",
    "# Tokenize data\n",
    "X_train = tok.texts_to_sequences(X_train)\n",
    "x_test = tok.texts_to_sequences(x_test)\n",
    "\n",
    "# Pad data\n",
    "X_train = pad_sequences(X_train, maxlen=maxlen)\n",
    "x_test = pad_sequences(x_test, maxlen=maxlen)"
   ]
  },
  {
   "cell_type": "markdown",
   "metadata": {
    "id": "0UP_HEHffwLi"
   },
   "source": [
    "## Model"
   ]
  },
  {
   "cell_type": "markdown",
   "metadata": {
    "id": "kKh4ldNJmeBk"
   },
   "source": [
    "### LSTM - \n",
    "To solve the problem of Vanishing and Exploding Gradients in a deep Recurrent Neural Network, many variations were developed. One of the most famous of them is the Long Short Term Memory Network(LSTM). In concept, an LSTM recurrent unit tries to “remember” all the past knowledge that the network is seen so far and to “forget” irrelevant data. This is done by introducing different activation function layers called “gates” for different purposes. Each LSTM recurrent unit also maintains a vector called the Internal Cell State which conceptually describes the information that was chosen to be retained by the previous LSTM recurrent unit. A Long Short Term Memory Network consists of four different gates for different purposes as described below:-\n",
    "\n",
    "1. **Forget Gate(f)**: It determines to what extent to forget the previous data.\n",
    "\n",
    "2. **Input Gate(i)**: It determines the extent of information to be written onto the Internal Cell State.\n",
    "\n",
    "3. **Input Modulation Gate(g**): It is often considered as a sub-part of the input gate and many literatures on LSTM’s do not even mention it and assume it inside the Input gate. It is used to modulate the information that the Input gate will write onto the Internal State Cell by adding non-linearity to the information and making the information Zero-mean. This is done to reduce the learning time as Zero-mean input has faster convergence. Although this gate’s actions are less important than the others and is often treated as a finesse-providing concept, it is good practice to include this gate into the structure of the LSTM unit.\n",
    "\n",
    "4. **Output Gate(o)**: It determines what output(next Hidden State) to generate from the current Internal Cell State.\n",
    "\n",
    "The basic work-flow of a Long Short Term Memory Network is similar to the work-flow of a Recurrent Neural Network with only difference being that the Internal Cell State is also passed forward along with the Hidden State.\n",
    "\n",
    "### BiDirectional LSTM - \n",
    "Using bidirectional will run our inputs in two ways, one from past to future and one from future to past and what differs this approach from unidirectional is that in the LSTM that runs backwards we preserve information from the future and using the two hidden states combined we are able in any point in time to preserve information from both past and future."
   ]
  },
  {
   "cell_type": "code",
   "execution_count": null,
   "metadata": {
    "execution": {
     "iopub.execute_input": "2021-11-30T17:04:36.515136Z",
     "iopub.status.busy": "2021-11-30T17:04:36.514802Z",
     "iopub.status.idle": "2021-11-30T17:04:39.839884Z",
     "shell.execute_reply": "2021-11-30T17:04:39.835181Z",
     "shell.execute_reply.started": "2021-11-30T17:04:36.515102Z"
    },
    "id": "Zr0tX6QofrHd",
    "outputId": "c382e70b-5d77-4199-9370-e5b4921290cf"
   },
   "outputs": [],
   "source": [
    "#Build an LSTM Model"
   ]
  },
  {
   "cell_type": "markdown",
   "metadata": {
    "id": "sgzzfcVpf1gA"
   },
   "source": [
    "## Compile and Fit Model"
   ]
  },
  {
   "cell_type": "code",
   "execution_count": null,
   "metadata": {
    "execution": {
     "iopub.execute_input": "2021-11-30T17:04:39.841726Z",
     "iopub.status.busy": "2021-11-30T17:04:39.841372Z",
     "iopub.status.idle": "2021-11-30T17:04:39.855527Z",
     "shell.execute_reply": "2021-11-30T17:04:39.854668Z",
     "shell.execute_reply.started": "2021-11-30T17:04:39.841688Z"
    },
    "id": "5-q_1d0zfvex"
   },
   "outputs": [],
   "source": [
    "callbacks = [\n",
    "    EarlyStopping(     #EarlyStopping is used to stop at the epoch where val_accuracy does not improve significantly\n",
    "        monitor='val_accuracy',\n",
    "        min_delta=1e-4,\n",
    "        patience=4,\n",
    "        verbose=1\n",
    "    ),\n",
    "    ModelCheckpoint(\n",
    "        filepath='weights.h5',\n",
    "        monitor='val_accuracy', \n",
    "        mode='max', \n",
    "        save_best_only=True,\n",
    "        save_weights_only=True,\n",
    "        verbose=1\n",
    "    )\n",
    "]"
   ]
  },
  {
   "cell_type": "code",
   "execution_count": null,
   "metadata": {
    "execution": {
     "iopub.execute_input": "2021-11-30T17:05:01.207921Z",
     "iopub.status.busy": "2021-11-30T17:05:01.207600Z",
     "iopub.status.idle": "2021-11-30T17:09:31.317500Z",
     "shell.execute_reply": "2021-11-30T17:09:31.316771Z",
     "shell.execute_reply.started": "2021-11-30T17:05:01.207891Z"
    },
    "id": "VtRefm2uf1Az",
    "outputId": "ad9130e5-44f9-4fad-ee2c-e94fc9a60f33"
   },
   "outputs": [],
   "source": [
    "#Compile and Fit Model\n",
    "model.compile(loss='sparse_categorical_crossentropy', #Sparse Categorical Crossentropy Loss because data is not one-hot encoded\n",
    "              optimizer='adam', \n",
    "              metrics=['accuracy']) \n",
    "\n",
    "model.fit(X_train, \n",
    "          y_train, \n",
    "          batch_size=256, \n",
    "          validation_data=(x_test, y_test), \n",
    "          epochs=20, \n",
    "          callbacks=callbacks)"
   ]
  },
  {
   "cell_type": "markdown",
   "metadata": {
    "id": "wDTCvp8GgBrZ"
   },
   "source": [
    "## Load Model\n",
    "\n",
    "Weights with the best validation accuracy"
   ]
  },
  {
   "cell_type": "code",
   "execution_count": null,
   "metadata": {
    "execution": {
     "iopub.execute_input": "2021-11-30T17:11:25.042066Z",
     "iopub.status.busy": "2021-11-30T17:11:25.041715Z",
     "iopub.status.idle": "2021-11-30T17:11:25.152487Z",
     "shell.execute_reply": "2021-11-30T17:11:25.151705Z",
     "shell.execute_reply.started": "2021-11-30T17:11:25.042034Z"
    },
    "id": "T-MMQ-HDf8Oo"
   },
   "outputs": [],
   "source": [
    "model.load_weights('weights.h5')\n",
    "model.save('model.hdf5')"
   ]
  },
  {
   "cell_type": "markdown",
   "metadata": {
    "id": "s_kfJnmngKKE"
   },
   "source": [
    "## Predict"
   ]
  },
  {
   "cell_type": "code",
   "execution_count": null,
   "metadata": {
    "execution": {
     "iopub.execute_input": "2021-11-30T17:11:25.524237Z",
     "iopub.status.busy": "2021-11-30T17:11:25.523959Z",
     "iopub.status.idle": "2021-11-30T17:11:25.530248Z",
     "shell.execute_reply": "2021-11-30T17:11:25.529368Z",
     "shell.execute_reply.started": "2021-11-30T17:11:25.524212Z"
    },
    "id": "ZQuZfwhBD4Ie"
   },
   "outputs": [],
   "source": [
    "def modelDemo(news_text):\n",
    "\n",
    "  #News Labels\n",
    "  labels = ['World News', 'Sports News', 'Business News', 'Science-Technology News']\n",
    "  test_seq = pad_sequences(tok.texts_to_sequences(news_text), maxlen=maxlen)\n",
    "  test_preds = [labels[np.argmax(i)] for i in model.predict(test_seq)]\n",
    "  for news, label in zip(news_text, test_preds):\n",
    "      # print('{} - {}'.format(news, label))\n",
    "      print('{} - {}'.format(colored(news, 'yellow'), colored(label, 'blue')))\n"
   ]
  },
  {
   "cell_type": "code",
   "execution_count": null,
   "metadata": {
    "execution": {
     "iopub.execute_input": "2021-11-30T17:11:28.681536Z",
     "iopub.status.busy": "2021-11-30T17:11:28.681181Z",
     "iopub.status.idle": "2021-11-30T17:11:29.791858Z",
     "shell.execute_reply": "2021-11-30T17:11:29.790515Z",
     "shell.execute_reply.started": "2021-11-30T17:11:28.681502Z"
    },
    "id": "CDf9lcCbgMio",
    "outputId": "65ae9ab0-748d-48d0-adb4-7dc52219617e"
   },
   "outputs": [],
   "source": [
    "modelDemo(['New evidence of virus risks from wildlife trade'])"
   ]
  },
  {
   "cell_type": "code",
   "execution_count": null,
   "metadata": {
    "execution": {
     "iopub.execute_input": "2021-11-30T17:11:29.795709Z",
     "iopub.status.busy": "2021-11-30T17:11:29.795404Z",
     "iopub.status.idle": "2021-11-30T17:11:29.842018Z",
     "shell.execute_reply": "2021-11-30T17:11:29.841015Z",
     "shell.execute_reply.started": "2021-11-30T17:11:29.795680Z"
    },
    "id": "eHGCrE5QGM8h",
    "outputId": "0411d085-851c-491e-954e-f96b780d26dd"
   },
   "outputs": [],
   "source": [
    "modelDemo(['Coronavirus: Bank pumps £100bn into UK economy to aid recovery'])"
   ]
  },
  {
   "cell_type": "code",
   "execution_count": null,
   "metadata": {
    "execution": {
     "iopub.execute_input": "2021-11-30T17:11:29.843678Z",
     "iopub.status.busy": "2021-11-30T17:11:29.843343Z",
     "iopub.status.idle": "2021-11-30T17:11:29.888434Z",
     "shell.execute_reply": "2021-11-30T17:11:29.887386Z",
     "shell.execute_reply.started": "2021-11-30T17:11:29.843643Z"
    },
    "id": "RwR7WtOsGPKr",
    "outputId": "7b596a86-cbda-40b4-d7ad-b0739518c858"
   },
   "outputs": [],
   "source": [
    "modelDemo(['Trump\\'s bid to end Obama-era immigration policy ruled unlawful'])"
   ]
  },
  {
   "cell_type": "code",
   "execution_count": null,
   "metadata": {
    "execution": {
     "iopub.execute_input": "2021-11-30T17:11:29.890121Z",
     "iopub.status.busy": "2021-11-30T17:11:29.889772Z",
     "iopub.status.idle": "2021-11-30T17:11:29.935815Z",
     "shell.execute_reply": "2021-11-30T17:11:29.934780Z",
     "shell.execute_reply.started": "2021-11-30T17:11:29.890087Z"
    },
    "id": "CV_QQqOvGRP-",
    "outputId": "01e6c123-c25d-4608-b69e-5641d6ef7904"
   },
   "outputs": [],
   "source": [
    "modelDemo(['David Luiz’s future with Arsenal to be decided this week'])"
   ]
  },
  {
   "cell_type": "code",
   "execution_count": null,
   "metadata": {
    "execution": {
     "iopub.execute_input": "2021-11-30T17:11:30.094095Z",
     "iopub.status.busy": "2021-11-30T17:11:30.093833Z",
     "iopub.status.idle": "2021-11-30T17:11:30.140778Z",
     "shell.execute_reply": "2021-11-30T17:11:30.139684Z",
     "shell.execute_reply.started": "2021-11-30T17:11:30.094070Z"
    },
    "id": "_xT-m6eSGTwB",
    "outputId": "98ab8f22-7b20-4cd0-971a-5ba35422babf"
   },
   "outputs": [],
   "source": [
    "modelDemo(['Indian Economic budget supports the underprivileged sections of society'])"
   ]
  },
  {
   "cell_type": "markdown",
   "metadata": {
    "id": "pbry6RbQgQzQ"
   },
   "source": [
    "## Model Evaluation"
   ]
  },
  {
   "cell_type": "markdown",
   "metadata": {
    "id": "cLEKOeTUoSI9"
   },
   "source": [
    "### Confusion Matrix"
   ]
  },
  {
   "cell_type": "code",
   "execution_count": null,
   "metadata": {
    "execution": {
     "iopub.execute_input": "2021-11-30T17:11:34.068868Z",
     "iopub.status.busy": "2021-11-30T17:11:34.068543Z",
     "iopub.status.idle": "2021-11-30T17:11:37.295457Z",
     "shell.execute_reply": "2021-11-30T17:11:37.294533Z",
     "shell.execute_reply.started": "2021-11-30T17:11:34.068839Z"
    },
    "id": "HZow3p11gUex",
    "outputId": "693f663d-3af0-4f1f-8d94-2c09944d6e79"
   },
   "outputs": [],
   "source": [
    "labels = ['World News', 'Sports News', 'Business News', 'Science-Technology News']\n",
    "preds = [np.argmax(i) for i in model.predict(x_test)]"
   ]
  },
  {
   "cell_type": "code",
   "execution_count": null,
   "metadata": {},
   "outputs": [],
   "source": [
    "plt.title(\"Confusion Matrix\")\n",
    "sns.heatmap(confusion_matrix(y_test, preds), annot=True, square=False, fmt='', cbar=False)\n",
    "plt.subplots_adjust(hspace=.7)  "
   ]
  },
  {
   "cell_type": "markdown",
   "metadata": {
    "id": "LtJzlv3agZqq"
   },
   "source": [
    "### Recall, Precision and Accuracy"
   ]
  },
  {
   "cell_type": "code",
   "execution_count": null,
   "metadata": {
    "execution": {
     "iopub.execute_input": "2021-11-30T17:11:37.297252Z",
     "iopub.status.busy": "2021-11-30T17:11:37.296997Z",
     "iopub.status.idle": "2021-11-30T17:11:37.328409Z",
     "shell.execute_reply": "2021-11-30T17:11:37.327590Z",
     "shell.execute_reply.started": "2021-11-30T17:11:37.297227Z"
    },
    "id": "AO_8EartgbcE",
    "outputId": "1802de9c-f20a-4879-c960-62670e4d4b02"
   },
   "outputs": [],
   "source": [
    "print(\"Recall of the model is {:.2f}\".format(recall_score(y_test, preds, average='micro')))\n",
    "print(\"Precision of the model is {:.2f}\".format(precision_score(y_test, preds, average='micro')))\n",
    "print(\"Accuracy of the model is {:.2f}\".format(accuracy_score(y_test, preds)))"
   ]
  }
 ],
 "metadata": {
  "kernelspec": {
   "display_name": "Python 3 (ipykernel)",
   "language": "python",
   "name": "python3"
  },
  "language_info": {
   "codemirror_mode": {
    "name": "ipython",
    "version": 3
   },
   "file_extension": ".py",
   "mimetype": "text/x-python",
   "name": "python",
   "nbconvert_exporter": "python",
   "pygments_lexer": "ipython3",
   "version": "3.9.12"
  }
 },
 "nbformat": 4,
 "nbformat_minor": 4
}
