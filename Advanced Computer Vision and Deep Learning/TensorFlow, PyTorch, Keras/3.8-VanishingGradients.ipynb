{
 "cells": [
  {
   "cell_type": "markdown",
   "id": "41002d14",
   "metadata": {},
   "source": [
    "## Vanishing Gradients\n",
    "\n",
    "In this example, we use the sigmoid activation function, which is prone to vanishing gradients. As the number of layers increases, the gradients become extremely small, resulting in slow or no learning. The model tries to learn to approximate the function y = X ^ num_layers, but due to vanishing gradients, it struggles to converge.\n",
    "\n",
    "On the other hand, if you change the activation function to 'relu', which is more resistant to vanishing gradients, and increase the number of layers, you might observe the problem of exploding gradients. The gradients can become extremely large, causing the model's weights to update drastically, leading to instability in training."
   ]
  },
  {
   "cell_type": "code",
   "execution_count": 1,
   "id": "e4892bd0",
   "metadata": {},
   "outputs": [],
   "source": [
    "from keras.models import Sequential\n",
    "from keras.layers import Dense\n",
    "from keras import optimizers\n",
    "import numpy as np\n",
    "import matplotlib.pyplot as plt\n",
    "%matplotlib inline"
   ]
  },
  {
   "cell_type": "code",
   "execution_count": 2,
   "id": "c200e8f1",
   "metadata": {},
   "outputs": [],
   "source": [
    "def create_model(num_layers, activation_func):\n",
    "    model = Sequential()\n",
    "    \n",
    "    # Input layer\n",
    "    model.add(Dense(256, activation=activation_func, input_dim=1))\n",
    "    \n",
    "    # Hidden layers\n",
    "    for _ in range(num_layers):\n",
    "        model.add(Dense(256, activation=activation_func))\n",
    "    \n",
    "    # Output layer\n",
    "    model.add(Dense(1, activation='linear'))\n",
    "    \n",
    "    return model"
   ]
  },
  {
   "cell_type": "code",
   "execution_count": 7,
   "id": "c6742bf6",
   "metadata": {},
   "outputs": [],
   "source": [
    "# Number of layers and activation function\n",
    "num_layers = 20\n",
    "activation_func = 'sigmoid' \n",
    "#activation_func = 'relu'\n",
    "\n",
    "# Create the model\n",
    "model = create_model(num_layers, activation_func)"
   ]
  },
  {
   "cell_type": "code",
   "execution_count": 8,
   "id": "1cd68130",
   "metadata": {},
   "outputs": [
    {
     "name": "stdout",
     "output_type": "stream",
     "text": [
      "Epoch 1/15\n",
      "32/32 [==============================] - 1s 17ms/step - loss: nan - accuracy: 0.0000e+00\n",
      "Epoch 2/15\n",
      "32/32 [==============================] - 1s 21ms/step - loss: nan - accuracy: 0.0000e+00\n",
      "Epoch 3/15\n",
      "32/32 [==============================] - 0s 14ms/step - loss: nan - accuracy: 0.0000e+00\n",
      "Epoch 4/15\n",
      "32/32 [==============================] - 1s 19ms/step - loss: nan - accuracy: 0.0000e+00\n",
      "Epoch 5/15\n",
      "32/32 [==============================] - 1s 21ms/step - loss: nan - accuracy: 0.0000e+00\n",
      "Epoch 6/15\n",
      "32/32 [==============================] - 1s 22ms/step - loss: nan - accuracy: 0.0000e+00\n",
      "Epoch 7/15\n",
      "32/32 [==============================] - 1s 18ms/step - loss: nan - accuracy: 0.0000e+00\n",
      "Epoch 8/15\n",
      "32/32 [==============================] - 1s 17ms/step - loss: nan - accuracy: 0.0000e+00\n",
      "Epoch 9/15\n",
      "32/32 [==============================] - 1s 22ms/step - loss: nan - accuracy: 0.0000e+00\n",
      "Epoch 10/15\n",
      "32/32 [==============================] - 1s 20ms/step - loss: nan - accuracy: 0.0000e+00\n",
      "Epoch 11/15\n",
      "32/32 [==============================] - 1s 22ms/step - loss: nan - accuracy: 0.0000e+00\n",
      "Epoch 12/15\n",
      "32/32 [==============================] - 1s 22ms/step - loss: nan - accuracy: 0.0000e+00\n",
      "Epoch 13/15\n",
      "32/32 [==============================] - 1s 20ms/step - loss: nan - accuracy: 0.0000e+00\n",
      "Epoch 14/15\n",
      "32/32 [==============================] - 1s 22ms/step - loss: nan - accuracy: 0.0000e+00\n",
      "Epoch 15/15\n",
      "32/32 [==============================] - 1s 22ms/step - loss: nan - accuracy: 0.0000e+00\n"
     ]
    }
   ],
   "source": [
    "# Compile the model\n",
    "model.compile(optimizer=optimizers.SGD(learning_rate=0.01), loss='mean_squared_error', metrics=['accuracy'])\n",
    "\n",
    "# Generate input data\n",
    "X = np.random.rand(1000, 1) * 10 - 5  # Random values between -5 and 5\n",
    "y = X*num_layers  # Output is raised to the power of the number of layers\n",
    "\n",
    "# Train the model\n",
    "history = model.fit(X, y, epochs=15, batch_size=32, verbose=1)"
   ]
  },
  {
   "cell_type": "code",
   "execution_count": 9,
   "id": "a74279c7",
   "metadata": {},
   "outputs": [
    {
     "data": {
      "text/plain": [
       "Text(0.5, 1.0, 'Loss Curves')"
      ]
     },
     "execution_count": 9,
     "metadata": {},
     "output_type": "execute_result"
    },
    {
     "data": {
      "image/png": "[encoded data removed]",
      "text/plain": [
       "<Figure size 800x600 with 1 Axes>"
      ]
     },
     "metadata": {},
     "output_type": "display_data"
    }
   ],
   "source": [
    "#Plot loss and accuracy\n",
    "plt.figure(figsize=[8,6])\n",
    "plt.plot(history.history['loss'],'r',linewidth=3.0)\n",
    "plt.legend(['Training loss'])\n",
    "plt.xlabel('Epochs ')\n",
    "plt.ylabel('Loss')\n",
    "plt.title('Loss Curves')"
   ]
  },
  {
   "cell_type": "code",
   "execution_count": null,
   "id": "e1038e6f",
   "metadata": {},
   "outputs": [],
   "source": []
  }
 ],
 "metadata": {
  "kernelspec": {
   "display_name": "Python 3 (ipykernel)",
   "language": "python",
   "name": "python3"
  },
  "language_info": {
   "codemirror_mode": {
    "name": "ipython",
    "version": 3
   },
   "file_extension": ".py",
   "mimetype": "text/x-python",
   "name": "python",
   "nbconvert_exporter": "python",
   "pygments_lexer": "ipython3",
   "version": "3.9.16"
  }
 },
 "nbformat": 4,
 "nbformat_minor": 5
}
