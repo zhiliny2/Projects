{
  "cells": [
    {
      "cell_type": "code",
      "execution_count": null,
      "metadata": {
        "colab": {
          "base_uri": "https://localhost:8080/"
        },
        "id": "fN44TpidzhGq",
        "outputId": "f4123157-c18e-430a-871c-210ceeb07f35"
      },
      "outputs": [],
      "source": [
        "!pip install keras_preprocessing\n",
        "!pip install keras_applications\n",
        "# Most Recent One (Suggested)\n",
        "!pip install git+https://github.com/rcmalli/keras-vggface.git\n",
        "# Release Version\n",
        "!pip install keras_vggface\n",
        "# !pip install opencv-python-headless"
      ]
    },
    {
      "cell_type": "code",
      "execution_count": 1,
      "metadata": {
        "colab": {
          "base_uri": "https://localhost:8080/"
        },
        "id": "ptanX_ZvzhGs",
        "outputId": "c4f15cfe-28cf-4804-b3cd-4644ca5451b6"
      },
      "outputs": [
        {
          "name": "stdout",
          "output_type": "stream",
          "text": [
            "2.12.0\n"
          ]
        }
      ],
      "source": [
        "# Import packages\n",
        "import pandas as pd\n",
        "import numpy as np\n",
        "import matplotlib.pyplot as plt\n",
        "import os\n",
        "import cv2\n",
        "import warnings\n",
        "warnings.filterwarnings('ignore')\n",
        "\n",
        "import tensorflow as tf\n",
        "from tensorflow import keras\n",
        "from keras.preprocessing.image import ImageDataGenerator\n",
        "\n",
        "import tensorflow as tf\n",
        "from tensorflow.keras.applications.vgg16 import preprocess_input\n",
        "from tensorflow.keras.models import load_model\n",
        "from keras_vggface.vggface import VGGFace\n",
        "\n",
        "from PIL import Image\n",
        "from keras.models import Model\n",
        "from keras.applications.vgg16 import VGG16\n",
        "from keras_preprocessing import image as keras_image\n",
        "from keras.utils import to_categorical\n",
        "from keras.preprocessing import image\n",
        "from tensorflow.keras.models import Model\n",
        "from tensorflow.keras.layers import GlobalAveragePooling2D\n",
        "from keras_vggface import utils\n",
        "\n",
        "# from google.cloud import storage\n",
        "import numpy as np\n",
        "import cv2\n",
        "import io\n",
        "\n",
        "# display maximum width of columns\n",
        "pd.set_option('display.max_rows', 100)\n",
        "pd.set_option('display.max_columns', None)\n",
        "pd.set_option('display.max_colwidth', 10000)\n",
        "\n",
        "print(keras.__version__)"
      ]
    },
    {
      "cell_type": "markdown",
      "metadata": {
        "id": "DFQzikwCq2Ld"
      },
      "source": [
        "### Data Preprocessing\n",
        "\n",
        "-  Load the label data\n"
      ]
    },
    {
      "cell_type": "code",
      "execution_count": 3,
      "metadata": {
        "colab": {
          "base_uri": "https://localhost:8080/"
        },
        "id": "gTD7d4zw1A2m",
        "outputId": "9a746723-e2ba-4634-ba2b-7d30983afc24"
      },
      "outputs": [
        {
          "name": "stdout",
          "output_type": "stream",
          "text": [
            "Mounted at /content/drive/\n",
            "/content/drive/MyDrive/Machine Learning/MLcode/Final Project\n"
          ]
        }
      ],
      "source": [
        "# Load the Drive helper and mount\n",
        "from google.colab import drive\n",
        "# This will prompt for authorization.\n",
        "drive.mount('/content/drive/')\n",
        "path_gdrive = '/content/drive/MyDrive/Machine Learning/MLcode/Final Project'\n",
        "os.chdir(path_gdrive)\n",
        "print(os.getcwd())"
      ]
    },
    {
      "cell_type": "code",
      "execution_count": null,
      "metadata": {
        "colab": {
          "base_uri": "https://localhost:8080/"
        },
        "id": "Rqo8049Z4qQg",
        "outputId": "3396eda8-8a54-4acf-b926-185f498b83fa"
      },
      "outputs": [
        {
          "name": "stdout",
          "output_type": "stream",
          "text": [
            "['.DS_Store', 'data.csv', 'Images']\n"
          ]
        }
      ],
      "source": [
        "# # Check if the file is located in the correct directory\n",
        "# print(os.listdir('c:/Users/Richa/MLcode/final/BMI/BMI/Data/'))"
      ]
    },
    {
      "cell_type": "code",
      "execution_count": 4,
      "metadata": {
        "colab": {
          "base_uri": "https://localhost:8080/",
          "height": 206
        },
        "id": "_VbO-TklzhGz",
        "outputId": "48bf1fce-3570-406d-fe26-fec22fa95d3f"
      },
      "outputs": [
        {
          "data": {
            "text/html": [
              "\n",
              "  <div id=\"df-04c021ad-9c78-42a9-8c8a-cf0577c91986\">\n",
              "    <div class=\"colab-df-container\">\n",
              "      <div>\n",
              "<style scoped>\n",
              "    .dataframe tbody tr th:only-of-type {\n",
              "        vertical-align: middle;\n",
              "    }\n",
              "\n",
              "    .dataframe tbody tr th {\n",
              "        vertical-align: top;\n",
              "    }\n",
              "\n",
              "    .dataframe thead th {\n",
              "        text-align: right;\n",
              "    }\n",
              "</style>\n",
              "<table border=\"1\" class=\"dataframe\">\n",
              "  <thead>\n",
              "    <tr style=\"text-align: right;\">\n",
              "      <th></th>\n",
              "      <th>id</th>\n",
              "      <th>bmi</th>\n",
              "      <th>gender</th>\n",
              "      <th>is_training</th>\n",
              "      <th>name</th>\n",
              "      <th>bmi_category</th>\n",
              "    </tr>\n",
              "  </thead>\n",
              "  <tbody>\n",
              "    <tr>\n",
              "      <th>0</th>\n",
              "      <td>0</td>\n",
              "      <td>34.207396</td>\n",
              "      <td>Male</td>\n",
              "      <td>1</td>\n",
              "      <td>img_0.bmp</td>\n",
              "      <td>moderately obese</td>\n",
              "    </tr>\n",
              "    <tr>\n",
              "      <th>1</th>\n",
              "      <td>1</td>\n",
              "      <td>26.453720</td>\n",
              "      <td>Male</td>\n",
              "      <td>1</td>\n",
              "      <td>img_1.bmp</td>\n",
              "      <td>overweight</td>\n",
              "    </tr>\n",
              "    <tr>\n",
              "      <th>2</th>\n",
              "      <td>2</td>\n",
              "      <td>34.967561</td>\n",
              "      <td>Female</td>\n",
              "      <td>1</td>\n",
              "      <td>img_2.bmp</td>\n",
              "      <td>moderately obese</td>\n",
              "    </tr>\n",
              "    <tr>\n",
              "      <th>3</th>\n",
              "      <td>3</td>\n",
              "      <td>22.044766</td>\n",
              "      <td>Female</td>\n",
              "      <td>1</td>\n",
              "      <td>img_3.bmp</td>\n",
              "      <td>normal</td>\n",
              "    </tr>\n",
              "    <tr>\n",
              "      <th>4</th>\n",
              "      <td>4</td>\n",
              "      <td>37.758789</td>\n",
              "      <td>Female</td>\n",
              "      <td>1</td>\n",
              "      <td>img_4.bmp</td>\n",
              "      <td>severely obese</td>\n",
              "    </tr>\n",
              "  </tbody>\n",
              "</table>\n",
              "</div>\n",
              "      <button class=\"colab-df-convert\" onclick=\"convertToInteractive('df-04c021ad-9c78-42a9-8c8a-cf0577c91986')\"\n",
              "              title=\"Convert this dataframe to an interactive table.\"\n",
              "              style=\"display:none;\">\n",
              "        \n",
              "  <svg xmlns=\"http://www.w3.org/2000/svg\" height=\"24px\"viewBox=\"0 0 24 24\"\n",
              "       width=\"24px\">\n",
              "    <path d=\"M0 0h24v24H0V0z\" fill=\"none\"/>\n",
              "    <path d=\"M18.56 5.44l.94 2.06.94-2.06 2.06-.94-2.06-.94-.94-2.06-.94 2.06-2.06.94zm-11 1L8.5 8.5l.94-2.06 2.06-.94-2.06-.94L8.5 2.5l-.94 2.06-2.06.94zm10 10l.94 2.06.94-2.06 2.06-.94-2.06-.94-.94-2.06-.94 2.06-2.06.94z\"/><path d=\"M17.41 7.96l-1.37-1.37c-.4-.4-.92-.59-1.43-.59-.52 0-1.04.2-1.43.59L10.3 9.45l-7.72 7.72c-.78.78-.78 2.05 0 2.83L4 21.41c.39.39.9.59 1.41.59.51 0 1.02-.2 1.41-.59l7.78-7.78 2.81-2.81c.8-.78.8-2.07 0-2.86zM5.41 20L4 18.59l7.72-7.72 1.47 1.35L5.41 20z\"/>\n",
              "  </svg>\n",
              "      </button>\n",
              "      \n",
              "  <style>\n",
              "    .colab-df-container {\n",
              "      display:flex;\n",
              "      flex-wrap:wrap;\n",
              "      gap: 12px;\n",
              "    }\n",
              "\n",
              "    .colab-df-convert {\n",
              "      background-color: #E8F0FE;\n",
              "      border: none;\n",
              "      border-radius: 50%;\n",
              "      cursor: pointer;\n",
              "      display: none;\n",
              "      fill: #1967D2;\n",
              "      height: 32px;\n",
              "      padding: 0 0 0 0;\n",
              "      width: 32px;\n",
              "    }\n",
              "\n",
              "    .colab-df-convert:hover {\n",
              "      background-color: #E2EBFA;\n",
              "      box-shadow: 0px 1px 2px rgba(60, 64, 67, 0.3), 0px 1px 3px 1px rgba(60, 64, 67, 0.15);\n",
              "      fill: #174EA6;\n",
              "    }\n",
              "\n",
              "    [theme=dark] .colab-df-convert {\n",
              "      background-color: #3B4455;\n",
              "      fill: #D2E3FC;\n",
              "    }\n",
              "\n",
              "    [theme=dark] .colab-df-convert:hover {\n",
              "      background-color: #434B5C;\n",
              "      box-shadow: 0px 1px 3px 1px rgba(0, 0, 0, 0.15);\n",
              "      filter: drop-shadow(0px 1px 2px rgba(0, 0, 0, 0.3));\n",
              "      fill: #FFFFFF;\n",
              "    }\n",
              "  </style>\n",
              "\n",
              "      <script>\n",
              "        const buttonEl =\n",
              "          document.querySelector('#df-04c021ad-9c78-42a9-8c8a-cf0577c91986 button.colab-df-convert');\n",
              "        buttonEl.style.display =\n",
              "          google.colab.kernel.accessAllowed ? 'block' : 'none';\n",
              "\n",
              "        async function convertToInteractive(key) {\n",
              "          const element = document.querySelector('#df-04c021ad-9c78-42a9-8c8a-cf0577c91986');\n",
              "          const dataTable =\n",
              "            await google.colab.kernel.invokeFunction('convertToInteractive',\n",
              "                                                     [key], {});\n",
              "          if (!dataTable) return;\n",
              "\n",
              "          const docLinkHtml = 'Like what you see? Visit the ' +\n",
              "            '<a target=\"_blank\" href=https://colab.research.google.com/notebooks/data_table.ipynb>data table notebook</a>'\n",
              "            + ' to learn more about interactive tables.';\n",
              "          element.innerHTML = '';\n",
              "          dataTable['output_type'] = 'display_data';\n",
              "          await google.colab.output.renderOutput(dataTable, element);\n",
              "          const docLink = document.createElement('div');\n",
              "          docLink.innerHTML = docLinkHtml;\n",
              "          element.appendChild(docLink);\n",
              "        }\n",
              "      </script>\n",
              "    </div>\n",
              "  </div>\n",
              "  "
            ],
            "text/plain": [
              "   id        bmi  gender  is_training       name      bmi_category\n",
              "0   0  34.207396    Male            1  img_0.bmp  moderately obese\n",
              "1   1  26.453720    Male            1  img_1.bmp        overweight\n",
              "2   2  34.967561  Female            1  img_2.bmp  moderately obese\n",
              "3   3  22.044766  Female            1  img_3.bmp            normal\n",
              "4   4  37.758789  Female            1  img_4.bmp    severely obese"
            ]
          },
          "execution_count": 4,
          "metadata": {},
          "output_type": "execute_result"
        }
      ],
      "source": [
        "# Read the label file\n",
        "df_label = pd.read_csv('./BMI/BMI/Data/data.csv')\n",
        "# change the first column name to id\n",
        "df_label.rename(columns={'Unnamed: 0':'id'}, inplace=True)\n",
        "# add a new column to indicate the category of BMI\n",
        "df_label['bmi_category'] = pd.cut(df_label['bmi'], bins=[16, 18.5, 25, 30, 35, 40, 100], labels=['underweight', 'normal', 'overweight', 'moderately obese', 'severely obese', 'very severely obese'])\n",
        "\n",
        "df_label.head()\n"
      ]
    },
    {
      "cell_type": "markdown",
      "metadata": {
        "id": "6tJOpRtb14dv"
      },
      "source": [
        "- Load the image data"
      ]
    },
    {
      "cell_type": "code",
      "execution_count": 5,
      "metadata": {
        "id": "-jsmU6Z53UyS"
      },
      "outputs": [],
      "source": [
        "# Load data\n",
        "data_df = df_label.copy()\n",
        "# split the data into training and test set\n",
        "training_set = data_df[data_df['is_training'] == 1]\n",
        "test_set = data_df[data_df['is_training'] == 0]"
      ]
    },
    {
      "cell_type": "code",
      "execution_count": null,
      "metadata": {
        "colab": {
          "base_uri": "https://localhost:8080/",
          "height": 423
        },
        "id": "CuHcxbGq62Rb",
        "outputId": "6e28bc41-7126-4968-faac-eee48a88c5e0"
      },
      "outputs": [
        {
          "data": {
            "text/html": [
              "\n",
              "  <div id=\"df-0e3a60ce-5694-41a9-b24b-c9f4b83bed34\">\n",
              "    <div class=\"colab-df-container\">\n",
              "      <div>\n",
              "<style scoped>\n",
              "    .dataframe tbody tr th:only-of-type {\n",
              "        vertical-align: middle;\n",
              "    }\n",
              "\n",
              "    .dataframe tbody tr th {\n",
              "        vertical-align: top;\n",
              "    }\n",
              "\n",
              "    .dataframe thead th {\n",
              "        text-align: right;\n",
              "    }\n",
              "</style>\n",
              "<table border=\"1\" class=\"dataframe\">\n",
              "  <thead>\n",
              "    <tr style=\"text-align: right;\">\n",
              "      <th></th>\n",
              "      <th>id</th>\n",
              "      <th>bmi</th>\n",
              "      <th>gender</th>\n",
              "      <th>is_training</th>\n",
              "      <th>name</th>\n",
              "      <th>bmi_category</th>\n",
              "    </tr>\n",
              "  </thead>\n",
              "  <tbody>\n",
              "    <tr>\n",
              "      <th>0</th>\n",
              "      <td>0</td>\n",
              "      <td>34.207396</td>\n",
              "      <td>Male</td>\n",
              "      <td>1</td>\n",
              "      <td>img_0.bmp</td>\n",
              "      <td>moderately obese</td>\n",
              "    </tr>\n",
              "    <tr>\n",
              "      <th>1</th>\n",
              "      <td>1</td>\n",
              "      <td>26.453720</td>\n",
              "      <td>Male</td>\n",
              "      <td>1</td>\n",
              "      <td>img_1.bmp</td>\n",
              "      <td>overweight</td>\n",
              "    </tr>\n",
              "    <tr>\n",
              "      <th>2</th>\n",
              "      <td>2</td>\n",
              "      <td>34.967561</td>\n",
              "      <td>Female</td>\n",
              "      <td>1</td>\n",
              "      <td>img_2.bmp</td>\n",
              "      <td>moderately obese</td>\n",
              "    </tr>\n",
              "    <tr>\n",
              "      <th>3</th>\n",
              "      <td>3</td>\n",
              "      <td>22.044766</td>\n",
              "      <td>Female</td>\n",
              "      <td>1</td>\n",
              "      <td>img_3.bmp</td>\n",
              "      <td>normal</td>\n",
              "    </tr>\n",
              "    <tr>\n",
              "      <th>4</th>\n",
              "      <td>4</td>\n",
              "      <td>37.758789</td>\n",
              "      <td>Female</td>\n",
              "      <td>1</td>\n",
              "      <td>img_4.bmp</td>\n",
              "      <td>severely obese</td>\n",
              "    </tr>\n",
              "    <tr>\n",
              "      <th>...</th>\n",
              "      <td>...</td>\n",
              "      <td>...</td>\n",
              "      <td>...</td>\n",
              "      <td>...</td>\n",
              "      <td>...</td>\n",
              "      <td>...</td>\n",
              "    </tr>\n",
              "    <tr>\n",
              "      <th>3363</th>\n",
              "      <td>3363</td>\n",
              "      <td>22.128772</td>\n",
              "      <td>Female</td>\n",
              "      <td>1</td>\n",
              "      <td>img_3363.bmp</td>\n",
              "      <td>normal</td>\n",
              "    </tr>\n",
              "    <tr>\n",
              "      <th>3364</th>\n",
              "      <td>3364</td>\n",
              "      <td>38.770270</td>\n",
              "      <td>Male</td>\n",
              "      <td>1</td>\n",
              "      <td>img_3364.bmp</td>\n",
              "      <td>severely obese</td>\n",
              "    </tr>\n",
              "    <tr>\n",
              "      <th>3365</th>\n",
              "      <td>3365</td>\n",
              "      <td>31.581081</td>\n",
              "      <td>Male</td>\n",
              "      <td>1</td>\n",
              "      <td>img_3365.bmp</td>\n",
              "      <td>moderately obese</td>\n",
              "    </tr>\n",
              "    <tr>\n",
              "      <th>3366</th>\n",
              "      <td>3366</td>\n",
              "      <td>29.049587</td>\n",
              "      <td>Female</td>\n",
              "      <td>1</td>\n",
              "      <td>img_3366.bmp</td>\n",
              "      <td>overweight</td>\n",
              "    </tr>\n",
              "    <tr>\n",
              "      <th>3367</th>\n",
              "      <td>3367</td>\n",
              "      <td>26.306015</td>\n",
              "      <td>Female</td>\n",
              "      <td>1</td>\n",
              "      <td>img_3367.bmp</td>\n",
              "      <td>overweight</td>\n",
              "    </tr>\n",
              "  </tbody>\n",
              "</table>\n",
              "<p>3368 rows × 6 columns</p>\n",
              "</div>\n",
              "      <button class=\"colab-df-convert\" onclick=\"convertToInteractive('df-0e3a60ce-5694-41a9-b24b-c9f4b83bed34')\"\n",
              "              title=\"Convert this dataframe to an interactive table.\"\n",
              "              style=\"display:none;\">\n",
              "        \n",
              "  <svg xmlns=\"http://www.w3.org/2000/svg\" height=\"24px\"viewBox=\"0 0 24 24\"\n",
              "       width=\"24px\">\n",
              "    <path d=\"M0 0h24v24H0V0z\" fill=\"none\"/>\n",
              "    <path d=\"M18.56 5.44l.94 2.06.94-2.06 2.06-.94-2.06-.94-.94-2.06-.94 2.06-2.06.94zm-11 1L8.5 8.5l.94-2.06 2.06-.94-2.06-.94L8.5 2.5l-.94 2.06-2.06.94zm10 10l.94 2.06.94-2.06 2.06-.94-2.06-.94-.94-2.06-.94 2.06-2.06.94z\"/><path d=\"M17.41 7.96l-1.37-1.37c-.4-.4-.92-.59-1.43-.59-.52 0-1.04.2-1.43.59L10.3 9.45l-7.72 7.72c-.78.78-.78 2.05 0 2.83L4 21.41c.39.39.9.59 1.41.59.51 0 1.02-.2 1.41-.59l7.78-7.78 2.81-2.81c.8-.78.8-2.07 0-2.86zM5.41 20L4 18.59l7.72-7.72 1.47 1.35L5.41 20z\"/>\n",
              "  </svg>\n",
              "      </button>\n",
              "      \n",
              "  <style>\n",
              "    .colab-df-container {\n",
              "      display:flex;\n",
              "      flex-wrap:wrap;\n",
              "      gap: 12px;\n",
              "    }\n",
              "\n",
              "    .colab-df-convert {\n",
              "      background-color: #E8F0FE;\n",
              "      border: none;\n",
              "      border-radius: 50%;\n",
              "      cursor: pointer;\n",
              "      display: none;\n",
              "      fill: #1967D2;\n",
              "      height: 32px;\n",
              "      padding: 0 0 0 0;\n",
              "      width: 32px;\n",
              "    }\n",
              "\n",
              "    .colab-df-convert:hover {\n",
              "      background-color: #E2EBFA;\n",
              "      box-shadow: 0px 1px 2px rgba(60, 64, 67, 0.3), 0px 1px 3px 1px rgba(60, 64, 67, 0.15);\n",
              "      fill: #174EA6;\n",
              "    }\n",
              "\n",
              "    [theme=dark] .colab-df-convert {\n",
              "      background-color: #3B4455;\n",
              "      fill: #D2E3FC;\n",
              "    }\n",
              "\n",
              "    [theme=dark] .colab-df-convert:hover {\n",
              "      background-color: #434B5C;\n",
              "      box-shadow: 0px 1px 3px 1px rgba(0, 0, 0, 0.15);\n",
              "      filter: drop-shadow(0px 1px 2px rgba(0, 0, 0, 0.3));\n",
              "      fill: #FFFFFF;\n",
              "    }\n",
              "  </style>\n",
              "\n",
              "      <script>\n",
              "        const buttonEl =\n",
              "          document.querySelector('#df-0e3a60ce-5694-41a9-b24b-c9f4b83bed34 button.colab-df-convert');\n",
              "        buttonEl.style.display =\n",
              "          google.colab.kernel.accessAllowed ? 'block' : 'none';\n",
              "\n",
              "        async function convertToInteractive(key) {\n",
              "          const element = document.querySelector('#df-0e3a60ce-5694-41a9-b24b-c9f4b83bed34');\n",
              "          const dataTable =\n",
              "            await google.colab.kernel.invokeFunction('convertToInteractive',\n",
              "                                                     [key], {});\n",
              "          if (!dataTable) return;\n",
              "\n",
              "          const docLinkHtml = 'Like what you see? Visit the ' +\n",
              "            '<a target=\"_blank\" href=https://colab.research.google.com/notebooks/data_table.ipynb>data table notebook</a>'\n",
              "            + ' to learn more about interactive tables.';\n",
              "          element.innerHTML = '';\n",
              "          dataTable['output_type'] = 'display_data';\n",
              "          await google.colab.output.renderOutput(dataTable, element);\n",
              "          const docLink = document.createElement('div');\n",
              "          docLink.innerHTML = docLinkHtml;\n",
              "          element.appendChild(docLink);\n",
              "        }\n",
              "      </script>\n",
              "    </div>\n",
              "  </div>\n",
              "  "
            ],
            "text/plain": [
              "        id        bmi  gender  is_training          name      bmi_category\n",
              "0        0  34.207396    Male            1     img_0.bmp  moderately obese\n",
              "1        1  26.453720    Male            1     img_1.bmp        overweight\n",
              "2        2  34.967561  Female            1     img_2.bmp  moderately obese\n",
              "3        3  22.044766  Female            1     img_3.bmp            normal\n",
              "4        4  37.758789  Female            1     img_4.bmp    severely obese\n",
              "...    ...        ...     ...          ...           ...               ...\n",
              "3363  3363  22.128772  Female            1  img_3363.bmp            normal\n",
              "3364  3364  38.770270    Male            1  img_3364.bmp    severely obese\n",
              "3365  3365  31.581081    Male            1  img_3365.bmp  moderately obese\n",
              "3366  3366  29.049587  Female            1  img_3366.bmp        overweight\n",
              "3367  3367  26.306015  Female            1  img_3367.bmp        overweight\n",
              "\n",
              "[3368 rows x 6 columns]"
            ]
          },
          "execution_count": 16,
          "metadata": {},
          "output_type": "execute_result"
        }
      ],
      "source": [
        "training_set"
      ]
    },
    {
      "cell_type": "code",
      "execution_count": null,
      "metadata": {
        "colab": {
          "base_uri": "https://localhost:8080/"
        },
        "id": "m3Mrrv-C0NX7",
        "outputId": "b5b0ff2d-62e5-48d5-e823-a210d5bd17a3"
      },
      "outputs": [
        {
          "name": "stdout",
          "output_type": "stream",
          "text": [
            "Train shape: (3210, 7)\n",
            "Test shape: (752, 7)\n"
          ]
        }
      ],
      "source": [
        "img_dir = './BMI/BMI/Data/Images'\n",
        "\n",
        "def load_image_kimage(img_dir):\n",
        "    # Load the image file\n",
        "    img = keras_image.load_img(img_dir, target_size=(224, 224))\n",
        "    x = keras_image.img_to_array(img)\n",
        "    x = preprocess_input(x)\n",
        "    return x\n",
        "\n",
        "# Initialize empty lists to store the images and existing image names\n",
        "images_kimage = []\n",
        "existing_images = []\n",
        "\n",
        "# Iterate over the file names\n",
        "for fname in data_df['name']:\n",
        "    img_path = os.path.join(img_dir, fname)\n",
        "    \n",
        "    # Check if the file exists\n",
        "    if os.path.exists(img_path):\n",
        "        # If the file exists, load the image and append it to the lists\n",
        "        images_kimage.append(load_image_kimage(img_path))\n",
        "        existing_images.append(fname)\n",
        "\n",
        "# Create a new DataFrame with the existing image information\n",
        "existing_images_df = data_df[data_df['name'].isin(existing_images)].copy()\n",
        "existing_images_df['image'] = images_kimage\n",
        "\n",
        "# Split into train and test sets based on the 'is_training' column\n",
        "train_df = existing_images_df[existing_images_df['is_training'] == 1]\n",
        "test_df = existing_images_df[existing_images_df['is_training'] == 0]\n",
        "\n",
        "# Convert the 'image' column to a numpy array\n",
        "train_images = np.array(train_df['image'].tolist())\n",
        "test_images = np.array(test_df['image'].tolist())\n",
        "\n",
        "# Verify the shape of the train and test DataFrames\n",
        "print(\"Train shape:\", train_df.shape)\n",
        "print(\"Test shape:\", test_df.shape)\n"
      ]
    },
    {
      "cell_type": "code",
      "execution_count": null,
      "metadata": {
        "colab": {
          "base_uri": "https://localhost:8080/"
        },
        "id": "yK9Ajhcl2aIz",
        "outputId": "2dfece6e-7d02-4898-cd72-54d8f4a18018"
      },
      "outputs": [
        {
          "name": "stdout",
          "output_type": "stream",
          "text": [
            "Files saved successfully.\n"
          ]
        }
      ],
      "source": [
        "import numpy as np\n",
        "\n",
        "# Save existing_images_df to CSV\n",
        "existing_images_df.to_csv('existing_images_df.csv', index=False)\n",
        "\n",
        "# Save train_images and test_images to .npy files\n",
        "np.save('train_images.npy', train_images)\n",
        "np.save('test_images.npy', test_images)\n",
        "\n",
        "print(\"Files saved successfully.\")\n"
      ]
    },
    {
      "cell_type": "code",
      "execution_count": 6,
      "metadata": {
        "id": "vrnDPCFuIYHQ"
      },
      "outputs": [],
      "source": [
        "train_images = np.load('train_images.npy')\n",
        "test_images = np.load('test_images.npy')"
      ]
    },
    {
      "cell_type": "code",
      "execution_count": 7,
      "metadata": {
        "id": "rI3bZFc7Mo3h"
      },
      "outputs": [],
      "source": [
        "# extract the y_train, exclude the images that are not in the training set\n",
        "y_train = []\n",
        "img_dir = './BMI/BMI/Data/Images'\n",
        "train_set = data_df[data_df['is_training'] == 1]\n",
        "for name in train_set['name']:\n",
        "    img_path = os.path.join(img_dir, name)\n",
        "    if os.path.exists(img_path):\n",
        "        y_train.append(train_set.loc[train_set['name'] == name, 'bmi'].iloc[0])\n",
        "y_train = np.array(y_train)"
      ]
    },
    {
      "cell_type": "code",
      "execution_count": 8,
      "metadata": {
        "id": "KRxQXhJiv1Gj"
      },
      "outputs": [],
      "source": [
        "# extract the y_test, exclude the images that are not in the test set\n",
        "y_test = []\n",
        "img_dir = './BMI/BMI/Data/Images'\n",
        "test_set = data_df[data_df['is_training'] == 0]\n",
        "for name in test_set['name']:\n",
        "    img_path = os.path.join(img_dir, name)\n",
        "    if os.path.exists(img_path):\n",
        "        y_test.append(test_set.loc[test_set['name'] == name, 'bmi'].iloc[0])\n",
        "y_test = np.array(y_test)"
      ]
    },
    {
      "cell_type": "code",
      "execution_count": 9,
      "metadata": {
        "colab": {
          "base_uri": "https://localhost:8080/"
        },
        "id": "SJ-BKvb1DQ0j",
        "outputId": "aba21432-55f0-434d-cad7-a22d4afb91ff"
      },
      "outputs": [
        {
          "name": "stdout",
          "output_type": "stream",
          "text": [
            "y_train shape: (3210,)\n",
            "y_test shape: (752,)\n"
          ]
        }
      ],
      "source": [
        "# print the shape of y_train and y_test\n",
        "print(f'y_train shape: {y_train.shape}')\n",
        "print(f'y_test shape: {y_test.shape}')"
      ]
    },
    {
      "cell_type": "markdown",
      "metadata": {
        "id": "7u6SLAHaGwcO"
      },
      "source": [
        "## Feature Extraction using VGG resnet50 model"
      ]
    },
    {
      "cell_type": "markdown",
      "metadata": {
        "id": "ukbGvsTFq2Lm"
      },
      "source": [
        "In this section, we will use the pretrained VGG resnet50 model to extract features from the images. The features will be used to train the SVR model."
      ]
    },
    {
      "cell_type": "code",
      "execution_count": 10,
      "metadata": {
        "colab": {
          "base_uri": "https://localhost:8080/"
        },
        "id": "kVNPWduOHIfs",
        "outputId": "729c22f0-8ba7-4d87-ae79-91d909914a5e"
      },
      "outputs": [
        {
          "name": "stdout",
          "output_type": "stream",
          "text": [
            "(3368, 6)\n",
            "(838, 6)\n"
          ]
        }
      ],
      "source": [
        "# split the data into training and validation sets by 'is_training' column\n",
        "train_df = data_df[data_df['is_training'] == 1]\n",
        "val_df = data_df[data_df['is_training'] == 0]\n",
        "\n",
        "# print the shape of the training and validation sets\n",
        "print(train_df.shape)\n",
        "print(val_df.shape)"
      ]
    },
    {
      "cell_type": "code",
      "execution_count": null,
      "metadata": {
        "id": "wtzzO_IqGUww"
      },
      "outputs": [],
      "source": [
        "# image directory\n",
        "img_dir = './BMI/BMI/Data/Images'\n",
        "\n",
        "# Create a VGGFace model with the ResNet50 architecture, without the final fully connected layer\n",
        "resnet50_model = VGGFace(model='resnet50', include_top=False, input_shape=(224, 224, 3))\n",
        "\n",
        "# Get the output of the \"avg_pool\" layer\n",
        "avg_pool_output = resnet50_model.get_layer(\"avg_pool\").output\n",
        "\n",
        "# Create a new model that outputs the features from the \"avg_pool\" layer\n",
        "vgg_resnet50 = Model(inputs=resnet50_model.input, outputs=avg_pool_output)\n",
        "\n",
        "# Compile the feature extraction model (optional, as it won't be trained)\n",
        "vgg_resnet50.compile()\n",
        "\n",
        "# Batch size for processing images\n",
        "batch_size = 32\n",
        "X_train_resnet50 = []\n"
      ]
    },
    {
      "cell_type": "code",
      "execution_count": null,
      "metadata": {
        "colab": {
          "base_uri": "https://localhost:8080/"
        },
        "id": "PkGLbTvk5d0-",
        "outputId": "82221167-55d1-4761-bb49-050a2c28ea19"
      },
      "outputs": [
        {
          "name": "stdout",
          "output_type": "stream",
          "text": [
            "1/1 [==============================] - 9s 9s/step\n",
            "1/1 [==============================] - 1s 1s/step\n",
            "1/1 [==============================] - 0s 42ms/step\n",
            "1/1 [==============================] - 0s 56ms/step\n",
            "1/1 [==============================] - 1s 1s/step\n",
            "1/1 [==============================] - 0s 31ms/step\n",
            "1/1 [==============================] - 0s 41ms/step\n",
            "1/1 [==============================] - 0s 38ms/step\n",
            "1/1 [==============================] - 0s 38ms/step\n",
            "1/1 [==============================] - 1s 1s/step\n",
            "1/1 [==============================] - 0s 40ms/step\n",
            "1/1 [==============================] - 0s 40ms/step\n",
            "1/1 [==============================] - 0s 33ms/step\n",
            "1/1 [==============================] - 0s 41ms/step\n",
            "1/1 [==============================] - 0s 41ms/step\n",
            "1/1 [==============================] - 0s 39ms/step\n",
            "1/1 [==============================] - 0s 34ms/step\n",
            "1/1 [==============================] - 0s 38ms/step\n",
            "1/1 [==============================] - 0s 93ms/step\n",
            "1/1 [==============================] - 0s 49ms/step\n",
            "1/1 [==============================] - 0s 32ms/step\n",
            "1/1 [==============================] - 0s 33ms/step\n",
            "1/1 [==============================] - 0s 120ms/step\n",
            "1/1 [==============================] - 0s 32ms/step\n",
            "1/1 [==============================] - 0s 39ms/step\n",
            "1/1 [==============================] - 0s 32ms/step\n",
            "1/1 [==============================] - 0s 35ms/step\n",
            "1/1 [==============================] - 0s 32ms/step\n",
            "1/1 [==============================] - 0s 32ms/step\n",
            "1/1 [==============================] - 0s 33ms/step\n",
            "1/1 [==============================] - 0s 34ms/step\n",
            "1/1 [==============================] - 0s 31ms/step\n",
            "1/1 [==============================] - 0s 46ms/step\n",
            "1/1 [==============================] - 0s 52ms/step\n",
            "1/1 [==============================] - 0s 47ms/step\n",
            "1/1 [==============================] - 0s 33ms/step\n",
            "1/1 [==============================] - 0s 34ms/step\n",
            "1/1 [==============================] - 0s 32ms/step\n",
            "1/1 [==============================] - 0s 31ms/step\n",
            "1/1 [==============================] - 0s 43ms/step\n",
            "1/1 [==============================] - 0s 32ms/step\n",
            "1/1 [==============================] - 1s 1s/step\n",
            "1/1 [==============================] - 0s 41ms/step\n",
            "1/1 [==============================] - 0s 33ms/step\n",
            "1/1 [==============================] - 0s 32ms/step\n",
            "1/1 [==============================] - 0s 39ms/step\n",
            "1/1 [==============================] - 0s 32ms/step\n",
            "1/1 [==============================] - 0s 34ms/step\n",
            "1/1 [==============================] - 0s 34ms/step\n",
            "1/1 [==============================] - 0s 37ms/step\n",
            "1/1 [==============================] - 0s 35ms/step\n",
            "1/1 [==============================] - 0s 39ms/step\n",
            "1/1 [==============================] - 0s 31ms/step\n",
            "1/1 [==============================] - 1s 1s/step\n",
            "1/1 [==============================] - 0s 47ms/step\n",
            "1/1 [==============================] - 0s 44ms/step\n",
            "1/1 [==============================] - 0s 34ms/step\n",
            "1/1 [==============================] - 0s 30ms/step\n",
            "1/1 [==============================] - 0s 33ms/step\n",
            "1/1 [==============================] - 0s 35ms/step\n",
            "1/1 [==============================] - 0s 31ms/step\n",
            "1/1 [==============================] - 0s 35ms/step\n",
            "1/1 [==============================] - 0s 34ms/step\n",
            "1/1 [==============================] - 0s 32ms/step\n",
            "1/1 [==============================] - 0s 52ms/step\n",
            "1/1 [==============================] - 0s 103ms/step\n",
            "1/1 [==============================] - 0s 33ms/step\n",
            "1/1 [==============================] - 0s 39ms/step\n",
            "1/1 [==============================] - 0s 34ms/step\n",
            "1/1 [==============================] - 0s 32ms/step\n",
            "1/1 [==============================] - 1s 1s/step\n",
            "1/1 [==============================] - 0s 32ms/step\n",
            "1/1 [==============================] - 0s 32ms/step\n",
            "1/1 [==============================] - 0s 32ms/step\n",
            "1/1 [==============================] - 0s 32ms/step\n",
            "1/1 [==============================] - 0s 32ms/step\n",
            "1/1 [==============================] - 0s 33ms/step\n",
            "1/1 [==============================] - 0s 46ms/step\n",
            "1/1 [==============================] - 0s 46ms/step\n",
            "1/1 [==============================] - 0s 82ms/step\n",
            "1/1 [==============================] - 0s 33ms/step\n",
            "1/1 [==============================] - 0s 33ms/step\n",
            "1/1 [==============================] - 0s 31ms/step\n",
            "1/1 [==============================] - 0s 32ms/step\n",
            "1/1 [==============================] - 0s 33ms/step\n",
            "1/1 [==============================] - 1s 1s/step\n",
            "1/1 [==============================] - 0s 33ms/step\n",
            "1/1 [==============================] - 0s 32ms/step\n",
            "1/1 [==============================] - 0s 34ms/step\n",
            "1/1 [==============================] - 0s 33ms/step\n",
            "1/1 [==============================] - 0s 33ms/step\n",
            "1/1 [==============================] - 0s 31ms/step\n",
            "1/1 [==============================] - 0s 43ms/step\n",
            "1/1 [==============================] - 0s 31ms/step\n",
            "1/1 [==============================] - 0s 33ms/step\n",
            "1/1 [==============================] - 0s 32ms/step\n",
            "1/1 [==============================] - 0s 34ms/step\n",
            "1/1 [==============================] - 0s 31ms/step\n",
            "1/1 [==============================] - 0s 31ms/step\n",
            "1/1 [==============================] - 0s 36ms/step\n",
            "1/1 [==============================] - 0s 36ms/step\n",
            "1/1 [==============================] - 0s 32ms/step\n",
            "1/1 [==============================] - 0s 34ms/step\n",
            "1/1 [==============================] - 0s 45ms/step\n",
            "1/1 [==============================] - 0s 53ms/step\n",
            "1/1 [==============================] - 1s 623ms/step\n"
          ]
        }
      ],
      "source": [
        "# Iterate over images in batches\n",
        "for i in range(0, len(training_set), batch_size):\n",
        "    batch_paths = [os.path.join(img_dir, name) for name in training_set['name'][i:i+batch_size]]\n",
        "    batch_images = []\n",
        "\n",
        " # Load and preprocess batch of images\n",
        "    for path in batch_paths:\n",
        "        if os.path.exists(path):\n",
        "            img = keras_image.load_img(path, target_size=(224, 224))\n",
        "            x = keras_image.img_to_array(img)\n",
        "            x = np.expand_dims(x, axis=0)\n",
        "            x = preprocess_input(x)\n",
        "            batch_images.append(x)\n",
        "        else:\n",
        "            None\n",
        "    if len(batch_images) > 0:\n",
        "        batch_images = np.vstack(batch_images)\n",
        "        batch_features = vgg_resnet50.predict(batch_images)\n",
        "        batch_features = batch_features.reshape(len(batch_images), -1)\n",
        "        X_train_resnet50.append(batch_features)\n",
        "\n",
        "# Concatenate features from all batches\n",
        "X_train_resnet50 = np.concatenate(X_train_resnet50, axis=0)"
      ]
    },
    {
      "cell_type": "code",
      "execution_count": null,
      "metadata": {
        "id": "0OrXuOht_RYH"
      },
      "outputs": [],
      "source": [
        "# store the extracted features in a .npy file\n",
        "np.save('X_train_resnet50.npy', X_train_resnet50)"
      ]
    },
    {
      "cell_type": "code",
      "execution_count": null,
      "metadata": {
        "colab": {
          "base_uri": "https://localhost:8080/"
        },
        "id": "p8-MlShZ8rtX",
        "outputId": "ed0c32b8-085a-4a29-d515-4696e004571c"
      },
      "outputs": [
        {
          "name": "stdout",
          "output_type": "stream",
          "text": [
            "1/1 [==============================] - 4s 4s/step\n",
            "1/1 [==============================] - 1s 1s/step\n",
            "1/1 [==============================] - 1s 1s/step\n",
            "1/1 [==============================] - 0s 32ms/step\n",
            "1/1 [==============================] - 0s 36ms/step\n",
            "1/1 [==============================] - 1s 1s/step\n",
            "1/1 [==============================] - 1s 1s/step\n",
            "1/1 [==============================] - 0s 52ms/step\n",
            "1/1 [==============================] - 0s 55ms/step\n",
            "1/1 [==============================] - 0s 32ms/step\n",
            "1/1 [==============================] - 0s 38ms/step\n",
            "1/1 [==============================] - 1s 1s/step\n",
            "1/1 [==============================] - 0s 39ms/step\n",
            "1/1 [==============================] - 1s 1s/step\n",
            "1/1 [==============================] - 0s 39ms/step\n",
            "1/1 [==============================] - 0s 59ms/step\n",
            "1/1 [==============================] - 0s 36ms/step\n",
            "1/1 [==============================] - 0s 31ms/step\n",
            "1/1 [==============================] - 1s 1s/step\n",
            "1/1 [==============================] - 0s 32ms/step\n",
            "1/1 [==============================] - 0s 43ms/step\n",
            "1/1 [==============================] - 0s 32ms/step\n",
            "1/1 [==============================] - 0s 40ms/step\n",
            "1/1 [==============================] - 0s 32ms/step\n",
            "1/1 [==============================] - 0s 45ms/step\n",
            "1/1 [==============================] - 0s 31ms/step\n",
            "1/1 [==============================] - 1s 658ms/step\n"
          ]
        }
      ],
      "source": [
        "# Iterate over images in batches to extract features\n",
        "\n",
        "# Batch size for processing images\n",
        "batch_size = 32\n",
        "X_test_resnet50 = []\n",
        "\n",
        "for i in range(0, len(test_set), batch_size):\n",
        "    batch_paths = [os.path.join(img_dir, name) for name in test_set['name'][i:i+batch_size]]\n",
        "    batch_images = []\n",
        "\n",
        " # Load and preprocess batch of images\n",
        "    for path in batch_paths:\n",
        "        if os.path.exists(path):\n",
        "            img = keras_image.load_img(path, target_size=(224, 224))\n",
        "            x = keras_image.img_to_array(img)\n",
        "            x = np.expand_dims(x, axis=0)\n",
        "            x = preprocess_input(x)\n",
        "            batch_images.append(x)\n",
        "        else:\n",
        "            None\n",
        "    if len(batch_images) > 0:\n",
        "        batch_images = np.vstack(batch_images)\n",
        "        batch_features = vgg_resnet50.predict(batch_images)\n",
        "        batch_features = batch_features.reshape(len(batch_images), -1)\n",
        "        X_test_resnet50.append(batch_features)\n",
        "\n",
        "# Concatenate features from all batches\n",
        "X_test_resnet50 = np.concatenate(X_test_resnet50, axis=0)"
      ]
    },
    {
      "cell_type": "code",
      "execution_count": null,
      "metadata": {
        "id": "qHjQj-Y4DkNJ"
      },
      "outputs": [],
      "source": [
        "# store the extracted features in a .npy file\n",
        "np.save('X_test_resnet50.npy', X_test_resnet50)"
      ]
    },
    {
      "cell_type": "code",
      "execution_count": 11,
      "metadata": {
        "colab": {
          "base_uri": "https://localhost:8080/"
        },
        "id": "fNFDBB1XTr90",
        "outputId": "68885df4-2f2f-43f7-dd0c-3dcbd3754dbe"
      },
      "outputs": [
        {
          "name": "stdout",
          "output_type": "stream",
          "text": [
            "shape of X_train_resnet50: (3210, 2048)\n",
            "shape of X_test_resnet50: (752, 2048)\n"
          ]
        }
      ],
      "source": [
        "X_train_resnet50 = np.load('X_train_resnet50.npy')\n",
        "X_test_resnet50 = np.load('X_test_resnet50.npy')\n",
        "\n",
        "print(f'shape of X_train_resnet50: {X_train_resnet50.shape}')\n",
        "print(f'shape of X_test_resnet50: {X_test_resnet50.shape}')\n"
      ]
    },
    {
      "cell_type": "code",
      "execution_count": 12,
      "metadata": {
        "colab": {
          "base_uri": "https://localhost:8080/",
          "height": 75
        },
        "id": "fMXd170DSowy",
        "outputId": "1360e27f-73ba-47af-bbcb-1406acdb4992"
      },
      "outputs": [
        {
          "data": {
            "text/html": [
              "<style>#sk-container-id-1 {color: black;background-color: white;}#sk-container-id-1 pre{padding: 0;}#sk-container-id-1 div.sk-toggleable {background-color: white;}#sk-container-id-1 label.sk-toggleable__label {cursor: pointer;display: block;width: 100%;margin-bottom: 0;padding: 0.3em;box-sizing: border-box;text-align: center;}#sk-container-id-1 label.sk-toggleable__label-arrow:before {content: \"▸\";float: left;margin-right: 0.25em;color: #696969;}#sk-container-id-1 label.sk-toggleable__label-arrow:hover:before {color: black;}#sk-container-id-1 div.sk-estimator:hover label.sk-toggleable__label-arrow:before {color: black;}#sk-container-id-1 div.sk-toggleable__content {max-height: 0;max-width: 0;overflow: hidden;text-align: left;background-color: #f0f8ff;}#sk-container-id-1 div.sk-toggleable__content pre {margin: 0.2em;color: black;border-radius: 0.25em;background-color: #f0f8ff;}#sk-container-id-1 input.sk-toggleable__control:checked~div.sk-toggleable__content {max-height: 200px;max-width: 100%;overflow: auto;}#sk-container-id-1 input.sk-toggleable__control:checked~label.sk-toggleable__label-arrow:before {content: \"▾\";}#sk-container-id-1 div.sk-estimator input.sk-toggleable__control:checked~label.sk-toggleable__label {background-color: #d4ebff;}#sk-container-id-1 div.sk-label input.sk-toggleable__control:checked~label.sk-toggleable__label {background-color: #d4ebff;}#sk-container-id-1 input.sk-hidden--visually {border: 0;clip: rect(1px 1px 1px 1px);clip: rect(1px, 1px, 1px, 1px);height: 1px;margin: -1px;overflow: hidden;padding: 0;position: absolute;width: 1px;}#sk-container-id-1 div.sk-estimator {font-family: monospace;background-color: #f0f8ff;border: 1px dotted black;border-radius: 0.25em;box-sizing: border-box;margin-bottom: 0.5em;}#sk-container-id-1 div.sk-estimator:hover {background-color: #d4ebff;}#sk-container-id-1 div.sk-parallel-item::after {content: \"\";width: 100%;border-bottom: 1px solid gray;flex-grow: 1;}#sk-container-id-1 div.sk-label:hover label.sk-toggleable__label {background-color: #d4ebff;}#sk-container-id-1 div.sk-serial::before {content: \"\";position: absolute;border-left: 1px solid gray;box-sizing: border-box;top: 0;bottom: 0;left: 50%;z-index: 0;}#sk-container-id-1 div.sk-serial {display: flex;flex-direction: column;align-items: center;background-color: white;padding-right: 0.2em;padding-left: 0.2em;position: relative;}#sk-container-id-1 div.sk-item {position: relative;z-index: 1;}#sk-container-id-1 div.sk-parallel {display: flex;align-items: stretch;justify-content: center;background-color: white;position: relative;}#sk-container-id-1 div.sk-item::before, #sk-container-id-1 div.sk-parallel-item::before {content: \"\";position: absolute;border-left: 1px solid gray;box-sizing: border-box;top: 0;bottom: 0;left: 50%;z-index: -1;}#sk-container-id-1 div.sk-parallel-item {display: flex;flex-direction: column;z-index: 1;position: relative;background-color: white;}#sk-container-id-1 div.sk-parallel-item:first-child::after {align-self: flex-end;width: 50%;}#sk-container-id-1 div.sk-parallel-item:last-child::after {align-self: flex-start;width: 50%;}#sk-container-id-1 div.sk-parallel-item:only-child::after {width: 0;}#sk-container-id-1 div.sk-dashed-wrapped {border: 1px dashed gray;margin: 0 0.4em 0.5em 0.4em;box-sizing: border-box;padding-bottom: 0.4em;background-color: white;}#sk-container-id-1 div.sk-label label {font-family: monospace;font-weight: bold;display: inline-block;line-height: 1.2em;}#sk-container-id-1 div.sk-label-container {text-align: center;}#sk-container-id-1 div.sk-container {/* jupyter's `normalize.less` sets `[hidden] { display: none; }` but bootstrap.min.css set `[hidden] { display: none !important; }` so we also need the `!important` here to be able to override the default hidden behavior on the sphinx rendered scikit-learn.org. See: https://github.com/scikit-learn/scikit-learn/issues/21755 */display: inline-block !important;position: relative;}#sk-container-id-1 div.sk-text-repr-fallback {display: none;}</style><div id=\"sk-container-id-1\" class=\"sk-top-container\"><div class=\"sk-text-repr-fallback\"><pre>SVR(epsilon=0.2)</pre><b>In a Jupyter environment, please rerun this cell to show the HTML representation or trust the notebook. <br />On GitHub, the HTML representation is unable to render, please try loading this page with nbviewer.org.</b></div><div class=\"sk-container\" hidden><div class=\"sk-item\"><div class=\"sk-estimator sk-toggleable\"><input class=\"sk-toggleable__control sk-hidden--visually\" id=\"sk-estimator-id-1\" type=\"checkbox\" checked><label for=\"sk-estimator-id-1\" class=\"sk-toggleable__label sk-toggleable__label-arrow\">SVR</label><div class=\"sk-toggleable__content\"><pre>SVR(epsilon=0.2)</pre></div></div></div></div></div>"
            ],
            "text/plain": [
              "SVR(epsilon=0.2)"
            ]
          },
          "execution_count": 12,
          "metadata": {},
          "output_type": "execute_result"
        }
      ],
      "source": [
        "# Train the SVR model\n",
        "from sklearn.svm import SVR\n",
        "regressor = SVR(epsilon=0.2)\n",
        "regressor.fit(X_train_resnet50,y_train)"
      ]
    },
    {
      "cell_type": "code",
      "execution_count": 13,
      "metadata": {
        "id": "J1e59Qb4T0w0"
      },
      "outputs": [],
      "source": [
        "y_pred = regressor.predict(X_test_resnet50)"
      ]
    },
    {
      "cell_type": "code",
      "execution_count": 30,
      "metadata": {
        "colab": {
          "base_uri": "https://localhost:8080/"
        },
        "id": "0xTYkYDkT7Qn",
        "outputId": "f2e845b3-f36a-49cb-d926-923c89df6945"
      },
      "outputs": [
        {
          "name": "stdout",
          "output_type": "stream",
          "text": [
            "Mean squared error: 54.550460112273655\n",
            "Root Mean Squared Error 7.385828329461337\n",
            "Mean absolute error: 5.177273173273857\n",
            "R-squared: 0.3574196815544025\n",
            "Correlation Coefficient:  0.6516278157327181\n"
          ]
        }
      ],
      "source": [
        "# Evaluate the model\n",
        "\n",
        "# import mean_squared_error, mean_absolute_error, r2_score\n",
        "from sklearn.metrics import mean_squared_error, mean_absolute_error, r2_score\n",
        "mse = mean_squared_error(y_test, y_pred)\n",
        "mae = mean_absolute_error(y_test, y_pred)\n",
        "r2 = r2_score(y_test, y_pred)\n",
        "print('Mean squared error:', mse)\n",
        "print(\"Root Mean Squared Error\", np.sqrt(mean_squared_error(y_test, y_pred)))\n",
        "print('Mean absolute error:', mae)\n",
        "print('R-squared:', r2)\n",
        "print(\"Correlation Coefficient: \", np.corrcoef(y_pred, y_test)[0,1])"
      ]
    },
    {
      "cell_type": "code",
      "execution_count": 21,
      "metadata": {
        "colab": {
          "base_uri": "https://localhost:8080/",
          "height": 564
        },
        "id": "KeEIvQxcmSkD",
        "outputId": "eff0655e-7782-4c5b-8486-7dad406b5dee"
      },
      "outputs": [
        {
          "data": {
            "image/png": "[encoded data removed]",
            "text/plain": [
              "<Figure size 1000x600 with 1 Axes>"
            ]
          },
          "metadata": {},
          "output_type": "display_data"
        }
      ],
      "source": [
        "# plot the predicted BMI Value\n",
        "plt.figure(figsize=(10, 6))\n",
        "plt.plot(y_pred, label='Predicted')\n",
        "plt.plot(y_test, label='Actual')\n",
        "plt.title('Predicted vs Actual BMI Value For VGGFace&SVR Model')\n",
        "plt.xlabel('Observation')\n",
        "plt.ylabel('BMI')\n",
        "plt.legend()\n",
        "plt.show()"
      ]
    },
    {
      "cell_type": "code",
      "execution_count": 18,
      "metadata": {
        "colab": {
          "base_uri": "https://localhost:8080/",
          "height": 564
        },
        "id": "bUaYf-hlm-PE",
        "outputId": "c641840c-2963-4d84-f257-3b9811ca0974"
      },
      "outputs": [
        {
          "data": {
            "image/png": "[encoded data removed]",
            "text/plain": [
              "<Figure size 1000x600 with 1 Axes>"
            ]
          },
          "metadata": {},
          "output_type": "display_data"
        }
      ],
      "source": [
        "# sort the predicted BMI Value\n",
        "y_pred_sorted = np.sort(y_pred, axis=0)\n",
        "y_pred_sorted = y_pred_sorted.reshape(-1, 1)\n",
        "# create a DataFrame with the associated BMI Category for each predicted BMI Value, underweight: (16 < BMI ≤ 18.5), normal (18.5 < BMI ≤ 25), overweight (25 < BMI ≤ 30), moderately obese (30 < BMI ≤ 35), severely obese (35 < BMI ≤ 40) and severely obese(40 < BMI)\n",
        "df_pred = pd.DataFrame(y_pred_sorted, columns=['bmi'])\n",
        "def bmi_category(bmi):\n",
        "    if bmi <= 18.5:\n",
        "        return 'underweight'\n",
        "    elif bmi <= 25:\n",
        "        return 'normal'\n",
        "    elif bmi <= 30:\n",
        "        return 'overweight'\n",
        "    elif bmi <= 35:\n",
        "        return 'moderately obese'\n",
        "    elif bmi <= 40:\n",
        "        return 'severely obese'\n",
        "    else:\n",
        "        return 'very severely obese'\n",
        "    \n",
        "df_pred['bmi_category'] = df_pred['bmi'].apply(bmi_category)\n",
        "\n",
        "# plot the distribution of the predicted BMI Category, using histogram, add title and labels, keep the ditance between each category bar same\n",
        "plt.figure(figsize=(10, 6))\n",
        "plt.hist(df_pred['bmi_category'])\n",
        "plt.title('Distribution of Predicted BMI Category For VGGFace&SVR Model')\n",
        "plt.xlabel('BMI Category')\n",
        "plt.ylabel('Count')\n",
        "plt.show()"
      ]
    },
    {
      "cell_type": "code",
      "execution_count": 25,
      "metadata": {
        "colab": {
          "base_uri": "https://localhost:8080/",
          "height": 564
        },
        "id": "1LD5GgXsnmPF",
        "outputId": "f39f74ce-2715-44b9-9e88-71c123068102"
      },
      "outputs": [
        {
          "data": {
            "image/png": "[encoded data removed]",
            "text/plain": [
              "<Figure size 1000x600 with 1 Axes>"
            ]
          },
          "metadata": {},
          "output_type": "display_data"
        }
      ],
      "source": [
        "# sort the test_generated labels and create a DataFrame with the associated BMI Category for each test_generated label\n",
        "y_test_sorted = np.sort(y_test, axis=0)\n",
        "y_test_sorted = y_test_sorted.reshape(-1, 1)\n",
        "df_y_test_sorted = pd.DataFrame(y_test_sorted, columns=['bmi'])\n",
        "\n",
        "df_y_test_sorted['bmi_category'] = df_y_test_sorted['bmi'].apply(bmi_category)\n",
        "\n",
        "# plot the distribution of the test_generated BMI Category, using histogram, add title and labels\n",
        "plt.figure(figsize=(10, 6))\n",
        "plt.hist(df_y_test_sorted['bmi_category'])\n",
        "plt.title('Distribution of Actual BMI Category For VGGFace&SVR Model')\n",
        "plt.xlabel('BMI Category')\n",
        "plt.ylabel('Count')\n",
        "plt.show()"
      ]
    }
  ],
  "metadata": {
    "colab": {
      "gpuType": "T4",
      "provenance": []
    },
    "gpuClass": "standard",
    "kernelspec": {
      "display_name": "Python 3",
      "language": "python",
      "name": "python3"
    },
    "language_info": {
      "codemirror_mode": {
        "name": "ipython",
        "version": 3
      },
      "file_extension": ".py",
      "mimetype": "text/x-python",
      "name": "python",
      "nbconvert_exporter": "python",
      "pygments_lexer": "ipython3",
      "version": "3.9.2"
    },
    "orig_nbformat": 4
  },
  "nbformat": 4,
  "nbformat_minor": 0
}
