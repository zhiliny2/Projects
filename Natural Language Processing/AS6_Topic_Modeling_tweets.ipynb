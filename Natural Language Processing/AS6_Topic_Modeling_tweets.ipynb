{
  "cells": [
    {
      "attachments": {},
      "cell_type": "markdown",
      "metadata": {
        "id": "tyjT-otv4yZp"
      },
      "source": [
        "## NLP Class Assignment 6 -- Topic Modeling on Tweets\n",
        "\n",
        "Richard Yang"
      ]
    },
    {
      "cell_type": "markdown",
      "metadata": {
        "id": "ZgD9PLaq4yZv"
      },
      "source": [
        "You have been provided with a starter notebook that reads a collection of tweets and a collection of news articles about one particular company.  Use appropriate topic modeling technique to identify top N most important topics.  To get quality results apply appropriate text cleaning methods.\n",
        "\n",
        "- Present top N most important topics in the news articles and tweets\n",
        "- For news articles, consider how to effectively combine information from the title and text of news article\n",
        "- Select N to identify relevant topics, but minimize duplication\n",
        "- Explain how you selected N\n"
      ]
    },
    {
      "cell_type": "code",
      "execution_count": null,
      "metadata": {
        "colab": {
          "base_uri": "https://localhost:8080/"
        },
        "id": "pOXKZ5vq4yZw",
        "outputId": "0fe24ecf-2bf1-4c5a-ba43-b81a561fef4d"
      },
      "outputs": [
        {
          "name": "stdout",
          "output_type": "stream",
          "text": [
            "Python Version: 3.10.11 (main, Apr  5 2023, 14:15:10) [GCC 9.4.0]\n",
            "TensorFlow Version: 2.12.0\n"
          ]
        }
      ],
      "source": [
        "import pandas as pd\n",
        "import sys\n",
        "import os\n",
        "import numpy as np\n",
        "import pandas as pd\n",
        "import tensorflow as tf\n",
        "import re\n",
        "import string\n",
        "\n",
        "import nltk as nltk\n",
        "from nltk.corpus import stopwords\n",
        "from nltk.stem.wordnet import WordNetLemmatizer\n",
        "\n",
        "print('Python Version: ' + sys.version)\n",
        "print('TensorFlow Version: ' + tf.__version__)\n",
        "\n",
        "pd.set_option('display.max_rows', 100)\n",
        "pd.set_option('display.max_columns', None)\n",
        "pd.set_option('display.max_colwidth', 500)"
      ]
    },
    {
      "cell_type": "code",
      "execution_count": null,
      "metadata": {
        "colab": {
          "base_uri": "https://localhost:8080/"
        },
        "id": "KjmXNBnc4yZy",
        "outputId": "d43585e3-b569-48fd-e377-45e6d630ff21"
      },
      "outputs": [
        {
          "data": {
            "text/plain": [
              "[PhysicalDevice(name='/physical_device:CPU:0', device_type='CPU')]"
            ]
          },
          "execution_count": 26,
          "metadata": {},
          "output_type": "execute_result"
        }
      ],
      "source": [
        "#Verify we got CPU + GPU or only CPU\n",
        "tf.config.list_physical_devices()"
      ]
    },
    {
      "cell_type": "code",
      "execution_count": null,
      "metadata": {
        "colab": {
          "base_uri": "https://localhost:8080/"
        },
        "id": "iaMuglEh4yZz",
        "outputId": "9bc81024-27e2-46ba-9ff0-cf618196af61"
      },
      "outputs": [
        {
          "name": "stdout",
          "output_type": "stream",
          "text": [
            "Bokeh Version: 2.4.3\n"
          ]
        }
      ],
      "source": [
        "import bokeh\n",
        "\n",
        "print('Bokeh Version: ' + bokeh.__version__)"
      ]
    },
    {
      "cell_type": "code",
      "execution_count": null,
      "metadata": {
        "colab": {
          "base_uri": "https://localhost:8080/"
        },
        "id": "7xr33fg44yZ0",
        "outputId": "27c58c86-11ad-4c84-b690-4e3e12a247e7"
      },
      "outputs": [
        {
          "name": "stdout",
          "output_type": "stream",
          "text": [
            "Ktrain Version: 0.36.0\n"
          ]
        }
      ],
      "source": [
        "import ktrain\n",
        "\n",
        "print('Ktrain Version: ' + ktrain.__version__)"
      ]
    },
    {
      "cell_type": "markdown",
      "metadata": {
        "id": "m1LMzVeY4yZ1"
      },
      "source": [
        "#### Read Tweets data"
      ]
    },
    {
      "cell_type": "code",
      "execution_count": null,
      "metadata": {
        "colab": {
          "base_uri": "https://localhost:8080/",
          "height": 225
        },
        "id": "PZkTL0BF4yZ1",
        "outputId": "088df956-e19e-4f9e-86aa-a66d2be84a7d"
      },
      "outputs": [
        {
          "name": "stdout",
          "output_type": "stream",
          "text": [
            "Sample contains 9,941 tweets\n"
          ]
        },
        {
          "data": {
            "text/html": [
              "\n",
              "  <div id=\"df-bdf714cb-2fe5-4471-a57e-17f76f93583f\">\n",
              "    <div class=\"colab-df-container\">\n",
              "      <div>\n",
              "<style scoped>\n",
              "    .dataframe tbody tr th:only-of-type {\n",
              "        vertical-align: middle;\n",
              "    }\n",
              "\n",
              "    .dataframe tbody tr th {\n",
              "        vertical-align: top;\n",
              "    }\n",
              "\n",
              "    .dataframe thead th {\n",
              "        text-align: right;\n",
              "    }\n",
              "</style>\n",
              "<table border=\"1\" class=\"dataframe\">\n",
              "  <thead>\n",
              "    <tr style=\"text-align: right;\">\n",
              "      <th></th>\n",
              "      <th>id</th>\n",
              "      <th>lang</th>\n",
              "      <th>date</th>\n",
              "      <th>name</th>\n",
              "      <th>retweeted</th>\n",
              "      <th>text</th>\n",
              "    </tr>\n",
              "  </thead>\n",
              "  <tbody>\n",
              "    <tr>\n",
              "      <th>0</th>\n",
              "      <td>1484553027222741001</td>\n",
              "      <td>en</td>\n",
              "      <td>2022-01-21</td>\n",
              "      <td>Dylan Green</td>\n",
              "      <td>RT</td>\n",
              "      <td>*Microsoft has entered the chat* https://t.co/Uz3pZrk6B3</td>\n",
              "    </tr>\n",
              "    <tr>\n",
              "      <th>1</th>\n",
              "      <td>1505486305102557184</td>\n",
              "      <td>en</td>\n",
              "      <td>2022-03-20</td>\n",
              "      <td>Rahim Rajwani</td>\n",
              "      <td></td>\n",
              "      <td>\"I actually use an @Android phone. Some #Android manufacturers pre-install @Microsoft software in a way that makes it easy for me. They’re more flexible about how the software connects up with the OS. So that’s what I ended up getting used to.\"\\nhttps://t.co/C0VjfS9PUO</td>\n",
              "    </tr>\n",
              "  </tbody>\n",
              "</table>\n",
              "</div>\n",
              "      <button class=\"colab-df-convert\" onclick=\"convertToInteractive('df-bdf714cb-2fe5-4471-a57e-17f76f93583f')\"\n",
              "              title=\"Convert this dataframe to an interactive table.\"\n",
              "              style=\"display:none;\">\n",
              "        \n",
              "  <svg xmlns=\"http://www.w3.org/2000/svg\" height=\"24px\"viewBox=\"0 0 24 24\"\n",
              "       width=\"24px\">\n",
              "    <path d=\"M0 0h24v24H0V0z\" fill=\"none\"/>\n",
              "    <path d=\"M18.56 5.44l.94 2.06.94-2.06 2.06-.94-2.06-.94-.94-2.06-.94 2.06-2.06.94zm-11 1L8.5 8.5l.94-2.06 2.06-.94-2.06-.94L8.5 2.5l-.94 2.06-2.06.94zm10 10l.94 2.06.94-2.06 2.06-.94-2.06-.94-.94-2.06-.94 2.06-2.06.94z\"/><path d=\"M17.41 7.96l-1.37-1.37c-.4-.4-.92-.59-1.43-.59-.52 0-1.04.2-1.43.59L10.3 9.45l-7.72 7.72c-.78.78-.78 2.05 0 2.83L4 21.41c.39.39.9.59 1.41.59.51 0 1.02-.2 1.41-.59l7.78-7.78 2.81-2.81c.8-.78.8-2.07 0-2.86zM5.41 20L4 18.59l7.72-7.72 1.47 1.35L5.41 20z\"/>\n",
              "  </svg>\n",
              "      </button>\n",
              "      \n",
              "  <style>\n",
              "    .colab-df-container {\n",
              "      display:flex;\n",
              "      flex-wrap:wrap;\n",
              "      gap: 12px;\n",
              "    }\n",
              "\n",
              "    .colab-df-convert {\n",
              "      background-color: #E8F0FE;\n",
              "      border: none;\n",
              "      border-radius: 50%;\n",
              "      cursor: pointer;\n",
              "      display: none;\n",
              "      fill: #1967D2;\n",
              "      height: 32px;\n",
              "      padding: 0 0 0 0;\n",
              "      width: 32px;\n",
              "    }\n",
              "\n",
              "    .colab-df-convert:hover {\n",
              "      background-color: #E2EBFA;\n",
              "      box-shadow: 0px 1px 2px rgba(60, 64, 67, 0.3), 0px 1px 3px 1px rgba(60, 64, 67, 0.15);\n",
              "      fill: #174EA6;\n",
              "    }\n",
              "\n",
              "    [theme=dark] .colab-df-convert {\n",
              "      background-color: #3B4455;\n",
              "      fill: #D2E3FC;\n",
              "    }\n",
              "\n",
              "    [theme=dark] .colab-df-convert:hover {\n",
              "      background-color: #434B5C;\n",
              "      box-shadow: 0px 1px 3px 1px rgba(0, 0, 0, 0.15);\n",
              "      filter: drop-shadow(0px 1px 2px rgba(0, 0, 0, 0.3));\n",
              "      fill: #FFFFFF;\n",
              "    }\n",
              "  </style>\n",
              "\n",
              "      <script>\n",
              "        const buttonEl =\n",
              "          document.querySelector('#df-bdf714cb-2fe5-4471-a57e-17f76f93583f button.colab-df-convert');\n",
              "        buttonEl.style.display =\n",
              "          google.colab.kernel.accessAllowed ? 'block' : 'none';\n",
              "\n",
              "        async function convertToInteractive(key) {\n",
              "          const element = document.querySelector('#df-bdf714cb-2fe5-4471-a57e-17f76f93583f');\n",
              "          const dataTable =\n",
              "            await google.colab.kernel.invokeFunction('convertToInteractive',\n",
              "                                                     [key], {});\n",
              "          if (!dataTable) return;\n",
              "\n",
              "          const docLinkHtml = 'Like what you see? Visit the ' +\n",
              "            '<a target=\"_blank\" href=https://colab.research.google.com/notebooks/data_table.ipynb>data table notebook</a>'\n",
              "            + ' to learn more about interactive tables.';\n",
              "          element.innerHTML = '';\n",
              "          dataTable['output_type'] = 'display_data';\n",
              "          await google.colab.output.renderOutput(dataTable, element);\n",
              "          const docLink = document.createElement('div');\n",
              "          docLink.innerHTML = docLinkHtml;\n",
              "          element.appendChild(docLink);\n",
              "        }\n",
              "      </script>\n",
              "    </div>\n",
              "  </div>\n",
              "  "
            ],
            "text/plain": [
              "                    id lang       date           name retweeted   \n",
              "0  1484553027222741001   en 2022-01-21    Dylan Green        RT  \\\n",
              "1  1505486305102557184   en 2022-03-20  Rahim Rajwani             \n",
              "\n",
              "                                                                                                                                                                                                                                                                            text  \n",
              "0                                                                                                                                                                                                                       *Microsoft has entered the chat* https://t.co/Uz3pZrk6B3  \n",
              "1  \"I actually use an @Android phone. Some #Android manufacturers pre-install @Microsoft software in a way that makes it easy for me. They’re more flexible about how the software connects up with the OS. So that’s what I ended up getting used to.\"\\nhttps://t.co/C0VjfS9PUO  "
            ]
          },
          "execution_count": 31,
          "metadata": {},
          "output_type": "execute_result"
        }
      ],
      "source": [
        "tweets_path = 'https://storage.googleapis.com/msca-bdp-data-open/tweets/nlp_a_6_tweets.json'\n",
        "tweets_df = pd.read_json(tweets_path, orient='records', lines=True)\n",
        "print(f'Sample contains {tweets_df.shape[0]:,.0f} tweets')\n",
        "tweets_df.head(2)"
      ]
    },
    {
      "cell_type": "markdown",
      "metadata": {
        "id": "ph_JbwLl-p5D"
      },
      "source": [
        "LDA on Tweets"
      ]
    },
    {
      "cell_type": "code",
      "execution_count": null,
      "metadata": {
        "id": "6cUE-Uer-sf_"
      },
      "outputs": [],
      "source": [
        "import os\n",
        "import time\n",
        "import math\n",
        "import re\n",
        "from pprint import pprint\n",
        "from textblob import TextBlob\n",
        "import pandas as pd\n",
        "import numpy as np\n",
        "\n",
        "\n",
        "import nltk as nltk\n",
        "from nltk.corpus import stopwords\n",
        "# from nltk.stem.wordnet import WordNetLemmatizer\n",
        "import spacy\n",
        "import multiprocessing\n",
        "import string\n",
        "\n",
        "\n",
        "import gensim\n",
        "from gensim import corpora, models\n",
        "from gensim.models.ldamulticore import LdaMulticore\n",
        "from gensim.utils import simple_preprocess\n",
        "from gensim.models import CoherenceModel\n",
        "\n",
        "import pyLDAvis.gensim\n",
        "import pyLDAvis\n",
        "import pyLDAvis.gensim_models as gensimvis\n",
        "pyLDAvis.enable_notebook()"
      ]
    },
    {
      "cell_type": "code",
      "execution_count": null,
      "metadata": {
        "id": "gYTlZm25_PHq"
      },
      "outputs": [],
      "source": [
        "import warnings\n",
        "\n",
        "# warnings.simplefilter('once')\n",
        "warnings.simplefilter('ignore')\n",
        "# warnings.filterwarnings(\"ignore\", category=FutureWarning)\n",
        "# warnings.filterwarnings(\"ignore\", category=DeprecationWarning)\n",
        "# warnings.filterwarnings(action='ignore', category=UserWarning, module='gensim')"
      ]
    },
    {
      "cell_type": "code",
      "execution_count": null,
      "metadata": {
        "colab": {
          "base_uri": "https://localhost:8080/"
        },
        "id": "SJng0IGl_lOe",
        "outputId": "a9a476e8-afe6-41a8-acec-349a06532228"
      },
      "outputs": [
        {
          "name": "stdout",
          "output_type": "stream",
          "text": [
            "Using 1 workers\n"
          ]
        }
      ],
      "source": [
        "num_processors = multiprocessing.cpu_count()\n",
        "num_processors\n",
        "\n",
        "workers = num_processors-1\n",
        "\n",
        "print(f'Using {workers} workers')"
      ]
    },
    {
      "cell_type": "markdown",
      "metadata": {
        "id": "1Ojyx42ZbKwb"
      },
      "source": [
        "Data Cleaning"
      ]
    },
    {
      "cell_type": "code",
      "execution_count": null,
      "metadata": {
        "colab": {
          "base_uri": "https://localhost:8080/"
        },
        "id": "76VYG5B0_xWe",
        "outputId": "1712efc5-ae3f-4aaa-c18c-b04c6489b689"
      },
      "outputs": [
        {
          "name": "stdout",
          "output_type": "stream",
          "text": [
            "CPU times: user 8.04 ms, sys: 0 ns, total: 8.04 ms\n",
            "Wall time: 17.5 ms\n"
          ]
        }
      ],
      "source": [
        "# Filter non-English articles, apply appropriate cleaning\n",
        "%time \n",
        "tweets_eng = tweets_df[tweets_df['lang']=='en'].reset_index(drop=True)\n",
        "tweets_eng = tweets_df['text'].apply(lambda x: re.sub(r'[^\\d+\\w\\s,.]','',x))\n",
        "tweets_eng = tweets_df['text'].apply(lambda x: re.sub(r'\\n|\\nm|\\nm\\n\\n','',x))"
      ]
    },
    {
      "cell_type": "markdown",
      "metadata": {
        "id": "T1k_iLEU-YpH"
      },
      "source": [
        "#### Tokenize text into words and remove punctuation"
      ]
    },
    {
      "cell_type": "code",
      "execution_count": null,
      "metadata": {
        "colab": {
          "base_uri": "https://localhost:8080/"
        },
        "id": "FZxBICiL-YpH",
        "outputId": "1446a37a-79e3-461a-cdd5-65dbf719605e"
      },
      "outputs": [
        {
          "name": "stdout",
          "output_type": "stream",
          "text": [
            "CPU times: user 1.42 s, sys: 37.1 ms, total: 1.45 s\n",
            "Wall time: 4.32 s\n"
          ]
        }
      ],
      "source": [
        "%%time\n",
        "\n",
        "def sent_to_words(sentences):\n",
        "    for sentence in sentences:\n",
        "        yield(gensim.utils.simple_preprocess(str(sentence), deacc=True))  # deacc=True removes punctuations\n",
        "        \n",
        "        \n",
        "data_list = tweets_eng['text'].tolist()        \n",
        "data_tokens = list(sent_to_words(data_list))"
      ]
    },
    {
      "cell_type": "markdown",
      "metadata": {
        "id": "XCndDv8o-YpH"
      },
      "source": [
        "#### Remove Stopwords, Make n-grams and Lemmatize"
      ]
    },
    {
      "cell_type": "code",
      "execution_count": null,
      "metadata": {
        "colab": {
          "base_uri": "https://localhost:8080/"
        },
        "id": "2njtoEGh-YpI",
        "outputId": "4d1349b5-6b93-437f-da11-7a440e8c13dc"
      },
      "outputs": [
        {
          "name": "stdout",
          "output_type": "stream",
          "text": [
            "CPU times: user 3.03 s, sys: 24.5 ms, total: 3.06 s\n",
            "Wall time: 6.87 s\n"
          ]
        }
      ],
      "source": [
        "%%time\n",
        "\n",
        "# bigram = gensim.models.Phrases(data_tokens, min_count=5, threshold=100)\n",
        "# trigram = gensim.models.Phrases(bigram[data_tokens], threshold=100)\n",
        "\n",
        "bigram = gensim.models.Phrases(data_tokens, min_count=1, threshold=1)\n",
        "trigram = gensim.models.Phrases(bigram[data_tokens], threshold=1)\n",
        "\n",
        "bigram_mod = gensim.models.phrases.Phraser(bigram)\n",
        "trigram_mod = gensim.models.phrases.Phraser(trigram)"
      ]
    },
    {
      "cell_type": "code",
      "execution_count": null,
      "metadata": {
        "colab": {
          "base_uri": "https://localhost:8080/"
        },
        "id": "C5XFvbG4AbLy",
        "outputId": "a3d5c7e2-1e6c-4f1a-a2ed-dd867f78f766"
      },
      "outputs": [
        {
          "name": "stderr",
          "output_type": "stream",
          "text": [
            "[nltk_data] Downloading package stopwords to /root/nltk_data...\n",
            "[nltk_data]   Package stopwords is already up-to-date!\n"
          ]
        },
        {
          "data": {
            "text/plain": [
              "True"
            ]
          },
          "execution_count": 38,
          "metadata": {},
          "output_type": "execute_result"
        }
      ],
      "source": [
        "import nltk\n",
        "nltk.download('stopwords')"
      ]
    },
    {
      "cell_type": "code",
      "execution_count": null,
      "metadata": {
        "colab": {
          "base_uri": "https://localhost:8080/"
        },
        "id": "RSkWFzaw-YpI",
        "outputId": "13600de1-59ea-4cc5-be06-a07bacaee7e3"
      },
      "outputs": [
        {
          "name": "stdout",
          "output_type": "stream",
          "text": [
            "CPU times: user 589 µs, sys: 0 ns, total: 589 µs\n",
            "Wall time: 607 µs\n"
          ]
        }
      ],
      "source": [
        "%%time\n",
        "\n",
        "stop_words = stopwords.words('english')\n",
        "\n",
        "# Define functions for stopwords, bigrams, trigrams and lemmatization\n",
        "def remove_stopwords(texts):\n",
        "    return [[word for word in simple_preprocess(str(doc)) if word not in stop_words] for doc in texts]\n",
        "\n",
        "def make_bigrams(texts):\n",
        "    return [bigram_mod[doc] for doc in texts]\n",
        "\n",
        "def make_trigrams(texts):\n",
        "    return [trigram_mod[bigram_mod[doc]] for doc in texts]\n",
        "\n",
        "def lemmatization(texts, allowed_postags=['NOUN', 'ADJ', 'VERB', 'ADV']):\n",
        "    \"\"\"https://spacy.io/api/annotation\"\"\"\n",
        "    texts_out = []\n",
        "    for sent in texts:\n",
        "        doc = nlp(\" \".join(sent)) \n",
        "        texts_out.append([token.lemma_ for token in doc if token.pos_ in allowed_postags])\n",
        "    return texts_out"
      ]
    },
    {
      "cell_type": "code",
      "execution_count": null,
      "metadata": {
        "colab": {
          "base_uri": "https://localhost:8080/"
        },
        "id": "btMXmV4w-YpI",
        "outputId": "7274ce00-f546-4217-e658-d289550429fe"
      },
      "outputs": [],
      "source": [
        "%%time\n",
        "\n",
        "# Remove Stop Words\n",
        "data_tokens_nostops = remove_stopwords(data_tokens)\n",
        "\n",
        "# Create n-grams\n",
        "data_words_bigrams = make_bigrams(data_tokens_nostops)\n",
        "data_words_trigrams = make_trigrams(data_tokens_nostops)\n",
        "\n",
        "# Combine tokens and n-grams\n",
        "# data_tokens_cobnined = data_tokens_nostops + data_words_bigrams + data_words_trigrams\n",
        "data_tokens_cobnined = data_words_trigrams\n",
        "\n",
        "# Initialize spacy 'en' model, keeping only tagger component (for efficiency)\n",
        "nlp = spacy.load(\"en_core_web_sm\", disable=['parser', 'ner'])\n",
        "\n",
        "# Lemmatize text keeping only noun, adj, vb, adv\n",
        "data_lemmatized = lemmatization(data_tokens_cobnined, allowed_postags=['NOUN', 'ADJ', 'VERB', 'ADV'])"
      ]
    },
    {
      "cell_type": "code",
      "execution_count": null,
      "metadata": {
        "colab": {
          "base_uri": "https://localhost:8080/"
        },
        "id": "4emPlUnK-YpJ",
        "outputId": "2abbaadf-3c01-4236-ee42-0575e442af36"
      },
      "outputs": [
        {
          "name": "stdout",
          "output_type": "stream",
          "text": [
            "CPU times: user 303 ms, sys: 1.06 ms, total: 304 ms\n",
            "Wall time: 303 ms\n"
          ]
        }
      ],
      "source": [
        "%%time\n",
        "\n",
        "# Creating the term dictionary of our courpus, where every unique term is assigned an index. \n",
        "dictionary = corpora.Dictionary(data_lemmatized)\n",
        "\n",
        "# Converting list of documents (corpus) into Document Term Matrix using dictionary prepared above.\n",
        "doc_term_matrix = [dictionary.doc2bow(doc) for doc in data_lemmatized]"
      ]
    },
    {
      "cell_type": "markdown",
      "metadata": {
        "id": "9V-rY4BG-YpJ"
      },
      "source": [
        "#### Build initial 3 topic model"
      ]
    },
    {
      "cell_type": "code",
      "execution_count": null,
      "metadata": {
        "colab": {
          "base_uri": "https://localhost:8080/"
        },
        "id": "iv02imm2-YpJ",
        "outputId": "38ce279f-0600-46b0-bf01-286da4ad2a49"
      },
      "outputs": [
        {
          "name": "stdout",
          "output_type": "stream",
          "text": [
            "CPU times: user 52.5 s, sys: 1.66 s, total: 54.2 s\n",
            "Wall time: 1min 12s\n"
          ]
        }
      ],
      "source": [
        "%%time\n",
        "\n",
        "lda_model = LdaMulticore(corpus=doc_term_matrix,\n",
        "                   id2word=dictionary,\n",
        "                   num_topics=3,\n",
        "                   random_state=100,\n",
        "                   passes=10,\n",
        "                   eta='auto',\n",
        "                   workers=workers)"
      ]
    },
    {
      "cell_type": "code",
      "execution_count": null,
      "metadata": {
        "colab": {
          "base_uri": "https://localhost:8080/"
        },
        "id": "qG3CX7Ov-YpK",
        "outputId": "a3acad79-4fc1-4d3b-9c70-575f6096929a"
      },
      "outputs": [
        {
          "name": "stdout",
          "output_type": "stream",
          "text": [
            "[(0,\n",
            "  '0.008*\"game\" + 0.006*\"go\" + 0.006*\"get\" + 0.006*\"make\" + 0.005*\"work\" + '\n",
            "  '0.005*\"https_co\" + 0.004*\"company\" + 0.004*\"say\" + 0.004*\"well\" + '\n",
            "  '0.004*\"buy\"'),\n",
            " (1,\n",
            "  '0.014*\"https_co\" + 0.006*\"ever_ever_ever_ever\" + 0.005*\"new\" + '\n",
            "  '0.003*\"support\" + 0.003*\"use\" + 0.003*\"product\" + 0.003*\"learn\" + '\n",
            "  '0.003*\"get\" + 0.003*\"want\" + 0.003*\"work\"'),\n",
            " (2,\n",
            "  '0.016*\"know\" + 0.013*\"https_co\" + 0.013*\"use\" + 0.004*\"world_businesse\" + '\n",
            "  '0.004*\"learn\" + 0.004*\"co\" + 0.003*\"microsoft_https_co\" + 0.003*\"day\" + '\n",
            "  '0.003*\"tip\" + 0.002*\"check\"')]\n"
          ]
        }
      ],
      "source": [
        "# Print the Keyword in the 3 topics\n",
        "pprint(lda_model.print_topics())\n",
        "doc_lda = lda_model[doc_term_matrix]"
      ]
    },
    {
      "cell_type": "markdown",
      "metadata": {
        "id": "joE1OcH_-YpK"
      },
      "source": [
        "#### Compute Coherence Score"
      ]
    },
    {
      "cell_type": "code",
      "execution_count": null,
      "metadata": {
        "colab": {
          "base_uri": "https://localhost:8080/"
        },
        "id": "xM2oEnOs-YpK",
        "outputId": "bbb0580f-99f6-4406-bcae-3ab3611ba4dc"
      },
      "outputs": [
        {
          "name": "stdout",
          "output_type": "stream",
          "text": [
            "\n",
            "Coherence Score:  0.4208980595555272\n",
            "CPU times: user 501 ms, sys: 12.1 ms, total: 513 ms\n",
            "Wall time: 521 ms\n"
          ]
        }
      ],
      "source": [
        "%%time\n",
        "\n",
        "coherence_model_lda = CoherenceModel(model=lda_model, texts=data_lemmatized, dictionary=dictionary, coherence='c_v')\n",
        "coherence_lda = coherence_model_lda.get_coherence()\n",
        "print('\\nCoherence Score: ', coherence_lda)"
      ]
    },
    {
      "cell_type": "markdown",
      "metadata": {
        "id": "Isudv1Eu-YpK"
      },
      "source": [
        "#### Tune LDA model"
      ]
    },
    {
      "cell_type": "code",
      "execution_count": null,
      "metadata": {
        "id": "aFDJLrL--YpK"
      },
      "outputs": [],
      "source": [
        "# supporting function\n",
        "def compute_coherence_values(corpus, dictionary, k, a, b):\n",
        "    \n",
        "    lda_model = LdaMulticore(corpus=doc_term_matrix,\n",
        "                       id2word=dictionary,\n",
        "                       num_topics=k,\n",
        "                       random_state=100,                  \n",
        "                       passes=10,\n",
        "                       alpha=a,\n",
        "                       eta=b,\n",
        "                       workers=workers)\n",
        "    \n",
        "    coherence_model_lda = CoherenceModel(model=lda_model, texts=data_lemmatized, dictionary=dictionary, coherence='c_v')\n",
        "    \n",
        "    return coherence_model_lda.get_coherence()"
      ]
    },
    {
      "cell_type": "code",
      "execution_count": null,
      "metadata": {
        "id": "EmTwM8faTO_5"
      },
      "outputs": [],
      "source": [
        "start_time = time.time()\n",
        "\n",
        "def tic():\n",
        "    global start_time \n",
        "    start_time = time.time()\n",
        "\n",
        "def tac():\n",
        "    t_sec = round(time.time() - start_time)\n",
        "    (t_min, t_sec) = divmod(t_sec,60)\n",
        "    (t_hour,t_min) = divmod(t_min,60) \n",
        "    print(f'Execution time to calculate for topic {k}: {t_hour}hour:{t_min}min:{t_sec}sec'.format(t_hour,t_min,t_sec))"
      ]
    },
    {
      "cell_type": "code",
      "execution_count": null,
      "metadata": {
        "colab": {
          "base_uri": "https://localhost:8080/"
        },
        "id": "OcDDHIyESgiS",
        "outputId": "16b18577-2dd0-4f34-c770-ba7cf6e5482f"
      },
      "outputs": [
        {
          "name": "stdout",
          "output_type": "stream",
          "text": [
            "LDA will execute 20 iterations\n",
            "Completed model based on 2 LDA topics. Finished 5.0% of LDA runs\n",
            "Execution time to calculate for topic 2: 0hour:1min:9sec\n",
            "Completed model based on 3 LDA topics. Finished 10.0% of LDA runs\n",
            "Execution time to calculate for topic 3: 0hour:1min:14sec\n",
            "Completed model based on 4 LDA topics. Finished 15.0% of LDA runs\n",
            "Execution time to calculate for topic 4: 0hour:1min:5sec\n",
            "Completed model based on 5 LDA topics. Finished 20.0% of LDA runs\n",
            "Execution time to calculate for topic 5: 0hour:1min:3sec\n",
            "Completed model based on 6 LDA topics. Finished 25.0% of LDA runs\n",
            "Execution time to calculate for topic 6: 0hour:0min:58sec\n",
            "Completed model based on 7 LDA topics. Finished 30.0% of LDA runs\n",
            "Execution time to calculate for topic 7: 0hour:1min:0sec\n",
            "Completed model based on 8 LDA topics. Finished 35.0% of LDA runs\n",
            "Execution time to calculate for topic 8: 0hour:0min:57sec\n",
            "Completed model based on 9 LDA topics. Finished 40.0% of LDA runs\n",
            "Execution time to calculate for topic 9: 0hour:0min:56sec\n",
            "Completed model based on 10 LDA topics. Finished 45.0% of LDA runs\n",
            "Execution time to calculate for topic 10: 0hour:1min:0sec\n",
            "Completed model based on 11 LDA topics. Finished 50.0% of LDA runs\n",
            "Execution time to calculate for topic 11: 0hour:0min:56sec\n",
            "Completed model based on 12 LDA topics. Finished 55.0% of LDA runs\n",
            "Execution time to calculate for topic 12: 0hour:0min:54sec\n",
            "Completed model based on 13 LDA topics. Finished 60.0% of LDA runs\n",
            "Execution time to calculate for topic 13: 0hour:0min:59sec\n",
            "Completed model based on 14 LDA topics. Finished 65.0% of LDA runs\n",
            "Execution time to calculate for topic 14: 0hour:0min:56sec\n",
            "Completed model based on 15 LDA topics. Finished 70.0% of LDA runs\n",
            "Execution time to calculate for topic 15: 0hour:1min:1sec\n",
            "Completed model based on 16 LDA topics. Finished 75.0% of LDA runs\n",
            "Execution time to calculate for topic 16: 0hour:0min:56sec\n",
            "Completed model based on 17 LDA topics. Finished 80.0% of LDA runs\n",
            "Execution time to calculate for topic 17: 0hour:0min:56sec\n",
            "Completed model based on 18 LDA topics. Finished 85.0% of LDA runs\n",
            "Execution time to calculate for topic 18: 0hour:1min:5sec\n",
            "Completed model based on 19 LDA topics. Finished 90.0% of LDA runs\n",
            "Execution time to calculate for topic 19: 0hour:0min:57sec\n",
            "Completed model based on 20 LDA topics. Finished 95.0% of LDA runs\n",
            "Execution time to calculate for topic 20: 0hour:1min:0sec\n",
            "Completed model based on 21 LDA topics. Finished 100.0% of LDA runs\n",
            "Execution time to calculate for topic 21: 0hour:1min:0sec\n",
            "CPU times: user 15min 34s, sys: 27.6 s, total: 16min 1s\n",
            "Wall time: 20min 2s\n"
          ]
        }
      ],
      "source": [
        "%%time\n",
        "\n",
        "grid = {}\n",
        "grid['Validation_Set'] = {}\n",
        "# Topics range\n",
        "min_topics = 2\n",
        "max_topics = 20\n",
        "step_size = 1\n",
        "topics_range = range(min_topics, max_topics+2, step_size)\n",
        "\n",
        "# Alpha parameter\n",
        "alpha = list(np.arange(0.01, 1, 0.3))\n",
        "alpha.append('symmetric')\n",
        "alpha.append('asymmetric')\n",
        "alpha = ['symmetric'] # Run for number of topics only\n",
        "\n",
        "# Beta parameter\n",
        "beta = list(np.arange(0.01, 1, 0.3))\n",
        "beta.append('symmetric')\n",
        "beta = ['auto'] # Run for number of topics only\n",
        "\n",
        "\n",
        "# Validation sets\n",
        "num_of_docs = len(doc_term_matrix)\n",
        "corpus_sets = [# gensim.utils.ClippedCorpus(doc_term_matrix, num_of_docs*0.25), \n",
        "               # gensim.utils.ClippedCorpus(doc_term_matrix, num_of_docs*0.5), \n",
        "#                gensim.utils.ClippedCorpus(doc_term_matrix, num_of_docs*0.75), \n",
        "               doc_term_matrix]\n",
        "# corpus_title = ['75% Corpus', '100% Corpus']\n",
        "corpus_title = ['100% Corpus']\n",
        "model_results = {\n",
        "                 'Topics': [],\n",
        "                 'Alpha': [],\n",
        "                 'Beta': [],\n",
        "                 'Coherence': []\n",
        "                }\n",
        "\n",
        "itr = 0\n",
        "itr_total = len(beta)*len(alpha)*len(topics_range)*len(corpus_title)\n",
        "print(f'LDA will execute {itr_total} iterations')\n",
        "\n",
        "    \n",
        "# iterate through hyperparameters\n",
        "for i in range(len(corpus_sets)):\n",
        "    # iterate through number of topics\n",
        "    for k in topics_range:\n",
        "        # iterate through alpha values\n",
        "        tic()\n",
        "        for a in alpha:\n",
        "            # iterare through beta values\n",
        "            for b in beta:\n",
        "                # get the coherence score for the given parameters\n",
        "                itr += 1\n",
        "                cv = compute_coherence_values(corpus=corpus_sets[i], dictionary=dictionary, \n",
        "                                              k=k, a=a, b=b)\n",
        "                # Save the model results\n",
        "                model_results['Topics'].append(k)\n",
        "                model_results['Alpha'].append(a)\n",
        "                model_results['Beta'].append(b)\n",
        "                model_results['Coherence'].append(cv)\n",
        "                pct_completed = round((itr / itr_total * 100),1)\n",
        "#                 print(f'Completed Percent: {pct_completed}%, Corpus: {corpus_title[i]}, Topics: {k}, Alpha: {a}, Beta: {b}, Coherence: {cv}')\n",
        "        print(f'Completed model based on {k} LDA topics. Finished {pct_completed}% of LDA runs')\n",
        "        tac()\n",
        "                    \n",
        "lda_tuning = pd.DataFrame(model_results)\n",
        "# lda_tuning.to_csv(os.path.join(path_lda, 'lda_tuning_results.csv'), index=False)"
      ]
    },
    {
      "cell_type": "code",
      "execution_count": null,
      "metadata": {
        "colab": {
          "base_uri": "https://localhost:8080/",
          "height": 363
        },
        "id": "-59LWW7tUqjj",
        "outputId": "c798a99a-10b7-4850-e194-b3ae2d231476"
      },
      "outputs": [
        {
          "data": {
            "text/html": [
              "\n",
              "  <div id=\"df-1f553524-8a08-427f-9b9e-7281a8195928\">\n",
              "    <div class=\"colab-df-container\">\n",
              "      <div>\n",
              "<style scoped>\n",
              "    .dataframe tbody tr th:only-of-type {\n",
              "        vertical-align: middle;\n",
              "    }\n",
              "\n",
              "    .dataframe tbody tr th {\n",
              "        vertical-align: top;\n",
              "    }\n",
              "\n",
              "    .dataframe thead th {\n",
              "        text-align: right;\n",
              "    }\n",
              "</style>\n",
              "<table border=\"1\" class=\"dataframe\">\n",
              "  <thead>\n",
              "    <tr style=\"text-align: right;\">\n",
              "      <th></th>\n",
              "      <th>Topics</th>\n",
              "      <th>Alpha</th>\n",
              "      <th>Beta</th>\n",
              "      <th>Coherence</th>\n",
              "    </tr>\n",
              "  </thead>\n",
              "  <tbody>\n",
              "    <tr>\n",
              "      <th>0</th>\n",
              "      <td>2</td>\n",
              "      <td>symmetric</td>\n",
              "      <td>auto</td>\n",
              "      <td>0.457395</td>\n",
              "    </tr>\n",
              "    <tr>\n",
              "      <th>1</th>\n",
              "      <td>3</td>\n",
              "      <td>symmetric</td>\n",
              "      <td>auto</td>\n",
              "      <td>0.414449</td>\n",
              "    </tr>\n",
              "    <tr>\n",
              "      <th>18</th>\n",
              "      <td>20</td>\n",
              "      <td>symmetric</td>\n",
              "      <td>auto</td>\n",
              "      <td>0.396471</td>\n",
              "    </tr>\n",
              "    <tr>\n",
              "      <th>13</th>\n",
              "      <td>15</td>\n",
              "      <td>symmetric</td>\n",
              "      <td>auto</td>\n",
              "      <td>0.379204</td>\n",
              "    </tr>\n",
              "    <tr>\n",
              "      <th>2</th>\n",
              "      <td>4</td>\n",
              "      <td>symmetric</td>\n",
              "      <td>auto</td>\n",
              "      <td>0.372030</td>\n",
              "    </tr>\n",
              "    <tr>\n",
              "      <th>15</th>\n",
              "      <td>17</td>\n",
              "      <td>symmetric</td>\n",
              "      <td>auto</td>\n",
              "      <td>0.369853</td>\n",
              "    </tr>\n",
              "    <tr>\n",
              "      <th>3</th>\n",
              "      <td>5</td>\n",
              "      <td>symmetric</td>\n",
              "      <td>auto</td>\n",
              "      <td>0.368870</td>\n",
              "    </tr>\n",
              "    <tr>\n",
              "      <th>19</th>\n",
              "      <td>21</td>\n",
              "      <td>symmetric</td>\n",
              "      <td>auto</td>\n",
              "      <td>0.364995</td>\n",
              "    </tr>\n",
              "    <tr>\n",
              "      <th>12</th>\n",
              "      <td>14</td>\n",
              "      <td>symmetric</td>\n",
              "      <td>auto</td>\n",
              "      <td>0.362188</td>\n",
              "    </tr>\n",
              "    <tr>\n",
              "      <th>6</th>\n",
              "      <td>8</td>\n",
              "      <td>symmetric</td>\n",
              "      <td>auto</td>\n",
              "      <td>0.351849</td>\n",
              "    </tr>\n",
              "  </tbody>\n",
              "</table>\n",
              "</div>\n",
              "      <button class=\"colab-df-convert\" onclick=\"convertToInteractive('df-1f553524-8a08-427f-9b9e-7281a8195928')\"\n",
              "              title=\"Convert this dataframe to an interactive table.\"\n",
              "              style=\"display:none;\">\n",
              "        \n",
              "  <svg xmlns=\"http://www.w3.org/2000/svg\" height=\"24px\"viewBox=\"0 0 24 24\"\n",
              "       width=\"24px\">\n",
              "    <path d=\"M0 0h24v24H0V0z\" fill=\"none\"/>\n",
              "    <path d=\"M18.56 5.44l.94 2.06.94-2.06 2.06-.94-2.06-.94-.94-2.06-.94 2.06-2.06.94zm-11 1L8.5 8.5l.94-2.06 2.06-.94-2.06-.94L8.5 2.5l-.94 2.06-2.06.94zm10 10l.94 2.06.94-2.06 2.06-.94-2.06-.94-.94-2.06-.94 2.06-2.06.94z\"/><path d=\"M17.41 7.96l-1.37-1.37c-.4-.4-.92-.59-1.43-.59-.52 0-1.04.2-1.43.59L10.3 9.45l-7.72 7.72c-.78.78-.78 2.05 0 2.83L4 21.41c.39.39.9.59 1.41.59.51 0 1.02-.2 1.41-.59l7.78-7.78 2.81-2.81c.8-.78.8-2.07 0-2.86zM5.41 20L4 18.59l7.72-7.72 1.47 1.35L5.41 20z\"/>\n",
              "  </svg>\n",
              "      </button>\n",
              "      \n",
              "  <style>\n",
              "    .colab-df-container {\n",
              "      display:flex;\n",
              "      flex-wrap:wrap;\n",
              "      gap: 12px;\n",
              "    }\n",
              "\n",
              "    .colab-df-convert {\n",
              "      background-color: #E8F0FE;\n",
              "      border: none;\n",
              "      border-radius: 50%;\n",
              "      cursor: pointer;\n",
              "      display: none;\n",
              "      fill: #1967D2;\n",
              "      height: 32px;\n",
              "      padding: 0 0 0 0;\n",
              "      width: 32px;\n",
              "    }\n",
              "\n",
              "    .colab-df-convert:hover {\n",
              "      background-color: #E2EBFA;\n",
              "      box-shadow: 0px 1px 2px rgba(60, 64, 67, 0.3), 0px 1px 3px 1px rgba(60, 64, 67, 0.15);\n",
              "      fill: #174EA6;\n",
              "    }\n",
              "\n",
              "    [theme=dark] .colab-df-convert {\n",
              "      background-color: #3B4455;\n",
              "      fill: #D2E3FC;\n",
              "    }\n",
              "\n",
              "    [theme=dark] .colab-df-convert:hover {\n",
              "      background-color: #434B5C;\n",
              "      box-shadow: 0px 1px 3px 1px rgba(0, 0, 0, 0.15);\n",
              "      filter: drop-shadow(0px 1px 2px rgba(0, 0, 0, 0.3));\n",
              "      fill: #FFFFFF;\n",
              "    }\n",
              "  </style>\n",
              "\n",
              "      <script>\n",
              "        const buttonEl =\n",
              "          document.querySelector('#df-1f553524-8a08-427f-9b9e-7281a8195928 button.colab-df-convert');\n",
              "        buttonEl.style.display =\n",
              "          google.colab.kernel.accessAllowed ? 'block' : 'none';\n",
              "\n",
              "        async function convertToInteractive(key) {\n",
              "          const element = document.querySelector('#df-1f553524-8a08-427f-9b9e-7281a8195928');\n",
              "          const dataTable =\n",
              "            await google.colab.kernel.invokeFunction('convertToInteractive',\n",
              "                                                     [key], {});\n",
              "          if (!dataTable) return;\n",
              "\n",
              "          const docLinkHtml = 'Like what you see? Visit the ' +\n",
              "            '<a target=\"_blank\" href=https://colab.research.google.com/notebooks/data_table.ipynb>data table notebook</a>'\n",
              "            + ' to learn more about interactive tables.';\n",
              "          element.innerHTML = '';\n",
              "          dataTable['output_type'] = 'display_data';\n",
              "          await google.colab.output.renderOutput(dataTable, element);\n",
              "          const docLink = document.createElement('div');\n",
              "          docLink.innerHTML = docLinkHtml;\n",
              "          element.appendChild(docLink);\n",
              "        }\n",
              "      </script>\n",
              "    </div>\n",
              "  </div>\n",
              "  "
            ],
            "text/plain": [
              "    Topics      Alpha  Beta  Coherence\n",
              "0        2  symmetric  auto   0.457395\n",
              "1        3  symmetric  auto   0.414449\n",
              "18      20  symmetric  auto   0.396471\n",
              "13      15  symmetric  auto   0.379204\n",
              "2        4  symmetric  auto   0.372030\n",
              "15      17  symmetric  auto   0.369853\n",
              "3        5  symmetric  auto   0.368870\n",
              "19      21  symmetric  auto   0.364995\n",
              "12      14  symmetric  auto   0.362188\n",
              "6        8  symmetric  auto   0.351849"
            ]
          },
          "execution_count": 60,
          "metadata": {},
          "output_type": "execute_result"
        }
      ],
      "source": [
        "# Best LDA parameters\n",
        "lda_tuning.sort_values(by=['Coherence'], ascending=False).head(10)"
      ]
    },
    {
      "cell_type": "code",
      "execution_count": null,
      "metadata": {
        "colab": {
          "base_uri": "https://localhost:8080/",
          "height": 363
        },
        "id": "a0ovA8pmSgiT",
        "outputId": "ee92a7fd-9f21-4a7e-d098-bdca62c85605"
      },
      "outputs": [
        {
          "data": {
            "text/html": [
              "\n",
              "  <div id=\"df-a9f523b2-5f43-42ec-98df-6c4bdc582de7\">\n",
              "    <div class=\"colab-df-container\">\n",
              "      <div>\n",
              "<style scoped>\n",
              "    .dataframe tbody tr th:only-of-type {\n",
              "        vertical-align: middle;\n",
              "    }\n",
              "\n",
              "    .dataframe tbody tr th {\n",
              "        vertical-align: top;\n",
              "    }\n",
              "\n",
              "    .dataframe thead th {\n",
              "        text-align: right;\n",
              "    }\n",
              "</style>\n",
              "<table border=\"1\" class=\"dataframe\">\n",
              "  <thead>\n",
              "    <tr style=\"text-align: right;\">\n",
              "      <th></th>\n",
              "      <th>Topics</th>\n",
              "      <th>Alpha</th>\n",
              "      <th>Beta</th>\n",
              "      <th>Coherence</th>\n",
              "    </tr>\n",
              "  </thead>\n",
              "  <tbody>\n",
              "    <tr>\n",
              "      <th>4</th>\n",
              "      <td>6</td>\n",
              "      <td>symmetric</td>\n",
              "      <td>auto</td>\n",
              "      <td>0.298753</td>\n",
              "    </tr>\n",
              "    <tr>\n",
              "      <th>10</th>\n",
              "      <td>12</td>\n",
              "      <td>symmetric</td>\n",
              "      <td>auto</td>\n",
              "      <td>0.316254</td>\n",
              "    </tr>\n",
              "    <tr>\n",
              "      <th>7</th>\n",
              "      <td>9</td>\n",
              "      <td>symmetric</td>\n",
              "      <td>auto</td>\n",
              "      <td>0.323985</td>\n",
              "    </tr>\n",
              "    <tr>\n",
              "      <th>8</th>\n",
              "      <td>10</td>\n",
              "      <td>symmetric</td>\n",
              "      <td>auto</td>\n",
              "      <td>0.325354</td>\n",
              "    </tr>\n",
              "    <tr>\n",
              "      <th>11</th>\n",
              "      <td>13</td>\n",
              "      <td>symmetric</td>\n",
              "      <td>auto</td>\n",
              "      <td>0.325845</td>\n",
              "    </tr>\n",
              "    <tr>\n",
              "      <th>5</th>\n",
              "      <td>7</td>\n",
              "      <td>symmetric</td>\n",
              "      <td>auto</td>\n",
              "      <td>0.326185</td>\n",
              "    </tr>\n",
              "    <tr>\n",
              "      <th>17</th>\n",
              "      <td>19</td>\n",
              "      <td>symmetric</td>\n",
              "      <td>auto</td>\n",
              "      <td>0.343036</td>\n",
              "    </tr>\n",
              "    <tr>\n",
              "      <th>14</th>\n",
              "      <td>16</td>\n",
              "      <td>symmetric</td>\n",
              "      <td>auto</td>\n",
              "      <td>0.346912</td>\n",
              "    </tr>\n",
              "    <tr>\n",
              "      <th>16</th>\n",
              "      <td>18</td>\n",
              "      <td>symmetric</td>\n",
              "      <td>auto</td>\n",
              "      <td>0.349275</td>\n",
              "    </tr>\n",
              "    <tr>\n",
              "      <th>9</th>\n",
              "      <td>11</td>\n",
              "      <td>symmetric</td>\n",
              "      <td>auto</td>\n",
              "      <td>0.349860</td>\n",
              "    </tr>\n",
              "  </tbody>\n",
              "</table>\n",
              "</div>\n",
              "      <button class=\"colab-df-convert\" onclick=\"convertToInteractive('df-a9f523b2-5f43-42ec-98df-6c4bdc582de7')\"\n",
              "              title=\"Convert this dataframe to an interactive table.\"\n",
              "              style=\"display:none;\">\n",
              "        \n",
              "  <svg xmlns=\"http://www.w3.org/2000/svg\" height=\"24px\"viewBox=\"0 0 24 24\"\n",
              "       width=\"24px\">\n",
              "    <path d=\"M0 0h24v24H0V0z\" fill=\"none\"/>\n",
              "    <path d=\"M18.56 5.44l.94 2.06.94-2.06 2.06-.94-2.06-.94-.94-2.06-.94 2.06-2.06.94zm-11 1L8.5 8.5l.94-2.06 2.06-.94-2.06-.94L8.5 2.5l-.94 2.06-2.06.94zm10 10l.94 2.06.94-2.06 2.06-.94-2.06-.94-.94-2.06-.94 2.06-2.06.94z\"/><path d=\"M17.41 7.96l-1.37-1.37c-.4-.4-.92-.59-1.43-.59-.52 0-1.04.2-1.43.59L10.3 9.45l-7.72 7.72c-.78.78-.78 2.05 0 2.83L4 21.41c.39.39.9.59 1.41.59.51 0 1.02-.2 1.41-.59l7.78-7.78 2.81-2.81c.8-.78.8-2.07 0-2.86zM5.41 20L4 18.59l7.72-7.72 1.47 1.35L5.41 20z\"/>\n",
              "  </svg>\n",
              "      </button>\n",
              "      \n",
              "  <style>\n",
              "    .colab-df-container {\n",
              "      display:flex;\n",
              "      flex-wrap:wrap;\n",
              "      gap: 12px;\n",
              "    }\n",
              "\n",
              "    .colab-df-convert {\n",
              "      background-color: #E8F0FE;\n",
              "      border: none;\n",
              "      border-radius: 50%;\n",
              "      cursor: pointer;\n",
              "      display: none;\n",
              "      fill: #1967D2;\n",
              "      height: 32px;\n",
              "      padding: 0 0 0 0;\n",
              "      width: 32px;\n",
              "    }\n",
              "\n",
              "    .colab-df-convert:hover {\n",
              "      background-color: #E2EBFA;\n",
              "      box-shadow: 0px 1px 2px rgba(60, 64, 67, 0.3), 0px 1px 3px 1px rgba(60, 64, 67, 0.15);\n",
              "      fill: #174EA6;\n",
              "    }\n",
              "\n",
              "    [theme=dark] .colab-df-convert {\n",
              "      background-color: #3B4455;\n",
              "      fill: #D2E3FC;\n",
              "    }\n",
              "\n",
              "    [theme=dark] .colab-df-convert:hover {\n",
              "      background-color: #434B5C;\n",
              "      box-shadow: 0px 1px 3px 1px rgba(0, 0, 0, 0.15);\n",
              "      filter: drop-shadow(0px 1px 2px rgba(0, 0, 0, 0.3));\n",
              "      fill: #FFFFFF;\n",
              "    }\n",
              "  </style>\n",
              "\n",
              "      <script>\n",
              "        const buttonEl =\n",
              "          document.querySelector('#df-a9f523b2-5f43-42ec-98df-6c4bdc582de7 button.colab-df-convert');\n",
              "        buttonEl.style.display =\n",
              "          google.colab.kernel.accessAllowed ? 'block' : 'none';\n",
              "\n",
              "        async function convertToInteractive(key) {\n",
              "          const element = document.querySelector('#df-a9f523b2-5f43-42ec-98df-6c4bdc582de7');\n",
              "          const dataTable =\n",
              "            await google.colab.kernel.invokeFunction('convertToInteractive',\n",
              "                                                     [key], {});\n",
              "          if (!dataTable) return;\n",
              "\n",
              "          const docLinkHtml = 'Like what you see? Visit the ' +\n",
              "            '<a target=\"_blank\" href=https://colab.research.google.com/notebooks/data_table.ipynb>data table notebook</a>'\n",
              "            + ' to learn more about interactive tables.';\n",
              "          element.innerHTML = '';\n",
              "          dataTable['output_type'] = 'display_data';\n",
              "          await google.colab.output.renderOutput(dataTable, element);\n",
              "          const docLink = document.createElement('div');\n",
              "          docLink.innerHTML = docLinkHtml;\n",
              "          element.appendChild(docLink);\n",
              "        }\n",
              "      </script>\n",
              "    </div>\n",
              "  </div>\n",
              "  "
            ],
            "text/plain": [
              "    Topics      Alpha  Beta  Coherence\n",
              "4        6  symmetric  auto   0.298753\n",
              "10      12  symmetric  auto   0.316254\n",
              "7        9  symmetric  auto   0.323985\n",
              "8       10  symmetric  auto   0.325354\n",
              "11      13  symmetric  auto   0.325845\n",
              "5        7  symmetric  auto   0.326185\n",
              "17      19  symmetric  auto   0.343036\n",
              "14      16  symmetric  auto   0.346912\n",
              "16      18  symmetric  auto   0.349275\n",
              "9       11  symmetric  auto   0.349860"
            ]
          },
          "execution_count": 61,
          "metadata": {},
          "output_type": "execute_result"
        }
      ],
      "source": [
        "# Worst LDA parameters\n",
        "lda_tuning.sort_values(by=['Coherence']).head(10)"
      ]
    },
    {
      "cell_type": "markdown",
      "metadata": {
        "id": "AgGR8ynuYGGK"
      },
      "source": [
        "Visualization of Results"
      ]
    },
    {
      "cell_type": "code",
      "execution_count": null,
      "metadata": {
        "colab": {
          "base_uri": "https://localhost:8080/",
          "height": 466
        },
        "id": "OwETwPCWlE3o",
        "outputId": "dbbd6f91-baf4-42f5-dacb-2359372d1454"
      },
      "outputs": [
        {
          "data": {
            "text/plain": [
              "<Axes: xlabel='Topics', ylabel='Coherence'>"
            ]
          },
          "execution_count": 65,
          "metadata": {},
          "output_type": "execute_result"
        },
        {
          "data": {
            "image/png": "[encoded data removed]",
            "text/plain": [
              "<Figure size 640x480 with 1 Axes>"
            ]
          },
          "metadata": {},
          "output_type": "display_data"
        }
      ],
      "source": [
        "lda_tuning.plot(x ='Topics', y='Coherence', kind = 'scatter', xticks=range(1,20))"
      ]
    },
    {
      "cell_type": "code",
      "execution_count": null,
      "metadata": {
        "colab": {
          "base_uri": "https://localhost:8080/",
          "height": 466
        },
        "id": "zAJuKl_klE3o",
        "outputId": "702ace8f-ede3-4a54-b66b-f5fcaa1ecf03"
      },
      "outputs": [
        {
          "data": {
            "text/plain": [
              "<Axes: xlabel='Topics'>"
            ]
          },
          "execution_count": 66,
          "metadata": {},
          "output_type": "execute_result"
        },
        {
          "data": {
            "image/png": "[encoded data removed]",
            "text/plain": [
              "<Figure size 640x480 with 1 Axes>"
            ]
          },
          "metadata": {},
          "output_type": "display_data"
        }
      ],
      "source": [
        "lda_tuning.plot(x ='Topics', y='Coherence', kind = 'line', xticks=range(1,20))"
      ]
    },
    {
      "cell_type": "markdown",
      "metadata": {
        "id": "B_VIrpNeSgiT"
      },
      "source": [
        "#### Running best model"
      ]
    },
    {
      "cell_type": "code",
      "execution_count": null,
      "metadata": {
        "colab": {
          "base_uri": "https://localhost:8080/"
        },
        "id": "okJYeM9sSgiT",
        "outputId": "7658bf89-cc97-486b-d6da-2581b646037e"
      },
      "outputs": [
        {
          "name": "stdout",
          "output_type": "stream",
          "text": [
            "Best Parameters: Topics: 2, Alpha: symmetric, Beta: auto\n"
          ]
        }
      ],
      "source": [
        "lda_tuning_best = lda_tuning.sort_values(by=['Coherence'], ascending=False).head(1)\n",
        "\n",
        "tuned_topics = int(lda_tuning_best['Topics'].to_string(index=False))\n",
        "\n",
        "# Since the values for Alpha and Beta can be float, symmetric and asymmetric, we will either strip or convert to float\n",
        "try:\n",
        "    tuned_alpha = float(lda_tuning_best['Alpha'].to_string(index=False))\n",
        "except:\n",
        "    tuned_alpha = lda_tuning_best['Alpha'].to_string(index=False).strip()\n",
        "\n",
        "try:\n",
        "    tuned_beta = float(lda_tuning_best['Beta'].to_string(index=False))\n",
        "except:\n",
        "    tuned_beta = lda_tuning_best['Beta'].to_string(index=False).strip()    \n",
        "    \n",
        "print(f'Best Parameters: Topics: {tuned_topics}, Alpha: {tuned_alpha}, Beta: {tuned_beta}')"
      ]
    },
    {
      "cell_type": "code",
      "execution_count": null,
      "metadata": {
        "colab": {
          "base_uri": "https://localhost:8080/"
        },
        "id": "6bpgq6WxSgiU",
        "outputId": "c9477b04-5486-41ab-f821-2ccc6cc88ba4"
      },
      "outputs": [
        {
          "name": "stdout",
          "output_type": "stream",
          "text": [
            "\n",
            "Coherence Score:  0.4208980595555272\n",
            "CPU times: user 54.3 s, sys: 1.81 s, total: 56.1 s\n",
            "Wall time: 1min 10s\n"
          ]
        }
      ],
      "source": [
        "%%time\n",
        "\n",
        "tuned_lda_model = LdaMulticore(corpus=doc_term_matrix,\n",
        "                       id2word=dictionary,\n",
        "                       num_topics=tuned_topics,\n",
        "                       random_state=100,\n",
        "                       passes=10,\n",
        "                       alpha=tuned_alpha,\n",
        "                       eta=tuned_beta,\n",
        "                       workers = workers)\n",
        "\n",
        "coherence_model_lda = CoherenceModel(model=tuned_lda_model, texts=data_lemmatized, dictionary=dictionary, coherence='c_v')\n",
        "print('\\nCoherence Score: ', coherence_lda)"
      ]
    },
    {
      "cell_type": "code",
      "execution_count": null,
      "metadata": {
        "colab": {
          "base_uri": "https://localhost:8080/",
          "height": 916
        },
        "id": "RvlzfaOYSgiU",
        "outputId": "34329d55-1e08-4478-f881-0711211c30b4"
      },
      "outputs": [
        {
          "name": "stdout",
          "output_type": "stream",
          "text": [
            "CPU times: user 2.36 s, sys: 186 ms, total: 2.55 s\n",
            "Wall time: 6.99 s\n"
          ]
        },
        {
          "data": {
            "text/html": [
              "\n",
              "<link rel=\"stylesheet\" type=\"text/css\" href=\"https://cdn.jsdelivr.net/gh/bmabey/pyLDAvis@3.4.0/pyLDAvis/js/ldavis.v1.0.0.css\">\n",
              "\n",
              "\n",
              "<div id=\"ldavis_el337731398687642892008034837332\" style=\"background-color:white;\"></div>\n",
              "<script type=\"text/javascript\">\n",
              "\n",
              "var ldavis_el337731398687642892008034837332_data = {\"mdsDat\": {\"x\": [-0.03552369592360959, 0.03552369592360959], \"y\": [0.11213937738274347, -0.11213937738274347], \"topics\": [1, 2], \"cluster\": [1, 1], \"Freq\": [53.207449900239055, 46.792550099760945]}, \"tinfo\": {\"Term\": [\"game\", \"use\", \"learn\", \"https_co\", \"ever_ever_ever_ever\", \"know\", \"word\", \"check\", \"azure\", \"microsoft_azure\", \"go\", \"number\", \"world_businesse\", \"call\", \"think\", \"well\", \"activision\", \"right\", \"deal\", \"boss\", \"play\", \"number_own\", \"tool\", \"say\", \"ask\", \"come\", \"tip\", \"tell\", \"black\", \"course\", \"game\", \"number\", \"deal\", \"number_own\", \"play\", \"activision\", \"decide\", \"apple_microsoft\", \"studio\", \"acquisition\", \"duty\", \"tell\", \"speech\", \"microsoft_buy\", \"washington_post\", \"owns_facebook\", \"richest_guy\", \"started_google\", \"twitter_number\", \"forbes_own\", \"minecraft\", \"repair\", \"bad\", \"blizzard\", \"purchase\", \"microsoft_buye\", \"feel_like\", \"probably\", \"lol\", \"seem\", \"think\", \"able\", \"right\", \"ask\", \"call\", \"thing\", \"well\", \"twitter\", \"go\", \"stop\", \"even\", \"say\", \"come\", \"own\", \"really\", \"company\", \"buy\", \"make\", \"get\", \"need\", \"year\", \"still\", \"work\", \"also\", \"way\", \"window\", \"see\", \"good\", \"time\", \"https_co\", \"want\", \"co\", \"know\", \"ever_ever_ever_ever\", \"microsoft_azure\", \"world_businesse\", \"azure\", \"boss\", \"word\", \"tip\", \"tool\", \"child\", \"peace\", \"stop_supporting\", \"half_decision\", \"halftone\", \"white_good\", \"check\", \"premium_account\", \"power_point\", \"rush\", \"pun\", \"inside\", \"black\", \"enterprise\", \"billion_people_use_microsoft\", \"us_think\", \"building_look\", \"application\", \"servers_really\", \"teams_please\", \"wait_really\", \"partnership\", \"learn\", \"evil\", \"say_microsoft\", \"solution\", \"course\", \"cloud\", \"security\", \"use\", \"know\", \"https_co\", \"design\", \"fix\", \"new\", \"support\", \"product\", \"feature\", \"help\", \"access\", \"take\", \"microsoft_edge\", \"update\", \"read\", \"co\", \"microsoft_teams\", \"want\", \"free\", \"team\", \"available\", \"work\", \"get\", \"make\", \"time\", \"see\"], \"Freq\": [335.0, 524.0, 227.0, 935.0, 169.0, 507.0, 121.0, 121.0, 117.0, 116.0, 300.0, 135.0, 110.0, 167.0, 142.0, 170.0, 114.0, 128.0, 106.0, 84.0, 98.0, 94.0, 77.0, 185.0, 96.0, 165.0, 67.0, 81.0, 64.0, 73.0, 334.3384200146216, 134.79348105583279, 106.45667057888224, 94.3006788722949, 97.89022038844598, 114.4385667537402, 69.41921434558968, 64.81614285313925, 61.384609751245335, 61.97556682908886, 57.8961793652262, 80.95696585318504, 53.67193430203253, 50.93636616224815, 48.11030510918135, 47.35430851723007, 47.35430851723007, 47.35430851723007, 47.35430851723007, 47.35430851723007, 52.52883579022348, 43.63452953251328, 69.08855109636458, 41.2983786914691, 40.20917748890096, 39.73070340314131, 38.7998056464402, 40.737041618812434, 35.42878615672094, 37.386458180009086, 139.88801678819138, 64.33428904883905, 125.74242538014109, 94.21644004492026, 161.9966924545904, 82.31689799270816, 163.09539016966966, 58.179187706697995, 268.5803960498007, 74.74794675406774, 102.18533730231458, 165.87797641630686, 149.45215872335663, 64.23266964642873, 64.29114432727988, 200.47649104302067, 145.05657332246665, 273.25227125055204, 278.0035304020882, 144.08031664657997, 150.2736786226399, 101.60673649882415, 190.35847253749137, 99.44149659303422, 93.86721025201, 136.84763717885681, 140.47657271768543, 132.63060140292166, 132.00182769912652, 276.63166262733887, 135.23335273838293, 114.51809091756735, 118.04838658113461, 169.33095578831353, 115.76321552410896, 110.49425763378885, 117.37356164543228, 83.7556416864965, 120.37078823025374, 67.09810956680427, 77.05413811985005, 55.26587683237711, 48.30813839915002, 45.90716447116105, 44.930032701211864, 44.930032701211864, 44.930032701211864, 120.43974845601659, 45.15890337747713, 41.14314422556768, 40.733326171040666, 39.623216561485286, 39.80500140933423, 64.157692191956, 39.734612861207935, 35.787366942091495, 35.787366942091495, 35.87825037477807, 46.286759121720706, 34.123471576764786, 34.123471576764786, 34.123471576764786, 55.613750395627875, 221.40646910794106, 54.99584683793376, 38.939903032535994, 67.99755704130312, 70.57955798423238, 50.57498360908167, 64.36454717999344, 448.81534477767826, 389.0548714278242, 658.7862129131084, 47.65830310228766, 80.09118304394003, 159.7864227978943, 122.43112782596346, 119.65910349234434, 80.69294861406738, 115.45890065509285, 64.06872517740453, 133.12536783764682, 56.092623726146975, 98.1803308890673, 74.24379569922904, 134.52008866059316, 83.57692156630867, 124.6168309672412, 84.38890227852269, 88.6004392133776, 76.23439411594123, 105.98327651193416, 109.31301448782408, 94.69066191127409, 84.27061869056915, 79.16696085564081], \"Total\": [335.0, 524.0, 227.0, 935.0, 169.0, 507.0, 121.0, 121.0, 117.0, 116.0, 300.0, 135.0, 110.0, 167.0, 142.0, 170.0, 114.0, 128.0, 106.0, 84.0, 98.0, 94.0, 77.0, 185.0, 96.0, 165.0, 67.0, 81.0, 64.0, 73.0, 335.35228388143037, 135.24950564387692, 106.88227295223884, 94.70317545010728, 98.33116610858053, 114.97791017307789, 69.83579870803051, 65.24957189838995, 61.81104437605999, 62.426134739214454, 58.31764143408797, 81.56233133032579, 54.10536828443618, 51.348009036674185, 48.51280297145629, 47.75680481406627, 47.75680481406627, 47.75680481406627, 47.75680481406627, 47.756804854205726, 52.99416353987103, 44.03810690528851, 69.76665918024361, 41.74105494392309, 40.64752939745937, 40.16540996682336, 39.22478296820497, 41.18711332499645, 35.84331164610118, 37.826842429448384, 142.6014677025152, 65.26283168750672, 128.42724257346973, 96.11408078247405, 167.66960868125227, 84.20161077518307, 170.6545236055764, 59.320306811305656, 300.0642431244019, 77.34623516389384, 109.07139052246403, 185.4138593956282, 165.82964846297332, 66.33336657400748, 66.49908617159691, 241.9604545634758, 170.87956784274178, 367.94293316182615, 387.3165448899123, 179.31513605480512, 190.80809805994613, 119.71947606773675, 296.3417490494255, 120.49853261371737, 112.6908356231215, 199.99569556032006, 219.64353357332624, 208.15975878298988, 216.2724463896957, 935.4178755404473, 259.85018370562415, 249.0381795781605, 507.1032580089588, 169.74824883503732, 116.19834707472697, 110.91756277112411, 117.90997092045451, 84.18267534057196, 121.1348563375176, 67.54403300309536, 77.64926388845069, 55.74592229008353, 48.72810941456884, 46.33397817515485, 45.347880849179305, 45.347880849179305, 45.347880849179305, 121.56679339604254, 45.61977378880306, 41.57113015988879, 41.157573501680716, 40.04533860563384, 40.23383104094928, 64.88403619014223, 40.18903091662093, 36.20672206076785, 36.20672206076785, 36.305794720171995, 46.84851277134258, 34.543983453040155, 34.543983453040155, 34.543983453040155, 56.3065853480362, 227.62049571138692, 55.81157674187374, 39.44223414836091, 70.19236966689195, 73.09016160040153, 51.72859563438118, 66.8576559328919, 524.8009754250097, 507.1032580089588, 935.4178755404473, 49.312913397949394, 91.03072656068645, 217.5909729399744, 156.70432190458502, 153.10747098076826, 94.69394094058339, 152.73693033682468, 72.14363006726754, 191.58634286390654, 60.55012450449654, 142.05100255366204, 93.669028884873, 249.0381795781605, 118.71725736285336, 259.85018370562415, 129.02103884371857, 159.74763325011997, 106.329817912683, 296.3417490494255, 387.3165448899123, 367.94293316182615, 216.2724463896957, 219.64353357332624], \"Category\": [\"Default\", \"Default\", \"Default\", \"Default\", \"Default\", \"Default\", \"Default\", \"Default\", \"Default\", \"Default\", \"Default\", \"Default\", \"Default\", \"Default\", \"Default\", \"Default\", \"Default\", \"Default\", \"Default\", \"Default\", \"Default\", \"Default\", \"Default\", \"Default\", \"Default\", \"Default\", \"Default\", \"Default\", \"Default\", \"Default\", \"Topic1\", \"Topic1\", \"Topic1\", \"Topic1\", \"Topic1\", \"Topic1\", \"Topic1\", \"Topic1\", \"Topic1\", \"Topic1\", \"Topic1\", \"Topic1\", \"Topic1\", \"Topic1\", \"Topic1\", \"Topic1\", \"Topic1\", \"Topic1\", \"Topic1\", \"Topic1\", \"Topic1\", \"Topic1\", \"Topic1\", \"Topic1\", \"Topic1\", \"Topic1\", \"Topic1\", \"Topic1\", \"Topic1\", \"Topic1\", \"Topic1\", \"Topic1\", \"Topic1\", \"Topic1\", \"Topic1\", \"Topic1\", \"Topic1\", \"Topic1\", \"Topic1\", \"Topic1\", \"Topic1\", \"Topic1\", \"Topic1\", \"Topic1\", \"Topic1\", \"Topic1\", \"Topic1\", \"Topic1\", \"Topic1\", \"Topic1\", \"Topic1\", \"Topic1\", \"Topic1\", \"Topic1\", \"Topic1\", \"Topic1\", \"Topic1\", \"Topic1\", \"Topic1\", \"Topic1\", \"Topic1\", \"Topic1\", \"Topic1\", \"Topic2\", \"Topic2\", \"Topic2\", \"Topic2\", \"Topic2\", \"Topic2\", \"Topic2\", \"Topic2\", \"Topic2\", \"Topic2\", \"Topic2\", \"Topic2\", \"Topic2\", \"Topic2\", \"Topic2\", \"Topic2\", \"Topic2\", \"Topic2\", \"Topic2\", \"Topic2\", \"Topic2\", \"Topic2\", \"Topic2\", \"Topic2\", \"Topic2\", \"Topic2\", \"Topic2\", \"Topic2\", \"Topic2\", \"Topic2\", \"Topic2\", \"Topic2\", \"Topic2\", \"Topic2\", \"Topic2\", \"Topic2\", \"Topic2\", \"Topic2\", \"Topic2\", \"Topic2\", \"Topic2\", \"Topic2\", \"Topic2\", \"Topic2\", \"Topic2\", \"Topic2\", \"Topic2\", \"Topic2\", \"Topic2\", \"Topic2\", \"Topic2\", \"Topic2\", \"Topic2\", \"Topic2\", \"Topic2\", \"Topic2\", \"Topic2\", \"Topic2\", \"Topic2\", \"Topic2\", \"Topic2\", \"Topic2\", \"Topic2\"], \"logprob\": [30.0, 29.0, 28.0, 27.0, 26.0, 25.0, 24.0, 23.0, 22.0, 21.0, 20.0, 19.0, 18.0, 17.0, 16.0, 15.0, 14.0, 13.0, 12.0, 11.0, 10.0, 9.0, 8.0, 7.0, 6.0, 5.0, 4.0, 3.0, 2.0, 1.0, -5.0113, -5.9197, -6.1557, -6.277, -6.2396, -6.0834, -6.5833, -6.6519, -6.7063, -6.6967, -6.7648, -6.4295, -6.8406, -6.8929, -6.95, -6.9658, -6.9658, -6.9658, -6.9658, -6.9658, -6.8621, -7.0476, -6.5881, -7.1026, -7.1294, -7.1413, -7.165, -7.1163, -7.2559, -7.2021, -5.8826, -6.6594, -5.9892, -6.2779, -5.7359, -6.4129, -5.7291, -6.7599, -5.2303, -6.5093, -6.1967, -5.7122, -5.8165, -6.6609, -6.66, -5.5228, -5.8463, -5.2131, -5.1958, -5.8531, -5.811, -6.2023, -5.5745, -6.2239, -6.2816, -5.9046, -5.8784, -5.9359, -5.9406, -5.2008, -5.9165, -6.0827, -6.0524, -5.5631, -5.9434, -5.99, -5.9296, -6.2671, -5.9044, -6.4888, -6.3505, -6.6828, -6.8174, -6.8684, -6.8899, -6.8899, -6.8899, -5.9038, -6.8848, -6.9779, -6.9879, -7.0156, -7.011, -6.5336, -7.0128, -7.1174, -7.1174, -7.1148, -6.8601, -7.165, -7.165, -7.165, -6.6766, -5.295, -6.6877, -7.033, -6.4755, -6.4382, -6.7715, -6.5304, -4.5884, -4.7313, -4.2046, -6.8309, -6.3118, -5.6211, -5.8874, -5.9103, -6.3043, -5.9461, -6.535, -5.8037, -6.668, -6.1082, -6.3876, -5.7933, -6.2692, -5.8697, -6.2595, -6.2108, -6.3612, -6.0317, -6.0008, -6.1444, -6.2609, -6.3234], \"loglift\": [30.0, 29.0, 28.0, 27.0, 26.0, 25.0, 24.0, 23.0, 22.0, 21.0, 20.0, 19.0, 18.0, 17.0, 16.0, 15.0, 14.0, 13.0, 12.0, 11.0, 10.0, 9.0, 8.0, 7.0, 6.0, 5.0, 4.0, 3.0, 2.0, 1.0, 0.6279, 0.6276, 0.627, 0.6267, 0.6265, 0.6263, 0.625, 0.6243, 0.624, 0.6237, 0.6237, 0.6235, 0.6229, 0.6229, 0.6226, 0.6225, 0.6225, 0.6225, 0.6225, 0.6225, 0.6222, 0.6218, 0.6212, 0.6203, 0.6201, 0.6201, 0.6201, 0.62, 0.6193, 0.6193, 0.6118, 0.6166, 0.6098, 0.611, 0.5966, 0.6083, 0.5857, 0.6115, 0.5201, 0.5968, 0.5658, 0.5196, 0.527, 0.5988, 0.5972, 0.4429, 0.4671, 0.3334, 0.2994, 0.4122, 0.3922, 0.4669, 0.1884, 0.4389, 0.4482, 0.2515, 0.184, 0.1802, 0.1372, -0.5873, -0.0221, -0.1459, -0.8266, 0.757, 0.7557, 0.7556, 0.7549, 0.7544, 0.7531, 0.7528, 0.7518, 0.7508, 0.7508, 0.7502, 0.7502, 0.7502, 0.7502, 0.7501, 0.7493, 0.7491, 0.7491, 0.7488, 0.7487, 0.7482, 0.7481, 0.7478, 0.7478, 0.7476, 0.7474, 0.7472, 0.7472, 0.7472, 0.7471, 0.7318, 0.7447, 0.7466, 0.7277, 0.7245, 0.7369, 0.7214, 0.603, 0.4945, 0.4089, 0.7253, 0.6314, 0.4507, 0.5126, 0.513, 0.5994, 0.4796, 0.6407, 0.3954, 0.683, 0.3901, 0.527, 0.1436, 0.4085, 0.0246, 0.3349, 0.17, 0.4267, -0.2688, -0.5056, -0.5979, -0.1831, -0.261]}, \"token.table\": {\"Topic\": [1, 2, 1, 2, 1, 1, 2, 1, 2, 1, 1, 2, 1, 2, 1, 2, 1, 2, 1, 2, 2, 1, 2, 1, 2, 2, 1, 2, 1, 2, 1, 2, 2, 1, 2, 1, 2, 1, 2, 1, 2, 1, 2, 1, 1, 1, 2, 1, 2, 1, 2, 2, 1, 2, 1, 2, 1, 1, 2, 1, 1, 2, 1, 2, 1, 2, 1, 2, 1, 2, 2, 2, 1, 2, 1, 2, 2, 1, 2, 1, 2, 1, 1, 2, 2, 1, 1, 1, 2, 1, 2, 1, 1, 2, 1, 2, 1, 1, 1, 2, 1, 1, 2, 2, 1, 2, 2, 1, 1, 2, 2, 1, 1, 2, 1, 2, 1, 1, 1, 2, 2, 1, 2, 1, 2, 1, 2, 1, 2, 1, 2, 1, 2, 1, 1, 1, 2, 1, 2, 2, 1, 1, 2, 1, 2, 1, 2, 2, 1, 2, 1, 2, 1, 2, 1, 2, 2, 1, 2, 1, 2, 1, 1, 2, 2, 1, 2, 2, 1, 2, 1, 1, 2, 1, 2, 2, 1, 2, 1, 2, 1, 2, 2, 1, 2], \"Freq\": [0.9806500629094146, 0.015322657232959603, 0.11088990105627773, 0.8871192084502219, 0.9931737766402704, 0.9914947995523156, 0.008697322803090487, 0.8215867683415258, 0.17427598116335394, 0.9961751182248584, 0.021345394780849992, 0.9818881599190996, 0.9780044633911794, 0.020808605604067647, 0.2821409891309671, 0.7147571724651165, 0.008481046956364946, 0.9922824938946987, 0.9890110951383966, 0.01433349413244053, 0.994290506044129, 0.015412111494875362, 0.9863751356720232, 0.9822463772197743, 0.9978300126500741, 0.9915772475846096, 0.8485508351322705, 0.15215394285130365, 0.9661858298242322, 0.03578466036386045, 0.008225930552779998, 0.9871116663335997, 0.9866192492752744, 0.019331667286466105, 0.9859150316097713, 0.4617765845975729, 0.5420855558319334, 0.8985124275486174, 0.09648455597837502, 0.8265813533902586, 0.169449177445003, 0.04104519588288226, 0.9714029692282136, 0.9917453762175035, 0.9880319445972857, 0.040557327932751325, 0.9733758703860318, 0.9945532530761386, 0.9952964549701856, 0.9351673203340373, 0.06417814943468883, 0.9955920085174813, 0.017917429651288282, 0.9854586308208555, 0.14784472861663275, 0.8553873584248037, 0.9942693636217904, 0.12083831927526967, 0.8788241401837794, 0.9841529420463505, 0.3487803260870337, 0.6510566086957962, 0.9959675721728244, 0.0029819388388407915, 0.7177591653850379, 0.2814235576509681, 0.8964746922160827, 0.10331120988363778, 0.6389323314822573, 0.3651041894184327, 0.9923286194930186, 0.9923286194930186, 0.2422465864568927, 0.75292857952818, 0.2961243389110566, 0.7044979759652935, 0.9941881984663281, 0.23269422575454118, 0.7671021510043773, 0.02635966493811587, 0.9709143252206013, 0.9764722731418455, 0.7419628844452654, 0.2581922125358982, 0.9982930301530072, 0.9932225407916863, 0.9958817806923921, 0.0660609706872354, 0.9248535896212957, 0.294818131562998, 0.7075635157511954, 1.000110134017392, 0.8030554651894442, 0.19518709223354547, 0.26655517559545144, 0.7353246223322799, 0.9981552195500523, 0.9925749538305847, 0.9648236371147517, 0.03015073865983599, 0.9841529428735282, 0.017759911985763436, 0.9945550712027524, 0.9850577126156438, 0.9966321348389701, 0.9862613751973512, 0.9864143607622364, 0.9954569934649221, 0.2155348774857963, 0.7837631908574412, 0.9988678181478167, 0.9840696493228972, 0.2028418595366519, 0.790015663458539, 0.962419240391542, 0.03007560126223569, 0.9991346833920345, 0.9841529428735282, 0.9811002515912373, 0.023359529799791362, 0.996171457929261, 0.8952944539372122, 0.1078668016791822, 0.02535353337842189, 0.9887878017584537, 0.029914300345909403, 0.9572576110691009, 0.6373964110045703, 0.3596736890668647, 0.9781413838337011, 0.9842524399717926, 0.028493125527622013, 0.9687662679391484, 0.9980525354918157, 0.9841529428735282, 0.8519917005173733, 0.15035147656188938, 0.9696658129652691, 0.03878663251861076, 0.9927919382641326, 0.9868786495318608, 0.21696912750563513, 0.778536281049632, 0.30273556628825227, 0.694203970971337, 0.4444510291356487, 0.5571287548320104, 0.9842524399717926, 0.9931055019988534, 0.012260561753072264, 0.9738531038193398, 0.023752514727300972, 0.9817570762459318, 0.021037651633841394, 0.6103412718703548, 0.3883989911902258, 0.9919455060808935, 0.012878422150100214, 0.9916385055577165, 0.9777427514745419, 0.016857633646112792, 0.9841529428735282, 0.309747901873331, 0.689893054172419, 0.994290506044129, 0.14481680400546407, 0.855562434190176, 0.9842524399717926, 0.5195301310732846, 0.4810464176604487, 0.9894295332356283, 0.8341405889860437, 0.16860288500781734, 0.9551460843589014, 0.046878335428657734, 0.9923286194930186, 0.6850147430232061, 0.3150067796384086, 0.008255262194836008, 0.9906314633803208, 0.6411516453873354, 0.3576951284792503, 0.9917275249455536, 0.7861301565559053, 0.2148755761252808], \"Term\": [\"able\", \"able\", \"access\", \"access\", \"acquisition\", \"activision\", \"activision\", \"also\", \"also\", \"apple_microsoft\", \"application\", \"application\", \"ask\", \"ask\", \"available\", \"available\", \"azure\", \"azure\", \"bad\", \"bad\", \"billion_people_use_microsoft\", \"black\", \"black\", \"blizzard\", \"boss\", \"building_look\", \"buy\", \"buy\", \"call\", \"call\", \"check\", \"check\", \"child\", \"cloud\", \"cloud\", \"co\", \"co\", \"come\", \"come\", \"company\", \"company\", \"course\", \"course\", \"deal\", \"decide\", \"design\", \"design\", \"duty\", \"enterprise\", \"even\", \"even\", \"ever_ever_ever_ever\", \"evil\", \"evil\", \"feature\", \"feature\", \"feel_like\", \"fix\", \"fix\", \"forbes_own\", \"free\", \"free\", \"game\", \"game\", \"get\", \"get\", \"go\", \"go\", \"good\", \"good\", \"half_decision\", \"halftone\", \"help\", \"help\", \"https_co\", \"https_co\", \"inside\", \"know\", \"know\", \"learn\", \"learn\", \"lol\", \"make\", \"make\", \"microsoft_azure\", \"microsoft_buy\", \"microsoft_buye\", \"microsoft_edge\", \"microsoft_edge\", \"microsoft_teams\", \"microsoft_teams\", \"minecraft\", \"need\", \"need\", \"new\", \"new\", \"number\", \"number_own\", \"own\", \"own\", \"owns_facebook\", \"partnership\", \"partnership\", \"peace\", \"play\", \"power_point\", \"premium_account\", \"probably\", \"product\", \"product\", \"pun\", \"purchase\", \"read\", \"read\", \"really\", \"really\", \"repair\", \"richest_guy\", \"right\", \"right\", \"rush\", \"say\", \"say\", \"say_microsoft\", \"say_microsoft\", \"security\", \"security\", \"see\", \"see\", \"seem\", \"servers_really\", \"solution\", \"solution\", \"speech\", \"started_google\", \"still\", \"still\", \"stop\", \"stop\", \"stop_supporting\", \"studio\", \"support\", \"support\", \"take\", \"take\", \"team\", \"team\", \"teams_please\", \"tell\", \"tell\", \"thing\", \"thing\", \"think\", \"think\", \"time\", \"time\", \"tip\", \"tool\", \"tool\", \"twitter\", \"twitter\", \"twitter_number\", \"update\", \"update\", \"us_think\", \"use\", \"use\", \"wait_really\", \"want\", \"want\", \"washington_post\", \"way\", \"way\", \"well\", \"well\", \"white_good\", \"window\", \"window\", \"word\", \"word\", \"work\", \"work\", \"world_businesse\", \"year\", \"year\"]}, \"R\": 30, \"lambda.step\": 0.01, \"plot.opts\": {\"xlab\": \"PC1\", \"ylab\": \"PC2\"}, \"topic.order\": [1, 2]};\n",
              "\n",
              "function LDAvis_load_lib(url, callback){\n",
              "  var s = document.createElement('script');\n",
              "  s.src = url;\n",
              "  s.async = true;\n",
              "  s.onreadystatechange = s.onload = callback;\n",
              "  s.onerror = function(){console.warn(\"failed to load library \" + url);};\n",
              "  document.getElementsByTagName(\"head\")[0].appendChild(s);\n",
              "}\n",
              "\n",
              "if(typeof(LDAvis) !== \"undefined\"){\n",
              "   // already loaded: just create the visualization\n",
              "   !function(LDAvis){\n",
              "       new LDAvis(\"#\" + \"ldavis_el337731398687642892008034837332\", ldavis_el337731398687642892008034837332_data);\n",
              "   }(LDAvis);\n",
              "}else if(typeof define === \"function\" && define.amd){\n",
              "   // require.js is available: use it to load d3/LDAvis\n",
              "   require.config({paths: {d3: \"https://d3js.org/d3.v5\"}});\n",
              "   require([\"d3\"], function(d3){\n",
              "      window.d3 = d3;\n",
              "      LDAvis_load_lib(\"https://cdn.jsdelivr.net/gh/bmabey/pyLDAvis@3.4.0/pyLDAvis/js/ldavis.v3.0.0.js\", function(){\n",
              "        new LDAvis(\"#\" + \"ldavis_el337731398687642892008034837332\", ldavis_el337731398687642892008034837332_data);\n",
              "      });\n",
              "    });\n",
              "}else{\n",
              "    // require.js not available: dynamically load d3 & LDAvis\n",
              "    LDAvis_load_lib(\"https://d3js.org/d3.v5.js\", function(){\n",
              "         LDAvis_load_lib(\"https://cdn.jsdelivr.net/gh/bmabey/pyLDAvis@3.4.0/pyLDAvis/js/ldavis.v3.0.0.js\", function(){\n",
              "                 new LDAvis(\"#\" + \"ldavis_el337731398687642892008034837332\", ldavis_el337731398687642892008034837332_data);\n",
              "            })\n",
              "         });\n",
              "}\n",
              "</script>"
            ],
            "text/plain": [
              "<IPython.core.display.HTML object>"
            ]
          },
          "execution_count": 69,
          "metadata": {},
          "output_type": "execute_result"
        }
      ],
      "source": [
        "%%time\n",
        "\n",
        "lda_display = gensimvis.prepare(tuned_lda_model, doc_term_matrix, dictionary, sort_topics=False, mds='mmds')\n",
        "pyLDAvis.display(lda_display)"
      ]
    },
    {
      "attachments": {},
      "cell_type": "markdown",
      "metadata": {},
      "source": [
        "### Summary of Results on Tweets\n",
        "\n",
        "1. According to the coherence score, the best model is the one with **2** topics. The coherence score is 0.4573.\n",
        "\n",
        "2. Within the **2** topics, the topic 1 is the most important topic. It contains words like \"game\", \"play\", \"window\", \"number\", \"time\", \"activation\" which might be talking about the game and the activation of the game. The topic 2 is the second most important topic. It contains words like \"support\", \"team\", \"azure\", \"microsoft azure\", microsoft teams\" which might be talking about the support of microsoft related product and the related services.\n",
        "\n",
        "3. I choose N by hyperparameter tuning. I tried different number of topics and choose the one with the highest coherence score. However, it is neccessary to consider the interpretability of the topics. If the topics are not interpretable, it is not useful to choose the model with the highest coherence score. It is a trade-off between coherence score and interpretability. But in this case, the coherence score and interpretability are both good for the model with **2** topics."
      ]
    },
    {
      "cell_type": "code",
      "execution_count": 1,
      "metadata": {
        "id": "uLqTaCDaS4Tl"
      },
      "outputs": [
        {
          "name": "stdout",
          "output_type": "stream",
          "text": [
            "Created at: Mon, 01 May 2023 23:02:42 by Richard Yang\n"
          ]
        }
      ],
      "source": [
        "import datetime\n",
        "import pytz\n",
        "\n",
        "time = datetime.datetime.now(pytz.timezone('US/Central')).strftime(\"%a, %d %B %Y %H:%M:%S\")\n",
        "sign = 'Richard Yang'\n",
        "\n",
        "print(f'Created at: {time} by {sign}')"
      ]
    }
  ],
  "metadata": {
    "colab": {
      "provenance": []
    },
    "kernelspec": {
      "display_name": "Python 3 (ipykernel)",
      "language": "python",
      "name": "python3"
    },
    "language_info": {
      "codemirror_mode": {
        "name": "ipython",
        "version": 3
      },
      "file_extension": ".py",
      "mimetype": "text/x-python",
      "name": "python",
      "nbconvert_exporter": "python",
      "pygments_lexer": "ipython3",
      "version": "3.9.2"
    }
  },
  "nbformat": 4,
  "nbformat_minor": 0
}
