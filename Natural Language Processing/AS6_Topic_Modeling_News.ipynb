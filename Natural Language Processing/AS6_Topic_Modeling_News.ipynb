{
  "cells": [
    {
      "attachments": {},
      "cell_type": "markdown",
      "metadata": {
        "id": "tyjT-otv4yZp"
      },
      "source": [
        "## NLP Class Assignment 6 -- Topic Modeling on News\n",
        "\n",
        "Richard Yang"
      ]
    },
    {
      "cell_type": "markdown",
      "metadata": {
        "id": "ZgD9PLaq4yZv"
      },
      "source": [
        "You have been provided with a starter notebook that reads a collection of tweets and a collection of news articles about one particular company.  Use appropriate topic modeling technique to identify top N most important topics.  To get quality results apply appropriate text cleaning methods.\n",
        "\n",
        "- Present top N most important topics in the news articles and tweets\n",
        "- For news articles, consider how to effectively combine information from the title and text of news article\n",
        "- Select N to identify relevant topics, but minimize duplication\n",
        "- Explain how you selected N\n"
      ]
    },
    {
      "cell_type": "code",
      "execution_count": 1,
      "metadata": {
        "colab": {
          "base_uri": "https://localhost:8080/"
        },
        "id": "pOXKZ5vq4yZw",
        "outputId": "35481940-4500-4052-cad0-8c7cbb503018"
      },
      "outputs": [
        {
          "name": "stderr",
          "output_type": "stream",
          "text": [
            "c:\\Users\\Richa\\AppData\\Local\\Programs\\Python\\Python39\\lib\\site-packages\\requests\\__init__.py:102: RequestsDependencyWarning: urllib3 (1.26.8) or chardet (5.1.0)/charset_normalizer (2.0.12) doesn't match a supported version!\n",
            "  warnings.warn(\"urllib3 ({}) or chardet ({})/charset_normalizer ({}) doesn't match a supported \"\n"
          ]
        },
        {
          "name": "stdout",
          "output_type": "stream",
          "text": [
            "Python Version: 3.9.2 (tags/v3.9.2:1a79785, Feb 19 2021, 13:44:55) [MSC v.1928 64 bit (AMD64)]\n",
            "TensorFlow Version: 2.12.0\n"
          ]
        }
      ],
      "source": [
        "import pandas as pd\n",
        "import sys\n",
        "import os\n",
        "import numpy as np\n",
        "import pandas as pd\n",
        "import tensorflow as tf\n",
        "import re\n",
        "import string\n",
        "import matplotlib as plt\n",
        "\n",
        "import nltk as nltk\n",
        "from nltk.corpus import stopwords\n",
        "from nltk.stem.wordnet import WordNetLemmatizer\n",
        "\n",
        "print('Python Version: ' + sys.version)\n",
        "print('TensorFlow Version: ' + tf.__version__)\n",
        "\n",
        "pd.set_option('display.max_rows', 100)\n",
        "pd.set_option('display.max_columns', None)\n",
        "pd.set_option('display.max_colwidth', 500)"
      ]
    },
    {
      "cell_type": "code",
      "execution_count": 2,
      "metadata": {
        "colab": {
          "base_uri": "https://localhost:8080/"
        },
        "id": "KjmXNBnc4yZy",
        "outputId": "f5571123-391b-4d47-d9ab-aea55c773f90"
      },
      "outputs": [
        {
          "data": {
            "text/plain": [
              "[PhysicalDevice(name='/physical_device:CPU:0', device_type='CPU')]"
            ]
          },
          "execution_count": 2,
          "metadata": {},
          "output_type": "execute_result"
        }
      ],
      "source": [
        "#Verify we got CPU + GPU or only CPU\n",
        "tf.config.list_physical_devices()"
      ]
    },
    {
      "cell_type": "code",
      "execution_count": 3,
      "metadata": {
        "colab": {
          "base_uri": "https://localhost:8080/"
        },
        "id": "20Xt5pGB4yZz",
        "outputId": "d3c9afab-7723-4dc6-f42a-1fbbdcab9465"
      },
      "outputs": [],
      "source": [
        "# change the bokeh version to 2.4.3\n",
        "\n",
        "# !pip install bokeh == 2.4.3 --force -reinstall"
      ]
    },
    {
      "cell_type": "code",
      "execution_count": 4,
      "metadata": {
        "colab": {
          "base_uri": "https://localhost:8080/"
        },
        "id": "iaMuglEh4yZz",
        "outputId": "dd8de568-7d81-4b86-ded8-a57d11432612"
      },
      "outputs": [],
      "source": [
        "# import bokeh\n",
        "\n",
        "# print('Bokeh Version: ' + bokeh.__version__)"
      ]
    },
    {
      "cell_type": "code",
      "execution_count": 4,
      "metadata": {},
      "outputs": [
        {
          "name": "stdout",
          "output_type": "stream",
          "text": [
            "Requirement already satisfied: Pillow in c:\\users\\richa\\appdata\\local\\programs\\python\\python39\\lib\\site-packages (9.0.1)\n"
          ]
        },
        {
          "ename": "UnidentifiedImageError",
          "evalue": "cannot identify image file <_io.BytesIO object at 0x000001D9E0566310>",
          "output_type": "error",
          "traceback": [
            "\u001b[1;31m---------------------------------------------------------------------------\u001b[0m",
            "\u001b[1;31mUnidentifiedImageError\u001b[0m                    Traceback (most recent call last)",
            "\u001b[1;32mc:\\Users\\Richa\\NLPcode\\week6\\AS6_Richard_Yang_News.ipynb Cell 7\u001b[0m in \u001b[0;36m1\n\u001b[0;32m      <a href='vscode-notebook-cell:/c%3A/Users/Richa/NLPcode/week6/AS6_Richard_Yang_News.ipynb#X66sZmlsZQ%3D%3D?line=6'>7</a>\u001b[0m \u001b[39mfrom\u001b[39;00m \u001b[39mio\u001b[39;00m \u001b[39mimport\u001b[39;00m BytesIO\n\u001b[0;32m      <a href='vscode-notebook-cell:/c%3A/Users/Richa/NLPcode/week6/AS6_Richard_Yang_News.ipynb#X66sZmlsZQ%3D%3D?line=8'>9</a>\u001b[0m response \u001b[39m=\u001b[39m requests\u001b[39m.\u001b[39mget(path)\n\u001b[1;32m---> <a href='vscode-notebook-cell:/c%3A/Users/Richa/NLPcode/week6/AS6_Richard_Yang_News.ipynb#X66sZmlsZQ%3D%3D?line=9'>10</a>\u001b[0m img \u001b[39m=\u001b[39m Image\u001b[39m.\u001b[39;49mopen(BytesIO(response\u001b[39m.\u001b[39;49mcontent))\n",
            "File \u001b[1;32mc:\\Users\\Richa\\AppData\\Local\\Programs\\Python\\Python39\\lib\\site-packages\\PIL\\Image.py:3008\u001b[0m, in \u001b[0;36mopen\u001b[1;34m(fp, mode, formats)\u001b[0m\n\u001b[0;32m   3006\u001b[0m \u001b[39mfor\u001b[39;00m message \u001b[39min\u001b[39;00m accept_warnings:\n\u001b[0;32m   3007\u001b[0m     warnings\u001b[39m.\u001b[39mwarn(message)\n\u001b[1;32m-> 3008\u001b[0m \u001b[39mraise\u001b[39;00m UnidentifiedImageError(\n\u001b[0;32m   3009\u001b[0m     \u001b[39m\"\u001b[39m\u001b[39mcannot identify image file \u001b[39m\u001b[39m%r\u001b[39;00m\u001b[39m\"\u001b[39m \u001b[39m%\u001b[39m (filename \u001b[39mif\u001b[39;00m filename \u001b[39melse\u001b[39;00m fp)\n\u001b[0;32m   3010\u001b[0m )\n",
            "\u001b[1;31mUnidentifiedImageError\u001b[0m: cannot identify image file <_io.BytesIO object at 0x000001D9E0566310>"
          ]
        }
      ],
      "source": [
        "path = 'https://storage.googleapis.com/image-bucket-richard/image1'\n",
        "# read .bmp image file from the path\n",
        "\n",
        "# !pip install Pillow\n",
        "from PIL import Image\n",
        "import requests\n",
        "from io import BytesIO\n",
        "\n",
        "response = requests.get(path)\n",
        "\n",
        "# check tensorflor version\n",
        "print(tf.__version__)\n"
      ]
    },
    {
      "cell_type": "code",
      "execution_count": 5,
      "metadata": {
        "colab": {
          "base_uri": "https://localhost:8080/"
        },
        "id": "7xr33fg44yZ0",
        "outputId": "a3f856a1-4d20-4b0b-c4b2-d9d0cc9ca512"
      },
      "outputs": [
        {
          "name": "stdout",
          "output_type": "stream",
          "text": [
            "Ktrain Version: 0.36.0\n"
          ]
        }
      ],
      "source": [
        "import ktrain\n",
        "\n",
        "print('Ktrain Version: ' + ktrain.__version__)4/0AbUR2VPkyhAnJjlBjkUkO4n3sKT7OXGBM3_Bd6vWr3KBMqslg_U7KedctkMTnr6fgmLECw"
      ]
    },
    {
      "cell_type": "markdown",
      "metadata": {
        "id": "WtA1Y8ts4yZ0"
      },
      "source": [
        "#### Read news data"
      ]
    },
    {
      "cell_type": "code",
      "execution_count": 6,
      "metadata": {
        "colab": {
          "base_uri": "https://localhost:8080/",
          "height": 456
        },
        "id": "XmKLFzNy4yZ1",
        "outputId": "db2aa2fe-2586-4063-a59e-0d55247bc0a0"
      },
      "outputs": [
        {
          "name": "stdout",
          "output_type": "stream",
          "text": [
            "Sample contains 9,962 news articles\n"
          ]
        },
        {
          "data": {
            "text/html": [
              "<div>\n",
              "<style scoped>\n",
              "    .dataframe tbody tr th:only-of-type {\n",
              "        vertical-align: middle;\n",
              "    }\n",
              "\n",
              "    .dataframe tbody tr th {\n",
              "        vertical-align: top;\n",
              "    }\n",
              "\n",
              "    .dataframe thead th {\n",
              "        text-align: right;\n",
              "    }\n",
              "</style>\n",
              "<table border=\"1\" class=\"dataframe\">\n",
              "  <thead>\n",
              "    <tr style=\"text-align: right;\">\n",
              "      <th></th>\n",
              "      <th>url</th>\n",
              "      <th>date</th>\n",
              "      <th>language</th>\n",
              "      <th>title</th>\n",
              "      <th>text</th>\n",
              "    </tr>\n",
              "  </thead>\n",
              "  <tbody>\n",
              "    <tr>\n",
              "      <th>0</th>\n",
              "      <td>http://oaklandnewsnow.com/breaking-bts-announces-las-vegas-us-concert-date-in-2022/</td>\n",
              "      <td>2022-02-24</td>\n",
              "      <td>en</td>\n",
              "      <td>BREAKING: BTS Announces LAS VEGAS, US Concert Date in 2022! | Oakland News Now - Oakland News, SF Bay Area, East Bay, California, World</td>\n",
              "      <td>BREAKING: BTS Announces LAS VEGAS, US Concert Date in 2022! | Oakland News Now - Oakland News, SF Bay Area, East Bay, California, WorldSorry, you have Javascript Disabled! To see this page as it is meant to appear, please enable your Javascript!BREAKING: BTS Announces LAS VEGAS, US Concert Date in 2022! | Oakland News Now - Oakland News, SF Bay Area, East Bay, California, WorldSkip to contentMenuSearch for:SearchOakland News Now – Oakland News, SF Bay Area, East Bay, California, WorldOakland...</td>\n",
              "    </tr>\n",
              "    <tr>\n",
              "      <th>1</th>\n",
              "      <td>http://www.newsdzezimbabwe.co.uk/2022/04/mai-tt-weds.html</td>\n",
              "      <td>2022-04-09</td>\n",
              "      <td>en</td>\n",
              "      <td>MAI TT WEDS newsdzeZimbabweNewsdzeZimbabwe</td>\n",
              "      <td>MAI TT WEDS newsdzeZimbabweNewsdzeZimbabweskip to main  |      skip to sidebarHomeAboutContactAdvertiseNewsdzeZimbabweOur Zimbabwe Our NewsHomeNewsBusinessEntertainmentSaturday, 9 April 2022MAI TT WEDSSaturday, April 09, 2022  NewsdzeZimbabwe   0 Best moments... @Chakariboy @NyamayaroArron @restmutore @Lattynyangu pic.twitter.com/MsrhcFXUJj— H-Metro (@HMetro_) April 9, 2022 Posted in:  Share to TwitterShare to FacebookOlder PostHome0comments:        Post a CommentFollow NewsdzeZimbabweRecent...</td>\n",
              "    </tr>\n",
              "  </tbody>\n",
              "</table>\n",
              "</div>"
            ],
            "text/plain": [
              "                                                                                   url   \n",
              "0  http://oaklandnewsnow.com/breaking-bts-announces-las-vegas-us-concert-date-in-2022/  \\\n",
              "1                            http://www.newsdzezimbabwe.co.uk/2022/04/mai-tt-weds.html   \n",
              "\n",
              "        date language   \n",
              "0 2022-02-24       en  \\\n",
              "1 2022-04-09       en   \n",
              "\n",
              "                                                                                                                                     title   \n",
              "0  BREAKING: BTS Announces LAS VEGAS, US Concert Date in 2022! | Oakland News Now - Oakland News, SF Bay Area, East Bay, California, World  \\\n",
              "1                                                                                               MAI TT WEDS newsdzeZimbabweNewsdzeZimbabwe   \n",
              "\n",
              "                                                                                                                                                                                                                                                                                                                                                                                                                                                                                                                  text  \n",
              "0  BREAKING: BTS Announces LAS VEGAS, US Concert Date in 2022! | Oakland News Now - Oakland News, SF Bay Area, East Bay, California, WorldSorry, you have Javascript Disabled! To see this page as it is meant to appear, please enable your Javascript!BREAKING: BTS Announces LAS VEGAS, US Concert Date in 2022! | Oakland News Now - Oakland News, SF Bay Area, East Bay, California, WorldSkip to contentMenuSearch for:SearchOakland News Now – Oakland News, SF Bay Area, East Bay, California, WorldOakland...  \n",
              "1  MAI TT WEDS newsdzeZimbabweNewsdzeZimbabweskip to main  |      skip to sidebarHomeAboutContactAdvertiseNewsdzeZimbabweOur Zimbabwe Our NewsHomeNewsBusinessEntertainmentSaturday, 9 April 2022MAI TT WEDSSaturday, April 09, 2022  NewsdzeZimbabwe   0 Best moments... @Chakariboy @NyamayaroArron @restmutore @Lattynyangu pic.twitter.com/MsrhcFXUJj— H-Metro (@HMetro_) April 9, 2022 Posted in:  Share to TwitterShare to FacebookOlder PostHome0comments:        Post a CommentFollow NewsdzeZimbabweRecent...  "
            ]
          },
          "execution_count": 6,
          "metadata": {},
          "output_type": "execute_result"
        }
      ],
      "source": [
        "news_path = 'https://storage.googleapis.com/msca-bdp-data-open/news/nlp_a_6_news.json'\n",
        "news_df = pd.read_json(news_path, orient='records', lines=True)\n",
        "\n",
        "print(f'Sample contains {news_df.shape[0]:,.0f} news articles')\n",
        "news_df.head(2)"
      ]
    },
    {
      "cell_type": "markdown",
      "metadata": {
        "id": "ph_JbwLl-p5D"
      },
      "source": [
        "LDA on News"
      ]
    },
    {
      "cell_type": "code",
      "execution_count": 7,
      "metadata": {
        "colab": {
          "base_uri": "https://localhost:8080/"
        },
        "id": "gnlCirIGhT23",
        "outputId": "7c80b78c-31a7-4451-a527-8770a7ec3b30"
      },
      "outputs": [],
      "source": [
        "# pip install -U gensim"
      ]
    },
    {
      "cell_type": "code",
      "execution_count": 8,
      "metadata": {
        "colab": {
          "base_uri": "https://localhost:8080/"
        },
        "id": "gonwqbVZkx2y",
        "outputId": "5e47ea1a-6c34-435c-da72-f023ab3d6b8c"
      },
      "outputs": [],
      "source": [
        "# Load the Drive helper and mount\n",
        "# from google.colab import drive\n",
        "# # This will prompt for authorization.\n",
        "# drive.mount('/content/drive/')\n",
        "# path_gdrive = '/content/drive/MyDrive/NLP/NLPcode/week6'\n",
        "# os.chdir(path_gdrive)\n",
        "# print(os.getcwd())"
      ]
    },
    {
      "cell_type": "code",
      "execution_count": 9,
      "metadata": {
        "colab": {
          "base_uri": "https://localhost:8080/"
        },
        "id": "6cUE-Uer-sf_",
        "outputId": "eb44b056-3e08-41f9-d81a-d628abc83bc1"
      },
      "outputs": [],
      "source": [
        "import os\n",
        "import time\n",
        "import math\n",
        "import re\n",
        "from pprint import pprint\n",
        "from textblob import TextBlob\n",
        "import pandas as pd\n",
        "import numpy as np\n",
        "\n",
        "\n",
        "import nltk as nltk\n",
        "from nltk.corpus import stopwords\n",
        "# from nltk.stem.wordnet import WordNetLemmatizer\n",
        "import spacy\n",
        "import multiprocessing\n",
        "import string\n",
        "\n",
        "\n",
        "import gensim\n",
        "from gensim import corpora, models\n",
        "from gensim.models.ldamulticore import LdaMulticore\n",
        "from gensim.utils import simple_preprocess\n",
        "from gensim.models import CoherenceModel\n",
        "\n",
        "import pyLDAvis.gensim\n",
        "import pyLDAvis\n",
        "import pyLDAvis.gensim_models as gensimvis\n",
        "pyLDAvis.enable_notebook()"
      ]
    },
    {
      "cell_type": "code",
      "execution_count": 10,
      "metadata": {
        "colab": {
          "base_uri": "https://localhost:8080/"
        },
        "id": "SJng0IGl_lOe",
        "outputId": "39ec35cf-29cc-4eff-cf43-a446d1921044"
      },
      "outputs": [
        {
          "name": "stdout",
          "output_type": "stream",
          "text": [
            "Using 7 workers\n"
          ]
        }
      ],
      "source": [
        "num_processors = multiprocessing.cpu_count()\n",
        "num_processors\n",
        "\n",
        "workers = num_processors-1\n",
        "\n",
        "print(f'Using {workers} workers')"
      ]
    },
    {
      "cell_type": "code",
      "execution_count": 11,
      "metadata": {},
      "outputs": [
        {
          "name": "stderr",
          "output_type": "stream",
          "text": [
            "'cat' �����ڲ����ⲿ���Ҳ���ǿ����еĳ���\n",
            "���������ļ���\n"
          ]
        }
      ],
      "source": [
        "# check the RAM size\n",
        "!cat /proc/meminfo"
      ]
    },
    {
      "cell_type": "code",
      "execution_count": 12,
      "metadata": {
        "colab": {
          "base_uri": "https://localhost:8080/"
        },
        "id": "gYTlZm25_PHq",
        "outputId": "ace0247d-aac4-4a78-fca8-41cd939edd45"
      },
      "outputs": [],
      "source": [
        "import warnings\n",
        "\n",
        "# warnings.simplefilter('once')\n",
        "warnings.simplefilter('ignore')\n",
        "# warnings.filterwarnings(\"ignore\", category=FutureWarning)\n",
        "# warnings.filterwarnings(\"ignore\", category=DeprecationWarning)\n",
        "# warnings.filterwarnings(action='ignore', category=UserWarning, module='gensim')"
      ]
    },
    {
      "cell_type": "code",
      "execution_count": 16,
      "metadata": {
        "colab": {
          "base_uri": "https://localhost:8080/"
        },
        "id": "76VYG5B0_xWe",
        "outputId": "05942e7e-2e14-4bdc-ecf3-b547ad41b254"
      },
      "outputs": [
        {
          "name": "stdout",
          "output_type": "stream",
          "text": [
            "CPU times: total: 0 ns\n",
            "Wall time: 0 ns\n"
          ]
        }
      ],
      "source": [
        "# Filter non-English articles, apply appropriate cleaning\n",
        "%time \n",
        "news_eng = news_df[news_df['language']=='en'].reset_index(drop=True)\n",
        "news_eng = news_df['text'].apply(lambda x: re.sub(r'[^\\d+\\w\\s,.]','',x))\n",
        "news_eng = news_df['text'].apply(lambda x: re.sub(r'\\n|\\nm|\\nm\\n\\n','',x))"
      ]
    },
    {
      "cell_type": "markdown",
      "metadata": {
        "id": "T1k_iLEU-YpH"
      },
      "source": [
        "#### Tokenize text into words and remove punctuation"
      ]
    },
    {
      "cell_type": "code",
      "execution_count": 17,
      "metadata": {
        "colab": {
          "base_uri": "https://localhost:8080/"
        },
        "id": "FZxBICiL-YpH",
        "outputId": "b657488b-10b7-4ea8-db6c-4f659a9477ec"
      },
      "outputs": [
        {
          "ename": "KeyError",
          "evalue": "'text'",
          "output_type": "error",
          "traceback": [
            "\u001b[1;31m---------------------------------------------------------------------------\u001b[0m",
            "\u001b[1;31mKeyError\u001b[0m                                  Traceback (most recent call last)",
            "File \u001b[1;32m<timed exec>:6\u001b[0m\n",
            "File \u001b[1;32mc:\\Users\\Richa\\AppData\\Local\\Programs\\Python\\Python39\\lib\\site-packages\\pandas\\core\\series.py:1007\u001b[0m, in \u001b[0;36mSeries.__getitem__\u001b[1;34m(self, key)\u001b[0m\n\u001b[0;32m   1004\u001b[0m     \u001b[39mreturn\u001b[39;00m \u001b[39mself\u001b[39m\u001b[39m.\u001b[39m_values[key]\n\u001b[0;32m   1006\u001b[0m \u001b[39melif\u001b[39;00m key_is_scalar:\n\u001b[1;32m-> 1007\u001b[0m     \u001b[39mreturn\u001b[39;00m \u001b[39mself\u001b[39;49m\u001b[39m.\u001b[39;49m_get_value(key)\n\u001b[0;32m   1009\u001b[0m \u001b[39mif\u001b[39;00m is_hashable(key):\n\u001b[0;32m   1010\u001b[0m     \u001b[39m# Otherwise index.get_value will raise InvalidIndexError\u001b[39;00m\n\u001b[0;32m   1011\u001b[0m     \u001b[39mtry\u001b[39;00m:\n\u001b[0;32m   1012\u001b[0m         \u001b[39m# For labels that don't resolve as scalars like tuples and frozensets\u001b[39;00m\n",
            "File \u001b[1;32mc:\\Users\\Richa\\AppData\\Local\\Programs\\Python\\Python39\\lib\\site-packages\\pandas\\core\\series.py:1116\u001b[0m, in \u001b[0;36mSeries._get_value\u001b[1;34m(self, label, takeable)\u001b[0m\n\u001b[0;32m   1113\u001b[0m     \u001b[39mreturn\u001b[39;00m \u001b[39mself\u001b[39m\u001b[39m.\u001b[39m_values[label]\n\u001b[0;32m   1115\u001b[0m \u001b[39m# Similar to Index.get_value, but we do not fall back to positional\u001b[39;00m\n\u001b[1;32m-> 1116\u001b[0m loc \u001b[39m=\u001b[39m \u001b[39mself\u001b[39;49m\u001b[39m.\u001b[39;49mindex\u001b[39m.\u001b[39;49mget_loc(label)\n\u001b[0;32m   1118\u001b[0m \u001b[39mif\u001b[39;00m is_integer(loc):\n\u001b[0;32m   1119\u001b[0m     \u001b[39mreturn\u001b[39;00m \u001b[39mself\u001b[39m\u001b[39m.\u001b[39m_values[loc]\n",
            "File \u001b[1;32mc:\\Users\\Richa\\AppData\\Local\\Programs\\Python\\Python39\\lib\\site-packages\\pandas\\core\\indexes\\range.py:349\u001b[0m, in \u001b[0;36mRangeIndex.get_loc\u001b[1;34m(self, key)\u001b[0m\n\u001b[0;32m    347\u001b[0m         \u001b[39mraise\u001b[39;00m \u001b[39mKeyError\u001b[39;00m(key) \u001b[39mfrom\u001b[39;00m \u001b[39merr\u001b[39;00m\n\u001b[0;32m    348\u001b[0m \u001b[39mif\u001b[39;00m \u001b[39misinstance\u001b[39m(key, Hashable):\n\u001b[1;32m--> 349\u001b[0m     \u001b[39mraise\u001b[39;00m \u001b[39mKeyError\u001b[39;00m(key)\n\u001b[0;32m    350\u001b[0m \u001b[39mself\u001b[39m\u001b[39m.\u001b[39m_check_indexing_error(key)\n\u001b[0;32m    351\u001b[0m \u001b[39mraise\u001b[39;00m \u001b[39mKeyError\u001b[39;00m(key)\n",
            "\u001b[1;31mKeyError\u001b[0m: 'text'"
          ]
        }
      ],
      "source": [
        "%%time\n",
        "\n",
        "def sent_to_words(sentences):\n",
        "    for sentence in sentences:\n",
        "        yield(gensim.utils.simple_preprocess(str(sentence), deacc=True))  # deacc=True removes punctuations\n",
        "        \n",
        "        \n",
        "data_list = news_eng['text'].tolist()        \n",
        "data_tokens = list(sent_to_words(data_list))"
      ]
    },
    {
      "cell_type": "markdown",
      "metadata": {
        "id": "XCndDv8o-YpH"
      },
      "source": [
        "#### Remove Stopwords, Make n-grams and Lemmatize"
      ]
    },
    {
      "cell_type": "code",
      "execution_count": 20,
      "metadata": {
        "colab": {
          "base_uri": "https://localhost:8080/"
        },
        "id": "2njtoEGh-YpI",
        "outputId": "08539a71-4356-42a7-d523-d85875466ec7"
      },
      "outputs": [
        {
          "name": "stdout",
          "output_type": "stream",
          "text": [
            "CPU times: user 2min 9s, sys: 2.16 s, total: 2min 11s\n",
            "Wall time: 2min 13s\n"
          ]
        }
      ],
      "source": [
        "%%time\n",
        "\n",
        "# bigram = gensim.models.Phrases(data_tokens, min_count=5, threshold=100)\n",
        "# trigram = gensim.models.Phrases(bigram[data_tokens], threshold=100)\n",
        "\n",
        "bigram = gensim.models.Phrases(data_tokens, min_count=1, threshold=1)\n",
        "trigram = gensim.models.Phrases(bigram[data_tokens], threshold=1)\n",
        "\n",
        "bigram_mod = gensim.models.phrases.Phraser(bigram)\n",
        "trigram_mod = gensim.models.phrases.Phraser(trigram)"
      ]
    },
    {
      "cell_type": "code",
      "execution_count": 21,
      "metadata": {
        "colab": {
          "base_uri": "https://localhost:8080/"
        },
        "id": "C5XFvbG4AbLy",
        "outputId": "e143aacb-6644-42f2-d0aa-3c8d1680bf07"
      },
      "outputs": [
        {
          "name": "stderr",
          "output_type": "stream",
          "text": [
            "[nltk_data] Downloading package stopwords to /root/nltk_data...\n",
            "[nltk_data]   Unzipping corpora/stopwords.zip.\n"
          ]
        },
        {
          "data": {
            "text/plain": [
              "True"
            ]
          },
          "execution_count": 21,
          "metadata": {},
          "output_type": "execute_result"
        }
      ],
      "source": [
        "import nltk\n",
        "nltk.download('stopwords')"
      ]
    },
    {
      "cell_type": "code",
      "execution_count": 22,
      "metadata": {
        "colab": {
          "base_uri": "https://localhost:8080/"
        },
        "id": "RSkWFzaw-YpI",
        "outputId": "2dfaae45-878f-4e90-807f-d5df531f6339"
      },
      "outputs": [
        {
          "name": "stdout",
          "output_type": "stream",
          "text": [
            "CPU times: user 3.07 ms, sys: 27 µs, total: 3.1 ms\n",
            "Wall time: 3.58 ms\n"
          ]
        }
      ],
      "source": [
        "%%time\n",
        "\n",
        "stop_words = stopwords.words('english')\n",
        "\n",
        "# Define functions for stopwords, bigrams, trigrams and lemmatization\n",
        "def remove_stopwords(texts):\n",
        "    return [[word for word in simple_preprocess(str(doc)) if word not in stop_words] for doc in texts]\n",
        "\n",
        "def make_bigrams(texts):\n",
        "    return [bigram_mod[doc] for doc in texts]\n",
        "\n",
        "def make_trigrams(texts):\n",
        "    return [trigram_mod[bigram_mod[doc]] for doc in texts]\n",
        "\n",
        "def lemmatization(texts, allowed_postags=['NOUN', 'ADJ', 'VERB', 'ADV']):\n",
        "    \"\"\"https://spacy.io/api/annotation\"\"\"\n",
        "    texts_out = []\n",
        "    for sent in texts:\n",
        "        doc = nlp(\" \".join(sent)) \n",
        "        texts_out.append([token.lemma_\n",
        "         for token in doc if token.pos_ in allowed_postags])\n",
        "    return texts_out"
      ]
    },
    {
      "cell_type": "code",
      "execution_count": null,
      "metadata": {
        "colab": {
          "base_uri": "https://localhost:8080/"
        },
        "id": "btMXmV4w-YpI",
        "outputId": "52c16af0-4b71-4b36-c0f0-bc2b1d99ddac"
      },
      "outputs": [],
      "source": [
        "%%time\n",
        "\n",
        "# Remove Stop Words\n",
        "data_tokens_nostops = remove_stopwords(data_tokens)\n",
        "\n",
        "# Create n-grams\n",
        "data_words_bigrams = make_bigrams(data_tokens_nostops)\n",
        "data_words_trigrams = make_trigrams(data_tokens_nostops)\n",
        "\n",
        "# Combine tokens and n-grams\n",
        "# data_tokens_cobnined = data_tokens_nostops + data_words_bigrams + data_words_trigrams\n",
        "data_tokens_cobnined = data_words_trigramsn\n",
        "\n",
        "# Initialize spacy 'en' model, keeping only tagger component (for efficiency)\n",
        "nlp = spacy.load(\"en_core_web_sm\", disable=['parser', 'ner'])\n",
        "\n",
        "# Lemmatize text keeping only noun, adj, vb, adv\n",
        "data_lemmatized = lemmatization(data_tokens_cobnined, allowed_postags=['NOUN', 'ADJ', 'VERB', 'ADV'])"
      ]
    },
    {
      "cell_type": "code",
      "execution_count": 24,
      "metadata": {
        "colab": {
          "base_uri": "https://localhost:8080/"
        },
        "id": "4emPlUnK-YpJ",
        "outputId": "7da84f18-c57a-40f1-9665-02815ca424b9"
      },
      "outputs": [
        {
          "name": "stdout",
          "output_type": "stream",
          "text": [
            "CPU times: user 24.1 s, sys: 814 ms, total: 24.9 s\n",
            "Wall time: 25.4 s\n"
          ]
        }
      ],
      "source": [
        "%%time\n",
        "\n",
        "# Creating the term dictionary of our courpus, where every unique term is assigned an index. \n",
        "dictionary = corpora.Dictionary(data_lemmatized)\n",
        "\n",
        "# Converting list of documents (corpus) into Document Term Matrix using dictionary prepared above.\n",
        "doc_term_matrix = [dictionary.doc2bow(doc) for doc in data_lemmatized]"
      ]
    },
    {
      "cell_type": "markdown",
      "metadata": {
        "id": "9V-rY4BG-YpJ"
      },
      "source": [
        "#### Build initial 3 topic model"
      ]
    },
    {
      "cell_type": "code",
      "execution_count": 25,
      "metadata": {
        "colab": {
          "base_uri": "https://localhost:8080/"
        },
        "id": "iv02imm2-YpJ",
        "outputId": "09d3660d-1fe8-44d7-d5f4-6920b69f131e"
      },
      "outputs": [
        {
          "name": "stdout",
          "output_type": "stream",
          "text": [
            "CPU times: user 4min 18s, sys: 23.5 s, total: 4min 42s\n",
            "Wall time: 5min 37s\n"
          ]
        }
      ],
      "source": [
        "%%time\n",
        "\n",
        "lda_model = LdaMulticore(corpus=doc_term_matrix,\n",
        "                   id2word=dictionary,\n",
        "                   num_topics=3,\n",
        "                   random_state=100,\n",
        "                   passes=10,\n",
        "                   eta='auto',\n",
        "                   workers=workers)"
      ]
    },
    {
      "cell_type": "code",
      "execution_count": 26,
      "metadata": {
        "colab": {
          "base_uri": "https://localhost:8080/"
        },
        "id": "qG3CX7Ov-YpK",
        "outputId": "e6cc05b2-d716-4bf0-88c1-d258a33052d0"
      },
      "outputs": [
        {
          "name": "stdout",
          "output_type": "stream",
          "text": [
            "[(0,\n",
            "  '0.010*\"strip\" + 0.008*\"height_filesize_mime_type_image\" + '\n",
            "  '0.007*\"resize_nbc_cc_file\" + 0.006*\"resize_width\" + '\n",
            "  '0.006*\"jpeg_source_url_https_media\" + 0.006*\"quality_strip\" + '\n",
            "  '0.006*\"pnbcstations_jpg\" + 0.004*\"say\" + '\n",
            "  '0.003*\"com_pnbcstations_jpg_quality\" + 0.002*\"show\"'),\n",
            " (1,\n",
            "  '0.005*\"share\" + 0.003*\"official_music\" + 0.002*\"news\" + 0.002*\"stock\" + '\n",
            "  '0.002*\"link_open\" + 0.002*\"make\" + 0.002*\"get\" + 0.002*\"post\" + '\n",
            "  '0.002*\"open\" + 0.002*\"company\"'),\n",
            " (2,\n",
            "  '0.005*\"use\" + 0.005*\"say\" + 0.003*\"company\" + 0.003*\"make\" + 0.003*\"get\" + '\n",
            "  '0.003*\"new\" + 0.003*\"year\" + 0.003*\"see\" + 0.003*\"work\" + 0.002*\"time\"')]\n"
          ]
        }
      ],
      "source": [
        "# Print the Keyword in the 3 topics\n",
        "print(lda_model.print_topics())\n",
        "doc_lda = lda_model[doc_term_matrix]"
      ]
    },
    {
      "cell_type": "markdown",
      "metadata": {
        "id": "joE1OcH_-YpK"
      },
      "source": [
        "#### Compute Coherence Score"
      ]
    },
    {
      "cell_type": "code",
      "execution_count": 27,
      "metadata": {
        "colab": {
          "base_uri": "https://localhost:8080/"
        },
        "id": "xM2oEnOs-YpK",
        "outputId": "7058e463-e2ec-4c06-a032-1b153dfb07f1"
      },
      "outputs": [
        {
          "name": "stdout",
          "output_type": "stream",
          "text": [
            "\n",
            "Coherence Score:  0.3152786736816729\n",
            "CPU times: user 1min 33s, sys: 415 ms, total: 1min 33s\n",
            "Wall time: 1min 35s\n"
          ]
        }
      ],
      "source": [
        "%%time\n",
        "\n",
        "coherence_model_lda = CoherenceModel(model=lda_model, texts=data_lemmatized, dictionary=dictionary, coherence='c_v')\n",
        "coherence_lda = coherence_model_lda.get_coherence()\n",
        "print('\\nCoherence Score: ', coherence_lda)"
      ]
    },
    {
      "cell_type": "markdown",
      "metadata": {
        "id": "Isudv1Eu-YpK"
      },
      "source": [
        "#### Tune LDA model"
      ]
    },
    {
      "cell_type": "code",
      "execution_count": 28,
      "metadata": {
        "id": "aFDJLrL--YpK"
      },
      "outputs": [],
      "source": [
        "# supporting function\n",
        "def compute_coherence_values(corpus, dictionary, k, a, b):\n",
        "    \n",
        "    lda_model = LdaMulticore(corpus=doc_term_matrix,\n",
        "                       id2word=dictionary,\n",
        "                       num_topics=k,\n",
        "                       random_state=100,                  \n",
        "                       passes=10,\n",
        "                       alpha=a,\n",
        "                       eta=b,\n",
        "                       workers=workers)\n",
        "    \n",
        "    coherence_model_lda = CoherenceModel(model=lda_model, texts=data_lemmatized, dictionary=dictionary, coherence='c_v')\n",
        "    \n",
        "    return coherence_model_lda.get_coherence()"
      ]
    },
    {
      "cell_type": "code",
      "execution_count": 29,
      "metadata": {
        "id": "EmTwM8faTO_5"
      },
      "outputs": [],
      "source": [
        "start_time = time.time()\n",
        "\n",
        "def tic():\n",
        "    global start_time \n",
        "    start_time = time.time()\n",
        "\n",
        "def tac():\n",
        "    t_sec = round(time.time() - start_time)\n",
        "    (t_min, t_sec) = divmod(t_sec,60)\n",
        "    (t_hour,t_min) = divmod(t_min,60) \n",
        "    print(f'Execution time to calculate for topic {k}: {t_hour}hour:{t_min}min:{t_sec}sec'.format(t_hour,t_min,t_sec))"
      ]
    },
    {
      "cell_type": "code",
      "execution_count": null,
      "metadata": {
        "colab": {
          "base_uri": "https://localhost:8080/"
        },
        "id": "348KCtkbYw1I",
        "outputId": "bc5db656-187b-4d4c-d1aa-0909e869da3d"
      },
      "outputs": [
        {
          "name": "stdout",
          "output_type": "stream",
          "text": [
            "LDA will execute 15 iterations\n"
          ]
        },
        {
          "name": "stderr",
          "output_type": "stream",
          "text": [
            "WARNING:gensim.models.ldamodel:updated prior is not positive\n"
          ]
        },
        {
          "name": "stdout",
          "output_type": "stream",
          "text": [
            "Completed model based on 2 LDA topics. Finished 6.7% of LDA runs\n",
            "Execution time to calculate for topic 2: 0hour:6min:23sec\n",
            "Completed model based on 3 LDA topics. Finished 13.3% of LDA runs\n",
            "Execution time to calculate for topic 3: 0hour:6min:57sec\n",
            "Completed model based on 4 LDA topics. Finished 20.0% of LDA runs\n",
            "Execution time to calculate for topic 4: 0hour:7min:23sec\n",
            "Completed model based on 5 LDA topics. Finished 26.7% of LDA runs\n",
            "Execution time to calculate for topic 5: 0hour:9min:1sec\n",
            "Completed model based on 6 LDA topics. Finished 33.3% of LDA runs\n",
            "Execution time to calculate for topic 6: 0hour:8min:44sec\n",
            "Completed model based on 7 LDA topics. Finished 40.0% of LDA runs\n",
            "Execution time to calculate for topic 7: 0hour:9min:29sec\n",
            "Completed model based on 8 LDA topics. Finished 46.7% of LDA runs\n",
            "Execution time to calculate for topic 8: 0hour:9min:29sec\n",
            "Completed model based on 9 LDA topics. Finished 53.3% of LDA runs\n",
            "Execution time to calculate for topic 9: 0hour:9min:36sec\n",
            "Completed model based on 10 LDA topics. Finished 60.0% of LDA runs\n",
            "Execution time to calculate for topic 10: 0hour:10min:2sec\n",
            "Completed model based on 11 LDA topics. Finished 66.7% of LDA runs\n",
            "Execution time to calculate for topic 11: 0hour:12min:5sec\n",
            "Completed model based on 12 LDA topics. Finished 73.3% of LDA runs\n",
            "Execution time to calculate for topic 12: 0hour:12min:27sec\n",
            "Completed model based on 13 LDA topics. Finished 80.0% of LDA runs\n",
            "Execution time to calculate for topic 13: 0hour:11min:14sec\n",
            "Completed model based on 14 LDA topics. Finished 86.7% of LDA runs\n",
            "Execution time to calculate for topic 14: 0hour:11min:51sec\n",
            "Completed model based on 15 LDA topics. Finished 93.3% of LDA runs\n",
            "Execution time to calculate for topic 15: 0hour:12min:6sec\n",
            "Completed model based on 16 LDA topics. Finished 100.0% of LDA runs\n",
            "Execution time to calculate for topic 16: 0hour:14min:7sec\n",
            "CPU times: user 1h 51min 15s, sys: 21min 48s, total: 2h 13min 3s\n",
            "Wall time: 2h 30min 54s\n"
          ]
        }
      ],
      "source": [
        "%%time\n",
        "\n",
        "grid = {}\n",
        "grid['Validation_Set'] = {}\n",
        "# Topics range\n",
        "min_topics = 2\n",
        "max_topics = 15\n",
        "step_size = 1\n",
        "topics_range = range(min_topics, max_topics+2, step_size)\n",
        "\n",
        "# Alpha parameter\n",
        "alpha = list(np.arange(0.01, 1, 0.3))\n",
        "alpha.append('symmetric')\n",
        "alpha.append('asymmetric')\n",
        "alpha = ['symmetric'] # Run for number of topics only\n",
        "\n",
        "# Beta parameter\n",
        "beta = list(np.arange(0.01, 1, 0.3))\n",
        "beta.append('symmetric')\n",
        "beta = ['auto'] # Run for number of topics only\n",
        "\n",
        "\n",
        "# Validation sets\n",
        "num_of_docs = len(doc_term_matrix)\n",
        "corpus_sets = [# gensim.utils.ClippedCorpus(doc_term_matrix, num_of_docs*0.25), \n",
        "               # gensim.utils.ClippedCorpus(doc_term_matrix, num_of_docs*0.5), \n",
        "#                gensim.utils.ClippedCorpus(doc_term_matrix, num_of_docs*0.75), \n",
        "               doc_term_matrix]\n",
        "# corpus_title = ['75% Corpus', '100% Corpus']\n",
        "corpus_title = ['100% Corpus']\n",
        "model_results = {\n",
        "                 'Topics': [],\n",
        "                 'Alpha': [],\n",
        "                 'Beta': [],\n",
        "                 'Coherence': []\n",
        "                }\n",
        "\n",
        "itr = 0\n",
        "itr_total = len(beta)*len(alpha)*len(topics_range)*len(corpus_title)\n",
        "print(f'LDA will execute {itr_total} iterations')\n",
        "\n",
        "    \n",
        "# iterate through hyperparameters\n",
        "for i in range(len(corpus_sets)):\n",
        "    # iterate through number of topics\n",
        "    for k in topics_range:\n",
        "        # iterate through alpha values\n",
        "        tic()\n",
        "        for a in alpha:\n",
        "            # iterare through beta values\n",
        "            for b in beta:\n",
        "                # get the coherence score for the given parameters\n",
        "                itr += 1\n",
        "                cv = compute_coherence_values(corpus=corpus_sets[i], dictionary=dictionary, \n",
        "                                              k=k, a=a, b=b)\n",
        "                # Save the model results\n",
        "                model_results['Topics'].append(k)\n",
        "                model_results['Alpha'].append(a)\n",
        "                model_results['Beta'].append(b)\n",
        "                model_results['Coherence'].append(cv)\n",
        "                pct_completed = round((itr / itr_total * 100),1)\n",
        "#                 print(f'Completed Percent: {pct_completed}%, Corpus: {corpus_title[i]}, Topics: {k}, Alpha: {a}, Beta: {b}, Coherence: {cv}')\n",
        "        print(f'Completed model based on {k} LDA topics. Finished {pct_completed}% of LDA runs')\n",
        "        tac()\n",
        "                    \n",
        "lda_tuning = pd.DataFrame(model_results)\n",
        "# lda_tuning.to_csv(os.path.join(path_lda, 'lda_tuning_results.csv'), index=False)"
      ]
    },
    {
      "cell_type": "code",
      "execution_count": 31,
      "metadata": {
        "id": "mV6YhRfwk9J1"
      },
      "outputs": [],
      "source": [
        "# lda_tuning.to_csv('news_lda_tuning1.csv', index=False)"
      ]
    },
    {
      "cell_type": "code",
      "execution_count": 2,
      "metadata": {
        "colab": {
          "base_uri": "https://localhost:8080/",
          "height": 519
        },
        "id": "1GXzj222k3ra",
        "outputId": "90bb552e-dfc4-466f-ca8a-1442b67e3d55"
      },
      "outputs": [
        {
          "data": {
            "text/html": [
              "<div>\n",
              "<style scoped>\n",
              "    .dataframe tbody tr th:only-of-type {\n",
              "        vertical-align: middle;\n",
              "    }\n",
              "\n",
              "    .dataframe tbody tr th {\n",
              "        vertical-align: top;\n",
              "    }\n",
              "\n",
              "    .dataframe thead th {\n",
              "        text-align: right;\n",
              "    }\n",
              "</style>\n",
              "<table border=\"1\" class=\"dataframe\">\n",
              "  <thead>\n",
              "    <tr style=\"text-align: right;\">\n",
              "      <th></th>\n",
              "      <th>Topics</th>\n",
              "      <th>Alpha</th>\n",
              "      <th>Beta</th>\n",
              "      <th>Coherence</th>\n",
              "    </tr>\n",
              "  </thead>\n",
              "  <tbody>\n",
              "    <tr>\n",
              "      <th>0</th>\n",
              "      <td>2</td>\n",
              "      <td>symmetric</td>\n",
              "      <td>auto</td>\n",
              "      <td>0.299599</td>\n",
              "    </tr>\n",
              "    <tr>\n",
              "      <th>1</th>\n",
              "      <td>3</td>\n",
              "      <td>symmetric</td>\n",
              "      <td>auto</td>\n",
              "      <td>0.315279</td>\n",
              "    </tr>\n",
              "    <tr>\n",
              "      <th>2</th>\n",
              "      <td>4</td>\n",
              "      <td>symmetric</td>\n",
              "      <td>auto</td>\n",
              "      <td>0.384623</td>\n",
              "    </tr>\n",
              "    <tr>\n",
              "      <th>3</th>\n",
              "      <td>5</td>\n",
              "      <td>symmetric</td>\n",
              "      <td>auto</td>\n",
              "      <td>0.368648</td>\n",
              "    </tr>\n",
              "    <tr>\n",
              "      <th>4</th>\n",
              "      <td>6</td>\n",
              "      <td>symmetric</td>\n",
              "      <td>auto</td>\n",
              "      <td>0.355163</td>\n",
              "    </tr>\n",
              "    <tr>\n",
              "      <th>5</th>\n",
              "      <td>7</td>\n",
              "      <td>symmetric</td>\n",
              "      <td>auto</td>\n",
              "      <td>0.354119</td>\n",
              "    </tr>\n",
              "    <tr>\n",
              "      <th>6</th>\n",
              "      <td>8</td>\n",
              "      <td>symmetric</td>\n",
              "      <td>auto</td>\n",
              "      <td>0.356860</td>\n",
              "    </tr>\n",
              "    <tr>\n",
              "      <th>7</th>\n",
              "      <td>9</td>\n",
              "      <td>symmetric</td>\n",
              "      <td>auto</td>\n",
              "      <td>0.453795</td>\n",
              "    </tr>\n",
              "    <tr>\n",
              "      <th>8</th>\n",
              "      <td>10</td>\n",
              "      <td>symmetric</td>\n",
              "      <td>auto</td>\n",
              "      <td>0.451409</td>\n",
              "    </tr>\n",
              "    <tr>\n",
              "      <th>9</th>\n",
              "      <td>11</td>\n",
              "      <td>symmetric</td>\n",
              "      <td>auto</td>\n",
              "      <td>0.430159</td>\n",
              "    </tr>\n",
              "    <tr>\n",
              "      <th>10</th>\n",
              "      <td>12</td>\n",
              "      <td>symmetric</td>\n",
              "      <td>auto</td>\n",
              "      <td>0.402913</td>\n",
              "    </tr>\n",
              "    <tr>\n",
              "      <th>11</th>\n",
              "      <td>13</td>\n",
              "      <td>symmetric</td>\n",
              "      <td>auto</td>\n",
              "      <td>0.532528</td>\n",
              "    </tr>\n",
              "    <tr>\n",
              "      <th>12</th>\n",
              "      <td>14</td>\n",
              "      <td>symmetric</td>\n",
              "      <td>auto</td>\n",
              "      <td>0.447889</td>\n",
              "    </tr>\n",
              "    <tr>\n",
              "      <th>13</th>\n",
              "      <td>15</td>\n",
              "      <td>symmetric</td>\n",
              "      <td>auto</td>\n",
              "      <td>0.526518</td>\n",
              "    </tr>\n",
              "    <tr>\n",
              "      <th>14</th>\n",
              "      <td>16</td>\n",
              "      <td>symmetric</td>\n",
              "      <td>auto</td>\n",
              "      <td>0.450790</td>\n",
              "    </tr>\n",
              "  </tbody>\n",
              "</table>\n",
              "</div>"
            ],
            "text/plain": [
              "    Topics      Alpha  Beta  Coherence\n",
              "0        2  symmetric  auto   0.299599\n",
              "1        3  symmetric  auto   0.315279\n",
              "2        4  symmetric  auto   0.384623\n",
              "3        5  symmetric  auto   0.368648\n",
              "4        6  symmetric  auto   0.355163\n",
              "5        7  symmetric  auto   0.354119\n",
              "6        8  symmetric  auto   0.356860\n",
              "7        9  symmetric  auto   0.453795\n",
              "8       10  symmetric  auto   0.451409\n",
              "9       11  symmetric  auto   0.430159\n",
              "10      12  symmetric  auto   0.402913\n",
              "11      13  symmetric  auto   0.532528\n",
              "12      14  symmetric  auto   0.447889\n",
              "13      15  symmetric  auto   0.526518\n",
              "14      16  symmetric  auto   0.450790"
            ]
          },
          "execution_count": 2,
          "metadata": {},
          "output_type": "execute_result"
        }
      ],
      "source": [
        "lda_tuning_news = pd.read_csv('news_lda_tuning1.csv')\n",
        "lda_tuning_news"
      ]
    },
    {
      "cell_type": "code",
      "execution_count": 3,
      "metadata": {
        "colab": {
          "base_uri": "https://localhost:8080/",
          "height": 363
        },
        "id": "-59LWW7tUqjj",
        "outputId": "7b644ec0-555c-4963-c4c2-1c11fb35a81f"
      },
      "outputs": [
        {
          "data": {
            "text/html": [
              "<div>\n",
              "<style scoped>\n",
              "    .dataframe tbody tr th:only-of-type {\n",
              "        vertical-align: middle;\n",
              "    }\n",
              "\n",
              "    .dataframe tbody tr th {\n",
              "        vertical-align: top;\n",
              "    }\n",
              "\n",
              "    .dataframe thead th {\n",
              "        text-align: right;\n",
              "    }\n",
              "</style>\n",
              "<table border=\"1\" class=\"dataframe\">\n",
              "  <thead>\n",
              "    <tr style=\"text-align: right;\">\n",
              "      <th></th>\n",
              "      <th>Topics</th>\n",
              "      <th>Alpha</th>\n",
              "      <th>Beta</th>\n",
              "      <th>Coherence</th>\n",
              "    </tr>\n",
              "  </thead>\n",
              "  <tbody>\n",
              "    <tr>\n",
              "      <th>11</th>\n",
              "      <td>13</td>\n",
              "      <td>symmetric</td>\n",
              "      <td>auto</td>\n",
              "      <td>0.532528</td>\n",
              "    </tr>\n",
              "    <tr>\n",
              "      <th>13</th>\n",
              "      <td>15</td>\n",
              "      <td>symmetric</td>\n",
              "      <td>auto</td>\n",
              "      <td>0.526518</td>\n",
              "    </tr>\n",
              "    <tr>\n",
              "      <th>7</th>\n",
              "      <td>9</td>\n",
              "      <td>symmetric</td>\n",
              "      <td>auto</td>\n",
              "      <td>0.453795</td>\n",
              "    </tr>\n",
              "    <tr>\n",
              "      <th>8</th>\n",
              "      <td>10</td>\n",
              "      <td>symmetric</td>\n",
              "      <td>auto</td>\n",
              "      <td>0.451409</td>\n",
              "    </tr>\n",
              "    <tr>\n",
              "      <th>14</th>\n",
              "      <td>16</td>\n",
              "      <td>symmetric</td>\n",
              "      <td>auto</td>\n",
              "      <td>0.450790</td>\n",
              "    </tr>\n",
              "    <tr>\n",
              "      <th>12</th>\n",
              "      <td>14</td>\n",
              "      <td>symmetric</td>\n",
              "      <td>auto</td>\n",
              "      <td>0.447889</td>\n",
              "    </tr>\n",
              "    <tr>\n",
              "      <th>9</th>\n",
              "      <td>11</td>\n",
              "      <td>symmetric</td>\n",
              "      <td>auto</td>\n",
              "      <td>0.430159</td>\n",
              "    </tr>\n",
              "    <tr>\n",
              "      <th>10</th>\n",
              "      <td>12</td>\n",
              "      <td>symmetric</td>\n",
              "      <td>auto</td>\n",
              "      <td>0.402913</td>\n",
              "    </tr>\n",
              "    <tr>\n",
              "      <th>2</th>\n",
              "      <td>4</td>\n",
              "      <td>symmetric</td>\n",
              "      <td>auto</td>\n",
              "      <td>0.384623</td>\n",
              "    </tr>\n",
              "    <tr>\n",
              "      <th>3</th>\n",
              "      <td>5</td>\n",
              "      <td>symmetric</td>\n",
              "      <td>auto</td>\n",
              "      <td>0.368648</td>\n",
              "    </tr>\n",
              "  </tbody>\n",
              "</table>\n",
              "</div>"
            ],
            "text/plain": [
              "    Topics      Alpha  Beta  Coherence\n",
              "11      13  symmetric  auto   0.532528\n",
              "13      15  symmetric  auto   0.526518\n",
              "7        9  symmetric  auto   0.453795\n",
              "8       10  symmetric  auto   0.451409\n",
              "14      16  symmetric  auto   0.450790\n",
              "12      14  symmetric  auto   0.447889\n",
              "9       11  symmetric  auto   0.430159\n",
              "10      12  symmetric  auto   0.402913\n",
              "2        4  symmetric  auto   0.384623\n",
              "3        5  symmetric  auto   0.368648"
            ]
          },
          "execution_count": 3,
          "metadata": {},
          "output_type": "execute_result"
        }
      ],
      "source": [
        "# Best LDA parameters\n",
        "lda_tuning_news.sort_values(by=['Coherence'], ascending=False).head(10)"
      ]
    },
    {
      "cell_type": "code",
      "execution_count": 34,
      "metadata": {
        "colab": {
          "base_uri": "https://localhost:8080/",
          "height": 363
        },
        "id": "a0ovA8pmSgiT",
        "outputId": "ad6b5530-1e6a-4caa-a6bf-1bb8fc8b715b"
      },
      "outputs": [
        {
          "data": {
            "text/html": [
              "\n",
              "  <div id=\"df-8a51d5fc-4a5c-44e9-8e6e-6751c196a268\">\n",
              "    <div class=\"colab-df-container\">\n",
              "      <div>\n",
              "<style scoped>\n",
              "    .dataframe tbody tr th:only-of-type {\n",
              "        vertical-align: middle;\n",
              "    }\n",
              "\n",
              "    .dataframe tbody tr th {\n",
              "        vertical-align: top;\n",
              "    }\n",
              "\n",
              "    .dataframe thead th {\n",
              "        text-align: right;\n",
              "    }\n",
              "</style>\n",
              "<table border=\"1\" class=\"dataframe\">\n",
              "  <thead>\n",
              "    <tr style=\"text-align: right;\">\n",
              "      <th></th>\n",
              "      <th>Topics</th>\n",
              "      <th>Alpha</th>\n",
              "      <th>Beta</th>\n",
              "      <th>Coherence</th>\n",
              "    </tr>\n",
              "  </thead>\n",
              "  <tbody>\n",
              "    <tr>\n",
              "      <th>0</th>\n",
              "      <td>2</td>\n",
              "      <td>symmetric</td>\n",
              "      <td>auto</td>\n",
              "      <td>0.299599</td>\n",
              "    </tr>\n",
              "    <tr>\n",
              "      <th>1</th>\n",
              "      <td>3</td>\n",
              "      <td>symmetric</td>\n",
              "      <td>auto</td>\n",
              "      <td>0.315279</td>\n",
              "    </tr>\n",
              "    <tr>\n",
              "      <th>5</th>\n",
              "      <td>7</td>\n",
              "      <td>symmetric</td>\n",
              "      <td>auto</td>\n",
              "      <td>0.354119</td>\n",
              "    </tr>\n",
              "    <tr>\n",
              "      <th>4</th>\n",
              "      <td>6</td>\n",
              "      <td>symmetric</td>\n",
              "      <td>auto</td>\n",
              "      <td>0.355163</td>\n",
              "    </tr>\n",
              "    <tr>\n",
              "      <th>6</th>\n",
              "      <td>8</td>\n",
              "      <td>symmetric</td>\n",
              "      <td>auto</td>\n",
              "      <td>0.356860</td>\n",
              "    </tr>\n",
              "    <tr>\n",
              "      <th>3</th>\n",
              "      <td>5</td>\n",
              "      <td>symmetric</td>\n",
              "      <td>auto</td>\n",
              "      <td>0.368648</td>\n",
              "    </tr>\n",
              "    <tr>\n",
              "      <th>2</th>\n",
              "      <td>4</td>\n",
              "      <td>symmetric</td>\n",
              "      <td>auto</td>\n",
              "      <td>0.384623</td>\n",
              "    </tr>\n",
              "    <tr>\n",
              "      <th>10</th>\n",
              "      <td>12</td>\n",
              "      <td>symmetric</td>\n",
              "      <td>auto</td>\n",
              "      <td>0.402913</td>\n",
              "    </tr>\n",
              "    <tr>\n",
              "      <th>9</th>\n",
              "      <td>11</td>\n",
              "      <td>symmetric</td>\n",
              "      <td>auto</td>\n",
              "      <td>0.430159</td>\n",
              "    </tr>\n",
              "    <tr>\n",
              "      <th>12</th>\n",
              "      <td>14</td>\n",
              "      <td>symmetric</td>\n",
              "      <td>auto</td>\n",
              "      <td>0.447889</td>\n",
              "    </tr>\n",
              "  </tbody>\n",
              "</table>\n",
              "</div>\n",
              "      <button class=\"colab-df-convert\" onclick=\"convertToInteractive('df-8a51d5fc-4a5c-44e9-8e6e-6751c196a268')\"\n",
              "              title=\"Convert this dataframe to an interactive table.\"\n",
              "              style=\"display:none;\">\n",
              "        \n",
              "  <svg xmlns=\"http://www.w3.org/2000/svg\" height=\"24px\"viewBox=\"0 0 24 24\"\n",
              "       width=\"24px\">\n",
              "    <path d=\"M0 0h24v24H0V0z\" fill=\"none\"/>\n",
              "    <path d=\"M18.56 5.44l.94 2.06.94-2.06 2.06-.94-2.06-.94-.94-2.06-.94 2.06-2.06.94zm-11 1L8.5 8.5l.94-2.06 2.06-.94-2.06-.94L8.5 2.5l-.94 2.06-2.06.94zm10 10l.94 2.06.94-2.06 2.06-.94-2.06-.94-.94-2.06-.94 2.06-2.06.94z\"/><path d=\"M17.41 7.96l-1.37-1.37c-.4-.4-.92-.59-1.43-.59-.52 0-1.04.2-1.43.59L10.3 9.45l-7.72 7.72c-.78.78-.78 2.05 0 2.83L4 21.41c.39.39.9.59 1.41.59.51 0 1.02-.2 1.41-.59l7.78-7.78 2.81-2.81c.8-.78.8-2.07 0-2.86zM5.41 20L4 18.59l7.72-7.72 1.47 1.35L5.41 20z\"/>\n",
              "  </svg>\n",
              "      </button>\n",
              "      \n",
              "  <style>\n",
              "    .colab-df-container {\n",
              "      display:flex;\n",
              "      flex-wrap:wrap;\n",
              "      gap: 12px;\n",
              "    }\n",
              "\n",
              "    .colab-df-convert {\n",
              "      background-color: #E8F0FE;\n",
              "      border: none;\n",
              "      border-radius: 50%;\n",
              "      cursor: pointer;\n",
              "      display: none;\n",
              "      fill: #1967D2;\n",
              "      height: 32px;\n",
              "      padding: 0 0 0 0;\n",
              "      width: 32px;\n",
              "    }\n",
              "\n",
              "    .colab-df-convert:hover {\n",
              "      background-color: #E2EBFA;\n",
              "      box-shadow: 0px 1px 2px rgba(60, 64, 67, 0.3), 0px 1px 3px 1px rgba(60, 64, 67, 0.15);\n",
              "      fill: #174EA6;\n",
              "    }\n",
              "\n",
              "    [theme=dark] .colab-df-convert {\n",
              "      background-color: #3B4455;\n",
              "      fill: #D2E3FC;\n",
              "    }\n",
              "\n",
              "    [theme=dark] .colab-df-convert:hover {\n",
              "      background-color: #434B5C;\n",
              "      box-shadow: 0px 1px 3px 1px rgba(0, 0, 0, 0.15);\n",
              "      filter: drop-shadow(0px 1px 2px rgba(0, 0, 0, 0.3));\n",
              "      fill: #FFFFFF;\n",
              "    }\n",
              "  </style>\n",
              "\n",
              "      <script>\n",
              "        const buttonEl =\n",
              "          document.querySelector('#df-8a51d5fc-4a5c-44e9-8e6e-6751c196a268 button.colab-df-convert');\n",
              "        buttonEl.style.display =\n",
              "          google.colab.kernel.accessAllowed ? 'block' : 'none';\n",
              "\n",
              "        async function convertToInteractive(key) {\n",
              "          const element = document.querySelector('#df-8a51d5fc-4a5c-44e9-8e6e-6751c196a268');\n",
              "          const dataTable =\n",
              "            await google.colab.kernel.invokeFunction('convertToInteractive',\n",
              "                                                     [key], {});\n",
              "          if (!dataTable) return;\n",
              "\n",
              "          const docLinkHtml = 'Like what you see? Visit the ' +\n",
              "            '<a target=\"_blank\" href=https://colab.research.google.com/notebooks/data_table.ipynb>data table notebook</a>'\n",
              "            + ' to learn more about interactive tables.';\n",
              "          element.innerHTML = '';\n",
              "          dataTable['output_type'] = 'display_data';\n",
              "          await google.colab.output.renderOutput(dataTable, element);\n",
              "          const docLink = document.createElement('div');\n",
              "          docLink.innerHTML = docLinkHtml;\n",
              "          element.appendChild(docLink);\n",
              "        }\n",
              "      </script>\n",
              "    </div>\n",
              "  </div>\n",
              "  "
            ],
            "text/plain": [
              "    Topics      Alpha  Beta  Coherence\n",
              "0        2  symmetric  auto   0.299599\n",
              "1        3  symmetric  auto   0.315279\n",
              "5        7  symmetric  auto   0.354119\n",
              "4        6  symmetric  auto   0.355163\n",
              "6        8  symmetric  auto   0.356860\n",
              "3        5  symmetric  auto   0.368648\n",
              "2        4  symmetric  auto   0.384623\n",
              "10      12  symmetric  auto   0.402913\n",
              "9       11  symmetric  auto   0.430159\n",
              "12      14  symmetric  auto   0.447889"
            ]
          },
          "execution_count": 34,
          "metadata": {},
          "output_type": "execute_result"
        }
      ],
      "source": [
        "# Worst LDA parameters\n",
        "lda_tuning_news.sort_values(by=['Coherence']).head(10)"
      ]
    },
    {
      "cell_type": "markdown",
      "metadata": {
        "id": "f6bZxtqNY9uT"
      },
      "source": [
        "### Visualization of Results"
      ]
    },
    {
      "cell_type": "code",
      "execution_count": 4,
      "metadata": {
        "colab": {
          "base_uri": "https://localhost:8080/",
          "height": 467
        },
        "id": "OwETwPCWlE3o",
        "outputId": "4b1e3ecd-4288-4b67-cce9-73b521237359"
      },
      "outputs": [
        {
          "data": {
            "text/plain": [
              "<AxesSubplot:title={'center':'LDA Coherence Score For Tweets'}, xlabel='Topics', ylabel='Coherence'>"
            ]
          },
          "execution_count": 4,
          "metadata": {},
          "output_type": "execute_result"
        },
        {
          "data": {
            "image/png": "[encoded data removed]",
            "text/plain": [
              "<Figure size 640x480 with 1 Axes>"
            ]
          },
          "metadata": {},
          "output_type": "display_data"
        }
      ],
      "source": [
        "# Scatter plot of LDA coherence scores\n",
        "lda_tuning_news.plot(x ='Topics', y='Coherence', title = 'LDA Coherence Score For Tweets',kind = 'scatter', xticks=range(2,17))"
      ]
    },
    {
      "cell_type": "code",
      "execution_count": 5,
      "metadata": {
        "colab": {
          "base_uri": "https://localhost:8080/",
          "height": 467
        },
        "id": "zAJuKl_klE3o",
        "outputId": "072c040d-f4f2-4a41-96b8-13e6a3bb0922"
      },
      "outputs": [
        {
          "data": {
            "text/plain": [
              "<AxesSubplot:title={'center':'LDA Coherence Score For Tweets'}, xlabel='Topics'>"
            ]
          },
          "execution_count": 5,
          "metadata": {},
          "output_type": "execute_result"
        },
        {
          "data": {
            "image/png": "[encoded data removed]",
            "text/plain": [
              "<Figure size 640x480 with 1 Axes>"
            ]
          },
          "metadata": {},
          "output_type": "display_data"
        }
      ],
      "source": [
        "lda_tuning_news.plot(x ='Topics', y='Coherence', title = 'LDA Coherence Score For Tweets',kind = 'line', xticks=range(2,17))"
      ]
    },
    {
      "cell_type": "markdown",
      "metadata": {
        "id": "B_VIrpNeSgiT"
      },
      "source": [
        "#### Running best model"
      ]
    },
    {
      "cell_type": "code",
      "execution_count": null,
      "metadata": {},
      "outputs": [],
      "source": [
        "sample 100 rows from the data\n",
        "df_sampleLDA = df_filtered_keywords.sample(n=100, random_state=1)"
      ]
    },
    {
      "cell_type": "code",
      "execution_count": 37,
      "metadata": {
        "colab": {
          "base_uri": "https://localhost:8080/"
        },
        "id": "okJYeM9sSgiT",
        "outputId": "a6b42f38-26a9-4267-c5c5-5c9696593c44"
      },
      "outputs": [
        {
          "name": "stdout",
          "output_type": "stream",
          "text": [
            "Best Parameters: Topics: 13, Alpha: symmetric, Beta: auto\n"
          ]
        }
      ],
      "source": [
        "lda_tuning_best = lda_tuning_news.sort_values(by=['Coherence'], ascending=False).head(1)\n",
        "\n",
        "\n",
        "tuned_topics = int(lda_tuning_best['Topics'].to_string(index=False))\n",
        "\n",
        "\n",
        "# Since the values for Alpha and Beta can be float, symmetric and asymmetric, we will either strip or convert to float\n",
        "try:\n",
        "    tuned_alpha = float(lda_tuning_best['Alpha'].to_string(index=False))\n",
        "except:\n",
        "    tuned_alpha = lda_tuning_best['Alpha'].to_string(index=False).strip()\n",
        "    \n",
        "\n",
        "try:\n",
        "    tuned_beta = float(lda_tuning_best['Beta'].to_string(index=False))\n",
        "except:\n",
        "    tuned_beta = lda_tuning_best['Beta'].to_string(index=False).strip()    \n",
        "    \n",
        "print(f'Best Parameters: Topics: {tuned_topics}, Alpha: {tuned_alpha}, Beta: {tuned_beta}')"
      ]
    },
    {
      "cell_type": "code",
      "execution_count": 38,
      "metadata": {
        "colab": {
          "base_uri": "https://localhost:8080/"
        },
        "id": "6bpgq6WxSgiU",
        "outputId": "c9693744-cae2-4f90-ce58-966f0f2dbc33"
      },
      "outputs": [
        {
          "name": "stdout",
          "output_type": "stream",
          "text": [
            "\n",
            "Coherence Score:  0.3152786736816729\n",
            "CPU times: user 6min 20s, sys: 2min 7s, total: 8min 27s\n",
            "Wall time: 10min 10s\n"
          ]
        }
      ],
      "source": [
        "%%time\n",
        "\n",
        "tuned_lda_model = LdaMulticore(corpus=doc_term_matrix,\n",
        "                       id2word=dictionary,\n",
        "                       num_topics=tuned_topics,\n",
        "                       random_state=100,\n",
        "                       passes=10,\n",
        "                       alpha=tuned_alpha,\n",
        "                       eta=tuned_beta,\n",
        "                       workers = workers)\n",
        "\n",
        "coherence_model_lda = CoherenceModel(model=tuned_lda_model, texts=data_lemmatized, dictionary=dictionary, coherence='c_v')\n",
        "print('\\nCoherence Score: ', coherence_lda)"
      ]
    },
    {
      "cell_type": "code",
      "execution_count": 39,
      "metadata": {
        "colab": {
          "base_uri": "https://localhost:8080/",
          "height": 897
        },
        "id": "RvlzfaOYSgiU",
        "outputId": "cdd7cc14-8415-4505-fabc-d852711f97f4"
      },
      "outputs": [
        {
          "name": "stdout",
          "output_type": "stream",
          "text": [
            "CPU times: user 23.9 s, sys: 12.4 s, total: 36.3 s\n",
            "Wall time: 1min 24s\n"
          ]
        },
        {
          "data": {
            "text/html": [
              "\n",
              "<link rel=\"stylesheet\" type=\"text/css\" href=\"https://cdn.jsdelivr.net/gh/bmabey/pyLDAvis@3.4.0/pyLDAvis/js/ldavis.v1.0.0.css\">\n",
              "\n",
              "\n",
              "<div id=\"ldavis_el24321398673530324963147718120\" style=\"background-color:white;\"></div>\n",
              "<script type=\"text/javascript\">\n",
              "\n",
              "var ldavis_el24321398673530324963147718120_data = {\"mdsDat\": {\"x\": [0.1880825702413503, 0.07456720586294985, -0.005878125344921184, -0.14598040232046583, 0.09163128489131954, 0.40831603966672425, 0.04082508111559434, -0.11730217252077034, -0.29140253729725335, 0.338829772428129, -0.00579533412130781, -0.160428914779859, -0.41546446782148955], \"y\": [0.2755051022616812, -0.37007735508566586, -0.1273568238572097, 0.296756214706802, -0.12214643451443041, -0.1741223511475595, 0.25021802411362565, -0.2004482303811016, 0.18176307779777412, 0.10557406869326323, 0.04208799709103707, -0.01643938712544501, -0.14131390255277126], \"topics\": [1, 2, 3, 4, 5, 6, 7, 8, 9, 10, 11, 12, 13], \"cluster\": [1, 1, 1, 1, 1, 1, 1, 1, 1, 1, 1, 1, 1], \"Freq\": [3.13616018166054, 2.8691186650306437, 16.01073357262975, 2.4350363794394267, 10.63908121911839, 3.7577242416427805, 4.354610172654396, 7.114357331898372, 4.399933766295729, 4.524384845529659, 24.365405595271366, 5.024307138497111, 11.369146890331852]}, \"tinfo\": {\"Term\": [\"strip\", \"height_filesize_mime_type_image\", \"resize_nbc_cc_file\", \"resize_width\", \"jpeg_source_url_https_media\", \"quality_strip\", \"pnbcstations_jpg\", \"share\", \"use\", \"say\", \"cookie\", \"company\", \"com_pnbcstations_jpg_quality\", \"stock\", \"market\", \"open\", \"width_height_filesize_mime_type\", \"sign\", \"close\", \"reveal\", \"official_music\", \"join\", \"provide\", \"link_open\", \"resize_https_media_telemundo\", \"buy\", \"manage\", \"see\", \"new\", \"game\", \"writing_speake\", \"graphicsbuild_frontend\", \"product_hunt\", \"hero_web_development_bootcamp\", \"metaverse_pace\", \"awshack_smart\", \"startups_winner\", \"smart_usabout\", \"runners_upinterview\", \"coursesangular_masterclass\", \"deep_developmentweb_skillzzapply_psychology\", \"python_zero\", \"pagesrequest_tech\", \"ethereum_dappsbuild_private_generative\", \"tote_bagspiral\", \"rustlearn_anythingmeasure\", \"topicstop_storydaily\", \"super_science_june\", \"promptsfind_new\", \"corporate_soulthousand\", \"right_kubernetes_containerget_featured\", \"git_server\", \"pythonchoose\", \"contractshost\", \"company_listfull\", \"science_bootcamp\", \"pbs_style\", \"colorsauto_generate\", \"writing_prompts_herefull_list\", \"qa_properlyinsert\", \"global_supply\", \"serverless\", \"faqsstory_rejecte\", \"brandwriting_guidesreach\", \"startup_awardsremove\", \"gifmobile_application\", \"adrepublishing_guidebacklink\", \"google_searchhacker\", \"tech_expertsannual\", \"coming_give\", \"marketingblog\", \"guidesearn_contestsgaming\", \"paywalled_storie\", \"noonies_updatessoftware\", \"social_media_accountsregular_platform\", \"peopleyour_message\", \"faq_sign\", \"metaverse_internet_contestholiday_gear\", \"startup\", \"result_ric\", \"result_description\", \"noon\", \"art\", \"bitcoin_etf\", \"way\", \"list\", \"pay\", \"top\", \"work\", \"use\", \"say\", \"need\", \"look\", \"year\", \"price\", \"game\", \"help\", \"navigate\", \"prompt\", \"rate\", \"plan\", \"social_account\", \"minute_delaye\", \"represent_views\", \"account_yet\", \"confirm_registration\", \"equities_com_member_already\", \"week_source\", \"heresign\", \"tradingview_based\", \"etf_ssubscribe\", \"economic_forum_full_event\", \"login_register_equities_com\", \"member_already\", \"formal_recommendation\", \"visit_equitie\", \"username_sign\", \"consider_statement\", \"herelog_inforgot\", \"five_largest_us_companie\", \"newsstock_update\", \"disclaimer_trende\", \"percent_open_prev_close\", \"inc_profile\", \"price_last_tradechange_change\", \"register_product\", \"parts_accessorie\", \"basis_chart\", \"minute_delayed_basis_disclosure\", \"publication_stock\", \"user_manual_pdf_file\", \"news_financial\", \"price_data\", \"account_register\", \"news_also\", \"company_lat\", \"best_storie\", \"investment_decision\", \"facebook_twitter\", \"sign\", \"author\", \"provide\", \"article\", \"market\", \"visit\", \"information\", \"make\", \"follow\", \"forget\", \"subscribe\", \"price\", \"product\", \"time\", \"service\", \"company_profile\", \"fall\", \"password\", \"home\", \"exchange\", \"get\", \"receive\", \"share\", \"go\", \"coverage\", \"day\", \"profile\", \"try\", \"display\", \"segmentation\", \"market_analysis\", \"size_share_growth_application\", \"communications_report\", \"outlook_forecast\", \"revenue_growth\", \"aditikale_pearltree\", \"open_inter\", \"mail_sign\", \"implied_volatility\", \"top_mutual\", \"rates_currency\", \"highest_open\", \"gamesgames_videovideo\", \"mail_finance_finance_watchlist\", \"stocks_losersstock\", \"etfstop_etfs\", \"gainersstocks_gainer\", \"actives_stock\", \"indicesworld_indice\", \"fundstop_mutual\", \"interestoptions_high\", \"implied_high\", \"activesstock\", \"trending_tickerstrending_tickers_stock\", \"options_high\", \"investment_ideasinvestment_ideas_community\", \"losers_top\", \"funds_option\", \"bonds_ratesus\", \"stocks_day\", \"market_report\", \"growth_rate\", \"digital_transformation\", \"forecast\", \"growth\", \"portfolio\", \"data_centre\", \"investment\", \"industry\", \"market_size\", \"investor\", \"microsoft_azure\", \"customer\", \"market\", \"finance\", \"global_market\", \"vendor\", \"business\", \"strategy\", \"sector\", \"prnewswire\", \"revenue\", \"shareholder\", \"enterprise\", \"innovation\", \"company\", \"technology\", \"ai\", \"global\", \"press_release\", \"invest\", \"infrastructure\", \"solution\", \"opportunity\", \"management\", \"organization\", \"cloud\", \"platform\", \"analysis\", \"stock\", \"increase\", \"partner\", \"datum\", \"report\", \"result\", \"grow\", \"year\", \"service\", \"product\", \"base\", \"provide\", \"continue\", \"include\", \"expect\", \"new\", \"well\", \"say\", \"share\", \"use\", \"make\", \"see\", \"work\", \"also\", \"link_open\", \"give_gift_subscription_premium\", \"profile_email_preferences_newsletter\", \"guest_host_show_moment\", \"daughter_casie\", \"best_worst_jeopardy_celebrity\", \"dialog_window\", \"becoming_mom_people_every\", \"cheating_ex\", \"pinterest_email_send_text\", \"community_text\", \"day_people\", \"advertisement_advertisement\", \"account_account\", \"receive_compensation\", \"resting\", \"american_music_award\", \"rita_moreno\", \"change_without\", \"kept_goe\", \"debuting\", \"news_star\", \"policythis_link\", \"meredith_corporation\", \"notice_privacy\", \"following_instruction\", \"profile_menu\", \"content_top_navigation_explore\", \"login_sweepstake\", \"people_com_people_com\", \"marlon_brando\", \"people_may\", \"blonde_hair\", \"gender_identity\", \"brunette_tresse\", \"sexuality\", \"revenge\", \"new_tab\", \"manage\", \"join\", \"notification\", \"close\", \"browser_google\", \"heart\", \"open\", \"tweet\", \"view\", \"miss\", \"see\", \"read\", \"say\", \"way\", \"new\", \"work\", \"rights_reserve\", \"cookie_set\", \"techradar\", \"targeted_advertise\", \"publisher_visit\", \"international_media\", \"receive_verification_email_shortly\", \"problem_please\", \"trusted_partner\", \"sponsorsthank\", \"visits_average\", \"new_tab_open\", \"description_available\", \"corporate_site\", \"casalemedia\", \"advertising_purpose\", \"good_men_project_ad\", \"collect_statistical\", \"new_tab_privacy_policy\", \"policycookies_policyadvertise\", \"cookielawinfo_checkbox\", \"cookies_help\", \"id_use\", \"relevant_ad\", \"popularmost_share\", \"multiple_website\", \"anonymous_us\", \"user_website\", \"email_subscribe\", \"get_update\", \"crwdcntrl_net\", \"cookie\", \"leading_digital\", \"time_spent\", \"visitor\", \"refresh\", \"use\", \"website\", \"consent\", \"page\", \"email_us\", \"browser\", \"store\", \"user\", \"load\", \"site\", \"set\", \"game\", \"open\", \"domain\", \"number\", \"target\", \"track\", \"support\", \"information\", \"get\", \"datum\", \"work\", \"new\", \"link\", \"time\", \"make\", \"content\", \"need\", \"see\", \"update\", \"find\", \"also\", \"good\", \"want\", \"feature\", \"try\", \"go\", \"well\", \"height_filesize_mime_type_image\", \"resize_nbc_cc_file\", \"resize_width\", \"jpeg_source_url_https_media\", \"quality_strip\", \"pnbcstations_jpg\", \"com_pnbcstations_jpg_quality\", \"width_height_filesize_mime_type\", \"resize_https_media_telemundo\", \"file_pnbcstations_jpg_resize\", \"media_telemundodalla\", \"casa_famosos_jpg_quality\", \"class_entry_date_publishe\", \"type_video_date_string_time\", \"context_source_post_noid_date\", \"false_expired_false_meta\", \"iso_shutter_speed_title_orientation\", \"fit_nbc_cc_file\", \"media_com_pnbcstations_jpg\", \"resize_caption_rendered_alt_text\", \"icon_video_video_id\", \"tlmd_nacho\", \"image_jpg_quality_strip\", \"fit_image_meta_aperture_credit\", \"false_false_nbc_linkout_url_nbc_page_title\", \"fit_medium_large\", \"camera_caption_copyright_focal_length\", \"sizes_thumbnail\", \"nbc_attributes_size_syndication_nationalize\", \"resize_full\", \"strip\", \"resize_width_height_mime_type\", \"width_height_mime_type_image\", \"com\", \"know\", \"video\", \"community_policie\", \"associated_press_new_york\", \"discussions_relate\", \"local_storie\", \"append_comment\", \"seattle_time\", \"replica_logintoday_timesmobile_appshelp\", \"educationfund\", \"information_term\", \"newstraffic_lablaw_justicelocal_healthproject\", \"worldnation_world\", \"seattle_times_privacy_statement\", \"homelesstimes_techboee\", \"journalism_solutionsst_content_accountprint\", \"paperinside\", \"archive_accesscopyright\", \"guyseattle_sketcherdanny\", \"stonebob_condottaon\", \"edsdavid_horseykate\", \"postsseattle_time\", \"westneatnaomi_ishisakajon\", \"tv_musictv_nw_magazinefood\", \"rileymark_higginsbri\", \"timesnews_obituariesphoto\", \"obituariespaid_replicatoday\", \"bakermatt_calkinslarry\", \"condottaon_tv\", \"nunnallyfree_guyseattle\", \"ishisakajon_postsseattle\", \"replicatoday_paperio\", \"times_servicesprint\", \"bloomberg_new\", \"thread\", \"advertise\", \"advertising\", \"notice\", \"collection\", \"say\", \"associated_press\", \"staff\", \"skip\", \"rather\", \"read\", \"focus\", \"service\", \"time\", \"buy_sold\", \"computers_day\", \"bestreviews_bestreview\", \"consumers_simplify\", \"noteworthy_deal\", \"helped_million\", \"bestreviews_weekly_newslett\", \"ein_presswire\", \"best_wi\", \"purchasing_decision\", \"useful_advice\", \"geekbrowse\", \"cell_phones_days_ago\", \"trusted_review\", \"best_price\", \"apple_arcade\", \"reader_supporte\", \"smartwatche\", \"usb_port\", \"amazonshop\", \"organ_donor\", \"surface_pro\", \"bestreviews_sign\", \"phones_days\", \"run_window\", \"presswire\", \"battery_life\", \"usb_drive\", \"debt_discount\", \"affiliate_program\", \"chromebook\", \"amortization\", \"saving_time\", \"ce\", \"geek\", \"best_product\", \"iphone\", \"video_games_day\", \"buy_top\", \"macbook_pro\", \"headset\", \"edthere\", \"laptop\", \"tablet\", \"intel_core\", \"keyboard\", \"video_games_days\", \"galaxy_ultra\", \"apple\", \"controller\", \"processor\", \"android\", \"device\", \"pro\", \"gaming\", \"phone\", \"app\", \"pc\", \"galaxy\", \"camera\", \"battery\", \"window\", \"screen\", \"feature\", \"macbook_air\", \"ipad\", \"console\", \"speaker\", \"computer\", \"game\", \"design\", \"available\", \"model\", \"need\", \"come\", \"launch\", \"tv\", \"display\", \"new\", \"good\", \"offer\", \"get\", \"buy\", \"use\", \"work\", \"also\", \"make\", \"well\", \"know\", \"look\", \"company\", \"include\", \"see\", \"expect\", \"want\", \"favorite_brand\", \"best_selection\", \"leggy_display\", \"miss_shop\", \"pets_supplie\", \"miss_deal\", \"automatically_post\", \"facebook_timeline\", \"trouser\", \"mailonline_comment\", \"incredible_figure\", \"profilelogout_login\", \"noticeabout_policy\", \"miss_find\", \"admin_l\", \"services_become\", \"femail_today\", \"mail_add_comment_comment\", \"midriff\", \"commententer\", \"tailored_content\", \"commentby_posting\", \"animated_display\", \"issue_live\", \"best_fashion\", \"minidress\", \"favorite_makeup\", \"favorite_bath\", \"shoes_sneaker\", \"fitness_nutrition\", \"mailonline\", \"based_sitereader\", \"ustermsdo\", \"ukprime\", \"infoca_privacy\", \"mediacontact_ushow\", \"media_groupdmg\", \"onsundaythis\", \"printsour_paperstop\", \"tophomeu_newssportsu\", \"pagedaily_mailmail\", \"post_whether\", \"bra\", \"bikini\", \"crop_top\", \"gown\", \"deals_discount\", \"dress\", \"stroll\", \"travis_barker\", \"chic\", \"best_deal\", \"skirt\", \"great_price\", \"flaunt\", \"stun\", \"jacket\", \"shop\", \"dinner\", \"jean\", \"wow\", \"kim_kardashian\", \"pose\", \"reveal\", \"queen\", \"step\", \"johnny_depp\", \"snap\", \"admit\", \"show\", \"figure\", \"advertisement\", \"star\", \"want\", \"comment\", \"split\", \"deal\", \"put\", \"love\", \"save\", \"say\", \"child\", \"find\", \"head\", \"claim\", \"post\", \"go\", \"see\", \"take\", \"year\", \"set\", \"additional_share\", \"owns_shares\", \"company_stock\", \"shares_sold\", \"analysts_recommendation\", \"receive_concise_daily_summary\", \"analysts_rating\", \"sold_share\", \"get_rate\", \"daily_enter\", \"quarter_compare\", \"price_objective\", \"quick_ratio\", \"current_ratio\", \"estimated_average\", \"sells_share\", \"microsoft_co_nasdaq_msft\", \"day_moving_average\", \"purchases_share\", \"stock_position\", \"return_copy\", \"session_save\", \"symbols_type\", \"consensus_rate\", \"ex_dividend_date\", \"total_transaction\", \"portfolio_due\", \"announce_earning\", \"post_earnings_per_share\", \"overweight_rate\", \"institutional_investor\", \"target_price\", \"related_companie\", \"last_quarter\", \"price_target\", \"holding\", \"management_llc\", \"hedge_fund\", \"debt_equity\", \"ratio\", \"latest_headline\", \"rating\", \"symbol\", \"stake\", \"research_report\", \"share\", \"stock\", \"position\", \"dividend\", \"buy\", \"acquire\", \"purchase\", \"company\", \"value\", \"hold\", \"sell\", \"currently\", \"trade\", \"price\", \"report\", \"receive\", \"get\", \"form\", \"brandvoice_paid\", \"djokovic\", \"uscareer\", \"harassment\", \"sale_near\", \"graham_holding\", \"england\", \"group_division\", \"graham_media\", \"graham_digital\", \"omneif\", \"infofollow_result\", \"tvwfmz_tv\", \"daily_newssign\", \"copyright_nexstar_media_inc\", \"tv_metv\", \"jewish\", \"watch_uswfmz\", \"matchupsnba_score\", \"rights_sign\", \"photos_videosend\", \"trafficberks_traffici\", \"best_balance_transfer_credit\", \"immigrant\", \"beta_experience\", \"forbesreport_security\", \"cards_best_cash_back\", \"burch_dr_martens_dell\", \"personal_permission\", \"credit_cards_best_travel\", \"missed_itrecall\", \"camerasschool\", \"teamabout_wfmz\", \"business_closingssend\", \"rights_reserved_close_ad\", \"schedulewdpn_tv\", \"migrant\", \"russian\", \"deadly\", \"russian_force\", \"rewrite\", \"invasion\", \"ukrainian\", \"police_officer\", \"vaccination\", \"staffer\", \"symptom\", \"soldier\", \"resident\", \"survivor\", \"rocket\", \"police\", \"violence\", \"mins_ago\", \"usecoversbest_reviewsdo\", \"binge\", \"say\", \"vaccine\", \"former\", \"county\", \"war\", \"ago\", \"evidence\", \"allegation\", \"gate\", \"election\", \"people\", \"city\", \"man\", \"family\", \"investigation\", \"court\", \"leave\", \"woman\", \"supreme_court\", \"go\", \"tell\", \"fight\", \"appget\", \"day\", \"call\", \"country\", \"state\", \"story\", \"law\", \"week\", \"covid\", \"take\", \"case\", \"get\", \"make\", \"know\", \"year\", \"home\", \"first\", \"time\", \"come\", \"sell\", \"right\", \"new\", \"see\", \"give\", \"work\", \"want\", \"show\", \"also\", \"find\", \"world\", \"need\", \"end\", \"use\", \"overviewview\", \"starfilled_starfille\", \"orbital\", \"google_cloud_certification_cloud\", \"starfilled_starfilled\", \"apps_available\", \"reviews_feature\", \"smart_watches_headphones_cameras\", \"mobiles_laptops_tv_tablet\", \"tablets_science_wearables_gadget\", \"facebook_twitter_youtube_podcast\", \"ventures_limite\", \"videos_video_game\", \"rss_download\", \"hindi_copyright_red_pixel\", \"air_purifier_washing_machine\", \"speakers_smart_speakers_ac\", \"games_refrigerator_air_cooler\", \"english_hindi_follow_u\", \"videos_podcasts_product_finder\", \"gadgets_unboxe\", \"contact_us_rss_advertise\", \"career_privacy_policy_ethic\", \"terms_conditions_complaint_redressal\", \"hindi_lat\", \"us_sitemaps_feedback_archive\", \"gadgets_podcast\", \"latest_video\", \"web_series_service_center\", \"comment_share\", \"gadget\", \"new_window\", \"gb\", \"click\", \"course\", \"launch\", \"available\", \"log\", \"skill\", \"support\", \"see\", \"get\", \"learn\", \"new\", \"video\", \"top_list\", \"use\", \"open\", \"first\", \"say\", \"user\", \"list\", \"need\", \"tool\", \"way\", \"make\", \"report\", \"take\", \"go\", \"work\", \"datum\", \"share\", \"service\", \"also\", \"official_music\", \"oakland_new\", \"pt_padding_right_pt\", \"pt_nbsp_font_td\", \"song_official_music_video\", \"brian_flore\", \"td_style_padding_top\", \"padding_left_pt_text\", \"serif_font_size_pt\", \"official_music_video\", \"padding_right_pt_padde\", \"star_weekend\", \"alive_new\", \"right_pt_padding_left\", \"video_song\", \"left_pt_text_align\", \"www_youtube_com_watch\", \"original_blog\", \"right_font_style_font\", \"ahmaud_arbery\", \"tom_brady_retire\", \"official_music_video_reaction\", \"bengals_vs_rams_super\", \"perry_sistas_season_episode\", \"news_video_made\", \"suing_nfl\", \"brady_retire\", \"official_video\", \"logo_read\", \"oval_season_episode_hd\", \"video_made\", \"sans_serif_font_size\", \"music_video\", \"blog_content\", \"type_read\", \"type_video\", \"denver_bronco\", \"nba\", \"font_family\", \"history_month\", \"black_history\", \"star_game\", \"com_watch\", \"lebron_jame\", \"logo\", \"perry\", \"winter_olympic\", \"watch_live\", \"news\", \"post\", \"crypto_market\", \"new_year\", \"react\", \"talk\", \"speak\", \"go\", \"make\", \"video\", \"say\", \"take\", \"get\"], \"Freq\": [11996.0, 9923.0, 8742.0, 7449.0, 6893.0, 6726.0, 6706.0, 12690.0, 21032.0, 24735.0, 5906.0, 14113.0, 3801.0, 6354.0, 9984.0, 8534.0, 2593.0, 5406.0, 4581.0, 4177.0, 3513.0, 3664.0, 5573.0, 1916.0, 2159.0, 5979.0, 3107.0, 12543.0, 12646.0, 8255.0, 179.49648972223662, 178.29116129335236, 178.29116129335236, 178.29116129335236, 178.29116129335236, 178.29116129335236, 178.29116129335236, 178.29116129335236, 178.29116129335236, 178.29116129335236, 178.29116129335236, 178.2911411847718, 178.2911411847718, 178.2911411847718, 178.2911411847718, 178.2911411847718, 178.2911411847718, 178.2911411847718, 178.2911411847718, 178.2911411847718, 178.2911411847718, 178.2911411847718, 178.2911411847718, 178.2911411847718, 178.2911411847718, 178.2911411847718, 178.2911411847718, 178.2911411847718, 178.2911411847718, 178.2911411847718, 241.77145673824694, 186.1605939798035, 211.0210332436446, 211.02087237499993, 211.02083215783875, 211.02083215783875, 211.02049031196879, 211.02045009480761, 211.02038976906587, 211.02024900900176, 211.02014846609885, 211.02010824893767, 211.02008814035707, 211.02008814035707, 211.02002781461533, 211.01986694597065, 211.01960553442302, 211.01954520868128, 413.1716889850263, 282.8480988609324, 282.8471738662255, 209.3029963355681, 301.65112985205616, 194.1464151306844, 481.3175772974027, 362.5077984621996, 352.5118632702358, 355.20086310047077, 422.55728853905464, 466.8266906528068, 406.62493840375726, 348.1089688995248, 322.4099616081011, 343.68351270139686, 299.1112351468637, 262.91882648836776, 252.21780402674875, 226.0728688522577, 219.2545317815989, 226.16414169953595, 222.04387342895632, 678.3765591243546, 645.6116275753612, 345.1872192858791, 340.97588979367976, 340.02877205236877, 339.21179009891483, 339.21179009891483, 339.21179009891483, 339.2118636843193, 339.2118636843193, 339.2118636843193, 339.2118636843193, 339.2118636843193, 339.2118268916171, 339.2118268916171, 339.2118268916171, 339.2118268916171, 339.21179009891483, 338.37994389375206, 320.07583207345743, 305.6314402863132, 295.6877893872642, 240.35432465643052, 223.72979969383326, 219.18089715849317, 216.53469242729244, 188.59666907183765, 188.59666907183765, 187.76478607397263, 155.32109160832113, 428.4870009601976, 377.79291201953595, 339.20858913381915, 339.20616081547064, 342.95489566228497, 344.0544455690163, 340.18966653930653, 344.7464795056303, 1290.4751859285823, 702.7743150839417, 1095.2999081090993, 783.9153953318677, 1047.435325142246, 671.4567348560458, 717.7868413828743, 844.090669300651, 659.7119156147155, 403.9373279330216, 454.7822669529069, 524.9632427130833, 482.29342137686103, 560.1262490093056, 506.65556200067044, 347.4276740966705, 418.83285343880016, 366.21053255863785, 405.5665455813392, 362.6845039385408, 417.1339136197194, 381.15410933355446, 401.15421755674987, 397.70460737922537, 359.1931340439629, 383.01295023661226, 356.3021842573974, 372.18927308880455, 364.14436477840314, 314.6260710164143, 283.1945899358413, 226.97685875355248, 199.76223748554216, 198.0150816698567, 211.55665885938507, 158.08983864366886, 157.64835627689882, 158.3127869822418, 154.22387800908916, 149.80221472676567, 147.19814374167635, 147.19827206465237, 146.3473495782296, 146.3473495782296, 146.3473495782296, 146.3473239136344, 146.3473239136344, 146.34731108133678, 146.34731108133678, 146.34728541674158, 146.34728541674158, 146.34728541674158, 146.34728541674158, 146.34727258444397, 146.34727258444397, 146.34727258444397, 146.34727258444397, 146.34725975214639, 146.34723408755116, 198.09053557976856, 356.50129715421735, 204.07355584076836, 417.15589789149044, 1871.891189291112, 2347.456138497546, 982.5498304255973, 201.8478579828323, 1730.0066305090268, 2516.91309583714, 538.0916538411633, 2091.217740188267, 322.40082649497606, 2206.629782305082, 7244.908267956067, 884.6888810461869, 395.7490846929941, 435.9035510512832, 4462.411165452182, 1172.825496764494, 813.8008052802239, 741.4278786939, 1441.322640304121, 484.3754507538098, 735.6753136655715, 842.1278969244229, 8680.781185455315, 2683.50732156884, 741.214297932578, 1432.0474555959072, 1614.6785629477326, 1183.1805449806845, 647.5750204773318, 1790.9181595089283, 1290.1209095360616, 1127.6667936449546, 1101.771319738344, 935.3276938513253, 1818.370858394387, 1150.640712691454, 3167.5953801855094, 2058.3069005107072, 1526.9005144169262, 2476.3425037321467, 3080.726884908878, 1785.2645571597225, 1713.102798862771, 3800.535216574602, 2482.8337984689456, 1711.0390574328958, 1834.072868376237, 2114.2840517775153, 1970.144499002064, 2207.90089837655, 1872.12648229998, 2335.637079112303, 2021.3176486794355, 2665.8942231694123, 2269.954809838355, 2434.3956733737127, 2241.923938952048, 2015.3501170016439, 1885.7535610884443, 1792.919176668115, 1915.785083690419, 1110.7116372478672, 1110.7116372478672, 555.3787386279274, 555.3787386279274, 555.3787386279274, 505.57360117551144, 481.36145853691306, 558.2947626782806, 366.1340424911667, 350.389717186401, 559.7046864116991, 324.5358590028772, 557.330498750039, 281.82836605698463, 282.10846474339417, 280.6115449185223, 280.1502095792788, 280.07948231899815, 280.1097716975731, 281.5516710223944, 279.5562254975751, 279.25757847005883, 279.25757847005883, 279.25757847005883, 279.1689586181045, 279.18232341607364, 278.3689755359277, 278.3689755359277, 277.7122893179575, 833.8559752726379, 279.8646775404239, 556.1681984930117, 580.4953783178679, 555.7169179784084, 568.3317259531128, 562.3988173443682, 1184.4249930897372, 1120.9691821415174, 1154.3314650121351, 457.14100973882915, 1180.1129097225505, 281.685849846865, 596.8836807920677, 1297.9666959262158, 517.1884849432809, 767.4601585805127, 568.77245202446, 945.2422609487926, 728.6115012389046, 992.5618894667448, 727.8884281973774, 728.6387304534586, 656.4673850165244, 540.6619102324489, 2185.894795858117, 629.142414177223, 504.8843493314657, 484.6864295309099, 485.20098406743324, 479.6421169553091, 479.6419805229781, 478.2036426729721, 478.20197137691684, 393.8335480760242, 365.2388322453481, 341.87418160898585, 340.9948070192573, 332.6339950164492, 323.1426706105478, 311.91483549514896, 307.97787593444724, 304.4137177183167, 297.59193062582335, 284.1966291752495, 315.2419766441775, 271.98450300755115, 269.91436408653294, 258.8339782129073, 256.1883165574315, 245.89425842376411, 240.72081264683246, 236.32545750787241, 233.04391886549453, 230.5499529080956, 5868.625259438255, 468.13766528872344, 426.1689996672815, 978.9150045110342, 585.7061118626839, 11705.387566555733, 3396.7142705138695, 494.13310645647795, 1874.9661955759852, 488.97705580175415, 1036.5241020226704, 1765.6134993288529, 2290.488732398519, 737.3005771499206, 1889.2456126397913, 3750.633926198186, 3389.9008399016525, 3340.575367801537, 478.9689598339499, 1743.6770905499995, 1135.5486661614577, 1038.3461558037309, 1802.6405518118856, 1551.1100861983382, 2551.324428718427, 1493.6473805779096, 2130.292072206779, 2181.416541024008, 1183.1846967062845, 2022.6678371616122, 2312.7902340952396, 1085.9777522977988, 1864.95697404145, 2024.3440447807893, 1308.306105342873, 1544.8202828726587, 1585.1929289774935, 1437.2397061734257, 1469.0284393061165, 1261.591129464908, 1198.7797307383248, 1219.1396639319926, 1201.6974725699802, 9922.158003693314, 8741.24428840522, 7448.544647307296, 6892.837825612505, 6725.43842677, 6705.773133856114, 3800.1636542994997, 2592.6413466646027, 2158.9166268221265, 884.2140132282867, 883.8262933124211, 629.2975651888584, 601.355661587757, 588.6985772202208, 588.6985772202208, 583.0117293267368, 565.4609218600535, 527.5206053950274, 524.0488593027505, 513.7900871664642, 512.3441125809085, 506.1864206285227, 441.9444687970647, 422.9827193546733, 414.1864020688228, 412.2925690569613, 403.33629200716405, 397.16238482339764, 394.19911754695664, 390.3181597313973, 11771.319281892704, 704.7523615670209, 403.01205966141436, 761.6173709724126, 712.6855370267484, 625.4571334047735, 656.4333438313774, 657.8586599411636, 642.8259418423382, 644.6130036721994, 642.8224796264313, 1488.9634766989325, 744.4237741541223, 747.3392391586601, 751.1166842396224, 747.3302485657407, 764.1590749295386, 747.3244409777678, 747.3205320243246, 747.3109830094847, 698.279974811582, 744.3868066229877, 458.766279589147, 458.76605622037886, 458.76195181926346, 458.7572052329395, 458.7548877819696, 458.7484659298843, 465.7727994251783, 468.4724343574577, 344.56645603501875, 318.301108927205, 288.6510827961857, 288.6499380312487, 288.6479556334311, 287.7511579502658, 288.64625244657367, 697.7338940155627, 644.2064725141033, 796.2986576663596, 708.763285366599, 688.9455615157226, 675.9155119502485, 1730.553998885756, 653.3213143108372, 688.4153957444364, 699.4443962001285, 578.2359028855751, 697.6772700328278, 620.2545278172818, 642.9742028622207, 623.706468760807, 201.9104136642865, 155.8805012283138, 117.1384225778058, 117.13833134545831, 117.13831994141488, 118.08380637452696, 112.8359050706349, 103.8292652626848, 95.60090580300228, 127.70350474945778, 117.06384013374065, 78.85321271539226, 72.79256234195023, 69.82256739601141, 84.2930098581657, 69.70021911601862, 128.57617636523716, 65.46382225268405, 59.260581422152036, 61.69034402248626, 57.04883562218715, 116.26707383106489, 56.58418357444827, 54.39954518572846, 55.22353294008365, 52.36681435758507, 58.303770773908965, 47.84801346464696, 47.81384124849387, 47.62306585687999, 190.69559752196668, 93.19590138096552, 121.6452435231154, 271.6998979302929, 96.57648750673943, 85.07723741508462, 1022.3145614104515, 91.37855872117969, 77.91138698022282, 133.16638367614374, 548.8353735072882, 389.42226455218974, 1053.3144007607823, 642.8021369062668, 138.7626442948459, 362.45350366718907, 163.17944255208423, 135.74931968587566, 1725.4912552117135, 327.2595536465808, 312.69506203821777, 458.6859539915803, 1661.8953753595365, 611.9629577198488, 685.100691946469, 1312.0466924768336, 1600.390540911608, 747.6862647826491, 284.94617334991307, 688.1787801181068, 355.2864044895711, 1063.4863513430982, 718.1089201942311, 1855.3220017992824, 230.84931428503737, 187.1260406944525, 426.80093278982184, 365.80043075876443, 556.9879873104752, 1892.491154950926, 925.6766061095973, 1270.6332280557115, 793.4119629559488, 1929.103243388855, 1726.8289038904695, 1078.0206678525321, 626.0354560863375, 778.7986392335969, 1818.1860572221217, 1304.8748264090598, 1117.0730391208642, 1703.551882754346, 1148.308075462999, 1968.8336534636605, 1409.146648385328, 1233.9356549081936, 1465.440838539267, 1094.474786649994, 1114.5208142001027, 1033.0496892737633, 1114.80007641574, 950.1700281346756, 932.5533355332723, 852.8513882892707, 874.5835720855104, 767.1201853301533, 536.3069190615025, 289.63004236890123, 182.55724533426445, 168.9000017501326, 162.13374898266315, 504.751733184534, 504.74941982480675, 213.6066517820955, 336.58241456774925, 207.25550602713884, 125.75429119409911, 173.30841903905954, 101.1598918894649, 94.64141546521596, 92.01094207931155, 95.26571931574256, 94.51332022324816, 161.83220818456317, 168.37815575557264, 168.3756872314735, 168.3756167022135, 94.71860974025932, 99.85646884755862, 87.76408616621084, 85.14047527730206, 84.44977518143438, 84.44964822876642, 84.44959180535844, 84.44954948780244, 522.9708516214479, 187.68427114723147, 184.17063036791177, 184.17008023968395, 184.16792204432872, 187.6801240267449, 187.67975727459302, 187.67941873414514, 187.6792494639212, 183.20103641932232, 187.67740159730985, 168.7709473102291, 172.23329921169451, 510.29601009951705, 230.21349954766964, 423.2937951054153, 455.4007172773215, 1524.8722793864827, 445.6984019463251, 288.11617412107955, 219.16517560759365, 732.5032960659371, 292.64624027761255, 381.4068343580196, 261.0712779961468, 347.2371006020491, 296.5848480599896, 1324.3643640846237, 548.023296152068, 253.6615021548074, 223.53010455481962, 344.6743211998693, 1107.6317849711468, 2106.098042811511, 353.3748671338754, 1179.213792892913, 253.77784722206326, 586.5440645910493, 571.4554296757112, 1791.965007058904, 738.4982267404606, 553.6551986196448, 738.6376489815806, 1281.0643637194676, 853.1526794229975, 463.395716706235, 876.3019059790264, 808.6557693043502, 723.611418355469, 696.4120631511896, 1305.9108628109589, 657.5705276378391, 787.310342678051, 628.8752750411797, 602.1389867461966, 636.4389457277861, 669.9630828496432, 637.9591051855975, 587.4828372530293, 559.5857501856626, 557.6411174296136, 1307.9681795140334, 885.6741913219735, 1108.7508010787903, 532.5547364193436, 496.74967303406754, 482.77525309371396, 454.95904540285994, 389.98606897104156, 367.8308073711636, 367.6919961225968, 357.98591328942655, 331.1036717736211, 317.1729403892428, 313.5769602952323, 304.909046354948, 303.81851501615546, 255.7250734390527, 247.3442971661276, 246.28257242500004, 240.88243773010336, 225.6818952752413, 225.681692207584, 225.68151814959208, 219.30036360249426, 208.13387619767332, 202.82108960506181, 202.14951585285266, 190.1534100391472, 189.28954572034976, 187.6647143656528, 452.46372102083944, 429.7834134882948, 461.5343471351267, 720.128215387558, 625.3127931711252, 1467.6191593776532, 296.94429769240867, 654.7898622210064, 348.05288784444065, 829.2954152708556, 500.08224536695235, 989.7681229143925, 585.5337537526904, 1107.4286565720654, 772.8790426934803, 5369.694156842113, 2700.5881869795326, 1533.3323174201678, 591.9156480462539, 1702.7513157524209, 654.4486505374865, 1009.0161518943399, 2094.85430703102, 943.3969851674692, 903.4531128306736, 1050.269868639764, 631.3085107999195, 629.0490059873033, 755.8710240310526, 808.2425789725523, 594.9752394284567, 659.6041322198884, 556.7510600519616, 220.8986908770951, 111.73770285655141, 90.84684676790314, 87.80820697163924, 83.41485222735749, 75.37094478974798, 82.31195609909547, 74.21202165924637, 74.21202165924637, 74.2118556677793, 74.21183613937141, 74.21081089795713, 70.51850158645621, 70.11785677016229, 69.30607550043496, 70.49579004807886, 93.42784808944295, 70.49114228700077, 70.48425852321917, 67.6670122872167, 70.4804504836804, 70.47990368825944, 66.94321137714077, 80.73252287937271, 66.09269062825945, 66.09269062825945, 66.09269062825945, 66.09268574615749, 66.09268086405551, 66.09268086405551, 70.45492197246475, 70.45217823115605, 70.42634702961809, 70.42348123576006, 338.97492436694154, 138.68100816709395, 156.91495601272968, 594.4415335463588, 155.42182370957968, 133.35267230980185, 462.8816960156117, 296.48177276176415, 283.7427869137514, 179.50145399435868, 173.47711591562364, 94.10554242848798, 242.6706199087703, 235.7723855769083, 479.0516083176049, 143.19078151501853, 206.88002798838608, 1187.8636060871702, 324.89242311283647, 216.96320894843217, 290.2150871411005, 95.15557515658878, 15200.906453346033, 493.3035185101653, 760.0264191684631, 435.83270296156246, 1256.0658676241724, 1197.4426026122837, 436.45780729815675, 357.1186119113046, 312.22897314654654, 646.0429298760267, 4461.685658969932, 1616.3702268283846, 1633.5381970008764, 1852.967511883021, 678.4538378847367, 925.7714377352745, 2416.3192732713187, 1831.851366316737, 554.7408661559779, 5940.862258818248, 1832.399567783056, 1161.9262090670986, 634.909315855518, 4304.155460466593, 3514.456328530279, 2146.477763986443, 2701.4808966603982, 2344.51612954646, 1041.981165527297, 2552.304482371085, 1751.8964402290783, 3927.7080600496456, 2115.024841555239, 5647.270612310736, 5844.830609991052, 3844.5685974303683, 5087.97482312779, 2536.0221645532706, 2773.3182541558826, 4397.3972028288335, 3666.596998910199, 3214.837746665782, 2219.195618336921, 3943.5823122561674, 3904.472691659019, 2562.012288274648, 3574.5766412910993, 3061.3707068218982, 2869.399583252753, 2942.135247511228, 2726.031386152044, 2461.677515711832, 2907.606210269017, 2355.508748461995, 2955.5295481428425, 348.62085603458047, 295.20813886089815, 199.46972129916406, 170.49875458266345, 135.93122121881785, 121.82991087200085, 120.28977181155318, 113.76789111147144, 113.76787500392604, 113.76787500392604, 113.76787500392604, 113.76787500392604, 113.76787500392604, 113.76787500392604, 113.76787500392604, 113.76787500392604, 113.76787500392604, 113.76787500392604, 113.76787500392604, 113.76787500392604, 113.76787500392604, 112.4539342034544, 112.453918095909, 112.453918095909, 110.58475825945905, 108.71579171355384, 108.4154826372174, 107.35828805656257, 104.2178643611639, 103.2728507804096, 352.6034466333891, 551.0684436810212, 201.2430654018344, 645.5389396994759, 487.07503430364136, 650.3021341631965, 619.9646677256017, 363.1140710146202, 226.54036813264895, 512.2311866141632, 614.3024145081375, 634.5949579169492, 379.4872620478423, 575.6178247565294, 438.1843172089412, 124.33022876719181, 652.0929066299836, 457.23661183746134, 405.2165208235032, 624.4571909965117, 354.9904560005019, 317.841946207902, 453.7608290469476, 261.73891458732703, 386.99920913314696, 480.3635033640839, 388.79636018791047, 383.14976350456993, 411.2735377634975, 390.3089231306426, 324.5019974323784, 359.29983648027564, 324.21573413562606, 322.6608083485062, 3512.7950060647377, 1012.1634586154177, 915.7352874620117, 867.9772469888135, 827.3958664252926, 826.4003817811972, 783.6968169060985, 764.0301634063958, 668.4824450599161, 663.3058665928315, 600.0458645649964, 474.19348983804224, 434.42440316652176, 426.91576924767537, 777.5603276457034, 419.95524964041033, 587.8847104030257, 317.23590129348304, 311.3638467538301, 304.4486327782511, 304.09792417963195, 302.34410782190406, 269.0835232263895, 268.2395372613795, 265.7251293757276, 258.90191171098985, 258.90191171098985, 258.1573029018867, 257.3487996661176, 255.22891161744897, 1208.3543391526673, 1252.7770395258403, 1266.6932675228463, 429.0101068154011, 438.99775701220256, 420.6331574792918, 367.03353351076055, 934.4252638043043, 827.5552926787078, 436.7816081644326, 990.5196863022147, 725.8025616707308, 515.2602566422418, 705.1442870803991, 1809.9981111135755, 772.706319444445, 566.0030744113164, 481.84328925288236, 1767.058869477027, 1459.5671051661097, 500.67683669993096, 565.9387426012393, 592.303412764198, 844.1698847344306, 719.5160499002633, 926.2838818837922, 837.5797559792927, 716.9299475837774, 708.1104755812956, 633.9699780197462, 639.2932257240834], \"Total\": [11996.0, 9923.0, 8742.0, 7449.0, 6893.0, 6726.0, 6706.0, 12690.0, 21032.0, 24735.0, 5906.0, 14113.0, 3801.0, 6354.0, 9984.0, 8534.0, 2593.0, 5406.0, 4581.0, 4177.0, 3513.0, 3664.0, 5573.0, 1916.0, 2159.0, 5979.0, 3107.0, 12543.0, 12646.0, 8255.0, 180.42435853323016, 179.21892556933892, 179.21893041714335, 179.21893298485352, 179.21894152731204, 179.2189424972699, 179.21894610512499, 179.2189494749815, 179.21895080811183, 179.2189528618496, 179.21895363708057, 179.21893437319005, 179.21893451578012, 179.2189357069286, 179.21893767760233, 179.2189413100041, 179.2189458509252, 179.2189481406942, 179.21895006252683, 179.21895029095853, 179.21895087954016, 179.21895208593875, 179.21895294725155, 179.21895471908059, 179.2189548088741, 179.2189574108909, 179.2189601442696, 179.21896034371593, 179.21896190348417, 179.21896194672314, 259.7628954152147, 190.41973326258284, 236.06539689659337, 236.0653797264187, 236.06540486575918, 236.06540957097943, 236.06542625409108, 236.06540618787616, 236.06544064694208, 236.06544257781408, 236.0654172515921, 236.0654216429861, 236.0654470396759, 236.06544945534742, 236.06541910076152, 236.065466030243, 236.06546004988363, 236.06549629842453, 1112.421923825037, 558.5663836786849, 558.5670577087658, 288.47651915908256, 892.5032404879297, 236.41154257138973, 7069.280008107451, 3138.333403991608, 3792.8815401879965, 4692.085961220222, 11497.51446422287, 21032.73026280604, 24735.545415984983, 10301.264476363669, 7482.437290001728, 13174.221072681648, 5179.578495357083, 8255.176825684846, 6364.175970811073, 876.0218839408006, 579.1018926138115, 2459.8373370915992, 5568.334226916748, 679.2998322985225, 646.5349497064068, 346.11138387044616, 341.89908073941274, 340.9520427219039, 340.13496385230854, 340.13496469488973, 340.134965426149, 340.13504055868566, 340.13504093632713, 340.13504143523295, 340.1350416847375, 340.1350426335456, 340.1350079455668, 340.1350082688078, 340.1350099028268, 340.1350101213103, 340.13497519011474, 339.3031265776221, 320.9990176562441, 306.55460697352424, 296.610962381128, 241.27749883342562, 224.65294616080348, 220.1040513262414, 217.45852845194636, 189.51985424229613, 189.51987060689373, 188.68797405517947, 156.24419390628216, 431.69638312859377, 383.26797626567264, 347.45462184996154, 353.0488238104031, 357.7979655772623, 360.6016853740418, 381.0969632112335, 422.7500717467244, 5406.84253034166, 1731.1327080850124, 5573.030929159245, 3468.4769482800557, 9984.638459048836, 2846.750046909178, 5092.694608557523, 15382.515893786214, 5482.5874321098845, 755.9001503815888, 1552.0434400669576, 5179.578495357083, 3553.4383707214465, 11131.445701320432, 6988.779651387819, 432.4377572309588, 3505.2965597048787, 889.2767897396774, 5167.074810887236, 1006.3807011697221, 14616.561871846621, 3023.651269977017, 12690.878756445689, 12138.527222575134, 1034.5710646568155, 8457.884714657348, 891.0254510309661, 5606.72507305842, 2303.967831626122, 315.5458246654078, 284.1026104710664, 227.8804490017486, 200.67177569088312, 198.91886139085807, 212.59990410992353, 158.99348567245792, 158.5530027725745, 159.23870149182764, 155.12797806014834, 150.7063640085838, 148.10216602023863, 148.1023330475607, 147.25137003192162, 147.25137173422553, 147.25137181141616, 147.25134809152678, 147.25135046800037, 147.25135186375707, 147.25135610079406, 147.25133382573824, 147.25133470787628, 147.25134028578935, 147.25134394225458, 147.25134350399918, 147.2513438945412, 147.25134780946965, 147.25135394559436, 147.2513519913951, 147.2513385580682, 199.74148271147251, 370.05262823193686, 208.091948463887, 441.04171114207196, 2165.6334407338254, 2765.6736309494804, 1099.6613760599735, 206.6073778429998, 2033.1461110493763, 3054.453233226141, 589.4825872154858, 2548.245210588197, 344.13925301062557, 2735.4454283386963, 9984.638459048836, 1025.8721668330634, 430.91566725008005, 479.925642962338, 6131.079291029327, 1430.8350146787013, 958.1312683944367, 877.326492771389, 1846.202409507283, 551.0578256957003, 877.7951437281082, 1023.5143081347977, 14113.427919485212, 3931.742338788149, 900.2671157599964, 1947.6967742096308, 2262.8876236216265, 1602.4956826675145, 782.592019876471, 2716.3359833571794, 1841.9080092901918, 1581.1377519253908, 1547.922698098999, 1256.0706770530817, 2998.300924244625, 1665.98253389344, 6354.453217156134, 3641.3186979526754, 2462.3730937579826, 5148.934222701447, 7616.669803616931, 3424.8001469413243, 3274.1435008605226, 13174.221072681648, 6988.779651387819, 3553.4383707214465, 4068.2447250933424, 5573.030929159245, 5108.519885033197, 6971.387377997711, 5420.52628285137, 12646.632788792424, 7434.098750406199, 24735.545415984983, 12690.878756445689, 21032.73026280604, 15382.515893786214, 12543.606512624408, 11497.51446422287, 8298.688221833881, 1916.7094511432795, 1111.6356743568308, 1111.635684803877, 556.3025303063764, 556.3025316635989, 556.3025340330032, 506.4973804486824, 482.2852163592405, 559.471235864345, 367.0577770204045, 351.31343728030157, 561.2135586220251, 325.4628650807982, 559.0520114470731, 282.7521292008976, 283.03324731117624, 281.5352855672779, 281.07391482455364, 281.0032531235026, 281.03396888586354, 282.48100610716057, 280.480067884986, 280.18126278875866, 280.1812637202882, 280.18126876530414, 280.09278576423065, 280.1062265351944, 279.2926553270175, 279.2926595685158, 278.6359664814444, 839.371967572531, 280.80272520727596, 562.2635798998782, 600.2731383077532, 574.4271805031417, 593.0179625204186, 615.694706656525, 2058.4417730721625, 3107.0591971087265, 3664.0079453032827, 707.1910766331785, 4581.514115904252, 284.20660586484695, 1340.0113048258327, 8534.621117547347, 1132.429962570874, 4358.266131059343, 2229.421107105588, 12543.606512624408, 6030.77462348448, 24735.545415984983, 7069.280008107451, 12646.632788792424, 11497.51446422287, 3648.494494548002, 2186.815777151885, 630.0931703351514, 505.795697517342, 485.6042651804123, 486.1209162020402, 480.5589016146825, 480.5589701425751, 479.12101055935676, 479.12101452389265, 394.74448056502115, 366.21065590737265, 342.7854425385793, 341.90729638079847, 333.5452475801581, 324.05372660938446, 312.8255775167138, 308.888680724385, 305.3273783377528, 298.5054016944029, 285.1088166629097, 316.2776168029809, 272.8989096297972, 270.8259070311598, 259.7499658093979, 257.0995626220793, 246.80552272835988, 241.63170881240706, 237.23646330244455, 233.95468857529914, 231.4606953884753, 5906.4365311520105, 477.05432577798115, 435.21543748400984, 1110.969917445407, 648.5709968265131, 21032.73026280604, 5132.010396097522, 550.1542686504561, 2660.896204796831, 549.3782086033502, 1415.302993701708, 2868.365220719212, 4352.273653597214, 987.8848665994029, 3619.0370591957444, 9433.313809617082, 8255.176825684846, 8534.621117547347, 565.2669625404496, 4103.08979981495, 2582.1657762075306, 2204.719022815062, 6559.848295098487, 5092.694608557523, 14616.561871846621, 5148.934222701447, 11497.51446422287, 12646.632788792424, 3354.733818251566, 11131.445701320432, 15382.515893786214, 2948.8114820750548, 10301.264476363669, 12543.606512624408, 4724.79780117576, 7364.958920454035, 8298.688221833881, 7101.182395399551, 8676.015009682873, 4609.257782679786, 5606.72507305842, 12138.527222575134, 7434.098750406199, 9923.078395633967, 8742.165749690143, 7449.464395318998, 6893.758000498459, 6726.358299215278, 6706.692322491176, 3801.084558667716, 2593.560125103557, 2159.8350807094553, 885.1324716755244, 884.7445401111146, 630.2159510348073, 602.2741709139418, 589.617075447331, 589.6170774706085, 583.9302303559734, 566.3793577334579, 528.4390388660155, 524.9673714245766, 514.7084786962016, 513.2625536006715, 507.1047268949765, 442.8627652920428, 423.901103321135, 415.10475044558183, 413.21093350119315, 404.25468393755955, 398.0807381020592, 395.11756297899336, 391.23649201844296, 11996.911034357403, 708.6682129025611, 404.04030034165123, 3647.32334331627, 8852.920796512088, 5896.208378686417, 657.396881808204, 658.8257214311946, 643.787008362642, 645.5794144516095, 643.7875294122337, 1491.2128192521159, 745.5933575432443, 748.5188873552605, 752.3063528865008, 748.5205908962525, 765.3790513720809, 748.5218325801146, 748.522576737263, 748.5244802126427, 699.4164835946314, 745.6006275241018, 459.78308499061137, 459.78315619698975, 459.78391623202833, 459.78482263577746, 459.7852567931821, 459.78665269212496, 466.83642744978283, 469.57535117178026, 345.5331407480541, 319.2865767278121, 289.6150600531541, 289.61525779762604, 289.6156459011837, 288.71748552679355, 289.6159896590063, 749.6319349048274, 809.7786574888298, 1524.9537311120307, 1301.3536538603466, 1338.6084672187683, 1318.547847804843, 24735.545415984983, 1383.0097825959583, 1775.8725552620692, 2100.844456298128, 1531.7518370603145, 6030.77462348448, 3900.1491608108736, 6988.779651387819, 11131.445701320432, 202.82468790287095, 156.78994647064553, 118.05215473302337, 118.05215087816336, 118.05215239689038, 119.00819454605774, 113.75072881696431, 104.75931435928413, 96.55816330135387, 129.10962433701818, 118.37436209827762, 79.76184723908023, 73.70169208892328, 70.73108239777622, 85.39186678608462, 70.61354036859721, 130.3549823234054, 66.43760144623045, 60.17556418491301, 62.672237087450334, 57.95737113504174, 118.1252734165969, 57.49418143349864, 55.3080771606026, 56.18371174677847, 53.28304067190553, 59.385187840603386, 48.75650357569635, 48.72248127912069, 48.55996036746341, 194.4539613199556, 95.21020168522419, 124.63087724504264, 289.54746610180064, 99.73537256398511, 87.64452664436753, 1162.0983935524375, 94.39091332828514, 80.0860334902711, 140.50236633138007, 627.3324289262805, 436.67043910713306, 1274.5228780375392, 764.1527004838204, 147.8201491993027, 416.2905048728716, 176.22826720719092, 146.72761647105546, 2601.708618349597, 400.2926652096522, 389.5797301575059, 624.7194776583337, 3003.117065989395, 942.2713171343646, 1090.5889820705058, 2523.251706596179, 3359.1887313440857, 1304.3214975035335, 376.23729780305456, 1194.2005091772805, 505.72108281870237, 2161.2034097669243, 1284.6566277090317, 4609.257782679786, 288.8430660458323, 221.11278399196496, 717.3411234601572, 592.9935351015075, 1113.9385054850343, 8255.176825684846, 2672.137756650333, 4630.0051095471945, 2151.7910353748507, 10301.264476363669, 8777.035893896422, 3890.8678904011654, 1489.7924638814718, 2303.967831626122, 12646.632788792424, 7101.182395399551, 5246.124827601361, 14616.561871846621, 5979.417613290148, 21032.73026280604, 11497.51446422287, 8298.688221833881, 15382.515893786214, 7434.098750406199, 8852.920796512088, 7482.437290001728, 14113.427919485212, 6971.387377997711, 12543.606512624408, 5420.52628285137, 8676.015009682873, 768.4499365360125, 537.4195358196482, 290.8864616327454, 183.52454047419488, 169.85294374865666, 163.09212982663232, 508.6556263474126, 508.65592918964995, 215.32532175028888, 339.38542513701265, 208.98928403562678, 126.83590649046022, 174.9509600070406, 102.1331486125243, 95.56124554925077, 92.92825945933019, 96.22164162417359, 95.47125865616547, 163.47777503592664, 170.1190090264014, 170.1194298264238, 170.11942933443095, 95.7079470540696, 100.92788201720423, 88.71745696784664, 86.06807069863169, 85.38017268316858, 85.38019362782472, 85.3801820654532, 85.38019138585732, 530.4233022127316, 189.89285294707548, 186.30368547643275, 186.30372527993845, 186.30410179859462, 189.89356073458276, 189.89362797008744, 189.89373898926996, 189.8937405672751, 185.31749329673812, 189.89403939157245, 171.05908606114534, 174.77457159620653, 528.6573982803136, 235.39737551936608, 444.07214261121874, 479.5607528187999, 1717.190885805924, 476.89020143533133, 301.55674539403384, 225.39386395475103, 857.9397106630319, 311.7512300457526, 424.5410129293527, 277.3948403575834, 385.9245536032616, 323.2327953244541, 1894.242716801227, 680.6687530000038, 272.2746890970616, 233.97257063507325, 394.8215776647159, 1709.1753078707645, 4177.583029211228, 454.8438977010258, 3033.135286628238, 284.43061584756725, 1077.36621204833, 1050.8279560695821, 7824.970249863878, 1710.672915715785, 1161.0519581443411, 2295.3950412707704, 8676.015009682873, 3679.020281875409, 891.8103829861219, 4832.790331843167, 4078.750116990778, 3268.68152195155, 3020.4028334127274, 24735.545415984983, 2714.4185437722185, 7364.958920454035, 3340.6277296922153, 2779.163623740246, 5314.473849624039, 12138.527222575134, 12543.606512624408, 8368.289885315167, 13174.221072681648, 9433.313809617082, 1308.8853687646936, 886.5913108922871, 1110.5264570037318, 533.4718346052293, 497.6671533219319, 483.6923413097409, 455.8761324931245, 390.90316558410876, 368.7478832302357, 368.6090766591771, 358.90309786671776, 332.0207465750344, 318.09001363947345, 314.4940338300206, 305.8261428703769, 304.7355935877937, 256.64214262981665, 248.26323034227605, 247.1996424955269, 241.79951024137844, 226.60121182158852, 226.6012232975557, 226.60123065193315, 220.21743480135598, 209.05094348457328, 203.73815466187625, 203.06657542775739, 191.07051598099378, 190.2066127346599, 188.5817956805791, 455.0311813952392, 432.83635401673484, 468.15548928788314, 748.2363302438112, 654.7296933716474, 1601.1749706294315, 303.66137666661575, 735.3315779290424, 365.1874856667804, 975.552971924545, 565.9936601077424, 1274.9367584973968, 699.3666650610811, 1529.1362725858862, 994.4489233157952, 12690.878756445689, 6354.453217156134, 2955.7617761939473, 809.5790490385273, 5979.417613290148, 1182.6582920100734, 2884.809610094501, 14113.427919485212, 3317.908939096722, 4024.9247297251864, 7351.977814063453, 1774.5815464767247, 1771.9460209552055, 5179.578495357083, 7616.669803616931, 3023.651269977017, 14616.561871846621, 1918.2799737309954, 221.8018011107152, 112.65940308713314, 91.75198777150916, 88.75563411232464, 84.31792057968866, 76.28655304645474, 83.32234209341124, 75.12642209395699, 75.12646084557424, 75.1263786057496, 75.12640647502289, 75.12625309272669, 71.42500674209505, 71.02145388767794, 70.21420977008418, 71.42443941974597, 94.66146961655555, 71.42435467559214, 71.42425207910739, 68.56998276212384, 71.42420174529741, 71.42418355442221, 67.84616956107648, 81.82547223492021, 66.99564966671903, 66.9956530960903, 66.99565312049471, 66.99565218724602, 66.99564806583335, 66.99564937933927, 71.42385192630195, 71.4238169702288, 71.4235510412036, 71.42352009445561, 351.6749301883361, 142.19458103568795, 161.3379916444627, 653.405645004513, 162.20280011543474, 138.79595744475543, 508.2799960579022, 320.87225636554564, 307.57808407210524, 190.40559690912482, 184.1095379836207, 96.75770806446324, 262.46739795274294, 255.431106252827, 545.2747870480938, 151.51317186542897, 224.38966536279202, 1470.7225413929707, 365.8467808126646, 238.78873578650754, 327.74054624866136, 98.19380681905227, 24735.545415984983, 588.3239124181438, 946.865153303813, 515.3461411213373, 1667.4369538892438, 1593.3177126103183, 520.7157659341423, 417.4571987747902, 361.12820996569445, 819.4924943657686, 7410.607551023138, 2340.9953347707933, 2429.601542716827, 2820.2278467149063, 891.5430212394518, 1280.8088718428855, 3940.223226752125, 2862.1911048485345, 707.7748399597034, 12138.527222575134, 2943.712371016826, 1718.6072491193706, 834.1668506512246, 8457.884714657348, 6614.375531929879, 3653.903696960425, 4881.093256084703, 4167.850474371693, 1540.9977593133192, 4800.331012157551, 2986.5113433353363, 8368.289885315167, 3811.463198443744, 14616.561871846621, 15382.515893786214, 8852.920796512088, 13174.221072681648, 5167.074810887236, 5861.429313562713, 11131.445701320432, 8777.035893896422, 7351.977814063453, 4597.617133757851, 12646.632788792424, 12543.606512624408, 6021.568062639066, 11497.51446422287, 8676.015009682873, 7824.970249863878, 8298.688221833881, 7364.958920454035, 6009.771708744324, 10301.264476363669, 5574.38854024592, 21032.73026280604, 349.53847581190377, 296.1257909932679, 200.45875356840202, 171.41634965446113, 136.84878923236502, 122.74795818746114, 121.22698084462006, 114.68553300391481, 114.68552180247491, 114.68552775972414, 114.68553055621894, 114.68553078739525, 114.68553134639338, 114.68553253056288, 114.685532796001, 114.6855334285819, 114.685534303363, 114.6855362610458, 114.68553649601469, 114.68553736559515, 114.6855434842877, 113.37158497639611, 113.37157153000345, 113.37157516465754, 111.5024130426298, 109.63344561855969, 109.33312520949367, 108.27610616802203, 105.13549342175293, 104.19054183277943, 532.5752856461323, 1066.8639126485941, 318.798925813128, 2713.52746848478, 1664.585993050267, 3890.8678904011654, 4630.0051095471945, 1585.6353902290498, 644.3048583865873, 6559.848295098487, 12543.606512624408, 14616.561871846621, 3600.672105815067, 12646.632788792424, 5896.208378686417, 148.89748022587318, 21032.73026280604, 8534.621117547347, 5861.429313562713, 24735.545415984983, 4352.273653597214, 3138.333403991608, 10301.264476363669, 1794.2253096413758, 7069.280008107451, 15382.515893786214, 7616.669803616931, 8368.289885315167, 12138.527222575134, 11497.51446422287, 5148.934222701447, 12690.878756445689, 6988.779651387819, 8298.688221833881, 3513.71001468397, 1013.0780949680222, 916.6498497363132, 868.891796815148, 828.3104759858511, 827.3150081874143, 784.611352410994, 764.9446968435756, 669.3969750213198, 664.2204556012343, 600.9603939038063, 475.10806228190063, 435.33896906988775, 427.83029161209015, 779.2293125618173, 420.8697748604728, 589.4493133755851, 318.15045247620225, 312.27859291492706, 305.36318663813535, 305.01246730536747, 303.258655607062, 269.9980632337546, 269.1540799967316, 266.63967643112113, 259.8164505967456, 259.81645314141093, 259.07184049068474, 258.26333745790384, 256.14345069982664, 1214.3707990265227, 1260.4025092068748, 1275.4208762697308, 431.1412627380336, 441.3505530886363, 423.34879785835625, 369.4071572025096, 954.0853061825779, 845.8662810665855, 440.8060608129455, 1017.4266870948535, 743.3464140229244, 523.5444082734365, 726.0852118978526, 2037.6020222249686, 824.1453043223368, 661.320239724568, 526.0090935923939, 7298.854662334898, 5314.473849624039, 612.7494527372364, 849.4622407956538, 1066.1329233120675, 3841.2453344084274, 2576.4840338263816, 12138.527222575134, 15382.515893786214, 5896.208378686417, 24735.545415984983, 8368.289885315167, 14616.561871846621], \"Category\": [\"Default\", \"Default\", \"Default\", \"Default\", \"Default\", \"Default\", \"Default\", \"Default\", \"Default\", \"Default\", \"Default\", \"Default\", \"Default\", \"Default\", \"Default\", \"Default\", \"Default\", \"Default\", \"Default\", \"Default\", \"Default\", \"Default\", \"Default\", \"Default\", \"Default\", \"Default\", \"Default\", \"Default\", \"Default\", \"Default\", \"Topic1\", \"Topic1\", \"Topic1\", \"Topic1\", \"Topic1\", \"Topic1\", \"Topic1\", \"Topic1\", \"Topic1\", \"Topic1\", \"Topic1\", \"Topic1\", \"Topic1\", \"Topic1\", \"Topic1\", \"Topic1\", \"Topic1\", \"Topic1\", \"Topic1\", \"Topic1\", \"Topic1\", \"Topic1\", \"Topic1\", \"Topic1\", \"Topic1\", \"Topic1\", \"Topic1\", \"Topic1\", \"Topic1\", \"Topic1\", \"Topic1\", \"Topic1\", \"Topic1\", \"Topic1\", \"Topic1\", \"Topic1\", \"Topic1\", \"Topic1\", \"Topic1\", \"Topic1\", \"Topic1\", \"Topic1\", \"Topic1\", \"Topic1\", \"Topic1\", \"Topic1\", \"Topic1\", \"Topic1\", \"Topic1\", \"Topic1\", \"Topic1\", \"Topic1\", \"Topic1\", \"Topic1\", \"Topic1\", \"Topic1\", \"Topic1\", \"Topic1\", \"Topic1\", \"Topic1\", \"Topic1\", \"Topic1\", \"Topic1\", \"Topic1\", \"Topic1\", \"Topic1\", \"Topic1\", \"Topic1\", \"Topic1\", \"Topic1\", \"Topic1\", \"Topic2\", \"Topic2\", \"Topic2\", \"Topic2\", \"Topic2\", \"Topic2\", \"Topic2\", \"Topic2\", \"Topic2\", \"Topic2\", \"Topic2\", \"Topic2\", \"Topic2\", \"Topic2\", \"Topic2\", \"Topic2\", \"Topic2\", \"Topic2\", \"Topic2\", \"Topic2\", \"Topic2\", \"Topic2\", \"Topic2\", \"Topic2\", \"Topic2\", \"Topic2\", \"Topic2\", \"Topic2\", \"Topic2\", \"Topic2\", \"Topic2\", \"Topic2\", \"Topic2\", \"Topic2\", \"Topic2\", \"Topic2\", \"Topic2\", \"Topic2\", \"Topic2\", \"Topic2\", \"Topic2\", \"Topic2\", \"Topic2\", \"Topic2\", \"Topic2\", \"Topic2\", \"Topic2\", \"Topic2\", \"Topic2\", \"Topic2\", \"Topic2\", \"Topic2\", \"Topic2\", \"Topic2\", \"Topic2\", \"Topic2\", \"Topic2\", \"Topic2\", \"Topic2\", \"Topic2\", \"Topic2\", \"Topic2\", \"Topic2\", \"Topic2\", \"Topic2\", \"Topic2\", \"Topic2\", \"Topic3\", \"Topic3\", \"Topic3\", \"Topic3\", \"Topic3\", \"Topic3\", \"Topic3\", \"Topic3\", \"Topic3\", \"Topic3\", \"Topic3\", \"Topic3\", \"Topic3\", \"Topic3\", \"Topic3\", \"Topic3\", \"Topic3\", \"Topic3\", \"Topic3\", \"Topic3\", \"Topic3\", \"Topic3\", \"Topic3\", \"Topic3\", \"Topic3\", \"Topic3\", \"Topic3\", \"Topic3\", \"Topic3\", \"Topic3\", \"Topic3\", \"Topic3\", \"Topic3\", \"Topic3\", \"Topic3\", \"Topic3\", \"Topic3\", \"Topic3\", \"Topic3\", \"Topic3\", \"Topic3\", \"Topic3\", \"Topic3\", \"Topic3\", \"Topic3\", \"Topic3\", \"Topic3\", \"Topic3\", \"Topic3\", \"Topic3\", \"Topic3\", \"Topic3\", \"Topic3\", \"Topic3\", \"Topic3\", \"Topic3\", \"Topic3\", \"Topic3\", \"Topic3\", \"Topic3\", \"Topic3\", \"Topic3\", \"Topic3\", \"Topic3\", \"Topic3\", \"Topic3\", \"Topic3\", \"Topic3\", \"Topic3\", \"Topic3\", \"Topic3\", \"Topic3\", \"Topic3\", \"Topic3\", \"Topic3\", \"Topic3\", \"Topic3\", \"Topic3\", \"Topic3\", \"Topic3\", \"Topic3\", \"Topic3\", \"Topic3\", \"Topic3\", \"Topic3\", \"Topic3\", \"Topic3\", \"Topic3\", \"Topic3\", \"Topic3\", \"Topic3\", \"Topic3\", \"Topic3\", \"Topic3\", \"Topic4\", \"Topic4\", \"Topic4\", \"Topic4\", \"Topic4\", \"Topic4\", \"Topic4\", \"Topic4\", \"Topic4\", \"Topic4\", \"Topic4\", \"Topic4\", \"Topic4\", \"Topic4\", \"Topic4\", \"Topic4\", \"Topic4\", \"Topic4\", \"Topic4\", \"Topic4\", \"Topic4\", \"Topic4\", \"Topic4\", \"Topic4\", \"Topic4\", \"Topic4\", \"Topic4\", \"Topic4\", \"Topic4\", \"Topic4\", \"Topic4\", \"Topic4\", \"Topic4\", \"Topic4\", \"Topic4\", \"Topic4\", \"Topic4\", \"Topic4\", \"Topic4\", \"Topic4\", \"Topic4\", \"Topic4\", \"Topic4\", \"Topic4\", \"Topic4\", \"Topic4\", \"Topic4\", \"Topic4\", \"Topic4\", \"Topic4\", \"Topic4\", \"Topic4\", \"Topic4\", \"Topic4\", \"Topic4\", \"Topic5\", \"Topic5\", \"Topic5\", \"Topic5\", \"Topic5\", \"Topic5\", \"Topic5\", \"Topic5\", \"Topic5\", \"Topic5\", \"Topic5\", \"Topic5\", \"Topic5\", \"Topic5\", \"Topic5\", \"Topic5\", \"Topic5\", \"Topic5\", \"Topic5\", \"Topic5\", \"Topic5\", \"Topic5\", \"Topic5\", \"Topic5\", \"Topic5\", \"Topic5\", \"Topic5\", \"Topic5\", \"Topic5\", \"Topic5\", \"Topic5\", \"Topic5\", \"Topic5\", \"Topic5\", \"Topic5\", \"Topic5\", \"Topic5\", \"Topic5\", \"Topic5\", \"Topic5\", \"Topic5\", \"Topic5\", \"Topic5\", \"Topic5\", \"Topic5\", \"Topic5\", \"Topic5\", \"Topic5\", \"Topic5\", \"Topic5\", \"Topic5\", \"Topic5\", \"Topic5\", \"Topic5\", \"Topic5\", \"Topic5\", \"Topic5\", \"Topic5\", \"Topic5\", \"Topic5\", \"Topic5\", \"Topic5\", \"Topic5\", \"Topic5\", \"Topic5\", \"Topic5\", \"Topic5\", \"Topic5\", \"Topic5\", \"Topic5\", \"Topic5\", \"Topic5\", \"Topic5\", \"Topic6\", \"Topic6\", \"Topic6\", \"Topic6\", \"Topic6\", \"Topic6\", \"Topic6\", \"Topic6\", \"Topic6\", \"Topic6\", \"Topic6\", \"Topic6\", \"Topic6\", \"Topic6\", \"Topic6\", \"Topic6\", \"Topic6\", \"Topic6\", \"Topic6\", \"Topic6\", \"Topic6\", \"Topic6\", \"Topic6\", \"Topic6\", \"Topic6\", \"Topic6\", \"Topic6\", \"Topic6\", \"Topic6\", \"Topic6\", \"Topic6\", \"Topic6\", \"Topic6\", \"Topic6\", \"Topic6\", \"Topic6\", \"Topic7\", \"Topic7\", \"Topic7\", \"Topic7\", \"Topic7\", \"Topic7\", \"Topic7\", \"Topic7\", \"Topic7\", \"Topic7\", \"Topic7\", \"Topic7\", \"Topic7\", \"Topic7\", \"Topic7\", \"Topic7\", \"Topic7\", \"Topic7\", \"Topic7\", \"Topic7\", \"Topic7\", \"Topic7\", \"Topic7\", \"Topic7\", \"Topic7\", \"Topic7\", \"Topic7\", \"Topic7\", \"Topic7\", \"Topic7\", \"Topic7\", \"Topic7\", \"Topic7\", \"Topic7\", \"Topic7\", \"Topic7\", \"Topic7\", \"Topic7\", \"Topic7\", \"Topic7\", \"Topic7\", \"Topic7\", \"Topic7\", \"Topic7\", \"Topic7\", \"Topic7\", \"Topic8\", \"Topic8\", \"Topic8\", \"Topic8\", \"Topic8\", \"Topic8\", \"Topic8\", \"Topic8\", \"Topic8\", \"Topic8\", \"Topic8\", \"Topic8\", \"Topic8\", \"Topic8\", \"Topic8\", \"Topic8\", \"Topic8\", \"Topic8\", \"Topic8\", \"Topic8\", \"Topic8\", \"Topic8\", \"Topic8\", \"Topic8\", \"Topic8\", \"Topic8\", \"Topic8\", \"Topic8\", \"Topic8\", \"Topic8\", \"Topic8\", \"Topic8\", \"Topic8\", \"Topic8\", \"Topic8\", \"Topic8\", \"Topic8\", \"Topic8\", \"Topic8\", \"Topic8\", \"Topic8\", \"Topic8\", \"Topic8\", \"Topic8\", \"Topic8\", \"Topic8\", \"Topic8\", \"Topic8\", \"Topic8\", \"Topic8\", \"Topic8\", \"Topic8\", \"Topic8\", \"Topic8\", \"Topic8\", \"Topic8\", \"Topic8\", \"Topic8\", \"Topic8\", \"Topic8\", \"Topic8\", \"Topic8\", \"Topic8\", \"Topic8\", \"Topic8\", \"Topic8\", \"Topic8\", \"Topic8\", \"Topic8\", \"Topic8\", \"Topic8\", \"Topic8\", \"Topic8\", \"Topic8\", \"Topic8\", \"Topic8\", \"Topic8\", \"Topic8\", \"Topic8\", \"Topic8\", \"Topic8\", \"Topic8\", \"Topic8\", \"Topic8\", \"Topic8\", \"Topic8\", \"Topic8\", \"Topic8\", \"Topic8\", \"Topic8\", \"Topic8\", \"Topic8\", \"Topic8\", \"Topic8\", \"Topic8\", \"Topic9\", \"Topic9\", \"Topic9\", \"Topic9\", \"Topic9\", \"Topic9\", \"Topic9\", \"Topic9\", \"Topic9\", \"Topic9\", \"Topic9\", \"Topic9\", \"Topic9\", \"Topic9\", \"Topic9\", \"Topic9\", \"Topic9\", \"Topic9\", \"Topic9\", \"Topic9\", \"Topic9\", \"Topic9\", \"Topic9\", \"Topic9\", \"Topic9\", \"Topic9\", \"Topic9\", \"Topic9\", \"Topic9\", \"Topic9\", \"Topic9\", \"Topic9\", \"Topic9\", \"Topic9\", \"Topic9\", \"Topic9\", \"Topic9\", \"Topic9\", \"Topic9\", \"Topic9\", \"Topic9\", \"Topic9\", \"Topic9\", \"Topic9\", \"Topic9\", \"Topic9\", \"Topic9\", \"Topic9\", \"Topic9\", \"Topic9\", \"Topic9\", \"Topic9\", \"Topic9\", \"Topic9\", \"Topic9\", \"Topic9\", \"Topic9\", \"Topic9\", \"Topic9\", \"Topic9\", \"Topic9\", \"Topic9\", \"Topic9\", \"Topic9\", \"Topic9\", \"Topic9\", \"Topic9\", \"Topic9\", \"Topic9\", \"Topic9\", \"Topic9\", \"Topic9\", \"Topic9\", \"Topic9\", \"Topic9\", \"Topic9\", \"Topic9\", \"Topic9\", \"Topic9\", \"Topic9\", \"Topic9\", \"Topic9\", \"Topic9\", \"Topic9\", \"Topic9\", \"Topic9\", \"Topic9\", \"Topic9\", \"Topic9\", \"Topic9\", \"Topic9\", \"Topic10\", \"Topic10\", \"Topic10\", \"Topic10\", \"Topic10\", \"Topic10\", \"Topic10\", \"Topic10\", \"Topic10\", \"Topic10\", \"Topic10\", \"Topic10\", \"Topic10\", \"Topic10\", \"Topic10\", \"Topic10\", \"Topic10\", \"Topic10\", \"Topic10\", \"Topic10\", \"Topic10\", \"Topic10\", \"Topic10\", \"Topic10\", \"Topic10\", \"Topic10\", \"Topic10\", \"Topic10\", \"Topic10\", \"Topic10\", \"Topic10\", \"Topic10\", \"Topic10\", \"Topic10\", \"Topic10\", \"Topic10\", \"Topic10\", \"Topic10\", \"Topic10\", \"Topic10\", \"Topic10\", \"Topic10\", \"Topic10\", \"Topic10\", \"Topic10\", \"Topic10\", \"Topic10\", \"Topic10\", \"Topic10\", \"Topic10\", \"Topic10\", \"Topic10\", \"Topic10\", \"Topic10\", \"Topic10\", \"Topic10\", \"Topic10\", \"Topic10\", \"Topic10\", \"Topic10\", \"Topic10\", \"Topic10\", \"Topic10\", \"Topic11\", \"Topic11\", \"Topic11\", \"Topic11\", \"Topic11\", \"Topic11\", \"Topic11\", \"Topic11\", \"Topic11\", \"Topic11\", \"Topic11\", \"Topic11\", \"Topic11\", \"Topic11\", \"Topic11\", \"Topic11\", \"Topic11\", \"Topic11\", \"Topic11\", \"Topic11\", \"Topic11\", \"Topic11\", \"Topic11\", \"Topic11\", \"Topic11\", \"Topic11\", \"Topic11\", \"Topic11\", \"Topic11\", \"Topic11\", \"Topic11\", \"Topic11\", \"Topic11\", \"Topic11\", \"Topic11\", \"Topic11\", \"Topic11\", \"Topic11\", \"Topic11\", \"Topic11\", \"Topic11\", \"Topic11\", \"Topic11\", \"Topic11\", \"Topic11\", \"Topic11\", \"Topic11\", \"Topic11\", \"Topic11\", \"Topic11\", \"Topic11\", \"Topic11\", \"Topic11\", \"Topic11\", \"Topic11\", \"Topic11\", \"Topic11\", \"Topic11\", \"Topic11\", \"Topic11\", \"Topic11\", \"Topic11\", \"Topic11\", \"Topic11\", \"Topic11\", \"Topic11\", \"Topic11\", \"Topic11\", \"Topic11\", \"Topic11\", \"Topic11\", \"Topic11\", \"Topic11\", \"Topic11\", \"Topic11\", \"Topic11\", \"Topic11\", \"Topic11\", \"Topic11\", \"Topic11\", \"Topic11\", \"Topic11\", \"Topic11\", \"Topic11\", \"Topic11\", \"Topic11\", \"Topic11\", \"Topic11\", \"Topic11\", \"Topic11\", \"Topic11\", \"Topic11\", \"Topic11\", \"Topic11\", \"Topic11\", \"Topic11\", \"Topic11\", \"Topic11\", \"Topic11\", \"Topic11\", \"Topic11\", \"Topic11\", \"Topic11\", \"Topic11\", \"Topic11\", \"Topic11\", \"Topic11\", \"Topic11\", \"Topic11\", \"Topic11\", \"Topic11\", \"Topic12\", \"Topic12\", \"Topic12\", \"Topic12\", \"Topic12\", \"Topic12\", \"Topic12\", \"Topic12\", \"Topic12\", \"Topic12\", \"Topic12\", \"Topic12\", \"Topic12\", \"Topic12\", \"Topic12\", \"Topic12\", \"Topic12\", \"Topic12\", \"Topic12\", \"Topic12\", \"Topic12\", \"Topic12\", \"Topic12\", \"Topic12\", \"Topic12\", \"Topic12\", \"Topic12\", \"Topic12\", \"Topic12\", \"Topic12\", \"Topic12\", \"Topic12\", \"Topic12\", \"Topic12\", \"Topic12\", \"Topic12\", \"Topic12\", \"Topic12\", \"Topic12\", \"Topic12\", \"Topic12\", \"Topic12\", \"Topic12\", \"Topic12\", \"Topic12\", \"Topic12\", \"Topic12\", \"Topic12\", \"Topic12\", \"Topic12\", \"Topic12\", \"Topic12\", \"Topic12\", \"Topic12\", \"Topic12\", \"Topic12\", \"Topic12\", \"Topic12\", \"Topic12\", \"Topic12\", \"Topic12\", \"Topic12\", \"Topic12\", \"Topic12\", \"Topic13\", \"Topic13\", \"Topic13\", \"Topic13\", \"Topic13\", \"Topic13\", \"Topic13\", \"Topic13\", \"Topic13\", \"Topic13\", \"Topic13\", \"Topic13\", \"Topic13\", \"Topic13\", \"Topic13\", \"Topic13\", \"Topic13\", \"Topic13\", \"Topic13\", \"Topic13\", \"Topic13\", \"Topic13\", \"Topic13\", \"Topic13\", \"Topic13\", \"Topic13\", \"Topic13\", \"Topic13\", \"Topic13\", \"Topic13\", \"Topic13\", \"Topic13\", \"Topic13\", \"Topic13\", \"Topic13\", \"Topic13\", \"Topic13\", \"Topic13\", \"Topic13\", \"Topic13\", \"Topic13\", \"Topic13\", \"Topic13\", \"Topic13\", \"Topic13\", \"Topic13\", \"Topic13\", \"Topic13\", \"Topic13\", \"Topic13\", \"Topic13\", \"Topic13\", \"Topic13\", \"Topic13\", \"Topic13\", \"Topic13\", \"Topic13\", \"Topic13\", \"Topic13\", \"Topic13\", \"Topic13\"], \"logprob\": [30.0, 29.0, 28.0, 27.0, 26.0, 25.0, 24.0, 23.0, 22.0, 21.0, 20.0, 19.0, 18.0, 17.0, 16.0, 15.0, 14.0, 13.0, 12.0, 11.0, 10.0, 9.0, 8.0, 7.0, 6.0, 5.0, 4.0, 3.0, 2.0, 1.0, -6.8693, -6.8761, -6.8761, -6.8761, -6.8761, -6.8761, -6.8761, -6.8761, -6.8761, -6.8761, -6.8761, -6.8761, -6.8761, -6.8761, -6.8761, -6.8761, -6.8761, -6.8761, -6.8761, -6.8761, -6.8761, -6.8761, -6.8761, -6.8761, -6.8761, -6.8761, -6.8761, -6.8761, -6.8761, -6.8761, -6.5715, -6.8329, -6.7075, -6.7075, -6.7075, -6.7075, -6.7075, -6.7075, -6.7075, -6.7075, -6.7075, -6.7075, -6.7075, -6.7075, -6.7075, -6.7075, -6.7075, -6.7075, -6.0356, -6.4146, -6.4146, -6.7157, -6.3502, -6.7909, -5.883, -6.1664, -6.1944, -6.1868, -6.0132, -5.9135, -6.0516, -6.207, -6.2837, -6.2198, -6.3587, -6.4876, -6.5292, -6.6386, -6.6693, -6.6382, -6.6566, -5.4508, -5.5003, -6.1264, -6.1387, -6.1415, -6.1439, -6.1439, -6.1439, -6.1439, -6.1439, -6.1439, -6.1439, -6.1439, -6.1439, -6.1439, -6.1439, -6.1439, -6.1439, -6.1463, -6.2019, -6.2481, -6.2812, -6.4884, -6.5601, -6.5806, -6.5927, -6.7309, -6.7309, -6.7353, -6.925, -5.9102, -6.0362, -6.1439, -6.1439, -6.1329, -6.1297, -6.141, -6.1277, -4.8077, -5.4155, -4.9717, -5.3062, -5.0164, -5.461, -5.3943, -5.2322, -5.4787, -5.9692, -5.8507, -5.7072, -5.7919, -5.6423, -5.7427, -6.1199, -5.933, -6.0673, -5.9652, -6.077, -5.9371, -6.0273, -5.9762, -5.9848, -6.0866, -6.0224, -6.0947, -6.0511, -6.0729, -7.9384, -8.0436, -8.2649, -8.3926, -8.4014, -8.3353, -8.6266, -8.6294, -8.6252, -8.6513, -8.6804, -8.698, -8.698, -8.7038, -8.7038, -8.7038, -8.7038, -8.7038, -8.7038, -8.7038, -8.7038, -8.7038, -8.7038, -8.7038, -8.7038, -8.7038, -8.7038, -8.7038, -8.7038, -8.7038, -8.401, -7.8134, -8.3713, -7.6563, -6.155, -5.9287, -6.7996, -8.3822, -6.2339, -5.859, -7.4017, -6.0443, -7.914, -5.9905, -4.8017, -6.9045, -7.709, -7.6123, -5.2863, -6.6226, -6.988, -7.0812, -6.4164, -7.5069, -7.089, -6.9538, -4.6209, -5.7949, -7.0815, -6.4229, -6.3029, -6.6138, -7.2165, -6.1993, -6.5273, -6.6618, -6.6851, -6.8489, -6.1841, -6.6417, -5.629, -6.0601, -6.3588, -5.8752, -5.6568, -6.2024, -6.2437, -5.4469, -5.8726, -6.2449, -6.1755, -6.0333, -6.1039, -5.99, -6.1549, -5.9337, -6.0782, -5.8015, -5.9622, -5.8923, -5.9747, -6.0812, -6.1477, -6.1982, -4.2486, -4.7937, -4.7937, -5.4868, -5.4868, -5.4868, -5.5808, -5.6298, -5.4816, -5.9035, -5.9474, -5.479, -6.0241, -5.4833, -6.1652, -6.1642, -6.1695, -6.1711, -6.1714, -6.1713, -6.1661, -6.1733, -6.1743, -6.1743, -6.1743, -6.1746, -6.1746, -6.1775, -6.1775, -6.1799, -5.0804, -6.1721, -5.4854, -5.4426, -5.4862, -5.4638, -5.4742, -4.7294, -4.7845, -4.7552, -5.6815, -4.7331, -6.1657, -5.4147, -4.6379, -5.558, -5.1634, -5.463, -4.955, -5.2153, -4.9062, -5.2163, -5.2153, -5.3196, -5.5137, -5.5912, -6.8367, -7.0567, -7.0975, -7.0965, -7.108, -7.108, -7.111, -7.111, -7.3051, -7.3805, -7.4466, -7.4492, -7.474, -7.5029, -7.5383, -7.551, -7.5626, -7.5853, -7.6314, -7.5277, -7.6753, -7.6829, -7.7248, -7.7351, -7.7761, -7.7974, -7.8158, -7.8298, -7.8406, -4.6037, -7.1323, -7.2262, -6.3946, -6.9082, -3.9132, -5.1505, -7.0782, -5.7447, -7.0887, -6.3374, -5.8048, -5.5445, -6.678, -5.7371, -5.0513, -5.1525, -5.1671, -7.1094, -5.8173, -6.2462, -6.3356, -5.784, -5.9343, -5.4367, -5.9721, -5.617, -5.5933, -6.2051, -5.6689, -5.5348, -6.2908, -5.75, -5.668, -6.1045, -5.9384, -5.9126, -6.0105, -5.9887, -6.1409, -6.192, -6.1751, -6.1895, -3.0378, -3.1645, -3.3245, -3.4021, -3.4267, -3.4296, -3.9975, -4.3799, -4.5629, -5.4556, -5.456, -5.7957, -5.8411, -5.8624, -5.8624, -5.8721, -5.9027, -5.9721, -5.9787, -5.9985, -6.0013, -6.0134, -6.1491, -6.193, -6.214, -6.2186, -6.2405, -6.256, -6.2635, -6.2733, -2.8669, -5.6825, -6.2413, -5.6049, -5.6713, -5.8018, -5.9009, -5.8987, -5.9219, -5.9191, -5.9219, -5.0819, -5.7751, -5.7712, -5.7662, -5.7712, -5.749, -5.7712, -5.7712, -5.7712, -5.8391, -5.7752, -6.2592, -6.2592, -6.2592, -6.2592, -6.2592, -6.2592, -6.244, -6.2383, -6.5454, -6.6247, -6.7225, -6.7225, -6.7225, -6.7256, -6.7225, -5.8399, -5.9197, -5.7078, -5.8242, -5.8526, -5.8717, -4.9315, -5.9057, -5.8533, -5.8374, -6.0277, -5.84, -5.9576, -5.9216, -5.952, -7.5708, -7.8295, -8.1153, -8.1153, -8.1153, -8.1072, -8.1527, -8.2359, -8.3184, -8.0289, -8.1159, -8.511, -8.591, -8.6327, -8.4443, -8.6344, -8.0221, -8.6971, -8.7967, -8.7565, -8.8347, -8.1227, -8.8429, -8.8823, -8.8672, -8.9203, -8.8129, -9.0106, -9.0113, -9.0153, -7.6279, -8.3439, -8.0775, -7.2739, -8.3083, -8.435, -5.9488, -8.3636, -8.523, -7.987, -6.5708, -6.9139, -5.9189, -6.4128, -7.9458, -6.9857, -7.7838, -7.9678, -5.4253, -7.0879, -7.1334, -6.7502, -5.4629, -6.4619, -6.349, -5.6993, -5.5006, -6.2616, -7.2263, -6.3446, -7.0057, -5.9093, -6.302, -5.3528, -7.4368, -7.6468, -6.8223, -6.9765, -6.5561, -5.333, -6.0481, -5.7313, -6.2023, -5.3138, -5.4246, -5.8957, -6.4392, -6.2209, -5.373, -5.7047, -5.8601, -5.4381, -5.8326, -5.2934, -5.6279, -5.7606, -5.5887, -5.8806, -5.8624, -5.9383, -5.8622, -6.022, -6.0407, -6.13, -6.1049, -5.7554, -6.1134, -6.7295, -7.191, -7.2688, -7.3097, -6.174, -6.174, -7.0339, -6.5792, -7.0641, -7.5638, -7.243, -7.7814, -7.848, -7.8762, -7.8414, -7.8493, -7.3115, -7.2719, -7.2719, -7.2719, -7.8472, -7.7943, -7.9234, -7.9538, -7.9619, -7.9619, -7.9619, -7.9619, -6.1386, -7.1633, -7.1822, -7.1822, -7.1822, -7.1633, -7.1633, -7.1633, -7.1633, -7.1875, -7.1634, -7.2695, -7.2492, -6.1631, -6.9591, -6.35, -6.2769, -5.0684, -6.2984, -6.7347, -7.0083, -5.8016, -6.7191, -6.4542, -6.8333, -6.5481, -6.7057, -5.2094, -6.0918, -6.8621, -6.9885, -6.5555, -5.3881, -4.7455, -6.5306, -5.3255, -6.8616, -6.0238, -6.0499, -4.907, -5.7935, -6.0815, -5.7933, -5.2426, -5.6491, -6.2595, -5.6224, -5.7027, -5.8138, -5.8521, -5.2234, -5.9095, -5.7295, -5.9542, -5.9976, -5.9422, -5.8909, -5.9398, -6.0222, -6.0709, -6.0744, -5.2497, -5.6396, -5.415, -6.1483, -6.2179, -6.2464, -6.3058, -6.4599, -6.5184, -6.5187, -6.5455, -6.6235, -6.6665, -6.6779, -6.706, -6.7095, -6.8819, -6.9152, -6.9195, -6.9417, -7.0068, -7.0068, -7.0069, -7.0355, -7.0878, -7.1137, -7.117, -7.1781, -7.1827, -7.1913, -6.3113, -6.3627, -6.2914, -5.8465, -5.9877, -5.1346, -6.7324, -5.9417, -6.5736, -5.7054, -6.2112, -5.5285, -6.0535, -5.4162, -5.7759, -3.8374, -4.5248, -5.0908, -6.0426, -4.986, -5.9422, -5.5092, -4.7787, -5.5765, -5.6198, -5.4692, -5.9782, -5.9818, -5.7981, -5.7311, -6.0375, -5.9343, -6.1039, -8.712, -9.3935, -9.6005, -9.6345, -9.6858, -9.7872, -9.6991, -9.8027, -9.8027, -9.8027, -9.8027, -9.8027, -9.8538, -9.8595, -9.8711, -9.8541, -9.5725, -9.8542, -9.8543, -9.8951, -9.8543, -9.8543, -9.9058, -9.7185, -9.9186, -9.9186, -9.9186, -9.9186, -9.9186, -9.9186, -9.8547, -9.8547, -9.8551, -9.8551, -8.2837, -9.1775, -9.054, -7.722, -9.0635, -9.2167, -7.9722, -8.4177, -8.4616, -8.9195, -8.9536, -9.5652, -8.618, -8.6468, -7.9378, -9.1455, -8.7775, -7.0297, -8.3262, -8.7299, -8.439, -9.5541, -4.4805, -7.9085, -7.4763, -8.0324, -6.9739, -7.0217, -8.031, -8.2316, -8.3659, -7.6388, -5.7064, -6.7217, -6.7112, -6.5851, -7.5898, -7.279, -6.3197, -6.5966, -7.7912, -5.42, -6.5963, -7.0518, -7.6562, -5.7423, -5.945, -6.4381, -6.2081, -6.3498, -7.1608, -6.2649, -6.6412, -5.8338, -6.4528, -5.4707, -5.4363, -5.8552, -5.575, -6.2713, -6.1819, -5.7209, -5.9026, -6.0341, -6.4048, -5.8298, -5.8398, -6.2611, -5.9281, -6.083, -6.1478, -6.1228, -6.1991, -6.3011, -6.1346, -6.3451, -6.1182, -6.6768, -6.8431, -7.2351, -7.3921, -7.6186, -7.7282, -7.7409, -7.7966, -7.7966, -7.7966, -7.7966, -7.7966, -7.7966, -7.7966, -7.7966, -7.7966, -7.7966, -7.7966, -7.7966, -7.7966, -7.7966, -7.8082, -7.8082, -7.8082, -7.825, -7.842, -7.8448, -7.8546, -7.8843, -7.8934, -6.6654, -6.2189, -7.2263, -6.0607, -6.3424, -6.0533, -6.1011, -6.6361, -7.1079, -6.292, -6.1103, -6.0778, -6.592, -6.1753, -6.4481, -7.7078, -6.0506, -6.4056, -6.5264, -6.0939, -6.6587, -6.7692, -6.4132, -6.9634, -6.5724, -6.3562, -6.5677, -6.5824, -6.5115, -6.5638, -6.7485, -6.6466, -6.7494, -6.7542, -5.1832, -6.4276, -6.5277, -6.5812, -6.6291, -6.6303, -6.6834, -6.7088, -6.8424, -6.8502, -6.9504, -7.1858, -7.2734, -7.2908, -6.6912, -7.3072, -6.9709, -7.5878, -7.6064, -7.6289, -7.63, -7.6358, -7.7524, -7.7555, -7.7649, -7.7909, -7.7909, -7.7938, -7.797, -7.8052, -6.2504, -6.2143, -6.2032, -7.2859, -7.2629, -7.3056, -7.4419, -6.5075, -6.6289, -7.268, -6.4492, -6.7601, -7.1027, -6.789, -5.8463, -6.6975, -7.0088, -7.1698, -5.8703, -6.0615, -7.1314, -7.0089, -6.9634, -6.609, -6.7688, -6.5162, -6.6169, -6.7724, -6.7848, -6.8954, -6.887], \"loglift\": [30.0, 29.0, 28.0, 27.0, 26.0, 25.0, 24.0, 23.0, 22.0, 21.0, 20.0, 19.0, 18.0, 17.0, 16.0, 15.0, 14.0, 13.0, 12.0, 11.0, 10.0, 9.0, 8.0, 7.0, 6.0, 5.0, 4.0, 3.0, 2.0, 1.0, 3.457, 3.457, 3.457, 3.457, 3.457, 3.457, 3.457, 3.457, 3.457, 3.457, 3.457, 3.457, 3.457, 3.457, 3.457, 3.457, 3.457, 3.457, 3.457, 3.457, 3.457, 3.457, 3.457, 3.457, 3.457, 3.457, 3.457, 3.457, 3.457, 3.457, 3.3904, 3.4396, 3.35, 3.35, 3.35, 3.35, 3.35, 3.35, 3.35, 3.35, 3.35, 3.35, 3.35, 3.35, 3.35, 3.35, 3.35, 3.35, 2.4717, 2.7817, 2.7817, 3.1413, 2.3774, 3.2652, 0.7752, 1.3038, 1.0864, 0.8812, 0.1586, -0.3457, -0.6459, 0.0747, 0.3177, -0.1841, 0.6105, 0.0154, 0.234, 2.1076, 2.4909, 1.0756, 0.2402, 3.5498, 3.5497, 3.5485, 3.5485, 3.5485, 3.5484, 3.5484, 3.5484, 3.5484, 3.5484, 3.5484, 3.5484, 3.5484, 3.5484, 3.5484, 3.5484, 3.5484, 3.5484, 3.5484, 3.5483, 3.5481, 3.548, 3.5473, 3.547, 3.547, 3.5469, 3.5463, 3.5463, 3.5463, 3.5452, 3.5437, 3.5368, 3.5271, 3.5112, 3.5088, 3.5042, 3.4376, 3.3472, 2.1185, 2.6497, 1.9243, 2.064, 1.2965, 2.1067, 1.5918, 0.6484, 1.4336, 2.9245, 2.3237, 1.262, 1.554, 0.5618, 0.9269, 3.3323, 1.4266, 2.664, 1.0064, 2.5306, -0.0053, 1.4801, 0.0969, 0.1327, 2.4933, 0.4564, 2.6346, 0.8388, 1.7063, 1.829, 1.8287, 1.8279, 1.8274, 1.8274, 1.827, 1.8262, 1.8262, 1.8261, 1.8261, 1.8259, 1.8258, 1.8258, 1.8258, 1.8258, 1.8258, 1.8258, 1.8258, 1.8258, 1.8258, 1.8258, 1.8258, 1.8258, 1.8258, 1.8258, 1.8258, 1.8258, 1.8258, 1.8258, 1.8258, 1.8236, 1.7946, 1.8124, 1.7762, 1.6861, 1.668, 1.7193, 1.8086, 1.6705, 1.6383, 1.7407, 1.6343, 1.7667, 1.6171, 1.5112, 1.6838, 1.7468, 1.7357, 1.5142, 1.6331, 1.6686, 1.6636, 1.5843, 1.7029, 1.6553, 1.6368, 1.3459, 1.45, 1.6375, 1.5244, 1.4944, 1.5286, 1.6425, 1.4154, 1.4758, 1.4939, 1.4919, 1.5371, 1.3318, 1.4618, 1.1357, 1.2614, 1.354, 1.0999, 0.9267, 1.1804, 1.1842, 0.5888, 0.797, 1.1011, 1.0352, 0.8627, 0.8791, 0.6821, 0.7688, 0.1428, 0.5296, -0.3958, 0.1108, -0.3245, -0.094, 0.0035, 0.0241, 0.2997, 3.7147, 3.7144, 3.7144, 3.7135, 3.7135, 3.7135, 3.7134, 3.7133, 3.7131, 3.7127, 3.7126, 3.7125, 3.7124, 3.7121, 3.7119, 3.7119, 3.7119, 3.7119, 3.7119, 3.7119, 3.7119, 3.7119, 3.7119, 3.7119, 3.7119, 3.7119, 3.7119, 3.7119, 3.7119, 3.7119, 3.7086, 3.7119, 3.7043, 3.6817, 3.6821, 3.6727, 3.6247, 3.1625, 2.6957, 2.5602, 3.2789, 2.3588, 3.7063, 2.9065, 1.8319, 2.9315, 1.9785, 2.3492, 1.1297, 1.6017, 0.4995, 1.4418, 0.8612, 0.8522, 1.8059, 2.2402, 2.2391, 2.2388, 2.2387, 2.2387, 2.2387, 2.2387, 2.2387, 2.2387, 2.2383, 2.238, 2.238, 2.238, 2.2379, 2.2378, 2.2377, 2.2377, 2.2376, 2.2376, 2.2374, 2.2374, 2.2373, 2.2373, 2.2371, 2.2371, 2.2369, 2.2369, 2.2368, 2.2367, 2.2367, 2.2342, 2.2218, 2.2196, 2.1141, 2.1387, 1.6546, 1.8279, 2.1332, 1.8906, 2.1242, 1.9292, 1.7554, 1.5987, 1.9481, 1.5906, 1.3183, 1.3506, 1.3026, 2.075, 1.3849, 1.4191, 1.4877, 0.9489, 1.0518, 0.4951, 1.0031, 0.5548, 0.4832, 1.1985, 0.5353, 0.3459, 1.2417, 0.5316, 0.4167, 0.9565, 0.6788, 0.5852, 0.6431, 0.4647, 0.9449, 0.698, -0.0576, 0.4183, 3.2813, 3.2813, 3.2812, 3.2812, 3.2812, 3.2812, 3.2811, 3.281, 3.2809, 3.2803, 3.2803, 3.2799, 3.2798, 3.2798, 3.2798, 3.2798, 3.2797, 3.2796, 3.2796, 3.2796, 3.2796, 3.2795, 3.2793, 3.2792, 3.2791, 3.2791, 3.2791, 3.279, 3.279, 3.279, 3.2624, 3.2758, 3.2788, 1.7151, 0.7619, 1.0378, 3.1325, 3.1325, 3.1324, 3.1324, 3.1324, 3.1324, 3.1324, 3.1324, 3.1324, 3.1323, 3.1323, 3.1323, 3.1323, 3.1323, 3.1323, 3.1323, 3.1317, 3.1317, 3.1317, 3.1317, 3.1317, 3.1317, 3.1317, 3.1316, 3.1311, 3.1308, 3.1306, 3.1306, 3.1306, 3.1306, 3.1306, 3.0622, 2.9052, 2.4842, 2.5263, 2.4697, 2.4657, 0.4741, 2.384, 2.1863, 2.0341, 2.1597, 0.9771, 1.2953, 0.748, 0.2521, 2.6385, 2.6372, 2.6353, 2.6353, 2.6353, 2.6353, 2.635, 2.6341, 2.6331, 2.6321, 2.6319, 2.6316, 2.6306, 2.6301, 2.6301, 2.63, 2.6293, 2.6283, 2.6277, 2.6273, 2.6273, 2.6272, 2.6271, 2.6265, 2.6258, 2.6257, 2.6247, 2.6242, 2.6242, 2.6236, 2.6235, 2.6217, 2.6188, 2.5794, 2.6109, 2.6133, 2.5149, 2.6106, 2.6155, 2.5894, 2.5094, 2.5285, 2.4524, 2.4701, 2.5798, 2.5046, 2.5661, 2.5653, 2.2324, 2.4416, 2.4232, 2.3341, 2.0514, 2.2114, 2.1781, 1.9891, 1.9016, 2.0866, 2.3651, 2.0919, 2.29, 1.9339, 2.0614, 1.733, 2.4189, 2.4762, 2.1238, 2.16, 1.9499, 1.1701, 1.5829, 1.35, 1.6453, 0.9678, 1.0172, 1.3595, 1.7761, 1.5584, 0.7035, 0.9489, 1.0963, 0.4936, 0.993, 0.2744, 0.5439, 0.7372, 0.292, 0.7273, 0.5707, 0.663, 0.1046, 0.6501, 0.044, 0.7937, 0.3485, 3.1218, 3.1215, 3.1193, 3.1183, 3.118, 3.1177, 3.1159, 3.1159, 3.1156, 3.1153, 3.1153, 3.115, 3.1141, 3.114, 3.1139, 3.1137, 3.1136, 3.1135, 3.1135, 3.1133, 3.1133, 3.1133, 3.1132, 3.1129, 3.1128, 3.1127, 3.1126, 3.1126, 3.1126, 3.1126, 3.1094, 3.1119, 3.1121, 3.1121, 3.112, 3.1119, 3.1119, 3.1119, 3.1119, 3.1121, 3.1118, 3.1101, 3.1089, 3.0882, 3.1013, 3.0757, 3.0719, 3.0048, 3.0559, 3.078, 3.0956, 2.9655, 3.0603, 3.0164, 3.0629, 3.0179, 3.0375, 2.7657, 2.9068, 3.0528, 3.0779, 2.9877, 2.6898, 2.4387, 2.8712, 2.1788, 3.0096, 2.5156, 2.5144, 1.6496, 2.2836, 2.383, 1.9897, 1.2107, 1.6621, 2.4689, 1.4161, 1.5054, 1.6157, 1.6564, 0.1822, 1.7058, 0.8877, 1.4536, 1.5942, 1.0013, 0.2267, 0.1449, 0.4672, -0.0352, 0.2953, 3.095, 3.0947, 3.0941, 3.094, 3.0938, 3.0938, 3.0937, 3.0933, 3.0932, 3.0932, 3.0931, 3.0929, 3.0928, 3.0928, 3.0927, 3.0927, 3.0921, 3.092, 3.092, 3.0919, 3.0916, 3.0916, 3.0916, 3.0915, 3.0913, 3.0912, 3.0912, 3.0909, 3.0909, 3.0908, 3.09, 3.0886, 3.0814, 3.0574, 3.0497, 3.0086, 3.0733, 2.9797, 3.0476, 2.9333, 2.9719, 2.8425, 2.918, 2.773, 2.8436, 2.2356, 2.24, 2.4394, 2.7825, 1.8396, 2.504, 2.0452, 1.188, 1.8381, 1.6017, 1.1498, 2.0622, 2.0601, 1.1711, 0.8525, 1.47, -0.0026, 1.8586, 1.4079, 1.4038, 1.4021, 1.4013, 1.4012, 1.3999, 1.3998, 1.3998, 1.3998, 1.3998, 1.3998, 1.3997, 1.3992, 1.3992, 1.399, 1.3989, 1.3989, 1.3989, 1.3988, 1.3987, 1.3987, 1.3987, 1.3986, 1.3986, 1.3984, 1.3984, 1.3984, 1.3984, 1.3984, 1.3984, 1.3983, 1.3983, 1.3979, 1.3979, 1.3752, 1.387, 1.3842, 1.3174, 1.3693, 1.372, 1.3184, 1.3329, 1.3313, 1.353, 1.3525, 1.3842, 1.3336, 1.3319, 1.2825, 1.3555, 1.3308, 1.1984, 1.2933, 1.3162, 1.2904, 1.3806, 0.9251, 1.2359, 1.1922, 1.2444, 1.1287, 1.1264, 1.2355, 1.2559, 1.2665, 1.1742, 0.9046, 1.0416, 1.015, 0.992, 1.1389, 1.0874, 0.923, 0.9657, 1.1684, 0.6975, 0.938, 1.0206, 1.1391, 0.7365, 0.7796, 0.88, 0.8204, 0.8367, 1.0207, 0.7803, 0.8786, 0.6556, 0.8231, 0.461, 0.4443, 0.5779, 0.4606, 0.7003, 0.6637, 0.4832, 0.5391, 0.5848, 0.6836, 0.2467, 0.2449, 0.5575, 0.2437, 0.3703, 0.4088, 0.375, 0.4181, 0.5195, 0.1471, 0.5506, -0.5504, 2.9883, 2.9878, 2.9859, 2.9855, 2.9842, 2.9834, 2.9831, 2.9828, 2.9828, 2.9828, 2.9828, 2.9828, 2.9828, 2.9828, 2.9828, 2.9828, 2.9828, 2.9828, 2.9828, 2.9828, 2.9828, 2.9828, 2.9828, 2.9828, 2.9826, 2.9825, 2.9825, 2.9824, 2.9821, 2.982, 2.5785, 2.3303, 2.5308, 1.555, 1.762, 1.2019, 0.9802, 1.5169, 1.9456, 0.4409, -0.0256, -0.146, 0.7408, -0.0988, 0.3915, 2.8106, -0.4828, 0.0642, 0.3192, -0.6882, 0.4845, 0.701, -0.1316, 1.0659, 0.0858, -0.4756, 0.0158, -0.0929, -0.394, -0.3921, 0.2266, -0.5736, -0.0798, -0.2564, 2.174, 2.1734, 2.1733, 2.1732, 2.1732, 2.1732, 2.1731, 2.1731, 2.1729, 2.1729, 2.1727, 2.1723, 2.1722, 2.1721, 2.1721, 2.1721, 2.1716, 2.1714, 2.1713, 2.1713, 2.1713, 2.1712, 2.1709, 2.1709, 2.1708, 2.1707, 2.1707, 2.1707, 2.1707, 2.1707, 2.1693, 2.1682, 2.1674, 2.1693, 2.1689, 2.1678, 2.1678, 2.1534, 2.1524, 2.1651, 2.1475, 2.1504, 2.1583, 2.145, 2.0558, 2.1098, 2.0186, 2.0866, 0.7559, 0.882, 1.9723, 1.7681, 1.5865, 0.6591, 0.8987, -0.3987, -0.7362, 0.0672, -1.3791, -0.4059, -0.9553]}, \"token.table\": {\"Topic\": [4, 9, 2, 5, 2, 1, 2, 3, 5, 8, 10, 11, 12, 3, 3, 10, 3, 9, 1, 3, 4, 5, 7, 9, 11, 13, 1, 12, 3, 4, 5, 7, 8, 11, 12, 3, 4, 5, 9, 11, 12, 4, 3, 5, 7, 8, 10, 11, 12, 5, 8, 1, 3, 5, 7, 8, 10, 11, 12, 13, 13, 2, 3, 5, 7, 8, 10, 11, 12, 13, 12, 13, 1, 3, 4, 6, 7, 9, 11, 13, 1, 2, 3, 4, 5, 6, 7, 8, 9, 10, 11, 12, 13, 8, 4, 8, 11, 1, 2, 3, 5, 7, 8, 10, 11, 12, 13, 10, 10, 2, 3, 5, 8, 12, 9, 10, 5, 1, 3, 5, 8, 9, 10, 11, 12, 7, 8, 9, 11, 1, 2, 3, 5, 6, 7, 8, 9, 10, 11, 12, 8, 12, 7, 1, 3, 4, 5, 7, 8, 11, 12, 13, 1, 2, 3, 5, 7, 8, 9, 10, 11, 12, 1, 3, 7, 11, 7, 2, 3, 5, 6, 7, 8, 10, 11, 12, 9, 11, 1, 3, 4, 5, 6, 7, 8, 9, 10, 11, 12, 1, 7, 1, 2, 3, 4, 5, 6, 7, 8, 10, 11, 12, 13, 9, 11, 2, 2, 3, 4, 5, 6, 7, 8, 10, 11, 12, 8, 4, 13, 11, 5, 7, 8, 9, 11, 12, 9, 8, 2, 8, 9, 2, 8, 8, 4, 8, 8, 8, 11, 5, 9, 11, 12, 5, 11, 1, 7, 10, 4, 5, 8, 11, 13, 9, 13, 4, 9, 1, 7, 11, 3, 9, 11, 12, 13, 11, 1, 12, 13, 1, 2, 3, 5, 8, 11, 12, 4, 12, 1, 4, 9, 11, 1, 2, 3, 4, 5, 7, 8, 9, 10, 11, 12, 13, 11, 1, 2, 3, 4, 5, 7, 8, 9, 10, 11, 12, 13, 8, 2, 8, 1, 3, 4, 5, 6, 7, 8, 9, 10, 11, 12, 13, 3, 4, 5, 6, 7, 8, 9, 11, 12, 13, 6, 11, 11, 12, 6, 5, 1, 2, 3, 4, 5, 6, 7, 8, 9, 10, 11, 12, 13, 2, 3, 5, 8, 11, 8, 4, 4, 4, 7, 9, 11, 1, 2, 3, 4, 5, 7, 9, 10, 11, 12, 13, 5, 8, 1, 3, 4, 5, 6, 7, 8, 9, 11, 12, 13, 1, 2, 3, 4, 5, 7, 8, 9, 10, 11, 12, 13, 6, 1, 2, 3, 5, 7, 8, 10, 11, 12, 13, 1, 2, 3, 4, 5, 7, 8, 9, 10, 11, 12, 13, 3, 4, 5, 7, 8, 10, 11, 12, 13, 5, 3, 4, 5, 7, 8, 9, 10, 11, 12, 1, 1, 2, 3, 4, 5, 6, 7, 8, 9, 10, 11, 12, 13, 6, 2, 11, 13, 1, 2, 3, 4, 5, 6, 7, 8, 9, 10, 11, 12, 13, 1, 12, 1, 2, 3, 4, 5, 6, 7, 8, 9, 10, 11, 12, 13, 12, 9, 11, 9, 11, 3, 7, 4, 1, 2, 3, 5, 6, 7, 8, 9, 10, 11, 12, 13, 2, 3, 7, 8, 12, 1, 2, 3, 10, 12, 3, 10, 3, 5, 8, 10, 11, 12, 8, 7, 2, 10, 3, 5, 8, 11, 13, 2, 2, 5, 8, 9, 10, 11, 8, 12, 2, 3, 5, 7, 8, 9, 10, 11, 12, 13, 4, 6, 1, 2, 3, 4, 5, 6, 7, 8, 9, 10, 11, 12, 13, 1, 1, 3, 5, 8, 11, 12, 3, 5, 11, 5, 5, 5, 11, 5, 1, 1, 2, 3, 4, 5, 7, 8, 9, 10, 11, 12, 13, 1, 2, 3, 7, 10, 11, 12, 13, 1, 2, 3, 4, 5, 6, 7, 8, 9, 11, 12, 13, 1, 1, 3, 4, 5, 7, 8, 9, 11, 12, 13, 1, 2, 3, 5, 7, 8, 10, 11, 12, 13, 1, 2, 3, 5, 6, 7, 9, 11, 12, 13, 11, 9, 11, 5, 3, 11, 12, 13, 10, 1, 2, 3, 4, 5, 7, 8, 10, 11, 12, 13, 1, 2, 3, 5, 7, 8, 10, 11, 12, 10, 11, 3, 12, 1, 2, 3, 5, 7, 8, 10, 11, 12, 4, 1, 2, 3, 4, 5, 6, 7, 8, 9, 10, 11, 12, 13, 10, 4, 6, 3, 5, 7, 11, 1, 3, 4, 5, 7, 8, 9, 10, 11, 12, 13, 5, 9, 12, 8, 3, 10, 4, 1, 4, 13, 5, 1, 2, 3, 4, 5, 7, 8, 9, 10, 11, 12, 1, 2, 3, 4, 5, 7, 8, 9, 10, 11, 12, 4, 2, 3, 5, 8, 12, 4, 5, 7, 9, 11, 12, 2, 7, 1, 2, 3, 4, 5, 6, 7, 8, 9, 10, 11, 12, 13, 1, 3, 10, 11, 3, 5, 7, 12, 4, 5, 7, 9, 11, 12, 13, 2, 7, 4, 8, 7, 8, 1, 3, 5, 7, 9, 11, 12, 13, 5, 2, 3, 5, 8, 10, 11, 1, 2, 3, 4, 5, 6, 7, 8, 9, 10, 11, 12, 13, 11, 12, 2, 3, 5, 6, 8, 10, 11, 12, 2, 10, 2, 3, 1, 3, 5, 7, 8, 11, 12, 13, 10, 1, 2, 3, 4, 5, 6, 7, 8, 9, 10, 11, 12, 1, 2, 3, 4, 5, 7, 8, 9, 10, 11, 12, 13, 9, 11, 2, 5, 7, 11, 12, 1, 2, 3, 4, 5, 6, 7, 8, 9, 10, 11, 12, 13, 6, 6, 1, 2, 3, 4, 5, 6, 7, 8, 9, 10, 11, 12, 13, 1, 12, 1, 12, 9, 9, 9, 1, 2, 3, 4, 5, 6, 7, 8, 9, 10, 11, 12, 13, 9, 1, 3, 4, 5, 7, 8, 9, 11, 12, 13, 1, 3, 4, 5, 7, 8, 9, 10, 11, 12, 6, 1, 2, 3, 5, 7, 8, 10, 11, 12, 13, 1, 2, 3, 4, 5, 6, 7, 8, 9, 10, 11, 12, 13, 1, 2, 3, 4, 5, 6, 7, 8, 9, 10, 11, 12, 13, 6, 6, 6, 9, 2, 5, 9, 11, 1, 2, 3, 4, 5, 6, 7, 8, 9, 10, 11, 12, 13, 1, 2, 3, 4, 5, 7, 8, 9, 10, 11, 12, 4, 2, 12, 13, 11, 1, 2, 3, 5, 6, 7, 8, 10, 11, 12, 1, 2, 5, 6, 8, 11, 12, 1, 2, 3, 5, 7, 8, 9, 10, 11, 12, 13, 2, 1, 3, 4, 5, 7, 8, 9, 11, 12, 3, 3, 5, 8, 11, 12, 12, 12, 3, 5, 8, 10, 11, 12, 5, 8, 12, 1, 3, 4, 5, 7, 8, 9, 10, 11, 12, 13, 12, 3, 1, 3, 5, 8, 10, 11, 12, 3, 5, 7, 8, 9, 10, 11, 13, 5, 8, 11, 12, 5, 8, 8, 4, 9, 11, 1, 2, 3, 4, 5, 6, 7, 8, 9, 10, 11, 12, 13, 10, 5, 1, 12, 1, 1, 2, 3, 4, 5, 7, 8, 9, 10, 11, 12, 13, 4, 1, 2, 3, 5, 7, 8, 10, 11, 12, 1, 2, 3, 7, 8, 10, 11, 12, 1, 3, 1, 2, 3, 4, 5, 6, 7, 8, 9, 10, 11, 12, 13, 1, 2, 3, 4, 5, 6, 7, 8, 9, 10, 11, 12, 13, 5, 12, 1, 12, 4, 6, 9, 11, 11, 11, 11, 1, 6, 8, 9, 11, 11, 1, 2, 3, 4, 5, 6, 7, 8, 9, 10, 11, 12, 13, 1, 2, 3, 5, 7, 8, 10, 11, 12, 13, 3, 12, 4, 1, 12, 7, 11, 1, 2, 3, 4, 5, 6, 7, 8, 9, 10, 11, 12, 13, 2, 5, 8, 11, 1, 2, 3, 4, 5, 6, 7, 8, 9, 10, 11, 12, 13, 1, 3, 7, 10, 6, 1, 2, 3, 4, 5, 6, 7, 8, 9, 10, 11, 12, 13, 8, 2, 2, 1, 3, 12, 12, 11, 13, 1, 2, 3, 4, 5, 6, 7, 8, 9, 10, 11, 12, 13, 1, 2, 3, 4, 7, 10, 11, 12, 1, 2, 3, 4, 5, 6, 7, 8, 9, 10, 11, 12, 13, 7, 6, 5, 6, 11, 3, 3, 2, 1, 2, 3, 4, 5, 6, 7, 8, 9, 10, 11, 12, 1, 2, 3, 5, 7, 8, 9, 10, 11, 12, 13, 9, 11, 3, 1, 2, 3, 4, 5, 7, 8, 10, 11, 12, 9, 11, 11, 1, 2, 3, 4, 5, 7, 8, 10, 11, 12, 13, 7, 1, 2, 3, 5, 7, 8, 10, 11, 12, 2, 3, 5, 7, 8, 10, 11, 12, 10, 12, 5, 8, 10, 3, 5, 1, 3, 5, 7, 11, 12, 13, 1, 2, 3, 5, 7, 8, 10, 11, 12, 13, 1, 3, 4, 5, 6, 7, 9, 10, 11, 12, 1, 2, 3, 5, 6, 7, 8, 10, 11, 12, 2, 3, 3, 1, 2, 3, 7, 8, 10, 11, 12, 1, 3, 4, 5, 8, 11, 12, 3, 5, 8, 11, 12, 7, 6, 9, 7, 9, 10, 11, 4, 7, 9, 11, 11, 5, 6, 9, 11, 1, 2, 3, 4, 5, 7, 8, 9, 10, 11, 12, 13, 7, 6, 4, 5, 6, 8, 11, 12, 4, 9, 11, 1, 2, 3, 4, 5, 6, 7, 8, 9, 10, 11, 12, 13, 1, 2, 3, 5, 8, 9, 10, 11, 12, 3, 7, 10, 4, 6, 10, 11, 12, 13, 12, 1, 2, 3, 4, 5, 7, 8, 9, 10, 11, 12, 13, 1, 2, 3, 4, 5, 7, 8, 9, 10, 11, 12, 13, 3, 5, 1, 2, 3, 4, 5, 7, 8, 9, 10, 11, 12, 13, 1, 2, 3, 4, 5, 6, 7, 8, 9, 11, 12, 13, 11, 12, 13, 13, 9, 1, 2, 3, 4, 5, 7, 8, 9, 10, 11, 12, 13, 4, 1, 2, 3, 4, 5, 6, 7, 8, 9, 10, 11, 12, 1, 2, 3, 4, 5, 8, 9, 11, 12, 7, 2, 3, 5, 8, 10, 11, 12, 2, 4, 1, 2, 3, 5, 8, 10, 11, 12, 13, 13, 1, 2, 3, 4, 5, 6, 7, 8, 9, 10, 11, 12, 13, 3, 1, 3, 4, 5, 6, 7, 8, 9, 10, 11, 12, 13, 8, 10, 5, 8, 9, 3, 3, 9, 11, 12, 9, 11, 1, 2, 3, 4, 5, 6, 7, 8, 9, 10, 11, 12, 13, 1, 2, 3, 4, 5, 6, 7, 8, 9, 10, 11, 12, 13, 1, 2, 3, 4, 5, 7, 8, 9, 10, 11, 12, 1, 2, 3, 5, 6, 7, 8, 10, 11, 12, 3, 10, 1, 2, 3, 5, 7, 8, 10, 11, 12, 13, 3, 2, 3, 12, 2, 3, 12, 1, 12, 4, 12, 11, 6, 9, 11, 6, 9, 11, 2, 4, 1, 12, 1, 3, 8, 10, 12, 10, 9, 11, 5, 7, 11, 9, 3, 7, 8, 11, 2, 2, 1, 2, 3, 4, 5, 6, 7, 8, 9, 10, 11, 12, 13, 9, 9, 9, 11, 12, 1, 2, 3, 4, 5, 7, 8, 9, 10, 11, 12, 5, 3, 4, 9, 13, 1, 3, 4, 5, 6, 7, 8, 11, 12, 4, 7, 8, 11, 12, 13, 6, 1, 2, 3, 4, 5, 6, 7, 8, 9, 10, 11, 12, 13, 1, 2, 3, 4, 5, 7, 8, 9, 10, 11, 12, 13, 4, 5, 8, 5, 5, 8, 11, 12, 3, 5, 7, 8, 10, 11, 13, 1, 2, 3, 4, 5, 7, 8, 9, 10, 11, 12, 13, 2, 5, 2, 8, 4, 13, 2, 7, 1, 11, 12, 13, 1, 12, 8, 3, 4, 5, 7, 8, 10, 11, 12, 4, 9, 11, 1, 3, 4, 5, 8, 11, 12, 1, 2, 3, 4, 5, 6, 7, 8, 9, 10, 11, 12, 7, 13, 7, 1, 2, 3, 4, 5, 7, 8, 10, 11, 12, 13, 13, 13, 13, 13, 11, 9, 11, 1, 2, 3, 4, 5, 7, 8, 9, 10, 11, 12, 13, 3, 1, 2, 3, 4, 5, 7, 8, 10, 11, 12, 13, 3, 12, 8, 2, 3, 5, 7, 8, 10, 11, 12, 13, 13, 3, 13, 12, 10, 10, 13, 13, 1, 2, 3, 4, 5, 7, 8, 11, 12, 13, 9, 11, 1, 7, 1, 2, 3, 4, 5, 7, 8, 9, 10, 11, 12, 13, 2, 2, 3, 5, 8, 11, 12, 1, 3, 4, 5, 7, 8, 9, 10, 11, 12, 13, 1, 12, 1, 3, 5, 7, 8, 10, 11, 12, 1, 2, 3, 4, 5, 6, 7, 8, 9, 10, 11, 12, 13, 4, 4, 1, 12, 2, 4, 7, 11, 12, 13, 13, 11, 9, 3, 4, 5, 7, 8, 9, 11, 12, 13, 8, 11, 4, 1, 2, 3, 4, 5, 6, 7, 8, 9, 10, 11, 12, 13, 1, 2, 3, 5, 7, 8, 10, 11, 12, 13, 6, 3, 4, 5, 7, 8, 9, 11, 12, 13, 3, 5, 7, 11, 12, 5, 4, 5, 1, 2, 3, 7, 8, 10, 11, 12, 10, 1, 2, 3, 4, 5, 6, 7, 8, 9, 11, 12, 1, 2, 3, 5, 7, 8, 10, 11, 12, 13, 1, 2, 3, 4, 5, 6, 7, 8, 9, 10, 11, 12, 13, 10, 9, 11, 7, 1, 2, 3, 4, 5, 7, 8, 10, 11, 12, 13, 8, 1, 2, 3, 5, 6, 7, 8, 9, 10, 11, 12, 13, 2, 3, 2, 10, 3, 10, 9, 11, 3, 8, 10, 12, 2, 3, 4, 5, 7, 8, 10, 11, 12, 5, 2, 3, 5, 8, 10, 11, 12, 13, 2, 3, 4, 5, 8, 10, 11, 12, 13, 1, 2, 3, 4, 5, 7, 8, 10, 11, 12, 4, 4, 9, 1, 3, 5, 7, 8, 11, 12, 1, 1, 2, 3, 4, 5, 7, 8, 9, 10, 11, 12, 13, 13, 13, 2, 5, 1, 3, 4, 5, 7, 8, 9, 10, 11, 12, 10, 3, 8, 1, 3, 4, 5, 6, 7, 8, 9, 10, 11, 12, 13, 1, 1, 1, 6, 10, 4, 5, 7, 9, 11, 12, 10, 1, 2, 3, 5, 7, 8, 10, 11, 12, 3, 2, 3, 5, 7, 8, 11, 12, 3, 4, 5, 7, 8, 9, 10, 11, 12, 2, 3, 5, 8, 10, 11, 12, 1, 3, 4, 5, 6, 7, 8, 9, 11, 12, 13, 1, 2, 3, 4, 5, 7, 8, 9, 10, 11, 12, 13, 8, 11, 1, 2, 3, 4, 5, 6, 7, 8, 9, 10, 11, 12, 13, 4, 10, 5, 3, 5, 8, 11, 12, 2, 8, 10, 5, 7, 7, 1, 2, 3, 4, 5, 6, 7, 8, 9, 10, 11, 12, 13, 2, 2, 3, 10, 3, 5, 7, 8, 11, 12, 6, 6, 6, 6, 6, 4, 6, 4, 1, 2, 3, 4, 5, 6, 7, 8, 9, 10, 11, 12, 13, 1, 7, 1, 7, 10, 3, 4, 5, 7, 8, 9, 10, 11, 12, 13, 4, 5, 7, 11, 1, 2, 3, 5, 7, 8, 10, 11, 12, 3, 12, 3, 5, 7, 11, 1, 2, 3, 4, 5, 6, 7, 8, 9, 10, 11, 12, 13, 13, 1, 13, 1, 2, 3, 4, 5, 7, 8, 10, 11, 12, 8, 9, 11, 11, 7, 4, 3, 5, 7, 10, 11, 12, 12, 8, 1, 1, 3, 7, 9, 11, 12, 7, 11, 1, 11, 2, 13, 1, 2, 3, 5, 7, 8, 9, 10, 11, 12, 8, 12, 1, 2, 3, 4, 5, 6, 7, 8, 9, 11, 12, 13, 3, 11, 1, 2, 3, 4, 5, 6, 8, 9, 10, 11, 12, 13, 7, 11, 7, 1, 2, 3, 7, 8, 10, 11, 12, 1, 2, 3, 4, 5, 6, 7, 8, 9, 10, 11, 12, 13, 3, 1, 2, 3, 5, 7, 8, 9, 10, 11, 12, 10, 13, 1, 3, 1, 2, 3, 5, 7, 8, 9, 10, 11, 12, 13, 9, 10, 1, 2, 3, 4, 5, 6, 7, 8, 9, 10, 11, 12, 13, 4, 5, 11, 12, 1, 2, 3, 4, 5, 6, 7, 8, 9, 10, 11, 12, 13, 1, 2, 3, 7, 8, 10, 11, 12, 10, 9, 2, 3, 4, 5, 6, 7, 8, 9, 10, 11, 12, 1, 2, 3, 4, 5, 6, 7, 8, 9, 10, 11, 12, 13, 1, 2, 3, 4, 5, 6, 7, 8, 9, 10, 11, 12, 13, 1, 2, 3, 5, 6, 7, 8, 9, 10, 11, 12, 13, 3, 6, 3, 4, 5, 6, 8, 11, 12, 1, 3, 4, 5, 7, 8, 9, 10, 11, 12, 3, 9, 11, 1, 12, 8, 1, 3, 4, 5, 7, 8, 9, 10, 11, 12, 2, 1, 12, 10, 1, 5, 7, 9, 11, 1, 2, 3, 5, 6, 7, 8, 10, 11, 12, 13, 13, 1, 2, 3, 4, 5, 6, 7, 8, 9, 11, 12, 13, 2, 5, 7, 8, 10, 11, 12, 12, 1, 3, 4, 5, 7, 8, 9, 10, 11, 12, 5, 1, 2, 3, 5, 7, 8, 9, 10, 11, 12, 13, 7, 11, 1, 3, 7, 8, 10, 11, 12, 3, 4, 5, 6, 7, 8, 9, 10, 11, 12, 13, 7, 11, 13, 13, 12, 12, 1, 3, 5, 7, 8, 11, 12, 13, 1, 12, 1, 1, 2, 3, 5, 6, 7, 8, 9, 10, 11, 12, 13, 1, 3, 4, 5, 6, 7, 8, 9, 10, 11, 12, 13, 1, 2, 3, 5, 7, 8, 9, 10, 11, 12, 13, 10, 3, 11, 3, 7, 1, 2, 3, 4, 5, 7, 8, 9, 10, 11, 12, 13, 1, 2, 3, 4, 5, 7, 8, 9, 10, 11, 12, 13, 1, 2, 3, 5, 7, 8, 10, 11, 12, 3, 4, 5, 6, 9, 11, 12, 13, 4, 7, 9, 11, 7, 9, 11, 1, 2, 3, 4, 5, 7, 8, 10, 11, 12, 13, 1, 1, 2, 3, 4, 5, 6, 7, 8, 9, 10, 11, 12, 13, 1, 3, 7, 8, 11, 12, 13, 8, 10, 5, 11, 1, 3, 5, 8, 10, 11, 10, 2, 3, 5, 7, 8, 11, 2, 3, 5, 8, 9, 10, 11, 12, 12, 9, 11, 1, 3, 4, 5, 6, 7, 8, 9, 10, 11, 12, 13, 1, 3, 4, 5, 6, 7, 8, 9, 11, 12, 13, 1, 2, 3, 4, 5, 7, 8, 9, 10, 11, 12, 7, 10, 5, 13, 11, 1, 12, 1, 2, 3, 5, 7, 8, 9, 10, 11, 12, 5, 1, 3, 4, 5, 6, 7, 8, 9, 10, 11, 12, 13, 12, 3, 5, 7, 8, 11, 12, 1, 2, 3, 4, 5, 6, 7, 8, 9, 10, 11, 12, 13, 3, 5, 7, 7, 6, 13, 2, 3, 5, 6, 7, 8, 10, 11, 12, 1, 2, 3, 4, 5, 6, 7, 8, 9, 10, 11, 12, 13, 3, 8, 9, 11, 12, 3, 9, 11, 1, 10, 1, 1, 2, 3, 4, 5, 6, 7, 8, 9, 10, 11, 12, 13, 1, 3, 5, 7, 8, 10, 11, 12, 13, 2, 11, 4, 6, 9, 11, 3, 9, 11, 5, 8, 1, 2, 3, 4, 5, 7, 8, 9, 10, 11, 12, 13, 2, 3, 4, 5, 7, 8, 9, 10, 11, 12, 13, 11, 7, 11, 1, 2, 3, 4, 5, 7, 8, 9, 11, 12, 13, 5, 13, 5, 13, 6, 9, 11, 3, 5, 7, 9, 11, 13, 1, 2, 3, 4, 5, 6, 7, 8, 10, 11, 12, 13, 12, 8, 8, 11, 1, 2, 3, 4, 5, 6, 7, 8, 9, 10, 11, 12, 13, 8, 11, 8, 1, 3, 5, 6, 7, 8, 9, 10, 11, 12, 2, 5, 2, 9, 11, 3, 7, 11, 12, 2, 3, 5, 7, 10, 11, 1, 2, 3, 5, 7, 8, 10, 11, 12, 13, 3, 5, 8, 11, 12, 12, 1, 2, 3, 4, 5, 6, 7, 8, 9, 10, 11, 12, 13, 5, 8, 5, 8, 5, 13, 4, 13, 12, 12, 1, 2, 3, 4, 5, 6, 7, 8, 9, 10, 11, 12, 13, 5, 7, 9, 11, 1, 2, 3, 4, 5, 6, 7, 8, 9, 10, 11, 12, 13, 2, 3, 5, 7, 11, 12, 5, 1, 2, 3, 4, 5, 6, 7, 8, 9, 10, 11, 12, 13, 1, 3, 5, 7, 8, 9, 11, 12, 13, 6, 11, 13, 11, 1, 2, 3, 4, 5, 7, 8, 9, 10, 11, 12, 13, 12, 1, 2, 3, 5, 6, 7, 8, 10, 11, 12, 13, 1, 2, 3, 4, 5, 6, 7, 8, 9, 10, 11, 12, 13, 2, 1, 2, 3, 4, 5, 6, 7, 8, 9, 10, 11, 12, 13, 7, 6, 6, 1, 3, 5, 7, 8, 9, 10, 11, 12, 1, 4, 7, 11, 13, 1, 2, 3, 4, 5, 7, 9, 10, 11, 12, 13, 1, 2, 3, 4, 5, 6, 7, 8, 9, 10, 11, 12, 13, 1, 2, 3, 4, 5, 6, 7, 8, 9, 10, 11, 12, 13, 7, 5, 9, 11, 1, 1, 11, 13, 1, 2, 3, 4, 5, 6, 7, 8, 9, 10, 11, 12, 13], \"Freq\": [0.996329480253972, 0.0017887423343877415, 0.9756669754313632, 0.020146515716871805, 0.9973703329723252, 0.0016911055488401082, 0.0016911055488401082, 0.2748046516865176, 0.01860216103724119, 0.022829924909341458, 0.5529915144707154, 0.10400299125366665, 0.021984372134921406, 0.9915019329335946, 0.9915019862722251, 0.9993235704318941, 0.9937514064286596, 0.9941268497912, 0.0009516305635227919, 0.006661413944659543, 0.026645655778638172, 0.03425870028682051, 0.012371197325796295, 0.5433810517715142, 0.33497395836002275, 0.039016853104434465, 0.8938200029888677, 0.1016667301977859, 0.05442788086394892, 0.18164485541341988, 0.12262667134407769, 0.5219830502132933, 0.004590303205393282, 0.11213454973175017, 0.0019672728023114065, 0.01378060636112453, 0.006890303180562265, 0.24718962660267127, 0.47715349525393685, 0.22135098967556277, 0.03359022800524104, 0.9985778252130751, 0.15675984725201536, 0.06839032551681062, 0.5448173122631318, 0.004610583742706334, 0.003842153118921945, 0.21054999091692259, 0.010758028732981446, 0.9967482965852307, 0.9884686815387395, 0.021966742554226558, 0.03138106079175223, 0.02071150012255647, 0.03451916687092745, 0.10606798547612252, 0.001255242431670089, 0.7512625953545483, 0.0006276212158350445, 0.03200868200758727, 0.995535851413056, 0.0022215628728276056, 0.8230890443826279, 0.08553017060386281, 0.0022215628728276056, 0.015550940109793238, 0.003332344309241408, 0.03221266165600028, 0.029991098783172673, 0.004443125745655211, 0.9940224943104197, 0.9969243068849349, 0.007186365473645695, 0.01437273094729139, 0.011977275789409492, 0.004790910315763797, 0.009581820631527594, 0.009581820631527594, 0.8551774913638377, 0.08623638568374833, 0.0022895184747404925, 0.006868555424221478, 0.21605824343208965, 0.008917071954252445, 0.19099404118229898, 0.0013255106959023906, 0.019762159466181095, 0.14869819988577726, 0.0008435068064833395, 0.004579036949480985, 0.35451386066771207, 0.038921814070588374, 0.006266050562447664, 0.9892737658859645, 0.9980986910177196, 0.9767860833597289, 0.010503076165158375, 0.0012004927778720186, 0.019808130834888305, 0.6908835936653467, 0.027611333891056425, 0.028811826668928446, 0.028811826668928446, 0.0030012319446800465, 0.052821682226368814, 0.03601478333616056, 0.11104558195316172, 0.9980781347592534, 0.9986594387082237, 0.006402873838660184, 0.003201436919330092, 0.20169052591779577, 0.7347297729862561, 0.054424427628611556, 0.9926030483793613, 0.9943972727791227, 0.9967362046057354, 0.0008930727743896764, 0.08007885877027432, 0.24172503093480574, 0.4763054796744941, 0.0035722910975587055, 0.0008930727743896764, 0.1306863159856893, 0.06549200345524293, 0.9987767246548677, 0.2337661822065522, 0.003596402803177726, 0.7612385933392853, 0.004612353556952985, 0.0007687255928254975, 0.08994089436058321, 0.029211572527368904, 0.008071618724667723, 0.004612353556952985, 0.6630258238119916, 0.003843627964127487, 0.10608413180991864, 0.048814075144419086, 0.04074245641975137, 0.9913112929135888, 0.9939065529194477, 0.9978532374236098, 0.3383741215717012, 0.08067197600384929, 0.002240888222329147, 0.08627419655967217, 0.002240888222329147, 0.01568621755630403, 0.34621723034985324, 0.02913154689027891, 0.09859908178248247, 0.007496085569458044, 0.22603581101750408, 0.2877343614738126, 0.12887500959799023, 0.000288310983440694, 0.08245694126403848, 0.025371366542781073, 0.017586969989882333, 0.19835795660719746, 0.025659677526221766, 0.0014461213688929438, 0.0036153034222323596, 0.4721586269435462, 0.5220498141703528, 0.9987466769976727, 0.406092494652049, 0.14499177262825647, 0.12304082697138896, 0.0028882823232720413, 0.006354221111198491, 0.021373289192213107, 0.04967845596027911, 0.20680101434627815, 0.03928063959649976, 0.9928131604998393, 0.005897899963365382, 0.028293705276885007, 0.13045341974991256, 0.0012958948981779393, 0.234556976570207, 0.0025917897963558785, 0.02915763520900363, 0.27451373593069345, 0.00043196496605931307, 0.0412526542586644, 0.12332599780993389, 0.13390913947838706, 0.9931985844783764, 0.9959704640859084, 0.0014748375295594676, 0.04694899469097638, 0.4508086715353439, 0.0004916125098531558, 0.1558411656234504, 0.0009832250197063116, 0.006145156373164448, 0.08111606412577071, 0.05186511978950794, 0.15854503442764276, 0.04498254465156376, 0.0004916125098531558, 0.9900319947923315, 0.005266127631874103, 0.9972569932349593, 0.003954749105678449, 0.07711760756072976, 0.011864247317035347, 0.029660618292588366, 0.005932123658517674, 0.03163799284542759, 0.7019679662579247, 0.003954749105678449, 0.0889818548777651, 0.043502240162462937, 0.9766745228739296, 0.9973351529019642, 0.9963034429884392, 0.9875281159341687, 0.015152579882277925, 0.0023311661357350655, 0.06993498407205195, 0.8543723887469015, 0.011655830678675327, 0.04662332271470131, 0.991913012473896, 0.9837002417388135, 0.011409725607369288, 0.9698266766263894, 0.9973586077076949, 0.9539611542391397, 0.04437028624368092, 0.9942194084656326, 0.9976585869139221, 0.99108737375101, 0.9914046705044364, 0.9934002285104273, 0.98513859225678, 0.009457921172132762, 0.9647079595575417, 0.02269901081311863, 0.0018915842344265524, 0.02036788331962241, 0.9674744576820645, 0.8206029108812121, 0.16073665264683534, 0.0169196476470353, 0.003931487202701107, 0.0019657436013505534, 0.003931487202701107, 0.015725948810804427, 0.9740259544691993, 0.0023194254097817853, 0.9950335007963859, 0.9888600647031174, 0.008892626481143142, 0.05469350769482002, 0.931123618804497, 0.014673867918122445, 0.9915020225260992, 0.9841248554016381, 0.005721656136056036, 0.005721656136056036, 0.9968575772183044, 0.9963850559071206, 0.8938201791577083, 0.10166675023594786, 0.9984105109004424, 0.0007065624848178354, 0.0021196874544535064, 0.12011562241903202, 0.7327052967560953, 0.03532812424089177, 0.056524998785426835, 0.05228562387651982, 0.9922359093022057, 0.007037134108526281, 0.001740864697809213, 0.9679207719819224, 0.02959469986275662, 0.9851385551936523, 0.00407758549731671, 0.004566895756994716, 0.7277674595610865, 0.0001631034198926684, 0.030989649779606998, 0.008644481254311425, 0.026912064282290288, 0.0017941376188193524, 0.02038792748658355, 0.14026894110769483, 0.025281030083363604, 0.009459998353774767, 0.9800693092055244, 0.025086055148013514, 0.0025086055148013514, 0.26323633868648844, 0.0023413651471479277, 0.04314801485458324, 0.013880950515234143, 0.19199194206613007, 0.0025086055148013514, 0.2848103461137801, 0.15620250338829747, 0.013880950515234143, 0.00033448073530684683, 0.9959339865802438, 0.01248657170818031, 0.9739525932380642, 0.0287253118730263, 0.09948029059184897, 0.006047434078531853, 0.11777377867940783, 0.00015118585196329632, 0.04656524240469526, 0.03114428550443904, 0.04339033951346604, 0.0013606726676696668, 0.5312670837990232, 0.03235377232014541, 0.0615326417490616, 0.015910226008101144, 0.017584986640532846, 0.04438115675944004, 0.0008373803162158498, 0.0008373803162158498, 0.5761176575565047, 0.06866518592969968, 0.13063132932967256, 0.07117732687834723, 0.07368946782699479, 0.9968963032775809, 0.9800652355106941, 0.9851385414706835, 0.9879019800864235, 0.9980705803577159, 0.9983652965104021, 0.004460229343665513, 0.00026236643198032433, 0.0766109981382547, 0.0020989314558425946, 0.09287771692103482, 0.008395725823370379, 0.045914125596556755, 0.106783137815992, 0.004460229343665513, 0.0005247328639606487, 0.5549050036383859, 0.03200870470159957, 0.07083893663468757, 0.0034536651743600983, 0.0069073303487201965, 0.02417565622052069, 0.9393969274259468, 0.02072199104616059, 0.9904792947212573, 0.9964297455194882, 0.9973703100891826, 0.00887335602180151, 0.004436678010900755, 0.9716324843872652, 0.013310034032702263, 0.0003684030240267602, 0.013262508864963366, 0.0014736120961070407, 0.01731494212925773, 0.0758910229495126, 0.015104523985097167, 0.2424091898096082, 0.001842015120133801, 0.5831819870343614, 0.012894105840936606, 0.0361034963546225, 0.015427816330590375, 0.9822376397142538, 0.00683469965204632, 0.09696730131340717, 0.0021358436412644752, 0.05766777831414083, 0.00085433745650579, 0.07005567143347478, 0.006407530923793425, 0.003844518554276055, 0.6903046648566783, 0.02221277386915054, 0.043144041553542394, 0.0039580253231711535, 0.021589229035479017, 0.04461774000665664, 0.0021589229035479016, 0.07556230162417656, 0.029865100165745975, 0.019790126615855767, 0.21661193132263948, 0.0007196409678493006, 0.505187959430209, 0.0636882256546631, 0.015832101292684614, 0.9978844005347128, 0.07149365622907389, 0.016583580053135698, 0.13561683243453193, 0.10355524433180291, 0.00036852400118079327, 0.20600491666006343, 0.03169306410154822, 0.1588338445089219, 0.23806650476279245, 0.03722092411926012, 0.010913422666631142, 0.04889213354650751, 0.17177727277277416, 0.2575567749324949, 0.04911040199984013, 0.025319140586584247, 0.04409022757318981, 0.0008730738133304913, 0.0019644160799936056, 0.3162709888789705, 0.006766322053311308, 0.06635360981311733, 0.7443848639103983, 0.002388400632867588, 0.054933214555954527, 0.010349736075759548, 0.05732161518882211, 0.004776801265735176, 0.060506149365978895, 0.028660807594411055, 0.03502987594872462, 0.9971229741332673, 0.05763916730555286, 0.009100921153508346, 0.07280736922806677, 0.5126852249809701, 0.044746195671416036, 0.015168201922513912, 0.0030336403845027823, 0.2745444547975018, 0.010617741345759737, 0.993198485576648, 0.0002741736626758093, 0.008499383542950089, 0.29034990877368205, 0.08828391938161059, 0.0940415662978026, 0.2089203309589667, 0.003564257614785521, 0.0797845358386605, 0.0008225209880274279, 0.022482240339416364, 0.12584571116819646, 0.044141959690805296, 0.033175013183772924, 0.9997146712600111, 0.009550288229587207, 0.003820115291834883, 0.9836796876474824, 0.009798296490937752, 0.001481137841653381, 0.12487131341939274, 0.012874505854371696, 0.11005993500285893, 0.0031901430435611285, 0.016634317298568742, 0.1967634655796453, 0.022217067624800715, 0.0026204746429252124, 0.4177948050263806, 0.02791375163115987, 0.053890630700157635, 0.8938199411819806, 0.10166672316761864, 0.03370462528050811, 0.0029899264361741068, 0.10899640917325608, 0.00489260689555763, 0.1002984413589314, 0.0010872459767905843, 0.01658050114605641, 0.01032883677951055, 0.2318552045505921, 0.024734845971985792, 0.3952139125633774, 0.05273142987434334, 0.016308689651858763, 0.988573417396272, 0.9875415210201273, 0.0058782233394055194, 0.9875439609099032, 0.005878237862558948, 0.9966523658418315, 0.9978751316794175, 0.996261351998177, 0.010132194730847213, 0.00984877669641792, 0.6150879892201724, 0.022531733737128766, 0.0003542725430366158, 0.005314088145549237, 0.07900277709716533, 0.0012045266463244937, 0.14844019553234203, 0.09352795136166658, 0.011124157851349736, 0.003542725430366158, 0.9586415603191382, 0.011179493414800444, 0.008384620061100334, 0.016769240122200667, 0.002794873353700111, 0.9931985162497236, 0.8024276192300023, 0.18731019353783915, 0.0046249430503170165, 0.0023124715251585082, 0.0009004738191452557, 0.9986254654320886, 0.08887384672719716, 0.25854209957002805, 0.5000276022934224, 0.0017954312470140838, 0.07361268112757743, 0.07630582799809857, 0.9949617530433086, 0.9978762842890795, 0.9972076931573616, 0.9944716693187615, 0.02908275171480256, 0.8979299591945291, 0.00545301594652548, 0.06543619135830576, 0.00181767198217516, 0.9966630599981299, 0.0013940369055888127, 0.327598672813371, 0.595253758686423, 0.012546332150299315, 0.037638996450897945, 0.02509266430059863, 0.9910874061138518, 0.987901862916694, 0.03967700231473192, 0.28960820492975264, 0.3682839702034091, 0.0003391196779036916, 0.05392002878668696, 0.010512710015014439, 0.004069436134844299, 0.14276938439745415, 0.06375449944589402, 0.02712957423229533, 0.9953716816308544, 0.9989534267337444, 0.004110779731233939, 0.0009787570788652236, 0.3856302890728981, 0.041890802975431574, 0.06753423844170042, 0.0007830056630921789, 0.03738852041265154, 0.03523525483914805, 0.01859638449843925, 0.006068293888964386, 0.3253388530148003, 0.029166960950183663, 0.046980339785530734, 0.9931985167473426, 0.007494516539364412, 0.0024981721797881374, 0.14239581424792383, 0.816902302790721, 0.00999268871915255, 0.0199853774383051, 0.0062643524238096574, 0.9936617398740237, 0.00016930682226512587, 0.9996269566186561, 0.9961109001261764, 0.9959604577273112, 0.9827070649365691, 0.9973463673036449, 0.993198541287182, 0.00519991810835232, 0.008757756814067064, 0.271490461236079, 0.0005473598008791915, 0.01039983621670464, 0.04707294287561047, 0.0057472779092315116, 0.0057472779092315116, 0.001094719601758383, 0.5873170663433726, 0.04406246397077492, 0.012589275420221405, 0.013583103552049036, 0.0038808867291568673, 0.02716620710409807, 0.005821330093735301, 0.005821330093735301, 0.846033306956197, 0.0019404433645784337, 0.09314128149976482, 0.0012014999575570766, 0.0012014999575570766, 0.12195224569204327, 0.006608249766563921, 0.17061299397310487, 0.0006007499787785383, 0.01742174938457761, 0.04565699838716891, 0.0018022499363356149, 0.33702073809475996, 0.29256523966514814, 0.002402999915114153, 0.9931985270397756, 0.01405361908065236, 0.04294161385754888, 0.0015615132311835955, 0.011711349233876968, 0.05777598955379304, 0.0015615132311835955, 0.09447155048660753, 0.7229806260380047, 0.012492105849468764, 0.03981858739518169, 0.0125655940361258, 0.3470037122283971, 0.1430544551805091, 0.07636014837337986, 0.02899752469875185, 0.03479702963850222, 0.09375866319263097, 0.12275618789138282, 0.0125655940361258, 0.12662252451788306, 0.007701293367368763, 0.003013549578535603, 0.17311168134476743, 0.006696776841190228, 0.009375487577666321, 0.04888647094068867, 0.001674194210297557, 0.5866376512882641, 0.014732909050618503, 0.14833360703236356, 0.9851385964825603, 0.9770712162467502, 0.01699254289124783, 0.9980096171935279, 0.14035100254406777, 0.016319884016752065, 0.024479826025128097, 0.8176261892392785, 0.9984291154143559, 0.008452696935669808, 0.03381078774267923, 0.18145122755237855, 0.011270262580893078, 0.12284586213173454, 0.023104038290830808, 0.08114589058243016, 0.3555767844271766, 0.15722016300345842, 0.022540525161786156, 0.0022540525161786154, 0.0032901405770196348, 0.010967135256732116, 0.8068155837202593, 0.04350296985170406, 0.002193427051346423, 0.05337339158276296, 0.007676994679712481, 0.04350296985170406, 0.0285145516675035, 0.9983476352110009, 0.9856176713969642, 0.9776998387419595, 0.014520294634781578, 0.02194628929260496, 0.026413233130922784, 0.4808762149423883, 0.29015713454116643, 0.010099177373588123, 0.03631819555501883, 0.04525208323165447, 0.025830588282446543, 0.06311985858492576, 0.9976585911631506, 0.013005615908830273, 0.045283189937109045, 0.09127577710560883, 0.04102680654876459, 0.06810213421351125, 0.006384575082516679, 0.02577476607386363, 0.048239011734570465, 0.05403242245759486, 0.019744889607042324, 0.5088742806509591, 0.019390190991346954, 0.05899820307733006, 0.9949117300192443, 0.9978376170650531, 0.0017818528876161663, 0.006165121682784334, 0.03082560841392167, 0.006165121682784334, 0.9555938608315718, 0.03227948851248912, 0.08442327764804847, 0.0004138395963139631, 0.11442664838081079, 0.05069535054846048, 0.15850056538824786, 0.18126174318551583, 0.025451135173308728, 0.32651944149171686, 0.015105145265459653, 0.011173669100477002, 0.010426207671521505, 0.948784898108457, 0.03753434761747742, 0.985171500708641, 0.04381311142353708, 0.9529351734619315, 0.9982972090272927, 0.9931985227435879, 0.005414080266191477, 0.993483728846136, 0.9977086467477659, 0.0007484644064560154, 0.03779745252602878, 0.23164973379813678, 0.001496928812912031, 0.17738606433007564, 0.0018711610161400386, 0.3465390201891351, 0.02282816439690847, 0.006361947454876131, 0.11488928639099837, 0.058380223703569205, 0.02231015259404363, 0.014651443494595818, 0.11188375032236805, 0.0949013953627229, 0.1485123590588576, 0.0013319494085996197, 0.553424979273142, 0.010655595268796957, 0.009989620564497148, 0.009323645860197339, 0.02297612729834344, 0.9990179999583773, 0.002267359242305025, 0.9454888040411954, 0.00453471848461005, 0.00453471848461005, 0.04081246636149045, 0.020568007475436325, 0.008814860346615569, 0.0014691433911025948, 0.8050905783242219, 0.163074916412388, 0.0014691433911025948, 0.9981908379097623, 0.9987775330157039, 0.011284879781350683, 0.15798831693890958, 0.007812609079396626, 0.0008680676754885141, 0.12196350840613623, 0.002170169188721285, 0.006076473728419599, 0.33811235960277625, 0.19878749768686974, 0.002170169188721285, 0.07118154939005816, 0.060764737284195985, 0.02039959037398008, 0.007411258983450379, 0.25939406442076324, 0.7312442197004374, 0.9941469325323591, 0.12383529312486737, 0.8473872200973067, 0.0017690756160695337, 0.026536134241043008, 0.015141007452877029, 0.0023293857619810813, 0.0011646928809905407, 0.8880783217552872, 0.05706995116853649, 0.010482235928914866, 0.026205589822287163, 0.9966629682421325, 0.9982950333746935, 0.1053426013770406, 0.8908319986014955, 0.9979708095802001, 0.9927518200751106, 0.04514989490981913, 0.0012202674299951117, 0.0012202674299951117, 0.1464320915994134, 0.004881069719980447, 0.7882927597768421, 0.006101337149975558, 0.004881069719980447, 0.9947880554058496, 0.003640479306750216, 0.03458455341412705, 0.8900971905004278, 0.0455059913343777, 0.021842875840501295, 0.003640479306750216, 0.023859119083603126, 0.025653037811693587, 0.18010944030028225, 0.0017939187280904606, 0.09148985513261348, 0.00591993180269852, 0.03049661837753783, 0.045206751947879605, 0.036237158307427304, 0.03246992897843733, 0.4226472523381125, 0.03695472579866349, 0.06709256043058323, 0.9841298016811771, 0.994022467723831, 0.002278435936095231, 0.838464424483045, 0.05696089840238077, 0.004556871872190462, 0.034176539041428464, 0.013670615616571387, 0.014809833584619, 0.036454974977523695, 0.9966631955755029, 0.99729865189868, 0.9966629697040252, 0.9915019583335225, 0.9931986221092068, 0.06913560593929302, 0.06145387194603824, 0.017283901484823255, 0.00768173399325478, 0.837309005264771, 0.001920433498313695, 0.001920433498313695, 0.9949727876513945, 0.02682881335921659, 0.3606984907183564, 0.2891549884271121, 0.0019873195080901177, 0.0049682987702252945, 0.0009936597540450588, 0.01788587557281106, 0.0019873195080901177, 0.0029809792621351768, 0.09539133638832566, 0.15401726187698414, 0.043721029177982595, 0.028779493329555268, 0.014943198459576774, 0.3453539199546632, 0.000737935726398853, 0.03745023811474179, 0.036712302388342936, 0.1573647936545554, 0.0005534517947991397, 0.07194873332388817, 0.2184289750140605, 0.027488105808357276, 0.06014176170150652, 0.9928125694013352, 0.0058978964518891204, 0.8160850182106992, 0.04494381259711097, 0.10644587194052599, 0.030751029671707508, 0.9940225192062665, 0.03851314652000972, 0.11953339549543758, 0.20597401324034828, 0.003993955935408415, 0.03366334288415664, 0.0008558477004446605, 0.05306255742756895, 0.027672408981044023, 0.01711695400889321, 0.012837715506669907, 0.3785699661633548, 0.0019969779677042076, 0.10641039742195278, 0.9984069494819503, 0.9973386224937296, 0.001772906400390367, 0.002836650240624587, 0.009219113282029907, 0.06488837425428742, 0.040422265928900365, 0.009928275842186056, 0.020211132964450183, 0.01879280784413789, 0.11949389138631074, 0.0007091625601561468, 0.65703911198467, 0.010992019682420275, 0.04325891616952495, 0.8938198750270921, 0.101666715642892, 0.8938201141458565, 0.10166674284123486, 0.9838347329845487, 0.9981131672122344, 0.9838349743295769, 0.000650864009227929, 0.0015186826881985012, 0.057926896821285684, 0.07181199568481483, 0.2737967932152155, 0.000650864009227929, 0.001084773348713215, 0.4024509123726028, 0.018224192258382014, 0.002603456036911716, 0.12843716448764467, 0.03970270456290367, 0.001084773348713215, 0.9873038787994792, 0.00872799763162068, 0.012801063193043666, 0.000581866508774712, 0.05120425277217466, 0.052949852298498794, 0.001163733017549424, 0.032584524491383875, 0.6761288831962154, 0.00872799763162068, 0.1547764913340734, 0.002922826423488376, 0.1274352320640932, 0.0035073917081860514, 0.0613793548932559, 0.006430218131674427, 0.052026310338093094, 0.43140918010688434, 0.009353044555162804, 0.28351416307837246, 0.021628915533813985, 0.9987205625013613, 0.0038991212836471333, 0.0009747803209117833, 0.8626805840069283, 0.006823462246382483, 0.014621704813676748, 0.009747803209117833, 0.013646924492764965, 0.08090676663567802, 0.004873901604558917, 0.0009747803209117833, 0.005023789052949534, 0.026612504172381316, 0.07603572620680375, 0.0017651150726579444, 0.20977713748127108, 0.005566901382998132, 0.011133802765996265, 0.09518043584101685, 0.10685735093706171, 0.030142734317697203, 0.3701310529281197, 0.0309574028127701, 0.03082162473025795, 0.00750670146242125, 0.008018522016677245, 0.14023883186614244, 0.017060685141866476, 0.12812574541541724, 0.002217889068442642, 0.026955882524149034, 0.09639287105154559, 0.01825493310179713, 0.010236411085119886, 0.4730927989839574, 0.06909577482455923, 0.003070923325535966, 0.9978742604959621, 0.9970694543560773, 0.9991691778356163, 0.9838347588187073, 0.9961594029776086, 0.010814909160288518, 0.9408970969451012, 0.04686460636125025, 0.002307604050232998, 0.016666029251682764, 0.4097279191413701, 0.004358807650440107, 0.0769201350077666, 0.0028204049502847752, 0.15896827901605098, 0.049228886404970626, 0.006922812150698994, 0.010256018001035547, 0.1969155456198825, 0.03820366705385741, 0.02692204725271831, 0.008025407810608743, 0.12038111715913115, 0.19388655687902487, 0.008390199074727323, 0.1267649642812063, 0.013314881140328142, 0.04322776479805164, 0.03501996135538361, 0.08317240821903607, 0.3301360940273142, 0.03775589583627295, 0.9960984865738366, 0.02009773930054765, 0.0011822199588557441, 0.9788781259325561, 0.9851385418295385, 0.015238035846370169, 0.009235173240224345, 0.8644122152849987, 0.001847034648044869, 0.001847034648044869, 0.014776277184358953, 0.001847034648044869, 0.035093658312852515, 0.053102246131289985, 0.001847034648044869, 0.001322926049816482, 0.5344621241258587, 0.10054237978605264, 0.03836485544467798, 0.07805263693917244, 0.21563694612008658, 0.03175022519559557, 0.001563901016057157, 0.017202911176628727, 0.21790354157063052, 0.10895177078531526, 0.008340805418971503, 0.05890693827148624, 0.013032508467142975, 0.29036428864794545, 0.24553245952097363, 0.03336322167588601, 0.0046917030481714705, 0.9966630663734899, 0.0021122331865541535, 0.06653534537645583, 0.02217844845881861, 0.02006621527226446, 0.036964080764697684, 0.027459031425203995, 0.0010561165932770767, 0.8026486108905783, 0.02006621527226446, 0.9915019320741569, 0.9915020543907662, 0.07322908338242606, 0.25724062624083, 0.005633006414032774, 0.6628170880511897, 0.987806758409775, 0.9940224071538569, 0.9915019423317798, 0.058473734870156696, 0.7575006562724844, 0.021263176316420617, 0.08771060230523504, 0.07176322006791958, 0.06815349584836111, 0.9268875435377112, 0.006815349584836112, 0.03185879667431371, 0.006904758214585101, 0.0009690888722224703, 0.41065140960427177, 0.0413074131784828, 0.22918951828061424, 0.0110233859215306, 0.02398494958750614, 0.20581024923824712, 0.002907266616667411, 0.035250607727092355, 0.9940224697603943, 0.9915018106001299, 0.0009169357259611033, 0.06235162936535503, 0.2182307027787426, 0.6281009722833558, 0.014670971615377653, 0.05685001500958841, 0.017421778793260963, 0.07753479021386857, 0.016614597902971835, 0.008307298951485917, 0.002769099650495306, 0.016614597902971835, 0.002769099650495306, 0.8639590909545355, 0.011076398601981225, 0.0407780545898711, 0.3230876632889787, 0.0031367734299900846, 0.630491459428007, 0.020053065914171046, 0.9725736968372958, 0.9904484754873261, 0.9662268107400145, 0.013327266355034681, 0.01832499123817269, 0.013341030654794072, 0.02852928093871348, 0.07785688659054181, 0.028118787687796735, 0.17452804718143425, 0.003420777090972839, 0.013683108363891356, 0.11658008326035435, 0.02524533493137955, 0.04515425760084148, 0.3863425646544724, 0.04344386905535506, 0.04371753122263288, 0.9979718304450069, 0.9959193441212362, 0.893820066156525, 0.1016667373827327, 0.993198531339731, 0.0038196030935370375, 0.0014946272974710145, 0.13019864457969726, 0.00614457888960306, 0.15926084203052254, 0.010130251682859099, 0.0813741528623108, 0.01859980636852818, 0.06327255559293962, 0.42547057068008215, 0.025076524657569245, 0.07489743457326974, 0.9994281630470355, 0.003080561655925513, 0.01951022382086158, 0.7352273818808891, 0.02618477407536686, 0.02567134713271261, 0.004620842483888269, 0.01899679687820733, 0.11500763515455248, 0.05185612120807947, 0.002320639688924688, 0.009282558755698752, 0.9189733168141764, 0.023206396889246878, 0.004641279377849376, 0.006961919066774063, 0.009282558755698752, 0.025527036578171566, 0.9316188118906596, 0.06544429670306287, 0.007743937816869543, 0.032788162245894446, 0.10248360259772034, 0.019936520762579037, 0.10042404466770184, 0.0028833811020258938, 0.016064551854144266, 0.05890335679852897, 0.05519615252449568, 0.0040367335428362515, 0.48943334648959524, 0.033859132369504066, 0.07628602572788507, 0.014786269969353763, 0.0007041080937787507, 0.1663103317505409, 0.025347891376035023, 0.20236066615201292, 0.003238897231382253, 0.020700777957095268, 0.18377221247625392, 0.014082161875575013, 0.004365470181428254, 0.292486502155693, 0.04365470181428254, 0.028305145369905776, 0.9973609014861654, 0.9917373712757495, 0.8938200789660494, 0.10166673883974021, 0.0045037727163871714, 0.0022518863581935857, 0.9525479295158867, 0.03828206808929096, 0.9850068827134523, 0.9831352578524384, 0.9850058044409981, 0.9931986782898812, 0.014132910171857653, 0.02355485028642942, 0.897439795912961, 0.06359809577335944, 0.9850063125254623, 0.0015271169387309632, 0.041537580733482196, 0.523190263209228, 0.0051921975916852745, 0.03756707669278169, 0.0012216935509847704, 0.013744052448578669, 0.013438629060832475, 0.007330161305908623, 0.055892479957553254, 0.2541122586048323, 0.010078971795624357, 0.03573453636630454, 0.003977331192264939, 0.04664324761837974, 0.8486178462041647, 0.012293569139727994, 0.012293569139727994, 0.0021694533775990575, 0.011208842450928465, 0.020971382650124226, 0.008316237947463055, 0.03326495178985222, 0.9803358635733226, 0.014416703876078274, 0.9976585935971582, 0.8938200204480018, 0.10166673218365897, 0.9982968381913672, 0.9914863532903347, 0.023648250087200996, 0.0008980348134380125, 0.09189889590848994, 0.012572487388132176, 0.06645457619441293, 0.0005986898756253417, 0.053582743868468084, 0.026043009589702362, 0.18828796588416996, 0.019457420957823605, 0.41459273887054915, 0.035921392537520504, 0.06585588631878758, 0.0015940511822600402, 0.11477168512272289, 0.875134099060762, 0.006376204729040161, 0.013432722496575908, 0.0029850494436835353, 0.04701452873801568, 0.4455186294697676, 0.05746220179090805, 0.0022387870827626517, 0.018656559023022094, 0.012686460135655026, 0.06193977595643336, 0.026119182632230932, 0.2708932370142808, 0.006716361248287954, 0.03432806860236066, 0.03263833720781122, 0.038078060075779754, 0.038078060075779754, 0.8907546196298479, 0.9998913244871227, 0.03959664238634876, 0.005499533664770661, 0.19908311866469794, 0.005813792731328984, 0.18666988553564415, 0.0025140725324665878, 0.046196082784073556, 0.046196082784073556, 0.028283315990249115, 0.003928238331979044, 0.3455278436808767, 0.03252581338878648, 0.058137927313289844, 0.9915283602956639, 0.9966631623534734, 0.9966631909638369, 0.9931986371944501, 0.9925569501514422, 0.9940224997932354, 0.9954941509432831, 0.006805714046824414, 0.991365679487423, 0.011180333303542922, 0.007702007386885125, 0.15826382920792983, 0.005217488874986698, 0.022360666607085845, 0.000993807404759371, 0.04248526655346311, 0.03304409620824909, 0.04347907395822248, 0.224352021624428, 0.37392003604071333, 0.009441170345214024, 0.06708199982125754, 0.001873624091701035, 0.00249816545560138, 0.06370321911783519, 0.000624541363900345, 0.00374724818340207, 0.9168267222057065, 0.00999266182240552, 0.000624541363900345, 0.01412791621406101, 0.07857443812203795, 0.05051213879273868, 0.014321449312883762, 0.06347885641386317, 0.0036771288776323175, 0.054189267670370994, 0.09637948321373127, 0.05031860569391592, 0.005225393668214346, 0.490799938614503, 0.0191597767834526, 0.05941466133858534, 0.997965890696444, 0.9975401408269231, 0.9967060710098967, 0.9980518450417165, 0.9899117938170856, 0.9915020108926634, 0.9927287258284835, 0.9947052715665475, 0.0031557563519470835, 0.011905808055073087, 0.3167231829590527, 0.005450851880635871, 0.15334107001051964, 0.002868869410860985, 0.019364868523311648, 0.1362712970158968, 0.00573773882172197, 0.015635338289192367, 0.2964976536124828, 0.03299199822490133, 0.01043577976884183, 0.06069229812931695, 0.5651798622178023, 0.026364075205495146, 0.03130733930652549, 0.02526557207193285, 0.0005492515667811489, 0.10902643600605805, 0.1482979230309102, 0.020047682187511934, 0.0027462578339057446, 0.9904814065237543, 0.0047849343310326295, 0.9915019044039398, 0.00032739083680249735, 0.013095633472099895, 0.824042736231886, 0.0006547816736049947, 0.02389953108658231, 0.005238253388839958, 0.04059646376350967, 0.0124408517984949, 0.05860295978764703, 0.020625622718557335, 0.9876325761142636, 0.005367568348447084, 0.9850085283591, 0.02356316434100676, 0.1409862666403571, 0.28570336763470694, 0.002552676136942399, 0.30455389910751235, 0.037111983837085645, 0.05203532125305659, 0.005498071679568244, 0.08993274390150913, 0.048893566007589026, 0.00922890603356098, 0.9982635360162938, 0.00766683003098738, 0.0012778050051645631, 0.828017643346637, 0.019167075077468447, 0.0051112200206582525, 0.0051112200206582525, 0.03322293013427864, 0.07794610531503836, 0.02300049009296214, 0.036149958731331255, 0.8226558176157005, 0.015632414586521624, 0.0009770259116576015, 0.04005806237796166, 0.016609440498179227, 0.023448621879782437, 0.043966166024592065, 0.9933385193824634, 0.0021976515915541226, 0.03382488806217215, 0.9403318881283858, 0.02029493283730329, 0.9915020484509784, 0.9976941617513649, 0.0031165050270372243, 0.012466020108148897, 0.009349515081111674, 0.012466020108148897, 0.9224854880030184, 0.015582525135186123, 0.02181553518926057, 0.002496106568812466, 0.0006240266422031165, 0.7382235177262868, 0.014976639412874795, 0.041809785027608806, 0.02995327882574959, 0.05803447772488984, 0.09984426275249864, 0.004992213137624932, 0.009360399633046747, 0.0067299051835531245, 0.11777334071217968, 0.0022433017278510412, 0.0033649525917765623, 0.007851556047478645, 0.030284573325989057, 0.01794641382280833, 0.03589282764561666, 0.760479285741503, 0.01682476295888281, 0.006394031363191235, 0.00688587992959056, 0.8508980198708335, 0.0019673942655973027, 0.0019673942655973027, 0.004918485663993257, 0.025084276886365612, 0.04082343101114404, 0.04082343101114404, 0.021149488355171005, 0.8921613993852415, 0.10496016463355783, 0.9915019602327254, 0.024330468568089212, 0.001177280737165607, 0.820564673804428, 0.048660937136178424, 0.002354561474331214, 0.06985199040515934, 0.03060929916630578, 0.001962134561942678, 0.009045157696864231, 0.0859289981202102, 0.0045225788484321156, 0.0045225788484321156, 0.8457222446568056, 0.0045225788484321156, 0.045225788484321156, 0.012047172664272576, 0.05077022765657729, 0.8794436044918981, 0.01634973433008421, 0.04044407965862937, 0.9978742657384133, 0.9975646045099915, 0.9908064848022268, 0.015468727407381753, 0.9188424079984762, 0.0061874909629527014, 0.05878116414805066, 0.007345523032759875, 0.007345523032759875, 0.9328814251605042, 0.04774589971293919, 0.9824483010533679, 0.0070315918490006886, 0.010547387773501032, 0.8930121648230874, 0.08789489811250861, 0.022106938961153195, 0.0051855782748384035, 0.16020707617527066, 0.31495564890334304, 0.0409387758539874, 0.005731428619558236, 0.030567619304310588, 0.08788190549989294, 0.0019104762065194117, 0.2914840840803903, 0.03739074861330849, 0.0019104762065194117, 0.9979633528990132, 0.9998900453862168, 0.9963208401818376, 0.06726072219338931, 0.04564120434551418, 0.8695850512145333, 0.014413011898583425, 0.0024021686497639042, 0.0861148476258634, 0.8738124244389079, 0.04052463417687689, 0.020332272719633636, 0.00045182828265852526, 0.07206661108403478, 0.016830603529030066, 0.1335152575255942, 0.08053839138388212, 0.010166136359816818, 0.12594713379106393, 0.009262479794499767, 0.008810651511841242, 0.4343199367055074, 0.022704371203590895, 0.06506327270282763, 0.0007846073359936553, 0.0007846073359936553, 0.0007846073359936553, 0.08709141429529574, 0.826191524801319, 0.03844575946368911, 0.004707644015961932, 0.015692146719873106, 0.025892042087790623, 0.03341190341807355, 0.0026729522734458837, 0.9622628184405181, 0.001766804242665263, 0.001766804242665263, 0.8834021213326315, 0.026502063639978944, 0.0759725824346063, 0.010600825455991577, 0.9882143326613374, 0.01978992918005781, 0.0020560965381878245, 0.19430112285874943, 0.0020560965381878245, 0.09458044075663993, 0.00796737408547782, 0.27705900852080934, 0.0061682896145634734, 0.01593474817095564, 0.19969837627149245, 0.16705784372776075, 0.013364627498220859, 0.02141469693940701, 0.002595720841140244, 0.14536036710385367, 0.0019467906308551829, 0.029850789673112804, 0.049318695981664634, 0.0038935812617103657, 0.020765766729121952, 0.014276464626271341, 0.6761852791170335, 0.03179758030396799, 0.003244651051425305, 0.01676957857357982, 0.9810203465544195, 0.00027772592744143657, 0.00027772592744143657, 0.3143857498637062, 0.08581731157940391, 0.16274739348068185, 0.00027772592744143657, 0.04610250395527848, 0.01221994080742321, 0.007498600040918788, 0.1919086158620327, 0.10525812650030447, 0.07276419298965639, 0.022841345482394367, 0.01903445456866197, 0.029947541854694837, 0.010659294558450704, 0.07486885463673709, 0.0005075854551643193, 0.040860629140727696, 0.03451581095117371, 0.08654332010551644, 0.6131632298384977, 0.01370480728943662, 0.053296472792253524, 0.01928148345482287, 0.0082634929092098, 0.9709604168321515, 0.9979333872080476, 0.9969525510820624, 0.0014904312147799316, 0.029808624295598635, 0.019077519549183127, 0.14188905164704949, 0.35263602541693184, 0.011923449718239453, 0.06945409460874481, 0.0700502670946568, 0.04530910892930992, 0.19733309283686296, 0.04322250522861802, 0.018183260820315166, 0.9996298598398123, 0.11566648704000178, 0.0015932023008264709, 0.22750928855802002, 0.0012745618406611765, 0.17270312940958943, 0.019755708530248238, 0.021030270370909415, 0.09527349758942295, 0.010515135185454707, 0.011789697026115884, 0.22209240073521003, 0.10132766633256354, 0.004049054839527205, 0.004049054839527205, 0.058711295173144475, 0.020245274197636026, 0.7460383541828876, 0.02328206532728143, 0.003036791129645404, 0.12956975486487057, 0.010122637098818013, 0.9991024892698883, 0.06117421482752605, 0.17090940431195423, 0.27244598768547684, 0.04982229867396452, 0.0725261309810876, 0.1437909379451128, 0.2289303090968243, 0.9966629675110349, 0.99537166651457, 0.0004907729719015716, 0.006380048634720431, 0.02453864859507858, 0.008833913494228289, 0.029937151285995868, 0.002453864859507858, 0.03140947020170058, 0.0073615945785235745, 0.8882990791418446, 0.9951083360482408, 0.043034106069992285, 0.008954301573569823, 0.17975426293211064, 0.010157118202855323, 0.12709762382783438, 0.006815960899284493, 0.05372580944141894, 0.1380566197835467, 0.03474803595713663, 0.0073505460678558255, 0.31273232361422965, 0.034079804496422464, 0.04343504494642079, 0.9915019189157561, 0.0070364762811973075, 0.004589006270346071, 0.07648343783910118, 0.1174785605208594, 0.011931416302899784, 0.007954277535266521, 0.10218187295303917, 0.221496035982037, 0.0012237350054256188, 0.29308453379943566, 0.04221885768718385, 0.11441922300729536, 0.7997422377566993, 0.19733899373217254, 0.0427039071060823, 0.9466032741848243, 0.9950638688250388, 0.9915017991378434, 0.9922211027832878, 0.9860049470267156, 0.009426433527980073, 0.0018852867055960145, 0.9929713388957419, 0.005893004978609744, 0.006110833926586184, 0.054867487596156804, 0.14574989003623645, 0.0234031937613939, 0.1503655199169558, 0.0005200709724754199, 0.021387918743051643, 0.09523799683456127, 0.032244400293476035, 0.00442060326604107, 0.37997685426485367, 0.031204258348525197, 0.05447743436680024, 0.0012347703717068528, 0.0008231802478045686, 0.0032927209912182744, 0.01728678520389594, 0.11030615320581219, 0.0004115901239022843, 0.011112933345361677, 0.0004115901239022843, 0.06544282970046321, 0.0024695407434137057, 0.6725382624563325, 0.034161980283889594, 0.08067166428484772, 0.03025368814584276, 0.0041840207010208075, 0.27324873655128196, 0.3607913235264865, 0.07305943839474793, 0.0009655432386971093, 0.06372585375400922, 0.0041840207010208075, 0.019310864773942185, 0.13903822637238375, 0.03121923138453987, 0.002529823853189958, 0.005692103669677405, 0.7134103265995682, 0.030990342201576985, 0.0031622798164874476, 0.002529823853189958, 0.010751751376057321, 0.14546487155842258, 0.039212269724444346, 0.04616928532071673, 0.019758851342452057, 0.9780631414513767, 0.012419077616938829, 0.1048610827817335, 0.7256146559251759, 0.004006154069980268, 0.022234155088390484, 0.029745693969603484, 0.021633231977893443, 0.04306615625228787, 0.01211861606169031, 0.024137078271631113, 0.9961189709969994, 0.029725501620017032, 0.9647276434860074, 0.0027023183290924577, 0.05767770030426917, 0.9126647871675533, 0.028838850152134585, 0.8938200370752398, 0.1016667340749088, 0.9936000155115178, 0.005956834625368812, 0.9800592650584576, 0.9981572732378556, 0.9900279541218427, 0.005266106138945972, 0.9991584688264693, 0.9900283046604754, 0.0052661080035131674, 0.9966629647308394, 0.9957839303577862, 0.8938197377784607, 0.10166670003167326, 0.9931985898537053, 0.9356677483985182, 0.005811600921729927, 0.0029058004608649634, 0.05230440829556934, 0.9974979065276006, 0.9909603917988126, 0.006117039455548225, 0.018594504427767018, 0.006198168142589006, 0.973112398386474, 0.987590395718622, 0.01256340668716548, 0.00418780222905516, 0.07538044012299289, 0.9087530837049698, 0.9991725896540478, 0.9972569071241503, 0.0022427346650949215, 0.001345640799056953, 0.043957599435860466, 0.2552232048878021, 0.05472272582831609, 0.0004485469330189843, 0.014802048789626482, 0.0654878522207717, 0.06907622768492358, 0.016147689588683435, 0.4332963372963389, 0.01973606505283531, 0.02377298745000617, 0.993303601910201, 0.9889051828136302, 0.9971418510416125, 0.9800647558497526, 0.9940225950782559, 0.005576749694892911, 0.005112020553651835, 0.25513629854135067, 0.011153499389785822, 0.10363459849675993, 0.0013941874237232278, 0.3685302090041732, 0.05483803866644696, 0.00046472914124107595, 0.12687105555881373, 0.06692099633871493, 0.9957232030624042, 0.0015681098194420902, 0.0007840549097210451, 0.003920274548605225, 0.9933975706165641, 0.2579844226988198, 0.1335583073263802, 0.0011415239942425656, 0.40409949396186823, 0.011415239942425656, 0.021688955890608746, 0.025113527873336445, 0.10730325545880116, 0.03767029181000466, 0.0020962486132422116, 0.0062887458397266355, 0.0031443729198633178, 0.005240621533105529, 0.0031443729198633178, 0.9789481023841129, 0.9971715684553035, 0.03378226049806688, 0.0034947166032482982, 0.16755224603351562, 0.002329811068832199, 0.18104573514050212, 0.006504055900489888, 0.019706318623872347, 0.18725856465738797, 0.008833866969322087, 0.0041742448316576895, 0.2822954411735014, 0.044072259385409096, 0.0590218804104157, 0.01486561704919649, 0.0024512453644951657, 0.18471319907937767, 0.05764380228119277, 0.17245697225690182, 0.018423876449270116, 0.14375367976297457, 0.013205095995828796, 0.007353736093485498, 0.3118616683086753, 0.04554572032094244, 0.027833495751687046, 0.5751923690476392, 0.4221639938364852, 0.001943217462998781, 0.99669409972691, 0.9956526062452072, 0.4442928422081956, 0.038430393524337594, 0.5164669959002443, 0.02943038407049571, 0.02943038407049571, 0.005886076814099142, 0.03531646088459485, 0.03060759943331554, 0.20130382704219066, 0.6663038953560229, 0.0024661403511550143, 0.0005480311891455587, 0.1594770760413576, 0.0531590253471192, 0.12823929826006075, 0.015481881093362035, 0.03301887914601991, 0.0031511793375869628, 0.03438895711888381, 0.29648487332774726, 0.03151179337586963, 0.24209277780505056, 0.9602071360590406, 0.03682210256273607, 0.9914375397315, 0.004632885699679906, 0.9982884064147373, 0.9976009705694104, 0.9968877859392269, 0.9979685383211278, 0.7244957080362765, 0.11439405916362261, 0.1525254122181635, 0.006932973282643794, 0.8938199151414208, 0.10166672020565924, 0.9910873933636293, 0.06200468772803253, 0.0007470444304582233, 0.09487464266819436, 0.5147136125857158, 0.02465246620512137, 0.00672339987412401, 0.2891061945873324, 0.0059763554436657864, 0.9957839124274448, 0.9888485321431669, 0.0057158874690356465, 0.009898314941028188, 0.03959325976411275, 0.6462185611499831, 0.09615505942713096, 0.10181123939343278, 0.08484269949452732, 0.02121067487363183, 0.0036557815528864375, 0.003168344012501579, 0.20691723589337235, 0.0036557815528864375, 0.42504553521559646, 0.0058492504846183, 0.011942219739429029, 0.04435681617502211, 0.003168344012501579, 0.06068597377791486, 0.20155542294913892, 0.029977408733668786, 0.9978756029557808, 0.9989358224470777, 0.9984570488755438, 0.009340227617573452, 0.009530844507728013, 0.2792537440764308, 0.016774286333601302, 0.18775763680224183, 0.02363649437916547, 0.2129190663026438, 0.012771331640355536, 0.17441445449142262, 0.03392980644751172, 0.039648313152148534, 0.9997979301988489, 0.9981625745022719, 0.9958495641137022, 0.9958627672978482, 0.9850065173102964, 0.9900273753134274, 0.005266103060177806, 0.0070301890586143105, 0.013591698846654334, 0.04815679505150803, 0.15208642330135624, 0.3914643607471735, 0.011716981764357185, 0.06479490915689523, 0.009842264682060035, 0.02917528459324939, 0.168021518500882, 0.05354660666311233, 0.05050019140437947, 0.9965121898487932, 0.0314890861581905, 0.0016287458357684742, 0.7003607093804439, 0.0010858305571789827, 0.028774509765243046, 0.00380040695012644, 0.021716611143579655, 0.014115797243326777, 0.17481871970581622, 0.017373288914863724, 0.004886237507305422, 0.9915019865934983, 0.9927229240807174, 0.9834814603165652, 0.0019380812773688856, 0.7119218558868373, 0.047806004841765844, 0.0019380812773688856, 0.01227451475666961, 0.01485862312649479, 0.13760377069319088, 0.03682354427000883, 0.03423943590018365, 0.9963839357535149, 0.995380722650264, 0.9955358971829944, 0.9984594662700493, 0.9969148894861276, 0.9993330513337741, 0.9987650128859332, 0.9984019015004173, 0.0003758132309698091, 0.13303788376331244, 0.022172980627218737, 0.003006505847758473, 0.7046498080683921, 0.009019517543275419, 0.007892077850365992, 0.04171526863764881, 0.031944124632433776, 0.045849214178316715, 0.9900258091426091, 0.005266094729481963, 0.9931986287103343, 0.9979747637811575, 0.002436673798625302, 0.004873347597250604, 0.6201334817501393, 0.004873347597250604, 0.13970263112118397, 0.0044672352974797205, 0.06335351876425785, 0.01705671659037711, 0.013807818192210044, 0.08812636905028175, 0.0198995026887733, 0.021523951887856833, 0.9978914211587352, 0.41157039543013496, 0.08546270506199524, 0.3328547460309288, 0.137190131810045, 0.006747055662789098, 0.025863713374024874, 0.09306908118794117, 0.21013047509005414, 0.0029001696687460422, 0.052730357613564406, 0.0635400809243451, 0.0730315452947867, 0.004745732185220796, 0.06512199165275204, 0.3522387888586102, 0.04323889324312281, 0.03902046463403766, 0.8938199242879323, 0.10166672124602073, 0.9931984866819429, 0.060567889244488964, 0.3258399104925039, 0.0030667285693412134, 0.5734782424668069, 0.0007666821423353033, 0.024533828554729707, 0.010733549992694246, 0.0026988340513644823, 0.0013494170256822412, 0.10215086884414566, 0.06517684234045225, 0.1257656667935849, 0.006612143425842982, 0.014843587282504653, 0.015113470687641102, 0.004183192779614948, 0.0008096502154093447, 0.6021098768594161, 0.027528107323917722, 0.03144141669839622, 0.9977175721803783, 0.997141319740813, 0.8938198523835258, 0.10166671306732046, 0.9979401894784221, 0.009707026125178368, 0.003640134796941888, 0.025480943578593217, 0.023054187047298627, 0.9379413993453599, 0.9957121957922926, 0.9851386157970294, 0.9949783399107948, 0.012682048293615314, 0.11770526072511714, 0.07886648782592023, 0.00871890820186053, 0.5199639800382279, 0.033290376770740204, 0.13831358920224202, 0.07212914966993711, 0.017834130412896537, 0.9763492562432747, 0.9800599557223448, 0.997118227465466, 0.0398682965054208, 0.00017958692119558918, 0.21370843622275112, 0.005746781478258854, 0.057467814782588535, 0.005926368399454443, 0.07237352924182244, 0.10254413200268142, 0.013828192932060368, 0.004489673029889729, 0.3536066478341151, 0.027117625100533966, 0.10308289276626818, 0.009338622342270118, 0.009672144568779765, 0.6063434077945383, 0.16375941321623672, 0.010005666795289412, 0.08704930111901789, 0.012673844607366588, 0.05869991186569788, 0.040689711634176944, 0.0016676111325482352, 0.9998967713952145, 0.0020398137075934115, 0.00951913063543592, 0.005439503220249097, 0.0475956531771796, 0.007479316927842508, 0.01903826127087184, 0.807766228206991, 0.0061194411227802345, 0.09451136845182806, 0.015755839369741922, 0.015755839369741922, 0.005251946456580641, 0.9453503621845154, 0.021007785826322563, 0.9983068926339889, 0.9957839336685078, 0.9971127395260247, 0.011821821046928364, 0.012731191896692083, 0.893911545317737, 0.0027281125492911607, 0.008184337647873482, 0.05547162183558693, 0.010912450197164643, 0.0045468542488186015, 0.9947476564003177, 0.0005850774905271524, 0.0005850774905271524, 0.013456782282124505, 0.17961878959183578, 0.005850774905271524, 0.0011701549810543047, 0.007020929886325828, 0.003510464943162914, 0.6482658595040849, 0.1363230552928265, 0.003510464943162914, 0.00033832225859814464, 0.0040598671031777354, 0.2584782055689825, 0.027404102946449717, 0.015224501636916509, 0.010487990016542484, 0.5186480224309558, 0.1319456808532764, 0.017931079705701666, 0.015562823895514654, 0.0013171576713083648, 0.013547907476314609, 0.07959395642334834, 0.01091359213369788, 0.09502351771581775, 0.0009408269080774035, 0.008655607554312111, 0.006585788356541824, 0.11967318270744572, 0.07056201810580526, 0.2809309147519127, 0.037444910941480655, 0.2747214571586018, 0.9936563050184636, 0.9879627203175322, 0.005845933256316759, 0.9982930653707133, 0.0004419132393324752, 0.10119813180713683, 0.7136898815219476, 0.0035353059146598018, 0.002209566196662376, 0.012815483940641782, 0.08528925519116773, 0.013699310419306733, 0.012815483940641782, 0.03712071210392792, 0.017234616333966536, 0.9759202805296726, 0.0577267050336278, 0.10135959913931301, 0.26430722137470386, 0.03803398291513269, 0.001544527224980008, 0.04826647578062525, 0.16217535862290083, 0.000193065903122501, 0.14595782276061076, 0.12761656196397317, 0.04286063049319522, 0.010039426962370052, 0.986255109761581, 0.013045702510073823, 0.9970935339510922, 0.9969256542382849, 0.04429308811497356, 0.954592416270982, 0.9900273670863616, 0.005266103016416818, 0.8446114486515198, 0.07978785614791685, 0.02051687729517862, 0.053571846270744176, 0.0010612654570036153, 0.02971543279610123, 0.0021225309140072307, 0.07959490927527114, 0.0074288581990253075, 0.6494944596862126, 0.021225309140072306, 0.14751589852350253, 0.06155339650620969, 0.998836833401717, 0.017968080621571153, 0.015401211961346702, 0.08470666578740686, 0.8034298906502529, 0.0051337373204489, 0.00256686866022445, 0.028235555262468955, 0.046203635884040105, 0.1356432699020303, 0.4815054663949665, 0.003095593296519364, 0.0560020969097594, 0.19023827894973544, 0.04530822915814705, 0.04727815216502301, 0.027297504523852573, 0.012945208330899158, 0.9931986514242317, 0.3995396535397369, 0.21099285074570376, 0.006733814385501183, 0.17620147642061432, 0.0011223023975835307, 0.11559714695110365, 0.006733814385501183, 0.07182735344534596, 0.011223023975835305, 0.999428153654505, 0.9960506892371583, 0.9934095437673, 0.3781717911705144, 0.07597972060046865, 0.08288696792778398, 0.031082612972918994, 0.055257978618522656, 0.2711094575971268, 0.10188189807790114, 0.9931985425531086, 0.0032298403200707705, 0.19648195280430522, 0.3793268020349783, 0.0003588711466745301, 0.13583272901630963, 0.006997987360153337, 0.0477298625077125, 0.009689520960212313, 0.014893152586992999, 0.15377628635003615, 0.05095970282778327, 0.0007177422933490602, 0.9989736388139273, 0.9992910600089008, 0.9963539061849365, 0.9987556427656421, 0.02565160617222705, 0.1296446041677421, 0.00034664332665171685, 0.18580082308532023, 0.007972796512989488, 0.1771347399190273, 0.0017332166332585843, 0.3497631165915823, 0.10468628464881849, 0.017332166332585844, 0.9951470702650851, 0.00774535597276369, 0.9914055645137523, 0.037756664562137526, 0.07722954114982676, 0.010297272153310234, 0.0909592373542404, 0.003677597197610798, 0.06104811348033924, 0.03947287658768923, 0.1983450755244757, 0.003922770344118184, 0.37241800954472015, 0.026723872969305132, 0.07771988744284153, 0.9931986295005424, 0.9931985265664937, 0.9931984766930773, 0.9997980632082243, 0.9974837278583393, 0.026382677794850266, 0.02198556482904189, 0.002198556482904189, 0.7760904384651787, 0.16709029270071835, 0.004397112965808378, 0.9965732541333131, 0.09187599382779196, 0.0012195928384220172, 0.3723823466648559, 0.016667768791767568, 0.06504495138250758, 0.05203596110600607, 0.19188260657839737, 0.18049974008645855, 0.028050635283706396, 0.9925580695417513, 0.0013056945332857125, 0.0848701446635713, 0.14558494046135695, 0.3773457201195709, 0.06659042119757133, 0.3146723825218567, 0.009792708999642843, 0.07294479461836764, 0.005490468412135199, 0.02431493153945588, 0.006274821042440227, 0.01960881575762571, 0.002353057890915085, 0.7765091040019781, 0.06666997357592742, 0.02509928416976091, 0.011275656285787836, 0.0779045343381705, 0.012300715948132184, 0.015375894935165231, 0.8497744600834651, 0.027676610883297415, 0.006150357974066092, 0.04971237529683377, 0.016883448214019017, 0.0018759386904465575, 0.013131570833125902, 0.0018759386904465575, 0.04220862053504754, 0.024387202975805246, 0.004689846726116394, 0.23167842827014984, 0.059092068749066556, 0.555277852372181, 0.0053061177042479065, 0.0036479559216704358, 0.1719513768532837, 0.12087999394989761, 0.1387881412017343, 0.11573969242390746, 0.05322699322073681, 0.020727022282218385, 0.011109683943269054, 0.28155587068165455, 0.03846935335579732, 0.03863516953405507, 0.9896054427743793, 0.007671360021506817, 0.0016536298513148329, 0.12600659467019026, 0.12501441675940136, 0.0016536298513148329, 0.059530674647333984, 0.0013229038810518663, 0.004299437613418566, 0.07342116539837858, 0.002976533732366699, 0.1967819523064651, 0.37305889445662627, 0.034064774937085554, 0.00033072597026296657, 0.997339969806688, 0.9985686328878679, 0.9988369758362511, 0.047797388646245956, 0.9035248305387139, 0.035462578673021196, 0.003083702493306191, 0.009251107479918572, 0.9949839572711683, 0.012816254721538502, 0.9868516135584646, 0.9969504134954683, 0.9978629670890652, 0.9975149218084786, 0.011028441847395156, 0.002494528513101285, 0.40450749204552944, 0.0023632375387275333, 0.021663010771669055, 0.0006564548718687593, 0.02415753928477034, 0.039256001337751804, 0.008665204308667622, 0.1060831072939915, 0.30315085982899304, 0.05107218903138947, 0.025076576105386602, 0.9967889415886356, 0.00402232825257911, 0.21821130770241673, 0.777314934810913, 0.06785569565815366, 0.011003626322943837, 0.02567512808686895, 0.012837564043434476, 0.8784561681150163, 0.0018339377204906395, 0.9986235340478629, 0.9968395278976566, 0.9996133590398111, 0.999866652071864, 0.9999376605760691, 0.004233292738942825, 0.9948237936515639, 0.9963493783115867, 0.0023359027262203225, 0.006715720337883427, 0.5211982957879094, 0.0005839756815550806, 0.11942302687801398, 0.002043914885442782, 0.0405863098680781, 0.042630224753520886, 0.0017519270446652417, 0.04905395725062677, 0.17373276526263648, 0.03679046793797008, 0.0029198784077754027, 0.5066535809699592, 0.4923312182570274, 0.5066541923561151, 0.4923318123601825, 0.9973468287448441, 0.040214640576927134, 0.01962857456730967, 0.06774251954327606, 0.0007181185817308417, 0.07348746819712279, 0.5041192443750508, 0.0002393728605769472, 0.249426520721179, 0.016995473100963252, 0.027288506105771982, 0.9127900466318619, 0.011369271043457354, 0.011369271043457354, 0.06334308152783383, 0.005416524184186724, 0.025457663665677602, 0.7805211349413069, 0.06012341844447264, 0.006499829021024069, 0.01787452980781619, 0.09262256354959299, 0.005958176602605396, 0.004874871765768052, 0.9971782484454303, 0.9898786488282446, 0.05508774733839869, 0.03147871276479925, 0.001967419547799953, 0.9109152506313783, 0.015007774243176926, 0.005872607312547493, 0.15660286166793316, 0.009135166930629433, 0.11462459458194552, 0.0023925437199267562, 0.03523564387528496, 0.10722945944762645, 0.005002591414392309, 0.005655103338008697, 0.4826413195015884, 0.018922845784875256, 0.04176076311144884, 0.9959056017801534, 0.9931985380253706, 0.998059296809112, 0.008222569622848392, 0.027408565409494642, 0.12388671565091577, 0.148280338865366, 0.09730040720370597, 0.0010963426163797857, 0.12964251438690966, 0.06112110086317305, 0.3543927507447657, 0.04851316077480551, 0.017061210467253833, 0.017061210467253833, 0.9639583913998415, 0.991687576120572, 0.9982083072343946, 0.9961792440781139, 0.0222826661464824, 0.00445653322929648, 0.00445653322929648, 0.00445653322929648, 0.9225023784643713, 0.04010879906366832, 0.9940225020938871, 0.9789314071645268, 0.9931985384212133, 0.02295664280631735, 0.02448708566007184, 0.02448708566007184, 0.01224354283003592, 0.9090830551301671, 0.00306088570750898, 0.03602410395843219, 0.9582411652942963, 0.9931985910579861, 0.9843696266389409, 0.005553781390363023, 0.9941268688749811, 0.021520308245293576, 0.003972979983746507, 0.034763574857781934, 0.21718957244480902, 0.07018931304618828, 0.13375699278613237, 0.2304328390572974, 0.04635143314370924, 0.1969935908607643, 0.04436494315183599, 0.9788906464978984, 0.01604738764750653, 0.016454054000239762, 4.04276511062402e-05, 0.10778011784923637, 0.04014465754849652, 0.03282725269826704, 0.0001212829533187206, 0.06998026406490178, 0.011481452914172217, 0.0527985123447497, 0.6145407244659573, 0.025226854290293886, 0.02862277698321806, 0.021097850411381437, 0.9775337357273399, 0.9931985018298246, 0.03425039738320315, 0.023352543670365784, 0.007784181223455261, 0.11831955459651997, 0.0023352543670365784, 0.5589042118440878, 0.03502881550554868, 0.028801470526784466, 0.1455641888786134, 0.03969932423962183, 0.007005763101109735, 0.9985160942666617, 0.0006705950935303301, 0.9979668828431244, 0.010436983250486373, 0.010436983250486373, 0.8495704365895909, 0.0020873966500972747, 0.008349586600389099, 0.06053450285282097, 0.05114121792738323, 0.006262189950291824, 0.009247739067966838, 0.0037469287602969084, 0.16063960536166533, 0.07533718464852295, 0.16135710235831793, 0.02710544209576487, 0.02032908157182365, 0.07438052198631948, 0.05086256487381761, 0.03420069017377391, 0.31123425277019423, 0.048949239549410675, 0.02248157256178145, 0.9982702206058769, 0.01700222758573754, 0.002176285130974405, 0.1312571969618938, 0.06474448264648855, 0.07385767663244387, 0.09507645665944431, 0.019314530537397845, 0.14281871172019533, 0.4372972935051695, 0.016458156302993937, 0.9975861251416902, 0.9979130843528605, 0.976789520776777, 0.015754669689948018, 0.0010016054803802482, 0.0725448540789694, 0.35528377254059373, 0.12090809013161567, 0.09200461769778565, 0.0772667084864763, 0.004578767910309706, 0.0389195272376325, 0.19030504127224715, 0.04636002509188577, 0.0007154324859858915, 0.9900110099475559, 0.9973467782353221, 0.018657282430334435, 0.0030742113095437425, 0.07897542846931338, 0.0067844663383034316, 0.3976333317965027, 0.0014841020115038757, 0.025865777914781833, 0.05236759954877961, 0.05915206588708304, 0.05469975985257142, 0.2158308353872779, 0.031060134955045397, 0.05438173799296344, 0.9578124709509838, 0.0050588686846002665, 0.03372579123066844, 0.001686289561533422, 0.003151869997945101, 0.03159749672939964, 0.1788686223833845, 0.04168348072282396, 0.053424196465169466, 0.0011819512492294128, 0.010322374243270207, 0.026633301482636103, 0.03868920422477611, 0.4231385472241298, 0.15467802014915583, 0.02828803323155728, 0.00827365874460589, 0.009073457932817835, 0.001814691586563567, 0.8783107278967665, 0.03629383173127134, 0.001814691586563567, 0.03629383173127134, 0.0326644485581442, 0.003629383173127134, 0.9991155398005623, 0.9838348662176061, 0.0010558309039600602, 0.013725801751480783, 0.0005279154519800301, 0.015837463559400904, 0.0005279154519800301, 0.0015837463559400904, 0.09132937319254521, 0.69896005842156, 0.004751239067820271, 0.16523753646974942, 0.0068629008757403916, 0.005367432547201138, 0.008945720912001897, 0.04881807697692463, 0.02670936672297709, 0.14517627080048792, 0.008562332872916101, 0.024792426527548112, 0.056869225797726346, 0.22901045534724856, 0.0010223681042287882, 0.36664676137904917, 0.0348883115568074, 0.0430672563906377, 0.007213082271426089, 0.23858656743947831, 0.1139297097230377, 0.08415262649997103, 0.186615384919716, 0.0001849508274724638, 0.01904993522966377, 0.02422855839889276, 0.007028131443953625, 0.008137836408788408, 0.27890584782847544, 0.023118853434057975, 0.008322787236260872, 0.017131628934957135, 0.013263196594805526, 0.12600036765065248, 0.5219620493247424, 0.0027631659572511513, 0.0033157991487013814, 0.04697382127326957, 0.0027631659572511513, 0.06134228425097556, 0.15694782637186538, 0.019894794892208287, 0.027355342976786396, 0.9961363556829668, 0.9972851283706621, 0.27626673566567894, 0.0046561809381856, 0.06363447282186986, 0.0031041206254570665, 0.05742623157095573, 0.24367346909837972, 0.35231769098937704, 0.014279971994148785, 0.06521187210661278, 0.12804374888086745, 0.13565973394441347, 0.33272334746366666, 0.0618798786413114, 0.01237597572826228, 0.002855994398829757, 0.22514755844107917, 0.020943958924751552, 0.006415371640094186, 0.9398519452737983, 0.05132297312075349, 0.993198545809177, 0.9940224979911685, 0.9783616293343472, 0.0009281894947297091, 0.14943850865148317, 0.0037127579789188363, 0.06775783311526876, 0.023204737368242728, 0.045481285241755744, 0.5448472334063392, 0.015779221410405053, 0.12066463431486217, 0.02784568484189127, 0.9980865116746397, 0.8938200300736863, 0.10166673327852355, 0.9976895413912569, 0.043064449594138875, 0.0039149499631035345, 0.007829899926207069, 0.023489699778621205, 0.9239281912924341, 0.00036814297131390866, 0.031660295532996145, 0.6593440616232105, 0.08283216854562946, 0.0014725718852556346, 0.001104428913941726, 0.07178787940621219, 0.05485330272577239, 0.020984149364892794, 0.048226729242122034, 0.026874436905915334, 0.9984178927783192, 0.005433761597663912, 0.0015525033136182605, 0.06869827162760803, 0.01513690730777804, 0.04929198020737977, 0.0019406291420228257, 0.021735046390655648, 0.005045635769259347, 0.06869827162760803, 0.46963225236952383, 0.01358440399415978, 0.2794505964512869, 0.06239528394464943, 0.0691407200467737, 0.0016863590255310657, 0.6172074033443701, 0.0016863590255310657, 0.22259939137010068, 0.025295385382965985, 0.9940224867283641, 0.005606572983887101, 0.13455775161329042, 0.021304977338770986, 0.023547606532325824, 0.014577089758106463, 0.016819718951661303, 0.5191686583079456, 0.023547606532325824, 0.2052005712102679, 0.03476075250010003, 0.9976602685127335, 0.00112620694208817, 0.00225241388417634, 0.16836793784218143, 0.014077586776102127, 0.38741518807833053, 0.007320345123573106, 0.014077586776102127, 0.00225241388417634, 0.3930462227887714, 0.0033786208262645105, 0.006757241652529021, 0.020670187833175344, 0.9714988281592412, 0.043815584785454005, 0.13733242992455733, 0.028120449936933165, 0.0032698197601085076, 0.7239380948880236, 0.056894863825888035, 0.005885675568195314, 0.008713097153389185, 0.19648034080892612, 0.0235253623141508, 0.0008713097153389184, 0.0004356548576694592, 0.015247920018431073, 0.3219489398177304, 0.003920893719025133, 0.3655144255846763, 0.014812265160761614, 0.047922034343640514, 0.006726339033426484, 0.01614321368022356, 0.9766644276535255, 0.9976677678829976, 0.996198267670331, 0.9937976124076348, 0.37126201053275637, 0.4710442942352647, 0.0035957579712615627, 0.005393636956892344, 0.020675608334753987, 0.03236182174135407, 0.056633188047369616, 0.03955333768387719, 0.8938200839720125, 0.10166673940913887, 0.9931985644843041, 0.010038734650053506, 0.00266333776429991, 0.1727072104080634, 0.0577739422717365, 0.0018438492214383991, 0.05306188315028282, 0.020692085707253144, 0.0034828263071614205, 0.016184898721514837, 0.5533596385672351, 0.026018761235852964, 0.08174398215043568, 0.004285994118795588, 0.05143192942554706, 0.00593445339525543, 0.1582520905401448, 0.000989075565875905, 0.03989271449032817, 0.028353499555109275, 0.3887066973892307, 0.000989075565875905, 0.25122519373247987, 0.0458271678855836, 0.024397197291605655, 0.013061706045126215, 0.004563728618176629, 0.498548009047709, 0.005822688236983975, 0.012904336092775297, 0.009599567093406014, 0.0015736995235091824, 0.4250562412998302, 0.025336562328497837, 0.0028326591423165283, 0.0007868497617545912, 0.9966934993351296, 0.9912813167909237, 0.005006471296923857, 0.9915017986180883, 0.9982966835856548, 0.00488082894705077, 0.00836713533780132, 0.08959807424228912, 0.0062753515033509896, 0.615681708606547, 0.007669874059651209, 0.07704737123558715, 0.01987194642727813, 0.0034863063907505498, 0.12027757048089396, 0.01673427067560264, 0.030679496238604834, 0.016315364578968265, 0.00023993183204365094, 0.08349627755119053, 0.0023993183204365095, 0.10964884724394848, 0.11852632502956358, 0.01775495557123017, 0.0016795228243055567, 0.0021593864883928584, 0.5626401461423615, 0.01775495557123017, 0.06742084480426591, 0.01118228155996927, 0.0048922481824865555, 0.819801016865247, 0.025859026107428934, 0.013278959352463506, 0.00908560376747503, 0.0006988925974980793, 0.07967375611478104, 0.035643522472402045, 8.33547900068731e-05, 0.00025006437002061927, 0.00025006437002061927, 0.9811692331709032, 0.00700180236057734, 0.0070851571505842125, 0.0003334191600274924, 0.0037509655503092892, 0.006290756218036522, 0.014678431175418552, 0.9352257577480962, 0.03984145604756464, 0.0025911800393711684, 0.8991394736617955, 0.09328248141736206, 0.027061098237165356, 0.29316189756929134, 0.08182760657428571, 0.17976300971831272, 0.06378687441617548, 0.04445751853248594, 0.04703476598364455, 0.0006443118627896513, 0.19522649442526435, 0.06829705745570304, 0.9968575869816158, 0.9931985532035525, 0.014329599675382236, 0.023018825010454443, 0.19619356151294615, 0.004573276492143267, 0.2748539171778103, 0.0025915233455478513, 0.0062501445392624646, 0.10350849127217594, 0.019969974015692265, 0.005030604141357593, 0.24253609663333126, 0.07805058546591176, 0.02926896954971691, 0.021193180589541744, 0.055102269532808536, 0.046624997296991835, 0.019780301883572295, 0.7841476818130445, 0.015541665765663945, 0.056515148238777985, 0.9820083090169738, 0.008465588870835981, 0.0462006036426804, 0.943812331557614, 0.004289595358020083, 0.02001811167076039, 0.017158381432080334, 0.031457032625480615, 0.8379009599332563, 0.08722177227974169, 0.9973467458662806, 0.034289973041224886, 0.01142999101374163, 0.01142999101374163, 0.0038099970045805433, 0.015239988018322173, 0.925829272113072, 0.0013086389662260616, 0.014395028628486678, 0.020938223459616986, 0.8414548552833576, 0.09683928350072857, 0.002617277932452123, 0.013086389662260616, 0.009160472763582431, 0.9940225434445367, 0.9875415181641138, 0.005878223322405439, 0.007408921159483106, 0.1328825859571809, 0.012905862664906056, 0.09691346871517419, 0.0004779949135150391, 0.04027107146364205, 0.04732149643798887, 0.070145753558332, 0.0004779949135150391, 0.4693910050717684, 0.04576801296906499, 0.0757621937921337, 0.024991894982616236, 0.08200465541170952, 0.016921595561146408, 0.10986020502775054, 0.007809967182067574, 0.033843191122292816, 0.015619934364135148, 0.04295481950137166, 0.42798620157730305, 0.01796292451875542, 0.21972041005550108, 0.03640354963501195, 0.014716328575855895, 0.2064158718666103, 0.0019363590231389336, 0.4399407700571657, 0.04027626768128982, 0.002710902632394507, 0.0015490872185111469, 0.03911445226740646, 0.2064158718666103, 0.010843610529578027, 0.004620683963904458, 0.9934470522394586, 0.9984268400833625, 0.9992208213542726, 0.9800688845562668, 0.8938199484928852, 0.10166672399919073, 0.0012717008311234129, 0.019075512466851192, 0.682649006147048, 0.038914045432376435, 0.0015260409973480954, 0.13581764876398048, 0.00025434016622468255, 0.014497389474806907, 0.05722653740055358, 0.04883331191513905, 0.9982650655702713, 0.00033970710244852386, 0.024458911376293718, 0.026157446888536336, 0.15694468133121803, 0.0010191213073455715, 0.024458911376293718, 0.018004476429771765, 0.09138121055865292, 0.0006794142048970477, 0.6223434116856956, 0.020042719044462906, 0.014267698302838002, 0.9879019484146224, 0.014818864252625144, 0.095087712287678, 0.795279048224216, 0.014818864252625144, 0.06791979449119857, 0.012349053543854287, 0.007007176075138875, 0.050307930795868844, 0.16035652941183193, 0.011858297973311942, 0.18173740000007618, 0.004581615126052341, 0.056057408601111, 0.05309283410778301, 0.02928640257045222, 0.007366518437966509, 0.3950070923382773, 0.024704787444399877, 0.018685802867037, 0.01838170090254192, 0.9788255730603572, 0.9978730813180186, 0.9966451578690212, 0.9978215014840409, 0.9966805707507234, 0.026195149375857492, 0.31601382332151484, 0.3327341314337643, 0.0033440616224498926, 0.0011146872074832975, 0.09920716146601348, 0.008360154056124731, 0.06688123244899785, 0.14602402418031196, 0.0756593129226641, 0.01918123426208386, 0.23784730484983985, 0.0004262496502685302, 0.08652867900451162, 0.010229991606444725, 0.017689360486144005, 0.10272616571471578, 0.05988807586272849, 0.027066852792051666, 0.30540787441740186, 0.04603496222900126, 0.011082490906981785, 0.020148091125847707, 0.053728243002260555, 0.006716030375282569, 0.08059236450339083, 0.8327877665350386, 0.9953129782326674, 0.9874944709454533, 0.005396144649975155, 0.9931985658930328, 0.9963769444014976, 0.9931986111880928, 0.021317909227266865, 0.002267862683751794, 0.15784324278912487, 0.0009071450735007177, 0.4708082931468725, 0.020410764153766147, 0.0308429324990244, 0.049892979042539476, 0.00045357253675035885, 0.01632861132301292, 0.1709968463548853, 0.036739375476779065, 0.020864336690516506, 0.014108781929216564, 0.3154723639372824, 0.0033861076630119754, 0.03724718429313173, 0.04176199451048103, 0.35497695333908874, 0.1975229470090319, 0.008465269157529938, 0.026524510026927142, 0.9966629708105895, 0.9800602053317551, 0.02984512910908363, 0.006632250913129695, 0.9550441314906761, 0.0033161254565648476, 0.9915019892231735, 0.9938450260307711, 0.004644135635657808, 0.9976602767679755, 0.9896639161597334, 0.009809648107107554, 0.06634889265170928, 0.08989204810876741, 0.006064146102575579, 0.2138503287349447, 0.021937940312258715, 0.0329960890875436, 0.06991603741793022, 0.0010701434298662788, 0.3750852721681307, 0.034066232517409874, 0.07883389933348253, 0.0020137032994406935, 0.03490419052363869, 0.04967134805287044, 0.14163046539399543, 0.01208221979664416, 0.4201927551499581, 0.01208221979664416, 0.01543839196237865, 0.26513760109302464, 0.014095923096084855, 0.031548018357904196, 0.9800566944407524, 0.9982890919353161, 0.9940496086527554, 0.0017661136371379155, 0.0026491704557068734, 0.038854500017034145, 0.45654037520015117, 0.030906988649913522, 0.0026491704557068734, 0.05033423865843059, 0.04856812502129268, 0.28964263649061817, 0.03620532956132727, 0.042386727291309975, 0.004531545244485829, 0.9946741811646395, 0.004724236870678817, 0.994451861277891, 0.9989534301616642, 0.9876345721134836, 0.0053675791962689325, 0.013004827740139911, 0.009753620805104933, 0.026009655480279822, 0.016256034675174887, 0.9233427695499337, 0.013004827740139911, 0.0002116492688324464, 0.07365394555369136, 0.13757202474109018, 0.0006349478064973393, 0.2768372436328399, 0.008254321484465409, 0.008042672215632964, 0.15979519796849703, 0.050372525982122246, 0.09905185781358491, 0.057991899660090315, 0.12741285983713274, 0.9942221498650732, 0.9844840478661099, 0.9804644260367775, 0.9918041255587634, 0.02220348923628977, 0.0056103034901117625, 0.11572439571976297, 0.0006656292276403786, 0.5565135792521879, 0.0026149719657300586, 0.0066562922764037856, 0.0936159963731361, 0.008225275455841822, 0.00313796635887607, 0.14054285692178278, 0.03099930403010906, 0.013502764332133394, 0.1128941793241767, 0.8848462703786821, 0.988389697955571, 0.0022976496415235428, 0.15187464130470618, 0.5261617679088914, 0.003906004390590023, 0.0006892948924570629, 0.18610962096340697, 0.004135769354742377, 0.00022976496415235429, 0.04296604829649025, 0.08156656227408578, 0.9920368630975916, 0.9973856543269431, 0.9966630606383298, 0.9876347831201431, 0.005367580343044256, 0.032589294751985035, 0.005431549125330839, 0.9396579986822352, 0.021726196501323358, 0.023796415043639562, 0.08668694051611554, 0.00509923179506562, 0.03909411042883642, 0.00679897572675416, 0.8379737583224502, 0.0009041839468978102, 0.005123709032420924, 0.47349099352548657, 0.047017565238686124, 0.00452091973448905, 0.012658575256569342, 0.28421515397487834, 0.10488533784014598, 0.0361673578759124, 0.030742254194525545, 0.9084740655006321, 0.01875290502180204, 0.029171185589469836, 0.00416731222706712, 0.03958946615713764, 0.9940225172025746, 0.02120006485046379, 0.0011872036316259722, 0.0378209156932274, 0.007462422827363254, 0.1300835979224458, 0.10600032425231895, 0.029510490271845595, 0.09022747600357389, 0.018486456549604426, 0.02645768093337881, 0.3356394267125427, 0.07428502723602512, 0.12160357198226031, 0.02118848021995652, 0.9640758500080218, 0.0680935027630479, 0.9249367458647341, 0.004117358556388341, 0.9947538272234232, 0.0012833192795486227, 0.9984223994888285, 0.9940224601868517, 0.9940225123575283, 0.009636859874316867, 0.040153582809653615, 0.19801452551274895, 0.17598741722859612, 0.13445714015118296, 0.0018355923570127367, 0.022944904462659208, 0.07870102230692108, 0.018126474525500775, 0.0011472452231329603, 0.2434454363488142, 0.06447518154007237, 0.01101355414207642, 0.0027333847185389334, 0.0328006166224672, 0.07653477211909013, 0.8883500335251533, 0.0017563888355525577, 0.23570738173115324, 0.06533766468255514, 0.01159216631464688, 0.27434793611330954, 0.0007025555342210231, 0.030912443505725015, 0.0010538333013315347, 0.08255027527097021, 0.009484499711983813, 0.25046104794979474, 0.02002283272529916, 0.01580749951997302, 0.9966630654263298, 0.013501715721062357, 0.8812119793946698, 0.004500571907020786, 0.09451201004743649, 0.005400686288424943, 0.9981140190637865, 0.005878274754375299, 0.0002305205786029529, 0.06189477535489286, 0.01106498777294174, 0.16931736498386893, 0.014061755294780128, 0.007030877647390064, 0.1008527531387919, 0.14764843059519134, 0.04207000559503891, 0.35281174555181943, 0.03088975753279569, 0.056131760889819034, 0.0341842010080497, 0.02578808146221293, 0.025188358637510302, 0.05157616292442586, 0.006596951071728889, 0.043180043378589085, 0.7532518678264986, 0.0011994456494052524, 0.05877283682085737, 0.0019011078176813861, 0.0817476361602996, 0.9163339681224281, 0.980057857266453, 0.06804087537180051, 0.0008487427281305678, 0.13551592225818065, 0.10298078434650888, 0.14640812060252292, 0.019238168504292868, 0.0894009006964198, 0.010043455616211719, 0.0007072856067754731, 0.33299006366989276, 0.05474390596442162, 0.03890070837265102, 0.9891997137712772, 0.021628950729407428, 0.01227589095452854, 0.10580648870331741, 0.661923834484658, 0.0001948554119766435, 0.000779421647906574, 0.00779421647906574, 0.02961802262044981, 0.12334347578121532, 0.02513634814498701, 0.011496469306621966, 0.008749396634029771, 0.0002083189674768993, 0.13603228576241524, 0.006249569024306978, 0.12332482874632437, 0.0060412500568300794, 0.03228943995891939, 0.037080776210888074, 0.024789957129751017, 0.02041525881273613, 0.531630005001047, 0.018332069137967137, 0.05499620741390141, 0.9966631931065721, 0.005246096575979575, 0.0051115812791595865, 0.27185541487319803, 0.007129310731459423, 0.16168738677762692, 0.0009416070777399238, 0.00753285662191939, 0.14715973472106808, 0.01049219315195915, 0.03416688539227723, 0.29230173998983633, 0.042506833795116564, 0.01372056027563889, 0.9982921227212482, 0.9997840323429809, 0.9974252559935938, 0.024986079401856785, 0.01388115522325377, 0.3622981513269234, 0.003701641392867672, 0.49185560007729195, 0.013418450049145311, 0.000925410348216918, 0.07079389163859423, 0.017582796616121443, 0.003024253424986624, 0.009072760274959872, 0.018145520549919743, 0.1134095034369984, 0.8558637192712146, 0.0013975307215594458, 0.0006987653607797229, 0.04227530432717324, 0.012927159174424874, 0.0653345612329041, 0.030046910513528088, 0.13416294926970682, 0.0010481480411695845, 0.6400690704742262, 0.008734567009746537, 0.06323826515056492, 0.03679056036991827, 0.001565555760422054, 0.1640354535642219, 0.05705580993538153, 0.18525743164994307, 0.002348333640633081, 0.009306359242508876, 0.12254822591303745, 0.021308953405744624, 0.000782777880211027, 0.3109367690838246, 0.033920374809144505, 0.054098649054584315, 0.023295394032405176, 0.005324661493121183, 0.26739784435767944, 0.005823848508101294, 0.11398103508712533, 0.0023295394032405176, 0.01713875418098381, 0.06922059941057539, 0.003993496119840887, 0.004492683134820999, 0.40966614362701104, 0.04342927030326965, 0.03394471701864755, 0.9981982112397658, 0.0042740052703002475, 0.9573771805472554, 0.038466047432702224, 0.9931984769326997, 0.9921055086751613, 0.00169649871042062, 0.9975412417273245, 0.026111600686079716, 0.002125362846541372, 0.2885180064179913, 0.007286958330998991, 0.06467175518761605, 0.000531340711635343, 0.041975916219192104, 0.059661971335054235, 0.04250725693082745, 0.01935598306671607, 0.3862087915429465, 0.017002902772330977, 0.04417718488168138], \"Term\": [\"account_account\", \"account_account\", \"account_register\", \"account_register\", \"account_yet\", \"acquire\", \"acquire\", \"acquire\", \"acquire\", \"acquire\", \"acquire\", \"acquire\", \"acquire\", \"actives_stock\", \"activesstock\", \"additional_share\", \"aditikale_pearltree\", \"admin_l\", \"admit\", \"admit\", \"admit\", \"admit\", \"admit\", \"admit\", \"admit\", \"admit\", \"adrepublishing_guidebacklink\", \"adrepublishing_guidebacklink\", \"advertise\", \"advertise\", \"advertise\", \"advertise\", \"advertise\", \"advertise\", \"advertise\", \"advertisement\", \"advertisement\", \"advertisement\", \"advertisement\", \"advertisement\", \"advertisement\", \"advertisement_advertisement\", \"advertising\", \"advertising\", \"advertising\", \"advertising\", \"advertising\", \"advertising\", \"advertising\", \"advertising_purpose\", \"affiliate_program\", \"ago\", \"ago\", \"ago\", \"ago\", \"ago\", \"ago\", \"ago\", \"ago\", \"ago\", \"ahmaud_arbery\", \"ai\", \"ai\", \"ai\", \"ai\", \"ai\", \"ai\", \"ai\", \"ai\", \"ai\", \"air_purifier_washing_machine\", \"alive_new\", \"allegation\", \"allegation\", \"allegation\", \"allegation\", \"allegation\", \"allegation\", \"allegation\", \"allegation\", \"also\", \"also\", \"also\", \"also\", \"also\", \"also\", \"also\", \"also\", \"also\", \"also\", \"also\", \"also\", \"also\", \"amazonshop\", \"american_music_award\", \"amortization\", \"amortization\", \"analysis\", \"analysis\", \"analysis\", \"analysis\", \"analysis\", \"analysis\", \"analysis\", \"analysis\", \"analysis\", \"analysis\", \"analysts_rating\", \"analysts_recommendation\", \"android\", \"android\", \"android\", \"android\", \"android\", \"animated_display\", \"announce_earning\", \"anonymous_us\", \"app\", \"app\", \"app\", \"app\", \"app\", \"app\", \"app\", \"app\", \"append_comment\", \"appget\", \"appget\", \"appget\", \"apple\", \"apple\", \"apple\", \"apple\", \"apple\", \"apple\", \"apple\", \"apple\", \"apple\", \"apple\", \"apple\", \"apple_arcade\", \"apps_available\", \"archive_accesscopyright\", \"art\", \"art\", \"art\", \"art\", \"art\", \"art\", \"art\", \"art\", \"art\", \"article\", \"article\", \"article\", \"article\", \"article\", \"article\", \"article\", \"article\", \"article\", \"article\", \"associated_press\", \"associated_press\", \"associated_press\", \"associated_press\", \"associated_press_new_york\", \"author\", \"author\", \"author\", \"author\", \"author\", \"author\", \"author\", \"author\", \"author\", \"automatically_post\", \"automatically_post\", \"available\", \"available\", \"available\", \"available\", \"available\", \"available\", \"available\", \"available\", \"available\", \"available\", \"available\", \"awshack_smart\", \"bakermatt_calkinslarry\", \"base\", \"base\", \"base\", \"base\", \"base\", \"base\", \"base\", \"base\", \"base\", \"base\", \"base\", \"base\", \"based_sitereader\", \"based_sitereader\", \"basis_chart\", \"battery\", \"battery\", \"battery\", \"battery\", \"battery\", \"battery\", \"battery\", \"battery\", \"battery\", \"battery\", \"battery_life\", \"becoming_mom_people_every\", \"bengals_vs_rams_super\", \"best_balance_transfer_credit\", \"best_deal\", \"best_deal\", \"best_deal\", \"best_deal\", \"best_deal\", \"best_deal\", \"best_fashion\", \"best_price\", \"best_product\", \"best_product\", \"best_selection\", \"best_storie\", \"best_storie\", \"best_wi\", \"best_worst_jeopardy_celebrity\", \"bestreviews_bestreview\", \"bestreviews_sign\", \"bestreviews_weekly_newslett\", \"beta_experience\", \"bikini\", \"bikini\", \"bikini\", \"bikini\", \"binge\", \"binge\", \"bitcoin_etf\", \"bitcoin_etf\", \"bitcoin_etf\", \"black_history\", \"black_history\", \"black_history\", \"black_history\", \"black_history\", \"blog_content\", \"blog_content\", \"blonde_hair\", \"blonde_hair\", \"bloomberg_new\", \"bloomberg_new\", \"bloomberg_new\", \"bonds_ratesus\", \"bra\", \"bra\", \"bra\", \"brady_retire\", \"brandvoice_paid\", \"brandwriting_guidesreach\", \"brandwriting_guidesreach\", \"brian_flore\", \"browser\", \"browser\", \"browser\", \"browser\", \"browser\", \"browser\", \"browser\", \"browser_google\", \"browser_google\", \"brunette_tresse\", \"brunette_tresse\", \"brunette_tresse\", \"burch_dr_martens_dell\", \"business\", \"business\", \"business\", \"business\", \"business\", \"business\", \"business\", \"business\", \"business\", \"business\", \"business\", \"business\", \"business_closingssend\", \"buy\", \"buy\", \"buy\", \"buy\", \"buy\", \"buy\", \"buy\", \"buy\", \"buy\", \"buy\", \"buy\", \"buy\", \"buy_sold\", \"buy_top\", \"buy_top\", \"call\", \"call\", \"call\", \"call\", \"call\", \"call\", \"call\", \"call\", \"call\", \"call\", \"call\", \"call\", \"camera\", \"camera\", \"camera\", \"camera\", \"camera\", \"camera\", \"camera\", \"camera\", \"camera\", \"camera\", \"camera_caption_copyright_focal_length\", \"camerasschool\", \"cards_best_cash_back\", \"career_privacy_policy_ethic\", \"casa_famosos_jpg_quality\", \"casalemedia\", \"case\", \"case\", \"case\", \"case\", \"case\", \"case\", \"case\", \"case\", \"case\", \"case\", \"case\", \"case\", \"case\", \"ce\", \"ce\", \"ce\", \"ce\", \"ce\", \"cell_phones_days_ago\", \"change_without\", \"cheating_ex\", \"chic\", \"chic\", \"chic\", \"chic\", \"child\", \"child\", \"child\", \"child\", \"child\", \"child\", \"child\", \"child\", \"child\", \"child\", \"child\", \"chromebook\", \"chromebook\", \"city\", \"city\", \"city\", \"city\", \"city\", \"city\", \"city\", \"city\", \"city\", \"city\", \"city\", \"claim\", \"claim\", \"claim\", \"claim\", \"claim\", \"claim\", \"claim\", \"claim\", \"claim\", \"claim\", \"claim\", \"claim\", \"class_entry_date_publishe\", \"click\", \"click\", \"click\", \"click\", \"click\", \"click\", \"click\", \"click\", \"click\", \"click\", \"close\", \"close\", \"close\", \"close\", \"close\", \"close\", \"close\", \"close\", \"close\", \"close\", \"close\", \"close\", \"cloud\", \"cloud\", \"cloud\", \"cloud\", \"cloud\", \"cloud\", \"cloud\", \"cloud\", \"cloud\", \"collect_statistical\", \"collection\", \"collection\", \"collection\", \"collection\", \"collection\", \"collection\", \"collection\", \"collection\", \"collection\", \"colorsauto_generate\", \"com\", \"com\", \"com\", \"com\", \"com\", \"com\", \"com\", \"com\", \"com\", \"com\", \"com\", \"com\", \"com\", \"com_pnbcstations_jpg_quality\", \"com_watch\", \"com_watch\", \"com_watch\", \"come\", \"come\", \"come\", \"come\", \"come\", \"come\", \"come\", \"come\", \"come\", \"come\", \"come\", \"come\", \"come\", \"coming_give\", \"coming_give\", \"comment\", \"comment\", \"comment\", \"comment\", \"comment\", \"comment\", \"comment\", \"comment\", \"comment\", \"comment\", \"comment\", \"comment\", \"comment\", \"comment_share\", \"commentby_posting\", \"commentby_posting\", \"commententer\", \"commententer\", \"communications_report\", \"community_policie\", \"community_text\", \"company\", \"company\", \"company\", \"company\", \"company\", \"company\", \"company\", \"company\", \"company\", \"company\", \"company\", \"company\", \"company_lat\", \"company_lat\", \"company_lat\", \"company_lat\", \"company_lat\", \"company_listfull\", \"company_profile\", \"company_profile\", \"company_profile\", \"company_profile\", \"company_stock\", \"company_stock\", \"computer\", \"computer\", \"computer\", \"computer\", \"computer\", \"computer\", \"computers_day\", \"condottaon_tv\", \"confirm_registration\", \"consensus_rate\", \"consent\", \"consent\", \"consent\", \"consent\", \"consent\", \"consider_statement\", \"console\", \"console\", \"console\", \"console\", \"console\", \"console\", \"consumers_simplify\", \"contact_us_rss_advertise\", \"content\", \"content\", \"content\", \"content\", \"content\", \"content\", \"content\", \"content\", \"content\", \"content\", \"content_top_navigation_explore\", \"context_source_post_noid_date\", \"continue\", \"continue\", \"continue\", \"continue\", \"continue\", \"continue\", \"continue\", \"continue\", \"continue\", \"continue\", \"continue\", \"continue\", \"continue\", \"contractshost\", \"controller\", \"controller\", \"controller\", \"controller\", \"controller\", \"controller\", \"cookie\", \"cookie\", \"cookie\", \"cookie_set\", \"cookielawinfo_checkbox\", \"cookies_help\", \"copyright_nexstar_media_inc\", \"corporate_site\", \"corporate_soulthousand\", \"country\", \"country\", \"country\", \"country\", \"country\", \"country\", \"country\", \"country\", \"country\", \"country\", \"country\", \"country\", \"county\", \"county\", \"county\", \"county\", \"county\", \"county\", \"county\", \"county\", \"course\", \"course\", \"course\", \"course\", \"course\", \"course\", \"course\", \"course\", \"course\", \"course\", \"course\", \"course\", \"coursesangular_masterclass\", \"court\", \"court\", \"court\", \"court\", \"court\", \"court\", \"court\", \"court\", \"court\", \"court\", \"coverage\", \"coverage\", \"coverage\", \"coverage\", \"coverage\", \"coverage\", \"coverage\", \"coverage\", \"coverage\", \"coverage\", \"covid\", \"covid\", \"covid\", \"covid\", \"covid\", \"covid\", \"covid\", \"covid\", \"covid\", \"covid\", \"credit_cards_best_travel\", \"crop_top\", \"crop_top\", \"crwdcntrl_net\", \"crypto_market\", \"crypto_market\", \"crypto_market\", \"crypto_market\", \"current_ratio\", \"currently\", \"currently\", \"currently\", \"currently\", \"currently\", \"currently\", \"currently\", \"currently\", \"currently\", \"currently\", \"currently\", \"customer\", \"customer\", \"customer\", \"customer\", \"customer\", \"customer\", \"customer\", \"customer\", \"customer\", \"daily_enter\", \"daily_newssign\", \"data_centre\", \"data_centre\", \"datum\", \"datum\", \"datum\", \"datum\", \"datum\", \"datum\", \"datum\", \"datum\", \"datum\", \"daughter_casie\", \"day\", \"day\", \"day\", \"day\", \"day\", \"day\", \"day\", \"day\", \"day\", \"day\", \"day\", \"day\", \"day\", \"day_moving_average\", \"day_people\", \"day_people\", \"deadly\", \"deadly\", \"deadly\", \"deadly\", \"deal\", \"deal\", \"deal\", \"deal\", \"deal\", \"deal\", \"deal\", \"deal\", \"deal\", \"deal\", \"deal\", \"deals_discount\", \"deals_discount\", \"deals_discount\", \"debt_discount\", \"debt_equity\", \"debt_equity\", \"debuting\", \"deep_developmentweb_skillzzapply_psychology\", \"denver_bronco\", \"denver_bronco\", \"description_available\", \"design\", \"design\", \"design\", \"design\", \"design\", \"design\", \"design\", \"design\", \"design\", \"design\", \"design\", \"device\", \"device\", \"device\", \"device\", \"device\", \"device\", \"device\", \"device\", \"device\", \"device\", \"device\", \"dialog_window\", \"digital_transformation\", \"digital_transformation\", \"digital_transformation\", \"digital_transformation\", \"digital_transformation\", \"dinner\", \"dinner\", \"dinner\", \"dinner\", \"dinner\", \"dinner\", \"disclaimer_trende\", \"discussions_relate\", \"display\", \"display\", \"display\", \"display\", \"display\", \"display\", \"display\", \"display\", \"display\", \"display\", \"display\", \"display\", \"display\", \"dividend\", \"dividend\", \"dividend\", \"djokovic\", \"domain\", \"domain\", \"domain\", \"domain\", \"dress\", \"dress\", \"dress\", \"dress\", \"dress\", \"dress\", \"dress\", \"economic_forum_full_event\", \"edsdavid_horseykate\", \"edthere\", \"edthere\", \"educationfund\", \"ein_presswire\", \"election\", \"election\", \"election\", \"election\", \"election\", \"election\", \"election\", \"election\", \"email_subscribe\", \"email_us\", \"email_us\", \"email_us\", \"email_us\", \"email_us\", \"email_us\", \"end\", \"end\", \"end\", \"end\", \"end\", \"end\", \"end\", \"end\", \"end\", \"end\", \"end\", \"end\", \"end\", \"england\", \"english_hindi_follow_u\", \"enterprise\", \"enterprise\", \"enterprise\", \"enterprise\", \"enterprise\", \"enterprise\", \"enterprise\", \"enterprise\", \"equities_com_member_already\", \"estimated_average\", \"etf_ssubscribe\", \"etfstop_etfs\", \"ethereum_dappsbuild_private_generative\", \"evidence\", \"evidence\", \"evidence\", \"evidence\", \"evidence\", \"evidence\", \"evidence\", \"ex_dividend_date\", \"exchange\", \"exchange\", \"exchange\", \"exchange\", \"exchange\", \"exchange\", \"exchange\", \"exchange\", \"exchange\", \"exchange\", \"exchange\", \"exchange\", \"expect\", \"expect\", \"expect\", \"expect\", \"expect\", \"expect\", \"expect\", \"expect\", \"expect\", \"expect\", \"expect\", \"expect\", \"facebook_timeline\", \"facebook_timeline\", \"facebook_twitter\", \"facebook_twitter\", \"facebook_twitter\", \"facebook_twitter\", \"facebook_twitter_youtube_podcast\", \"fall\", \"fall\", \"fall\", \"fall\", \"fall\", \"fall\", \"fall\", \"fall\", \"fall\", \"fall\", \"fall\", \"fall\", \"fall\", \"false_expired_false_meta\", \"false_false_nbc_linkout_url_nbc_page_title\", \"family\", \"family\", \"family\", \"family\", \"family\", \"family\", \"family\", \"family\", \"family\", \"family\", \"family\", \"family\", \"family\", \"faq_sign\", \"faq_sign\", \"faqsstory_rejecte\", \"faqsstory_rejecte\", \"favorite_bath\", \"favorite_brand\", \"favorite_makeup\", \"feature\", \"feature\", \"feature\", \"feature\", \"feature\", \"feature\", \"feature\", \"feature\", \"feature\", \"feature\", \"feature\", \"feature\", \"feature\", \"femail_today\", \"fight\", \"fight\", \"fight\", \"fight\", \"fight\", \"fight\", \"fight\", \"fight\", \"fight\", \"fight\", \"figure\", \"figure\", \"figure\", \"figure\", \"figure\", \"figure\", \"figure\", \"figure\", \"figure\", \"figure\", \"file_pnbcstations_jpg_resize\", \"finance\", \"finance\", \"finance\", \"finance\", \"finance\", \"finance\", \"finance\", \"finance\", \"finance\", \"finance\", \"find\", \"find\", \"find\", \"find\", \"find\", \"find\", \"find\", \"find\", \"find\", \"find\", \"find\", \"find\", \"find\", \"first\", \"first\", \"first\", \"first\", \"first\", \"first\", \"first\", \"first\", \"first\", \"first\", \"first\", \"first\", \"first\", \"fit_image_meta_aperture_credit\", \"fit_medium_large\", \"fit_nbc_cc_file\", \"fitness_nutrition\", \"five_largest_us_companie\", \"flaunt\", \"flaunt\", \"flaunt\", \"focus\", \"focus\", \"focus\", \"focus\", \"focus\", \"focus\", \"focus\", \"focus\", \"focus\", \"focus\", \"focus\", \"focus\", \"focus\", \"follow\", \"follow\", \"follow\", \"follow\", \"follow\", \"follow\", \"follow\", \"follow\", \"follow\", \"follow\", \"follow\", \"following_instruction\", \"font_family\", \"font_family\", \"font_family\", \"forbesreport_security\", \"forecast\", \"forecast\", \"forecast\", \"forecast\", \"forecast\", \"forecast\", \"forecast\", \"forecast\", \"forecast\", \"forecast\", \"forget\", \"forget\", \"forget\", \"forget\", \"forget\", \"forget\", \"forget\", \"form\", \"form\", \"form\", \"form\", \"form\", \"form\", \"form\", \"form\", \"form\", \"form\", \"form\", \"formal_recommendation\", \"former\", \"former\", \"former\", \"former\", \"former\", \"former\", \"former\", \"former\", \"former\", \"funds_option\", \"fundstop_mutual\", \"gadget\", \"gadget\", \"gadget\", \"gadget\", \"gadgets_podcast\", \"gadgets_unboxe\", \"gainersstocks_gainer\", \"galaxy\", \"galaxy\", \"galaxy\", \"galaxy\", \"galaxy\", \"galaxy_ultra\", \"galaxy_ultra\", \"galaxy_ultra\", \"game\", \"game\", \"game\", \"game\", \"game\", \"game\", \"game\", \"game\", \"game\", \"game\", \"game\", \"games_refrigerator_air_cooler\", \"gamesgames_videovideo\", \"gaming\", \"gaming\", \"gaming\", \"gaming\", \"gaming\", \"gaming\", \"gaming\", \"gate\", \"gate\", \"gate\", \"gate\", \"gate\", \"gate\", \"gate\", \"gate\", \"gb\", \"gb\", \"gb\", \"gb\", \"geek\", \"geek\", \"geekbrowse\", \"gender_identity\", \"gender_identity\", \"gender_identity\", \"get\", \"get\", \"get\", \"get\", \"get\", \"get\", \"get\", \"get\", \"get\", \"get\", \"get\", \"get\", \"get\", \"get_rate\", \"get_update\", \"gifmobile_application\", \"gifmobile_application\", \"git_server\", \"give\", \"give\", \"give\", \"give\", \"give\", \"give\", \"give\", \"give\", \"give\", \"give\", \"give\", \"give\", \"give_gift_subscription_premium\", \"global\", \"global\", \"global\", \"global\", \"global\", \"global\", \"global\", \"global\", \"global\", \"global_market\", \"global_market\", \"global_market\", \"global_market\", \"global_market\", \"global_market\", \"global_market\", \"global_market\", \"global_supply\", \"global_supply\", \"go\", \"go\", \"go\", \"go\", \"go\", \"go\", \"go\", \"go\", \"go\", \"go\", \"go\", \"go\", \"go\", \"good\", \"good\", \"good\", \"good\", \"good\", \"good\", \"good\", \"good\", \"good\", \"good\", \"good\", \"good\", \"good\", \"good_men_project_ad\", \"google_cloud_certification_cloud\", \"google_searchhacker\", \"google_searchhacker\", \"gown\", \"gown\", \"gown\", \"gown\", \"graham_digital\", \"graham_holding\", \"graham_media\", \"graphicsbuild_frontend\", \"great_price\", \"great_price\", \"great_price\", \"great_price\", \"group_division\", \"grow\", \"grow\", \"grow\", \"grow\", \"grow\", \"grow\", \"grow\", \"grow\", \"grow\", \"grow\", \"grow\", \"grow\", \"grow\", \"growth\", \"growth\", \"growth\", \"growth\", \"growth\", \"growth\", \"growth\", \"growth\", \"growth\", \"growth\", \"growth_rate\", \"growth_rate\", \"guest_host_show_moment\", \"guidesearn_contestsgaming\", \"guidesearn_contestsgaming\", \"guyseattle_sketcherdanny\", \"harassment\", \"head\", \"head\", \"head\", \"head\", \"head\", \"head\", \"head\", \"head\", \"head\", \"head\", \"head\", \"head\", \"head\", \"headset\", \"headset\", \"headset\", \"headset\", \"heart\", \"heart\", \"heart\", \"heart\", \"heart\", \"heart\", \"heart\", \"heart\", \"heart\", \"heart\", \"heart\", \"heart\", \"heart\", \"hedge_fund\", \"hedge_fund\", \"hedge_fund\", \"hedge_fund\", \"height_filesize_mime_type_image\", \"help\", \"help\", \"help\", \"help\", \"help\", \"help\", \"help\", \"help\", \"help\", \"help\", \"help\", \"help\", \"help\", \"helped_million\", \"herelog_inforgot\", \"heresign\", \"hero_web_development_bootcamp\", \"highest_open\", \"hindi_copyright_red_pixel\", \"hindi_lat\", \"history_month\", \"history_month\", \"hold\", \"hold\", \"hold\", \"hold\", \"hold\", \"hold\", \"hold\", \"hold\", \"hold\", \"hold\", \"hold\", \"hold\", \"hold\", \"holding\", \"holding\", \"holding\", \"holding\", \"holding\", \"holding\", \"holding\", \"holding\", \"home\", \"home\", \"home\", \"home\", \"home\", \"home\", \"home\", \"home\", \"home\", \"home\", \"home\", \"home\", \"home\", \"homelesstimes_techboee\", \"icon_video_video_id\", \"id_use\", \"image_jpg_quality_strip\", \"immigrant\", \"implied_high\", \"implied_volatility\", \"inc_profile\", \"include\", \"include\", \"include\", \"include\", \"include\", \"include\", \"include\", \"include\", \"include\", \"include\", \"include\", \"include\", \"increase\", \"increase\", \"increase\", \"increase\", \"increase\", \"increase\", \"increase\", \"increase\", \"increase\", \"increase\", \"increase\", \"incredible_figure\", \"incredible_figure\", \"indicesworld_indice\", \"industry\", \"industry\", \"industry\", \"industry\", \"industry\", \"industry\", \"industry\", \"industry\", \"industry\", \"industry\", \"infoca_privacy\", \"infoca_privacy\", \"infofollow_result\", \"information\", \"information\", \"information\", \"information\", \"information\", \"information\", \"information\", \"information\", \"information\", \"information\", \"information\", \"information_term\", \"infrastructure\", \"infrastructure\", \"infrastructure\", \"infrastructure\", \"infrastructure\", \"infrastructure\", \"infrastructure\", \"infrastructure\", \"infrastructure\", \"innovation\", \"innovation\", \"innovation\", \"innovation\", \"innovation\", \"innovation\", \"innovation\", \"innovation\", \"institutional_investor\", \"institutional_investor\", \"intel_core\", \"intel_core\", \"intel_core\", \"interestoptions_high\", \"international_media\", \"invasion\", \"invasion\", \"invasion\", \"invasion\", \"invasion\", \"invasion\", \"invasion\", \"invest\", \"invest\", \"invest\", \"invest\", \"invest\", \"invest\", \"invest\", \"invest\", \"invest\", \"invest\", \"investigation\", \"investigation\", \"investigation\", \"investigation\", \"investigation\", \"investigation\", \"investigation\", \"investigation\", \"investigation\", \"investigation\", \"investment\", \"investment\", \"investment\", \"investment\", \"investment\", \"investment\", \"investment\", \"investment\", \"investment\", \"investment\", \"investment_decision\", \"investment_decision\", \"investment_ideasinvestment_ideas_community\", \"investor\", \"investor\", \"investor\", \"investor\", \"investor\", \"investor\", \"investor\", \"investor\", \"ipad\", \"ipad\", \"ipad\", \"ipad\", \"ipad\", \"ipad\", \"ipad\", \"iphone\", \"iphone\", \"iphone\", \"iphone\", \"iphone\", \"ishisakajon_postsseattle\", \"iso_shutter_speed_title_orientation\", \"issue_live\", \"jacket\", \"jacket\", \"jacket\", \"jacket\", \"jean\", \"jean\", \"jean\", \"jean\", \"jewish\", \"johnny_depp\", \"johnny_depp\", \"johnny_depp\", \"johnny_depp\", \"join\", \"join\", \"join\", \"join\", \"join\", \"join\", \"join\", \"join\", \"join\", \"join\", \"join\", \"join\", \"journalism_solutionsst_content_accountprint\", \"jpeg_source_url_https_media\", \"kept_goe\", \"keyboard\", \"keyboard\", \"keyboard\", \"keyboard\", \"keyboard\", \"kim_kardashian\", \"kim_kardashian\", \"kim_kardashian\", \"know\", \"know\", \"know\", \"know\", \"know\", \"know\", \"know\", \"know\", \"know\", \"know\", \"know\", \"know\", \"know\", \"laptop\", \"laptop\", \"laptop\", \"laptop\", \"laptop\", \"laptop\", \"laptop\", \"laptop\", \"laptop\", \"last_quarter\", \"last_quarter\", \"last_quarter\", \"latest_headline\", \"latest_headline\", \"latest_headline\", \"latest_headline\", \"latest_headline\", \"latest_headline\", \"latest_video\", \"launch\", \"launch\", \"launch\", \"launch\", \"launch\", \"launch\", \"launch\", \"launch\", \"launch\", \"launch\", \"launch\", \"launch\", \"law\", \"law\", \"law\", \"law\", \"law\", \"law\", \"law\", \"law\", \"law\", \"law\", \"law\", \"law\", \"leading_digital\", \"leading_digital\", \"learn\", \"learn\", \"learn\", \"learn\", \"learn\", \"learn\", \"learn\", \"learn\", \"learn\", \"learn\", \"learn\", \"learn\", \"leave\", \"leave\", \"leave\", \"leave\", \"leave\", \"leave\", \"leave\", \"leave\", \"leave\", \"leave\", \"leave\", \"leave\", \"lebron_jame\", \"lebron_jame\", \"lebron_jame\", \"left_pt_text_align\", \"leggy_display\", \"link\", \"link\", \"link\", \"link\", \"link\", \"link\", \"link\", \"link\", \"link\", \"link\", \"link\", \"link\", \"link_open\", \"list\", \"list\", \"list\", \"list\", \"list\", \"list\", \"list\", \"list\", \"list\", \"list\", \"list\", \"list\", \"load\", \"load\", \"load\", \"load\", \"load\", \"load\", \"load\", \"load\", \"load\", \"local_storie\", \"log\", \"log\", \"log\", \"log\", \"log\", \"log\", \"log\", \"login_register_equities_com\", \"login_sweepstake\", \"logo\", \"logo\", \"logo\", \"logo\", \"logo\", \"logo\", \"logo\", \"logo\", \"logo\", \"logo_read\", \"look\", \"look\", \"look\", \"look\", \"look\", \"look\", \"look\", \"look\", \"look\", \"look\", \"look\", \"look\", \"look\", \"losers_top\", \"love\", \"love\", \"love\", \"love\", \"love\", \"love\", \"love\", \"love\", \"love\", \"love\", \"love\", \"love\", \"macbook_air\", \"macbook_air\", \"macbook_pro\", \"macbook_pro\", \"mail_add_comment_comment\", \"mail_finance_finance_watchlist\", \"mail_sign\", \"mailonline\", \"mailonline\", \"mailonline\", \"mailonline_comment\", \"mailonline_comment\", \"make\", \"make\", \"make\", \"make\", \"make\", \"make\", \"make\", \"make\", \"make\", \"make\", \"make\", \"make\", \"make\", \"man\", \"man\", \"man\", \"man\", \"man\", \"man\", \"man\", \"man\", \"man\", \"man\", \"man\", \"man\", \"man\", \"manage\", \"manage\", \"manage\", \"manage\", \"manage\", \"manage\", \"manage\", \"manage\", \"manage\", \"manage\", \"manage\", \"management\", \"management\", \"management\", \"management\", \"management\", \"management\", \"management\", \"management\", \"management\", \"management\", \"management_llc\", \"management_llc\", \"market\", \"market\", \"market\", \"market\", \"market\", \"market\", \"market\", \"market\", \"market\", \"market\", \"market_analysis\", \"market_report\", \"market_report\", \"market_report\", \"market_size\", \"market_size\", \"market_size\", \"marketingblog\", \"marketingblog\", \"marlon_brando\", \"marlon_brando\", \"matchupsnba_score\", \"media_com_pnbcstations_jpg\", \"media_groupdmg\", \"media_groupdmg\", \"media_telemundodalla\", \"mediacontact_ushow\", \"mediacontact_ushow\", \"member_already\", \"meredith_corporation\", \"metaverse_internet_contestholiday_gear\", \"metaverse_internet_contestholiday_gear\", \"metaverse_pace\", \"microsoft_azure\", \"microsoft_azure\", \"microsoft_azure\", \"microsoft_azure\", \"microsoft_co_nasdaq_msft\", \"midriff\", \"midriff\", \"migrant\", \"migrant\", \"migrant\", \"minidress\", \"mins_ago\", \"mins_ago\", \"mins_ago\", \"mins_ago\", \"minute_delaye\", \"minute_delayed_basis_disclosure\", \"miss\", \"miss\", \"miss\", \"miss\", \"miss\", \"miss\", \"miss\", \"miss\", \"miss\", \"miss\", \"miss\", \"miss\", \"miss\", \"miss_deal\", \"miss_find\", \"miss_shop\", \"missed_itrecall\", \"mobiles_laptops_tv_tablet\", \"model\", \"model\", \"model\", \"model\", \"model\", \"model\", \"model\", \"model\", \"model\", \"model\", \"model\", \"multiple_website\", \"music_video\", \"music_video\", \"music_video\", \"music_video\", \"navigate\", \"navigate\", \"navigate\", \"navigate\", \"navigate\", \"navigate\", \"navigate\", \"navigate\", \"navigate\", \"nba\", \"nba\", \"nba\", \"nba\", \"nba\", \"nba\", \"nbc_attributes_size_syndication_nationalize\", \"need\", \"need\", \"need\", \"need\", \"need\", \"need\", \"need\", \"need\", \"need\", \"need\", \"need\", \"need\", \"need\", \"new\", \"new\", \"new\", \"new\", \"new\", \"new\", \"new\", \"new\", \"new\", \"new\", \"new\", \"new\", \"new_tab\", \"new_tab\", \"new_tab\", \"new_tab_open\", \"new_tab_privacy_policy\", \"new_window\", \"new_window\", \"new_window\", \"new_year\", \"new_year\", \"new_year\", \"new_year\", \"new_year\", \"new_year\", \"new_year\", \"news\", \"news\", \"news\", \"news\", \"news\", \"news\", \"news\", \"news\", \"news\", \"news\", \"news\", \"news\", \"news_also\", \"news_also\", \"news_financial\", \"news_financial\", \"news_star\", \"news_video_made\", \"newsstock_update\", \"newstraffic_lablaw_justicelocal_healthproject\", \"noon\", \"noon\", \"noon\", \"noon\", \"noonies_updatessoftware\", \"noonies_updatessoftware\", \"noteworthy_deal\", \"notice\", \"notice\", \"notice\", \"notice\", \"notice\", \"notice\", \"notice\", \"notice\", \"notice_privacy\", \"noticeabout_policy\", \"noticeabout_policy\", \"notification\", \"notification\", \"notification\", \"notification\", \"notification\", \"notification\", \"notification\", \"number\", \"number\", \"number\", \"number\", \"number\", \"number\", \"number\", \"number\", \"number\", \"number\", \"number\", \"number\", \"nunnallyfree_guyseattle\", \"oakland_new\", \"obituariespaid_replicatoday\", \"offer\", \"offer\", \"offer\", \"offer\", \"offer\", \"offer\", \"offer\", \"offer\", \"offer\", \"offer\", \"offer\", \"official_music\", \"official_music_video\", \"official_music_video_reaction\", \"official_video\", \"omneif\", \"onsundaythis\", \"onsundaythis\", \"open\", \"open\", \"open\", \"open\", \"open\", \"open\", \"open\", \"open\", \"open\", \"open\", \"open\", \"open\", \"open_inter\", \"opportunity\", \"opportunity\", \"opportunity\", \"opportunity\", \"opportunity\", \"opportunity\", \"opportunity\", \"opportunity\", \"opportunity\", \"opportunity\", \"opportunity\", \"options_high\", \"orbital\", \"organ_donor\", \"organization\", \"organization\", \"organization\", \"organization\", \"organization\", \"organization\", \"organization\", \"organization\", \"organization\", \"original_blog\", \"outlook_forecast\", \"oval_season_episode_hd\", \"overviewview\", \"overweight_rate\", \"owns_shares\", \"padding_left_pt_text\", \"padding_right_pt_padde\", \"page\", \"page\", \"page\", \"page\", \"page\", \"page\", \"page\", \"page\", \"page\", \"page\", \"pagedaily_mailmail\", \"pagedaily_mailmail\", \"pagesrequest_tech\", \"paperinside\", \"partner\", \"partner\", \"partner\", \"partner\", \"partner\", \"partner\", \"partner\", \"partner\", \"partner\", \"partner\", \"partner\", \"partner\", \"parts_accessorie\", \"password\", \"password\", \"password\", \"password\", \"password\", \"password\", \"pay\", \"pay\", \"pay\", \"pay\", \"pay\", \"pay\", \"pay\", \"pay\", \"pay\", \"pay\", \"pay\", \"paywalled_storie\", \"paywalled_storie\", \"pbs_style\", \"pc\", \"pc\", \"pc\", \"pc\", \"pc\", \"pc\", \"pc\", \"people\", \"people\", \"people\", \"people\", \"people\", \"people\", \"people\", \"people\", \"people\", \"people\", \"people\", \"people\", \"people\", \"people_com_people_com\", \"people_may\", \"peopleyour_message\", \"peopleyour_message\", \"percent_open_prev_close\", \"perry\", \"perry\", \"perry\", \"perry\", \"perry\", \"perry_sistas_season_episode\", \"personal_permission\", \"pets_supplie\", \"phone\", \"phone\", \"phone\", \"phone\", \"phone\", \"phone\", \"phone\", \"phone\", \"phone\", \"phones_days\", \"photos_videosend\", \"pinterest_email_send_text\", \"plan\", \"plan\", \"plan\", \"plan\", \"plan\", \"plan\", \"plan\", \"plan\", \"plan\", \"plan\", \"plan\", \"plan\", \"plan\", \"platform\", \"platform\", \"platform\", \"platform\", \"platform\", \"platform\", \"platform\", \"platform\", \"platform\", \"platform\", \"pnbcstations_jpg\", \"police\", \"police\", \"police\", \"police\", \"police\", \"police\", \"police\", \"police\", \"police\", \"police_officer\", \"police_officer\", \"police_officer\", \"police_officer\", \"police_officer\", \"policycookies_policyadvertise\", \"policythis_link\", \"popularmost_share\", \"portfolio\", \"portfolio\", \"portfolio\", \"portfolio\", \"portfolio\", \"portfolio\", \"portfolio\", \"portfolio\", \"portfolio_due\", \"pose\", \"pose\", \"pose\", \"pose\", \"pose\", \"pose\", \"pose\", \"pose\", \"pose\", \"pose\", \"pose\", \"position\", \"position\", \"position\", \"position\", \"position\", \"position\", \"position\", \"position\", \"position\", \"position\", \"post\", \"post\", \"post\", \"post\", \"post\", \"post\", \"post\", \"post\", \"post\", \"post\", \"post\", \"post\", \"post\", \"post_earnings_per_share\", \"post_whether\", \"post_whether\", \"postsseattle_time\", \"press_release\", \"press_release\", \"press_release\", \"press_release\", \"press_release\", \"press_release\", \"press_release\", \"press_release\", \"press_release\", \"press_release\", \"press_release\", \"presswire\", \"price\", \"price\", \"price\", \"price\", \"price\", \"price\", \"price\", \"price\", \"price\", \"price\", \"price\", \"price\", \"price_data\", \"price_data\", \"price_last_tradechange_change\", \"price_objective\", \"price_target\", \"price_target\", \"printsour_paperstop\", \"printsour_paperstop\", \"prnewswire\", \"prnewswire\", \"prnewswire\", \"prnewswire\", \"pro\", \"pro\", \"pro\", \"pro\", \"pro\", \"pro\", \"pro\", \"pro\", \"pro\", \"problem_please\", \"processor\", \"processor\", \"processor\", \"processor\", \"processor\", \"processor\", \"processor\", \"processor\", \"product\", \"product\", \"product\", \"product\", \"product\", \"product\", \"product\", \"product\", \"product\", \"product_hunt\", \"profile\", \"profile\", \"profile\", \"profile\", \"profile\", \"profile\", \"profile\", \"profile\", \"profile\", \"profile_email_preferences_newsletter\", \"profile_menu\", \"profilelogout_login\", \"prompt\", \"prompt\", \"prompt\", \"prompt\", \"prompt\", \"prompt\", \"prompt\", \"promptsfind_new\", \"provide\", \"provide\", \"provide\", \"provide\", \"provide\", \"provide\", \"provide\", \"provide\", \"provide\", \"provide\", \"provide\", \"provide\", \"pt_nbsp_font_td\", \"pt_padding_right_pt\", \"publication_stock\", \"publisher_visit\", \"purchase\", \"purchase\", \"purchase\", \"purchase\", \"purchase\", \"purchase\", \"purchase\", \"purchase\", \"purchase\", \"purchase\", \"purchases_share\", \"purchasing_decision\", \"purchasing_decision\", \"put\", \"put\", \"put\", \"put\", \"put\", \"put\", \"put\", \"put\", \"put\", \"put\", \"put\", \"put\", \"python_zero\", \"pythonchoose\", \"qa_properlyinsert\", \"quality_strip\", \"quarter_compare\", \"queen\", \"queen\", \"queen\", \"queen\", \"queen\", \"queen\", \"quick_ratio\", \"rate\", \"rate\", \"rate\", \"rate\", \"rate\", \"rate\", \"rate\", \"rate\", \"rate\", \"rates_currency\", \"rather\", \"rather\", \"rather\", \"rather\", \"rather\", \"rather\", \"rather\", \"rating\", \"rating\", \"rating\", \"rating\", \"rating\", \"rating\", \"rating\", \"rating\", \"rating\", \"ratio\", \"ratio\", \"ratio\", \"ratio\", \"ratio\", \"ratio\", \"ratio\", \"react\", \"react\", \"react\", \"react\", \"react\", \"react\", \"react\", \"react\", \"react\", \"react\", \"react\", \"read\", \"read\", \"read\", \"read\", \"read\", \"read\", \"read\", \"read\", \"read\", \"read\", \"read\", \"read\", \"reader_supporte\", \"reader_supporte\", \"receive\", \"receive\", \"receive\", \"receive\", \"receive\", \"receive\", \"receive\", \"receive\", \"receive\", \"receive\", \"receive\", \"receive\", \"receive\", \"receive_compensation\", \"receive_concise_daily_summary\", \"receive_verification_email_shortly\", \"refresh\", \"refresh\", \"refresh\", \"refresh\", \"refresh\", \"register_product\", \"related_companie\", \"related_companie\", \"relevant_ad\", \"replica_logintoday_timesmobile_appshelp\", \"replicatoday_paperio\", \"report\", \"report\", \"report\", \"report\", \"report\", \"report\", \"report\", \"report\", \"report\", \"report\", \"report\", \"report\", \"report\", \"represent_views\", \"research_report\", \"research_report\", \"research_report\", \"resident\", \"resident\", \"resident\", \"resident\", \"resident\", \"resident\", \"resize_caption_rendered_alt_text\", \"resize_full\", \"resize_https_media_telemundo\", \"resize_nbc_cc_file\", \"resize_width\", \"resize_width_height_mime_type\", \"resize_width_height_mime_type\", \"resting\", \"result\", \"result\", \"result\", \"result\", \"result\", \"result\", \"result\", \"result\", \"result\", \"result\", \"result\", \"result\", \"result\", \"result_description\", \"result_description\", \"result_ric\", \"result_ric\", \"return_copy\", \"reveal\", \"reveal\", \"reveal\", \"reveal\", \"reveal\", \"reveal\", \"reveal\", \"reveal\", \"reveal\", \"reveal\", \"revenge\", \"revenge\", \"revenge\", \"revenge\", \"revenue\", \"revenue\", \"revenue\", \"revenue\", \"revenue\", \"revenue\", \"revenue\", \"revenue\", \"revenue\", \"revenue_growth\", \"reviews_feature\", \"rewrite\", \"rewrite\", \"rewrite\", \"rewrite\", \"right\", \"right\", \"right\", \"right\", \"right\", \"right\", \"right\", \"right\", \"right\", \"right\", \"right\", \"right\", \"right\", \"right_font_style_font\", \"right_kubernetes_containerget_featured\", \"right_pt_padding_left\", \"rights_reserve\", \"rights_reserve\", \"rights_reserve\", \"rights_reserve\", \"rights_reserve\", \"rights_reserve\", \"rights_reserve\", \"rights_reserve\", \"rights_reserve\", \"rights_reserve\", \"rights_reserved_close_ad\", \"rights_reserved_close_ad\", \"rights_reserved_close_ad\", \"rights_sign\", \"rileymark_higginsbri\", \"rita_moreno\", \"rocket\", \"rocket\", \"rocket\", \"rocket\", \"rocket\", \"rocket\", \"rss_download\", \"run_window\", \"runners_upinterview\", \"russian\", \"russian\", \"russian\", \"russian\", \"russian\", \"russian\", \"russian_force\", \"russian_force\", \"rustlearn_anythingmeasure\", \"sale_near\", \"sans_serif_font_size\", \"sans_serif_font_size\", \"save\", \"save\", \"save\", \"save\", \"save\", \"save\", \"save\", \"save\", \"save\", \"save\", \"saving_time\", \"saving_time\", \"say\", \"say\", \"say\", \"say\", \"say\", \"say\", \"say\", \"say\", \"say\", \"say\", \"say\", \"say\", \"schedulewdpn_tv\", \"schedulewdpn_tv\", \"science_bootcamp\", \"screen\", \"screen\", \"screen\", \"screen\", \"screen\", \"screen\", \"screen\", \"screen\", \"screen\", \"screen\", \"screen\", \"seattle_time\", \"seattle_time\", \"seattle_times_privacy_statement\", \"sector\", \"sector\", \"sector\", \"sector\", \"sector\", \"sector\", \"sector\", \"sector\", \"see\", \"see\", \"see\", \"see\", \"see\", \"see\", \"see\", \"see\", \"see\", \"see\", \"see\", \"see\", \"see\", \"segmentation\", \"sell\", \"sell\", \"sell\", \"sell\", \"sell\", \"sell\", \"sell\", \"sell\", \"sell\", \"sell\", \"sells_share\", \"serif_font_size_pt\", \"serverless\", \"serverless\", \"service\", \"service\", \"service\", \"service\", \"service\", \"service\", \"service\", \"service\", \"service\", \"service\", \"service\", \"services_become\", \"session_save\", \"set\", \"set\", \"set\", \"set\", \"set\", \"set\", \"set\", \"set\", \"set\", \"set\", \"set\", \"set\", \"set\", \"sexuality\", \"sexuality\", \"sexuality\", \"sexuality\", \"share\", \"share\", \"share\", \"share\", \"share\", \"share\", \"share\", \"share\", \"share\", \"share\", \"share\", \"share\", \"share\", \"shareholder\", \"shareholder\", \"shareholder\", \"shareholder\", \"shareholder\", \"shareholder\", \"shareholder\", \"shareholder\", \"shares_sold\", \"shoes_sneaker\", \"shop\", \"shop\", \"shop\", \"shop\", \"shop\", \"shop\", \"shop\", \"shop\", \"shop\", \"shop\", \"shop\", \"show\", \"show\", \"show\", \"show\", \"show\", \"show\", \"show\", \"show\", \"show\", \"show\", \"show\", \"show\", \"show\", \"sign\", \"sign\", \"sign\", \"sign\", \"sign\", \"sign\", \"sign\", \"sign\", \"sign\", \"sign\", \"sign\", \"sign\", \"sign\", \"site\", \"site\", \"site\", \"site\", \"site\", \"site\", \"site\", \"site\", \"site\", \"site\", \"site\", \"site\", \"size_share_growth_application\", \"sizes_thumbnail\", \"skill\", \"skill\", \"skill\", \"skill\", \"skill\", \"skill\", \"skill\", \"skip\", \"skip\", \"skip\", \"skip\", \"skip\", \"skip\", \"skip\", \"skip\", \"skip\", \"skip\", \"skirt\", \"skirt\", \"skirt\", \"smart_usabout\", \"smart_watches_headphones_cameras\", \"smartwatche\", \"snap\", \"snap\", \"snap\", \"snap\", \"snap\", \"snap\", \"snap\", \"snap\", \"snap\", \"snap\", \"social_account\", \"social_media_accountsregular_platform\", \"social_media_accountsregular_platform\", \"sold_share\", \"soldier\", \"soldier\", \"soldier\", \"soldier\", \"soldier\", \"solution\", \"solution\", \"solution\", \"solution\", \"solution\", \"solution\", \"solution\", \"solution\", \"solution\", \"solution\", \"solution\", \"song_official_music_video\", \"speak\", \"speak\", \"speak\", \"speak\", \"speak\", \"speak\", \"speak\", \"speak\", \"speak\", \"speak\", \"speak\", \"speak\", \"speaker\", \"speaker\", \"speaker\", \"speaker\", \"speaker\", \"speaker\", \"speaker\", \"speakers_smart_speakers_ac\", \"split\", \"split\", \"split\", \"split\", \"split\", \"split\", \"split\", \"split\", \"split\", \"split\", \"sponsorsthank\", \"staff\", \"staff\", \"staff\", \"staff\", \"staff\", \"staff\", \"staff\", \"staff\", \"staff\", \"staff\", \"staff\", \"staffer\", \"staffer\", \"stake\", \"stake\", \"stake\", \"stake\", \"stake\", \"stake\", \"stake\", \"star\", \"star\", \"star\", \"star\", \"star\", \"star\", \"star\", \"star\", \"star\", \"star\", \"star\", \"star_game\", \"star_game\", \"star_game\", \"star_weekend\", \"starfilled_starfille\", \"starfilled_starfilled\", \"startup\", \"startup\", \"startup\", \"startup\", \"startup\", \"startup\", \"startup\", \"startup\", \"startup_awardsremove\", \"startup_awardsremove\", \"startups_winner\", \"state\", \"state\", \"state\", \"state\", \"state\", \"state\", \"state\", \"state\", \"state\", \"state\", \"state\", \"state\", \"step\", \"step\", \"step\", \"step\", \"step\", \"step\", \"step\", \"step\", \"step\", \"step\", \"step\", \"step\", \"stock\", \"stock\", \"stock\", \"stock\", \"stock\", \"stock\", \"stock\", \"stock\", \"stock\", \"stock\", \"stock\", \"stock_position\", \"stocks_day\", \"stocks_day\", \"stocks_losersstock\", \"stonebob_condottaon\", \"store\", \"store\", \"store\", \"store\", \"store\", \"store\", \"store\", \"store\", \"store\", \"store\", \"store\", \"store\", \"story\", \"story\", \"story\", \"story\", \"story\", \"story\", \"story\", \"story\", \"story\", \"story\", \"story\", \"story\", \"strategy\", \"strategy\", \"strategy\", \"strategy\", \"strategy\", \"strategy\", \"strategy\", \"strategy\", \"strategy\", \"strip\", \"strip\", \"strip\", \"strip\", \"strip\", \"strip\", \"strip\", \"strip\", \"stroll\", \"stroll\", \"stroll\", \"stroll\", \"stun\", \"stun\", \"stun\", \"subscribe\", \"subscribe\", \"subscribe\", \"subscribe\", \"subscribe\", \"subscribe\", \"subscribe\", \"subscribe\", \"subscribe\", \"subscribe\", \"suing_nfl\", \"super_science_june\", \"support\", \"support\", \"support\", \"support\", \"support\", \"support\", \"support\", \"support\", \"support\", \"support\", \"support\", \"support\", \"support\", \"supreme_court\", \"supreme_court\", \"supreme_court\", \"supreme_court\", \"supreme_court\", \"supreme_court\", \"supreme_court\", \"surface_pro\", \"surface_pro\", \"survivor\", \"survivor\", \"symbol\", \"symbol\", \"symbol\", \"symbol\", \"symbol\", \"symbol\", \"symbols_type\", \"symptom\", \"symptom\", \"symptom\", \"symptom\", \"symptom\", \"symptom\", \"tablet\", \"tablet\", \"tablet\", \"tablet\", \"tablet\", \"tablet\", \"tablet\", \"tablet\", \"tablets_science_wearables_gadget\", \"tailored_content\", \"tailored_content\", \"take\", \"take\", \"take\", \"take\", \"take\", \"take\", \"take\", \"take\", \"take\", \"take\", \"take\", \"take\", \"talk\", \"talk\", \"talk\", \"talk\", \"talk\", \"talk\", \"talk\", \"talk\", \"talk\", \"talk\", \"talk\", \"target\", \"target\", \"target\", \"target\", \"target\", \"target\", \"target\", \"target\", \"target\", \"target\", \"target\", \"target_price\", \"target_price\", \"targeted_advertise\", \"td_style_padding_top\", \"teamabout_wfmz\", \"tech_expertsannual\", \"tech_expertsannual\", \"technology\", \"technology\", \"technology\", \"technology\", \"technology\", \"technology\", \"technology\", \"technology\", \"technology\", \"technology\", \"techradar\", \"tell\", \"tell\", \"tell\", \"tell\", \"tell\", \"tell\", \"tell\", \"tell\", \"tell\", \"tell\", \"tell\", \"tell\", \"terms_conditions_complaint_redressal\", \"thread\", \"thread\", \"thread\", \"thread\", \"thread\", \"thread\", \"time\", \"time\", \"time\", \"time\", \"time\", \"time\", \"time\", \"time\", \"time\", \"time\", \"time\", \"time\", \"time\", \"time_spent\", \"time_spent\", \"times_servicesprint\", \"timesnews_obituariesphoto\", \"tlmd_nacho\", \"tom_brady_retire\", \"tool\", \"tool\", \"tool\", \"tool\", \"tool\", \"tool\", \"tool\", \"tool\", \"tool\", \"top\", \"top\", \"top\", \"top\", \"top\", \"top\", \"top\", \"top\", \"top\", \"top\", \"top\", \"top\", \"top\", \"top_list\", \"top_list\", \"top_list\", \"top_list\", \"top_list\", \"top_mutual\", \"tophomeu_newssportsu\", \"tophomeu_newssportsu\", \"topicstop_storydaily\", \"total_transaction\", \"tote_bagspiral\", \"track\", \"track\", \"track\", \"track\", \"track\", \"track\", \"track\", \"track\", \"track\", \"track\", \"track\", \"track\", \"track\", \"trade\", \"trade\", \"trade\", \"trade\", \"trade\", \"trade\", \"trade\", \"trade\", \"trade\", \"tradingview_based\", \"trafficberks_traffici\", \"travis_barker\", \"travis_barker\", \"travis_barker\", \"travis_barker\", \"trending_tickerstrending_tickers_stock\", \"trouser\", \"trouser\", \"trusted_partner\", \"trusted_review\", \"try\", \"try\", \"try\", \"try\", \"try\", \"try\", \"try\", \"try\", \"try\", \"try\", \"try\", \"try\", \"tv\", \"tv\", \"tv\", \"tv\", \"tv\", \"tv\", \"tv\", \"tv\", \"tv\", \"tv\", \"tv\", \"tv_metv\", \"tv_musictv_nw_magazinefood\", \"tvwfmz_tv\", \"tweet\", \"tweet\", \"tweet\", \"tweet\", \"tweet\", \"tweet\", \"tweet\", \"tweet\", \"tweet\", \"tweet\", \"tweet\", \"type_read\", \"type_read\", \"type_video\", \"type_video\", \"type_video_date_string_time\", \"ukprime\", \"ukprime\", \"ukrainian\", \"ukrainian\", \"ukrainian\", \"ukrainian\", \"ukrainian\", \"ukrainian\", \"update\", \"update\", \"update\", \"update\", \"update\", \"update\", \"update\", \"update\", \"update\", \"update\", \"update\", \"update\", \"us_sitemaps_feedback_archive\", \"usb_drive\", \"usb_port\", \"uscareer\", \"use\", \"use\", \"use\", \"use\", \"use\", \"use\", \"use\", \"use\", \"use\", \"use\", \"use\", \"use\", \"use\", \"usecoversbest_reviewsdo\", \"usecoversbest_reviewsdo\", \"useful_advice\", \"user\", \"user\", \"user\", \"user\", \"user\", \"user\", \"user\", \"user\", \"user\", \"user\", \"user_manual_pdf_file\", \"user_website\", \"username_sign\", \"ustermsdo\", \"ustermsdo\", \"vaccination\", \"vaccination\", \"vaccination\", \"vaccination\", \"vaccine\", \"vaccine\", \"vaccine\", \"vaccine\", \"vaccine\", \"vaccine\", \"value\", \"value\", \"value\", \"value\", \"value\", \"value\", \"value\", \"value\", \"value\", \"value\", \"vendor\", \"vendor\", \"vendor\", \"vendor\", \"vendor\", \"ventures_limite\", \"video\", \"video\", \"video\", \"video\", \"video\", \"video\", \"video\", \"video\", \"video\", \"video\", \"video\", \"video\", \"video\", \"video_games_day\", \"video_games_day\", \"video_games_days\", \"video_games_days\", \"video_made\", \"video_made\", \"video_song\", \"video_song\", \"videos_podcasts_product_finder\", \"videos_video_game\", \"view\", \"view\", \"view\", \"view\", \"view\", \"view\", \"view\", \"view\", \"view\", \"view\", \"view\", \"view\", \"view\", \"violence\", \"violence\", \"violence\", \"violence\", \"visit\", \"visit\", \"visit\", \"visit\", \"visit\", \"visit\", \"visit\", \"visit\", \"visit\", \"visit\", \"visit\", \"visit\", \"visit\", \"visit_equitie\", \"visitor\", \"visitor\", \"visitor\", \"visitor\", \"visitor\", \"visits_average\", \"want\", \"want\", \"want\", \"want\", \"want\", \"want\", \"want\", \"want\", \"want\", \"want\", \"want\", \"want\", \"want\", \"war\", \"war\", \"war\", \"war\", \"war\", \"war\", \"war\", \"war\", \"war\", \"watch_live\", \"watch_live\", \"watch_live\", \"watch_uswfmz\", \"way\", \"way\", \"way\", \"way\", \"way\", \"way\", \"way\", \"way\", \"way\", \"way\", \"way\", \"way\", \"web_series_service_center\", \"website\", \"website\", \"website\", \"website\", \"website\", \"website\", \"website\", \"website\", \"website\", \"website\", \"website\", \"week\", \"week\", \"week\", \"week\", \"week\", \"week\", \"week\", \"week\", \"week\", \"week\", \"week\", \"week\", \"week\", \"week_source\", \"well\", \"well\", \"well\", \"well\", \"well\", \"well\", \"well\", \"well\", \"well\", \"well\", \"well\", \"well\", \"well\", \"westneatnaomi_ishisakajon\", \"width_height_filesize_mime_type\", \"width_height_mime_type_image\", \"window\", \"window\", \"window\", \"window\", \"window\", \"window\", \"window\", \"window\", \"window\", \"winter_olympic\", \"winter_olympic\", \"winter_olympic\", \"winter_olympic\", \"winter_olympic\", \"woman\", \"woman\", \"woman\", \"woman\", \"woman\", \"woman\", \"woman\", \"woman\", \"woman\", \"woman\", \"woman\", \"work\", \"work\", \"work\", \"work\", \"work\", \"work\", \"work\", \"work\", \"work\", \"work\", \"work\", \"work\", \"work\", \"world\", \"world\", \"world\", \"world\", \"world\", \"world\", \"world\", \"world\", \"world\", \"world\", \"world\", \"world\", \"world\", \"worldnation_world\", \"wow\", \"wow\", \"wow\", \"writing_prompts_herefull_list\", \"writing_speake\", \"www_youtube_com_watch\", \"www_youtube_com_watch\", \"year\", \"year\", \"year\", \"year\", \"year\", \"year\", \"year\", \"year\", \"year\", \"year\", \"year\", \"year\", \"year\"]}, \"R\": 30, \"lambda.step\": 0.01, \"plot.opts\": {\"xlab\": \"PC1\", \"ylab\": \"PC2\"}, \"topic.order\": [1, 2, 3, 4, 5, 6, 7, 8, 9, 10, 11, 12, 13]};\n",
              "\n",
              "function LDAvis_load_lib(url, callback){\n",
              "  var s = document.createElement('script');\n",
              "  s.src = url;\n",
              "  s.async = true;\n",
              "  s.onreadystatechange = s.onload = callback;\n",
              "  s.onerror = function(){console.warn(\"failed to load library \" + url);};\n",
              "  document.getElementsByTagName(\"head\")[0].appendChild(s);\n",
              "}\n",
              "\n",
              "if(typeof(LDAvis) !== \"undefined\"){\n",
              "   // already loaded: just create the visualization\n",
              "   !function(LDAvis){\n",
              "       new LDAvis(\"#\" + \"ldavis_el24321398673530324963147718120\", ldavis_el24321398673530324963147718120_data);\n",
              "   }(LDAvis);\n",
              "}else if(typeof define === \"function\" && define.amd){\n",
              "   // require.js is available: use it to load d3/LDAvis\n",
              "   require.config({paths: {d3: \"https://d3js.org/d3.v5\"}});\n",
              "   require([\"d3\"], function(d3){\n",
              "      window.d3 = d3;\n",
              "      LDAvis_load_lib(\"https://cdn.jsdelivr.net/gh/bmabey/pyLDAvis@3.4.0/pyLDAvis/js/ldavis.v3.0.0.js\", function(){\n",
              "        new LDAvis(\"#\" + \"ldavis_el24321398673530324963147718120\", ldavis_el24321398673530324963147718120_data);\n",
              "      });\n",
              "    });\n",
              "}else{\n",
              "    // require.js not available: dynamically load d3 & LDAvis\n",
              "    LDAvis_load_lib(\"https://d3js.org/d3.v5.js\", function(){\n",
              "         LDAvis_load_lib(\"https://cdn.jsdelivr.net/gh/bmabey/pyLDAvis@3.4.0/pyLDAvis/js/ldavis.v3.0.0.js\", function(){\n",
              "                 new LDAvis(\"#\" + \"ldavis_el24321398673530324963147718120\", ldavis_el24321398673530324963147718120_data);\n",
              "            })\n",
              "         });\n",
              "}\n",
              "</script>"
            ],
            "text/plain": [
              "<IPython.core.display.HTML object>"
            ]
          },
          "execution_count": 39,
          "metadata": {},
          "output_type": "execute_result"
        }
      ],
      "source": [
        "%%time\n",
        "\n",
        "lda_display = gensimvis.prepare(tuned_lda_model, doc_term_matrix, dictionary, sort_topics=False, mds='mmds')\n",
        "pyLDAvis.display(lda_display)"
      ]
    },
    {
      "attachments": {},
      "cell_type": "markdown",
      "metadata": {},
      "source": [
        "### Summary of Results on News\n",
        "\n",
        "1. According to the coherence score, the best model is the one with **13** topics. The coherence score is 0.5325.\n",
        "\n",
        "2. Within the **13** topics, the topic 11 is the most important topic. However, this topic might reflect only some common words which may not cotain enough information to tell the overall story here.\n",
        "However, for the second most important topic, topic 3, it is more informative. It contains words like \"company\", \"market\", \"stock\", \"investor\", \"share\", \"business\", \"customer\". These words are more informative and can tell it is about the fundamentals and financials of the company.\n",
        "\n",
        "3. I choose N by hyperparameter tuning. I tried different number of topics and choose the one with the highest coherence score. However, it is neccessary to consider the interpretability of the topics. If the topics are not interpretable, it is not useful to choose the model with the highest coherence score. It is a trade-off between coherence score and interpretability. But in this case, the coherence score and interpretability are both good for the model with **13** topics."
      ]
    },
    {
      "cell_type": "code",
      "execution_count": 6,
      "metadata": {},
      "outputs": [
        {
          "name": "stdout",
          "output_type": "stream",
          "text": [
            "Created at: Mon, 01 May 2023 23:02:55 by Richard Yang\n"
          ]
        }
      ],
      "source": [
        "import datetime\n",
        "import pytz\n",
        "\n",
        "time = datetime.datetime.now(pytz.timezone('US/Central')).strftime(\"%a, %d %B %Y %H:%M:%S\")\n",
        "sign = 'Richard Yang'\n",
        "\n",
        "print(f'Created at: {time} by {sign}')"
      ]
    }
  ],
  "metadata": {
    "colab": {
      "provenance": []
    },
    "kernelspec": {
      "display_name": "Python 3 (ipykernel)",
      "language": "python",
      "name": "python3"
    },
    "language_info": {
      "codemirror_mode": {
        "name": "ipython",
        "version": 3
      },
      "file_extension": ".py",
      "mimetype": "text/x-python",
      "name": "python",
      "nbconvert_exporter": "python",
      "pygments_lexer": "ipython3",
      "version": "3.9.2"
    }
  },
  "nbformat": 4,
  "nbformat_minor": 0
}
