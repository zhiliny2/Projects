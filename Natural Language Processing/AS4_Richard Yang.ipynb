{
 "cells": [
  {
   "attachments": {},
   "cell_type": "markdown",
   "metadata": {},
   "source": [
    "## AS4_Sentiment Analysis\n",
    "\n",
    "Richard Yang"
   ]
  },
  {
   "attachments": {},
   "cell_type": "markdown",
   "metadata": {},
   "source": [
    "- Create classification model, predicting the outcome of food safety inspection based on the inspectors’ comments\n",
    "- Leverage the results of your homework from Week-1 and Week-2 to extract free-form text comments from inspectors\n",
    "- Discard the text from “Health Code” – only keep inspectors’ comments\n",
    "- Build classification model, predicting the outcome of inspection – your target variable is “Results”\n",
    "- Explain why you selected a particular text pre-processing technique\n",
    "- Visualize results of at least two text classifiers and select the most robust one\n",
    "- You can choose to build a binary classifier (limiting your data to Pass / Fail) or multinomial classifier with all available values in Results"
   ]
  },
  {
   "attachments": {},
   "cell_type": "markdown",
   "metadata": {},
   "source": [
    "## Data Preparation"
   ]
  },
  {
   "cell_type": "code",
   "execution_count": 2,
   "metadata": {},
   "outputs": [
    {
     "data": {
      "text/html": [
       "<div>\n",
       "<style scoped>\n",
       "    .dataframe tbody tr th:only-of-type {\n",
       "        vertical-align: middle;\n",
       "    }\n",
       "\n",
       "    .dataframe tbody tr th {\n",
       "        vertical-align: top;\n",
       "    }\n",
       "\n",
       "    .dataframe thead th {\n",
       "        text-align: right;\n",
       "    }\n",
       "</style>\n",
       "<table border=\"1\" class=\"dataframe\">\n",
       "  <thead>\n",
       "    <tr style=\"text-align: right;\">\n",
       "      <th></th>\n",
       "      <th>Inspection ID</th>\n",
       "      <th>DBA Name</th>\n",
       "      <th>AKA Name</th>\n",
       "      <th>License #</th>\n",
       "      <th>Facility Type</th>\n",
       "      <th>Risk</th>\n",
       "      <th>Address</th>\n",
       "      <th>City</th>\n",
       "      <th>State</th>\n",
       "      <th>Zip</th>\n",
       "      <th>Inspection Date</th>\n",
       "      <th>Inspection Type</th>\n",
       "      <th>Results</th>\n",
       "      <th>Violations</th>\n",
       "      <th>Latitude</th>\n",
       "      <th>Longitude</th>\n",
       "      <th>Location</th>\n",
       "    </tr>\n",
       "  </thead>\n",
       "  <tbody>\n",
       "    <tr>\n",
       "      <th>0</th>\n",
       "      <td>2563767</td>\n",
       "      <td>CERES' TABLE</td>\n",
       "      <td>CERES' TABLE</td>\n",
       "      <td>2137239.0</td>\n",
       "      <td>Restaurant</td>\n",
       "      <td>Risk 1 (High)</td>\n",
       "      <td>3124 N BROADWAY</td>\n",
       "      <td>CHICAGO</td>\n",
       "      <td>IL</td>\n",
       "      <td>60657.0</td>\n",
       "      <td>09/15/2022</td>\n",
       "      <td>Non-Inspection</td>\n",
       "      <td>No Entry</td>\n",
       "      <td>NaN</td>\n",
       "      <td>41.938412</td>\n",
       "      <td>-87.644492</td>\n",
       "      <td>(41.93841197166044, -87.64449180403412)</td>\n",
       "    </tr>\n",
       "    <tr>\n",
       "      <th>1</th>\n",
       "      <td>2563480</td>\n",
       "      <td>FINKI ELEMENTARY ACADEMY</td>\n",
       "      <td>FINKI ELEMENTARY ACADEMY</td>\n",
       "      <td>23541.0</td>\n",
       "      <td>School</td>\n",
       "      <td>Risk 1 (High)</td>\n",
       "      <td>2332 S Western (2400W)</td>\n",
       "      <td>CHICAGO</td>\n",
       "      <td>IL</td>\n",
       "      <td>60608.0</td>\n",
       "      <td>09/12/2022</td>\n",
       "      <td>Canvass</td>\n",
       "      <td>Pass</td>\n",
       "      <td>NaN</td>\n",
       "      <td>NaN</td>\n",
       "      <td>NaN</td>\n",
       "      <td>NaN</td>\n",
       "    </tr>\n",
       "    <tr>\n",
       "      <th>2</th>\n",
       "      <td>2563279</td>\n",
       "      <td>SH GRILL</td>\n",
       "      <td>SH GRILL</td>\n",
       "      <td>2863054.0</td>\n",
       "      <td>Catering</td>\n",
       "      <td>Risk 1 (High)</td>\n",
       "      <td>167 N GREEN ST</td>\n",
       "      <td>CHICAGO</td>\n",
       "      <td>IL</td>\n",
       "      <td>60607.0</td>\n",
       "      <td>09/06/2022</td>\n",
       "      <td>License</td>\n",
       "      <td>Pass</td>\n",
       "      <td>NaN</td>\n",
       "      <td>41.885044</td>\n",
       "      <td>-87.648476</td>\n",
       "      <td>(41.88504417665877, -87.64847590715003)</td>\n",
       "    </tr>\n",
       "    <tr>\n",
       "      <th>3</th>\n",
       "      <td>2562053</td>\n",
       "      <td>SUBWAY</td>\n",
       "      <td>SUBWAY</td>\n",
       "      <td>2863267.0</td>\n",
       "      <td>Restaurant</td>\n",
       "      <td>Risk 1 (High)</td>\n",
       "      <td>4351 W ARMITAGE AVE</td>\n",
       "      <td>CHICAGO</td>\n",
       "      <td>IL</td>\n",
       "      <td>60639.0</td>\n",
       "      <td>08/12/2022</td>\n",
       "      <td>License</td>\n",
       "      <td>Pass</td>\n",
       "      <td>NaN</td>\n",
       "      <td>41.916939</td>\n",
       "      <td>-87.735947</td>\n",
       "      <td>(41.9169392924408, -87.73594733406117)</td>\n",
       "    </tr>\n",
       "    <tr>\n",
       "      <th>4</th>\n",
       "      <td>2560592</td>\n",
       "      <td>PROVARE CHICAGO</td>\n",
       "      <td>PROVARE CHICAGO</td>\n",
       "      <td>2796734.0</td>\n",
       "      <td>Restaurant</td>\n",
       "      <td>Risk 1 (High)</td>\n",
       "      <td>1421 W CHICAGO AVE</td>\n",
       "      <td>CHICAGO</td>\n",
       "      <td>IL</td>\n",
       "      <td>60642.0</td>\n",
       "      <td>07/12/2022</td>\n",
       "      <td>Canvass</td>\n",
       "      <td>Pass</td>\n",
       "      <td>NaN</td>\n",
       "      <td>41.896025</td>\n",
       "      <td>-87.663272</td>\n",
       "      <td>(41.89602502708334, -87.66327229348566)</td>\n",
       "    </tr>\n",
       "  </tbody>\n",
       "</table>\n",
       "</div>"
      ],
      "text/plain": [
       "   Inspection ID                  DBA Name                  AKA Name  \\\n",
       "0        2563767              CERES' TABLE              CERES' TABLE   \n",
       "1        2563480  FINKI ELEMENTARY ACADEMY  FINKI ELEMENTARY ACADEMY   \n",
       "2        2563279                  SH GRILL                  SH GRILL   \n",
       "3        2562053                    SUBWAY                    SUBWAY   \n",
       "4        2560592           PROVARE CHICAGO           PROVARE CHICAGO   \n",
       "\n",
       "   License # Facility Type           Risk                  Address     City  \\\n",
       "0  2137239.0    Restaurant  Risk 1 (High)         3124 N BROADWAY   CHICAGO   \n",
       "1    23541.0        School  Risk 1 (High)  2332 S Western (2400W)   CHICAGO   \n",
       "2  2863054.0      Catering  Risk 1 (High)          167 N GREEN ST   CHICAGO   \n",
       "3  2863267.0    Restaurant  Risk 1 (High)     4351 W ARMITAGE AVE   CHICAGO   \n",
       "4  2796734.0    Restaurant  Risk 1 (High)      1421 W CHICAGO AVE   CHICAGO   \n",
       "\n",
       "  State      Zip Inspection Date Inspection Type   Results Violations  \\\n",
       "0    IL  60657.0      09/15/2022  Non-Inspection  No Entry        NaN   \n",
       "1    IL  60608.0      09/12/2022         Canvass      Pass        NaN   \n",
       "2    IL  60607.0      09/06/2022         License      Pass        NaN   \n",
       "3    IL  60639.0      08/12/2022         License      Pass        NaN   \n",
       "4    IL  60642.0      07/12/2022         Canvass      Pass        NaN   \n",
       "\n",
       "    Latitude  Longitude                                 Location  \n",
       "0  41.938412 -87.644492  (41.93841197166044, -87.64449180403412)  \n",
       "1        NaN        NaN                                      NaN  \n",
       "2  41.885044 -87.648476  (41.88504417665877, -87.64847590715003)  \n",
       "3  41.916939 -87.735947   (41.9169392924408, -87.73594733406117)  \n",
       "4  41.896025 -87.663272  (41.89602502708334, -87.66327229348566)  "
      ]
     },
     "execution_count": 2,
     "metadata": {},
     "output_type": "execute_result"
    }
   ],
   "source": [
    "# Read the data\n",
    "\n",
    "import pandas as pd\n",
    "import regex as re\n",
    "import collections\n",
    "df_raw = pd.read_csv('Food_Inspections.csv')\n",
    "df_raw.head(5)"
   ]
  },
  {
   "cell_type": "code",
   "execution_count": 3,
   "metadata": {},
   "outputs": [
    {
     "data": {
      "text/plain": [
       "(251211, 17)"
      ]
     },
     "execution_count": 3,
     "metadata": {},
     "output_type": "execute_result"
    }
   ],
   "source": [
    "df_raw.shape\n"
   ]
  },
  {
   "cell_type": "code",
   "execution_count": 4,
   "metadata": {},
   "outputs": [
    {
     "data": {
      "text/plain": [
       "Pass    129441\n",
       "Fail     48794\n",
       "Name: Results, dtype: int64"
      ]
     },
     "execution_count": 4,
     "metadata": {},
     "output_type": "execute_result"
    }
   ],
   "source": [
    "# Clean the data, making sure that there are no NaNs in \"Violations\" column\n",
    "df = df_raw.copy()\n",
    "# filter only 'Pass' and 'Fail' rows in 'Results' column\n",
    "\n",
    "df = df[df['Results'].isin(['Pass', 'Fail'])]\n",
    "df['Results'].value_counts()"
   ]
  },
  {
   "cell_type": "code",
   "execution_count": 5,
   "metadata": {},
   "outputs": [
    {
     "name": "stdout",
     "output_type": "stream",
     "text": [
      "3. MANAGEMENT, FOOD EMPLOYEE AND CONDITIONAL EMPLOYEE; KNOWLEDGE, RESPONSIBILITIES AND REPORTING - Comments: 2-102.14(O) OBSERVED NO EMPLOYEE HEALTH POLICY ON SITE. INSTRUCTED TO PROVIDE. PRIORITY FOUNDATION 7-38-010. | 5. PROCEDURES FOR RESPONDING TO VOMITING AND DIARRHEAL EVENTS - Comments: 2-501.11 OBSERVED NO WRITTEN PROCEDURE NOR ADEQUATE SUPPLIES ON SITE TO PROPERLY RESPOND TO VOMIT AND DIARRHEA EVENTS THAT CAN POTENTIALLY OCCUR INSIDE OF THE FACILITY. INSTRUCTED TO PROVIDE. PRIORITY FOUNDATION 7-38-005. | 10. ADEQUATE HANDWASHING SINKS PROPERLY SUPPLIED AND ACCESSIBLE - Comments: 6-301.14 OBSERVED HAND WASHING SIGNS ARE NEEDED AT ALL OF THE HAND WASHING SINKS LOCATED IN THE FOOD PREP AREA, BAR, AND IN ALL TOILET ROOMS. INSTRUCTED TO PROVIDE. | 21. PROPER HOT HOLDING TEMPERATURES - Comments: 3-501.16(A:1) OBSERVED TIME/TEMPERATURE CONTROL FOR SAFETY FOODS (RICE, DIM SUM) AT IMPROPER HOT HOLDING TEMPERATURES LOCATED INSIDE OF A HOT HOLDING UNIT; ABOUT 2 LBS OF COOKED RICE AT 106F AND ABOUT 2 LBS OF COOKED DIM SUM AT 106.5F. INSTRUCTED MANAGER TO DISCARD AND DENATURE SAID TCS FOODS AND ALWAYS MAINTAIN ALL HOT HOLDING TCS FOODS AT 135F OR ABOVE AT ALL TIMES. THE MANAGER DISCARDED SAID TCS FOODS DURING THE INSPECTION. PRIORITY VIOLATION. CITATION ISSUED 7-38-005. | 33. PROPER COOLING METHODS USED; ADEQUATE EQUIPMENT FOR TEMPERATURE CONTROL - Comments: 4-301.11 OBSERVED A HOT HOLDING UNIT (WITH TCS FOODS INSIDE) AT AN INADEQUATE HOT HOLDING TEMPERATURE OF 106F DUE TO THE UNIT NOT PLUGGED IN AND THE FACILITY USING A CANNED HEAT STERNO INSIDE OF THE UNIT. INSTRUCTED FACILITY ONLY TO USE ELECTRICAL MEANS FOR ALL TEMPERATURE CONTROL UNITS AND DO NOT USE CANNED HEAT STEREOS INSIDE OF THE UNITS IF THE UNIT IS NOT FUNCTIONING PROPERLY. UNIT TAGGED AND HELD FOR INSPECTION BY CDPH AND MAY NOT BE USED. THE MANAGER DISCONTINUED THE USE OF SAID HOT HOLDING UNIT DURING THE INSPECTION. PRIORITY VIOLATION. CITATION ISSUED 7-38-005. | 36. THERMOMETERS PROVIDED & ACCURATE - Comments: 4-302.12 OBSERVED NO METAL STEM THERMOMETER ON-SITE TO TAKE TEMPERATURES OF COLD AND HOT FOODS. INSTRUCTED TO PROVIDE. PRIORITY FOUNDATION. CITATION ISSUED 7-38-005. | 37. FOOD PROPERLY LABELED; ORIGINAL CONTAINER - Comments: 3-302.12 OBSERVED NO COMMON NAME LABELS ON THE DRY STORAGE CONTAINERS LOCATED BY THE DISH MACHINE. INSTRUCTED TO PROVIDE. | 38. INSECTS, RODENTS, & ANIMALS NOT PRESENT - Comments: 6-501.111 OBSERVED EVIDENCE OF PEST ACTIVITY ON SITE. OBSERVED ABOUT 5 LIVE ROACHED AROUND THE HIGH TEMPERATURE DISH MACHINE AND TWO LIVE ROACHES AROUND THE REFRIGERATION UNITS. INSTRUCTED TO ELIMINATE LIVE INSECT ACTIVITY, CLEAN AND SANITIZE AFFECTED AREAS AND RECOMMENDED CONTACTING PEST CONTROL FOR A SERVICE. PRIORITY FOUNDATION. CITATION ISSUED 7-38-020(A). | 38. INSECTS, RODENTS, & ANIMALS NOT PRESENT - Comments: 6-202.13 OBSERVED THE FACILITY SETTING THEIR INSECT FLY, ROACH, AND RODENT TRAPS THROUGHOUT VARIOUS AREAS OF THE FOOD PREP AREA, BAR, AND CUSTOMER DINING AREA. INSTRUCTED MANAGER TO REMOVE AND ONLY ALLOW PEST CONTROL TO SET ALL PESTS TRAPS. | 45. SINGLE-USE/SINGLE-SERVICE ARTICLES: PROPERLY STORED & USED - Comments: 4-502.13 OBSERVED FOODS BEING STORED INSIDE OF GROCERY BAGS INSIDE OF THE REACH-IN FREEZERS. INSTRUCTED TO ONLY STORE ALL FOODS INSIDE FOOD-GRADE BAGS OR FOOD-GRADE CONTAINERS. | 49. NON-FOOD/FOOD CONTACT SURFACES CLEAN - Comments: 4-601.11(C) OBSERVED EXCESSIVE ACCUMULATED GREASE DEBRIS IN BETWEEN AND INSIDE OF THE FRYERS. OBSERVED DIRT DEBRIS ON THE FANS INSIDE OF THE 2 DOOR REFRIGERATORS. OBSERVED ACCUMULATED FOOD DEBRIS ON THE GASKETS OF THE 2 DOOR REFRIGERATORS. OBSERVED FOOD AND GREASE DEBRIS AROUND THE WOK STATIONS. O OBSERVED THE INTERIOR OF THE AQUATIC TANKS WITH AN ACCUMULATED BLACK SUBSTANCE. INSTRUCTED TO CLEAN ALL. OBSERVED EXCESSIVE RUST INSIDE OF THE WALK-IN COOLER ON THE WALLS AND THE SHELVES OF THE WALK-IN COOLER. INSTRUCTED TO REMOVE RUST OR REPLACE SHELVES AND WALL PANELS IN THE WALK-IN COOLER. | 51. PLUMBING INSTALLED; PROPER BACKFLOW DEVICES - Comments: 5-204.12 UNABLE TO LOCATE THE BACKFLOW PREVENTION DEVICE ON THE ICE MACHINE IN THE FOOD PREP AREA NEXT TO THE AQUATIC TANKS. INSTRUCTED TO LOCATE OR PROVIDE. | 53. TOILET FACILITIES: PROPERLY CONSTRUCTED, SUPPLIED, & CLEANED - Comments: 5-501.17 OBSERVED NO COVERED RECEPTACLE INSIDE OF THE WOMEN'S TOILET ROOM. INSTRUCTED TO PROVIDE. | 54. GARBAGE & REFUSE PROPERLY DISPOSED; FACILITIES MAINTAINED - Comments: 5-501.15 OBSERVED OUTSIDE GREASE DUMPSTER LID NOT TIGHT FITTING. INSTRUCTED TO ALWAYS MAINTAIN ALL OUTSIDE DUMPSTER LIDS, LIDS MUST BE TIGHT FITTING AT ALL TIMES. PRIORITY FOUNDATION. CITATION ISSUED 7-38-020(B). | 55. PHYSICAL FACILITIES INSTALLED, MAINTAINED & CLEAN - Comments: 6-201.11 OBSERVED UNEVEN FLOOR SURFACES IN THE ELECTRICAL ROOM, IN THE WALK-IN COOLER, AND BY THE DISHWASHING AREA. OBSERVED THE WALL IS DETACHED BY THE 3 COMPARTMENT SINK. INSTRUCTED TO MAKE ALL SURFACES SMOOTH AND EASILY CLEANABLE. | 55. PHYSICAL FACILITIES INSTALLED, MAINTAINED & CLEAN - Comments: 6-501.114 OBSERVED ITEMS (FROZEN FOOD BOXES, DIRT DISHES) BEING STORED ON THE FLOOR IN THE WALK IN FREEZER AND BY THE DISH WASHING AREA. INSTRUCTED TO ELEVATE EVERYTHING AT LEAST 6 INCHES. | 55. PHYSICAL FACILITIES INSTALLED, MAINTAINED & CLEAN - Comments: 6-501.12 OBSERVED EXCESSIVE ACCUMULATED GREASE AND DIRT DEBRIS UNDER THE FRYERS AND UNDER THE WOK STATION/COOKING EQUIPMENT AREAS. INSTRUCTED TO CLEAN, SANITIZE AND MAINTAIN. | 57. ALL FOOD EMPLOYEES HAVE FOOD HANDLER TRAINING - Comments: 2-102.13 OBSERVED MANAGER UNABLE TO PROVIDE PROOF OF FOOD HANDLER TRAINING FOR ALL FOOD HANDLERS. INSTRUCTED TO MEET REQUIREMENTS. | 58. ALLERGEN TRAINING AS REQUIRED - Comments: 2-102.13 OBSERVED THE CITY OF CHICAGO FOOD SERVICE SANITATION MANAGERS WITHOUT THE REQUIRED ALLERGEN TRAINING. INSTRUCTED TO MEET REQUIREMENTS.\n"
     ]
    }
   ],
   "source": [
    "df.dropna(subset=['Violations'], inplace=True)\n",
    "\n",
    "print(df['Violations'].iloc[0])"
   ]
  },
  {
   "attachments": {},
   "cell_type": "markdown",
   "metadata": {},
   "source": [
    "Extract Violations"
   ]
  },
  {
   "cell_type": "code",
   "execution_count": 6,
   "metadata": {},
   "outputs": [
    {
     "data": {
      "text/plain": [
       "['MANAGEMENT, FOOD EMPLOYEE AND CONDITIONAL EMPLOYEE; KNOWLEDGE, RESPONSIBILITIES AND REPORTING',\n",
       " 'PROCEDURES FOR RESPONDING TO VOMITING AND DIARRHEAL EVENTS',\n",
       " 'ADEQUATE HANDWASHING SINKS PROPERLY SUPPLIED AND ACCESSIBLE',\n",
       " 'PROPER HOT HOLDING TEMPERATURES',\n",
       " 'PROPER COOLING METHODS USED; ADEQUATE EQUIPMENT FOR TEMPERATURE CONTROL',\n",
       " 'THERMOMETERS PROVIDED & ACCURATE',\n",
       " 'FOOD PROPERLY LABELED; ORIGINAL CONTAINER',\n",
       " 'INSECTS, RODENTS, & ANIMALS NOT PRESENT',\n",
       " 'INSECTS, RODENTS, & ANIMALS NOT PRESENT',\n",
       " 'SINGLE-USE/SINGLE-SERVICE ARTICLES: PROPERLY STORED & USED',\n",
       " 'NON-FOOD/FOOD CONTACT SURFACES CLEAN',\n",
       " 'PLUMBING INSTALLED; PROPER BACKFLOW DEVICES',\n",
       " 'TOILET FACILITIES: PROPERLY CONSTRUCTED, SUPPLIED, & CLEANED',\n",
       " 'GARBAGE & REFUSE PROPERLY DISPOSED; FACILITIES MAINTAINED',\n",
       " 'PHYSICAL FACILITIES INSTALLED, MAINTAINED & CLEAN',\n",
       " 'PHYSICAL FACILITIES INSTALLED, MAINTAINED & CLEAN',\n",
       " 'PHYSICAL FACILITIES INSTALLED, MAINTAINED & CLEAN',\n",
       " 'ALL FOOD EMPLOYEES HAVE FOOD HANDLER TRAINING',\n",
       " 'ALLERGEN TRAINING AS REQUIRED']"
      ]
     },
     "execution_count": 6,
     "metadata": {},
     "output_type": "execute_result"
    }
   ],
   "source": [
    "import regex as re\n",
    "\n",
    "df['Violations'] = df['Violations'].astype(str)\n",
    "df['Violations'] = '| ' + df['Violations'].astype(str) \n",
    "df['Violations_new']= df['Violations'].apply(lambda x: re.findall(r\"\\|\\s*\\d+\\.\\s*(.*?)\\s*(?=\\|\\s*\\d+\\.\\s*|-\\s*Comments)\", x))\n",
    "df['Violations_new'].iloc[0]\n"
   ]
  },
  {
   "attachments": {},
   "cell_type": "markdown",
   "metadata": {},
   "source": [
    "Extract Comments"
   ]
  },
  {
   "cell_type": "code",
   "execution_count": 7,
   "metadata": {},
   "outputs": [
    {
     "data": {
      "text/plain": [
       "['2-102.14(O) OBSERVED NO EMPLOYEE HEALTH POLICY ON SITE. INSTRUCTED TO PROVIDE. PRIORITY FOUNDATION 7-38-010. |',\n",
       " '2-501.11 OBSERVED NO WRITTEN PROCEDURE NOR ADEQUATE SUPPLIES ON SITE TO PROPERLY RESPOND TO VOMIT AND DIARRHEA EVENTS THAT CAN POTENTIALLY OCCUR INSIDE OF THE FACILITY. INSTRUCTED TO PROVIDE. PRIORITY FOUNDATION 7-38-005. |',\n",
       " '6-301.14 OBSERVED HAND WASHING SIGNS ARE NEEDED AT ALL OF THE HAND WASHING SINKS LOCATED IN THE FOOD PREP AREA, BAR, AND IN ALL TOILET ROOMS. INSTRUCTED TO PROVIDE. |',\n",
       " '3-501.16(A:1) OBSERVED TIME/TEMPERATURE CONTROL FOR SAFETY FOODS (RICE, DIM SUM) AT IMPROPER HOT HOLDING TEMPERATURES LOCATED INSIDE OF A HOT HOLDING UNIT; ABOUT 2 LBS OF COOKED RICE AT 106F AND ABOUT 2 LBS OF COOKED DIM SUM AT 106.5F. INSTRUCTED MANAGER TO DISCARD AND DENATURE SAID TCS FOODS AND ALWAYS MAINTAIN ALL HOT HOLDING TCS FOODS AT 135F OR ABOVE AT ALL TIMES. THE MANAGER DISCARDED SAID TCS FOODS DURING THE INSPECTION. PRIORITY VIOLATION. CITATION ISSUED 7-38-005. |',\n",
       " '4-301.11 OBSERVED A HOT HOLDING UNIT (WITH TCS FOODS INSIDE) AT AN INADEQUATE HOT HOLDING TEMPERATURE OF 106F DUE TO THE UNIT NOT PLUGGED IN AND THE FACILITY USING A CANNED HEAT STERNO INSIDE OF THE UNIT. INSTRUCTED FACILITY ONLY TO USE ELECTRICAL MEANS FOR ALL TEMPERATURE CONTROL UNITS AND DO NOT USE CANNED HEAT STEREOS INSIDE OF THE UNITS IF THE UNIT IS NOT FUNCTIONING PROPERLY. UNIT TAGGED AND HELD FOR INSPECTION BY CDPH AND MAY NOT BE USED. THE MANAGER DISCONTINUED THE USE OF SAID HOT HOLDING UNIT DURING THE INSPECTION. PRIORITY VIOLATION. CITATION ISSUED 7-38-005. |',\n",
       " '4-302.12 OBSERVED NO METAL STEM THERMOMETER ON-SITE TO TAKE TEMPERATURES OF COLD AND HOT FOODS. INSTRUCTED TO PROVIDE. PRIORITY FOUNDATION. CITATION ISSUED 7-38-005. |',\n",
       " '3-302.12 OBSERVED NO COMMON NAME LABELS ON THE DRY STORAGE CONTAINERS LOCATED BY THE DISH MACHINE. INSTRUCTED TO PROVIDE. |',\n",
       " '6-501.111 OBSERVED EVIDENCE OF PEST ACTIVITY ON SITE. OBSERVED ABOUT 5 LIVE ROACHED AROUND THE HIGH TEMPERATURE DISH MACHINE AND TWO LIVE ROACHES AROUND THE REFRIGERATION UNITS. INSTRUCTED TO ELIMINATE LIVE INSECT ACTIVITY, CLEAN AND SANITIZE AFFECTED AREAS AND RECOMMENDED CONTACTING PEST CONTROL FOR A SERVICE. PRIORITY FOUNDATION. CITATION ISSUED 7-38-020(A). |',\n",
       " '6-202.13 OBSERVED THE FACILITY SETTING THEIR INSECT FLY, ROACH, AND RODENT TRAPS THROUGHOUT VARIOUS AREAS OF THE FOOD PREP AREA, BAR, AND CUSTOMER DINING AREA. INSTRUCTED MANAGER TO REMOVE AND ONLY ALLOW PEST CONTROL TO SET ALL PESTS TRAPS. |',\n",
       " '4-502.13 OBSERVED FOODS BEING STORED INSIDE OF GROCERY BAGS INSIDE OF THE REACH-IN FREEZERS. INSTRUCTED TO ONLY STORE ALL FOODS INSIDE FOOD-GRADE BAGS OR FOOD-GRADE CONTAINERS. |',\n",
       " '4-601.11(C) OBSERVED EXCESSIVE ACCUMULATED GREASE DEBRIS IN BETWEEN AND INSIDE OF THE FRYERS. OBSERVED DIRT DEBRIS ON THE FANS INSIDE OF THE 2 DOOR REFRIGERATORS. OBSERVED ACCUMULATED FOOD DEBRIS ON THE GASKETS OF THE 2 DOOR REFRIGERATORS. OBSERVED FOOD AND GREASE DEBRIS AROUND THE WOK STATIONS. O OBSERVED THE INTERIOR OF THE AQUATIC TANKS WITH AN ACCUMULATED BLACK SUBSTANCE. INSTRUCTED TO CLEAN ALL. OBSERVED EXCESSIVE RUST INSIDE OF THE WALK-IN COOLER ON THE WALLS AND THE SHELVES OF THE WALK-IN COOLER. INSTRUCTED TO REMOVE RUST OR REPLACE SHELVES AND WALL PANELS IN THE WALK-IN COOLER. |',\n",
       " '5-204.12 UNABLE TO LOCATE THE BACKFLOW PREVENTION DEVICE ON THE ICE MACHINE IN THE FOOD PREP AREA NEXT TO THE AQUATIC TANKS. INSTRUCTED TO LOCATE OR PROVIDE. |',\n",
       " \"5-501.17 OBSERVED NO COVERED RECEPTACLE INSIDE OF THE WOMEN'S TOILET ROOM. INSTRUCTED TO PROVIDE. |\",\n",
       " '5-501.15 OBSERVED OUTSIDE GREASE DUMPSTER LID NOT TIGHT FITTING. INSTRUCTED TO ALWAYS MAINTAIN ALL OUTSIDE DUMPSTER LIDS, LIDS MUST BE TIGHT FITTING AT ALL TIMES. PRIORITY FOUNDATION. CITATION ISSUED 7-38-020(B). |',\n",
       " '6-201.11 OBSERVED UNEVEN FLOOR SURFACES IN THE ELECTRICAL ROOM, IN THE WALK-IN COOLER, AND BY THE DISHWASHING AREA. OBSERVED THE WALL IS DETACHED BY THE 3 COMPARTMENT SINK. INSTRUCTED TO MAKE ALL SURFACES SMOOTH AND EASILY CLEANABLE. |',\n",
       " '6-501.114 OBSERVED ITEMS (FROZEN FOOD BOXES, DIRT DISHES) BEING STORED ON THE FLOOR IN THE WALK IN FREEZER AND BY THE DISH WASHING AREA. INSTRUCTED TO ELEVATE EVERYTHING AT LEAST 6 INCHES. |',\n",
       " '6-501.12 OBSERVED EXCESSIVE ACCUMULATED GREASE AND DIRT DEBRIS UNDER THE FRYERS AND UNDER THE WOK STATION/COOKING EQUIPMENT AREAS. INSTRUCTED TO CLEAN, SANITIZE AND MAINTAIN. |',\n",
       " '2-102.13 OBSERVED MANAGER UNABLE TO PROVIDE PROOF OF FOOD HANDLER TRAINING FOR ALL FOOD HANDLERS. INSTRUCTED TO MEET REQUIREMENTS. |']"
      ]
     },
     "execution_count": 7,
     "metadata": {},
     "output_type": "execute_result"
    }
   ],
   "source": [
    "# create a new column to store the comments from the Violations column\n",
    "df['Comments'] = df['Violations'].apply(lambda x: re.findall(r\"Comments: (.*?)(?= \\d{1,2}\\.)\", x))\n",
    "\n",
    "df['Comments'].iloc[0]"
   ]
  },
  {
   "attachments": {},
   "cell_type": "markdown",
   "metadata": {},
   "source": [
    "Discard the code before comments"
   ]
  },
  {
   "cell_type": "code",
   "execution_count": 8,
   "metadata": {},
   "outputs": [],
   "source": [
    "# Create a new column 'Updated_Comments' in the 'df' DataFrame\n",
    "df['Updated_Comments'] = \"\"\n",
    "\n",
    "# Loop through the rows of the 'df' DataFrame\n",
    "for index, row in df.iterrows():\n",
    "    comments = row['Comments']  # Get the 'Comments' column value for the current row\n",
    "    updated_comments = []\n",
    "    for comment in comments:\n",
    "        words = comment.split()  # Split the string by whitespace\n",
    "        for word in words:\n",
    "            if re.match(r'^[A-Za-z]+$', word):  # Check if the word is an English word\n",
    "                updated_comments.append(comment[comment.index(word):])  # Remove everything before the English word and append to 'updated_comments' list\n",
    "                break  # Exit the loop after finding the first English word\n",
    "    df.at[index, 'Updated_Comments'] = updated_comments  # Store the 'updated_comments' list in 'Updated_Comments' column"
   ]
  },
  {
   "cell_type": "code",
   "execution_count": 9,
   "metadata": {},
   "outputs": [
    {
     "data": {
      "text/plain": [
       "['OBSERVED NO EMPLOYEE HEALTH POLICY ON SITE. INSTRUCTED TO PROVIDE. PRIORITY FOUNDATION 7-38-010. |',\n",
       " 'OBSERVED NO WRITTEN PROCEDURE NOR ADEQUATE SUPPLIES ON SITE TO PROPERLY RESPOND TO VOMIT AND DIARRHEA EVENTS THAT CAN POTENTIALLY OCCUR INSIDE OF THE FACILITY. INSTRUCTED TO PROVIDE. PRIORITY FOUNDATION 7-38-005. |',\n",
       " 'OBSERVED HAND WASHING SIGNS ARE NEEDED AT ALL OF THE HAND WASHING SINKS LOCATED IN THE FOOD PREP AREA, BAR, AND IN ALL TOILET ROOMS. INSTRUCTED TO PROVIDE. |',\n",
       " 'OBSERVED TIME/TEMPERATURE CONTROL FOR SAFETY FOODS (RICE, DIM SUM) AT IMPROPER HOT HOLDING TEMPERATURES LOCATED INSIDE OF A HOT HOLDING UNIT; ABOUT 2 LBS OF COOKED RICE AT 106F AND ABOUT 2 LBS OF COOKED DIM SUM AT 106.5F. INSTRUCTED MANAGER TO DISCARD AND DENATURE SAID TCS FOODS AND ALWAYS MAINTAIN ALL HOT HOLDING TCS FOODS AT 135F OR ABOVE AT ALL TIMES. THE MANAGER DISCARDED SAID TCS FOODS DURING THE INSPECTION. PRIORITY VIOLATION. CITATION ISSUED 7-38-005. |',\n",
       " 'OBSERVED A HOT HOLDING UNIT (WITH TCS FOODS INSIDE) AT AN INADEQUATE HOT HOLDING TEMPERATURE OF 106F DUE TO THE UNIT NOT PLUGGED IN AND THE FACILITY USING A CANNED HEAT STERNO INSIDE OF THE UNIT. INSTRUCTED FACILITY ONLY TO USE ELECTRICAL MEANS FOR ALL TEMPERATURE CONTROL UNITS AND DO NOT USE CANNED HEAT STEREOS INSIDE OF THE UNITS IF THE UNIT IS NOT FUNCTIONING PROPERLY. UNIT TAGGED AND HELD FOR INSPECTION BY CDPH AND MAY NOT BE USED. THE MANAGER DISCONTINUED THE USE OF SAID HOT HOLDING UNIT DURING THE INSPECTION. PRIORITY VIOLATION. CITATION ISSUED 7-38-005. |',\n",
       " 'OBSERVED NO METAL STEM THERMOMETER ON-SITE TO TAKE TEMPERATURES OF COLD AND HOT FOODS. INSTRUCTED TO PROVIDE. PRIORITY FOUNDATION. CITATION ISSUED 7-38-005. |',\n",
       " 'OBSERVED NO COMMON NAME LABELS ON THE DRY STORAGE CONTAINERS LOCATED BY THE DISH MACHINE. INSTRUCTED TO PROVIDE. |',\n",
       " 'OBSERVED EVIDENCE OF PEST ACTIVITY ON SITE. OBSERVED ABOUT 5 LIVE ROACHED AROUND THE HIGH TEMPERATURE DISH MACHINE AND TWO LIVE ROACHES AROUND THE REFRIGERATION UNITS. INSTRUCTED TO ELIMINATE LIVE INSECT ACTIVITY, CLEAN AND SANITIZE AFFECTED AREAS AND RECOMMENDED CONTACTING PEST CONTROL FOR A SERVICE. PRIORITY FOUNDATION. CITATION ISSUED 7-38-020(A). |',\n",
       " 'OBSERVED THE FACILITY SETTING THEIR INSECT FLY, ROACH, AND RODENT TRAPS THROUGHOUT VARIOUS AREAS OF THE FOOD PREP AREA, BAR, AND CUSTOMER DINING AREA. INSTRUCTED MANAGER TO REMOVE AND ONLY ALLOW PEST CONTROL TO SET ALL PESTS TRAPS. |',\n",
       " 'OBSERVED FOODS BEING STORED INSIDE OF GROCERY BAGS INSIDE OF THE REACH-IN FREEZERS. INSTRUCTED TO ONLY STORE ALL FOODS INSIDE FOOD-GRADE BAGS OR FOOD-GRADE CONTAINERS. |',\n",
       " 'OBSERVED EXCESSIVE ACCUMULATED GREASE DEBRIS IN BETWEEN AND INSIDE OF THE FRYERS. OBSERVED DIRT DEBRIS ON THE FANS INSIDE OF THE 2 DOOR REFRIGERATORS. OBSERVED ACCUMULATED FOOD DEBRIS ON THE GASKETS OF THE 2 DOOR REFRIGERATORS. OBSERVED FOOD AND GREASE DEBRIS AROUND THE WOK STATIONS. O OBSERVED THE INTERIOR OF THE AQUATIC TANKS WITH AN ACCUMULATED BLACK SUBSTANCE. INSTRUCTED TO CLEAN ALL. OBSERVED EXCESSIVE RUST INSIDE OF THE WALK-IN COOLER ON THE WALLS AND THE SHELVES OF THE WALK-IN COOLER. INSTRUCTED TO REMOVE RUST OR REPLACE SHELVES AND WALL PANELS IN THE WALK-IN COOLER. |',\n",
       " 'UNABLE TO LOCATE THE BACKFLOW PREVENTION DEVICE ON THE ICE MACHINE IN THE FOOD PREP AREA NEXT TO THE AQUATIC TANKS. INSTRUCTED TO LOCATE OR PROVIDE. |',\n",
       " \"OBSERVED NO COVERED RECEPTACLE INSIDE OF THE WOMEN'S TOILET ROOM. INSTRUCTED TO PROVIDE. |\",\n",
       " 'OBSERVED OUTSIDE GREASE DUMPSTER LID NOT TIGHT FITTING. INSTRUCTED TO ALWAYS MAINTAIN ALL OUTSIDE DUMPSTER LIDS, LIDS MUST BE TIGHT FITTING AT ALL TIMES. PRIORITY FOUNDATION. CITATION ISSUED 7-38-020(B). |',\n",
       " 'OBSERVED UNEVEN FLOOR SURFACES IN THE ELECTRICAL ROOM, IN THE WALK-IN COOLER, AND BY THE DISHWASHING AREA. OBSERVED THE WALL IS DETACHED BY THE 3 COMPARTMENT SINK. INSTRUCTED TO MAKE ALL SURFACES SMOOTH AND EASILY CLEANABLE. |',\n",
       " 'OBSERVED ITEMS (FROZEN FOOD BOXES, DIRT DISHES) BEING STORED ON THE FLOOR IN THE WALK IN FREEZER AND BY THE DISH WASHING AREA. INSTRUCTED TO ELEVATE EVERYTHING AT LEAST 6 INCHES. |',\n",
       " 'OBSERVED EXCESSIVE ACCUMULATED GREASE AND DIRT DEBRIS UNDER THE FRYERS AND UNDER THE WOK STATION/COOKING EQUIPMENT AREAS. INSTRUCTED TO CLEAN, SANITIZE AND MAINTAIN. |',\n",
       " 'OBSERVED MANAGER UNABLE TO PROVIDE PROOF OF FOOD HANDLER TRAINING FOR ALL FOOD HANDLERS. INSTRUCTED TO MEET REQUIREMENTS. |']"
      ]
     },
     "execution_count": 9,
     "metadata": {},
     "output_type": "execute_result"
    }
   ],
   "source": [
    "df['Updated_Comments'].iloc[0]"
   ]
  },
  {
   "cell_type": "code",
   "execution_count": 10,
   "metadata": {},
   "outputs": [],
   "source": [
    "# Drop rows with empty arrays in 'Comments' column\n",
    "df = df[df['Updated_Comments'].map(lambda x: len(x) > 0)]"
   ]
  },
  {
   "cell_type": "code",
   "execution_count": 11,
   "metadata": {},
   "outputs": [
    {
     "data": {
      "text/plain": [
       "(123078, 20)"
      ]
     },
     "execution_count": 11,
     "metadata": {},
     "output_type": "execute_result"
    }
   ],
   "source": [
    "# Drop na values in 'Result' column\n",
    "df.dropna(subset=['Results'], inplace=True)\n",
    "df.shape"
   ]
  },
  {
   "cell_type": "code",
   "execution_count": 12,
   "metadata": {},
   "outputs": [
    {
     "data": {
      "text/plain": [
       "Pass    79415\n",
       "Fail    43663\n",
       "Name: Results, dtype: int64"
      ]
     },
     "execution_count": 12,
     "metadata": {},
     "output_type": "execute_result"
    }
   ],
   "source": [
    "# Build classification model, predicting the outcome of inspection – your target variable is “Results”\n",
    "\n",
    "df['Results'].value_counts()"
   ]
  },
  {
   "cell_type": "code",
   "execution_count": 13,
   "metadata": {},
   "outputs": [
    {
     "data": {
      "text/plain": [
       "1    79415\n",
       "0    43663\n",
       "Name: Results1, dtype: int64"
      ]
     },
     "execution_count": 13,
     "metadata": {},
     "output_type": "execute_result"
    }
   ],
   "source": [
    "# convert label to a binary numerical variable\n",
    "\n",
    "df['Results1'] = df['Results'].map({'Pass': 1, 'Fail': 0})\n",
    "df['Results1'].value_counts()"
   ]
  },
  {
   "cell_type": "code",
   "execution_count": 14,
   "metadata": {},
   "outputs": [],
   "source": [
    "import nltk\n",
    "def remove_stopwords(words):\n",
    "    stopwords = set(nltk.corpus.stopwords.words('english'))\n",
    "    # Remove single-character tokens (mostly punctuation)\n",
    "    words = [word for word in words if len(word) > 1]\n",
    "    # Remove numbers\n",
    "    words = [word for word in words if not word.isnumeric()]\n",
    "    # Remove punctuation\n",
    "    words = [word for word in words if word.isalpha()]\n",
    "    # Lowercase all words (default_stopwords are lowercase too)\n",
    "    words = [word.lower() for word in words]\n",
    "    # Remove stopwords\n",
    "    words = [word for word in words if word not in stopwords]\n",
    "    return words\n",
    "\n",
    "def clean_text(text):\n",
    "    tokens = nltk.word_tokenize(text)\n",
    "    clean_text = remove_stopwords(tokens)\n",
    "    return clean_text\n",
    "\n",
    "def lemma(words):\n",
    "    lemmatizer = nltk.WordNetLemmatizer()\n",
    "    words = [lemmatizer.lemmatize(word) for word in words]\n",
    "    return words"
   ]
  },
  {
   "cell_type": "code",
   "execution_count": 15,
   "metadata": {},
   "outputs": [],
   "source": [
    "\n",
    "# to string\n",
    "df['Updated_Comments_new'] = df['Updated_Comments'].astype(str)\n",
    "df['Updated_Comments2'] = df['Updated_Comments_new'].apply(clean_text)"
   ]
  },
  {
   "cell_type": "code",
   "execution_count": 16,
   "metadata": {},
   "outputs": [],
   "source": [
    "df['Updated_Comments3'] = df['Updated_Comments2'].apply(lemma)"
   ]
  },
  {
   "cell_type": "code",
   "execution_count": 17,
   "metadata": {},
   "outputs": [
    {
     "data": {
      "text/plain": [
       "['OBSERVED NO EMPLOYEE HEALTH POLICY ON SITE. INSTRUCTED TO PROVIDE. PRIORITY FOUNDATION 7-38-010. |',\n",
       " 'OBSERVED NO WRITTEN PROCEDURE NOR ADEQUATE SUPPLIES ON SITE TO PROPERLY RESPOND TO VOMIT AND DIARRHEA EVENTS THAT CAN POTENTIALLY OCCUR INSIDE OF THE FACILITY. INSTRUCTED TO PROVIDE. PRIORITY FOUNDATION 7-38-005. |',\n",
       " 'OBSERVED HAND WASHING SIGNS ARE NEEDED AT ALL OF THE HAND WASHING SINKS LOCATED IN THE FOOD PREP AREA, BAR, AND IN ALL TOILET ROOMS. INSTRUCTED TO PROVIDE. |',\n",
       " 'OBSERVED TIME/TEMPERATURE CONTROL FOR SAFETY FOODS (RICE, DIM SUM) AT IMPROPER HOT HOLDING TEMPERATURES LOCATED INSIDE OF A HOT HOLDING UNIT; ABOUT 2 LBS OF COOKED RICE AT 106F AND ABOUT 2 LBS OF COOKED DIM SUM AT 106.5F. INSTRUCTED MANAGER TO DISCARD AND DENATURE SAID TCS FOODS AND ALWAYS MAINTAIN ALL HOT HOLDING TCS FOODS AT 135F OR ABOVE AT ALL TIMES. THE MANAGER DISCARDED SAID TCS FOODS DURING THE INSPECTION. PRIORITY VIOLATION. CITATION ISSUED 7-38-005. |',\n",
       " 'OBSERVED A HOT HOLDING UNIT (WITH TCS FOODS INSIDE) AT AN INADEQUATE HOT HOLDING TEMPERATURE OF 106F DUE TO THE UNIT NOT PLUGGED IN AND THE FACILITY USING A CANNED HEAT STERNO INSIDE OF THE UNIT. INSTRUCTED FACILITY ONLY TO USE ELECTRICAL MEANS FOR ALL TEMPERATURE CONTROL UNITS AND DO NOT USE CANNED HEAT STEREOS INSIDE OF THE UNITS IF THE UNIT IS NOT FUNCTIONING PROPERLY. UNIT TAGGED AND HELD FOR INSPECTION BY CDPH AND MAY NOT BE USED. THE MANAGER DISCONTINUED THE USE OF SAID HOT HOLDING UNIT DURING THE INSPECTION. PRIORITY VIOLATION. CITATION ISSUED 7-38-005. |',\n",
       " 'OBSERVED NO METAL STEM THERMOMETER ON-SITE TO TAKE TEMPERATURES OF COLD AND HOT FOODS. INSTRUCTED TO PROVIDE. PRIORITY FOUNDATION. CITATION ISSUED 7-38-005. |',\n",
       " 'OBSERVED NO COMMON NAME LABELS ON THE DRY STORAGE CONTAINERS LOCATED BY THE DISH MACHINE. INSTRUCTED TO PROVIDE. |',\n",
       " 'OBSERVED EVIDENCE OF PEST ACTIVITY ON SITE. OBSERVED ABOUT 5 LIVE ROACHED AROUND THE HIGH TEMPERATURE DISH MACHINE AND TWO LIVE ROACHES AROUND THE REFRIGERATION UNITS. INSTRUCTED TO ELIMINATE LIVE INSECT ACTIVITY, CLEAN AND SANITIZE AFFECTED AREAS AND RECOMMENDED CONTACTING PEST CONTROL FOR A SERVICE. PRIORITY FOUNDATION. CITATION ISSUED 7-38-020(A). |',\n",
       " 'OBSERVED THE FACILITY SETTING THEIR INSECT FLY, ROACH, AND RODENT TRAPS THROUGHOUT VARIOUS AREAS OF THE FOOD PREP AREA, BAR, AND CUSTOMER DINING AREA. INSTRUCTED MANAGER TO REMOVE AND ONLY ALLOW PEST CONTROL TO SET ALL PESTS TRAPS. |',\n",
       " 'OBSERVED FOODS BEING STORED INSIDE OF GROCERY BAGS INSIDE OF THE REACH-IN FREEZERS. INSTRUCTED TO ONLY STORE ALL FOODS INSIDE FOOD-GRADE BAGS OR FOOD-GRADE CONTAINERS. |',\n",
       " 'OBSERVED EXCESSIVE ACCUMULATED GREASE DEBRIS IN BETWEEN AND INSIDE OF THE FRYERS. OBSERVED DIRT DEBRIS ON THE FANS INSIDE OF THE 2 DOOR REFRIGERATORS. OBSERVED ACCUMULATED FOOD DEBRIS ON THE GASKETS OF THE 2 DOOR REFRIGERATORS. OBSERVED FOOD AND GREASE DEBRIS AROUND THE WOK STATIONS. O OBSERVED THE INTERIOR OF THE AQUATIC TANKS WITH AN ACCUMULATED BLACK SUBSTANCE. INSTRUCTED TO CLEAN ALL. OBSERVED EXCESSIVE RUST INSIDE OF THE WALK-IN COOLER ON THE WALLS AND THE SHELVES OF THE WALK-IN COOLER. INSTRUCTED TO REMOVE RUST OR REPLACE SHELVES AND WALL PANELS IN THE WALK-IN COOLER. |',\n",
       " 'UNABLE TO LOCATE THE BACKFLOW PREVENTION DEVICE ON THE ICE MACHINE IN THE FOOD PREP AREA NEXT TO THE AQUATIC TANKS. INSTRUCTED TO LOCATE OR PROVIDE. |',\n",
       " \"OBSERVED NO COVERED RECEPTACLE INSIDE OF THE WOMEN'S TOILET ROOM. INSTRUCTED TO PROVIDE. |\",\n",
       " 'OBSERVED OUTSIDE GREASE DUMPSTER LID NOT TIGHT FITTING. INSTRUCTED TO ALWAYS MAINTAIN ALL OUTSIDE DUMPSTER LIDS, LIDS MUST BE TIGHT FITTING AT ALL TIMES. PRIORITY FOUNDATION. CITATION ISSUED 7-38-020(B). |',\n",
       " 'OBSERVED UNEVEN FLOOR SURFACES IN THE ELECTRICAL ROOM, IN THE WALK-IN COOLER, AND BY THE DISHWASHING AREA. OBSERVED THE WALL IS DETACHED BY THE 3 COMPARTMENT SINK. INSTRUCTED TO MAKE ALL SURFACES SMOOTH AND EASILY CLEANABLE. |',\n",
       " 'OBSERVED ITEMS (FROZEN FOOD BOXES, DIRT DISHES) BEING STORED ON THE FLOOR IN THE WALK IN FREEZER AND BY THE DISH WASHING AREA. INSTRUCTED TO ELEVATE EVERYTHING AT LEAST 6 INCHES. |',\n",
       " 'OBSERVED EXCESSIVE ACCUMULATED GREASE AND DIRT DEBRIS UNDER THE FRYERS AND UNDER THE WOK STATION/COOKING EQUIPMENT AREAS. INSTRUCTED TO CLEAN, SANITIZE AND MAINTAIN. |',\n",
       " 'OBSERVED MANAGER UNABLE TO PROVIDE PROOF OF FOOD HANDLER TRAINING FOR ALL FOOD HANDLERS. INSTRUCTED TO MEET REQUIREMENTS. |']"
      ]
     },
     "execution_count": 17,
     "metadata": {},
     "output_type": "execute_result"
    }
   ],
   "source": [
    "df['Updated_Comments'].iloc[0]"
   ]
  },
  {
   "cell_type": "code",
   "execution_count": 18,
   "metadata": {},
   "outputs": [],
   "source": [
    "# # Convert list entries to strings\n",
    "# df['Updated_Comments'] = df['Updated_Comments'].apply(', '.join)"
   ]
  },
  {
   "cell_type": "code",
   "execution_count": 19,
   "metadata": {},
   "outputs": [],
   "source": [
    "import sklearn\n",
    "import pandas as pd\n",
    "\n",
    "import wordcloud\n",
    "import matplotlib.pyplot as plt\n",
    "\n",
    "from sklearn.model_selection import train_test_split\n",
    "from sklearn.feature_extraction.text import CountVectorizer, HashingVectorizer, TfidfTransformer, TfidfVectorizer\n",
    "from sklearn.naive_bayes import MultinomialNB\n",
    "from sklearn.metrics import classification_report, confusion_matrix, accuracy_score\n",
    "from sklearn.linear_model import LogisticRegression, SGDClassifier\n",
    "from sklearn import metrics"
   ]
  },
  {
   "cell_type": "code",
   "execution_count": 20,
   "metadata": {},
   "outputs": [],
   "source": [
    "# Split the data into training and testing sets\n",
    "\n",
    "X = df['Updated_Comments3']\n",
    "y = df['Results1']\n",
    "\n",
    "X_train, X_test, y_train, y_test = train_test_split(X, y, test_size=0.3, random_state=101)"
   ]
  },
  {
   "cell_type": "code",
   "execution_count": 21,
   "metadata": {},
   "outputs": [
    {
     "name": "stdout",
     "output_type": "stream",
     "text": [
      "Training records, X_train: (86154,) y_train: (86154,)\n",
      "Testing records, X_test: (36924,) y_test: (36924,)\n"
     ]
    }
   ],
   "source": [
    "\n",
    "print(f\"Training records, X_train: {X_train.shape} y_train: {y_train.shape}\")\n",
    "print(f\"Testing records, X_test: {X_test.shape} y_test: {y_test.shape}\")"
   ]
  },
  {
   "cell_type": "code",
   "execution_count": 22,
   "metadata": {},
   "outputs": [
    {
     "data": {
      "text/plain": [
       "167000    [cooler, paint, shall, prep, table, lower, she...\n",
       "169000    [front, customer, display, cooler, ice, buildu...\n",
       "87386     [ice, box, stored, item, fan, housing, maintai...\n",
       "92937     [rusty, food, storage, shelving, rear, food, s...\n",
       "159685    [clean, sanitize, interior, panel, ice, machin...\n",
       "                                ...                        \n",
       "15766     [food, debris, cooking, equipment, prep, table...\n",
       "163627    [individual, packaged, sell, inside, cooler, l...\n",
       "180638          [bulb, ceiling, ice, maker, must, shielded]\n",
       "181036    [licensed, pest, control, logbook, proof, serv...\n",
       "113206    [broken, floor, tile, front, bar, bar, door, f...\n",
       "Name: Updated_Comments3, Length: 86154, dtype: object"
      ]
     },
     "execution_count": 22,
     "metadata": {},
     "output_type": "execute_result"
    }
   ],
   "source": [
    "X_train\n"
   ]
  },
  {
   "cell_type": "code",
   "execution_count": 23,
   "metadata": {},
   "outputs": [],
   "source": [
    "# Convert elements in X_train and X_test to strings\n",
    "X_train = [str(doc) for doc in X_train]\n",
    "X_test = [str(doc) for doc in X_test]\n"
   ]
  },
  {
   "attachments": {},
   "cell_type": "markdown",
   "metadata": {},
   "source": [
    "## CountVectorizer for Naive Bayes, Logistic Regression, and Support Vector Machine"
   ]
  },
  {
   "cell_type": "code",
   "execution_count": 34,
   "metadata": {},
   "outputs": [
    {
     "name": "stdout",
     "output_type": "stream",
     "text": [
      "Fitting 3 folds for each of 24 candidates, totalling 72 fits\n"
     ]
    },
    {
     "name": "stderr",
     "output_type": "stream",
     "text": [
      "c:\\Users\\Richa\\AppData\\Local\\Programs\\Python\\Python39\\lib\\site-packages\\sklearn\\model_selection\\_search.py:952: UserWarning: One or more of the test scores are non-finite: [nan nan nan nan nan nan nan nan nan nan nan nan nan nan nan nan nan nan\n",
      " nan nan nan nan nan nan]\n",
      "  warnings.warn(\n"
     ]
    },
    {
     "data": {
      "text/html": [
       "<style>#sk-container-id-1 {color: black;background-color: white;}#sk-container-id-1 pre{padding: 0;}#sk-container-id-1 div.sk-toggleable {background-color: white;}#sk-container-id-1 label.sk-toggleable__label {cursor: pointer;display: block;width: 100%;margin-bottom: 0;padding: 0.3em;box-sizing: border-box;text-align: center;}#sk-container-id-1 label.sk-toggleable__label-arrow:before {content: \"▸\";float: left;margin-right: 0.25em;color: #696969;}#sk-container-id-1 label.sk-toggleable__label-arrow:hover:before {color: black;}#sk-container-id-1 div.sk-estimator:hover label.sk-toggleable__label-arrow:before {color: black;}#sk-container-id-1 div.sk-toggleable__content {max-height: 0;max-width: 0;overflow: hidden;text-align: left;background-color: #f0f8ff;}#sk-container-id-1 div.sk-toggleable__content pre {margin: 0.2em;color: black;border-radius: 0.25em;background-color: #f0f8ff;}#sk-container-id-1 input.sk-toggleable__control:checked~div.sk-toggleable__content {max-height: 200px;max-width: 100%;overflow: auto;}#sk-container-id-1 input.sk-toggleable__control:checked~label.sk-toggleable__label-arrow:before {content: \"▾\";}#sk-container-id-1 div.sk-estimator input.sk-toggleable__control:checked~label.sk-toggleable__label {background-color: #d4ebff;}#sk-container-id-1 div.sk-label input.sk-toggleable__control:checked~label.sk-toggleable__label {background-color: #d4ebff;}#sk-container-id-1 input.sk-hidden--visually {border: 0;clip: rect(1px 1px 1px 1px);clip: rect(1px, 1px, 1px, 1px);height: 1px;margin: -1px;overflow: hidden;padding: 0;position: absolute;width: 1px;}#sk-container-id-1 div.sk-estimator {font-family: monospace;background-color: #f0f8ff;border: 1px dotted black;border-radius: 0.25em;box-sizing: border-box;margin-bottom: 0.5em;}#sk-container-id-1 div.sk-estimator:hover {background-color: #d4ebff;}#sk-container-id-1 div.sk-parallel-item::after {content: \"\";width: 100%;border-bottom: 1px solid gray;flex-grow: 1;}#sk-container-id-1 div.sk-label:hover label.sk-toggleable__label {background-color: #d4ebff;}#sk-container-id-1 div.sk-serial::before {content: \"\";position: absolute;border-left: 1px solid gray;box-sizing: border-box;top: 0;bottom: 0;left: 50%;z-index: 0;}#sk-container-id-1 div.sk-serial {display: flex;flex-direction: column;align-items: center;background-color: white;padding-right: 0.2em;padding-left: 0.2em;position: relative;}#sk-container-id-1 div.sk-item {position: relative;z-index: 1;}#sk-container-id-1 div.sk-parallel {display: flex;align-items: stretch;justify-content: center;background-color: white;position: relative;}#sk-container-id-1 div.sk-item::before, #sk-container-id-1 div.sk-parallel-item::before {content: \"\";position: absolute;border-left: 1px solid gray;box-sizing: border-box;top: 0;bottom: 0;left: 50%;z-index: -1;}#sk-container-id-1 div.sk-parallel-item {display: flex;flex-direction: column;z-index: 1;position: relative;background-color: white;}#sk-container-id-1 div.sk-parallel-item:first-child::after {align-self: flex-end;width: 50%;}#sk-container-id-1 div.sk-parallel-item:last-child::after {align-self: flex-start;width: 50%;}#sk-container-id-1 div.sk-parallel-item:only-child::after {width: 0;}#sk-container-id-1 div.sk-dashed-wrapped {border: 1px dashed gray;margin: 0 0.4em 0.5em 0.4em;box-sizing: border-box;padding-bottom: 0.4em;background-color: white;}#sk-container-id-1 div.sk-label label {font-family: monospace;font-weight: bold;display: inline-block;line-height: 1.2em;}#sk-container-id-1 div.sk-label-container {text-align: center;}#sk-container-id-1 div.sk-container {/* jupyter's `normalize.less` sets `[hidden] { display: none; }` but bootstrap.min.css set `[hidden] { display: none !important; }` so we also need the `!important` here to be able to override the default hidden behavior on the sphinx rendered scikit-learn.org. See: https://github.com/scikit-learn/scikit-learn/issues/21755 */display: inline-block !important;position: relative;}#sk-container-id-1 div.sk-text-repr-fallback {display: none;}</style><div id=\"sk-container-id-1\" class=\"sk-top-container\"><div class=\"sk-text-repr-fallback\"><pre>GridSearchCV(cv=3,\n",
       "             estimator=CountVectorizer(max_df=0.8, max_features=1000,\n",
       "                                       min_df=0.2, ngram_range=(1, 3)),\n",
       "             n_jobs=-1,\n",
       "             param_grid={&#x27;max_df&#x27;: [0.8, 0.9], &#x27;max_features&#x27;: [1000, 1500],\n",
       "                         &#x27;min_df&#x27;: [0.2, 0.3],\n",
       "                         &#x27;ngram_range&#x27;: [(1, 1), (1, 2), (1, 3)]},\n",
       "             scoring=&#x27;roc_auc&#x27;, verbose=2)</pre><b>In a Jupyter environment, please rerun this cell to show the HTML representation or trust the notebook. <br />On GitHub, the HTML representation is unable to render, please try loading this page with nbviewer.org.</b></div><div class=\"sk-container\" hidden><div class=\"sk-item sk-dashed-wrapped\"><div class=\"sk-label-container\"><div class=\"sk-label sk-toggleable\"><input class=\"sk-toggleable__control sk-hidden--visually\" id=\"sk-estimator-id-1\" type=\"checkbox\" ><label for=\"sk-estimator-id-1\" class=\"sk-toggleable__label sk-toggleable__label-arrow\">GridSearchCV</label><div class=\"sk-toggleable__content\"><pre>GridSearchCV(cv=3,\n",
       "             estimator=CountVectorizer(max_df=0.8, max_features=1000,\n",
       "                                       min_df=0.2, ngram_range=(1, 3)),\n",
       "             n_jobs=-1,\n",
       "             param_grid={&#x27;max_df&#x27;: [0.8, 0.9], &#x27;max_features&#x27;: [1000, 1500],\n",
       "                         &#x27;min_df&#x27;: [0.2, 0.3],\n",
       "                         &#x27;ngram_range&#x27;: [(1, 1), (1, 2), (1, 3)]},\n",
       "             scoring=&#x27;roc_auc&#x27;, verbose=2)</pre></div></div></div><div class=\"sk-parallel\"><div class=\"sk-parallel-item\"><div class=\"sk-item\"><div class=\"sk-label-container\"><div class=\"sk-label sk-toggleable\"><input class=\"sk-toggleable__control sk-hidden--visually\" id=\"sk-estimator-id-2\" type=\"checkbox\" ><label for=\"sk-estimator-id-2\" class=\"sk-toggleable__label sk-toggleable__label-arrow\">estimator: CountVectorizer</label><div class=\"sk-toggleable__content\"><pre>CountVectorizer(max_df=0.8, max_features=1000, min_df=0.2, ngram_range=(1, 3))</pre></div></div></div><div class=\"sk-serial\"><div class=\"sk-item\"><div class=\"sk-estimator sk-toggleable\"><input class=\"sk-toggleable__control sk-hidden--visually\" id=\"sk-estimator-id-3\" type=\"checkbox\" ><label for=\"sk-estimator-id-3\" class=\"sk-toggleable__label sk-toggleable__label-arrow\">CountVectorizer</label><div class=\"sk-toggleable__content\"><pre>CountVectorizer(max_df=0.8, max_features=1000, min_df=0.2, ngram_range=(1, 3))</pre></div></div></div></div></div></div></div></div></div></div>"
      ],
      "text/plain": [
       "GridSearchCV(cv=3,\n",
       "             estimator=CountVectorizer(max_df=0.8, max_features=1000,\n",
       "                                       min_df=0.2, ngram_range=(1, 3)),\n",
       "             n_jobs=-1,\n",
       "             param_grid={'max_df': [0.8, 0.9], 'max_features': [1000, 1500],\n",
       "                         'min_df': [0.2, 0.3],\n",
       "                         'ngram_range': [(1, 1), (1, 2), (1, 3)]},\n",
       "             scoring='roc_auc', verbose=2)"
      ]
     },
     "execution_count": 34,
     "metadata": {},
     "output_type": "execute_result"
    }
   ],
   "source": [
    "# Hyperparameter tuning for CountVectorizer\n",
    "\n",
    "# Create CountVectorizer object\n",
    "countvectorizer = CountVectorizer()\n",
    "\n",
    "# using gridsearch to tune parameters for ngram_range in countvectorizer\n",
    "\n",
    "from sklearn.model_selection import GridSearchCV\n",
    "\n",
    "# Create the parameter grid based on the results of random search\n",
    "\n",
    "param_grid = {'max_df': [0.8, 0.9],\n",
    "                'min_df': [0.2, 0.3],\n",
    "                'max_features': [1000, 1500],\n",
    "                'ngram_range': [(1, 1), (1, 2), (1, 3)]}\n",
    "\n",
    "# Instantiate the grid search model\n",
    "grid_search = GridSearchCV(estimator = countvectorizer, param_grid = param_grid,cv = 3, n_jobs = -1, verbose = 2, scoring='roc_auc')\n",
    "\n",
    "# Fit the grid search to the data\n",
    "grid_search.fit(X_train, y_train)"
   ]
  },
  {
   "cell_type": "code",
   "execution_count": 35,
   "metadata": {},
   "outputs": [
    {
     "data": {
      "text/plain": [
       "{'max_df': 0.8, 'max_features': 1000, 'min_df': 0.2, 'ngram_range': (1, 1)}"
      ]
     },
     "execution_count": 35,
     "metadata": {},
     "output_type": "execute_result"
    }
   ],
   "source": [
    "# best parameters\n",
    "grid_search.best_params_"
   ]
  },
  {
   "cell_type": "code",
   "execution_count": 24,
   "metadata": {},
   "outputs": [],
   "source": [
    "# fit the model with best parameters\n",
    "\n",
    "countvectorizer = CountVectorizer(max_df=0.8, min_df=0.2, max_features=1000, ngram_range=(1,1))\n",
    "\n",
    "# Fit the CountVectorizer to the training data\n",
    "X_train_dtm = countvectorizer.fit_transform(X_train)\n",
    "\n",
    "# Transform testing data (using fitted vocabulary) into a document-term matrix\n",
    "X_test_dtm = countvectorizer.transform(X_test)"
   ]
  },
  {
   "attachments": {},
   "cell_type": "markdown",
   "metadata": {},
   "source": [
    "### Naive Bayes"
   ]
  },
  {
   "cell_type": "code",
   "execution_count": 26,
   "metadata": {},
   "outputs": [
    {
     "name": "stdout",
     "output_type": "stream",
     "text": [
      "Test Accuracy: 81.9%\n",
      "Classification Report:\n",
      "               precision    recall  f1-score   support\n",
      "\n",
      "           0       0.77      0.70      0.74     13213\n",
      "           1       0.84      0.88      0.86     23711\n",
      "\n",
      "    accuracy                           0.82     36924\n",
      "   macro avg       0.81      0.79      0.80     36924\n",
      "weighted avg       0.82      0.82      0.82     36924\n",
      "\n",
      "Confusion Matrix: \n",
      " [[ 9303  3910]\n",
      " [ 2780 20931]]\n"
     ]
    }
   ],
   "source": [
    "# instantiate a Multinomial Naive Bayes model\n",
    "nb = MultinomialNB()\n",
    "\n",
    "# train and time the model using X_train_dtm\n",
    "mod_nb_cv = nb.fit(X_train_dtm, y_train)\n",
    "\n",
    "# make class predictions for X_test_dtm\n",
    "y_pred_class_nb_cv = mod_nb_cv.predict(X_test_dtm)\n",
    "\n",
    "# calculate accuracy of class predictions\n",
    "print(f\"Test Accuracy: {metrics.accuracy_score(y_test, y_pred_class_nb_cv) * 100:.1f}%\")\n",
    "\n",
    "# calculate precision and recall\n",
    "print(f\"Classification Report:\\n {classification_report(y_test, y_pred_class_nb_cv)}\")\n",
    "\n",
    "# calculate the confusion matrix\n",
    "print(f\"Confusion Matrix: \\n {metrics.confusion_matrix(y_test, y_pred_class_nb_cv)}\")"
   ]
  },
  {
   "cell_type": "code",
   "execution_count": 29,
   "metadata": {},
   "outputs": [
    {
     "data": {
      "text/html": [
       "<div>\n",
       "<style scoped>\n",
       "    .dataframe tbody tr th:only-of-type {\n",
       "        vertical-align: middle;\n",
       "    }\n",
       "\n",
       "    .dataframe tbody tr th {\n",
       "        vertical-align: top;\n",
       "    }\n",
       "\n",
       "    .dataframe thead th {\n",
       "        text-align: right;\n",
       "    }\n",
       "</style>\n",
       "<table border=\"1\" class=\"dataframe\">\n",
       "  <thead>\n",
       "    <tr style=\"text-align: right;\">\n",
       "      <th></th>\n",
       "      <th>feature</th>\n",
       "      <th>coefficient</th>\n",
       "    </tr>\n",
       "  </thead>\n",
       "  <tbody>\n",
       "    <tr>\n",
       "      <th>31</th>\n",
       "      <td>-3.783313</td>\n",
       "      <td>water</td>\n",
       "    </tr>\n",
       "    <tr>\n",
       "      <th>30</th>\n",
       "      <td>-3.447783</td>\n",
       "      <td>wall</td>\n",
       "    </tr>\n",
       "    <tr>\n",
       "      <th>29</th>\n",
       "      <td>-3.299113</td>\n",
       "      <td>violation</td>\n",
       "    </tr>\n",
       "    <tr>\n",
       "      <th>28</th>\n",
       "      <td>-4.584954</td>\n",
       "      <td>tile</td>\n",
       "    </tr>\n",
       "    <tr>\n",
       "      <th>27</th>\n",
       "      <td>-4.539393</td>\n",
       "      <td>surface</td>\n",
       "    </tr>\n",
       "    <tr>\n",
       "      <th>26</th>\n",
       "      <td>-3.483221</td>\n",
       "      <td>storage</td>\n",
       "    </tr>\n",
       "    <tr>\n",
       "      <th>25</th>\n",
       "      <td>-4.648801</td>\n",
       "      <td>smooth</td>\n",
       "    </tr>\n",
       "    <tr>\n",
       "      <th>24</th>\n",
       "      <td>-2.976923</td>\n",
       "      <td>sink</td>\n",
       "    </tr>\n",
       "    <tr>\n",
       "      <th>23</th>\n",
       "      <td>-3.989175</td>\n",
       "      <td>room</td>\n",
       "    </tr>\n",
       "    <tr>\n",
       "      <th>22</th>\n",
       "      <td>-4.129973</td>\n",
       "      <td>replace</td>\n",
       "    </tr>\n",
       "  </tbody>\n",
       "</table>\n",
       "</div>"
      ],
      "text/plain": [
       "     feature coefficient\n",
       "31 -3.783313       water\n",
       "30 -3.447783        wall\n",
       "29 -3.299113   violation\n",
       "28 -4.584954        tile\n",
       "27 -4.539393     surface\n",
       "26 -3.483221     storage\n",
       "25 -4.648801      smooth\n",
       "24 -2.976923        sink\n",
       "23 -3.989175        room\n",
       "22 -4.129973     replace"
      ]
     },
     "execution_count": 29,
     "metadata": {},
     "output_type": "execute_result"
    }
   ],
   "source": [
    "# Most important features\n",
    "\n",
    "coefs_with_fns = list(zip(mod_nb_cv.feature_log_prob_[0], countvectorizer.get_feature_names_out()))\n",
    "\n",
    "coefs_with_fns_df = pd.DataFrame(coefs_with_fns,\n",
    "                    columns=['feature', 'coefficient'])\n",
    "\n",
    "coefs_with_fns_df.sort_values(by='coefficient', ascending=False, inplace=True)\n",
    "coefs_with_fns_df.head(10)"
   ]
  },
  {
   "attachments": {},
   "cell_type": "markdown",
   "metadata": {},
   "source": [
    "### Logistic Regression Model"
   ]
  },
  {
   "cell_type": "code",
   "execution_count": 30,
   "metadata": {},
   "outputs": [
    {
     "name": "stdout",
     "output_type": "stream",
     "text": [
      "Test Accuracy: 87.8%\n",
      "Classification Report:\n",
      "               precision    recall  f1-score   support\n",
      "\n",
      "           0       0.90      0.74      0.81     13213\n",
      "           1       0.87      0.95      0.91     23711\n",
      "\n",
      "    accuracy                           0.88     36924\n",
      "   macro avg       0.88      0.85      0.86     36924\n",
      "weighted avg       0.88      0.88      0.88     36924\n",
      "\n",
      "Confusion Matrix: \n",
      " [[ 9821  3392]\n",
      " [ 1095 22616]]\n"
     ]
    }
   ],
   "source": [
    "# instantiate a logistic regression model\n",
    "logreg = LogisticRegression(max_iter=10000)\n",
    "\n",
    "# train the model using X_train_dtm\n",
    "mod_lr_cv = logreg.fit(X_train_dtm, y_train)\n",
    "\n",
    "# make class predictions for X_test_dtm\n",
    "y_pred_class_lr_cv = logreg.predict(X_test_dtm)\n",
    "\n",
    "# calculate accuracy of class predictions\n",
    "print(f\"Test Accuracy: {metrics.accuracy_score(y_test, y_pred_class_lr_cv) * 100:.1f}%\")\n",
    "\n",
    "# calculate precision and recall\n",
    "print(f\"Classification Report:\\n {classification_report(y_test, y_pred_class_lr_cv)}\")\n",
    "\n",
    "# calculate the confusion matrix\n",
    "print(f\"Confusion Matrix: \\n {metrics.confusion_matrix(y_test, y_pred_class_lr_cv)}\")"
   ]
  },
  {
   "cell_type": "code",
   "execution_count": 32,
   "metadata": {},
   "outputs": [
    {
     "data": {
      "text/html": [
       "<div>\n",
       "<style scoped>\n",
       "    .dataframe tbody tr th:only-of-type {\n",
       "        vertical-align: middle;\n",
       "    }\n",
       "\n",
       "    .dataframe tbody tr th {\n",
       "        vertical-align: top;\n",
       "    }\n",
       "\n",
       "    .dataframe thead th {\n",
       "        text-align: right;\n",
       "    }\n",
       "</style>\n",
       "<table border=\"1\" class=\"dataframe\">\n",
       "  <thead>\n",
       "    <tr style=\"text-align: right;\">\n",
       "      <th></th>\n",
       "      <th>feature</th>\n",
       "      <th>coefficient</th>\n",
       "    </tr>\n",
       "  </thead>\n",
       "  <tbody>\n",
       "    <tr>\n",
       "      <th>29</th>\n",
       "      <td>violation</td>\n",
       "      <td>-2.718344</td>\n",
       "    </tr>\n",
       "    <tr>\n",
       "      <th>31</th>\n",
       "      <td>water</td>\n",
       "      <td>-0.623307</td>\n",
       "    </tr>\n",
       "    <tr>\n",
       "      <th>18</th>\n",
       "      <td>provide</td>\n",
       "      <td>-0.525567</td>\n",
       "    </tr>\n",
       "    <tr>\n",
       "      <th>5</th>\n",
       "      <td>door</td>\n",
       "      <td>-0.484766</td>\n",
       "    </tr>\n",
       "    <tr>\n",
       "      <th>14</th>\n",
       "      <td>machine</td>\n",
       "      <td>-0.336135</td>\n",
       "    </tr>\n",
       "    <tr>\n",
       "      <th>8</th>\n",
       "      <td>food</td>\n",
       "      <td>-0.235253</td>\n",
       "    </tr>\n",
       "    <tr>\n",
       "      <th>0</th>\n",
       "      <td>area</td>\n",
       "      <td>-0.221191</td>\n",
       "    </tr>\n",
       "    <tr>\n",
       "      <th>30</th>\n",
       "      <td>wall</td>\n",
       "      <td>-0.162778</td>\n",
       "    </tr>\n",
       "    <tr>\n",
       "      <th>24</th>\n",
       "      <td>sink</td>\n",
       "      <td>-0.123756</td>\n",
       "    </tr>\n",
       "    <tr>\n",
       "      <th>20</th>\n",
       "      <td>remove</td>\n",
       "      <td>-0.119390</td>\n",
       "    </tr>\n",
       "  </tbody>\n",
       "</table>\n",
       "</div>"
      ],
      "text/plain": [
       "      feature  coefficient\n",
       "29  violation    -2.718344\n",
       "31      water    -0.623307\n",
       "18    provide    -0.525567\n",
       "5        door    -0.484766\n",
       "14    machine    -0.336135\n",
       "8        food    -0.235253\n",
       "0        area    -0.221191\n",
       "30       wall    -0.162778\n",
       "24       sink    -0.123756\n",
       "20     remove    -0.119390"
      ]
     },
     "execution_count": 32,
     "metadata": {},
     "output_type": "execute_result"
    }
   ],
   "source": [
    "clf = mod_lr_cv\n",
    "\n",
    "feature_names = countvectorizer.get_feature_names_out()\n",
    "coefs_with_fns = zip(feature_names, clf.coef_[0])\n",
    "\n",
    "coefs_with_fns_df = pd.DataFrame(coefs_with_fns,\n",
    "                    columns=['feature', 'coefficient'])\n",
    "\n",
    "coefs_with_fns_df.sort_values(by='coefficient', ascending=True, inplace=True)\n",
    "coefs_with_fns_df.head(10)\n"
   ]
  },
  {
   "attachments": {},
   "cell_type": "markdown",
   "metadata": {},
   "source": [
    "### Support Vector Machine"
   ]
  },
  {
   "cell_type": "code",
   "execution_count": 33,
   "metadata": {},
   "outputs": [
    {
     "name": "stdout",
     "output_type": "stream",
     "text": [
      "Test Accuracy: 87.5%\n",
      "Classification Report:\n",
      "               precision    recall  f1-score   support\n",
      "\n",
      "           0       0.93      0.70      0.80     13213\n",
      "           1       0.85      0.97      0.91     23711\n",
      "\n",
      "    accuracy                           0.87     36924\n",
      "   macro avg       0.89      0.84      0.85     36924\n",
      "weighted avg       0.88      0.87      0.87     36924\n",
      "\n",
      "Confusion Matrix: \n",
      " [[ 9283  3930]\n",
      " [  693 23018]]\n"
     ]
    }
   ],
   "source": [
    "# instantiate a SVM model\n",
    "svm = SGDClassifier(max_iter=100, tol=None)\n",
    "\n",
    "# train the model using X_train_dtm\n",
    "mod_svm_cv=svm.fit(X_train_dtm, y_train)\n",
    "\n",
    "# make class predictions for X_test_dtm\n",
    "y_pred_class_svm_cv = svm.predict(X_test_dtm)\n",
    "\n",
    "# calculate accuracy of class predictions\n",
    "print(f\"Test Accuracy: {metrics.accuracy_score(y_test, y_pred_class_svm_cv) * 100:.1f}%\")\n",
    "\n",
    "# calculate precision and recall\n",
    "print(f\"Classification Report:\\n {classification_report(y_test, y_pred_class_svm_cv)}\")\n",
    "\n",
    "# calculate the confusion matrix\n",
    "print(f\"Confusion Matrix: \\n {metrics.confusion_matrix(y_test, y_pred_class_svm_cv)}\")"
   ]
  },
  {
   "cell_type": "code",
   "execution_count": 34,
   "metadata": {},
   "outputs": [
    {
     "data": {
      "text/html": [
       "<div>\n",
       "<style scoped>\n",
       "    .dataframe tbody tr th:only-of-type {\n",
       "        vertical-align: middle;\n",
       "    }\n",
       "\n",
       "    .dataframe tbody tr th {\n",
       "        vertical-align: top;\n",
       "    }\n",
       "\n",
       "    .dataframe thead th {\n",
       "        text-align: right;\n",
       "    }\n",
       "</style>\n",
       "<table border=\"1\" class=\"dataframe\">\n",
       "  <thead>\n",
       "    <tr style=\"text-align: right;\">\n",
       "      <th></th>\n",
       "      <th>feature</th>\n",
       "      <th>coefficient</th>\n",
       "    </tr>\n",
       "  </thead>\n",
       "  <tbody>\n",
       "    <tr>\n",
       "      <th>29</th>\n",
       "      <td>violation</td>\n",
       "      <td>-2.200455</td>\n",
       "    </tr>\n",
       "    <tr>\n",
       "      <th>18</th>\n",
       "      <td>provide</td>\n",
       "      <td>-0.343531</td>\n",
       "    </tr>\n",
       "    <tr>\n",
       "      <th>31</th>\n",
       "      <td>water</td>\n",
       "      <td>-0.340049</td>\n",
       "    </tr>\n",
       "    <tr>\n",
       "      <th>5</th>\n",
       "      <td>door</td>\n",
       "      <td>-0.251845</td>\n",
       "    </tr>\n",
       "    <tr>\n",
       "      <th>14</th>\n",
       "      <td>machine</td>\n",
       "      <td>-0.172926</td>\n",
       "    </tr>\n",
       "    <tr>\n",
       "      <th>8</th>\n",
       "      <td>food</td>\n",
       "      <td>-0.120700</td>\n",
       "    </tr>\n",
       "    <tr>\n",
       "      <th>30</th>\n",
       "      <td>wall</td>\n",
       "      <td>-0.080080</td>\n",
       "    </tr>\n",
       "    <tr>\n",
       "      <th>24</th>\n",
       "      <td>sink</td>\n",
       "      <td>-0.078919</td>\n",
       "    </tr>\n",
       "    <tr>\n",
       "      <th>20</th>\n",
       "      <td>remove</td>\n",
       "      <td>-0.074277</td>\n",
       "    </tr>\n",
       "    <tr>\n",
       "      <th>0</th>\n",
       "      <td>area</td>\n",
       "      <td>-0.071956</td>\n",
       "    </tr>\n",
       "  </tbody>\n",
       "</table>\n",
       "</div>"
      ],
      "text/plain": [
       "      feature  coefficient\n",
       "29  violation    -2.200455\n",
       "18    provide    -0.343531\n",
       "31      water    -0.340049\n",
       "5        door    -0.251845\n",
       "14    machine    -0.172926\n",
       "8        food    -0.120700\n",
       "30       wall    -0.080080\n",
       "24       sink    -0.078919\n",
       "20     remove    -0.074277\n",
       "0        area    -0.071956"
      ]
     },
     "execution_count": 34,
     "metadata": {},
     "output_type": "execute_result"
    }
   ],
   "source": [
    "clf = mod_svm_cv\n",
    "\n",
    "feature_names = countvectorizer.get_feature_names_out()\n",
    "coefs_with_fns = zip(feature_names, clf.coef_[0])\n",
    "\n",
    "coefs_with_fns_df = pd.DataFrame(coefs_with_fns,\n",
    "                    columns=['feature', 'coefficient'])\n",
    "\n",
    "coefs_with_fns_df.sort_values(by='coefficient', ascending=True, inplace=True)\n",
    "coefs_with_fns_df.head(10)"
   ]
  },
  {
   "attachments": {},
   "cell_type": "markdown",
   "metadata": {},
   "source": [
    "## TF-IDF Vectorizer for Naive Bayes, Logistic Regression, and Support Vector Machine"
   ]
  },
  {
   "cell_type": "code",
   "execution_count": 52,
   "metadata": {},
   "outputs": [
    {
     "name": "stdout",
     "output_type": "stream",
     "text": [
      "Fitting 3 folds for each of 24 candidates, totalling 72 fits\n"
     ]
    },
    {
     "name": "stderr",
     "output_type": "stream",
     "text": [
      "c:\\Users\\Richa\\AppData\\Local\\Programs\\Python\\Python39\\lib\\site-packages\\sklearn\\model_selection\\_search.py:952: UserWarning: One or more of the test scores are non-finite: [nan nan nan nan nan nan nan nan nan nan nan nan nan nan nan nan nan nan\n",
      " nan nan nan nan nan nan]\n",
      "  warnings.warn(\n"
     ]
    },
    {
     "data": {
      "text/html": [
       "<style>#sk-container-id-2 {color: black;background-color: white;}#sk-container-id-2 pre{padding: 0;}#sk-container-id-2 div.sk-toggleable {background-color: white;}#sk-container-id-2 label.sk-toggleable__label {cursor: pointer;display: block;width: 100%;margin-bottom: 0;padding: 0.3em;box-sizing: border-box;text-align: center;}#sk-container-id-2 label.sk-toggleable__label-arrow:before {content: \"▸\";float: left;margin-right: 0.25em;color: #696969;}#sk-container-id-2 label.sk-toggleable__label-arrow:hover:before {color: black;}#sk-container-id-2 div.sk-estimator:hover label.sk-toggleable__label-arrow:before {color: black;}#sk-container-id-2 div.sk-toggleable__content {max-height: 0;max-width: 0;overflow: hidden;text-align: left;background-color: #f0f8ff;}#sk-container-id-2 div.sk-toggleable__content pre {margin: 0.2em;color: black;border-radius: 0.25em;background-color: #f0f8ff;}#sk-container-id-2 input.sk-toggleable__control:checked~div.sk-toggleable__content {max-height: 200px;max-width: 100%;overflow: auto;}#sk-container-id-2 input.sk-toggleable__control:checked~label.sk-toggleable__label-arrow:before {content: \"▾\";}#sk-container-id-2 div.sk-estimator input.sk-toggleable__control:checked~label.sk-toggleable__label {background-color: #d4ebff;}#sk-container-id-2 div.sk-label input.sk-toggleable__control:checked~label.sk-toggleable__label {background-color: #d4ebff;}#sk-container-id-2 input.sk-hidden--visually {border: 0;clip: rect(1px 1px 1px 1px);clip: rect(1px, 1px, 1px, 1px);height: 1px;margin: -1px;overflow: hidden;padding: 0;position: absolute;width: 1px;}#sk-container-id-2 div.sk-estimator {font-family: monospace;background-color: #f0f8ff;border: 1px dotted black;border-radius: 0.25em;box-sizing: border-box;margin-bottom: 0.5em;}#sk-container-id-2 div.sk-estimator:hover {background-color: #d4ebff;}#sk-container-id-2 div.sk-parallel-item::after {content: \"\";width: 100%;border-bottom: 1px solid gray;flex-grow: 1;}#sk-container-id-2 div.sk-label:hover label.sk-toggleable__label {background-color: #d4ebff;}#sk-container-id-2 div.sk-serial::before {content: \"\";position: absolute;border-left: 1px solid gray;box-sizing: border-box;top: 0;bottom: 0;left: 50%;z-index: 0;}#sk-container-id-2 div.sk-serial {display: flex;flex-direction: column;align-items: center;background-color: white;padding-right: 0.2em;padding-left: 0.2em;position: relative;}#sk-container-id-2 div.sk-item {position: relative;z-index: 1;}#sk-container-id-2 div.sk-parallel {display: flex;align-items: stretch;justify-content: center;background-color: white;position: relative;}#sk-container-id-2 div.sk-item::before, #sk-container-id-2 div.sk-parallel-item::before {content: \"\";position: absolute;border-left: 1px solid gray;box-sizing: border-box;top: 0;bottom: 0;left: 50%;z-index: -1;}#sk-container-id-2 div.sk-parallel-item {display: flex;flex-direction: column;z-index: 1;position: relative;background-color: white;}#sk-container-id-2 div.sk-parallel-item:first-child::after {align-self: flex-end;width: 50%;}#sk-container-id-2 div.sk-parallel-item:last-child::after {align-self: flex-start;width: 50%;}#sk-container-id-2 div.sk-parallel-item:only-child::after {width: 0;}#sk-container-id-2 div.sk-dashed-wrapped {border: 1px dashed gray;margin: 0 0.4em 0.5em 0.4em;box-sizing: border-box;padding-bottom: 0.4em;background-color: white;}#sk-container-id-2 div.sk-label label {font-family: monospace;font-weight: bold;display: inline-block;line-height: 1.2em;}#sk-container-id-2 div.sk-label-container {text-align: center;}#sk-container-id-2 div.sk-container {/* jupyter's `normalize.less` sets `[hidden] { display: none; }` but bootstrap.min.css set `[hidden] { display: none !important; }` so we also need the `!important` here to be able to override the default hidden behavior on the sphinx rendered scikit-learn.org. See: https://github.com/scikit-learn/scikit-learn/issues/21755 */display: inline-block !important;position: relative;}#sk-container-id-2 div.sk-text-repr-fallback {display: none;}</style><div id=\"sk-container-id-2\" class=\"sk-top-container\"><div class=\"sk-text-repr-fallback\"><pre>GridSearchCV(cv=3, estimator=TfidfVectorizer(), n_jobs=-1,\n",
       "             param_grid={&#x27;max_df&#x27;: [0.8, 0.9], &#x27;max_features&#x27;: [1000, 1500],\n",
       "                         &#x27;min_df&#x27;: [0.2, 0.3],\n",
       "                         &#x27;ngram_range&#x27;: [(1, 1), (1, 2), (1, 3)]},\n",
       "             scoring=&#x27;roc_auc&#x27;, verbose=2)</pre><b>In a Jupyter environment, please rerun this cell to show the HTML representation or trust the notebook. <br />On GitHub, the HTML representation is unable to render, please try loading this page with nbviewer.org.</b></div><div class=\"sk-container\" hidden><div class=\"sk-item sk-dashed-wrapped\"><div class=\"sk-label-container\"><div class=\"sk-label sk-toggleable\"><input class=\"sk-toggleable__control sk-hidden--visually\" id=\"sk-estimator-id-4\" type=\"checkbox\" ><label for=\"sk-estimator-id-4\" class=\"sk-toggleable__label sk-toggleable__label-arrow\">GridSearchCV</label><div class=\"sk-toggleable__content\"><pre>GridSearchCV(cv=3, estimator=TfidfVectorizer(), n_jobs=-1,\n",
       "             param_grid={&#x27;max_df&#x27;: [0.8, 0.9], &#x27;max_features&#x27;: [1000, 1500],\n",
       "                         &#x27;min_df&#x27;: [0.2, 0.3],\n",
       "                         &#x27;ngram_range&#x27;: [(1, 1), (1, 2), (1, 3)]},\n",
       "             scoring=&#x27;roc_auc&#x27;, verbose=2)</pre></div></div></div><div class=\"sk-parallel\"><div class=\"sk-parallel-item\"><div class=\"sk-item\"><div class=\"sk-label-container\"><div class=\"sk-label sk-toggleable\"><input class=\"sk-toggleable__control sk-hidden--visually\" id=\"sk-estimator-id-5\" type=\"checkbox\" ><label for=\"sk-estimator-id-5\" class=\"sk-toggleable__label sk-toggleable__label-arrow\">estimator: TfidfVectorizer</label><div class=\"sk-toggleable__content\"><pre>TfidfVectorizer()</pre></div></div></div><div class=\"sk-serial\"><div class=\"sk-item\"><div class=\"sk-estimator sk-toggleable\"><input class=\"sk-toggleable__control sk-hidden--visually\" id=\"sk-estimator-id-6\" type=\"checkbox\" ><label for=\"sk-estimator-id-6\" class=\"sk-toggleable__label sk-toggleable__label-arrow\">TfidfVectorizer</label><div class=\"sk-toggleable__content\"><pre>TfidfVectorizer()</pre></div></div></div></div></div></div></div></div></div></div>"
      ],
      "text/plain": [
       "GridSearchCV(cv=3, estimator=TfidfVectorizer(), n_jobs=-1,\n",
       "             param_grid={'max_df': [0.8, 0.9], 'max_features': [1000, 1500],\n",
       "                         'min_df': [0.2, 0.3],\n",
       "                         'ngram_range': [(1, 1), (1, 2), (1, 3)]},\n",
       "             scoring='roc_auc', verbose=2)"
      ]
     },
     "execution_count": 52,
     "metadata": {},
     "output_type": "execute_result"
    }
   ],
   "source": [
    "# tfidfvectorizer\n",
    "\n",
    "# instantiate the vectorizer\n",
    "\n",
    "tfidfvectorizer = TfidfVectorizer()\n",
    "\n",
    "# using gridsearch to tune parameters for ngram_range in countvectorizer\n",
    "\n",
    "from sklearn.model_selection import GridSearchCV\n",
    "\n",
    "# Create the parameter grid based on the results of random search\n",
    "\n",
    "param_grid = {'max_df': [0.8, 0.9],\n",
    "                'min_df': [0.2, 0.3],\n",
    "                'max_features': [1000, 1500],\n",
    "                'ngram_range': [(1, 1), (1, 2), (1, 3)]}\n",
    "\n",
    "# Instantiate the grid search model\n",
    "grid_search = GridSearchCV(estimator = tfidfvectorizer, param_grid = param_grid,cv = 3, n_jobs = -1, verbose = 2, scoring='roc_auc')\n",
    "\n",
    "# Fit the grid search to the data\n",
    "grid_search.fit(X_train, y_train)\n",
    "\n"
   ]
  },
  {
   "cell_type": "code",
   "execution_count": 54,
   "metadata": {},
   "outputs": [
    {
     "data": {
      "text/plain": [
       "{'max_df': 0.8, 'max_features': 1000, 'min_df': 0.2, 'ngram_range': (1, 1)}"
      ]
     },
     "execution_count": 54,
     "metadata": {},
     "output_type": "execute_result"
    }
   ],
   "source": [
    "# best parameters\n",
    "grid_search.best_params_"
   ]
  },
  {
   "cell_type": "code",
   "execution_count": 40,
   "metadata": {},
   "outputs": [],
   "source": [
    "# fit the model with best parameters\n",
    "\n",
    "tfidfvectorizer = TfidfVectorizer(max_df=0.8, min_df=0.2, max_features=1000, ngram_range=(1,1))\n",
    "\n",
    "# Fit the CountVectorizer to the training data\n",
    "X_train_dtm = tfidfvectorizer.fit_transform(X_train)\n",
    "\n",
    "# Transform testing data (using fitted vocabulary) into a document-term matrix\n",
    "X_test_dtm = tfidfvectorizer.transform(X_test)"
   ]
  },
  {
   "attachments": {},
   "cell_type": "markdown",
   "metadata": {},
   "source": [
    "### Naive Bayes Model"
   ]
  },
  {
   "cell_type": "code",
   "execution_count": 42,
   "metadata": {},
   "outputs": [
    {
     "name": "stdout",
     "output_type": "stream",
     "text": [
      "Test Accuracy: 76.8%\n",
      "Classification Report:\n",
      "               precision    recall  f1-score   support\n",
      "\n",
      "           0       0.93      0.38      0.54     13213\n",
      "           1       0.74      0.98      0.84     23711\n",
      "\n",
      "    accuracy                           0.77     36924\n",
      "   macro avg       0.83      0.68      0.69     36924\n",
      "weighted avg       0.81      0.77      0.74     36924\n",
      "\n",
      "Confusion Matrix: \n",
      " [[ 5061  8152]\n",
      " [  409 23302]]\n"
     ]
    }
   ],
   "source": [
    "# instantiate a Multinomial Naive Bayes model\n",
    "nb = MultinomialNB()\n",
    "\n",
    "# train and time the model using X_train_dtm\n",
    "mod_nb_tfidf = nb.fit(X_train_dtm, y_train)\n",
    "\n",
    "# make class predictions for X_test_dtm\n",
    "y_pred_class_nb_ifidf = mod_nb_tfidf.predict(X_test_dtm)\n",
    "\n",
    "# calculate accuracy of class predictions\n",
    "print(f\"Test Accuracy: {metrics.accuracy_score(y_test, y_pred_class_nb_ifidf) * 100:.1f}%\")\n",
    "\n",
    "# calculate precision and recall\n",
    "print(f\"Classification Report:\\n {classification_report(y_test, y_pred_class_nb_ifidf)}\")\n",
    "\n",
    "# calculate the confusion matrix\n",
    "print(f\"Confusion Matrix: \\n {metrics.confusion_matrix(y_test, y_pred_class_nb_ifidf)}\")"
   ]
  },
  {
   "cell_type": "code",
   "execution_count": 44,
   "metadata": {},
   "outputs": [
    {
     "data": {
      "text/html": [
       "<div>\n",
       "<style scoped>\n",
       "    .dataframe tbody tr th:only-of-type {\n",
       "        vertical-align: middle;\n",
       "    }\n",
       "\n",
       "    .dataframe tbody tr th {\n",
       "        vertical-align: top;\n",
       "    }\n",
       "\n",
       "    .dataframe thead th {\n",
       "        text-align: right;\n",
       "    }\n",
       "</style>\n",
       "<table border=\"1\" class=\"dataframe\">\n",
       "  <thead>\n",
       "    <tr style=\"text-align: right;\">\n",
       "      <th></th>\n",
       "      <th>feature</th>\n",
       "      <th>coefficient</th>\n",
       "    </tr>\n",
       "  </thead>\n",
       "  <tbody>\n",
       "    <tr>\n",
       "      <th>31</th>\n",
       "      <td>-3.423175</td>\n",
       "      <td>water</td>\n",
       "    </tr>\n",
       "    <tr>\n",
       "      <th>30</th>\n",
       "      <td>-3.471033</td>\n",
       "      <td>wall</td>\n",
       "    </tr>\n",
       "    <tr>\n",
       "      <th>29</th>\n",
       "      <td>-2.883195</td>\n",
       "      <td>violation</td>\n",
       "    </tr>\n",
       "    <tr>\n",
       "      <th>28</th>\n",
       "      <td>-4.388404</td>\n",
       "      <td>tile</td>\n",
       "    </tr>\n",
       "    <tr>\n",
       "      <th>27</th>\n",
       "      <td>-4.351209</td>\n",
       "      <td>surface</td>\n",
       "    </tr>\n",
       "    <tr>\n",
       "      <th>26</th>\n",
       "      <td>-3.546840</td>\n",
       "      <td>storage</td>\n",
       "    </tr>\n",
       "    <tr>\n",
       "      <th>25</th>\n",
       "      <td>-4.398258</td>\n",
       "      <td>smooth</td>\n",
       "    </tr>\n",
       "    <tr>\n",
       "      <th>24</th>\n",
       "      <td>-3.039684</td>\n",
       "      <td>sink</td>\n",
       "    </tr>\n",
       "    <tr>\n",
       "      <th>23</th>\n",
       "      <td>-3.770259</td>\n",
       "      <td>room</td>\n",
       "    </tr>\n",
       "    <tr>\n",
       "      <th>22</th>\n",
       "      <td>-4.058402</td>\n",
       "      <td>replace</td>\n",
       "    </tr>\n",
       "  </tbody>\n",
       "</table>\n",
       "</div>"
      ],
      "text/plain": [
       "     feature coefficient\n",
       "31 -3.423175       water\n",
       "30 -3.471033        wall\n",
       "29 -2.883195   violation\n",
       "28 -4.388404        tile\n",
       "27 -4.351209     surface\n",
       "26 -3.546840     storage\n",
       "25 -4.398258      smooth\n",
       "24 -3.039684        sink\n",
       "23 -3.770259        room\n",
       "22 -4.058402     replace"
      ]
     },
     "execution_count": 44,
     "metadata": {},
     "output_type": "execute_result"
    }
   ],
   "source": [
    "# Most important features\n",
    "\n",
    "coefs_with_fns = list(zip(mod_nb_tfidf.feature_log_prob_[0], tfidfvectorizer.get_feature_names_out()))\n",
    "\n",
    "coefs_with_fns_df = pd.DataFrame(coefs_with_fns,\n",
    "                    columns=['feature', 'coefficient'])\n",
    "\n",
    "coefs_with_fns_df.sort_values(by='coefficient', ascending=False, inplace=True)\n",
    "coefs_with_fns_df.head(10)"
   ]
  },
  {
   "cell_type": "markdown",
   "metadata": {},
   "source": [
    "### Logistic Regression Model"
   ]
  },
  {
   "cell_type": "code",
   "execution_count": 73,
   "metadata": {},
   "outputs": [
    {
     "name": "stdout",
     "output_type": "stream",
     "text": [
      "Test Accuracy: 86.3%\n",
      "Classification Report:\n",
      "               precision    recall  f1-score   support\n",
      "\n",
      "           0       0.87      0.73      0.79     13213\n",
      "           1       0.86      0.94      0.90     23711\n",
      "\n",
      "    accuracy                           0.86     36924\n",
      "   macro avg       0.86      0.83      0.84     36924\n",
      "weighted avg       0.86      0.86      0.86     36924\n",
      "\n",
      "Confusion Matrix: \n",
      " [[ 9620  3593]\n",
      " [ 1476 22235]]\n"
     ]
    }
   ],
   "source": [
    "# instantiate a logistic regression model\n",
    "logreg = LogisticRegression(max_iter=10000)\n",
    "\n",
    "# train the model using X_train_dtm\n",
    "mod_lr_tfidf = logreg.fit(X_train_dtm, y_train)\n",
    "\n",
    "# make class predictions for X_test_dtm\n",
    "y_pred_class_lr_tfidf = logreg.predict(X_test_dtm)\n",
    "\n",
    "# calculate accuracy of class predictions\n",
    "print(f\"Test Accuracy: {metrics.accuracy_score(y_test, y_pred_class_lr_tfidf) * 100:.1f}%\")\n",
    "\n",
    "# calculate precision and recall\n",
    "print(f\"Classification Report:\\n {classification_report(y_test, y_pred_class_lr_tfidf)}\")\n",
    "\n",
    "# calculate the confusion matrix\n",
    "print(f\"Confusion Matrix: \\n {metrics.confusion_matrix(y_test, y_pred_class_lr_tfidf)}\")"
   ]
  },
  {
   "cell_type": "code",
   "execution_count": 45,
   "metadata": {},
   "outputs": [
    {
     "data": {
      "text/html": [
       "<div>\n",
       "<style scoped>\n",
       "    .dataframe tbody tr th:only-of-type {\n",
       "        vertical-align: middle;\n",
       "    }\n",
       "\n",
       "    .dataframe tbody tr th {\n",
       "        vertical-align: top;\n",
       "    }\n",
       "\n",
       "    .dataframe thead th {\n",
       "        text-align: right;\n",
       "    }\n",
       "</style>\n",
       "<table border=\"1\" class=\"dataframe\">\n",
       "  <thead>\n",
       "    <tr style=\"text-align: right;\">\n",
       "      <th></th>\n",
       "      <th>feature</th>\n",
       "      <th>coefficient</th>\n",
       "    </tr>\n",
       "  </thead>\n",
       "  <tbody>\n",
       "    <tr>\n",
       "      <th>29</th>\n",
       "      <td>violation</td>\n",
       "      <td>-2.718344</td>\n",
       "    </tr>\n",
       "    <tr>\n",
       "      <th>31</th>\n",
       "      <td>water</td>\n",
       "      <td>-0.623307</td>\n",
       "    </tr>\n",
       "    <tr>\n",
       "      <th>18</th>\n",
       "      <td>provide</td>\n",
       "      <td>-0.525567</td>\n",
       "    </tr>\n",
       "    <tr>\n",
       "      <th>5</th>\n",
       "      <td>door</td>\n",
       "      <td>-0.484766</td>\n",
       "    </tr>\n",
       "    <tr>\n",
       "      <th>14</th>\n",
       "      <td>machine</td>\n",
       "      <td>-0.336135</td>\n",
       "    </tr>\n",
       "    <tr>\n",
       "      <th>8</th>\n",
       "      <td>food</td>\n",
       "      <td>-0.235253</td>\n",
       "    </tr>\n",
       "    <tr>\n",
       "      <th>0</th>\n",
       "      <td>area</td>\n",
       "      <td>-0.221191</td>\n",
       "    </tr>\n",
       "    <tr>\n",
       "      <th>30</th>\n",
       "      <td>wall</td>\n",
       "      <td>-0.162778</td>\n",
       "    </tr>\n",
       "    <tr>\n",
       "      <th>24</th>\n",
       "      <td>sink</td>\n",
       "      <td>-0.123756</td>\n",
       "    </tr>\n",
       "    <tr>\n",
       "      <th>20</th>\n",
       "      <td>remove</td>\n",
       "      <td>-0.119390</td>\n",
       "    </tr>\n",
       "  </tbody>\n",
       "</table>\n",
       "</div>"
      ],
      "text/plain": [
       "      feature  coefficient\n",
       "29  violation    -2.718344\n",
       "31      water    -0.623307\n",
       "18    provide    -0.525567\n",
       "5        door    -0.484766\n",
       "14    machine    -0.336135\n",
       "8        food    -0.235253\n",
       "0        area    -0.221191\n",
       "30       wall    -0.162778\n",
       "24       sink    -0.123756\n",
       "20     remove    -0.119390"
      ]
     },
     "execution_count": 45,
     "metadata": {},
     "output_type": "execute_result"
    }
   ],
   "source": [
    "clf = mod_lr_tfidf\n",
    "\n",
    "feature_names = tfidfvectorizer.get_feature_names_out()\n",
    "coefs_with_fns = zip(feature_names, clf.coef_[0])\n",
    "\n",
    "coefs_with_fns_df = pd.DataFrame(coefs_with_fns,\n",
    "                    columns=['feature', 'coefficient'])\n",
    "\n",
    "coefs_with_fns_df.sort_values(by='coefficient', ascending=True, inplace=True)\n",
    "coefs_with_fns_df.head(10)\n"
   ]
  },
  {
   "cell_type": "markdown",
   "metadata": {},
   "source": [
    "### Support Vector Machine"
   ]
  },
  {
   "cell_type": "code",
   "execution_count": 46,
   "metadata": {},
   "outputs": [
    {
     "name": "stdout",
     "output_type": "stream",
     "text": [
      "Test Accuracy: 86.2%\n",
      "Classification Report:\n",
      "               precision    recall  f1-score   support\n",
      "\n",
      "           0       0.91      0.68      0.78     13213\n",
      "           1       0.84      0.96      0.90     23711\n",
      "\n",
      "    accuracy                           0.86     36924\n",
      "   macro avg       0.88      0.82      0.84     36924\n",
      "weighted avg       0.87      0.86      0.86     36924\n",
      "\n",
      "Confusion Matrix: \n",
      " [[ 9008  4205]\n",
      " [  890 22821]]\n"
     ]
    }
   ],
   "source": [
    "# instantiate a SVM model\n",
    "svm = SGDClassifier(max_iter=100, tol=None)\n",
    "\n",
    "# train the model using X_train_dtm\n",
    "mod_svm_tfidf=svm.fit(X_train_dtm, y_train)\n",
    "\n",
    "# make class predictions for X_test_dtm\n",
    "y_pred_class_svm_tfidf = svm.predict(X_test_dtm)\n",
    "\n",
    "# calculate accuracy of class predictions\n",
    "print(f\"Test Accuracy: {metrics.accuracy_score(y_test, y_pred_class_svm_tfidf) * 100:.1f}%\")\n",
    "\n",
    "# calculate precision and recall\n",
    "print(f\"Classification Report:\\n {classification_report(y_test, y_pred_class_svm_tfidf)}\")\n",
    "\n",
    "# calculate the confusion matrix\n",
    "print(f\"Confusion Matrix: \\n {metrics.confusion_matrix(y_test, y_pred_class_svm_tfidf)}\")"
   ]
  },
  {
   "cell_type": "code",
   "execution_count": 47,
   "metadata": {},
   "outputs": [
    {
     "data": {
      "text/html": [
       "<div>\n",
       "<style scoped>\n",
       "    .dataframe tbody tr th:only-of-type {\n",
       "        vertical-align: middle;\n",
       "    }\n",
       "\n",
       "    .dataframe tbody tr th {\n",
       "        vertical-align: top;\n",
       "    }\n",
       "\n",
       "    .dataframe thead th {\n",
       "        text-align: right;\n",
       "    }\n",
       "</style>\n",
       "<table border=\"1\" class=\"dataframe\">\n",
       "  <thead>\n",
       "    <tr style=\"text-align: right;\">\n",
       "      <th></th>\n",
       "      <th>feature</th>\n",
       "      <th>coefficient</th>\n",
       "    </tr>\n",
       "  </thead>\n",
       "  <tbody>\n",
       "    <tr>\n",
       "      <th>29</th>\n",
       "      <td>violation</td>\n",
       "      <td>-10.170385</td>\n",
       "    </tr>\n",
       "    <tr>\n",
       "      <th>31</th>\n",
       "      <td>water</td>\n",
       "      <td>-2.751133</td>\n",
       "    </tr>\n",
       "    <tr>\n",
       "      <th>18</th>\n",
       "      <td>provide</td>\n",
       "      <td>-2.298171</td>\n",
       "    </tr>\n",
       "    <tr>\n",
       "      <th>5</th>\n",
       "      <td>door</td>\n",
       "      <td>-2.269053</td>\n",
       "    </tr>\n",
       "    <tr>\n",
       "      <th>8</th>\n",
       "      <td>food</td>\n",
       "      <td>-2.032995</td>\n",
       "    </tr>\n",
       "    <tr>\n",
       "      <th>0</th>\n",
       "      <td>area</td>\n",
       "      <td>-1.753805</td>\n",
       "    </tr>\n",
       "    <tr>\n",
       "      <th>14</th>\n",
       "      <td>machine</td>\n",
       "      <td>-1.629916</td>\n",
       "    </tr>\n",
       "    <tr>\n",
       "      <th>24</th>\n",
       "      <td>sink</td>\n",
       "      <td>-1.310867</td>\n",
       "    </tr>\n",
       "    <tr>\n",
       "      <th>30</th>\n",
       "      <td>wall</td>\n",
       "      <td>-1.294695</td>\n",
       "    </tr>\n",
       "    <tr>\n",
       "      <th>12</th>\n",
       "      <td>instructed</td>\n",
       "      <td>-1.255496</td>\n",
       "    </tr>\n",
       "  </tbody>\n",
       "</table>\n",
       "</div>"
      ],
      "text/plain": [
       "       feature  coefficient\n",
       "29   violation   -10.170385\n",
       "31       water    -2.751133\n",
       "18     provide    -2.298171\n",
       "5         door    -2.269053\n",
       "8         food    -2.032995\n",
       "0         area    -1.753805\n",
       "14     machine    -1.629916\n",
       "24        sink    -1.310867\n",
       "30        wall    -1.294695\n",
       "12  instructed    -1.255496"
      ]
     },
     "execution_count": 47,
     "metadata": {},
     "output_type": "execute_result"
    }
   ],
   "source": [
    "clf = mod_svm_tfidf\n",
    "\n",
    "feature_names = tfidfvectorizer.get_feature_names_out()\n",
    "coefs_with_fns = zip(feature_names, clf.coef_[0])\n",
    "\n",
    "coefs_with_fns_df = pd.DataFrame(coefs_with_fns,\n",
    "                    columns=['feature', 'coefficient'])\n",
    "\n",
    "coefs_with_fns_df.sort_values(by='coefficient', ascending=True, inplace=True)\n",
    "coefs_with_fns_df.head(10)"
   ]
  },
  {
   "cell_type": "code",
   "execution_count": 74,
   "metadata": {},
   "outputs": [
    {
     "data": {
      "text/html": [
       "<div>\n",
       "<style scoped>\n",
       "    .dataframe tbody tr th:only-of-type {\n",
       "        vertical-align: middle;\n",
       "    }\n",
       "\n",
       "    .dataframe tbody tr th {\n",
       "        vertical-align: top;\n",
       "    }\n",
       "\n",
       "    .dataframe thead th {\n",
       "        text-align: right;\n",
       "    }\n",
       "</style>\n",
       "<table border=\"1\" class=\"dataframe\">\n",
       "  <thead>\n",
       "    <tr style=\"text-align: right;\">\n",
       "      <th></th>\n",
       "      <th>Model</th>\n",
       "      <th>CountVectorizer Accuracy</th>\n",
       "      <th>CountVectorizer Precision</th>\n",
       "      <th>CountVectorizer Recall</th>\n",
       "      <th>TfidfVectorizer Accuracy</th>\n",
       "      <th>TfidfVectorizer Precision</th>\n",
       "      <th>TfidfVectorizer Recall</th>\n",
       "    </tr>\n",
       "  </thead>\n",
       "  <tbody>\n",
       "    <tr>\n",
       "      <th>0</th>\n",
       "      <td>Naive Bayes</td>\n",
       "      <td>0.818817</td>\n",
       "      <td>0.816593</td>\n",
       "      <td>0.818817</td>\n",
       "      <td>0.768145</td>\n",
       "      <td>0.806814</td>\n",
       "      <td>0.768145</td>\n",
       "    </tr>\n",
       "    <tr>\n",
       "      <th>1</th>\n",
       "      <td>Logistic Regression</td>\n",
       "      <td>0.878480</td>\n",
       "      <td>0.880353</td>\n",
       "      <td>0.878480</td>\n",
       "      <td>0.862718</td>\n",
       "      <td>0.863067</td>\n",
       "      <td>0.862718</td>\n",
       "    </tr>\n",
       "    <tr>\n",
       "      <th>2</th>\n",
       "      <td>SVM</td>\n",
       "      <td>0.874797</td>\n",
       "      <td>0.881492</td>\n",
       "      <td>0.874797</td>\n",
       "      <td>0.862014</td>\n",
       "      <td>0.867910</td>\n",
       "      <td>0.862014</td>\n",
       "    </tr>\n",
       "  </tbody>\n",
       "</table>\n",
       "</div>"
      ],
      "text/plain": [
       "                 Model  CountVectorizer Accuracy  CountVectorizer Precision  \\\n",
       "0          Naive Bayes                  0.818817                   0.816593   \n",
       "1  Logistic Regression                  0.878480                   0.880353   \n",
       "2                  SVM                  0.874797                   0.881492   \n",
       "\n",
       "   CountVectorizer Recall  TfidfVectorizer Accuracy  \\\n",
       "0                0.818817                  0.768145   \n",
       "1                0.878480                  0.862718   \n",
       "2                0.874797                  0.862014   \n",
       "\n",
       "   TfidfVectorizer Precision  TfidfVectorizer Recall  \n",
       "0                   0.806814                0.768145  \n",
       "1                   0.863067                0.862718  \n",
       "2                   0.867910                0.862014  "
      ]
     },
     "execution_count": 74,
     "metadata": {},
     "output_type": "execute_result"
    }
   ],
   "source": [
    "# create a dataframe with accuracy score for each model\n",
    "# countvectorizer Accuracy\n",
    "ac_nb_cv = metrics.accuracy_score(y_test, y_pred_class_nb_cv)\n",
    "ac_lr_cv = metrics.accuracy_score(y_test, y_pred_class_lr_cv)\n",
    "ac_svm_cv = metrics.accuracy_score(y_test, y_pred_class_svm_cv)\n",
    "# tfidf\n",
    "ac_nb_tfidf = metrics.accuracy_score(y_test, y_pred_class_nb_ifidf)\n",
    "ac_lr_tfidf = metrics.accuracy_score(y_test, y_pred_class_lr_tfidf)\n",
    "ac_svm_tfidf = metrics.accuracy_score(y_test, y_pred_class_svm_tfidf)\n",
    "\n",
    "# countvectorizer Precision\n",
    "\n",
    "pr_nb_cv_precesion = metrics.precision_score(\n",
    "    y_test, y_pred_class_nb_cv, average='weighted')\n",
    "\n",
    "pr_lr_cv_precesion = metrics.precision_score(\n",
    "    y_test, y_pred_class_lr_cv, average='weighted')\n",
    "\n",
    "pr_svm_cv_precesion = metrics.precision_score(\n",
    "    y_test, y_pred_class_svm_cv, average='weighted')\n",
    "\n",
    "# tfidf\n",
    "\n",
    "pr_nb_tfidf_precesion = metrics.precision_score(\n",
    "    y_test, y_pred_class_nb_ifidf, average='weighted')\n",
    "\n",
    "pr_lr_tfidf_precesion = metrics.precision_score(\n",
    "    y_test, y_pred_class_lr_tfidf, average='weighted')\n",
    "\n",
    "pr_svm_tfidf_precesion = metrics.precision_score(\n",
    "    y_test, y_pred_class_svm_tfidf, average='weighted')\n",
    "\n",
    "# countvectorizer Recall\n",
    "\n",
    "pr_nb_cv_recall = metrics.recall_score(\n",
    "    y_test, y_pred_class_nb_cv, average='weighted')\n",
    "\n",
    "pr_lr_cv_recall = metrics.recall_score(\n",
    "    y_test, y_pred_class_lr_cv, average='weighted')\n",
    "\n",
    "pr_svm_cv_recall = metrics.recall_score(\n",
    "    y_test, y_pred_class_svm_cv, average='weighted')\n",
    "\n",
    "# tfidf\n",
    "\n",
    "\n",
    "pr_nb_tfidf_recall = metrics.recall_score(\n",
    "    y_test, y_pred_class_nb_ifidf, average='weighted')\n",
    "\n",
    "pr_lr_tfidf_recall = metrics.recall_score(\n",
    "    y_test, y_pred_class_lr_tfidf, average='weighted')\n",
    "\n",
    "pr_svm_tfidf_recall = metrics.recall_score(\n",
    "    y_test, y_pred_class_svm_tfidf, average='weighted')\n",
    "\n",
    "\n",
    "# create a dataframe with accuracy score, precision and recall for each model\n",
    "\n",
    "df = pd.DataFrame({'Model': ['Naive Bayes', 'Logistic Regression', 'SVM'],\n",
    "                   'CountVectorizer Accuracy': [ac_nb_cv, ac_lr_cv, ac_svm_cv],\n",
    "                   'CountVectorizer Precision': [pr_nb_cv_precesion, pr_lr_cv_precesion, pr_svm_cv_precesion],\n",
    "                   'CountVectorizer Recall': [pr_nb_cv_recall, pr_lr_cv_recall, pr_svm_cv_recall],\n",
    "                   'TfidfVectorizer Accuracy': [ac_nb_tfidf, ac_lr_tfidf, ac_svm_tfidf],\n",
    "                   'TfidfVectorizer Precision': [pr_nb_tfidf_precesion, pr_lr_tfidf_precesion, pr_svm_tfidf_precesion],\n",
    "                   'TfidfVectorizer Recall': [pr_nb_tfidf_recall, pr_lr_tfidf_recall, pr_svm_tfidf_recall]})\n",
    "df"
   ]
  },
  {
   "cell_type": "markdown",
   "metadata": {},
   "source": []
  },
  {
   "cell_type": "code",
   "execution_count": 75,
   "metadata": {},
   "outputs": [
    {
     "data": {
      "image/png": "[encoded data removed]",
      "text/plain": [
       "<Figure size 1000x500 with 2 Axes>"
      ]
     },
     "metadata": {},
     "output_type": "display_data"
    }
   ],
   "source": [
    "# plot the accuracy score for each model\n",
    "\n",
    "plt.figure(figsize=(10, 5))\n",
    "plt.subplot(1, 2, 1)\n",
    "plt.bar(df['Model'], df['CountVectorizer Accuracy'], color='blue')\n",
    "plt.title('CountVectorizer Accuracy')\n",
    "plt.xlabel('Model')\n",
    "plt.ylabel('Accuracy')\n",
    "plt.subplot(1, 2, 2)\n",
    "plt.bar(df['Model'], df['TfidfVectorizer Accuracy'], color='red')\n",
    "plt.title('TfidfVectorizer Accuracy')\n",
    "plt.xlabel('Model')\n",
    "plt.ylabel('Accuracy')\n",
    "plt.show()\n"
   ]
  },
  {
   "attachments": {},
   "cell_type": "markdown",
   "metadata": {},
   "source": [
    "### Conclusion\n",
    "\n",
    "Based on the results of the three models, the Support Vector Machine model with Countvectorizer has the highest accuracy score of 0.874797. The Logistic Regression model with Countvectorizer has the highest recall score of 0.878480. Support Vector Machine model with Countvectorizer has the highest precision score of 0.881492. \n",
    "\n",
    "Therefore, The Support Vector Machine model with Countvectorizer is the most robust model.\n",
    "\n",
    "However, since I limit the Max_df and Min_df to 0.8 and 0.2, and Max_features to 1000, the model may not be robust enough. If I increase the Max_df and Min_df to 1.0 and 0.0, and Max_features to 5000, the accuracy score might be even higher. However, the model may have problems such as overfitting, High Dimensionality, Noise from Rare and Common Terms, Increased Computational Resources."
   ]
  }
 ],
 "metadata": {
  "kernelspec": {
   "display_name": "Python 3",
   "language": "python",
   "name": "python3"
  },
  "language_info": {
   "codemirror_mode": {
    "name": "ipython",
    "version": 3
   },
   "file_extension": ".py",
   "mimetype": "text/x-python",
   "name": "python",
   "nbconvert_exporter": "python",
   "pygments_lexer": "ipython3",
   "version": "3.9.2"
  },
  "orig_nbformat": 4
 },
 "nbformat": 4,
 "nbformat_minor": 2
}
