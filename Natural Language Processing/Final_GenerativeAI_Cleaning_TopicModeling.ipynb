{
 "cells": [
  {
   "attachments": {},
   "cell_type": "markdown",
   "id": "88d30227",
   "metadata": {},
   "source": [
    "# NLP Final Project\n",
    "\n",
    "## Data Cleaning & Topic Modeling\n",
    "Richard Yang"
   ]
  },
  {
   "cell_type": "code",
   "execution_count": null,
   "id": "2acf0e9b",
   "metadata": {},
   "outputs": [
    {
     "name": "stdout",
     "output_type": "stream",
     "text": [
      "Mounted at /content/drive/\n",
      "/content/drive/MyDrive/NLP/NLPcode/Final Project\n"
     ]
    }
   ],
   "source": [
    "import pandas as pd\n",
    "\n",
    "# Import libraries\n",
    "import pandas as pd\n",
    "import numpy as np\n",
    "import pandas as pd\n",
    "import nltk\n",
    "import spacy\n",
    "from spacy import displacy\n",
    "import ast\n",
    "# ignore warnings\n",
    "import warnings\n",
    "warnings.filterwarnings('ignore')\n",
    "\n",
    "# # Load the English language model\n",
    "nlp = spacy.load('en_core_web_lg')\n",
    "\n",
    "# display maximum width of columns\n",
    "pd.set_option('display.max_rows', 100)\n",
    "pd.set_option('display.max_columns', None)\n",
    "pd.set_option('display.max_colwidth', 500)"
   ]
  },
  {
   "cell_type": "code",
   "execution_count": null,
   "id": "b91037cf",
   "metadata": {},
   "outputs": [
    {
     "name": "stdout",
     "output_type": "stream",
     "text": [
      "Mounted at /content/drive/\n",
      "/content/drive/MyDrive/NLP/NLPcode/Final Project\n"
     ]
    }
   ],
   "source": [
    "# Load the Drive helper and mount\n",
    "import numpy as np\n",
    "from google.colab import drive\n",
    "import os\n",
    "# This will prompt for authorization.\n",
    "drive.mount('/content/drive/')\n",
    "path_gdrive = '/content/drive/MyDrive/NLP/NLPcode/Final Project'\n",
    "os.chdir(path_gdrive)\n",
    "print(os.getcwd())"
   ]
  },
  {
   "cell_type": "code",
   "execution_count": null,
   "id": "3a76b23a-71f8-43ad-b77a-3d23d62631e2",
   "metadata": {
    "collapsed": true,
    "jupyter": {
     "outputs_hidden": true
    },
    "tags": []
   },
   "outputs": [],
   "source": [
    "# import spacy.cli\n",
    "# spacy.cli.download('en_core_web_lg')"
   ]
  },
  {
   "cell_type": "code",
   "execution_count": 2,
   "id": "fd4f80fa-bbf5-4d84-ac5f-7e872a042379",
   "metadata": {
    "tags": []
   },
   "outputs": [
    {
     "name": "stdout",
     "output_type": "stream",
     "text": [
      "CPU times: user 6.16 s, sys: 3.4 s, total: 9.56 s\n",
      "Wall time: 11 s\n"
     ]
    },
    {
     "data": {
      "text/plain": [
       "(200332, 5)"
      ]
     },
     "execution_count": 2,
     "metadata": {},
     "output_type": "execute_result"
    }
   ],
   "source": [
    "%%time\n",
    "\n",
    "df_news_final_project = pd.read_parquet('https://storage.googleapis.com/msca-bdp-data-open/news_final_project/news_final_project.parquet', engine='pyarrow')\n",
    "df_news_final_project.shape"
   ]
  },
  {
   "cell_type": "code",
   "execution_count": 5,
   "id": "cb056962",
   "metadata": {},
   "outputs": [],
   "source": [
    "df_news_final_project = pd.read_parquet('news_final_project.parquet', engine='pyarrow')"
   ]
  },
  {
   "cell_type": "code",
   "execution_count": 6,
   "id": "d64700e4-c4cb-4cc9-b09c-4870429ea777",
   "metadata": {
    "tags": []
   },
   "outputs": [
    {
     "data": {
      "text/plain": [
       "(200332, 5)"
      ]
     },
     "execution_count": 6,
     "metadata": {},
     "output_type": "execute_result"
    }
   ],
   "source": [
    "# check if all english articles\n",
    "df_news_final_project = df_news_final_project[df_news_final_project['language'] == 'en']\n",
    "df_news_final_project.shape"
   ]
  },
  {
   "cell_type": "code",
   "execution_count": 7,
   "id": "d1b79d83-10b6-40a0-bacc-d343d0dbff71",
   "metadata": {
    "tags": []
   },
   "outputs": [
    {
     "data": {
      "text/plain": [
       "(200332, 5)"
      ]
     },
     "execution_count": 7,
     "metadata": {},
     "output_type": "execute_result"
    }
   ],
   "source": [
    "df = df_news_final_project.copy()\n",
    "df.shape"
   ]
  },
  {
   "cell_type": "code",
   "execution_count": 6,
   "id": "7546551f-def5-4e0a-a66a-fc0b6fd07e29",
   "metadata": {
    "tags": []
   },
   "outputs": [
    {
     "name": "stdout",
     "output_type": "stream",
     "text": [
      "CPU times: user 6min 7s, sys: 2.06 s, total: 6min 9s\n",
      "Wall time: 6min 9s\n"
     ]
    }
   ],
   "source": [
    "%%time\n",
    "import re\n",
    "from itertools import chain\n",
    "\n",
    "# define a regex pattern to match combined English words\n",
    "combined_words_pattern = r'\\b([A-Z][a-z]+){2,}\\b'\n",
    "\n",
    "# define a function to clean text\n",
    "def clean_text(text, title):\n",
    "    # combine title and text\n",
    "    combined_text = f'{title}. {text}'\n",
    "    # split the text by special characters\n",
    "    testtext1 = re.split(r'[\\r\\n\\t\\/\\|\\[\\]]', combined_text)\n",
    "    testtext1 = [x for x in testtext1 if x != '']\n",
    "    # delete the strings that shorter than 10 words\n",
    "    testtext1 = [x for x in testtext1 if len(x.split()) > 10]\n",
    "    # delete the spaces in the beginning and end of the string\n",
    "    testtext1 = [x.strip() for x in testtext1]\n",
    "    # split the text by comma\n",
    "    testtext1 = [re.split(r'[\\,]', x) for x in testtext1]\n",
    "    # flatten the list of sentences\n",
    "    testtext1 = list(chain.from_iterable(testtext1))\n",
    "    # remove the first three sentences containing combined English words\n",
    "    count = 0\n",
    "    new_testtext1 = []\n",
    "    for sentence in testtext1:\n",
    "        if re.search(combined_words_pattern, sentence) and count < 2 and len(sentence.split()) > 15:\n",
    "            count += 1\n",
    "        else:\n",
    "            new_testtext1.append(sentence)\n",
    "    testtext1 = new_testtext1\n",
    "    # delete the sentences that contain 'http' or 'https' or 'www'\n",
    "    testtext1 = [x for x in testtext1 if not re.search(r'http|https|www', x)]\n",
    "    # delete sentences that contain the title\n",
    "    testtext1 = [x for x in testtext1 if not re.search(re.escape(title), x)]\n",
    "\n",
    "    # Join the Sentences\n",
    "    testtext1 = ','.join(testtext1)\n",
    " \n",
    "    # delete the special characters in the beginning and end of the string\n",
    "    testtext1 = re.sub(r'^\\W+|\\W+$', '', testtext1)\n",
    "\n",
    "    return testtext1\n",
    "\n",
    "# apply the clean_text function to df\n",
    "df['clean_text'] = df.apply(lambda x: clean_text(x['text'], x['title']), axis=1)\n"
   ]
  },
  {
   "cell_type": "code",
   "execution_count": 12,
   "id": "8df48835-21b2-4cf9-9f50-013074d09b8b",
   "metadata": {
    "tags": []
   },
   "outputs": [],
   "source": [
    "# to parquet of df\n",
    "df.to_parquet('clean_text11.parquet', engine='pyarrow')"
   ]
  },
  {
   "cell_type": "code",
   "execution_count": 2,
   "id": "f3353db7-d854-4721-9f33-d35d8bebced3",
   "metadata": {
    "tags": []
   },
   "outputs": [],
   "source": [
    "df_clean= pd.read_parquet('clean_text11.parquet', engine='pyarrow')"
   ]
  },
  {
   "cell_type": "code",
   "execution_count": 3,
   "id": "d801f260-5cf1-41e8-953a-8cea30043dc8",
   "metadata": {
    "tags": []
   },
   "outputs": [
    {
     "data": {
      "text/plain": [
       "(196930, 6)"
      ]
     },
     "execution_count": 3,
     "metadata": {},
     "output_type": "execute_result"
    }
   ],
   "source": [
    "#delete the rows that contain less than 10 words\n",
    "df_filtered = df_clean[df_clean['clean_text'].apply(lambda x: len(x.split()) > 50)]\n",
    "df_filtered.shape"
   ]
  },
  {
   "cell_type": "code",
   "execution_count": 7,
   "id": "a8f8433b-88d9-41f2-a322-5a94b9e5d233",
   "metadata": {
    "tags": []
   },
   "outputs": [],
   "source": [
    "# filter the rows that are related to the AI topic\n",
    "\n",
    "list = ['[Aa]rtificial [Ii]ntelligence',\n",
    "        '[Mm]achine [Ll]earning',\n",
    "        '[Dd]eep [Ll]earning',\n",
    "        '[Nn]eural [Nn]etworks',\n",
    "        '[Cc]onvolutional [Nn]eural [Nn]etworks',\n",
    "        '[Rr]ecurrent [Nn]eural [Nn]etworks',\n",
    "        '[Nn]atural [Ll]anguage [Pp]rocessing',\n",
    "        '[Dd]ata [Mm]ining',\n",
    "        '[Bb]ig [Dd]ata',\n",
    "        '[Dd]ata [Ss]cience',\n",
    "        '[Dd]ata [Aa]nalytics',\n",
    "        '[Pp]redictive [Aa]nalytics',\n",
    "        '[Mm]achine [Vv]ision',\n",
    "        '[Ii]mage [Rr]ecognition',\n",
    "        '[Oo]bject [Dd]etection',\n",
    "        '[Ss]emantic [Ss]egmentation',\n",
    "        '[Ee]motion [Rr]ecognition',\n",
    "        '[Ff]acial [Rr]ecognition',\n",
    "        '[Vv]oice [Rr]ecognition',\n",
    "        '[Aa]utomated [Tt]esting',\n",
    "        '[Aa]utomated [Rr]easoning',\n",
    "        '[Kk]nowledge [Rr]epresentation',\n",
    "        '[Rr]obotics',\n",
    "        '[Aa]utonomous [Vv]ehicles',\n",
    "        '[Cc]ognitive [Aa]rchitecture',\n",
    "        '[Cc]omputational [Ii]ntelligence',\n",
    "        '[Ss]warm [Ii]ntelligence',\n",
    "        '[Ee]volutionary [Cc]omputation',\n",
    "        '[Ff]uzzy [Ll]ogic',\n",
    "        '[Aa]rtificial [Ll]ife',\n",
    "        '[Gg]enetic [Aa]lgorithms',\n",
    "        '[Nn]euroevolution',\n",
    "        '[Nn]euroscience [Ii]nspired [Aa]rtificial [Ii]ntelligence',\n",
    "        '[Aa]ugmented [Rr]eality',\n",
    "        '[Vv]irtual [Rr]eality',\n",
    "        '[Gg]enerative [Aa]dversarial [Nn]etworks',\n",
    "        '[Tt]ransformer [Mm]odels',\n",
    "        '[Bb]ayesian [Nn]etworks',\n",
    "        '[Hh]idden [Mm]arkov [Mm]odels',\n",
    "        '[Ss]upport [Vv]ector [Mm]achines',\n",
    "        '[Ee]xtreme [Ll]earning [Mm]achines',\n",
    "        '[Rr]einforcement [Ll]earning',\n",
    "        '[Qq]-learning',\n",
    "        '[Aa]dversarial [Ll]earning',\n",
    "        '[Gg]radient [Dd]escent',\n",
    "        '[Bb]ackpropagation',\n",
    "        '[Oo]ptimization [Aa]lgorithms',\n",
    "        '[Ll]ogistic [Rr]egression',\n",
    "        '[Ss]entiment [Aa]nalysis',\n",
    "        '[Ss]ocial [Nn]etwork [Aa]nalysis',\n",
    "        '[Cc]omputer [Vv]ision',\n",
    "        '[Ii]mage [Pp]rocessing',\n",
    "        '[Ii]mage [Gg]eneration',\n",
    "        '[Ii]mage [Cc]lassification',\n",
    "        '[Ii]mage [Rr]ecognition',\n",
    "        '[Cc]hat [Bb]ots',\n",
    "        '[Nn]atural [Ll]anguage [Gg]eneration'\n",
    "        '[Cc]hat GPT',\n",
    "        '[Cc]onversational AI',\n",
    "        'AI'\n",
    "        '[Cc]hatGPT']\n",
    "\n"
   ]
  },
  {
   "cell_type": "code",
   "execution_count": 10,
   "id": "7fc9e59c-3815-4747-9e0d-3312f9043582",
   "metadata": {
    "tags": []
   },
   "outputs": [
    {
     "name": "stdout",
     "output_type": "stream",
     "text": [
      "CPU times: user 40 s, sys: 0 ns, total: 40 s\n",
      "Wall time: 40 s\n"
     ]
    },
    {
     "data": {
      "text/plain": [
       "True     153957\n",
       "False     42973\n",
       "Name: AI_related, dtype: int64"
      ]
     },
     "execution_count": 10,
     "metadata": {},
     "output_type": "execute_result"
    }
   ],
   "source": [
    "%%time\n",
    "# define a function to filter the rows that are related to the AI topic\n",
    "def filter_AI(text):\n",
    "\n",
    "    for pattern in list:\n",
    "        if re.search(pattern, text):\n",
    "            return True\n",
    "    return False\n",
    "\n",
    "# apply the filter_AI function to df\n",
    "df_filtered['AI_related'] = df_filtered['clean_text'].apply(lambda x: filter_AI(x))\n",
    "\n",
    "df_filtered['AI_related'].value_counts()"
   ]
  },
  {
   "cell_type": "code",
   "execution_count": 11,
   "id": "ad74307e-b667-48ff-8c9b-545f83c20da3",
   "metadata": {
    "tags": []
   },
   "outputs": [
    {
     "data": {
      "text/plain": [
       "(153957, 7)"
      ]
     },
     "execution_count": 11,
     "metadata": {},
     "output_type": "execute_result"
    }
   ],
   "source": [
    "df_filtered_keywords = df_filtered[df_filtered['AI_related'] == True]\n",
    "df_filtered_keywords.shape"
   ]
  },
  {
   "cell_type": "code",
   "execution_count": 58,
   "id": "c7a33e63",
   "metadata": {},
   "outputs": [],
   "source": [
    "# take a 100 rows sample from df\n",
    "df_sample = df.sample(n=100, random_state=1)\n",
    "import regex as re\n",
    "# import chain from itertools\n",
    "from itertools import chain"
   ]
  },
  {
   "cell_type": "code",
   "execution_count": 34,
   "id": "da5e5d09",
   "metadata": {},
   "outputs": [],
   "source": [
    "import re\n",
    "\n",
    "def extract_source(url):\n",
    "    pattern = r'https?:\\/\\/(?:www\\.)?(.*?)\\.'\n",
    "    match = re.search(pattern, url)\n",
    "    if match:\n",
    "        return match.group(1)\n",
    "    else:\n",
    "        return None\n",
    "\n",
    "# apply the extract_source function to df\n",
    "df['source'] = df['url'].apply(lambda x: extract_source(x))"
   ]
  },
  {
   "cell_type": "code",
   "execution_count": 46,
   "id": "f364f039",
   "metadata": {},
   "outputs": [
    {
     "data": {
      "text/plain": [
       "143169"
      ]
     },
     "execution_count": 46,
     "metadata": {},
     "output_type": "execute_result"
    }
   ],
   "source": [
    "# find the highest frequency of the sources\n",
    "df['source'].value_counts()\n",
    "# find the median of the sources count\n",
    "df['source'].value_counts().median()\n",
    "# find the number of sources that their count is higher than the median 4\n",
    "df['source'].value_counts()[df['source'].value_counts() > 200].count()\n",
    "# find the number of rows that their count is larger than the median 4\n",
    "df['source'].value_counts()[df['source'].value_counts() > 100].sum()"
   ]
  },
  {
   "cell_type": "code",
   "execution_count": null,
   "id": "a55dea2e",
   "metadata": {},
   "outputs": [],
   "source": [
    "# create a list of sources that their count is higher than the median\n",
    "list = df['source'].value_counts()[df['source'].value_counts() > 30].index.tolist()\n",
    "list\n",
    "# financiallist = ['forbes','finance','economist','wsj']"
   ]
  },
  {
   "cell_type": "code",
   "execution_count": 66,
   "id": "57b5463b",
   "metadata": {},
   "outputs": [
    {
     "data": {
      "text/plain": [
       "source\n",
       "False    175306\n",
       "True      25026\n",
       "Name: count, dtype: int64"
      ]
     },
     "execution_count": 66,
     "metadata": {},
     "output_type": "execute_result"
    }
   ],
   "source": [
    "business_finance = ['finance','wsj','americanbankingnews', 'nytimes','nasdaq', 'businesschief', 'finanznachrichten', 'benzinga', 'marketscreener', 'moneycontrol', 'economictimes', 'marketmirror24', 'businessinsider', 'wsj', 'cnbc', 'marketwatch', 'investorplace', 'fiercebiotech', 'fool', 'investing', 'seekingalpha', 'businesswire', 'zacks', 'etfdailynews', 'dailymail', 'fortune', 'bloomberg', 'reuters']\n",
    "\n",
    "technology = ['venturebeat', 'techradar', 'it-online', 'devdiscourse', 'techcrunch', 'zdnet', 'techrepublic', 'engadget', 'cnet', 'siliconrepublic', 'tomshardware', 'tomsguide', 'digitaltrends', 'wired', 'gizmodo', 'engadget', 'arstechnica', 'techspot', 'pcmag', 'futurism', 'slashgear']\n",
    "\n",
    "science = ['safetylit', 'coursera', 'phys', 'newswise', 'forextv', 'eurekalert', 'phys', 'technologyreview', 'newscientist', 'scientificamerican', 'nature', 'scitechdaily', 'sciencealert']\n",
    "\n",
    "health = ['news-medical', 'medicalxpress', 'nih', 'healthline', 'sciencedaily', 'webmd', 'mayoclinic', 'medscape', 'mdlinx', 'bmj', 'cdc', 'who']\n",
    "\n",
    "entertainment = ['variety', 'hollywoodreporter', 'eonline', 'tmz', 'entertainmentweekly', 'billboard', 'vulture', 'deadline', 'justjared', 'rollingstone', 'mtv']\n",
    "\n",
    "sports = ['espn', 'bleacherreport', 'sportsillustrated', 'cbssports', 'nba', 'nfl', 'mlb', 'nhl', 'foxsports', 'skysports', 'goal', 'bbc', 'sportingnews', 'eurosport']\n",
    "\n",
    "\n",
    "technology_science = technology + science + health\n",
    "entertainment_sports = entertainment + sports\n",
    "business_finance = business_finance\n",
    "combined = technology_science + entertainment_sports + business_finance\n",
    "# check the number of rows that their source is in the list\n",
    "df['source'].isin(combined).value_counts()"
   ]
  },
  {
   "cell_type": "code",
   "execution_count": 91,
   "id": "51a9b01f",
   "metadata": {},
   "outputs": [
    {
     "data": {
      "text/plain": [
       "(337, 6)"
      ]
     },
     "execution_count": 91,
     "metadata": {},
     "output_type": "execute_result"
    }
   ],
   "source": [
    "# filter the rows that their source is in the list combined\n",
    "df_sentiment = df[df['source'].isin(entertainment_sports)]\n",
    "df_sentiment.shape\n",
    "\n",
    "# "
   ]
  },
  {
   "cell_type": "code",
   "execution_count": 1,
   "id": "57a45b6f-4366-4833-bdd4-d9637387c18a",
   "metadata": {
    "tags": []
   },
   "outputs": [
    {
     "name": "stderr",
     "output_type": "stream",
     "text": [
      "c:\\Users\\Richa\\AppData\\Local\\Programs\\Python\\Python39\\lib\\site-packages\\requests\\__init__.py:102: RequestsDependencyWarning: urllib3 (1.26.8) or chardet (5.1.0)/charset_normalizer (2.0.12) doesn't match a supported version!\n",
      "  warnings.warn(\"urllib3 ({}) or chardet ({})/charset_normalizer ({}) doesn't match a supported \"\n"
     ]
    }
   ],
   "source": [
    "import os\n",
    "import time\n",
    "import math\n",
    "import re\n",
    "from pprint import pprint\n",
    "from textblob import TextBlob\n",
    "import pandas as pd\n",
    "import numpy as np\n",
    "\n",
    "import nltk as nltk\n",
    "from nltk.corpus import stopwords\n",
    "# from nltk.stem.wordnet import WordNetLemmatizer\n",
    "import spacy\n",
    "import multiprocessing\n",
    "import string\n",
    "\n",
    "\n",
    "import gensim\n",
    "from gensim import corpora, models\n",
    "from gensim.models.ldamulticore import LdaMulticore\n",
    "from gensim.utils import simple_preprocess\n",
    "from gensim.models import CoherenceModel\n",
    "import pyLDAvis.gensim\n",
    "import pyLDAvis\n",
    "## The version of pyLDAvis must be 3.4.0 to install the following package\n",
    "import pyLDAvis.gensim_models as gensimvis\n",
    "pyLDAvis.enable_notebook()\n"
   ]
  },
  {
   "cell_type": "code",
   "execution_count": 11,
   "id": "6af9da2b-e951-4164-8bd1-99c1f1a86e04",
   "metadata": {
    "tags": []
   },
   "outputs": [],
   "source": [
    "# !pip install pyLDAvis==3.4.0"
   ]
  },
  {
   "cell_type": "code",
   "execution_count": 12,
   "id": "b6aac4d0-adf7-43c5-b9d2-9245dcd646f1",
   "metadata": {
    "tags": []
   },
   "outputs": [
    {
     "name": "stdout",
     "output_type": "stream",
     "text": [
      "Using 7 workers\n"
     ]
    }
   ],
   "source": [
    "num_processors = multiprocessing.cpu_count()\n",
    "num_processors\n",
    "\n",
    "workers = num_processors-1\n",
    "\n",
    "print(f'Using {workers} workers')"
   ]
  },
  {
   "cell_type": "code",
   "execution_count": 13,
   "id": "0d147740-4dd0-49fa-8c50-184dc744f074",
   "metadata": {
    "tags": []
   },
   "outputs": [],
   "source": [
    "import warnings\n",
    "\n",
    "# warnings.simplefilter('once')\n",
    "warnings.simplefilter('ignore')\n",
    "# warnings.filterwarnings(\"ignore\", category=FutureWarning)\n",
    "# warnings.filterwarnings(\"ignore\", category=DeprecationWarning)\n",
    "# warnings.filterwarnings(action='ignore', category=UserWarning, module='gensim')"
   ]
  },
  {
   "cell_type": "code",
   "execution_count": 14,
   "id": "fa5fa2ab-7034-47c7-8a11-76c0ee78a10d",
   "metadata": {
    "tags": []
   },
   "outputs": [],
   "source": [
    "#select rows that needed\n",
    "df_LDA = df_filtered_keywords.copy()\n",
    "df_LDA = df_LDA[['title', 'clean_text']]"
   ]
  },
  {
   "cell_type": "code",
   "execution_count": 15,
   "id": "f8201407-d619-47f6-93c3-2b8e19f35256",
   "metadata": {
    "tags": []
   },
   "outputs": [],
   "source": [
    "#read parquet\n",
    "df_LDA.to_parquet('lda.parquet', engine='pyarrow')"
   ]
  },
  {
   "cell_type": "code",
   "execution_count": 5,
   "id": "2e0c0b1d-45a8-411d-a25b-5b0c8328d03c",
   "metadata": {
    "tags": []
   },
   "outputs": [],
   "source": [
    "df_LDA = pd.read_parquet('lda.parquet', engine='pyarrow')"
   ]
  },
  {
   "cell_type": "code",
   "execution_count": 6,
   "id": "5a750c1f-fd73-4d48-853e-fcb33dc9087c",
   "metadata": {
    "tags": []
   },
   "outputs": [],
   "source": [
    "# df_sampleLDA = df_LDA.sample(n=100, random_state=1)"
   ]
  },
  {
   "cell_type": "code",
   "execution_count": 7,
   "id": "04116a8e-6c95-41b6-aa20-a955edd86d42",
   "metadata": {
    "tags": []
   },
   "outputs": [],
   "source": [
    "# df_sampleLDA.head(1)"
   ]
  },
  {
   "cell_type": "code",
   "execution_count": 8,
   "id": "987f4062-754d-4b9a-ba1b-1952f1d68223",
   "metadata": {
    "tags": []
   },
   "outputs": [
    {
     "name": "stdout",
     "output_type": "stream",
     "text": [
      "CPU times: user 5min 58s, sys: 3.97 s, total: 6min 2s\n",
      "Wall time: 6min 2s\n"
     ]
    }
   ],
   "source": [
    "%%time\n",
    "\n",
    "def sent_to_words(sentences):\n",
    "    for sentence in sentences:\n",
    "        yield(gensim.utils.simple_preprocess(str(sentence), deacc=True))  # deacc=True removes punctuations\n",
    "        \n",
    "        \n",
    "data_list = df_LDA['clean_text'].tolist()        \n",
    "data_tokens = [x for x in sent_to_words(data_list)]"
   ]
  },
  {
   "cell_type": "code",
   "execution_count": 9,
   "id": "b5ccb111-dfd6-49bb-afa7-10a3e8cea133",
   "metadata": {
    "tags": []
   },
   "outputs": [
    {
     "name": "stdout",
     "output_type": "stream",
     "text": [
      "CPU times: user 10min 53s, sys: 2.08 s, total: 10min 55s\n",
      "Wall time: 10min 55s\n"
     ]
    }
   ],
   "source": [
    "%%time\n",
    "\n",
    "# bigram = gensim.models.Phrases(data_tokens, min_count=5, threshold=100)\n",
    "# trigram = gensim.models.Phrases(bigram[data_tokens], threshold=100)\n",
    "\n",
    "bigram = gensim.models.Phrases(data_tokens, min_count=1, threshold=1)\n",
    "trigram = gensim.models.Phrases(bigram[data_tokens], threshold=1)\n",
    "\n",
    "bigram_mod = gensim.models.phrases.Phraser(bigram)\n",
    "trigram_mod = gensim.models.phrases.Phraser(trigram)"
   ]
  },
  {
   "cell_type": "code",
   "execution_count": 10,
   "id": "9b67c335-fa78-4d62-aa52-517208bdc318",
   "metadata": {
    "tags": []
   },
   "outputs": [
    {
     "name": "stdout",
     "output_type": "stream",
     "text": [
      "[nltk_data] Downloading package stopwords to /usr/share/nltk_data...\n",
      "[nltk_data]   Package stopwords is already up-to-date!\n"
     ]
    },
    {
     "data": {
      "text/plain": [
       "True"
      ]
     },
     "execution_count": 10,
     "metadata": {},
     "output_type": "execute_result"
    }
   ],
   "source": [
    "import nltk\n",
    "nltk.download('stopwords')"
   ]
  },
  {
   "cell_type": "code",
   "execution_count": 11,
   "id": "aa305f02-72d8-4178-a6cc-5ce1a72c2b05",
   "metadata": {
    "tags": []
   },
   "outputs": [
    {
     "name": "stdout",
     "output_type": "stream",
     "text": [
      "CPU times: user 3.87 ms, sys: 0 ns, total: 3.87 ms\n",
      "Wall time: 2.48 ms\n"
     ]
    }
   ],
   "source": [
    "%%time\n",
    "\n",
    "stop_words = stopwords.words('english')\n",
    "\n",
    "# Define functions for stopwords, bigrams, trigrams and lemmatization\n",
    "def remove_stopwords(texts):\n",
    "    return [[word for word in simple_preprocess(str(doc)) if word not in stop_words] for doc in texts]\n",
    "\n",
    "def make_bigrams(texts):\n",
    "    return [bigram_mod[doc] for doc in texts]\n",
    "\n",
    "def make_trigrams(texts):\n",
    "    return [trigram_mod[bigram_mod[doc]] for doc in texts]\n",
    "\n",
    "def lemmatization(texts, allowed_postags=['NOUN', 'ADJ', 'VERB', 'ADV']):\n",
    "    \"\"\"https://spacy.io/api/annotation\"\"\"\n",
    "    texts_out = []\n",
    "    for sent in texts:\n",
    "        doc = nlp(\" \".join(sent)) \n",
    "        texts_out.append([token.lemma_\n",
    "         for token in doc if token.pos_ in allowed_postags])\n",
    "    return texts_out"
   ]
  },
  {
   "cell_type": "code",
   "execution_count": 12,
   "id": "806b5a6e-334e-4015-96ca-9b88db61c834",
   "metadata": {
    "tags": []
   },
   "outputs": [
    {
     "name": "stdout",
     "output_type": "stream",
     "text": [
      "CPU times: user 1h 10min 59s, sys: 14 s, total: 1h 11min 13s\n",
      "Wall time: 1h 11min 13s\n"
     ]
    }
   ],
   "source": [
    "%%time\n",
    "\n",
    "# Remove Stop Words\n",
    "data_tokens_nostops = remove_stopwords(data_tokens)\n",
    "\n",
    "# Create n-grams\n",
    "data_words_bigrams = make_bigrams(data_tokens_nostops)\n",
    "data_words_trigrams = make_trigrams(data_tokens_nostops)\n",
    "\n",
    "# Combine tokens and n-grams\n",
    "# data_tokens_cobnined = data_tokens_nostops + data_words_bigrams + data_words_trigrams\n",
    "data_tokens_cobnined = data_words_trigrams\n",
    "\n",
    "# Initialize spacy 'en' model, keeping only tagger component (for efficiency)\n",
    "nlp = spacy.load(\"en_core_web_sm\", disable=['parser', 'ner'])\n",
    "\n",
    "# Lemmatize text keeping only noun, adj, vb, adv\n",
    "data_lemmatized = lemmatization(data_tokens_cobnined, allowed_postags=['NOUN', 'ADJ', 'VERB', 'ADV'])"
   ]
  },
  {
   "cell_type": "code",
   "execution_count": 13,
   "id": "b6af731d-5ab4-43b2-9665-f9cc2c83322d",
   "metadata": {},
   "outputs": [
    {
     "name": "stdout",
     "output_type": "stream",
     "text": [
      "CPU times: user 1min 27s, sys: 1.07 s, total: 1min 28s\n",
      "Wall time: 1min 28s\n"
     ]
    }
   ],
   "source": [
    "%%time\n",
    "\n",
    "# Creating the term dictionary of our courpus, where every unique term is assigned an index. \n",
    "dictionary = corpora.Dictionary(data_lemmatized)\n",
    "\n",
    "# Converting list of documents (corpus) into Document Term Matrix using dictionary prepared above.\n",
    "doc_term_matrix = [dictionary.doc2bow(doc) for doc in data_lemmatized]"
   ]
  },
  {
   "cell_type": "code",
   "execution_count": 20,
   "id": "a897497c-cf88-440f-ab78-b144a5a60103",
   "metadata": {
    "tags": []
   },
   "outputs": [],
   "source": [
    "# store the results for data_lemmatized, dictionary, and doc_term_matrix into a pickle file\n",
    "import pickle\n",
    "data_lemmatized = pickle.load(open('data_lemmatized.pkl', 'rb'))\n",
    "\n"
   ]
  },
  {
   "cell_type": "code",
   "execution_count": 21,
   "id": "f1e5bfcd-25de-44f9-8d8d-f553a0fce9d9",
   "metadata": {
    "tags": []
   },
   "outputs": [],
   "source": [
    "dictionary.save('dictionary.gensim')"
   ]
  },
  {
   "cell_type": "code",
   "execution_count": 22,
   "id": "269d42aa-6854-41b0-a3ff-a8b041fb00ff",
   "metadata": {
    "tags": []
   },
   "outputs": [],
   "source": [
    "pickle.dump(doc_term_matrix, open('doc_term_matrix.pkl', 'wb'))"
   ]
  },
  {
   "cell_type": "code",
   "execution_count": 13,
   "id": "4d0b25e1-3230-40ac-83b8-04bd15920270",
   "metadata": {
    "tags": []
   },
   "outputs": [],
   "source": [
    "#read\n",
    "import pickle\n",
    "data_lemmatized = pickle.load(open('data_lemmatized.pkl', 'rb'))"
   ]
  },
  {
   "cell_type": "code",
   "execution_count": 14,
   "id": "f2f21b18-9ff1-4acc-b274-d89f1063936c",
   "metadata": {
    "tags": []
   },
   "outputs": [],
   "source": [
    "dictionary = gensim.corpora.Dictionary.load('dictionary.gensim')"
   ]
  },
  {
   "cell_type": "code",
   "execution_count": 15,
   "id": "a997089e-5fa0-4063-a399-f3a5d8ca9aaf",
   "metadata": {
    "tags": []
   },
   "outputs": [],
   "source": [
    "doc_term_matrix = pickle.load(open('doc_term_matrix.pkl', 'rb'))"
   ]
  },
  {
   "cell_type": "code",
   "execution_count": 16,
   "id": "4f0f6c1f-d4ce-47d2-8214-710f3adcaad7",
   "metadata": {
    "tags": []
   },
   "outputs": [
    {
     "data": {
      "text/plain": [
       "153957"
      ]
     },
     "execution_count": 16,
     "metadata": {},
     "output_type": "execute_result"
    }
   ],
   "source": [
    "len(doc_term_matrix)"
   ]
  },
  {
   "cell_type": "code",
   "execution_count": 28,
   "id": "8f82140b-eb36-4c17-9038-f7b19fb28f33",
   "metadata": {
    "tags": []
   },
   "outputs": [
    {
     "name": "stdout",
     "output_type": "stream",
     "text": [
      "CPU times: user 6min 18s, sys: 17.8 s, total: 6min 36s\n",
      "Wall time: 6min 14s\n"
     ]
    }
   ],
   "source": [
    "%%time\n",
    "\n",
    "lda_model = LdaMulticore(corpus=doc_term_matrix,\n",
    "                   id2word=dictionary,\n",
    "                   num_topics=3,\n",
    "                   random_state=100,\n",
    "                   passes=10,\n",
    "                   eta='auto',\n",
    "                   workers=workers)"
   ]
  },
  {
   "cell_type": "code",
   "execution_count": 29,
   "id": "19503d20-3f71-4344-a43b-0699065a5a7a",
   "metadata": {
    "tags": []
   },
   "outputs": [
    {
     "name": "stdout",
     "output_type": "stream",
     "text": [
      "[(0, '0.033*\"market\" + 0.009*\"report\" + 0.008*\"global\" + 0.008*\"industry\" + 0.008*\"analysis\" + 0.008*\"forecast\" + 0.006*\"ai\" + 0.006*\"artificial_intelligence\" + 0.005*\"company\" + 0.005*\"growth\"'), (1, '0.017*\"ai\" + 0.008*\"use\" + 0.006*\"datum\" + 0.006*\"technology\" + 0.005*\"company\" + 0.004*\"work\" + 0.004*\"solution\" + 0.003*\"make\" + 0.003*\"need\" + 0.003*\"new\"'), (2, '0.010*\"ai\" + 0.009*\"say\" + 0.008*\"use\" + 0.005*\"company\" + 0.004*\"technology\" + 0.004*\"make\" + 0.004*\"chatgpt\" + 0.004*\"new\" + 0.003*\"work\" + 0.003*\"get\"')]\n"
     ]
    }
   ],
   "source": [
    "# Print the Keyword in the 3 topics\n",
    "print(lda_model.print_topics())\n",
    "doc_lda = lda_model[doc_term_matrix]"
   ]
  },
  {
   "cell_type": "code",
   "execution_count": 30,
   "id": "64344f11-8d1f-406a-b7a5-27e4394a848c",
   "metadata": {
    "tags": []
   },
   "outputs": [
    {
     "name": "stdout",
     "output_type": "stream",
     "text": [
      "\n",
      "Coherence Score:  0.4100062024700791\n",
      "CPU times: user 21.3 s, sys: 5.21 s, total: 26.5 s\n",
      "Wall time: 2min 12s\n"
     ]
    }
   ],
   "source": [
    "%%time\n",
    "\n",
    "coherence_model_lda = CoherenceModel(model=lda_model, texts=data_lemmatized, dictionary=dictionary, coherence='c_v')\n",
    "coherence_lda = coherence_model_lda.get_coherence()\n",
    "print('\\nCoherence Score: ', coherence_lda)"
   ]
  },
  {
   "cell_type": "code",
   "execution_count": 17,
   "id": "6af1ceb4-b369-48ca-9a58-a1102f9143ae",
   "metadata": {
    "tags": []
   },
   "outputs": [],
   "source": [
    "# supporting function\n",
    "def compute_coherence_values(corpus, dictionary, k, a, b):\n",
    "    \n",
    "    lda_model = LdaMulticore(corpus=doc_term_matrix,\n",
    "                       id2word=dictionary,\n",
    "                       num_topics=k,\n",
    "                       random_state=100,                  \n",
    "                       passes=10,\n",
    "                       alpha=a,\n",
    "                       eta=b,\n",
    "                       workers=workers)\n",
    "    \n",
    "    coherence_model_lda = CoherenceModel(model=lda_model, texts=data_lemmatized, dictionary=dictionary, coherence='c_v')\n",
    "    \n",
    "    return coherence_model_lda.get_coherence()"
   ]
  },
  {
   "cell_type": "code",
   "execution_count": 18,
   "id": "cefe5812-a0c5-4917-b5bb-b507f5dafd1c",
   "metadata": {
    "tags": []
   },
   "outputs": [],
   "source": [
    "start_time = time.time()\n",
    "\n",
    "def tic():\n",
    "    global start_time \n",
    "    start_time = time.time()\n",
    "\n",
    "def tac():\n",
    "    t_sec = round(time.time() - start_time)\n",
    "    (t_min, t_sec) = divmod(t_sec,60)\n",
    "    (t_hour,t_min) = divmod(t_min,60) \n",
    "    print(f'Execution time to calculate for topic {k}: {t_hour}hour:{t_min}min:{t_sec}sec'.format(t_hour,t_min,t_sec))"
   ]
  },
  {
   "cell_type": "code",
   "execution_count": 19,
   "id": "fcd3ff45-8163-4ac8-93dd-29d7c19fc630",
   "metadata": {
    "tags": []
   },
   "outputs": [
    {
     "name": "stdout",
     "output_type": "stream",
     "text": [
      "LDA will execute 7 iterations\n",
      "Completed model based on 3 LDA topics. Finished 14.3% of LDA runs\n",
      "Execution time to calculate for topic 3: 0hour:8min:29sec\n",
      "Completed model based on 4 LDA topics. Finished 28.6% of LDA runs\n",
      "Execution time to calculate for topic 4: 0hour:9min:18sec\n",
      "Completed model based on 5 LDA topics. Finished 42.9% of LDA runs\n",
      "Execution time to calculate for topic 5: 0hour:10min:41sec\n",
      "Completed model based on 6 LDA topics. Finished 57.1% of LDA runs\n",
      "Execution time to calculate for topic 6: 0hour:12min:33sec\n",
      "Completed model based on 7 LDA topics. Finished 71.4% of LDA runs\n",
      "Execution time to calculate for topic 7: 0hour:14min:0sec\n",
      "Completed model based on 8 LDA topics. Finished 85.7% of LDA runs\n",
      "Execution time to calculate for topic 8: 0hour:15min:26sec\n",
      "Completed model based on 9 LDA topics. Finished 100.0% of LDA runs\n",
      "Execution time to calculate for topic 9: 0hour:17min:10sec\n",
      "CPU times: user 54min 28s, sys: 10min 16s, total: 1h 4min 44s\n",
      "Wall time: 1h 27min 36s\n"
     ]
    }
   ],
   "source": [
    "%%time\n",
    "\n",
    "grid = {}\n",
    "grid['Validation_Set'] = {}\n",
    "# Topics range\n",
    "min_topics = 3\n",
    "max_topics = 8\n",
    "step_size = 1\n",
    "topics_range = range(min_topics, max_topics+2, step_size)\n",
    "\n",
    "# Alpha parameter\n",
    "# alpha = list(np.arange(0.01, 1, 0.3))\n",
    "# alpha.append('symmetric')\n",
    "# alpha.append('asymmetric')\n",
    "alpha = ['symmetric'] # Run for number of topics only\n",
    "\n",
    "# Beta parameter\n",
    "# beta = list(np.arange(0.01, 1, 0.3))\n",
    "# beta.append('symmetric')\n",
    "beta = ['auto'] # Run for number of topics only\n",
    "\n",
    "\n",
    "# Validation sets\n",
    "num_of_docs = len(doc_term_matrix)\n",
    "corpus_sets = [# gensim.utils.ClippedCorpus(doc_term_matrix, num_of_docs*0.25), \n",
    "               # gensim.utils.ClippedCorpus(doc_term_matrix, num_of_docs*0.5), \n",
    "               gensim.utils.ClippedCorpus(doc_term_matrix, num_of_docs*0.75)]\n",
    "               # doc_term_matrix]\n",
    "# corpus_title = ['75% Corpus', '100% Corpus']\n",
    "corpus_title = ['75% Corpus']\n",
    "model_results = {\n",
    "                 'Topics': [],\n",
    "                 'Alpha': [],\n",
    "                 'Beta': [],\n",
    "                 'Coherence': []\n",
    "                }\n",
    "\n",
    "itr = 0\n",
    "itr_total = len(beta)*len(alpha)*len(topics_range)*len(corpus_title)\n",
    "print(f'LDA will execute {itr_total} iterations')\n",
    "\n",
    "    \n",
    "# iterate through hyperparameters\n",
    "for i in range(len(corpus_sets)):\n",
    "    # iterate through number of topics\n",
    "    for k in topics_range:\n",
    "        # iterate through alpha values\n",
    "        tic()\n",
    "        for a in alpha:\n",
    "            # iterare through beta values\n",
    "            for b in beta:\n",
    "                # get the coherence score for the given parameters\n",
    "                itr += 1\n",
    "                cv = compute_coherence_values(corpus=corpus_sets[i], dictionary=dictionary, \n",
    "                                              k=k, a=a, b=b)\n",
    "                # Save the model results\n",
    "                model_results['Topics'].append(k)\n",
    "                model_results['Alpha'].append(a)\n",
    "                model_results['Beta'].append(b)\n",
    "                model_results['Coherence'].append(cv)\n",
    "                pct_completed = round((itr / itr_total * 100),1)\n",
    "#                 print(f'Completed Percent: {pct_completed}%, Corpus: {corpus_title[i]}, Topics: {k}, Alpha: {a}, Beta: {b}, Coherence: {cv}')\n",
    "        print(f'Completed model based on {k} LDA topics. Finished {pct_completed}% of LDA runs')\n",
    "        tac()\n",
    "                    \n",
    "lda_tuning = pd.DataFrame(model_results)\n"
   ]
  },
  {
   "cell_type": "code",
   "execution_count": 20,
   "id": "1c37ae2d-5116-417f-bd25-403ef85f045a",
   "metadata": {
    "tags": []
   },
   "outputs": [],
   "source": [
    "lda_tuning.to_csv('news_lda_tuning2.csv', index=False)"
   ]
  },
  {
   "cell_type": "code",
   "execution_count": 21,
   "id": "c9a17b3b-3d6b-4ff6-89ce-ef5daf1bd118",
   "metadata": {
    "tags": []
   },
   "outputs": [
    {
     "data": {
      "text/html": [
       "<div>\n",
       "<style scoped>\n",
       "    .dataframe tbody tr th:only-of-type {\n",
       "        vertical-align: middle;\n",
       "    }\n",
       "\n",
       "    .dataframe tbody tr th {\n",
       "        vertical-align: top;\n",
       "    }\n",
       "\n",
       "    .dataframe thead th {\n",
       "        text-align: right;\n",
       "    }\n",
       "</style>\n",
       "<table border=\"1\" class=\"dataframe\">\n",
       "  <thead>\n",
       "    <tr style=\"text-align: right;\">\n",
       "      <th></th>\n",
       "      <th>Topics</th>\n",
       "      <th>Alpha</th>\n",
       "      <th>Beta</th>\n",
       "      <th>Coherence</th>\n",
       "    </tr>\n",
       "  </thead>\n",
       "  <tbody>\n",
       "    <tr>\n",
       "      <th>0</th>\n",
       "      <td>3</td>\n",
       "      <td>symmetric</td>\n",
       "      <td>auto</td>\n",
       "      <td>0.410006</td>\n",
       "    </tr>\n",
       "    <tr>\n",
       "      <th>1</th>\n",
       "      <td>4</td>\n",
       "      <td>symmetric</td>\n",
       "      <td>auto</td>\n",
       "      <td>0.444690</td>\n",
       "    </tr>\n",
       "    <tr>\n",
       "      <th>2</th>\n",
       "      <td>5</td>\n",
       "      <td>symmetric</td>\n",
       "      <td>auto</td>\n",
       "      <td>0.432428</td>\n",
       "    </tr>\n",
       "    <tr>\n",
       "      <th>3</th>\n",
       "      <td>6</td>\n",
       "      <td>symmetric</td>\n",
       "      <td>auto</td>\n",
       "      <td>0.431009</td>\n",
       "    </tr>\n",
       "    <tr>\n",
       "      <th>4</th>\n",
       "      <td>7</td>\n",
       "      <td>symmetric</td>\n",
       "      <td>auto</td>\n",
       "      <td>0.440077</td>\n",
       "    </tr>\n",
       "    <tr>\n",
       "      <th>5</th>\n",
       "      <td>8</td>\n",
       "      <td>symmetric</td>\n",
       "      <td>auto</td>\n",
       "      <td>0.441507</td>\n",
       "    </tr>\n",
       "    <tr>\n",
       "      <th>6</th>\n",
       "      <td>9</td>\n",
       "      <td>symmetric</td>\n",
       "      <td>auto</td>\n",
       "      <td>0.413618</td>\n",
       "    </tr>\n",
       "  </tbody>\n",
       "</table>\n",
       "</div>"
      ],
      "text/plain": [
       "   Topics      Alpha  Beta  Coherence\n",
       "0       3  symmetric  auto   0.410006\n",
       "1       4  symmetric  auto   0.444690\n",
       "2       5  symmetric  auto   0.432428\n",
       "3       6  symmetric  auto   0.431009\n",
       "4       7  symmetric  auto   0.440077\n",
       "5       8  symmetric  auto   0.441507\n",
       "6       9  symmetric  auto   0.413618"
      ]
     },
     "execution_count": 21,
     "metadata": {},
     "output_type": "execute_result"
    }
   ],
   "source": [
    "lda_tuning_news = pd.read_csv('news_lda_tuning2.csv')\n",
    "lda_tuning_news"
   ]
  },
  {
   "cell_type": "code",
   "execution_count": 22,
   "id": "4e2ee628-456b-49c5-bdc0-9b3a21d56ea8",
   "metadata": {},
   "outputs": [
    {
     "data": {
      "text/html": [
       "<div>\n",
       "<style scoped>\n",
       "    .dataframe tbody tr th:only-of-type {\n",
       "        vertical-align: middle;\n",
       "    }\n",
       "\n",
       "    .dataframe tbody tr th {\n",
       "        vertical-align: top;\n",
       "    }\n",
       "\n",
       "    .dataframe thead th {\n",
       "        text-align: right;\n",
       "    }\n",
       "</style>\n",
       "<table border=\"1\" class=\"dataframe\">\n",
       "  <thead>\n",
       "    <tr style=\"text-align: right;\">\n",
       "      <th></th>\n",
       "      <th>Topics</th>\n",
       "      <th>Alpha</th>\n",
       "      <th>Beta</th>\n",
       "      <th>Coherence</th>\n",
       "    </tr>\n",
       "  </thead>\n",
       "  <tbody>\n",
       "    <tr>\n",
       "      <th>1</th>\n",
       "      <td>4</td>\n",
       "      <td>symmetric</td>\n",
       "      <td>auto</td>\n",
       "      <td>0.444690</td>\n",
       "    </tr>\n",
       "    <tr>\n",
       "      <th>5</th>\n",
       "      <td>8</td>\n",
       "      <td>symmetric</td>\n",
       "      <td>auto</td>\n",
       "      <td>0.441507</td>\n",
       "    </tr>\n",
       "    <tr>\n",
       "      <th>4</th>\n",
       "      <td>7</td>\n",
       "      <td>symmetric</td>\n",
       "      <td>auto</td>\n",
       "      <td>0.440077</td>\n",
       "    </tr>\n",
       "    <tr>\n",
       "      <th>2</th>\n",
       "      <td>5</td>\n",
       "      <td>symmetric</td>\n",
       "      <td>auto</td>\n",
       "      <td>0.432428</td>\n",
       "    </tr>\n",
       "    <tr>\n",
       "      <th>3</th>\n",
       "      <td>6</td>\n",
       "      <td>symmetric</td>\n",
       "      <td>auto</td>\n",
       "      <td>0.431009</td>\n",
       "    </tr>\n",
       "    <tr>\n",
       "      <th>6</th>\n",
       "      <td>9</td>\n",
       "      <td>symmetric</td>\n",
       "      <td>auto</td>\n",
       "      <td>0.413618</td>\n",
       "    </tr>\n",
       "    <tr>\n",
       "      <th>0</th>\n",
       "      <td>3</td>\n",
       "      <td>symmetric</td>\n",
       "      <td>auto</td>\n",
       "      <td>0.410006</td>\n",
       "    </tr>\n",
       "  </tbody>\n",
       "</table>\n",
       "</div>"
      ],
      "text/plain": [
       "   Topics      Alpha  Beta  Coherence\n",
       "1       4  symmetric  auto   0.444690\n",
       "5       8  symmetric  auto   0.441507\n",
       "4       7  symmetric  auto   0.440077\n",
       "2       5  symmetric  auto   0.432428\n",
       "3       6  symmetric  auto   0.431009\n",
       "6       9  symmetric  auto   0.413618\n",
       "0       3  symmetric  auto   0.410006"
      ]
     },
     "execution_count": 22,
     "metadata": {},
     "output_type": "execute_result"
    }
   ],
   "source": [
    "# Best LDA parameters\n",
    "lda_tuning_news.sort_values(by=['Coherence'], ascending=False).head(10)"
   ]
  },
  {
   "cell_type": "code",
   "execution_count": 23,
   "id": "034110c6-b473-4ef9-8b00-3e955cfc8aee",
   "metadata": {},
   "outputs": [
    {
     "data": {
      "text/html": [
       "<div>\n",
       "<style scoped>\n",
       "    .dataframe tbody tr th:only-of-type {\n",
       "        vertical-align: middle;\n",
       "    }\n",
       "\n",
       "    .dataframe tbody tr th {\n",
       "        vertical-align: top;\n",
       "    }\n",
       "\n",
       "    .dataframe thead th {\n",
       "        text-align: right;\n",
       "    }\n",
       "</style>\n",
       "<table border=\"1\" class=\"dataframe\">\n",
       "  <thead>\n",
       "    <tr style=\"text-align: right;\">\n",
       "      <th></th>\n",
       "      <th>Topics</th>\n",
       "      <th>Alpha</th>\n",
       "      <th>Beta</th>\n",
       "      <th>Coherence</th>\n",
       "    </tr>\n",
       "  </thead>\n",
       "  <tbody>\n",
       "    <tr>\n",
       "      <th>0</th>\n",
       "      <td>3</td>\n",
       "      <td>symmetric</td>\n",
       "      <td>auto</td>\n",
       "      <td>0.410006</td>\n",
       "    </tr>\n",
       "    <tr>\n",
       "      <th>6</th>\n",
       "      <td>9</td>\n",
       "      <td>symmetric</td>\n",
       "      <td>auto</td>\n",
       "      <td>0.413618</td>\n",
       "    </tr>\n",
       "    <tr>\n",
       "      <th>3</th>\n",
       "      <td>6</td>\n",
       "      <td>symmetric</td>\n",
       "      <td>auto</td>\n",
       "      <td>0.431009</td>\n",
       "    </tr>\n",
       "    <tr>\n",
       "      <th>2</th>\n",
       "      <td>5</td>\n",
       "      <td>symmetric</td>\n",
       "      <td>auto</td>\n",
       "      <td>0.432428</td>\n",
       "    </tr>\n",
       "    <tr>\n",
       "      <th>4</th>\n",
       "      <td>7</td>\n",
       "      <td>symmetric</td>\n",
       "      <td>auto</td>\n",
       "      <td>0.440077</td>\n",
       "    </tr>\n",
       "    <tr>\n",
       "      <th>5</th>\n",
       "      <td>8</td>\n",
       "      <td>symmetric</td>\n",
       "      <td>auto</td>\n",
       "      <td>0.441507</td>\n",
       "    </tr>\n",
       "    <tr>\n",
       "      <th>1</th>\n",
       "      <td>4</td>\n",
       "      <td>symmetric</td>\n",
       "      <td>auto</td>\n",
       "      <td>0.444690</td>\n",
       "    </tr>\n",
       "  </tbody>\n",
       "</table>\n",
       "</div>"
      ],
      "text/plain": [
       "   Topics      Alpha  Beta  Coherence\n",
       "0       3  symmetric  auto   0.410006\n",
       "6       9  symmetric  auto   0.413618\n",
       "3       6  symmetric  auto   0.431009\n",
       "2       5  symmetric  auto   0.432428\n",
       "4       7  symmetric  auto   0.440077\n",
       "5       8  symmetric  auto   0.441507\n",
       "1       4  symmetric  auto   0.444690"
      ]
     },
     "execution_count": 23,
     "metadata": {},
     "output_type": "execute_result"
    }
   ],
   "source": [
    "# Worst LDA parameters\n",
    "lda_tuning_news.sort_values(by=['Coherence']).head(10)"
   ]
  },
  {
   "cell_type": "code",
   "execution_count": 3,
   "id": "ca9d4e44",
   "metadata": {},
   "outputs": [],
   "source": [
    "# read news_lda_tuning2.csv\n",
    "lda_tuning_news = pd.read_csv('news_lda_tuning2.csv')"
   ]
  },
  {
   "cell_type": "code",
   "execution_count": 5,
   "id": "59a0f213",
   "metadata": {},
   "outputs": [
    {
     "data": {
      "text/html": [
       "<div>\n",
       "<style scoped>\n",
       "    .dataframe tbody tr th:only-of-type {\n",
       "        vertical-align: middle;\n",
       "    }\n",
       "\n",
       "    .dataframe tbody tr th {\n",
       "        vertical-align: top;\n",
       "    }\n",
       "\n",
       "    .dataframe thead th {\n",
       "        text-align: right;\n",
       "    }\n",
       "</style>\n",
       "<table border=\"1\" class=\"dataframe\">\n",
       "  <thead>\n",
       "    <tr style=\"text-align: right;\">\n",
       "      <th></th>\n",
       "      <th>Topics</th>\n",
       "      <th>Alpha</th>\n",
       "      <th>Beta</th>\n",
       "      <th>Coherence</th>\n",
       "    </tr>\n",
       "  </thead>\n",
       "  <tbody>\n",
       "    <tr>\n",
       "      <th>0</th>\n",
       "      <td>3</td>\n",
       "      <td>symmetric</td>\n",
       "      <td>auto</td>\n",
       "      <td>0.410006</td>\n",
       "    </tr>\n",
       "    <tr>\n",
       "      <th>1</th>\n",
       "      <td>4</td>\n",
       "      <td>symmetric</td>\n",
       "      <td>auto</td>\n",
       "      <td>0.444690</td>\n",
       "    </tr>\n",
       "    <tr>\n",
       "      <th>2</th>\n",
       "      <td>5</td>\n",
       "      <td>symmetric</td>\n",
       "      <td>auto</td>\n",
       "      <td>0.432428</td>\n",
       "    </tr>\n",
       "    <tr>\n",
       "      <th>3</th>\n",
       "      <td>6</td>\n",
       "      <td>symmetric</td>\n",
       "      <td>auto</td>\n",
       "      <td>0.431009</td>\n",
       "    </tr>\n",
       "    <tr>\n",
       "      <th>4</th>\n",
       "      <td>7</td>\n",
       "      <td>symmetric</td>\n",
       "      <td>auto</td>\n",
       "      <td>0.440077</td>\n",
       "    </tr>\n",
       "    <tr>\n",
       "      <th>5</th>\n",
       "      <td>8</td>\n",
       "      <td>symmetric</td>\n",
       "      <td>auto</td>\n",
       "      <td>0.441507</td>\n",
       "    </tr>\n",
       "    <tr>\n",
       "      <th>6</th>\n",
       "      <td>9</td>\n",
       "      <td>symmetric</td>\n",
       "      <td>auto</td>\n",
       "      <td>0.413618</td>\n",
       "    </tr>\n",
       "  </tbody>\n",
       "</table>\n",
       "</div>"
      ],
      "text/plain": [
       "   Topics      Alpha  Beta  Coherence\n",
       "0       3  symmetric  auto   0.410006\n",
       "1       4  symmetric  auto   0.444690\n",
       "2       5  symmetric  auto   0.432428\n",
       "3       6  symmetric  auto   0.431009\n",
       "4       7  symmetric  auto   0.440077\n",
       "5       8  symmetric  auto   0.441507\n",
       "6       9  symmetric  auto   0.413618"
      ]
     },
     "execution_count": 5,
     "metadata": {},
     "output_type": "execute_result"
    }
   ],
   "source": [
    "lda_tuning_news"
   ]
  },
  {
   "cell_type": "code",
   "execution_count": 9,
   "id": "a2321ef9-3abd-4201-951c-a89b2dc23323",
   "metadata": {},
   "outputs": [
    {
     "data": {
      "text/plain": [
       "<AxesSubplot:title={'center':'LDA Coherence Score For News'}, xlabel='Topics', ylabel='Coherence'>"
      ]
     },
     "execution_count": 9,
     "metadata": {},
     "output_type": "execute_result"
    },
    {
     "data": {
      "image/png": "[encoded data removed]",
      "text/plain": [
       "<Figure size 640x480 with 1 Axes>"
      ]
     },
     "metadata": {},
     "output_type": "display_data"
    }
   ],
   "source": [
    "# Scatter plot of LDA coherence scores\n",
    "lda_tuning_news.plot(x ='Topics', y='Coherence', title = 'LDA Coherence Score For News',kind = 'scatter', xticks=range(3,8))"
   ]
  },
  {
   "cell_type": "code",
   "execution_count": 25,
   "id": "7b6158c5-decb-4733-864d-40c7117adf76",
   "metadata": {
    "tags": []
   },
   "outputs": [
    {
     "name": "stdout",
     "output_type": "stream",
     "text": [
      "Best Parameters: Topics: 4, Alpha: symmetric, Beta: auto\n"
     ]
    }
   ],
   "source": [
    "lda_tuning_best = lda_tuning_news.sort_values(by=['Coherence'], ascending=False).head(1)\n",
    "\n",
    "\n",
    "tuned_topics = int(lda_tuning_best['Topics'].to_string(index=False))\n",
    "\n",
    "\n",
    "# Since the values for Alpha and Beta can be float, symmetric and asymmetric, we will either strip or convert to float\n",
    "try:\n",
    "    tuned_alpha = float(lda_tuning_best['Alpha'].to_string(index=False))\n",
    "except:\n",
    "    tuned_alpha = lda_tuning_best['Alpha'].to_string(index=False).strip()\n",
    "    \n",
    "\n",
    "try:\n",
    "    tuned_beta = float(lda_tuning_best['Beta'].to_string(index=False))\n",
    "except:\n",
    "    tuned_beta = lda_tuning_best['Beta'].to_string(index=False).strip()    \n",
    "    \n",
    "print(f'Best Parameters: Topics: {tuned_topics}, Alpha: {tuned_alpha}, Beta: {tuned_beta}')"
   ]
  },
  {
   "cell_type": "code",
   "execution_count": null,
   "id": "a0902bb1-7357-4e7b-9e7a-acdf7dc122ec",
   "metadata": {
    "tags": []
   },
   "outputs": [],
   "source": [
    "%%time\n",
    "\n",
    "tuned_lda_model = LdaMulticore(corpus=doc_term_matrix,\n",
    "                       id2word=dictionary,\n",
    "                       num_topics=tuned_topics,\n",
    "                       random_state=100,\n",
    "                       passes=10,\n",
    "                       alpha=tuned_alpha,\n",
    "                       eta=tuned_beta,\n",
    "                       workers = workers)\n",
    "\n",
    "coherence_model_lda = CoherenceModel(model=tuned_lda_model, texts=data_lemmatized, dictionary=dictionary, coherence='c_v')\n",
    "# print('\\nCoherence Score: ', coherence_lda)"
   ]
  },
  {
   "cell_type": "code",
   "execution_count": 29,
   "id": "18e42571-046d-4ca5-a585-933c3c94c031",
   "metadata": {
    "tags": []
   },
   "outputs": [
    {
     "name": "stdout",
     "output_type": "stream",
     "text": [
      "\n",
      "Coherence Score:  Coherence_Measure(seg=<function s_one_set at 0x7fcdb8b6a7a0>, prob=<function p_boolean_sliding_window at 0x7fcdb8b6aa70>, conf=<function cosine_similarity at 0x7fcdb87a3ac0>, aggr=<function arithmetic_mean at 0x7fcdb87b80d0>)\n"
     ]
    }
   ],
   "source": [
    "# print('\\nCoherence Score: ', coherence_model_lda)"
   ]
  },
  {
   "cell_type": "code",
   "execution_count": 27,
   "id": "cc4464d0-54b4-4702-8aa7-4dfb6b1338be",
   "metadata": {
    "tags": []
   },
   "outputs": [
    {
     "name": "stderr",
     "output_type": "stream",
     "text": [
      "/opt/conda/lib/python3.10/site-packages/scipy/__init__.py:146: UserWarning: A NumPy version >=1.16.5 and <1.23.0 is required for this version of SciPy (detected version 1.23.5\n",
      "  warnings.warn(f\"A NumPy version >={np_minversion} and <{np_maxversion}\"\n",
      "/opt/conda/lib/python3.10/site-packages/scipy/__init__.py:146: UserWarning: A NumPy version >=1.16.5 and <1.23.0 is required for this version of SciPy (detected version 1.23.5\n",
      "  warnings.warn(f\"A NumPy version >={np_minversion} and <{np_maxversion}\"\n",
      "/opt/conda/lib/python3.10/site-packages/scipy/__init__.py:146: UserWarning: A NumPy version >=1.16.5 and <1.23.0 is required for this version of SciPy (detected version 1.23.5\n",
      "  warnings.warn(f\"A NumPy version >={np_minversion} and <{np_maxversion}\"\n",
      "/opt/conda/lib/python3.10/site-packages/scipy/__init__.py:146: UserWarning: A NumPy version >=1.16.5 and <1.23.0 is required for this version of SciPy (detected version 1.23.5\n",
      "  warnings.warn(f\"A NumPy version >={np_minversion} and <{np_maxversion}\"\n",
      "/opt/conda/lib/python3.10/site-packages/scipy/__init__.py:146: UserWarning: A NumPy version >=1.16.5 and <1.23.0 is required for this version of SciPy (detected version 1.23.5\n",
      "  warnings.warn(f\"A NumPy version >={np_minversion} and <{np_maxversion}\"\n",
      "/opt/conda/lib/python3.10/site-packages/scipy/__init__.py:146: UserWarning: A NumPy version >=1.16.5 and <1.23.0 is required for this version of SciPy (detected version 1.23.5\n",
      "  warnings.warn(f\"A NumPy version >={np_minversion} and <{np_maxversion}\"\n",
      "/opt/conda/lib/python3.10/site-packages/scipy/__init__.py:146: UserWarning: A NumPy version >=1.16.5 and <1.23.0 is required for this version of SciPy (detected version 1.23.5\n",
      "  warnings.warn(f\"A NumPy version >={np_minversion} and <{np_maxversion}\"\n",
      "/opt/conda/lib/python3.10/site-packages/scipy/__init__.py:146: UserWarning: A NumPy version >=1.16.5 and <1.23.0 is required for this version of SciPy (detected version 1.23.5\n",
      "  warnings.warn(f\"A NumPy version >={np_minversion} and <{np_maxversion}\"\n"
     ]
    },
    {
     "name": "stdout",
     "output_type": "stream",
     "text": [
      "CPU times: user 1min 33s, sys: 15.7 s, total: 1min 48s\n",
      "Wall time: 1min 39s\n"
     ]
    },
    {
     "data": {
      "text/html": [
       "\n",
       "<link rel=\"stylesheet\" type=\"text/css\" href=\"https://cdn.jsdelivr.net/gh/bmabey/pyLDAvis@3.2.2/pyLDAvis/js/ldavis.v1.0.0.css\">\n",
       "\n",
       "\n",
       "<div id=\"ldavis_el871405056630571208495819006\"></div>\n",
       "<script type=\"text/javascript\">\n",
       "\n",
       "var ldavis_el871405056630571208495819006_data = {\"mdsDat\": {\"x\": [-0.2456442280126742, 0.13960446482158045, 0.13196461276753535, -0.02592484957644162], \"y\": [0.08180402584314343, 0.13289987449736987, -0.017614026465941245, -0.1970898738745721], \"topics\": [1, 2, 3, 4], \"cluster\": [1, 1, 1, 1], \"Freq\": [12.937406287327502, 19.661033241977723, 46.77695468992056, 20.624605780774214]}, \"tinfo\": {\"Term\": [\"market\", \"press_release\", \"report\", \"forecast\", \"global\", \"analysis\", \"industry\", \"say\", \"artificial_intelligence\", \"growth\", \"prnewswire\", \"solution\", \"company\", \"gray_media_group\", \"provided_courtesy\", \"necessarily_state\", \"endorse\", \"views_opinion\", \"statement\", \"market_report\", \"application\", \"market_size\", \"reflect\", \"ai\", \"study\", \"expect\", \"region\", \"global_artificial_intelligence\", \"platform\", \"segment\", \"market_report\", \"global_machine_learne\", \"global_artificial_intelligence\", \"top_key_player\", \"service_market\", \"type_application\", \"swot_analysis\", \"analysis_forecast\", \"market_overview\", \"market_research_report\", \"machine_learning_service_market\", \"manufacturing_market\", \"market_segmentation\", \"regional_analysis\", \"agriculture_market\", \"growth_analysis\", \"forecast_artificial_intelligence\", \"key_vendor\", \"bfsi_market\", \"top_manufacturer\", \"market_forecast\", \"accounting_market\", \"size_share\", \"share_growth\", \"automotive_artificial_intelligence\", \"industry_size\", \"aviation_market\", \"etc_global\", \"market_segmente\", \"market_player\", \"market_size\", \"forecast_period\", \"market_analysis\", \"healthcare_market\", \"report_provide\", \"key_player\", \"top_player\", \"growth_forecast\", \"report_offer\", \"growth_trend\", \"industry_analysis\", \"product_type\", \"retail_market\", \"market_trend\", \"report_include\", \"research_report\", \"cagr\", \"leading_player\", \"data_science_platform\", \"forecast\", \"market_research\", \"growth_rate\", \"market\", \"depth_analysis\", \"global_industry\", \"segment\", \"analysis\", \"top_companie\", \"region\", \"global\", \"growth\", \"report\", \"global_market\", \"industry\", \"artificial_intelligence\", \"expect\", \"application\", \"study\", \"player\", \"impact\", \"research\", \"trend\", \"ai\", \"opportunity\", \"business\", \"company\", \"datum\", \"technology\", \"base\", \"development\", \"provide\", \"include\", \"service\", \"information\", \"cookie_set\", \"union_speeche\", \"leggy_display\", \"facebook_timeline\", \"co_star\", \"three_stooge\", \"itunes_play\", \"mailonline_comment\", \"great_nation\", \"crop_top\", \"beverly_hill\", \"bikini\", \"kim_kardashian\", \"real_housewive\", \"automatically_post\", \"compile_citation\", \"baby_bump\", \"stand_today\", \"truly_claim\", \"minor_outlye\", \"grand_duchy\", \"people_democratic\", \"statesbahamas_commonwealth\", \"ofkiribati_republic\", \"tobago_republic\", \"thenigeria_federal\", \"ofkorea_democratic\", \"republic_hellenic\", \"ofkuwait_state\", \"ofdominican_republichaiti\", \"gown\", \"stories_dark_capital_editor\", \"properties_residential_real_estate\", \"real_estate_forbes_global\", \"rights_sign\", \"moneyall_moneybanke\", \"burch_dr_martens_dell\", \"harry_style\", \"best_balance_transfer_credit\", \"cards_best_cash_back\", \"clicking_heremore\", \"duchess\", \"stroll\", \"lung\", \"protein\", \"republic\", \"prince_harry\", \"dress\", \"forbesreport_security\", \"kiss\", \"gene\", \"reunite\", \"let_u\", \"molecule\", \"product_hunt\", \"cell\", \"symptom\", \"star\", \"disease\", \"film\", \"reveal\", \"cancer\", \"doctor\", \"patient\", \"infection\", \"hospital\", \"death\", \"scientist\", \"show\", \"pose\", \"researcher\", \"treatment\", \"brain\", \"fan\", \"die\", \"admit\", \"life\", \"cookie\", \"say\", \"health\", \"use\", \"drug\", \"people\", \"make\", \"study\", \"work\", \"get\", \"new\", \"ai\", \"time\", \"see\", \"find\", \"image\", \"day\", \"take\", \"model\", \"world\", \"know\", \"go\", \"covid\", \"year\", \"need\", \"system\", \"research\", \"state\", \"datum\", \"technology\", \"also\", \"help\", \"well\", \"month_end\", \"person_head\", \"often_indicates_user_profile\", \"nav\", \"helpful_filled_starfilled_starfille\", \"realized_capital\", \"displayedwill\", \"distribution_level\", \"dismiss_notification\", \"two_crosse\", \"fusing_chatgpt\", \"copilot\", \"complete_hour\", \"ai_race_sparke\", \"google_cloud_certification_cloud\", \"health_degreessocial\", \"cybersecurity_sql\", \"analytics_degreespublic\", \"business_degreesdata\", \"careerprepare\", \"science_degreesdata\", \"campusbecome_blogteache\", \"times_syndication\", \"science_course\", \"top_european\", \"microsoft_ceo_satya_nadella\", \"combination_thereof\", \"skillsskill\", \"reinvestment\", \"sales_teamsproduct_manager_skillsskill\", \"motley_fool\", \"bing\", \"agomore_storie\", \"facebook_open\", \"new_be\", \"ai_stock\", \"agoinvestor_business\", \"least_minute\", \"temporarily_blocke\", \"outsmart\", \"sermon\", \"yearhttpsto_track\", \"total_return\", \"european_union_please_review\", \"image_generator\", \"symbol\", \"tab\", \"earn_affiliate\", \"may_unsubscribe\", \"receive_newsletter\", \"new_window\", \"fiscal_year\", \"chat_gpt\", \"big_tech\", \"search_engine\", \"site_constitute\", \"chatgpt\", \"openai\", \"gpt\", \"openai_chatgpt\", \"course\", \"lamda\", \"organisation\", \"stock\", \"tech_giant\", \"blog_post\", \"say\", \"chatbot\", \"job\", \"tech\", \"example\", \"right\", \"answer\", \"prompt\", \"agree\", \"concern\", \"write\", \"text\", \"worker\", \"even\", \"user\", \"use\", \"go\", \"think\", \"come\", \"way\", \"ai\", \"question\", \"however\", \"see\", \"work\", \"also\", \"want\", \"get\", \"need\", \"take\", \"make\", \"tool\", \"create\", \"people\", \"company\", \"technology\", \"know\", \"new\", \"time\", \"datum\", \"accord\", \"business\", \"year\", \"system\", \"help\", \"well\", \"include\", \"model\", \"digi_symbol\", \"communications_report\", \"shares_buy_back_digi\", \"notification_shares_buy_back\", \"back_digi_communications_report\", \"digi_communication\", \"buy_back_digi_communication\", \"rcs_rd\", \"analysts_recommendation\", \"looking_statement\", \"first_trust_nasdaq_artificial\", \"communications_announce\", \"lisk_machine_learning\", \"additional_share\", \"decentralized_machine_learne\", \"digi_communications_nv_announce\", \"forward_looking_statement\", \"differ_materially\", \"financial_results_notification_share\", \"communications_nv\", \"digi_communications_report\", \"spain_notification_shares_buy\", \"legal_act\", \"forward_looking_statements_containe\", \"ddn\", \"mono_solution\", \"company_financial_calendar\", \"exchanges_liste\", \"communications_nv_announces_investor\", \"aforementioned_exchange\", \"gray_media_group\", \"provided_courtesy\", \"necessarily_state\", \"prnewswire\", \"gray_television_inc\", \"press_release\", \"media_group_inc_station\", \"com_term\", \"risks_uncertaintie\", \"gray_media_group_inc\", \"endorse\", \"group_inc_station_gray\", \"serviceprivacy_policyeeo_captioning_audio\", \"polite_inappropriate\", \"images_gifs_inappropriate_language\", \"views_opinion\", \"station_gray_television_inc\", \"public_inspection\", \"cdt_update\", \"western_nj_including_allentown\", \"leading_provider\", \"serviceprivacy_policyeeo_statementfcc_captione\", \"reflect\", \"statement\", \"trade\", \"ai_solution\", \"solution\", \"headquarter\", \"dollar\", \"platform\", \"partner\", \"customer\", \"partnership\", \"company\", \"ai\", \"technology\", \"accelerate\", \"power\", \"support\", \"datum\", \"scale\", \"capability\", \"service\", \"provide\", \"product\", \"use\", \"team\", \"base\", \"experience\", \"industry\", \"new\", \"information\", \"application\", \"market\", \"business\", \"make\"], \"Freq\": [275151.0, 75480.0, 116507.0, 55363.0, 87555.0, 73141.0, 107348.0, 222164.0, 94334.0, 52214.0, 38964.0, 90414.0, 232381.0, 34578.0, 34467.0, 34297.0, 35906.0, 36904.0, 46716.0, 24320.0, 79651.0, 23301.0, 42214.0, 574748.0, 50814.0, 53551.0, 26252.0, 17104.0, 75638.0, 19406.0, 24316.50576405329, 6544.281819308167, 17101.552961872112, 5554.561715015906, 7910.159834554955, 7480.006102851835, 4749.395841903882, 4543.839651483498, 4159.116046496251, 5342.8985694484745, 3109.383703956369, 3045.817255970797, 3218.0986059750894, 2907.3784278423036, 3061.7106024048917, 3579.8173230644747, 2586.0915349005563, 2686.363714519595, 2324.471727103828, 2851.513577026554, 3259.524609813238, 2391.5573491857813, 2335.819632653553, 2372.7921208055127, 2199.477566262425, 2590.26476545418, 2190.1216624128942, 1982.758014463757, 3162.195597529906, 5086.543820738476, 23291.577961970364, 15794.29894093665, 14852.934959762722, 8238.295328204918, 6601.128361862976, 15124.565941972616, 5336.039215226509, 4669.9266815206265, 4005.881250667414, 3528.6635519335896, 6464.366561548081, 3287.507333914457, 3446.8757952309443, 8827.638527253728, 4520.470878555858, 13665.278049872848, 9150.293891541975, 6005.042362805742, 5409.26682809708, 50177.67676917606, 12147.717213652542, 6412.689337118877, 218010.52708111232, 6825.466778153104, 5767.900674290544, 16515.557227587233, 50790.77968341043, 6244.722921228423, 19493.429967926284, 50905.00281268163, 32304.67366867174, 57978.561478334705, 9539.639079228686, 50310.448669002384, 40324.838480007806, 22381.635054197148, 28218.210789279317, 21332.84000179117, 13161.264329313184, 18351.594127010205, 20477.022650706618, 12704.170617454998, 40473.04548782748, 14168.95737084366, 19812.949468850184, 26199.852573773045, 23267.877217666657, 23711.85580540104, 18166.16469856578, 15506.017356792177, 16417.148007503394, 16196.805041902484, 15775.296441478811, 15547.280323486384, 1907.8468735237211, 1128.7843740358885, 887.4312645305994, 1077.221162299827, 839.7103718774699, 725.0194305419409, 733.5650634279613, 821.6109001343293, 725.621915979442, 752.2196415175428, 1188.254424626347, 1567.4595365601174, 1291.4156410888452, 812.4692396006881, 1076.6954454869228, 639.280145051678, 611.1101453651822, 731.1165067303059, 536.9731030924726, 535.3348013373429, 535.1985946875218, 536.6166067327568, 531.6997245929147, 531.6997245929147, 531.6998563845449, 531.6993621659316, 531.6990656347637, 531.6990985826712, 531.6988020515032, 531.6991644784863, 1421.084239926936, 903.7648602205679, 805.0339511991796, 804.8113551357563, 764.0688293022004, 738.9985028624081, 717.4183482696294, 687.6820050580981, 650.6650968189239, 650.5773235932046, 654.8361701234127, 615.0464318804535, 982.4593559096319, 814.4287175586375, 3586.823611276486, 3077.721242026212, 953.4932029850429, 4260.376367451494, 912.3110861689242, 1113.7184820369016, 1282.5394747942603, 1178.4302811356677, 1173.4792649636013, 1346.1774356900823, 1086.1828613624175, 3429.948080089653, 2398.5778848977334, 5163.903409675349, 7067.234442989955, 5168.1571163319795, 14515.264459307044, 5361.144344945896, 5742.173453041761, 18084.042633408775, 1871.2800995975263, 7317.101357702569, 5241.547130696756, 6992.517550492233, 25276.110108532816, 4584.5547836073065, 12983.669642658997, 6456.594266578098, 4575.700494723336, 4098.35226443891, 4570.45307917493, 3484.6342262951503, 12146.994168441983, 6525.987831548413, 56213.94226019601, 9569.752960051243, 69603.22120431792, 3953.860401993048, 23540.083278103495, 35160.15131364246, 16698.328499405736, 32464.40307136767, 24568.532443603457, 32017.93941887297, 74587.40774820837, 23847.452989742433, 22138.313760541856, 16590.44914258175, 14741.24282312795, 13963.198809358375, 18094.868525080674, 18567.500723669695, 19051.530262439206, 17227.88624758077, 17618.726451795923, 11389.716298261199, 18981.307464531612, 21651.230873283665, 17980.08961283198, 15952.316177775227, 12534.870642476993, 21972.511455074437, 22941.082938471707, 16901.51745453088, 16014.479653912269, 15636.798580390237, 1804.796119959321, 1408.6549199294896, 1362.7552022527145, 1759.7884656550937, 1167.808705370446, 1215.6306706765374, 1092.7079438195005, 998.5100495019915, 990.4218253505974, 957.5264789613624, 850.2459030479497, 1474.4711674232015, 831.9916055521801, 657.4475308255772, 647.0028248575004, 640.4106489895048, 640.4113152934299, 640.4104138234137, 640.410962544293, 640.409629936443, 640.4101002686255, 640.4097083251402, 697.5861887949403, 632.4667776237475, 633.1619285892796, 747.6111116545217, 652.7277865699161, 619.3918565088529, 648.6063048502203, 616.9152832082735, 1585.9590214852424, 4770.733594660612, 1130.5127743056314, 1145.3165581341943, 1671.1551497758148, 810.3091351678657, 833.686447571324, 970.1077864508674, 781.2165028617302, 724.3125798916092, 722.1768014515002, 1396.0697713938287, 834.6392621840938, 676.5978503230964, 817.8617293522459, 4406.965829074987, 2994.8059937225303, 1747.7611310877148, 1149.451483515436, 1116.795144263538, 1380.752776765611, 2486.921862810423, 1950.5821645331907, 2452.7768438126504, 7200.189957875173, 1713.6161120899421, 62704.68153571764, 11046.742135918692, 10132.403831214087, 4117.448150899807, 19477.67978953242, 3151.4269240040953, 5598.673758793919, 15325.774162288355, 5113.609518260473, 2556.115252150893, 161280.29172388048, 19708.842413177492, 19896.688069936543, 19796.790768621857, 31956.432914447156, 28745.516494689098, 14965.662759088418, 9127.337821422141, 15159.666631888535, 14881.374215132411, 26138.336023279935, 14553.7370542411, 7711.073553891601, 40380.202705601674, 42251.38229366663, 195364.25909594417, 51322.166119262336, 34511.38268345015, 46439.1548260281, 49828.98309951862, 308191.92775126576, 21152.63929955397, 25862.16950798809, 60730.86668592706, 86102.61643759854, 72524.05860495333, 40005.71544247043, 59415.41655391202, 73212.19346854369, 47783.10583407517, 89169.42307668067, 46991.48785661179, 50396.99888639101, 52856.58786475561, 120684.9302310256, 112656.46272406497, 44763.7939658776, 78808.82535855658, 58026.88558029189, 86706.56811164174, 37131.303513015155, 55967.166752276295, 49603.94608221664, 50800.079837771606, 49267.10796961916, 48783.124865995575, 48816.557331737065, 44253.41205752236, 7196.623212347077, 7014.202046574036, 6089.301397527512, 4243.783933748962, 3690.142104927426, 3468.2531465995844, 2582.8266496372758, 1745.579256273169, 2203.8332591367143, 1587.2037477211975, 1496.5023419398306, 1080.2141824355988, 1154.6004228776048, 1471.7332191224336, 1084.0423426424168, 962.265441999084, 5213.247464417172, 2208.1320245202755, 921.8549183337645, 777.1929745876798, 737.3023424520728, 737.3016511988756, 925.7219269702725, 836.0417786626421, 814.112600481159, 671.4447148334144, 639.7270457511285, 657.2810750707457, 634.132318873212, 623.2102418541062, 34389.55458185706, 34277.003077259986, 34106.37303202573, 38661.594457801395, 12180.583650217295, 73239.13672917896, 8715.00067646836, 5030.231820894425, 2559.705059690397, 4825.531288070133, 34765.589685174324, 6184.6921267489315, 3230.4100644773475, 1832.695684722539, 1778.490512251286, 35103.870197861055, 5063.6740975787325, 4570.647985129855, 2997.097455810417, 1883.5907221330538, 3664.717259327041, 3078.9147372490493, 35532.918338385454, 38989.927560477256, 19486.21306776298, 10843.537383827503, 58263.06210666429, 5201.780403377291, 15134.320728468103, 38974.01878289261, 21165.239433951614, 31605.675557269726, 14928.357137801648, 78394.06730885652, 151495.7320261708, 65214.379467370745, 11246.633114311317, 22225.778891383503, 24639.699204759392, 44742.85298612733, 14387.40008165241, 14800.685437267437, 26830.469713975504, 26181.202682848016, 23168.042161739304, 48474.00106022425, 20952.84221152696, 24581.348586863744, 18555.941104871916, 24807.61068941918, 27767.98822238483, 22342.022241056882, 21574.246761779, 25443.373398083615, 21910.611673605286, 22201.49544306255], \"Total\": [275151.0, 75480.0, 116507.0, 55363.0, 87555.0, 73141.0, 107348.0, 222164.0, 94334.0, 52214.0, 38964.0, 90414.0, 232381.0, 34578.0, 34467.0, 34297.0, 35906.0, 36904.0, 46716.0, 24320.0, 79651.0, 23301.0, 42214.0, 574748.0, 50814.0, 53551.0, 26252.0, 17104.0, 75638.0, 19406.0, 24320.02005593549, 6545.473028398478, 17104.69079586386, 5555.585798845194, 7911.819547471248, 7481.741515428734, 4750.514541878753, 4544.941099082267, 4160.142650509476, 5344.323610575442, 3110.295967642755, 3046.7313265330536, 3219.1025742065426, 2908.31081760817, 3062.7364621079128, 3581.0948943746753, 2587.023134328538, 2687.346863328098, 2325.3306900799266, 2852.575764195066, 3260.777473700966, 2392.4787296348823, 2336.7327259712874, 2373.72918900681, 2200.3498805610666, 2591.308725772359, 2191.0370004337574, 1983.61568020367, 3163.565084180745, 5088.772667994357, 23301.953045742088, 15806.412729524023, 14881.867332621208, 8250.609588120522, 6613.722078242297, 15294.70400213403, 5349.261039985109, 4675.574321149633, 4007.942326469405, 3530.7170487098183, 6509.6790778251225, 3289.0148092407276, 3450.5144274230443, 8944.712317233956, 4546.4699005186985, 14068.31261706319, 9346.57964116301, 6091.884543006559, 5472.721387334573, 55363.64607369312, 12717.027427709838, 6551.225543263418, 275151.7029728101, 7090.1106644073425, 5930.619150740102, 19406.74299568794, 73141.80937904846, 6566.482480753187, 26252.750290994234, 87555.98595844004, 52214.748938969504, 116507.59506642952, 11374.733927417568, 107348.40602611341, 94334.72733509824, 53551.4393356654, 79651.76362085837, 50814.97036250087, 23547.758031733476, 46870.95439511444, 72555.46575945884, 26652.694351302776, 574748.1130134724, 38483.28265079978, 102152.30632669138, 232381.77056710664, 176689.80977051018, 224523.78093530846, 96806.51634286041, 59286.98964102892, 88778.081635741, 98120.28222289341, 89257.15307165644, 86467.95114309901, 1909.099603154683, 1129.588715950543, 888.271532811855, 1078.315072304981, 840.6025507598254, 725.8144737258203, 734.3853432784066, 822.545322213371, 726.4556428128933, 753.0845212099208, 1189.6294622988753, 1569.289739844388, 1292.9613823473671, 813.4468081457048, 1078.0410947029457, 640.1117291954371, 611.929472003763, 732.1609287065693, 537.760009572911, 536.1302956395651, 535.9946683407385, 537.4151507391995, 532.4940508597455, 532.4941406104244, 532.4942874407759, 532.4938439200413, 532.493647762286, 532.4938334149426, 532.4935407352777, 532.493933871926, 1423.3849270561288, 905.4963698004752, 806.488535194383, 806.5080745674998, 765.8037978987361, 740.5357675103879, 718.7929334981246, 689.12389874054, 651.8492818650607, 651.8568822794768, 656.2290136602184, 616.312055122417, 990.9817722938249, 818.795615469545, 3773.5297195768826, 3297.490529758738, 970.9317042328174, 4699.0419192947, 928.7157309777061, 1151.1479711854802, 1344.3641519679138, 1226.7167931066735, 1222.917435571545, 1435.518056958864, 1131.092806071047, 4160.177819859342, 2774.3168891456726, 6772.003462427186, 9889.165053139113, 6995.861563307546, 23357.825683417424, 7323.640390677425, 8019.577167015413, 31528.225444279684, 2158.0883895742572, 11162.751688635719, 7633.857576905669, 11025.07130830462, 54605.2723005588, 6731.298454051796, 24836.75144000073, 10622.534549271113, 6957.0845217270335, 6065.047863343335, 7069.398929064618, 4961.869494769341, 26183.289851736456, 11553.89768250287, 222164.1490979723, 19682.973163523908, 324516.0152463243, 5955.067334143177, 82446.15000489748, 152488.74331501278, 50814.97036250087, 140261.543459838, 91887.82473075106, 148494.78186996555, 574748.1130134724, 101322.84407547754, 92611.57639844234, 58005.36200304715, 47531.74551913499, 43709.930816466716, 72383.85806944504, 80083.43581974186, 84813.25338891431, 70448.80724420249, 73781.36863872079, 32026.317941554462, 89615.4966591676, 119920.86150383054, 96201.76495813671, 72555.46575945884, 40786.25951729864, 176689.80977051018, 224523.78093530846, 115065.74664529729, 95734.54130185011, 96007.22425867902, 1805.728804309739, 1409.4992392053132, 1363.5969092402386, 1760.928472483814, 1168.5781785790211, 1216.478440169792, 1093.5163885854884, 999.3297525390115, 991.2455677760242, 958.3386196659711, 851.0156519022365, 1475.8152109240277, 832.7834523722053, 658.219417393751, 647.7702474725148, 641.1787381173502, 641.1794759369432, 641.1787112289184, 641.179343938713, 641.1790315394268, 641.1797145870945, 641.1793630795992, 698.4297895538491, 633.2347742744519, 633.9340810095157, 748.5253950951325, 653.5342846742863, 620.1578709872648, 649.4104403768554, 617.6802814478323, 1591.5305270828835, 4852.828806454522, 1133.575589755998, 1149.6589463102237, 1685.4935969525989, 811.409218391927, 835.1003362701042, 974.0262355982321, 782.6604969158866, 725.359676860314, 723.2050110430185, 1407.5828204489046, 837.2664722810549, 677.5074364182642, 820.5621360047678, 4511.615291552138, 3062.5916915963317, 1771.0202716861297, 1158.6056972665324, 1125.2649855166326, 1399.5125546218883, 2553.719635165384, 1993.4409451295037, 2533.4110139047507, 7695.266214231473, 1753.712732280804, 72957.38225643495, 12189.584181368271, 11233.50486503045, 4390.016571311689, 22591.004294380382, 3325.9165509306017, 6092.866335846154, 17669.61167888537, 5571.538936037572, 2685.52794710709, 222164.1490979723, 23862.504936804973, 24121.344221321586, 24090.85294675082, 40496.320302904365, 36686.42513362174, 18086.224156392385, 10720.68677359886, 18744.17010601593, 18468.104884354652, 34352.23288644561, 18051.46171181269, 8998.401685989893, 55545.50301129889, 58905.96459341085, 324516.0152463243, 73781.36863872079, 47499.53478754274, 66061.13885269723, 72242.25596479702, 574748.1130134724, 27622.886684944307, 34731.58990745197, 92611.57639844234, 140261.543459838, 115065.74664529729, 57849.675341999966, 91887.82473075106, 119920.86150383054, 72383.85806944504, 152488.74331501278, 71129.91611210389, 77493.36139696365, 82446.15000489748, 232381.77056710664, 224523.78093530846, 70448.80724420249, 148494.78186996555, 101322.84407547754, 176689.80977051018, 56231.186830141436, 102152.30632669138, 89615.4966591676, 96201.76495813671, 95734.54130185011, 96007.22425867902, 98120.28222289341, 80083.43581974186, 7197.584473412111, 7015.1760538951485, 6090.240469564142, 4244.669241624601, 3691.0016253478484, 3469.1199243974834, 2583.6623371094647, 1746.3968456110122, 2205.271799716699, 1588.3287449919405, 1497.591365477316, 1081.014952245304, 1155.4909846830246, 1472.8751001277906, 1084.8967000358691, 963.0597960114286, 5217.572492294899, 2209.9893785738673, 922.6503098367258, 777.9853557243944, 738.0934043103216, 738.0930008570116, 926.7459640015876, 836.973255672791, 815.0522190574532, 672.2344580773445, 640.5136203640487, 658.0900209453316, 634.9186541115143, 624.0143639329787, 34578.07499994566, 34467.864563349714, 34297.431941926356, 38964.023370447496, 12306.610052166398, 75480.52049365026, 8815.094501852807, 5070.80219621418, 2566.628876370781, 4875.730580678166, 35906.396364256754, 6285.342730482751, 3266.3897906051384, 1843.1084591783754, 1788.3108437731703, 36904.12496635066, 5158.396415031651, 4646.841220793862, 3053.4938946890643, 1895.8318844867417, 3792.6589921687296, 3169.0696215361727, 42214.93796294069, 46716.187785095106, 24795.705166651187, 12973.235841910315, 90414.721156607, 5799.040723619061, 20123.841873271278, 75638.64970219097, 36147.32336464905, 61525.69597449516, 23415.279544608296, 232381.77056710664, 574748.1130134724, 224523.78093530846, 17871.317091505385, 54068.74856833697, 65123.451097914265, 176689.80977051018, 28311.73919757273, 30186.169450292393, 89257.15307165644, 88778.081635741, 73145.20949779329, 324516.0152463243, 62506.71442625194, 96806.51634286041, 50387.580116474826, 107348.40602611341, 148494.78186996555, 86467.95114309901, 79651.76362085837, 275151.7029728101, 102152.30632669138, 152488.74331501278], \"Category\": [\"Default\", \"Default\", \"Default\", \"Default\", \"Default\", \"Default\", \"Default\", \"Default\", \"Default\", \"Default\", \"Default\", \"Default\", \"Default\", \"Default\", \"Default\", \"Default\", \"Default\", \"Default\", \"Default\", \"Default\", \"Default\", \"Default\", \"Default\", \"Default\", \"Default\", \"Default\", \"Default\", \"Default\", \"Default\", \"Default\", \"Topic1\", \"Topic1\", \"Topic1\", \"Topic1\", \"Topic1\", \"Topic1\", \"Topic1\", \"Topic1\", \"Topic1\", \"Topic1\", \"Topic1\", \"Topic1\", \"Topic1\", \"Topic1\", \"Topic1\", \"Topic1\", \"Topic1\", \"Topic1\", \"Topic1\", \"Topic1\", \"Topic1\", \"Topic1\", \"Topic1\", \"Topic1\", \"Topic1\", \"Topic1\", \"Topic1\", \"Topic1\", \"Topic1\", \"Topic1\", \"Topic1\", \"Topic1\", \"Topic1\", \"Topic1\", \"Topic1\", \"Topic1\", \"Topic1\", \"Topic1\", \"Topic1\", \"Topic1\", \"Topic1\", \"Topic1\", \"Topic1\", \"Topic1\", \"Topic1\", \"Topic1\", \"Topic1\", \"Topic1\", \"Topic1\", \"Topic1\", \"Topic1\", \"Topic1\", \"Topic1\", \"Topic1\", \"Topic1\", \"Topic1\", \"Topic1\", \"Topic1\", \"Topic1\", \"Topic1\", \"Topic1\", \"Topic1\", \"Topic1\", \"Topic1\", \"Topic1\", \"Topic1\", \"Topic1\", \"Topic1\", \"Topic1\", \"Topic1\", \"Topic1\", \"Topic1\", \"Topic1\", \"Topic1\", \"Topic1\", \"Topic1\", \"Topic1\", \"Topic1\", \"Topic1\", \"Topic1\", \"Topic1\", \"Topic1\", \"Topic1\", \"Topic1\", \"Topic2\", \"Topic2\", \"Topic2\", \"Topic2\", \"Topic2\", \"Topic2\", \"Topic2\", \"Topic2\", \"Topic2\", \"Topic2\", \"Topic2\", \"Topic2\", \"Topic2\", \"Topic2\", \"Topic2\", \"Topic2\", \"Topic2\", \"Topic2\", \"Topic2\", \"Topic2\", \"Topic2\", \"Topic2\", \"Topic2\", \"Topic2\", \"Topic2\", \"Topic2\", \"Topic2\", \"Topic2\", \"Topic2\", \"Topic2\", \"Topic2\", \"Topic2\", \"Topic2\", \"Topic2\", \"Topic2\", \"Topic2\", \"Topic2\", \"Topic2\", \"Topic2\", \"Topic2\", \"Topic2\", \"Topic2\", \"Topic2\", \"Topic2\", \"Topic2\", \"Topic2\", \"Topic2\", \"Topic2\", \"Topic2\", \"Topic2\", \"Topic2\", \"Topic2\", \"Topic2\", \"Topic2\", \"Topic2\", \"Topic2\", \"Topic2\", \"Topic2\", \"Topic2\", \"Topic2\", \"Topic2\", \"Topic2\", \"Topic2\", \"Topic2\", \"Topic2\", \"Topic2\", \"Topic2\", \"Topic2\", \"Topic2\", \"Topic2\", \"Topic2\", \"Topic2\", \"Topic2\", \"Topic2\", \"Topic2\", \"Topic2\", \"Topic2\", \"Topic2\", \"Topic2\", \"Topic2\", \"Topic2\", \"Topic2\", \"Topic2\", \"Topic2\", \"Topic2\", \"Topic2\", \"Topic2\", \"Topic2\", \"Topic2\", \"Topic2\", \"Topic2\", \"Topic2\", \"Topic2\", \"Topic2\", \"Topic2\", \"Topic2\", \"Topic2\", \"Topic2\", \"Topic2\", \"Topic2\", \"Topic2\", \"Topic2\", \"Topic2\", \"Topic2\", \"Topic2\", \"Topic2\", \"Topic2\", \"Topic2\", \"Topic2\", \"Topic2\", \"Topic3\", \"Topic3\", \"Topic3\", \"Topic3\", \"Topic3\", \"Topic3\", \"Topic3\", \"Topic3\", \"Topic3\", \"Topic3\", \"Topic3\", \"Topic3\", \"Topic3\", \"Topic3\", \"Topic3\", \"Topic3\", \"Topic3\", \"Topic3\", \"Topic3\", \"Topic3\", \"Topic3\", \"Topic3\", \"Topic3\", \"Topic3\", \"Topic3\", \"Topic3\", \"Topic3\", \"Topic3\", \"Topic3\", \"Topic3\", \"Topic3\", \"Topic3\", \"Topic3\", \"Topic3\", \"Topic3\", \"Topic3\", \"Topic3\", \"Topic3\", \"Topic3\", \"Topic3\", \"Topic3\", \"Topic3\", \"Topic3\", \"Topic3\", \"Topic3\", \"Topic3\", \"Topic3\", \"Topic3\", \"Topic3\", \"Topic3\", \"Topic3\", \"Topic3\", \"Topic3\", \"Topic3\", \"Topic3\", \"Topic3\", \"Topic3\", \"Topic3\", \"Topic3\", \"Topic3\", \"Topic3\", \"Topic3\", \"Topic3\", \"Topic3\", \"Topic3\", \"Topic3\", \"Topic3\", \"Topic3\", \"Topic3\", \"Topic3\", \"Topic3\", \"Topic3\", \"Topic3\", \"Topic3\", \"Topic3\", \"Topic3\", \"Topic3\", \"Topic3\", \"Topic3\", \"Topic3\", \"Topic3\", \"Topic3\", \"Topic3\", \"Topic3\", \"Topic3\", \"Topic3\", \"Topic3\", \"Topic3\", \"Topic3\", \"Topic3\", \"Topic3\", \"Topic3\", \"Topic3\", \"Topic3\", \"Topic3\", \"Topic3\", \"Topic3\", \"Topic3\", \"Topic3\", \"Topic3\", \"Topic3\", \"Topic3\", \"Topic3\", \"Topic3\", \"Topic3\", \"Topic3\", \"Topic3\", \"Topic3\", \"Topic3\", \"Topic3\", \"Topic3\", \"Topic3\", \"Topic3\", \"Topic3\", \"Topic4\", \"Topic4\", \"Topic4\", \"Topic4\", \"Topic4\", \"Topic4\", \"Topic4\", \"Topic4\", \"Topic4\", \"Topic4\", \"Topic4\", \"Topic4\", \"Topic4\", \"Topic4\", \"Topic4\", \"Topic4\", \"Topic4\", \"Topic4\", \"Topic4\", \"Topic4\", \"Topic4\", \"Topic4\", \"Topic4\", \"Topic4\", \"Topic4\", \"Topic4\", \"Topic4\", \"Topic4\", \"Topic4\", \"Topic4\", \"Topic4\", \"Topic4\", \"Topic4\", \"Topic4\", \"Topic4\", \"Topic4\", \"Topic4\", \"Topic4\", \"Topic4\", \"Topic4\", \"Topic4\", \"Topic4\", \"Topic4\", \"Topic4\", \"Topic4\", \"Topic4\", \"Topic4\", \"Topic4\", \"Topic4\", \"Topic4\", \"Topic4\", \"Topic4\", \"Topic4\", \"Topic4\", \"Topic4\", \"Topic4\", \"Topic4\", \"Topic4\", \"Topic4\", \"Topic4\", \"Topic4\", \"Topic4\", \"Topic4\", \"Topic4\", \"Topic4\", \"Topic4\", \"Topic4\", \"Topic4\", \"Topic4\", \"Topic4\", \"Topic4\", \"Topic4\", \"Topic4\", \"Topic4\", \"Topic4\", \"Topic4\", \"Topic4\", \"Topic4\", \"Topic4\", \"Topic4\", \"Topic4\", \"Topic4\", \"Topic4\", \"Topic4\", \"Topic4\", \"Topic4\"], \"logprob\": [30.0, 29.0, 28.0, 27.0, 26.0, 25.0, 24.0, 23.0, 22.0, 21.0, 20.0, 19.0, 18.0, 17.0, 16.0, 15.0, 14.0, 13.0, 12.0, 11.0, 10.0, 9.0, 8.0, 7.0, 6.0, 5.0, 4.0, 3.0, 2.0, 1.0, -5.5016, -6.8141, -5.8536, -6.9781, -6.6246, -6.6805, -7.1347, -7.179, -7.2674, -7.017, -7.5583, -7.579, -7.5239, -7.6255, -7.5738, -7.4174, -7.7426, -7.7046, -7.8492, -7.6449, -7.5112, -7.8208, -7.8444, -7.8287, -7.9045, -7.741, -7.9088, -8.0083, -7.5415, -7.0661, -5.5446, -5.9331, -5.9945, -6.5839, -6.8055, -5.9764, -7.0183, -7.1516, -7.305, -7.4318, -6.8264, -7.5026, -7.4553, -6.5149, -7.1841, -6.0779, -6.479, -6.9001, -7.0046, -4.7772, -6.1956, -6.8345, -3.3082, -6.7721, -6.9404, -5.8884, -4.765, -6.861, -5.7227, -4.7628, -5.2175, -4.6327, -6.4373, -4.7745, -4.9958, -5.5845, -5.3528, -5.6325, -6.1155, -5.783, -5.6734, -6.1508, -4.9921, -6.0417, -5.7064, -5.427, -5.5457, -5.5268, -5.7932, -5.9515, -5.8944, -5.9079, -5.9343, -5.9489, -8.4653, -8.9901, -9.2307, -9.0369, -9.286, -9.4328, -9.4211, -9.3077, -9.432, -9.396, -8.9388, -8.6618, -8.8555, -9.3189, -9.0374, -9.5587, -9.6037, -9.4244, -9.7331, -9.7361, -9.7364, -9.7337, -9.7429, -9.7429, -9.7429, -9.7429, -9.7429, -9.7429, -9.7429, -9.7429, -8.7598, -9.2124, -9.3281, -9.3284, -9.3804, -9.4137, -9.4434, -9.4857, -9.541, -9.5411, -9.5346, -9.5973, -9.129, -9.3165, -7.834, -7.9871, -9.1589, -7.6619, -9.203, -9.0036, -8.8624, -8.9471, -8.9513, -8.814, -9.0286, -7.8787, -8.2364, -7.4696, -7.1558, -7.4687, -6.4361, -7.4321, -7.3634, -6.2162, -8.4846, -7.121, -7.4546, -7.1664, -5.8814, -7.5886, -6.5476, -7.2462, -7.5905, -7.7007, -7.5916, -7.8629, -6.6142, -7.2355, -5.0821, -6.8526, -4.8684, -7.7366, -5.9526, -5.5513, -6.2959, -5.6311, -5.9098, -5.645, -4.7993, -5.9396, -6.0139, -6.3024, -6.4206, -6.4748, -6.2156, -6.1898, -6.1641, -6.2647, -6.2423, -6.6785, -6.1678, -6.0362, -6.222, -6.3417, -6.5827, -6.0215, -5.9783, -6.2839, -6.3378, -6.3616, -9.3876, -9.6354, -9.6685, -9.4128, -9.8229, -9.7827, -9.8893, -9.9795, -9.9876, -10.0214, -10.1402, -9.5897, -10.1619, -10.3974, -10.4134, -10.4237, -10.4237, -10.4237, -10.4237, -10.4237, -10.4237, -10.4237, -10.3381, -10.4361, -10.435, -10.2689, -10.4046, -10.457, -10.4109, -10.461, -9.5168, -8.4155, -9.8553, -9.8423, -9.4645, -10.1883, -10.1599, -10.0084, -10.2249, -10.3005, -10.3035, -9.6443, -10.1588, -10.3687, -10.1791, -8.4948, -8.8811, -9.4197, -9.8387, -9.8675, -9.6554, -9.067, -9.3099, -9.0808, -8.0039, -9.4394, -5.8396, -7.5759, -7.6623, -8.5628, -7.0087, -8.8302, -8.2555, -7.2485, -8.3461, -9.0395, -4.8949, -6.9969, -6.9875, -6.9925, -6.5136, -6.6195, -7.2722, -7.7667, -7.2594, -7.2779, -6.7146, -7.3002, -7.9353, -6.2797, -6.2344, -4.7031, -6.0399, -6.4367, -6.1399, -6.0694, -4.2473, -6.9262, -6.7252, -5.8716, -5.5225, -5.6941, -6.289, -5.8935, -5.6846, -6.1113, -5.4875, -6.128, -6.0581, -6.0104, -5.1848, -5.2537, -6.1766, -5.611, -5.9171, -5.5155, -6.3635, -5.9532, -6.0739, -6.0501, -6.0808, -6.0906, -6.0899, -6.1881, -7.1855, -7.2112, -7.3526, -7.7136, -7.8534, -7.9154, -8.2102, -8.602, -8.3689, -8.6971, -8.756, -9.0819, -9.0153, -8.7727, -9.0784, -9.1976, -7.5079, -8.367, -9.2405, -9.4112, -9.4639, -9.4639, -9.2363, -9.3382, -9.3648, -9.5574, -9.6058, -9.5787, -9.6146, -9.632, -5.6213, -5.6246, -5.6296, -5.5043, -6.6593, -4.8654, -6.9941, -7.5436, -8.2192, -7.5852, -5.6105, -7.337, -7.9865, -8.5533, -8.5833, -5.6008, -7.537, -7.6394, -8.0615, -8.5259, -7.8603, -8.0345, -5.5886, -5.4958, -6.1894, -6.7755, -5.0941, -7.5101, -6.4421, -5.4962, -6.1067, -5.7058, -6.4558, -4.7974, -4.1385, -4.9814, -6.739, -6.0578, -5.9547, -5.3582, -6.4927, -6.4644, -5.8696, -5.8941, -6.0163, -5.2781, -6.1168, -5.9571, -6.2383, -5.948, -5.8352, -6.0526, -6.0876, -5.9226, -6.0721, -6.0589], \"loglift\": [30.0, 29.0, 28.0, 27.0, 26.0, 25.0, 24.0, 23.0, 22.0, 21.0, 20.0, 19.0, 18.0, 17.0, 16.0, 15.0, 14.0, 13.0, 12.0, 11.0, 10.0, 9.0, 8.0, 7.0, 6.0, 5.0, 4.0, 3.0, 2.0, 1.0, 2.0449, 2.0449, 2.0449, 2.0449, 2.0448, 2.0448, 2.0448, 2.0448, 2.0448, 2.0448, 2.0448, 2.0447, 2.0447, 2.0447, 2.0447, 2.0447, 2.0447, 2.0447, 2.0447, 2.0447, 2.0447, 2.0447, 2.0447, 2.0447, 2.0447, 2.0446, 2.0446, 2.0446, 2.0446, 2.0446, 2.0446, 2.0443, 2.0431, 2.0436, 2.0431, 2.0339, 2.0426, 2.0438, 2.0445, 2.0445, 2.0381, 2.0446, 2.044, 2.0319, 2.0393, 2.016, 2.0238, 2.0307, 2.0334, 1.9467, 1.9992, 2.0237, 1.8123, 2.007, 2.0172, 1.8837, 1.6804, 1.9948, 1.7474, 1.5027, 1.5649, 1.3472, 1.8691, 1.2872, 1.1952, 1.1726, 1.0074, 1.1771, 1.4633, 1.1074, 0.78, 1.3041, -0.6082, 1.0459, 0.4049, -0.1376, 0.0177, -0.203, 0.3719, 0.7039, 0.3572, 0.2437, 0.312, 0.3292, 1.6259, 1.6258, 1.6256, 1.6255, 1.6255, 1.6254, 1.6254, 1.6254, 1.6254, 1.6254, 1.6254, 1.6254, 1.6253, 1.6253, 1.6253, 1.6252, 1.6252, 1.6251, 1.6251, 1.625, 1.625, 1.625, 1.625, 1.625, 1.625, 1.625, 1.625, 1.625, 1.625, 1.625, 1.6249, 1.6246, 1.6247, 1.6244, 1.6243, 1.6245, 1.6246, 1.6244, 1.6247, 1.6246, 1.6244, 1.6245, 1.6179, 1.6212, 1.5758, 1.5576, 1.6084, 1.5285, 1.6087, 1.5935, 1.5795, 1.5864, 1.5853, 1.5623, 1.586, 1.4335, 1.481, 1.3554, 1.2906, 1.3237, 1.1508, 1.3146, 1.2925, 1.0707, 1.4839, 1.2042, 1.2506, 1.1712, 0.8563, 1.2425, 0.9779, 1.1287, 1.2075, 1.2346, 1.1904, 1.2731, 0.8585, 1.0553, 0.2523, 0.9054, 0.087, 1.217, 0.3731, 0.1594, 0.5136, 0.1632, 0.3074, 0.0923, -0.4154, 0.1799, 0.1954, 0.3748, 0.4558, 0.4854, 0.2402, 0.1649, 0.1332, 0.2182, 0.1944, 0.5927, 0.0745, -0.0852, -0.0507, 0.1118, 0.4467, -0.4581, -0.6545, -0.2916, -0.1616, -0.1883, 0.7593, 0.7592, 0.7592, 0.7591, 0.7591, 0.7591, 0.759, 0.759, 0.7589, 0.7589, 0.7589, 0.7589, 0.7588, 0.7586, 0.7586, 0.7586, 0.7586, 0.7586, 0.7586, 0.7586, 0.7586, 0.7586, 0.7586, 0.7586, 0.7586, 0.7586, 0.7585, 0.7585, 0.7585, 0.7585, 0.7563, 0.7427, 0.7571, 0.756, 0.7512, 0.7584, 0.7581, 0.7557, 0.7579, 0.7583, 0.7584, 0.7516, 0.7566, 0.7584, 0.7565, 0.7363, 0.7374, 0.7466, 0.7518, 0.7522, 0.7463, 0.7333, 0.738, 0.7274, 0.6933, 0.7367, 0.6083, 0.6613, 0.6566, 0.6957, 0.6115, 0.7059, 0.6752, 0.6175, 0.674, 0.7104, 0.4395, 0.5685, 0.5672, 0.5635, 0.5229, 0.5159, 0.5704, 0.5989, 0.5475, 0.5438, 0.4865, 0.5444, 0.6054, 0.4409, 0.4275, 0.2523, 0.3968, 0.4403, 0.4073, 0.3884, 0.1366, 0.4929, 0.4649, 0.3378, 0.2718, 0.2982, 0.391, 0.3238, 0.2663, 0.3445, 0.2232, 0.3452, 0.3295, 0.3152, 0.1046, 0.0701, 0.3063, 0.1263, 0.2024, 0.0479, 0.3448, 0.1581, 0.1683, 0.1212, 0.0955, 0.0827, 0.0617, 0.1666, 1.5786, 1.5785, 1.5785, 1.5785, 1.5785, 1.5784, 1.5784, 1.5782, 1.578, 1.578, 1.578, 1.5779, 1.5779, 1.5779, 1.5779, 1.5779, 1.5779, 1.5778, 1.5778, 1.5777, 1.5776, 1.5776, 1.5776, 1.5776, 1.5775, 1.5775, 1.5775, 1.5775, 1.5774, 1.5774, 1.5732, 1.5731, 1.5731, 1.5709, 1.5684, 1.5485, 1.5673, 1.5707, 1.576, 1.5683, 1.5464, 1.5625, 1.5676, 1.573, 1.5732, 1.5287, 1.5602, 1.5622, 1.56, 1.5722, 1.5444, 1.5498, 1.4064, 1.3979, 1.3377, 1.3994, 1.1392, 1.47, 1.2937, 0.9156, 1.0434, 0.9126, 1.1286, 0.4921, 0.2453, 0.3424, 1.1156, 0.6897, 0.6068, 0.2052, 0.9018, 0.866, 0.3767, 0.3576, 0.429, -0.3226, 0.4857, 0.208, 0.5797, 0.1138, -0.098, 0.2254, 0.2725, -0.8022, 0.0392, -0.3482]}, \"token.table\": {\"Topic\": [1, 2, 3, 4, 1, 2, 3, 4, 1, 3, 4, 1, 2, 3, 4, 4, 1, 3, 1, 2, 3, 1, 2, 3, 4, 1, 1, 2, 3, 4, 3, 1, 2, 3, 4, 3, 1, 2, 3, 4, 1, 2, 3, 4, 1, 3, 4, 3, 1, 2, 3, 4, 1, 2, 3, 4, 1, 2, 3, 4, 2, 3, 1, 1, 2, 4, 1, 2, 3, 4, 2, 3, 2, 3, 1, 2, 3, 4, 2, 3, 2, 3, 4, 1, 2, 3, 4, 1, 2, 3, 4, 2, 3, 1, 2, 3, 4, 3, 4, 1, 2, 3, 4, 3, 1, 2, 3, 4, 1, 2, 3, 4, 2, 3, 3, 2, 3, 4, 1, 2, 3, 4, 2, 3, 1, 2, 3, 4, 1, 2, 3, 4, 2, 3, 2, 2, 3, 4, 3, 1, 2, 3, 4, 4, 4, 4, 4, 1, 2, 3, 4, 4, 2, 3, 1, 2, 3, 4, 1, 2, 3, 4, 2, 2, 3, 4, 1, 2, 3, 4, 1, 2, 3, 4, 1, 2, 3, 4, 2, 1, 2, 3, 4, 3, 1, 3, 4, 1, 2, 3, 4, 1, 2, 3, 4, 4, 1, 2, 3, 4, 4, 1, 2, 3, 4, 1, 2, 3, 4, 1, 2, 3, 4, 3, 4, 4, 4, 4, 4, 1, 2, 3, 4, 3, 3, 3, 1, 2, 3, 4, 1, 2, 3, 4, 1, 2, 3, 4, 1, 2, 3, 4, 2, 3, 2, 3, 1, 2, 3, 4, 1, 3, 1, 2, 3, 4, 1, 2, 3, 4, 4, 1, 2, 3, 4, 1, 2, 3, 4, 2, 3, 2, 3, 1, 2, 3, 4, 1, 2, 3, 4, 4, 1, 2, 3, 4, 4, 1, 2, 3, 4, 2, 3, 1, 2, 3, 4, 1, 1, 3, 4, 1, 3, 4, 4, 3, 1, 2, 3, 4, 1, 2, 3, 4, 1, 2, 3, 4, 1, 3, 4, 1, 2, 3, 4, 1, 1, 2, 3, 4, 1, 2, 3, 4, 3, 1, 2, 3, 4, 1, 2, 3, 4, 2, 1, 2, 3, 4, 2, 3, 4, 1, 2, 3, 4, 2, 1, 2, 3, 4, 1, 2, 3, 4, 1, 4, 1, 3, 4, 1, 2, 3, 4, 1, 3, 4, 2, 3, 1, 2, 3, 4, 1, 2, 3, 4, 3, 1, 2, 3, 4, 1, 2, 3, 4, 3, 1, 2, 3, 4, 1, 2, 3, 4, 1, 2, 3, 4, 2, 3, 1, 2, 3, 4, 1, 2, 3, 4, 1, 2, 3, 4, 1, 2, 3, 4, 1, 2, 3, 4, 1, 1, 2, 3, 4, 1, 2, 3, 4, 2, 1, 2, 3, 4, 1, 2, 3, 4, 1, 2, 3, 2, 3, 1, 2, 3, 4, 2, 3, 4, 1, 3, 4, 1, 2, 3, 4, 2, 3, 4, 2, 2, 3, 1, 2, 3, 4, 4, 3, 4, 1, 2, 3, 4, 1, 2, 1, 2, 3, 4, 1, 1, 2, 3, 4, 1, 3, 4, 1, 4, 1, 1, 3, 4, 1, 2, 3, 4, 1, 2, 3, 4, 1, 4, 1, 1, 4, 1, 2, 3, 4, 1, 3, 4, 2, 3, 1, 2, 3, 4, 3, 2, 1, 2, 3, 4, 1, 2, 3, 4, 2, 3, 4, 3, 3, 4, 3, 4, 1, 2, 3, 4, 1, 2, 3, 4, 1, 2, 3, 4, 2, 3, 2, 3, 4, 2, 2, 2, 2, 3, 2, 3, 4, 2, 3, 4, 1, 2, 3, 4, 1, 2, 3, 4, 3, 1, 2, 3, 4, 1, 2, 3, 4, 1, 2, 3, 4, 1, 2, 3, 4, 2, 3, 1, 2, 3, 4, 1, 2, 3, 4, 1, 2, 3, 4, 1, 2, 3, 4, 1, 2, 3, 4, 1, 2, 3, 4, 2, 3, 1, 2, 3, 4, 1, 2, 3, 4, 2, 3, 1, 3, 1, 2, 3, 4, 2, 3, 1, 2, 3, 4, 1, 2, 3, 4, 1, 2, 3, 4, 2, 3, 4, 1, 2, 3, 4, 4, 2, 3, 2, 3, 2, 3, 1, 2, 3, 4, 1, 2, 3, 4, 1, 3, 1, 2, 3, 4, 1, 2, 3, 4, 1, 3, 1, 2, 3, 4, 1, 2, 3, 4, 2, 1, 2, 3, 4, 1, 2, 3, 4, 1, 2, 3, 4, 1, 3, 4, 2, 3, 1, 2, 3, 4, 1, 2, 3, 4, 2, 3, 1, 3, 4, 3, 1, 2, 3, 4, 1, 2, 3, 4, 3, 3, 1, 2, 3, 4, 1, 2, 3, 4, 1, 2, 3, 4, 1, 2, 3, 4, 2, 3, 1, 2, 3, 4, 1, 3, 4, 2, 3, 4, 2, 3, 4, 1, 4, 1, 2, 3, 4, 2, 3, 1, 3, 1, 2, 3, 4, 4, 2, 3, 1, 2, 3, 4, 1, 2, 3, 4, 1, 2, 3, 4, 2, 1, 2, 3, 4, 1, 2, 3, 4, 2, 3, 2, 3, 1, 2, 3, 4, 1, 2, 3, 4, 1, 2, 3, 4, 1, 2, 3, 4, 1, 2, 3, 4, 2, 3, 1, 2, 3, 4, 1, 2, 3, 4, 1, 2, 3, 4, 1, 2, 3, 4, 1, 2, 3, 4, 2, 3, 1, 2, 3, 4, 2, 1, 2, 3, 4, 2, 1, 2, 3, 4, 3, 2, 1, 2, 3, 4, 1, 2, 3, 4, 3, 1, 1, 1, 2, 3, 4, 3, 4, 1, 2, 3, 4, 1, 2, 3, 4, 1, 2, 3, 4, 2, 3, 1, 3, 4, 2, 1, 2, 3, 4, 1, 2, 3, 4, 1, 2, 3, 4, 1, 2, 3, 4, 1, 2, 3, 4, 1, 2, 3, 4, 1, 2, 3, 4, 1, 2, 3, 4, 1, 2, 3, 4, 1, 2, 3, 4, 1, 2, 3, 4, 1, 2, 3, 4, 2, 3], \"Freq\": [0.028201614767361598, 0.04291793358445704, 0.2995862013183611, 0.6293324628740394, 0.07438932442659736, 0.158043969920911, 0.660327517399949, 0.10723586571656277, 0.9997999022399019, 0.0006789441955487179, 0.9994058558477127, 0.0004030738821543658, 0.7023562396539824, 0.29545315561915014, 0.001813832469694646, 0.9983744541927121, 0.001197460899688299, 0.9986823903400414, 0.0008821643735423501, 0.0017643287470847002, 0.997727906476398, 0.01573822678366112, 0.13097405679284085, 0.80878480691628, 0.044547184285956054, 0.9997595411433454, 0.07041867399580534, 0.12977337082314463, 0.5362209862405861, 0.2635867723091574, 0.9981473998464231, 0.018962115774176537, 0.01564759960226763, 0.1294973760187666, 0.8358747294925625, 0.9982632457704637, 0.08980952456560058, 0.14688993460497204, 0.6302831391131815, 0.13301960354181175, 0.6944181505926641, 0.06233097100966619, 0.14387120156497418, 0.09938228301585074, 0.9997929348121899, 0.0004534588435441224, 0.9994232911712458, 0.9981616494617247, 0.023111512739504687, 0.11362238918584242, 0.8274806211948017, 0.03577308311593189, 0.3542671086897386, 0.055378560366802644, 0.31949072868156736, 0.27085401526941744, 0.42746718137803585, 0.1321146554622309, 0.36269782047983873, 0.07772323307783656, 0.9990342717842008, 0.000927608423197958, 0.9993865154932895, 0.9995267079316542, 0.998481079852684, 0.9997286304777083, 0.18765265693128894, 0.13459837717795303, 0.4238247749220441, 0.25391885720731106, 0.9986971192748257, 0.0015340969574114066, 0.9986302774514961, 0.0008405978766426735, 0.9994277415743045, 0.01776261323291613, 0.9682597835631839, 0.013815365847823658, 0.998540906891665, 0.0006372309552595181, 0.012776053405703635, 0.9831379161066458, 0.004121307550226979, 0.0003723662608230244, 0.047662881385347126, 0.9517681626636505, 0.0003723662608230244, 0.008336825550827435, 0.6577467882859714, 0.28963281870547036, 0.044271418442325, 0.9975056328261339, 0.0013912212452247335, 0.19395548385012878, 0.04367987528083959, 0.5478779874143319, 0.21449344403372392, 0.9981606644851214, 0.9997436440900378, 0.978967745559321, 0.00010699101044364163, 0.0028887572819783244, 0.017974489754531794, 0.9981606346874069, 0.06103521966602913, 0.7320130036455976, 0.0368669112076686, 0.17013396801761138, 0.030543789317762186, 0.06562608095280574, 0.41353375493885614, 0.49032388903709123, 0.9986854748292594, 0.001534079070398248, 0.9981611508152474, 0.01506470999663949, 0.0032749369557911936, 0.9814986056506207, 0.03894064316834354, 0.8244839880704835, 0.09687085923976818, 0.039661766189979526, 0.021069096680599923, 0.9787097053297726, 0.018397062720892164, 0.1284441850558872, 0.8259401119955893, 0.027239386716582933, 2.741326426666846e-05, 0.11705463841867433, 0.859474367920723, 0.02345204758013487, 0.998127157387688, 0.0015238582555537222, 0.9992831918493695, 0.006310638585723368, 0.001577659646430842, 0.9919535026933919, 0.9991824687903672, 0.024961725284163377, 0.19914885253999598, 0.7029700184786313, 0.07291730181553364, 0.9990611117420756, 0.9987334520924538, 0.998553115260411, 0.9998323557547076, 0.11274550467560891, 0.03056608090499428, 0.5193393599914451, 0.3373500417381559, 0.9991981117220321, 0.9982632263326366, 0.9990592363837519, 0.02707370372493268, 0.15469914308426536, 0.8057675702614465, 0.012453903713469033, 0.00025965263692296465, 0.5648310361864224, 0.37355359365317176, 0.061364573192793974, 0.9994240200181981, 0.0006775916067255375, 0.9987700283134423, 0.0006775916067255375, 0.03054313084131637, 0.08202379920139019, 0.8622015978654497, 0.025231281999348307, 0.352928489020408, 0.35564500486087297, 0.26112898820469543, 0.030318814725189436, 0.02005333065937812, 0.15689085853070733, 0.6503395786619557, 0.1727115685618512, 0.9985598944349854, 0.04658216302320368, 0.016025824403656255, 0.4236928910289161, 0.5137040629837318, 0.9981604589959471, 0.9883565446101382, 0.0003654488979885887, 0.011146191388651956, 0.13168840936679455, 0.12435918080696994, 0.4907300546229437, 0.2532290914689053, 0.010706948998960476, 0.31944685656513916, 0.5919707379232956, 0.07787703930013133, 0.9987090163883365, 0.0015719444434361739, 0.6866777310410352, 0.30980405072721257, 0.001964930554295217, 0.9991734696622826, 0.9626083883657544, 0.0038081210968315556, 0.009167698936816708, 0.02440018332414293, 0.2615413616694959, 0.10968679704222441, 0.37763765938464744, 0.25113435662950623, 0.002687640093683887, 0.6464481699018613, 0.3403401087054438, 0.010467650891189876, 0.00045249086248790575, 0.9990998243732958, 0.9996771733402449, 0.9988995532615754, 0.9985186098345598, 0.9999187958940572, 0.034178820778475005, 0.7146204924304227, 0.0520771973399841, 0.19910679915034699, 0.9987434316817992, 0.9995277724313246, 0.9996700262969519, 0.009601503719759895, 0.7159978488163807, 0.1920300743951979, 0.08229860331222767, 0.00019876920248080695, 0.03612630255088666, 0.211589816040819, 0.7520432775861331, 0.0004256186759662252, 0.9065677798080597, 0.0927848713606371, 0.0002128093379831126, 0.07556589619397588, 0.6639723412244014, 0.16171101785510839, 0.09873943769346183, 0.9978711188406718, 0.0016225546647815803, 0.01298686433334976, 0.9870016893345818, 0.0005291536306582319, 0.013173140384281247, 0.018074774015641712, 0.9682397433402153, 0.9996896171925769, 0.9992510245777569, 0.020163648527445566, 0.19259884995233273, 0.7269715424448677, 0.060274906490971204, 0.017581844342260792, 0.14887772407231786, 0.7891087328669746, 0.044423789286133664, 0.9983436598175949, 0.41795328524612646, 0.08091285787559048, 0.38953201368216417, 0.11161231283692691, 0.03699324309068263, 0.10264434188037048, 0.4921053946762696, 0.36826535342849087, 0.003479292717929793, 0.9959475405074032, 0.9987804377971181, 0.000927372737044678, 0.012036178715291956, 0.675674799661184, 0.293649784821027, 0.018631345134630013, 0.04445485337090683, 0.7387224508708891, 0.20940951829060614, 0.00743296583693619, 0.9992951719304783, 0.030014466592046117, 0.2860080417932482, 0.5956173499647337, 0.0883539007950812, 0.9996051222710358, 0.00039158566438920697, 0.0039158566438920695, 0.9738735473359577, 0.02192879720579559, 0.9820012406163201, 0.017228091940637194, 0.9063348164102011, 0.018098518993244477, 0.049888332793753744, 0.025684724559275098, 0.9996045128800892, 0.9992147029350411, 6.326546175351659e-05, 0.0006959200792886825, 0.00019166001075725535, 0.000574980032271766, 0.9991236360775722, 0.9988371723156093, 0.9988065414543595, 0.018596151915687708, 0.9543545163130931, 0.02157153622219774, 0.005206922536392558, 0.04121329470032222, 0.2673803637423334, 0.6466036188591616, 0.04480463012443269, 0.5813994262386919, 0.03658230747947215, 0.17441411723978123, 0.20760430941441316, 0.9998426866702256, 5.846349471817481e-05, 0.00011692698943634962, 0.9725797346606201, 0.001517548129671564, 0.0005058493765571879, 0.025461085286711795, 0.9997749546301563, 0.8387009367317911, 0.000703313154492068, 0.04562744089767291, 0.11499170075945313, 0.015193537619085238, 0.23880012427356181, 0.6955956625215812, 0.050405679219784116, 0.9988109248988817, 0.0007025506459930123, 0.9983244679560704, 0.0007025506459930123, 0.0007025506459930123, 8.901941219725366e-05, 0.07628963625304638, 0.901944684382574, 0.02172073657612989, 0.9981442570243886, 5.7840119786978976e-05, 0.004974250301680192, 0.0004338008984023423, 0.9945608597371035, 0.009844678496022163, 0.0004101949373342568, 0.9898003837875617, 8.125714520579652e-05, 0.008694514537020227, 0.0014626286137043372, 0.9897932857518074, 0.9993727864634253, 0.00015910031367902735, 0.010500620702815806, 0.00540941066508693, 0.9840354401047842, 0.6186949215777952, 0.01064833234475326, 0.20067127033871343, 0.17000943565535018, 0.9996942570898093, 0.0002792442058910082, 0.998807778303423, 0.000855509874349827, 0.00021387746858745675, 0.9789008114053477, 0.0016790751482081436, 0.01801189704441463, 0.0015264319529164942, 0.9995136827204985, 0.000283228586772598, 0.000283228586772598, 0.9983690904602293, 0.0014511178640410308, 0.0034488462753057567, 0.004311057844132196, 0.09518815719843889, 0.8970449162070273, 0.04359097545232793, 0.48620703389134995, 0.18279758703668517, 0.2874057670557332, 0.9981616076028795, 0.9984716780032014, 0.0001212031655745571, 0.0001212031655745571, 0.0013332348213201282, 0.14592434256255243, 0.16727504808852645, 0.5146209438102556, 0.17217401134277394, 0.9995052290128127, 0.04192514650992812, 0.6554835406263761, 0.15032135864029783, 0.15229219886085, 0.04321714047642683, 0.1755750317290145, 0.7446247081954368, 0.03656613484681017, 0.009172816929781766, 0.3101295742245711, 0.6273912239977569, 0.05331173876162155, 0.00243735350711866, 0.9968775844115321, 0.0011183738033932542, 0.0005591869016966271, 0.003914308311876389, 0.994234311216603, 0.39154312594737584, 0.09801379253499588, 0.3482967268467148, 0.1621473276591138, 0.1650729047354994, 0.14075581202086698, 0.49752200966060844, 0.19665658886066534, 0.468660894580602, 0.026493174004914175, 0.2737441671267257, 0.2310979819669166, 0.9929828986530648, 0.00015361740387578356, 0.006759165770534476, 0.00015361740387578356, 0.9994949556726518, 0.01992504116501129, 0.8669709772031657, 0.09869845972435826, 0.014364564560822093, 0.17980072147506646, 0.12672903492144968, 0.4350744929498939, 0.2583847507040545, 0.9994752846282493, 0.0014095400193305302, 0.13390630183640037, 0.8248711107241047, 0.039840234075783514, 0.98890439448123, 0.0038575444148358728, 0.006734357198781269, 0.0005884389785342857, 0.9994988129941551, 0.9984830309906038, 0.0007734183044079037, 0.9677296297996996, 0.03214182791973868, 0.06073914048207162, 0.24454636883036457, 0.6354117514698421, 0.0593054753293048, 0.05171506782149236, 0.9474080157297815, 0.0006013379979243297, 0.9857376576339908, 0.00016415281559267124, 0.013952989325377054, 0.024257387808913525, 0.0005273345175850766, 0.008964686798946303, 0.966340503474653, 0.0030799991728738658, 0.9958663992292166, 0.9991950717558384, 0.9985685313950905, 0.9591816797115045, 0.04006811790781221, 0.008860613059462959, 0.46392183979869206, 0.4373781929179733, 0.08982828412007275, 0.999575085665286, 0.0006295925847549112, 0.999163432006044, 0.0024426120050155416, 0.9941430860413255, 0.0024426120050155416, 0.0012213060025077708, 0.9995833298000456, 0.9993370308010462, 0.03907173651298249, 0.23057439674328037, 0.5847579176109661, 0.1455910745761538, 0.9997599635626927, 0.7923301860193953, 0.010612327557676604, 0.10458957618315662, 0.09246898974313898, 0.998060234513855, 0.0006047628163081326, 0.0013439173695736282, 0.9997615679980506, 0.000306675327606764, 0.9997253338153353, 0.9996516511720976, 0.00019651103817025706, 0.00019651103817025706, 0.9998758201708492, 4.111838714359704e-05, 4.111838714359704e-05, 8.223677428719408e-05, 0.9552546826729372, 0.0006290778285630143, 0.016513292999779126, 0.027679424456772628, 0.999752333378012, 0.00018711441762642934, 0.9996574901914039, 0.9995052783365921, 0.0003160990760077774, 0.9995728664579081, 4.2914857739048085e-05, 0.00012874457321714427, 0.00030040400417333664, 0.9869518087228938, 0.012074172558005497, 0.0008943831524448517, 0.007767957659135857, 0.9917092611496777, 0.00011344177873417174, 0.009302225856202082, 0.0019285102384809195, 0.9886451016683067, 0.9992980931594636, 0.9978917519700752, 0.015958356268287784, 0.2318581840293956, 0.5525861814871199, 0.19959183614421905, 0.011145801978900843, 0.9376405914750334, 0.00766273886049433, 0.04318998266824077, 0.9979261399951672, 0.001350373667111187, 0.9981636495087218, 0.9995963932634848, 0.9965250260747305, 0.003141629968709743, 0.9994727369689784, 0.0005678822369141923, 5.831340385444811e-05, 0.005073266135336985, 0.0004373505289083608, 0.9944184759299036, 0.053118364228867114, 0.18054406654932526, 0.6105026188263453, 0.15582776645915852, 0.06666900934383854, 0.21561700415868915, 0.5307189855937952, 0.18699646984441504, 0.00830617216541922, 0.9914009777439656, 0.0128616209554927, 0.986772141085301, 0.9998423336221257, 0.9990724140867965, 0.9990720262013437, 0.9990729508899112, 0.9990731516957064, 0.9995622538917522, 0.052996065361065256, 0.9062655325753682, 0.04069047742892936, 0.051708233058485896, 0.9378096718140372, 0.01025053078251923, 0.3681858465290131, 0.09775673333630794, 0.3441754207972883, 0.18987465456895325, 0.007221560030151138, 0.03955445380150964, 0.9189435138367322, 0.0343024101432179, 0.9981255135849303, 0.030873655256350545, 0.08227441821898435, 0.30132244897147864, 0.5855205318106266, 0.013025682628257608, 0.060900404681624096, 0.28848683984878737, 0.6375324271299331, 0.013226243917120248, 0.5735812829669126, 0.058677580927272086, 0.3545394592459715, 0.005846240242526402, 0.28551969981135167, 0.641109378629083, 0.06753499101740043, 0.9992275045862989, 0.999645803849036, 0.050966007658493864, 0.03896156279366574, 0.3947981636051735, 0.5152656763896601, 0.5589067112998166, 0.11423592837903705, 0.27433609566118194, 0.05253154029920775, 0.001085123336090359, 0.0005425616680451795, 0.0037979316763162565, 0.9945155375268141, 0.010696301834107618, 0.6811464431858809, 0.29756517463496607, 0.010547742086411679, 0.02607791075870592, 0.11000809446296654, 0.4528308985930183, 0.4110692514347502, 0.0057100825111063925, 0.01539470041277408, 0.008584996443612396, 0.9703033248977287, 0.9815314463884087, 0.017508955496960073, 5.132940150931416e-05, 0.007237445612813297, 0.00048762931433848455, 0.992248660576552, 0.20456568656695717, 0.049764024534099054, 0.42891394002974986, 0.3167398132983535, 0.9601334162599079, 0.03890043307130382, 0.9996914549494041, 0.0003040424133057799, 0.011939533604807604, 0.12405921636245401, 0.8513447125865548, 0.01259247684882052, 0.9981543008617919, 0.0012399432308842135, 0.028090410802935332, 0.9505689014163117, 0.014575213152466446, 0.006890100762984138, 0.18492177007562993, 0.10171429516860195, 0.41845914346772567, 0.2949038717396642, 5.8025062629688844e-05, 0.005048180448782929, 0.0004061754384078219, 0.9944625358789223, 0.010759997517508904, 0.00559519870910463, 0.9836789730506641, 0.021105686985196978, 0.15950541484867561, 0.7657780391044111, 0.05361496127800468, 0.9997727632112887, 0.9981301184513144, 0.0012399131906227507, 0.9982213856748631, 0.9996067006582334, 0.007109436535365964, 0.9926550762504728, 0.004571841374478136, 0.07066219077755585, 0.08305117025347329, 0.8417162671467958, 0.7425126809165932, 0.09012389078380235, 0.11869232615483016, 0.04868061387223137, 0.9995492855852154, 0.9993679800148929, 0.49764137665825064, 0.09584782857832465, 0.303997348669034, 0.10252550482386388, 0.9941779224105984, 0.0002199508677899554, 0.0019795578101095986, 0.0035192138846392865, 0.9995153806339534, 0.00024950458827607423, 0.9980764117252295, 0.00015120078953571119, 0.0004536023686071336, 0.0013608071058214006, 0.0051554355794446545, 0.9334371007959203, 0.042153267384871, 0.019408698652026934, 0.9990726025656004, 0.28222546414196886, 0.219859383893768, 0.32832812456853944, 0.16958060803842287, 0.971331841419701, 0.0002843269202838495, 0.017059615217030973, 0.011301995081283019, 0.03901476416273108, 0.5227736820318889, 0.3854771435438466, 0.05274441801153531, 0.998981477255938, 0.0005796237175839501, 0.00028981185879197504, 0.9602868458470372, 0.039128835823987934, 0.033350706977535186, 0.6214191422065766, 0.30413789777716294, 0.04109971591583283, 0.010957731600607278, 0.15512549885337318, 0.7835595835598427, 0.0503728557162245, 0.997644569139399, 0.001305817498873559, 0.000389616126120268, 0.002337696756721608, 0.997417282867886, 0.9988986511820683, 0.0011973128926517146, 0.25302912386287024, 0.7259497117551448, 0.019823180373075754, 0.016954097967995983, 0.06361318841741825, 0.41124283883620255, 0.5081637655532463, 0.9980500529588466, 0.9981600874758582, 0.00535143931047034, 0.6342816118325268, 0.27237919066682087, 0.08807199271977457, 0.0016893502626274394, 0.03586620557578256, 0.9356401454551971, 0.026639754141432697, 0.01532205859335601, 0.2390413905142462, 0.655760352666035, 0.08988077218540903, 0.8510444026424092, 0.017158984383623288, 0.10604561519968989, 0.02581576929788369, 0.0013827337818881854, 0.99833379052327, 0.17673653547224039, 0.058012157253582296, 0.4646574372219143, 0.30059215510112264, 0.9997700216163512, 0.0001263931759312707, 0.0001263931759312707, 0.00887830352746339, 0.0018368903849924252, 0.9888593239209222, 0.017039701378925236, 0.011359800919283491, 0.9715785286242742, 0.9996928086783501, 0.9997963184589606, 0.0395749331329291, 0.4628857056306876, 0.45259365916113364, 0.04495902861700182, 0.022808752690058713, 0.9773550527690158, 0.9996864314163346, 0.9981329415598297, 0.11618683180811151, 0.037880999423396663, 0.2015379770782873, 0.6443972757387911, 0.9985191556406273, 0.998414380416857, 0.0013658199458506937, 0.007088005826682802, 0.7625512935206248, 0.2274068536060732, 0.002953335761117834, 0.04883997757026812, 0.307333895001662, 0.4645682203822491, 0.17927606224588377, 0.0004923346936142379, 0.04929768693015608, 0.11559162371812541, 0.8346143349573536, 0.9990721945926949, 0.00019385869552134143, 0.015508695641707315, 0.0029078804328201216, 0.981700434120073, 0.025241075361772437, 0.018959103691017415, 0.8673648452792027, 0.08845695244495587, 0.9983474590839001, 0.0011043666582786506, 0.9909364909174517, 0.008072802369999606, 0.4198172280297694, 0.32860395038865087, 0.19553292915688317, 0.05604647566815653, 0.04643488557529549, 0.14936247751021797, 0.42585273864407064, 0.3783583269098151, 0.9996811836138166, 0.010195904798472866, 0.9768120097145635, 0.013077356154563024, 0.0010813472720932844, 0.8647173685839298, 0.05442781269536198, 0.08001969813490305, 0.09729551224006243, 0.18689885791413702, 0.5280568399353816, 0.18774083830852217, 0.021876896023667203, 0.9779299043415414, 0.04058916004699949, 0.24998667496611837, 0.6601333677759621, 0.04929275801487208, 0.032988456023117875, 0.19930658832977813, 0.4324975364349994, 0.3352119879012555, 0.01199625437251187, 0.06479637742384439, 0.8217641792824135, 0.10144929303259173, 0.0017948362409025735, 0.06874222802656857, 0.9178792535975762, 0.011666435565866728, 0.1056101937230074, 0.10217625903338025, 0.5017553130929117, 0.29045475596542697, 0.0012776932066209433, 0.9978783943709567, 0.00038778023141579007, 0.15616463890873034, 0.8062504982893441, 0.03722690221591585, 0.9990725828557834, 0.00433688458047858, 0.2583393722672459, 0.726554484256778, 0.010779052937888509, 0.9988778486027712, 0.019571104799652298, 0.23535659917161292, 0.5726941493743943, 0.17237968554247457, 0.9993846345613012, 0.9990717507165165, 0.041965464928926784, 0.13739647864335056, 0.6606362353350749, 0.15998894167208938, 0.9510419038358094, 0.0006091541417683327, 0.014162833796113735, 0.03411263193902663, 0.9985265329038183, 0.999894556781876, 0.999798159893843, 0.9975209585238065, 0.000560825126606338, 0.0018694170886877932, 0.00018694170886877933, 0.9972930096258601, 0.0023887257715589465, 0.028996957141070305, 0.023754113708053422, 0.1613989186071813, 0.7858619010443616, 0.07606470906281426, 0.6078586960626134, 0.10214134818459587, 0.2139790639848723, 0.4766497462714884, 0.06588452097392425, 0.3909173257558751, 0.06655987483356583, 0.9985867123635418, 0.9996466596889426, 0.9997672312756138, 0.0001336587207587719, 0.0001336587207587719, 0.9994788227412066, 0.03412774556470967, 0.2144824807711501, 0.6020165132734935, 0.14937321340891527, 0.03768718525064823, 0.09919199253132324, 0.7172618306419541, 0.14584261643617968, 0.0001354862093210182, 0.014442829913620543, 0.034196719232624996, 0.9512215784010047, 0.01974081951624863, 0.24548106650634569, 0.6915509856103701, 0.043215454282505755, 0.022978241443745922, 0.1858469094118872, 0.6897486704219371, 0.10143647789142779, 0.15014495118784657, 0.16287316002250132, 0.5081180127503794, 0.17886154018714542, 0.0010549458611629268, 0.0010549458611629268, 0.004219783444651707, 0.993759001215477, 0.008676647710984812, 0.23145332069795474, 0.6138746079366683, 0.1459915490368414, 0.0017780935502036191, 0.09334991138569, 0.8569299603512567, 0.04789739500860999, 0.08516357658016804, 0.22463470317117007, 0.48078570707593965, 0.20942481617291217, 0.0017757215433896534, 0.22516731373965523, 0.7608821262478486, 0.01216805910060451, 0.08248573378010514, 0.21180488540045664, 0.5535203379908462, 0.15218350071605435, 0.007814815469609023, 0.9917711268703815], \"Term\": [\"accelerate\", \"accelerate\", \"accelerate\", \"accelerate\", \"accord\", \"accord\", \"accord\", \"accord\", \"accounting_market\", \"additional_share\", \"additional_share\", \"admit\", \"admit\", \"admit\", \"admit\", \"aforementioned_exchange\", \"agoinvestor_business\", \"agoinvestor_business\", \"agomore_storie\", \"agomore_storie\", \"agomore_storie\", \"agree\", \"agree\", \"agree\", \"agree\", \"agriculture_market\", \"ai\", \"ai\", \"ai\", \"ai\", \"ai_race_sparke\", \"ai_solution\", \"ai_solution\", \"ai_solution\", \"ai_solution\", \"ai_stock\", \"also\", \"also\", \"also\", \"also\", \"analysis\", \"analysis\", \"analysis\", \"analysis\", \"analysis_forecast\", \"analysts_recommendation\", \"analysts_recommendation\", \"analytics_degreespublic\", \"answer\", \"answer\", \"answer\", \"answer\", \"application\", \"application\", \"application\", \"application\", \"artificial_intelligence\", \"artificial_intelligence\", \"artificial_intelligence\", \"artificial_intelligence\", \"automatically_post\", \"automatically_post\", \"automotive_artificial_intelligence\", \"aviation_market\", \"baby_bump\", \"back_digi_communications_report\", \"base\", \"base\", \"base\", \"base\", \"best_balance_transfer_credit\", \"best_balance_transfer_credit\", \"beverly_hill\", \"beverly_hill\", \"bfsi_market\", \"big_tech\", \"big_tech\", \"big_tech\", \"bikini\", \"bikini\", \"bing\", \"bing\", \"bing\", \"blog_post\", \"blog_post\", \"blog_post\", \"blog_post\", \"brain\", \"brain\", \"brain\", \"brain\", \"burch_dr_martens_dell\", \"burch_dr_martens_dell\", \"business\", \"business\", \"business\", \"business\", \"business_degreesdata\", \"buy_back_digi_communication\", \"cagr\", \"cagr\", \"cagr\", \"cagr\", \"campusbecome_blogteache\", \"cancer\", \"cancer\", \"cancer\", \"cancer\", \"capability\", \"capability\", \"capability\", \"capability\", \"cards_best_cash_back\", \"cards_best_cash_back\", \"careerprepare\", \"cdt_update\", \"cdt_update\", \"cdt_update\", \"cell\", \"cell\", \"cell\", \"cell\", \"chat_gpt\", \"chat_gpt\", \"chatbot\", \"chatbot\", \"chatbot\", \"chatbot\", \"chatgpt\", \"chatgpt\", \"chatgpt\", \"chatgpt\", \"clicking_heremore\", \"clicking_heremore\", \"co_star\", \"com_term\", \"com_term\", \"com_term\", \"combination_thereof\", \"come\", \"come\", \"come\", \"come\", \"communications_announce\", \"communications_nv\", \"communications_nv_announces_investor\", \"communications_report\", \"company\", \"company\", \"company\", \"company\", \"company_financial_calendar\", \"compile_citation\", \"complete_hour\", \"concern\", \"concern\", \"concern\", \"concern\", \"cookie\", \"cookie\", \"cookie\", \"cookie\", \"cookie_set\", \"copilot\", \"copilot\", \"copilot\", \"course\", \"course\", \"course\", \"course\", \"covid\", \"covid\", \"covid\", \"covid\", \"create\", \"create\", \"create\", \"create\", \"crop_top\", \"customer\", \"customer\", \"customer\", \"customer\", \"cybersecurity_sql\", \"data_science_platform\", \"data_science_platform\", \"data_science_platform\", \"datum\", \"datum\", \"datum\", \"datum\", \"day\", \"day\", \"day\", \"day\", \"ddn\", \"death\", \"death\", \"death\", \"death\", \"decentralized_machine_learne\", \"depth_analysis\", \"depth_analysis\", \"depth_analysis\", \"depth_analysis\", \"development\", \"development\", \"development\", \"development\", \"die\", \"die\", \"die\", \"die\", \"differ_materially\", \"differ_materially\", \"digi_communication\", \"digi_communications_nv_announce\", \"digi_communications_report\", \"digi_symbol\", \"disease\", \"disease\", \"disease\", \"disease\", \"dismiss_notification\", \"displayedwill\", \"distribution_level\", \"doctor\", \"doctor\", \"doctor\", \"doctor\", \"dollar\", \"dollar\", \"dollar\", \"dollar\", \"dress\", \"dress\", \"dress\", \"dress\", \"drug\", \"drug\", \"drug\", \"drug\", \"duchess\", \"duchess\", \"earn_affiliate\", \"earn_affiliate\", \"endorse\", \"endorse\", \"endorse\", \"endorse\", \"etc_global\", \"european_union_please_review\", \"even\", \"even\", \"even\", \"even\", \"example\", \"example\", \"example\", \"example\", \"exchanges_liste\", \"expect\", \"expect\", \"expect\", \"expect\", \"experience\", \"experience\", \"experience\", \"experience\", \"facebook_open\", \"facebook_open\", \"facebook_timeline\", \"facebook_timeline\", \"fan\", \"fan\", \"fan\", \"fan\", \"film\", \"film\", \"film\", \"film\", \"financial_results_notification_share\", \"find\", \"find\", \"find\", \"find\", \"first_trust_nasdaq_artificial\", \"fiscal_year\", \"fiscal_year\", \"fiscal_year\", \"fiscal_year\", \"forbesreport_security\", \"forbesreport_security\", \"forecast\", \"forecast\", \"forecast\", \"forecast\", \"forecast_artificial_intelligence\", \"forecast_period\", \"forecast_period\", \"forecast_period\", \"forward_looking_statement\", \"forward_looking_statement\", \"forward_looking_statement\", \"forward_looking_statements_containe\", \"fusing_chatgpt\", \"gene\", \"gene\", \"gene\", \"gene\", \"get\", \"get\", \"get\", \"get\", \"global\", \"global\", \"global\", \"global\", \"global_artificial_intelligence\", \"global_artificial_intelligence\", \"global_artificial_intelligence\", \"global_industry\", \"global_industry\", \"global_industry\", \"global_industry\", \"global_machine_learne\", \"global_market\", \"global_market\", \"global_market\", \"global_market\", \"go\", \"go\", \"go\", \"go\", \"google_cloud_certification_cloud\", \"gown\", \"gown\", \"gown\", \"gown\", \"gpt\", \"gpt\", \"gpt\", \"gpt\", \"grand_duchy\", \"gray_media_group\", \"gray_media_group\", \"gray_media_group\", \"gray_media_group\", \"gray_media_group_inc\", \"gray_media_group_inc\", \"gray_media_group_inc\", \"gray_television_inc\", \"gray_television_inc\", \"gray_television_inc\", \"gray_television_inc\", \"great_nation\", \"group_inc_station_gray\", \"group_inc_station_gray\", \"group_inc_station_gray\", \"group_inc_station_gray\", \"growth\", \"growth\", \"growth\", \"growth\", \"growth_analysis\", \"growth_analysis\", \"growth_forecast\", \"growth_forecast\", \"growth_forecast\", \"growth_rate\", \"growth_rate\", \"growth_rate\", \"growth_rate\", \"growth_trend\", \"growth_trend\", \"growth_trend\", \"harry_style\", \"harry_style\", \"headquarter\", \"headquarter\", \"headquarter\", \"headquarter\", \"health\", \"health\", \"health\", \"health\", \"health_degreessocial\", \"healthcare_market\", \"healthcare_market\", \"healthcare_market\", \"healthcare_market\", \"help\", \"help\", \"help\", \"help\", \"helpful_filled_starfilled_starfille\", \"hospital\", \"hospital\", \"hospital\", \"hospital\", \"however\", \"however\", \"however\", \"however\", \"image\", \"image\", \"image\", \"image\", \"image_generator\", \"image_generator\", \"images_gifs_inappropriate_language\", \"images_gifs_inappropriate_language\", \"images_gifs_inappropriate_language\", \"images_gifs_inappropriate_language\", \"impact\", \"impact\", \"impact\", \"impact\", \"include\", \"include\", \"include\", \"include\", \"industry\", \"industry\", \"industry\", \"industry\", \"industry_analysis\", \"industry_analysis\", \"industry_analysis\", \"industry_analysis\", \"industry_size\", \"infection\", \"infection\", \"infection\", \"infection\", \"information\", \"information\", \"information\", \"information\", \"itunes_play\", \"job\", \"job\", \"job\", \"job\", \"key_player\", \"key_player\", \"key_player\", \"key_player\", \"key_vendor\", \"kim_kardashian\", \"kim_kardashian\", \"kiss\", \"kiss\", \"know\", \"know\", \"know\", \"know\", \"lamda\", \"lamda\", \"lamda\", \"leading_player\", \"leading_player\", \"leading_player\", \"leading_provider\", \"leading_provider\", \"leading_provider\", \"leading_provider\", \"least_minute\", \"least_minute\", \"legal_act\", \"leggy_display\", \"let_u\", \"let_u\", \"life\", \"life\", \"life\", \"life\", \"lisk_machine_learning\", \"looking_statement\", \"looking_statement\", \"lung\", \"lung\", \"lung\", \"lung\", \"machine_learning_service_market\", \"mailonline_comment\", \"make\", \"make\", \"make\", \"make\", \"manufacturing_market\", \"market\", \"market\", \"market\", \"market\", \"market_analysis\", \"market_analysis\", \"market_analysis\", \"market_forecast\", \"market_forecast\", \"market_overview\", \"market_player\", \"market_player\", \"market_player\", \"market_report\", \"market_report\", \"market_report\", \"market_report\", \"market_research\", \"market_research\", \"market_research\", \"market_research\", \"market_research_report\", \"market_research_report\", \"market_segmentation\", \"market_segmente\", \"market_segmente\", \"market_size\", \"market_size\", \"market_size\", \"market_size\", \"market_trend\", \"market_trend\", \"market_trend\", \"may_unsubscribe\", \"may_unsubscribe\", \"media_group_inc_station\", \"media_group_inc_station\", \"media_group_inc_station\", \"media_group_inc_station\", \"microsoft_ceo_satya_nadella\", \"minor_outlye\", \"model\", \"model\", \"model\", \"model\", \"molecule\", \"molecule\", \"molecule\", \"molecule\", \"moneyall_moneybanke\", \"moneyall_moneybanke\", \"mono_solution\", \"month_end\", \"motley_fool\", \"motley_fool\", \"nav\", \"nav\", \"necessarily_state\", \"necessarily_state\", \"necessarily_state\", \"necessarily_state\", \"need\", \"need\", \"need\", \"need\", \"new\", \"new\", \"new\", \"new\", \"new_be\", \"new_be\", \"new_window\", \"new_window\", \"notification_shares_buy_back\", \"ofdominican_republichaiti\", \"ofkiribati_republic\", \"ofkorea_democratic\", \"ofkuwait_state\", \"often_indicates_user_profile\", \"openai\", \"openai\", \"openai\", \"openai_chatgpt\", \"openai_chatgpt\", \"openai_chatgpt\", \"opportunity\", \"opportunity\", \"opportunity\", \"opportunity\", \"organisation\", \"organisation\", \"organisation\", \"organisation\", \"outsmart\", \"partner\", \"partner\", \"partner\", \"partner\", \"partnership\", \"partnership\", \"partnership\", \"partnership\", \"patient\", \"patient\", \"patient\", \"patient\", \"people\", \"people\", \"people\", \"people\", \"people_democratic\", \"person_head\", \"platform\", \"platform\", \"platform\", \"platform\", \"player\", \"player\", \"player\", \"player\", \"polite_inappropriate\", \"polite_inappropriate\", \"polite_inappropriate\", \"polite_inappropriate\", \"pose\", \"pose\", \"pose\", \"pose\", \"power\", \"power\", \"power\", \"power\", \"press_release\", \"press_release\", \"press_release\", \"press_release\", \"prince_harry\", \"prince_harry\", \"prnewswire\", \"prnewswire\", \"prnewswire\", \"prnewswire\", \"product\", \"product\", \"product\", \"product\", \"product_hunt\", \"product_hunt\", \"product_type\", \"product_type\", \"prompt\", \"prompt\", \"prompt\", \"prompt\", \"properties_residential_real_estate\", \"properties_residential_real_estate\", \"protein\", \"protein\", \"protein\", \"protein\", \"provide\", \"provide\", \"provide\", \"provide\", \"provided_courtesy\", \"provided_courtesy\", \"provided_courtesy\", \"provided_courtesy\", \"public_inspection\", \"public_inspection\", \"public_inspection\", \"question\", \"question\", \"question\", \"question\", \"rcs_rd\", \"real_estate_forbes_global\", \"real_estate_forbes_global\", \"real_housewive\", \"realized_capital\", \"receive_newsletter\", \"receive_newsletter\", \"reflect\", \"reflect\", \"reflect\", \"reflect\", \"region\", \"region\", \"region\", \"region\", \"regional_analysis\", \"reinvestment\", \"report\", \"report\", \"report\", \"report\", \"report_include\", \"report_include\", \"report_include\", \"report_include\", \"report_offer\", \"report_offer\", \"report_provide\", \"report_provide\", \"report_provide\", \"report_provide\", \"republic\", \"republic\", \"republic\", \"republic\", \"republic_hellenic\", \"research\", \"research\", \"research\", \"research\", \"research_report\", \"research_report\", \"research_report\", \"research_report\", \"researcher\", \"researcher\", \"researcher\", \"researcher\", \"retail_market\", \"retail_market\", \"retail_market\", \"reunite\", \"reunite\", \"reveal\", \"reveal\", \"reveal\", \"reveal\", \"right\", \"right\", \"right\", \"right\", \"rights_sign\", \"rights_sign\", \"risks_uncertaintie\", \"risks_uncertaintie\", \"risks_uncertaintie\", \"sales_teamsproduct_manager_skillsskill\", \"say\", \"say\", \"say\", \"say\", \"scale\", \"scale\", \"scale\", \"scale\", \"science_course\", \"science_degreesdata\", \"scientist\", \"scientist\", \"scientist\", \"scientist\", \"search_engine\", \"search_engine\", \"search_engine\", \"search_engine\", \"see\", \"see\", \"see\", \"see\", \"segment\", \"segment\", \"segment\", \"segment\", \"sermon\", \"sermon\", \"service\", \"service\", \"service\", \"service\", \"service_market\", \"service_market\", \"service_market\", \"serviceprivacy_policyeeo_captioning_audio\", \"serviceprivacy_policyeeo_captioning_audio\", \"serviceprivacy_policyeeo_captioning_audio\", \"serviceprivacy_policyeeo_statementfcc_captione\", \"serviceprivacy_policyeeo_statementfcc_captione\", \"serviceprivacy_policyeeo_statementfcc_captione\", \"share_growth\", \"shares_buy_back_digi\", \"show\", \"show\", \"show\", \"show\", \"site_constitute\", \"site_constitute\", \"size_share\", \"skillsskill\", \"solution\", \"solution\", \"solution\", \"solution\", \"spain_notification_shares_buy\", \"stand_today\", \"stand_today\", \"star\", \"star\", \"star\", \"star\", \"state\", \"state\", \"state\", \"state\", \"statement\", \"statement\", \"statement\", \"statement\", \"statesbahamas_commonwealth\", \"station_gray_television_inc\", \"station_gray_television_inc\", \"station_gray_television_inc\", \"station_gray_television_inc\", \"stock\", \"stock\", \"stock\", \"stock\", \"stories_dark_capital_editor\", \"stories_dark_capital_editor\", \"stroll\", \"stroll\", \"study\", \"study\", \"study\", \"study\", \"support\", \"support\", \"support\", \"support\", \"swot_analysis\", \"symbol\", \"symbol\", \"symbol\", \"symptom\", \"symptom\", \"symptom\", \"symptom\", \"system\", \"system\", \"system\", \"system\", \"tab\", \"tab\", \"take\", \"take\", \"take\", \"take\", \"team\", \"team\", \"team\", \"team\", \"tech\", \"tech\", \"tech\", \"tech\", \"tech_giant\", \"tech_giant\", \"tech_giant\", \"tech_giant\", \"technology\", \"technology\", \"technology\", \"technology\", \"temporarily_blocke\", \"temporarily_blocke\", \"text\", \"text\", \"text\", \"text\", \"thenigeria_federal\", \"think\", \"think\", \"think\", \"think\", \"three_stooge\", \"time\", \"time\", \"time\", \"time\", \"times_syndication\", \"tobago_republic\", \"tool\", \"tool\", \"tool\", \"tool\", \"top_companie\", \"top_companie\", \"top_companie\", \"top_companie\", \"top_european\", \"top_key_player\", \"top_manufacturer\", \"top_player\", \"top_player\", \"top_player\", \"top_player\", \"total_return\", \"total_return\", \"trade\", \"trade\", \"trade\", \"trade\", \"treatment\", \"treatment\", \"treatment\", \"treatment\", \"trend\", \"trend\", \"trend\", \"trend\", \"truly_claim\", \"two_crosse\", \"type_application\", \"type_application\", \"type_application\", \"union_speeche\", \"use\", \"use\", \"use\", \"use\", \"user\", \"user\", \"user\", \"user\", \"views_opinion\", \"views_opinion\", \"views_opinion\", \"views_opinion\", \"want\", \"want\", \"want\", \"want\", \"way\", \"way\", \"way\", \"way\", \"well\", \"well\", \"well\", \"well\", \"western_nj_including_allentown\", \"western_nj_including_allentown\", \"western_nj_including_allentown\", \"western_nj_including_allentown\", \"work\", \"work\", \"work\", \"work\", \"worker\", \"worker\", \"worker\", \"worker\", \"world\", \"world\", \"world\", \"world\", \"write\", \"write\", \"write\", \"write\", \"year\", \"year\", \"year\", \"year\", \"yearhttpsto_track\", \"yearhttpsto_track\"]}, \"R\": 30, \"lambda.step\": 0.01, \"plot.opts\": {\"xlab\": \"PC1\", \"ylab\": \"PC2\"}, \"topic.order\": [1, 2, 3, 4]};\n",
       "\n",
       "function LDAvis_load_lib(url, callback){\n",
       "  var s = document.createElement('script');\n",
       "  s.src = url;\n",
       "  s.async = true;\n",
       "  s.onreadystatechange = s.onload = callback;\n",
       "  s.onerror = function(){console.warn(\"failed to load library \" + url);};\n",
       "  document.getElementsByTagName(\"head\")[0].appendChild(s);\n",
       "}\n",
       "\n",
       "if(typeof(LDAvis) !== \"undefined\"){\n",
       "   // already loaded: just create the visualization\n",
       "   !function(LDAvis){\n",
       "       new LDAvis(\"#\" + \"ldavis_el871405056630571208495819006\", ldavis_el871405056630571208495819006_data);\n",
       "   }(LDAvis);\n",
       "}else if(typeof define === \"function\" && define.amd){\n",
       "   // require.js is available: use it to load d3/LDAvis\n",
       "   require.config({paths: {d3: \"https://d3js.org/d3.v5\"}});\n",
       "   require([\"d3\"], function(d3){\n",
       "      window.d3 = d3;\n",
       "      LDAvis_load_lib(\"https://cdn.jsdelivr.net/gh/bmabey/pyLDAvis@3.2.2/pyLDAvis/js/ldavis.v3.0.0.js\", function(){\n",
       "        new LDAvis(\"#\" + \"ldavis_el871405056630571208495819006\", ldavis_el871405056630571208495819006_data);\n",
       "      });\n",
       "    });\n",
       "}else{\n",
       "    // require.js not available: dynamically load d3 & LDAvis\n",
       "    LDAvis_load_lib(\"https://d3js.org/d3.v5.js\", function(){\n",
       "         LDAvis_load_lib(\"https://cdn.jsdelivr.net/gh/bmabey/pyLDAvis@3.2.2/pyLDAvis/js/ldavis.v3.0.0.js\", function(){\n",
       "                 new LDAvis(\"#\" + \"ldavis_el871405056630571208495819006\", ldavis_el871405056630571208495819006_data);\n",
       "            })\n",
       "         });\n",
       "}\n",
       "</script>"
      ],
      "text/plain": [
       "<IPython.core.display.HTML object>"
      ]
     },
     "execution_count": 27,
     "metadata": {},
     "output_type": "execute_result"
    }
   ],
   "source": [
    "%%time\n",
    "\n",
    "lda_display = gensimvis.prepare(tuned_lda_model, doc_term_matrix, dictionary, sort_topics=False, mds='mmds')\n",
    "pyLDAvis.display(lda_display)"
   ]
  },
  {
   "cell_type": "code",
   "execution_count": 1,
   "id": "0a322af1",
   "metadata": {},
   "outputs": [],
   "source": [
    "list1 = ['ai','use','say','company','technology','make','datum','work','new','need','also','chatgpt','see','get','time','business','people','go','system','create','way','year','help','include','well','take','tool','come','know']\n",
    "list2= ['ai','use','say','make','work','new','show','get','time','people','technology','see','datum','need','world','year','model','take','patient','system','go','know','also','study','find','help','research','well','image']\n",
    "list3 = ['ai','company','press_release','technology','solution','use','datum','statement','platform','prnewswire','reflect','views_opinion','endorse','gray_media_group','provided_courtesy','necessarily_state','customer','new','service','provide','market','industry','support','base','product','information','power','make','business']\n",
    "list4 = ['ai','use','say','company','technology','make','datum','work','new','need','also','chatgpt','see','get','time','business','people','go','system','create','way','year','help','include','well','take','tool','come','know']\n",
    " "
   ]
  },
  {
   "attachments": {},
   "cell_type": "markdown",
   "id": "a0f7e4ab-2938-4aba-9749-7ac03a7e644d",
   "metadata": {},
   "source": [
    "#### Ktrain Topic Modelling"
   ]
  },
  {
   "cell_type": "code",
   "execution_count": 30,
   "id": "9c7e47c0-cc76-4697-8356-7b0c64624ed7",
   "metadata": {
    "tags": []
   },
   "outputs": [],
   "source": [
    "# !pip install bokeh --upgrade\n",
    "# !pip install ktrain --upgrade"
   ]
  },
  {
   "cell_type": "code",
   "execution_count": 13,
   "id": "3fb00dc9-43cb-47c2-b277-b810ea2295ca",
   "metadata": {
    "tags": []
   },
   "outputs": [
    {
     "name": "stdout",
     "output_type": "stream",
     "text": [
      "Bokeh Version: 3.1.1\n"
     ]
    }
   ],
   "source": [
    "import bokeh\n",
    "\n",
    "print('Bokeh Version: ' + bokeh.__version__)"
   ]
  },
  {
   "cell_type": "code",
   "execution_count": 14,
   "id": "9b192937-400b-44a4-af4a-de729ae60a24",
   "metadata": {
    "tags": []
   },
   "outputs": [
    {
     "name": "stdout",
     "output_type": "stream",
     "text": [
      "Ktrain Version: 0.37.0\n"
     ]
    }
   ],
   "source": [
    "import ktrain\n",
    "\n",
    "print('Ktrain Version: ' + ktrain.__version__)"
   ]
  },
  {
   "cell_type": "code",
   "execution_count": 16,
   "id": "4253a57c-426a-44a3-aa03-38a32a839b3a",
   "metadata": {
    "tags": []
   },
   "outputs": [],
   "source": [
    "texts = df_filtered_keywords['clean_text'].tolist()\n",
    "# texts[:5]"
   ]
  },
  {
   "cell_type": "code",
   "execution_count": 17,
   "id": "6c93540c-77e0-4ef0-9070-aa41f53e3666",
   "metadata": {
    "tags": []
   },
   "outputs": [
    {
     "name": "stdout",
     "output_type": "stream",
     "text": [
      "lang: en\n",
      "preprocessing texts...\n",
      "fitting model...\n",
      "iteration: 1 of max_iter: 5\n",
      "iteration: 2 of max_iter: 5\n",
      "iteration: 3 of max_iter: 5\n",
      "iteration: 4 of max_iter: 5\n",
      "iteration: 5 of max_iter: 5\n",
      "done.\n",
      "CPU times: user 1h 16min 32s, sys: 1h 59min 7s, total: 3h 15min 40s\n",
      "Wall time: 27min 50s\n"
     ]
    }
   ],
   "source": [
    "%%time\n",
    "tm = ktrain.text.get_topic_model(\n",
    "    texts=texts, \n",
    "    n_topics=20, \n",
    "    n_features=10000, \n",
    "    min_df=5, \n",
    "    max_df=0.5, \n",
    "    stop_words='english', \n",
    "    model_type='lda', \n",
    "    lda_max_iter=5, \n",
    "    verbose=1)"
   ]
  },
  {
   "cell_type": "code",
   "execution_count": 29,
   "id": "9bbfc762-5a2e-412c-84ac-b592ff88c888",
   "metadata": {
    "tags": []
   },
   "outputs": [
    {
     "name": "stdout",
     "output_type": "stream",
     "text": [
      "Topic model result saved to: topic_model.pkl\n"
     ]
    }
   ],
   "source": [
    "# Save the result\n",
    "output_file = \"topic_model.pkl\"\n",
    "tm.save(output_file)\n",
    "print(\"Topic model result saved to:\", output_file)"
   ]
  },
  {
   "cell_type": "code",
   "execution_count": 18,
   "id": "b27d6185-294a-4342-a058-74e366830bb4",
   "metadata": {
    "tags": []
   },
   "outputs": [
    {
     "name": "stdout",
     "output_type": "stream",
     "text": [
      "topic 0 | research science development industry companies innovation technologies university global work\n",
      "topic 1 | security statements risk forward-looking financial cyber risks future including cybersecurity\n",
      "topic 2 | images image content art media music people social like users\n",
      "topic 3 | digi republic communications reports market shares transactions regulated notification symbol\n",
      "topic 4 | customer customers experience platform digital best marketing companies service businesses\n",
      "topic 5 | edge nvidia vision computing applications software systems solutions cloud performance\n",
      "topic 6 | like human people time make just way used work says\n",
      "topic 7 | learning machine models model science cloud deep using analytics btc\n",
      "topic 8 | health medical patients care clinical healthcare patient cancer drug disease\n",
      "topic 9 | people state rights privacy law work public government police systems\n",
      "topic 10 | china energy military chinese global oil air international companies defense\n",
      "topic 11 | best tech app apple insurance google mobile online car video\n",
      "topic 12 | stock investment fund shares investors stocks dollar nasdaq million traded\n",
      "topic 13 | ibm africa digital die und legal pathology sports sie partnership\n",
      "topic 14 | market report analysis global growth key industry forecast research players\n",
      "topic 15 | gray group media release press platform prnewswire solutions television com\n",
      "topic 16 | chatgpt google openai microsoft chatbot search language generative text users\n",
      "topic 17 | market growth global healthcare services research industry forecast expected demand\n",
      "topic 18 | news india students education share read course science online indian\n",
      "topic 19 | star says reveals day shows black home family love years\n"
     ]
    }
   ],
   "source": [
    "tm.print_topics()"
   ]
  },
  {
   "cell_type": "code",
   "execution_count": 20,
   "id": "6f88eb39-aa9f-43aa-a582-631a1a606373",
   "metadata": {
    "tags": []
   },
   "outputs": [
    {
     "name": "stdout",
     "output_type": "stream",
     "text": [
      "done.\n",
      "CPU times: user 12min 16s, sys: 16min 18s, total: 28min 35s\n",
      "Wall time: 5min 42s\n"
     ]
    }
   ],
   "source": [
    "%%time\n",
    "tm.build(texts, threshold=0.25)"
   ]
  },
  {
   "cell_type": "code",
   "execution_count": 21,
   "id": "d8edcf7c-6fa5-44fa-8b96-dc17f671c3b4",
   "metadata": {
    "tags": []
   },
   "outputs": [
    {
     "name": "stdout",
     "output_type": "stream",
     "text": [
      "topic:6 | count:16296 | like human people time make just way used work says\n",
      "topic:14 | count:15545 | market report analysis global growth key industry forecast research players\n",
      "topic:15 | count:15145 | gray group media release press platform prnewswire solutions television com\n",
      "topic:4 | count:11531 | customer customers experience platform digital best marketing companies service businesses\n",
      "topic:8 | count:10427 | health medical patients care clinical healthcare patient cancer drug disease\n",
      "topic:16 | count:9860 | chatgpt google openai microsoft chatbot search language generative text users\n",
      "topic:0 | count:9805 | research science development industry companies innovation technologies university global work\n",
      "topic:9 | count:9700 | people state rights privacy law work public government police systems\n",
      "topic:5 | count:7597 | edge nvidia vision computing applications software systems solutions cloud performance\n",
      "topic:18 | count:6069 | news india students education share read course science online indian\n",
      "topic:12 | count:5607 | stock investment fund shares investors stocks dollar nasdaq million traded\n",
      "topic:2 | count:5257 | images image content art media music people social like users\n",
      "topic:10 | count:4900 | china energy military chinese global oil air international companies defense\n",
      "topic:11 | count:4828 | best tech app apple insurance google mobile online car video\n",
      "topic:1 | count:4443 | security statements risk forward-looking financial cyber risks future including cybersecurity\n",
      "topic:17 | count:3323 | market growth global healthcare services research industry forecast expected demand\n",
      "topic:19 | count:2537 | star says reveals day shows black home family love years\n",
      "topic:3 | count:1402 | digi republic communications reports market shares transactions regulated notification symbol\n",
      "topic:7 | count:1291 | learning machine models model science cloud deep using analytics btc\n",
      "topic:13 | count:1100 | ibm africa digital die und legal pathology sports sie partnership\n"
     ]
    }
   ],
   "source": [
    "tm.print_topics(show_counts=True)"
   ]
  }
 ],
 "metadata": {
  "kernelspec": {
   "display_name": "Python 3 (ipykernel)",
   "language": "python",
   "name": "python3"
  },
  "language_info": {
   "codemirror_mode": {
    "name": "ipython",
    "version": 3
   },
   "file_extension": ".py",
   "mimetype": "text/x-python",
   "name": "python",
   "nbconvert_exporter": "python",
   "pygments_lexer": "ipython3",
   "version": "3.9.2"
  }
 },
 "nbformat": 4,
 "nbformat_minor": 5
}
